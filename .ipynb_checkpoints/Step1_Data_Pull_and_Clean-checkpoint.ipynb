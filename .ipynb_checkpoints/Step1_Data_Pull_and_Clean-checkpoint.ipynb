{
 "cells": [
  {
   "cell_type": "markdown",
   "metadata": {},
   "source": [
    "### Imported Libraries"
   ]
  },
  {
   "cell_type": "code",
   "execution_count": 1,
   "metadata": {},
   "outputs": [],
   "source": [
    "import os\n",
    "import math\n",
    "import pickle\n",
    "import numpy as np\n",
    "import pandas as pd\n",
    "from os import listdir\n",
    "from os.path import isfile, join\n",
    "\n",
    "import pymatgen as mg\n",
    "from pymatgen import MPRester\n",
    "from pymatgen.io.cif import CifParser\n",
    "from pymatgen.io import ase\n",
    "from pymatgen.transformations.standard_transformations import OxidationStateDecorationTransformation\n",
    "from pymatgen.transformations.standard_transformations import AutoOxiStateDecorationTransformation\n",
    "from pymatgen.symmetry.groups import *\n",
    "from pymatgen.symmetry.analyzer import SpacegroupAnalyzer\n",
    "\n",
    "from ase import atoms\n",
    "from ase.io import read, write\n",
    "\n",
    "from pprint import pprint\n",
    "from tqdm import notebook as tqdm\n",
    "from tqdm.auto import tqdm as tqdm_pandas\n",
    "tqdm_pandas.pandas()\n",
    "# import swifter"
   ]
  },
  {
   "cell_type": "markdown",
   "metadata": {},
   "source": [
    "### API KEY for Materials Project\n",
    "\n",
    "__To run the notebook, a Materials Project API key is required!__ API keys can be generated [here](https://materialsproject.org/open)."
   ]
  },
  {
   "cell_type": "code",
   "execution_count": 2,
   "metadata": {},
   "outputs": [],
   "source": [
    "mpr = MPRester(api_key='j8SaTa1mrbQZUJ2j')"
   ]
  },
  {
   "cell_type": "markdown",
   "metadata": {},
   "source": [
    "### 1a. Read in all Li-containing compounds from Materials Project\n",
    "Operations come from mongodb. The syntax can be found [here](https://docs.mongodb.com/manual/reference/operator/query/).\n",
    "\n",
    "Queryable parameters from Materials Project can be found [here](https://materialsproject.org/docs/api)."
   ]
  },
  {
   "cell_type": "code",
   "execution_count": 3,
   "metadata": {},
   "outputs": [
    {
     "data": {
      "application/vnd.jupyter.widget-view+json": {
       "model_id": "eae09aaad78f4878a7539978eca77baa",
       "version_major": 2,
       "version_minor": 0
      },
      "text/plain": [
       "  0%|          | 0/19472 [00:00<?, ?it/s]"
      ]
     },
     "metadata": {},
     "output_type": "display_data"
    }
   ],
   "source": [
    "data = mpr.query(criteria={\"elements\": {\"$in\": [\"Li\"]}, \"nelements\": {\"$gte\": 2}}, \n",
    "               properties=[\"icsd_ids\", \"cif\", \"material_id\", \"pretty_formula\", \"spacegroup.symbol\", \"structure\", \"band_gap\", \"e_above_hull\"])"
   ]
  },
  {
   "cell_type": "markdown",
   "metadata": {},
   "source": [
    "The MPRester query returns a list of dictionaries, where each dictionary contains the properties of interest. Most of the data cleaning can be handled using the [Python Materials Genomics (pymatgen) library](https://pymatgen.org/). However, some operations are more conveniently accomplished via the [Atomic Simulation Environment (ASE)](https://wiki.fysik.dtu.dk/ase/index.html). We'll make a redundant list which contains the structures as [ase.atoms.Atoms](https://wiki.fysik.dtu.dk/ase/ase/atoms.html) type.  "
   ]
  },
  {
   "cell_type": "code",
   "execution_count": 4,
   "metadata": {},
   "outputs": [
    {
     "data": {
      "application/vnd.jupyter.widget-view+json": {
       "model_id": "53750720a38c4daabe736c4a9db9783a",
       "version_major": 2,
       "version_minor": 0
      },
      "text/plain": [
       "  0%|          | 0/19472 [00:00<?, ?it/s]"
      ]
     },
     "metadata": {},
     "output_type": "display_data"
    }
   ],
   "source": [
    "AAA = ase.AseAtomsAdaptor\n",
    "pymatgen_structures = []\n",
    "ase_structures = []\n",
    "\n",
    "for material in tqdm.tqdm(data):\n",
    "    pymatgen_structures.append((material[\"structure\"], material[\"icsd_ids\"], material[\"material_id\"], material[\"pretty_formula\"], material[\"spacegroup.symbol\"], material[\"band_gap\"], material[\"e_above_hull\"]))\n",
    "    ase_structures.append(AAA.get_atoms(material[\"structure\"])) "
   ]
  },
  {
   "cell_type": "markdown",
   "metadata": {},
   "source": [
    "### 1b. Read in all Li-containing compounds from ICSD\n",
    "The ICSD Li-containing .cif files are contained in a seperate folder. Due to copyright, the cifs themselves are not shared in this data repository. The cifs have already been ordered using Pymatgen. Due to computational resources, about 10% of the cifs could not be ordered. "
   ]
  },
  {
   "cell_type": "code",
   "execution_count": 5,
   "metadata": {},
   "outputs": [
    {
     "data": {
      "application/vnd.jupyter.widget-view+json": {
       "model_id": "c2b038600d954a0db9e3f6bfa1a8b710",
       "version_major": 2,
       "version_minor": 0
      },
      "text/plain": [
       "  0%|          | 0/7905 [00:00<?, ?it/s]"
      ]
     },
     "metadata": {},
     "output_type": "display_data"
    },
    {
     "name": "stderr",
     "output_type": "stream",
     "text": [
      "/home/fall/anaconda3/envs/FALL2020/lib/python3.8/site-packages/pymatgen/io/cif.py:1123: UserWarning: Issues encountered while parsing CIF: Some fractional co-ordinates rounded to ideal values to avoid issues with finite precision.\n",
      "  warnings.warn(\"Issues encountered while parsing CIF: %s\" % \"\\n\".join(self.warnings))\n"
     ]
    }
   ],
   "source": [
    "path = os.path.join(os.getcwd(), 'Li Cifs sanitized3')\n",
    "\n",
    "# keep track of any errors here\n",
    "errors = []\n",
    "\n",
    "# all files in the directory are .cifs\n",
    "for filename in tqdm.tqdm(os.listdir(path)):\n",
    "    filepath = os.path.join(path, filename)\n",
    "    try: \n",
    "        # the ICSD tag is being grabbed with filename[:-4]\n",
    "        pymatgen_structures.append((CifParser(filepath).get_structures()[0], [int(filename[:-4])]))\n",
    "        ase_structures.append(read(filepath))\n",
    "    except:\n",
    "        errors.append(filepath)"
   ]
  },
  {
   "cell_type": "markdown",
   "metadata": {},
   "source": [
    "Remove files with errors after manually checking them. "
   ]
  },
  {
   "cell_type": "code",
   "execution_count": 6,
   "metadata": {},
   "outputs": [],
   "source": [
    "for item in errors[1:]:\n",
    "    os.remove(item)"
   ]
  },
  {
   "cell_type": "markdown",
   "metadata": {},
   "source": [
    "Check that the pymatgen_structures and ase_structures lists contain the same number of structures. "
   ]
  },
  {
   "cell_type": "code",
   "execution_count": 7,
   "metadata": {},
   "outputs": [
    {
     "data": {
      "text/plain": [
       "True"
      ]
     },
     "execution_count": 7,
     "metadata": {},
     "output_type": "execute_result"
    }
   ],
   "source": [
    "len(pymatgen_structures)==len(ase_structures)"
   ]
  },
  {
   "cell_type": "markdown",
   "metadata": {},
   "source": [
    "### 1c. Find all dupliciate ICSD IDs and Merge\n",
    "\n",
    "Some of the Materials Project entries point to ICSD IDs. To avoid having duplicate data, we'll find these IDs and merge them. The latest duplicate will become the master because this ensures that ICSD data (experimental) is conserved. "
   ]
  },
  {
   "cell_type": "code",
   "execution_count": 9,
   "metadata": {},
   "outputs": [
    {
     "data": {
      "application/vnd.jupyter.widget-view+json": {
       "model_id": "27c122920ed1432b8d667ea36816f756",
       "version_major": 2,
       "version_minor": 0
      },
      "text/plain": [
       "Finding duplicate ICSD_IDs:   0%|          | 0/27377 [00:00<?, ?it/s]"
      ]
     },
     "metadata": {},
     "output_type": "display_data"
    },
    {
     "name": "stdout",
     "output_type": "stream",
     "text": [
      "There are 3099 entries marked for deletion.\n"
     ]
    }
   ],
   "source": [
    "# list for IDs that will be deleted\n",
    "deletion_list = []\n",
    "# list for mapping the ICSD_IDs from Materials Project to those from the ICSD\n",
    "mapping_IDs = []\n",
    "\n",
    "# Loop over all the structures in pymatgen_structures\n",
    "for idx, val in enumerate(tqdm.tqdm(pymatgen_structures, desc='Finding duplicate ICSD_IDs')):\n",
    "    # Check all the ICSD IDs for each structures - there can and often are multiple listed IDs\n",
    "    for item in val[1]:\n",
    "        # Loop over all structures in pymatgen_structures\n",
    "        for edx, val2 in enumerate(pymatgen_structures):\n",
    "            # if the ICSD ID is in the list\n",
    "            if item in val2[1]:\n",
    "                # if the ICSD ID is a later entry then mark the earlier entry for deletion\n",
    "                if edx > idx:\n",
    "                    # mark the earlier entry for deletion\n",
    "                    deletion_list.append(idx)\n",
    "                    \n",
    "                    # preserve the associated Materials Project values in the mapping_IDs list\n",
    "                    # these vals are just the locations for ICSD_ID, MP_ID, spacegroup, bandgap, and Ehull\n",
    "                    mapping_IDs.append((val[1], val[2], val[4], val[5], val[6]))\n",
    "\n",
    "\n",
    "print('There are {} entries marked for deletion.'.format(len(deletion_list)))"
   ]
  },
  {
   "cell_type": "markdown",
   "metadata": {},
   "source": [
    "### 1d. Mark some additional boundary cases for deletion"
   ]
  },
  {
   "cell_type": "markdown",
   "metadata": {},
   "source": [
    "Structures that contain deuterium are not of interest. Find and mark for deletion. "
   ]
  },
  {
   "cell_type": "code",
   "execution_count": 10,
   "metadata": {},
   "outputs": [
    {
     "data": {
      "application/vnd.jupyter.widget-view+json": {
       "model_id": "8329d879f3bd481b9ffc3a66c7280969",
       "version_major": 2,
       "version_minor": 0
      },
      "text/plain": [
       "Check for deuterium:   0%|          | 0/27377 [00:00<?, ?it/s]"
      ]
     },
     "metadata": {},
     "output_type": "display_data"
    },
    {
     "name": "stdout",
     "output_type": "stream",
     "text": [
      "There are 91 entries that contain deuterium.\n"
     ]
    }
   ],
   "source": [
    "deuterium_containing = 0\n",
    "for idx, val in enumerate(tqdm.tqdm(pymatgen_structures, desc='Check for deuterium')):\n",
    "    for element in val[0].symbol_set:\n",
    "        if element == 'D':\n",
    "            deletion_list.append(idx)\n",
    "            deuterium_containing+=1\n",
    "            \n",
    "print('There are {} entries that contain deuterium.'.format(deuterium_containing))"
   ]
  },
  {
   "cell_type": "markdown",
   "metadata": {},
   "source": [
    "Structures with over 500 distinct lattice positions would be very difficult to work with. Mark for deletion. "
   ]
  },
  {
   "cell_type": "code",
   "execution_count": 11,
   "metadata": {},
   "outputs": [
    {
     "data": {
      "application/vnd.jupyter.widget-view+json": {
       "model_id": "7dcfd6e7a2734a40b8015833b287d4b4",
       "version_major": 2,
       "version_minor": 0
      },
      "text/plain": [
       "Checking for structures with over 500 sites:   0%|          | 0/27377 [00:00<?, ?it/s]"
      ]
     },
     "metadata": {},
     "output_type": "display_data"
    },
    {
     "name": "stdout",
     "output_type": "stream",
     "text": [
      "There are 20 structures with >500 atoms\n"
     ]
    }
   ],
   "source": [
    "greater_than_500 = 0\n",
    "for idx, structure in enumerate(tqdm.tqdm(ase_structures, desc='Checking for structures with over 500 sites')):\n",
    "    if structure.get_global_number_of_atoms() > 500:\n",
    "        greater_than_500 += 1\n",
    "        deletion_list.append(idx)\n",
    "\n",
    "print(\"There are {} structures with >500 atoms\".format(greater_than_500))"
   ]
  },
  {
   "cell_type": "markdown",
   "metadata": {},
   "source": [
    "Special case deletion: The structure $Li_7C_{120}$ (mp-1223102) throws errors. We'll just manually delete it. "
   ]
  },
  {
   "cell_type": "code",
   "execution_count": 12,
   "metadata": {},
   "outputs": [
    {
     "data": {
      "application/vnd.jupyter.widget-view+json": {
       "model_id": "8743d5291e1447f3924053d52435c7ed",
       "version_major": 2,
       "version_minor": 0
      },
      "text/plain": [
       "Checking for mp-1223102:   0%|          | 0/27377 [00:00<?, ?it/s]"
      ]
     },
     "metadata": {},
     "output_type": "display_data"
    },
    {
     "name": "stdout",
     "output_type": "stream",
     "text": [
      "Structure mp-1223102 is at index 237.\n"
     ]
    }
   ],
   "source": [
    "for idx, structure in enumerate(tqdm.tqdm(pymatgen_structures, desc='Checking for mp-1223102')):\n",
    "    try:\n",
    "        if structure[2] == 'mp-1223102':\n",
    "            print(\"Structure mp-1223102 is at index {}.\".format(idx))\n",
    "            deletion_list.append(idx)\n",
    "    except:\n",
    "        pass"
   ]
  },
  {
   "cell_type": "markdown",
   "metadata": {},
   "source": [
    "### 1e. Remove unwanted structures. Keep list of deleted structures for later. "
   ]
  },
  {
   "cell_type": "code",
   "execution_count": 13,
   "metadata": {},
   "outputs": [],
   "source": [
    "deleted_structures = [value for index, value in enumerate(pymatgen_structures) if index in deletion_list]\n",
    "pymatgen_structures_sanitized = [value for index, value in enumerate(pymatgen_structures) if index not in deletion_list]\n",
    "ase_structures_sanitized = [value for index, value in enumerate(ase_structures) if index not in deletion_list]"
   ]
  },
  {
   "cell_type": "markdown",
   "metadata": {},
   "source": [
    "Check that the new lists are equivalent in length:"
   ]
  },
  {
   "cell_type": "code",
   "execution_count": 14,
   "metadata": {},
   "outputs": [
    {
     "name": "stdout",
     "output_type": "stream",
     "text": [
      "pymatgen_structures_sanitized and ase_structures_sanitized are equivalent length check: True\n",
      "There are a total of 25291 structures.\n"
     ]
    }
   ],
   "source": [
    "print(\"pymatgen_structures_sanitized and ase_structures_sanitized are equivalent length check:\", len(pymatgen_structures_sanitized) == len(ase_structures_sanitized))\n",
    "print(\"There are a total of {} structures.\".format(len(pymatgen_structures_sanitized)))"
   ]
  },
  {
   "cell_type": "markdown",
   "metadata": {},
   "source": [
    "### 1f. Reformat the sanitized lists into a composite dataframe (structures_df)"
   ]
  },
  {
   "cell_type": "code",
   "execution_count": 15,
   "metadata": {},
   "outputs": [],
   "source": [
    "structures_df = pd.DataFrame(pymatgen_structures_sanitized)\n",
    "structures_df.columns = ['structure','ICSD_ID', 'MP_ID', 'pretty_formula', 'spacegroup', 'bandgap', 'e_hull']\n",
    "structures_df['ase_structure'] = ase_structures_sanitized\n",
    "structures_df['composition'] = None\n",
    "structures_df['replacement'] = None\n",
    "\n",
    "# grab the output of the formula function and store it in the 'composition' column\n",
    "structures_df.composition = structures_df.structure.map(lambda x: x.formula)\n",
    "structures_df.ICSD_ID = structures_df.ICSD_ID.map(lambda x: int(x[0]) if (len(x)>0) else 0)"
   ]
  },
  {
   "cell_type": "code",
   "execution_count": 16,
   "metadata": {},
   "outputs": [
    {
     "data": {
      "text/html": [
       "<div>\n",
       "<style scoped>\n",
       "    .dataframe tbody tr th:only-of-type {\n",
       "        vertical-align: middle;\n",
       "    }\n",
       "\n",
       "    .dataframe tbody tr th {\n",
       "        vertical-align: top;\n",
       "    }\n",
       "\n",
       "    .dataframe thead th {\n",
       "        text-align: right;\n",
       "    }\n",
       "</style>\n",
       "<table border=\"1\" class=\"dataframe\">\n",
       "  <thead>\n",
       "    <tr style=\"text-align: right;\">\n",
       "      <th></th>\n",
       "      <th>structure</th>\n",
       "      <th>ICSD_ID</th>\n",
       "      <th>MP_ID</th>\n",
       "      <th>pretty_formula</th>\n",
       "      <th>spacegroup</th>\n",
       "      <th>bandgap</th>\n",
       "      <th>e_hull</th>\n",
       "      <th>ase_structure</th>\n",
       "      <th>composition</th>\n",
       "      <th>replacement</th>\n",
       "    </tr>\n",
       "  </thead>\n",
       "  <tbody>\n",
       "    <tr>\n",
       "      <th>0</th>\n",
       "      <td>[[0.        0.        2.6255595] Li, [0.      ...</td>\n",
       "      <td>180565</td>\n",
       "      <td>mp-1001790</td>\n",
       "      <td>LiO3</td>\n",
       "      <td>Imm2</td>\n",
       "      <td>0.0854</td>\n",
       "      <td>0.225420</td>\n",
       "      <td>(Atom('Li', [0.0, 0.0, 2.6255594986], index=0)...</td>\n",
       "      <td>Li1 O3</td>\n",
       "      <td>None</td>\n",
       "    </tr>\n",
       "    <tr>\n",
       "      <th>1</th>\n",
       "      <td>[[2.79072525 1.34013453 0.79373764] Li, [0.930...</td>\n",
       "      <td>188829</td>\n",
       "      <td>mp-1001825</td>\n",
       "      <td>LiBe</td>\n",
       "      <td>P2_1/m</td>\n",
       "      <td>0.0000</td>\n",
       "      <td>0.166972</td>\n",
       "      <td>(Atom('Li', [2.79072525, 1.34013452726, 0.7937...</td>\n",
       "      <td>Li2 Be2</td>\n",
       "      <td>None</td>\n",
       "    </tr>\n",
       "    <tr>\n",
       "      <th>2</th>\n",
       "      <td>[[2.412716 2.412716 2.412716] Li, [3.619074 3....</td>\n",
       "      <td>236959</td>\n",
       "      <td>mp-1001831</td>\n",
       "      <td>LiB</td>\n",
       "      <td>Fd-3m</td>\n",
       "      <td>1.4331</td>\n",
       "      <td>0.386054</td>\n",
       "      <td>(Atom('Li', [2.412716, 2.412716, 2.412716], in...</td>\n",
       "      <td>Li2 B2</td>\n",
       "      <td>None</td>\n",
       "    </tr>\n",
       "    <tr>\n",
       "      <th>3</th>\n",
       "      <td>[[0. 0. 0.] Li, [1.2797665 1.2797665 1.2797665...</td>\n",
       "      <td>184904</td>\n",
       "      <td>mp-1009009</td>\n",
       "      <td>LiF</td>\n",
       "      <td>Pm-3m</td>\n",
       "      <td>7.5195</td>\n",
       "      <td>0.287542</td>\n",
       "      <td>(Atom('Li', [0.0, 0.0, 0.0], index=0), Atom('F...</td>\n",
       "      <td>Li1 F1</td>\n",
       "      <td>None</td>\n",
       "    </tr>\n",
       "    <tr>\n",
       "      <th>4</th>\n",
       "      <td>[[1.4805505 1.9928345 2.448045 ] Li, [0. 0. 0....</td>\n",
       "      <td>180561</td>\n",
       "      <td>mp-1018789</td>\n",
       "      <td>LiO2</td>\n",
       "      <td>Pnnm</td>\n",
       "      <td>0.0000</td>\n",
       "      <td>0.084218</td>\n",
       "      <td>(Atom('Li', [1.4805505, 1.9928345, 2.448045], ...</td>\n",
       "      <td>Li2 O4</td>\n",
       "      <td>None</td>\n",
       "    </tr>\n",
       "    <tr>\n",
       "      <th>5</th>\n",
       "      <td>[[2.117169   1.22235078 2.00965125] Li, [ 2.11...</td>\n",
       "      <td>0</td>\n",
       "      <td>mp-1025406</td>\n",
       "      <td>LiP3</td>\n",
       "      <td>P6_3/mmc</td>\n",
       "      <td>0.0000</td>\n",
       "      <td>0.656358</td>\n",
       "      <td>(Atom('Li', [2.117169, 1.22235077803, 2.009651...</td>\n",
       "      <td>Li2 P6</td>\n",
       "      <td>None</td>\n",
       "    </tr>\n",
       "    <tr>\n",
       "      <th>6</th>\n",
       "      <td>[[ 2.387422   -1.37838176  3.43392642] Li, [2....</td>\n",
       "      <td>639879</td>\n",
       "      <td>mp-1079408</td>\n",
       "      <td>Li5In4</td>\n",
       "      <td>P-3m1</td>\n",
       "      <td>0.0000</td>\n",
       "      <td>0.000000</td>\n",
       "      <td>(Atom('Li', [2.387422, -1.3783817567580003, 3....</td>\n",
       "      <td>Li5 In4</td>\n",
       "      <td>None</td>\n",
       "    </tr>\n",
       "    <tr>\n",
       "      <th>7</th>\n",
       "      <td>[[4.8016225 0.        1.323284 ] Li, [2.655815...</td>\n",
       "      <td>0</td>\n",
       "      <td>mp-1094129</td>\n",
       "      <td>LiO2</td>\n",
       "      <td>R-3m</td>\n",
       "      <td>0.0733</td>\n",
       "      <td>0.572424</td>\n",
       "      <td>(Atom('Li', [4.801622500000001, 0.0, 1.323284]...</td>\n",
       "      <td>Li1 O2</td>\n",
       "      <td>None</td>\n",
       "    </tr>\n",
       "    <tr>\n",
       "      <th>8</th>\n",
       "      <td>[[ 2.736541   -1.57994549  2.491208  ] Li, [2....</td>\n",
       "      <td>0</td>\n",
       "      <td>mp-1094156</td>\n",
       "      <td>LiMg2</td>\n",
       "      <td>P-62m</td>\n",
       "      <td>0.0000</td>\n",
       "      <td>0.026255</td>\n",
       "      <td>(Atom('Li', [2.736541, -1.5799454932180002, 2....</td>\n",
       "      <td>Li2 Mg4</td>\n",
       "      <td>None</td>\n",
       "    </tr>\n",
       "    <tr>\n",
       "      <th>9</th>\n",
       "      <td>[[0.       0.       4.496241] Li, [2.119593  0...</td>\n",
       "      <td>0</td>\n",
       "      <td>mp-1094159</td>\n",
       "      <td>Li3Mg</td>\n",
       "      <td>I4/mmm</td>\n",
       "      <td>0.0000</td>\n",
       "      <td>0.003841</td>\n",
       "      <td>(Atom('Li', [0.0, 0.0, 4.496241], index=0), At...</td>\n",
       "      <td>Li3 Mg1</td>\n",
       "      <td>None</td>\n",
       "    </tr>\n",
       "    <tr>\n",
       "      <th>10</th>\n",
       "      <td>[[0.        0.        2.5667245] Li, [1.826521...</td>\n",
       "      <td>0</td>\n",
       "      <td>mp-1094558</td>\n",
       "      <td>LiMg5</td>\n",
       "      <td>P-62m</td>\n",
       "      <td>0.0000</td>\n",
       "      <td>0.019418</td>\n",
       "      <td>(Atom('Li', [0.0, 0.0, 2.5667245], index=0), A...</td>\n",
       "      <td>Li1 Mg5</td>\n",
       "      <td>None</td>\n",
       "    </tr>\n",
       "    <tr>\n",
       "      <th>11</th>\n",
       "      <td>[[1.59983    0.92366451 8.70676583] Li, [ 1.59...</td>\n",
       "      <td>0</td>\n",
       "      <td>mp-1094559</td>\n",
       "      <td>LiMg2</td>\n",
       "      <td>P-3m1</td>\n",
       "      <td>0.0000</td>\n",
       "      <td>0.051963</td>\n",
       "      <td>(Atom('Li', [1.59983, 0.9236645139920001, 8.70...</td>\n",
       "      <td>Li2 Mg4</td>\n",
       "      <td>None</td>\n",
       "    </tr>\n",
       "    <tr>\n",
       "      <th>12</th>\n",
       "      <td>[[ 1.526998  -7.9215424  0.       ] Li, [1.526...</td>\n",
       "      <td>0</td>\n",
       "      <td>mp-1094562</td>\n",
       "      <td>Li2Mg</td>\n",
       "      <td>Amm2</td>\n",
       "      <td>0.0000</td>\n",
       "      <td>0.024521</td>\n",
       "      <td>(Atom('Li', [1.526998, -7.921542402911999, 0.0...</td>\n",
       "      <td>Li4 Mg2</td>\n",
       "      <td>None</td>\n",
       "    </tr>\n",
       "    <tr>\n",
       "      <th>13</th>\n",
       "      <td>[[0. 0. 0.] Li, [0.       0.       4.242211] M...</td>\n",
       "      <td>0</td>\n",
       "      <td>mp-1094567</td>\n",
       "      <td>LiMg3</td>\n",
       "      <td>I4/mmm</td>\n",
       "      <td>0.0000</td>\n",
       "      <td>0.028312</td>\n",
       "      <td>(Atom('Li', [0.0, 0.0, 0.0], index=0), Atom('M...</td>\n",
       "      <td>Li1 Mg3</td>\n",
       "      <td>None</td>\n",
       "    </tr>\n",
       "    <tr>\n",
       "      <th>14</th>\n",
       "      <td>[[0.         8.85639212 3.37469691] Li, [0.   ...</td>\n",
       "      <td>0</td>\n",
       "      <td>mp-1094568</td>\n",
       "      <td>LiMg</td>\n",
       "      <td>C2/m</td>\n",
       "      <td>0.0000</td>\n",
       "      <td>0.020040</td>\n",
       "      <td>(Atom('Li', [0.0, 8.856392119155, 3.3746969053...</td>\n",
       "      <td>Li2 Mg2</td>\n",
       "      <td>None</td>\n",
       "    </tr>\n",
       "    <tr>\n",
       "      <th>15</th>\n",
       "      <td>[[ 1.582137    0.91344916 13.48022537] Li, [ 1...</td>\n",
       "      <td>0</td>\n",
       "      <td>mp-1094569</td>\n",
       "      <td>Li2Mg</td>\n",
       "      <td>P-3m1</td>\n",
       "      <td>0.0000</td>\n",
       "      <td>0.041148</td>\n",
       "      <td>(Atom('Li', [1.582137, 0.9134491602280002, 13....</td>\n",
       "      <td>Li4 Mg2</td>\n",
       "      <td>None</td>\n",
       "    </tr>\n",
       "    <tr>\n",
       "      <th>16</th>\n",
       "      <td>[[-2.28850439  5.352084    1.28575   ] Li, [2....</td>\n",
       "      <td>0</td>\n",
       "      <td>mp-1094570</td>\n",
       "      <td>LiMg2</td>\n",
       "      <td>C2/c</td>\n",
       "      <td>0.0000</td>\n",
       "      <td>0.030459</td>\n",
       "      <td>(Atom('Li', [-2.288504385748, 5.352084, 1.2857...</td>\n",
       "      <td>Li2 Mg4</td>\n",
       "      <td>None</td>\n",
       "    </tr>\n",
       "    <tr>\n",
       "      <th>17</th>\n",
       "      <td>[[1.558185   8.00654443 0.        ] Li, [ 1.55...</td>\n",
       "      <td>0</td>\n",
       "      <td>mp-1094573</td>\n",
       "      <td>LiMg</td>\n",
       "      <td>Amm2</td>\n",
       "      <td>0.0000</td>\n",
       "      <td>0.019559</td>\n",
       "      <td>(Atom('Li', [1.558185, 8.00654442857, 0.0], in...</td>\n",
       "      <td>Li3 Mg3</td>\n",
       "      <td>None</td>\n",
       "    </tr>\n",
       "    <tr>\n",
       "      <th>18</th>\n",
       "      <td>[[1.54773    3.65127232 1.28390625] Li, [ 1.54...</td>\n",
       "      <td>0</td>\n",
       "      <td>mp-1094574</td>\n",
       "      <td>LiMg2</td>\n",
       "      <td>Cmcm</td>\n",
       "      <td>0.0000</td>\n",
       "      <td>0.019709</td>\n",
       "      <td>(Atom('Li', [1.54773, 3.6512723183240006, 1.28...</td>\n",
       "      <td>Li2 Mg4</td>\n",
       "      <td>None</td>\n",
       "    </tr>\n",
       "    <tr>\n",
       "      <th>19</th>\n",
       "      <td>[[ 1.599724  -7.9259922  0.       ] Li, [ 1.59...</td>\n",
       "      <td>0</td>\n",
       "      <td>mp-1094575</td>\n",
       "      <td>LiMg</td>\n",
       "      <td>Amm2</td>\n",
       "      <td>0.0000</td>\n",
       "      <td>0.023633</td>\n",
       "      <td>(Atom('Li', [1.599724, -7.92599220113, 0.0], i...</td>\n",
       "      <td>Li3 Mg3</td>\n",
       "      <td>None</td>\n",
       "    </tr>\n",
       "  </tbody>\n",
       "</table>\n",
       "</div>"
      ],
      "text/plain": [
       "                                            structure  ICSD_ID       MP_ID  \\\n",
       "0   [[0.        0.        2.6255595] Li, [0.      ...   180565  mp-1001790   \n",
       "1   [[2.79072525 1.34013453 0.79373764] Li, [0.930...   188829  mp-1001825   \n",
       "2   [[2.412716 2.412716 2.412716] Li, [3.619074 3....   236959  mp-1001831   \n",
       "3   [[0. 0. 0.] Li, [1.2797665 1.2797665 1.2797665...   184904  mp-1009009   \n",
       "4   [[1.4805505 1.9928345 2.448045 ] Li, [0. 0. 0....   180561  mp-1018789   \n",
       "5   [[2.117169   1.22235078 2.00965125] Li, [ 2.11...        0  mp-1025406   \n",
       "6   [[ 2.387422   -1.37838176  3.43392642] Li, [2....   639879  mp-1079408   \n",
       "7   [[4.8016225 0.        1.323284 ] Li, [2.655815...        0  mp-1094129   \n",
       "8   [[ 2.736541   -1.57994549  2.491208  ] Li, [2....        0  mp-1094156   \n",
       "9   [[0.       0.       4.496241] Li, [2.119593  0...        0  mp-1094159   \n",
       "10  [[0.        0.        2.5667245] Li, [1.826521...        0  mp-1094558   \n",
       "11  [[1.59983    0.92366451 8.70676583] Li, [ 1.59...        0  mp-1094559   \n",
       "12  [[ 1.526998  -7.9215424  0.       ] Li, [1.526...        0  mp-1094562   \n",
       "13  [[0. 0. 0.] Li, [0.       0.       4.242211] M...        0  mp-1094567   \n",
       "14  [[0.         8.85639212 3.37469691] Li, [0.   ...        0  mp-1094568   \n",
       "15  [[ 1.582137    0.91344916 13.48022537] Li, [ 1...        0  mp-1094569   \n",
       "16  [[-2.28850439  5.352084    1.28575   ] Li, [2....        0  mp-1094570   \n",
       "17  [[1.558185   8.00654443 0.        ] Li, [ 1.55...        0  mp-1094573   \n",
       "18  [[1.54773    3.65127232 1.28390625] Li, [ 1.54...        0  mp-1094574   \n",
       "19  [[ 1.599724  -7.9259922  0.       ] Li, [ 1.59...        0  mp-1094575   \n",
       "\n",
       "   pretty_formula spacegroup  bandgap    e_hull  \\\n",
       "0            LiO3       Imm2   0.0854  0.225420   \n",
       "1            LiBe     P2_1/m   0.0000  0.166972   \n",
       "2             LiB      Fd-3m   1.4331  0.386054   \n",
       "3             LiF      Pm-3m   7.5195  0.287542   \n",
       "4            LiO2       Pnnm   0.0000  0.084218   \n",
       "5            LiP3   P6_3/mmc   0.0000  0.656358   \n",
       "6          Li5In4      P-3m1   0.0000  0.000000   \n",
       "7            LiO2       R-3m   0.0733  0.572424   \n",
       "8           LiMg2      P-62m   0.0000  0.026255   \n",
       "9           Li3Mg     I4/mmm   0.0000  0.003841   \n",
       "10          LiMg5      P-62m   0.0000  0.019418   \n",
       "11          LiMg2      P-3m1   0.0000  0.051963   \n",
       "12          Li2Mg       Amm2   0.0000  0.024521   \n",
       "13          LiMg3     I4/mmm   0.0000  0.028312   \n",
       "14           LiMg       C2/m   0.0000  0.020040   \n",
       "15          Li2Mg      P-3m1   0.0000  0.041148   \n",
       "16          LiMg2       C2/c   0.0000  0.030459   \n",
       "17           LiMg       Amm2   0.0000  0.019559   \n",
       "18          LiMg2       Cmcm   0.0000  0.019709   \n",
       "19           LiMg       Amm2   0.0000  0.023633   \n",
       "\n",
       "                                        ase_structure composition replacement  \n",
       "0   (Atom('Li', [0.0, 0.0, 2.6255594986], index=0)...      Li1 O3        None  \n",
       "1   (Atom('Li', [2.79072525, 1.34013452726, 0.7937...     Li2 Be2        None  \n",
       "2   (Atom('Li', [2.412716, 2.412716, 2.412716], in...      Li2 B2        None  \n",
       "3   (Atom('Li', [0.0, 0.0, 0.0], index=0), Atom('F...      Li1 F1        None  \n",
       "4   (Atom('Li', [1.4805505, 1.9928345, 2.448045], ...      Li2 O4        None  \n",
       "5   (Atom('Li', [2.117169, 1.22235077803, 2.009651...      Li2 P6        None  \n",
       "6   (Atom('Li', [2.387422, -1.3783817567580003, 3....     Li5 In4        None  \n",
       "7   (Atom('Li', [4.801622500000001, 0.0, 1.323284]...      Li1 O2        None  \n",
       "8   (Atom('Li', [2.736541, -1.5799454932180002, 2....     Li2 Mg4        None  \n",
       "9   (Atom('Li', [0.0, 0.0, 4.496241], index=0), At...     Li3 Mg1        None  \n",
       "10  (Atom('Li', [0.0, 0.0, 2.5667245], index=0), A...     Li1 Mg5        None  \n",
       "11  (Atom('Li', [1.59983, 0.9236645139920001, 8.70...     Li2 Mg4        None  \n",
       "12  (Atom('Li', [1.526998, -7.921542402911999, 0.0...     Li4 Mg2        None  \n",
       "13  (Atom('Li', [0.0, 0.0, 0.0], index=0), Atom('M...     Li1 Mg3        None  \n",
       "14  (Atom('Li', [0.0, 8.856392119155, 3.3746969053...     Li2 Mg2        None  \n",
       "15  (Atom('Li', [1.582137, 0.9134491602280002, 13....     Li4 Mg2        None  \n",
       "16  (Atom('Li', [-2.288504385748, 5.352084, 1.2857...     Li2 Mg4        None  \n",
       "17  (Atom('Li', [1.558185, 8.00654442857, 0.0], in...     Li3 Mg3        None  \n",
       "18  (Atom('Li', [1.54773, 3.6512723183240006, 1.28...     Li2 Mg4        None  \n",
       "19  (Atom('Li', [1.599724, -7.92599220113, 0.0], i...     Li3 Mg3        None  "
      ]
     },
     "execution_count": 16,
     "metadata": {},
     "output_type": "execute_result"
    }
   ],
   "source": [
    "structures_df.head(20)"
   ]
  },
  {
   "cell_type": "markdown",
   "metadata": {},
   "source": [
    "Label ICSD data with corresponding MP_IDS from the deleted compounds (saved in mapping_IDs)."
   ]
  },
  {
   "cell_type": "code",
   "execution_count": 17,
   "metadata": {},
   "outputs": [
    {
     "data": {
      "application/vnd.jupyter.widget-view+json": {
       "model_id": "1fcd2edb157c41d59debc7ac0b691a0e",
       "version_major": 2,
       "version_minor": 0
      },
      "text/plain": [
       "Label ICSD structures with the corresponding MP ID:   0%|          | 0/3099 [00:00<?, ?it/s]"
      ]
     },
     "metadata": {},
     "output_type": "display_data"
    },
    {
     "name": "stdout",
     "output_type": "stream",
     "text": [
      "Materials project IDs added for 3034 structures.\n"
     ]
    }
   ],
   "source": [
    "# count the number of mapping events\n",
    "count = 0\n",
    "\n",
    "# for each line in the mapping_IDs list\n",
    "for entry in tqdm.tqdm(mapping_IDs, desc='Label ICSD structures with the corresponding MP ID'):\n",
    "    # for each value in the ICSD_IDs column\n",
    "    for idx, value in enumerate(structures_df['ICSD_ID']):\n",
    "        # if the value exists in the list of ICSD_IDs from the mapping_IDs\n",
    "        if value in entry[0]:\n",
    "            # if the structure doesn't already have a Materials Project ID\n",
    "            if structures_df.loc[idx, 'MP_ID'] is None:\n",
    "                structures_df.at[idx, 'MP_ID'] = entry[1]\n",
    "                structures_df.at[idx, 'spacegroup'] = entry[2]\n",
    "                structures_df.at[idx, 'bandgap'] = entry[3]\n",
    "                structures_df.at[idx, 'e_hull'] = entry[4]\n",
    "                count+=1\n",
    "\n",
    "print(\"Materials project IDs added for {} structures.\".format(count))\n",
    "                "
   ]
  },
  {
   "cell_type": "markdown",
   "metadata": {},
   "source": [
    "Add the deleted structures back in as a possible replacment column."
   ]
  },
  {
   "cell_type": "code",
   "execution_count": 18,
   "metadata": {},
   "outputs": [
    {
     "data": {
      "application/vnd.jupyter.widget-view+json": {
       "model_id": "6ed271cb59d64deca679e125d7471028",
       "version_major": 2,
       "version_minor": 0
      },
      "text/plain": [
       "Add deleted structures into a replacement column:   0%|          | 0/25291 [00:00<?, ?it/s]"
      ]
     },
     "metadata": {},
     "output_type": "display_data"
    },
    {
     "name": "stdout",
     "output_type": "stream",
     "text": [
      "3040 deleted structures were added back into the 'replacement' column.\n"
     ]
    }
   ],
   "source": [
    "# count the number of replacment events\n",
    "count = 0\n",
    "\n",
    "# for each value in the ICSD_IDs column\n",
    "for idx, ICSD_value in enumerate(tqdm.tqdm(structures_df['ICSD_ID'], desc='Add deleted structures into a replacement column')):\n",
    "    # for each line in the deleted structures list\n",
    "    for idx_del, deleted_structure in enumerate(deleted_structures):\n",
    "        # if the ICSD value corresponds to a value in the deleted structures ICSD list\n",
    "        if ICSD_value in deleted_structure[1]:\n",
    "            structures_df.at[idx, 'replacement'] = deleted_structure[0]\n",
    "            count+=1\n",
    "            \n",
    "print(\"{} deleted structures were added back into the 'replacement' column.\".format(count))"
   ]
  },
  {
   "cell_type": "code",
   "execution_count": 19,
   "metadata": {},
   "outputs": [
    {
     "data": {
      "text/html": [
       "<div>\n",
       "<style scoped>\n",
       "    .dataframe tbody tr th:only-of-type {\n",
       "        vertical-align: middle;\n",
       "    }\n",
       "\n",
       "    .dataframe tbody tr th {\n",
       "        vertical-align: top;\n",
       "    }\n",
       "\n",
       "    .dataframe thead th {\n",
       "        text-align: right;\n",
       "    }\n",
       "</style>\n",
       "<table border=\"1\" class=\"dataframe\">\n",
       "  <thead>\n",
       "    <tr style=\"text-align: right;\">\n",
       "      <th></th>\n",
       "      <th>structure</th>\n",
       "      <th>ICSD_ID</th>\n",
       "      <th>MP_ID</th>\n",
       "      <th>pretty_formula</th>\n",
       "      <th>spacegroup</th>\n",
       "      <th>bandgap</th>\n",
       "      <th>e_hull</th>\n",
       "      <th>ase_structure</th>\n",
       "      <th>composition</th>\n",
       "      <th>replacement</th>\n",
       "    </tr>\n",
       "  </thead>\n",
       "  <tbody>\n",
       "    <tr>\n",
       "      <th>0</th>\n",
       "      <td>[[0.        0.        2.6255595] Li, [0.      ...</td>\n",
       "      <td>180565</td>\n",
       "      <td>mp-1001790</td>\n",
       "      <td>LiO3</td>\n",
       "      <td>Imm2</td>\n",
       "      <td>0.0854</td>\n",
       "      <td>0.225420</td>\n",
       "      <td>(Atom('Li', [0.0, 0.0, 2.6255594986], index=0)...</td>\n",
       "      <td>Li1 O3</td>\n",
       "      <td>None</td>\n",
       "    </tr>\n",
       "    <tr>\n",
       "      <th>1</th>\n",
       "      <td>[[2.79072525 1.34013453 0.79373764] Li, [0.930...</td>\n",
       "      <td>188829</td>\n",
       "      <td>mp-1001825</td>\n",
       "      <td>LiBe</td>\n",
       "      <td>P2_1/m</td>\n",
       "      <td>0.0000</td>\n",
       "      <td>0.166972</td>\n",
       "      <td>(Atom('Li', [2.79072525, 1.34013452726, 0.7937...</td>\n",
       "      <td>Li2 Be2</td>\n",
       "      <td>None</td>\n",
       "    </tr>\n",
       "    <tr>\n",
       "      <th>2</th>\n",
       "      <td>[[2.412716 2.412716 2.412716] Li, [3.619074 3....</td>\n",
       "      <td>236959</td>\n",
       "      <td>mp-1001831</td>\n",
       "      <td>LiB</td>\n",
       "      <td>Fd-3m</td>\n",
       "      <td>1.4331</td>\n",
       "      <td>0.386054</td>\n",
       "      <td>(Atom('Li', [2.412716, 2.412716, 2.412716], in...</td>\n",
       "      <td>Li2 B2</td>\n",
       "      <td>None</td>\n",
       "    </tr>\n",
       "    <tr>\n",
       "      <th>3</th>\n",
       "      <td>[[0. 0. 0.] Li, [1.2797665 1.2797665 1.2797665...</td>\n",
       "      <td>184904</td>\n",
       "      <td>mp-1009009</td>\n",
       "      <td>LiF</td>\n",
       "      <td>Pm-3m</td>\n",
       "      <td>7.5195</td>\n",
       "      <td>0.287542</td>\n",
       "      <td>(Atom('Li', [0.0, 0.0, 0.0], index=0), Atom('F...</td>\n",
       "      <td>Li1 F1</td>\n",
       "      <td>None</td>\n",
       "    </tr>\n",
       "    <tr>\n",
       "      <th>4</th>\n",
       "      <td>[[1.4805505 1.9928345 2.448045 ] Li, [0. 0. 0....</td>\n",
       "      <td>180561</td>\n",
       "      <td>mp-1018789</td>\n",
       "      <td>LiO2</td>\n",
       "      <td>Pnnm</td>\n",
       "      <td>0.0000</td>\n",
       "      <td>0.084218</td>\n",
       "      <td>(Atom('Li', [1.4805505, 1.9928345, 2.448045], ...</td>\n",
       "      <td>Li2 O4</td>\n",
       "      <td>None</td>\n",
       "    </tr>\n",
       "    <tr>\n",
       "      <th>5</th>\n",
       "      <td>[[2.117169   1.22235078 2.00965125] Li, [ 2.11...</td>\n",
       "      <td>0</td>\n",
       "      <td>mp-1025406</td>\n",
       "      <td>LiP3</td>\n",
       "      <td>P6_3/mmc</td>\n",
       "      <td>0.0000</td>\n",
       "      <td>0.656358</td>\n",
       "      <td>(Atom('Li', [2.117169, 1.22235077803, 2.009651...</td>\n",
       "      <td>Li2 P6</td>\n",
       "      <td>None</td>\n",
       "    </tr>\n",
       "    <tr>\n",
       "      <th>6</th>\n",
       "      <td>[[ 2.387422   -1.37838176  3.43392642] Li, [2....</td>\n",
       "      <td>639879</td>\n",
       "      <td>mp-1079408</td>\n",
       "      <td>Li5In4</td>\n",
       "      <td>P-3m1</td>\n",
       "      <td>0.0000</td>\n",
       "      <td>0.000000</td>\n",
       "      <td>(Atom('Li', [2.387422, -1.3783817567580003, 3....</td>\n",
       "      <td>Li5 In4</td>\n",
       "      <td>None</td>\n",
       "    </tr>\n",
       "    <tr>\n",
       "      <th>7</th>\n",
       "      <td>[[4.8016225 0.        1.323284 ] Li, [2.655815...</td>\n",
       "      <td>0</td>\n",
       "      <td>mp-1094129</td>\n",
       "      <td>LiO2</td>\n",
       "      <td>R-3m</td>\n",
       "      <td>0.0733</td>\n",
       "      <td>0.572424</td>\n",
       "      <td>(Atom('Li', [4.801622500000001, 0.0, 1.323284]...</td>\n",
       "      <td>Li1 O2</td>\n",
       "      <td>None</td>\n",
       "    </tr>\n",
       "    <tr>\n",
       "      <th>8</th>\n",
       "      <td>[[ 2.736541   -1.57994549  2.491208  ] Li, [2....</td>\n",
       "      <td>0</td>\n",
       "      <td>mp-1094156</td>\n",
       "      <td>LiMg2</td>\n",
       "      <td>P-62m</td>\n",
       "      <td>0.0000</td>\n",
       "      <td>0.026255</td>\n",
       "      <td>(Atom('Li', [2.736541, -1.5799454932180002, 2....</td>\n",
       "      <td>Li2 Mg4</td>\n",
       "      <td>None</td>\n",
       "    </tr>\n",
       "    <tr>\n",
       "      <th>9</th>\n",
       "      <td>[[0.       0.       4.496241] Li, [2.119593  0...</td>\n",
       "      <td>0</td>\n",
       "      <td>mp-1094159</td>\n",
       "      <td>Li3Mg</td>\n",
       "      <td>I4/mmm</td>\n",
       "      <td>0.0000</td>\n",
       "      <td>0.003841</td>\n",
       "      <td>(Atom('Li', [0.0, 0.0, 4.496241], index=0), At...</td>\n",
       "      <td>Li3 Mg1</td>\n",
       "      <td>None</td>\n",
       "    </tr>\n",
       "    <tr>\n",
       "      <th>10</th>\n",
       "      <td>[[0.        0.        2.5667245] Li, [1.826521...</td>\n",
       "      <td>0</td>\n",
       "      <td>mp-1094558</td>\n",
       "      <td>LiMg5</td>\n",
       "      <td>P-62m</td>\n",
       "      <td>0.0000</td>\n",
       "      <td>0.019418</td>\n",
       "      <td>(Atom('Li', [0.0, 0.0, 2.5667245], index=0), A...</td>\n",
       "      <td>Li1 Mg5</td>\n",
       "      <td>None</td>\n",
       "    </tr>\n",
       "    <tr>\n",
       "      <th>11</th>\n",
       "      <td>[[1.59983    0.92366451 8.70676583] Li, [ 1.59...</td>\n",
       "      <td>0</td>\n",
       "      <td>mp-1094559</td>\n",
       "      <td>LiMg2</td>\n",
       "      <td>P-3m1</td>\n",
       "      <td>0.0000</td>\n",
       "      <td>0.051963</td>\n",
       "      <td>(Atom('Li', [1.59983, 0.9236645139920001, 8.70...</td>\n",
       "      <td>Li2 Mg4</td>\n",
       "      <td>None</td>\n",
       "    </tr>\n",
       "    <tr>\n",
       "      <th>12</th>\n",
       "      <td>[[ 1.526998  -7.9215424  0.       ] Li, [1.526...</td>\n",
       "      <td>0</td>\n",
       "      <td>mp-1094562</td>\n",
       "      <td>Li2Mg</td>\n",
       "      <td>Amm2</td>\n",
       "      <td>0.0000</td>\n",
       "      <td>0.024521</td>\n",
       "      <td>(Atom('Li', [1.526998, -7.921542402911999, 0.0...</td>\n",
       "      <td>Li4 Mg2</td>\n",
       "      <td>None</td>\n",
       "    </tr>\n",
       "    <tr>\n",
       "      <th>13</th>\n",
       "      <td>[[0. 0. 0.] Li, [0.       0.       4.242211] M...</td>\n",
       "      <td>0</td>\n",
       "      <td>mp-1094567</td>\n",
       "      <td>LiMg3</td>\n",
       "      <td>I4/mmm</td>\n",
       "      <td>0.0000</td>\n",
       "      <td>0.028312</td>\n",
       "      <td>(Atom('Li', [0.0, 0.0, 0.0], index=0), Atom('M...</td>\n",
       "      <td>Li1 Mg3</td>\n",
       "      <td>None</td>\n",
       "    </tr>\n",
       "    <tr>\n",
       "      <th>14</th>\n",
       "      <td>[[0.         8.85639212 3.37469691] Li, [0.   ...</td>\n",
       "      <td>0</td>\n",
       "      <td>mp-1094568</td>\n",
       "      <td>LiMg</td>\n",
       "      <td>C2/m</td>\n",
       "      <td>0.0000</td>\n",
       "      <td>0.020040</td>\n",
       "      <td>(Atom('Li', [0.0, 8.856392119155, 3.3746969053...</td>\n",
       "      <td>Li2 Mg2</td>\n",
       "      <td>None</td>\n",
       "    </tr>\n",
       "    <tr>\n",
       "      <th>15</th>\n",
       "      <td>[[ 1.582137    0.91344916 13.48022537] Li, [ 1...</td>\n",
       "      <td>0</td>\n",
       "      <td>mp-1094569</td>\n",
       "      <td>Li2Mg</td>\n",
       "      <td>P-3m1</td>\n",
       "      <td>0.0000</td>\n",
       "      <td>0.041148</td>\n",
       "      <td>(Atom('Li', [1.582137, 0.9134491602280002, 13....</td>\n",
       "      <td>Li4 Mg2</td>\n",
       "      <td>None</td>\n",
       "    </tr>\n",
       "    <tr>\n",
       "      <th>16</th>\n",
       "      <td>[[-2.28850439  5.352084    1.28575   ] Li, [2....</td>\n",
       "      <td>0</td>\n",
       "      <td>mp-1094570</td>\n",
       "      <td>LiMg2</td>\n",
       "      <td>C2/c</td>\n",
       "      <td>0.0000</td>\n",
       "      <td>0.030459</td>\n",
       "      <td>(Atom('Li', [-2.288504385748, 5.352084, 1.2857...</td>\n",
       "      <td>Li2 Mg4</td>\n",
       "      <td>None</td>\n",
       "    </tr>\n",
       "    <tr>\n",
       "      <th>17</th>\n",
       "      <td>[[1.558185   8.00654443 0.        ] Li, [ 1.55...</td>\n",
       "      <td>0</td>\n",
       "      <td>mp-1094573</td>\n",
       "      <td>LiMg</td>\n",
       "      <td>Amm2</td>\n",
       "      <td>0.0000</td>\n",
       "      <td>0.019559</td>\n",
       "      <td>(Atom('Li', [1.558185, 8.00654442857, 0.0], in...</td>\n",
       "      <td>Li3 Mg3</td>\n",
       "      <td>None</td>\n",
       "    </tr>\n",
       "    <tr>\n",
       "      <th>18</th>\n",
       "      <td>[[1.54773    3.65127232 1.28390625] Li, [ 1.54...</td>\n",
       "      <td>0</td>\n",
       "      <td>mp-1094574</td>\n",
       "      <td>LiMg2</td>\n",
       "      <td>Cmcm</td>\n",
       "      <td>0.0000</td>\n",
       "      <td>0.019709</td>\n",
       "      <td>(Atom('Li', [1.54773, 3.6512723183240006, 1.28...</td>\n",
       "      <td>Li2 Mg4</td>\n",
       "      <td>None</td>\n",
       "    </tr>\n",
       "    <tr>\n",
       "      <th>19</th>\n",
       "      <td>[[ 1.599724  -7.9259922  0.       ] Li, [ 1.59...</td>\n",
       "      <td>0</td>\n",
       "      <td>mp-1094575</td>\n",
       "      <td>LiMg</td>\n",
       "      <td>Amm2</td>\n",
       "      <td>0.0000</td>\n",
       "      <td>0.023633</td>\n",
       "      <td>(Atom('Li', [1.599724, -7.92599220113, 0.0], i...</td>\n",
       "      <td>Li3 Mg3</td>\n",
       "      <td>None</td>\n",
       "    </tr>\n",
       "  </tbody>\n",
       "</table>\n",
       "</div>"
      ],
      "text/plain": [
       "                                            structure  ICSD_ID       MP_ID  \\\n",
       "0   [[0.        0.        2.6255595] Li, [0.      ...   180565  mp-1001790   \n",
       "1   [[2.79072525 1.34013453 0.79373764] Li, [0.930...   188829  mp-1001825   \n",
       "2   [[2.412716 2.412716 2.412716] Li, [3.619074 3....   236959  mp-1001831   \n",
       "3   [[0. 0. 0.] Li, [1.2797665 1.2797665 1.2797665...   184904  mp-1009009   \n",
       "4   [[1.4805505 1.9928345 2.448045 ] Li, [0. 0. 0....   180561  mp-1018789   \n",
       "5   [[2.117169   1.22235078 2.00965125] Li, [ 2.11...        0  mp-1025406   \n",
       "6   [[ 2.387422   -1.37838176  3.43392642] Li, [2....   639879  mp-1079408   \n",
       "7   [[4.8016225 0.        1.323284 ] Li, [2.655815...        0  mp-1094129   \n",
       "8   [[ 2.736541   -1.57994549  2.491208  ] Li, [2....        0  mp-1094156   \n",
       "9   [[0.       0.       4.496241] Li, [2.119593  0...        0  mp-1094159   \n",
       "10  [[0.        0.        2.5667245] Li, [1.826521...        0  mp-1094558   \n",
       "11  [[1.59983    0.92366451 8.70676583] Li, [ 1.59...        0  mp-1094559   \n",
       "12  [[ 1.526998  -7.9215424  0.       ] Li, [1.526...        0  mp-1094562   \n",
       "13  [[0. 0. 0.] Li, [0.       0.       4.242211] M...        0  mp-1094567   \n",
       "14  [[0.         8.85639212 3.37469691] Li, [0.   ...        0  mp-1094568   \n",
       "15  [[ 1.582137    0.91344916 13.48022537] Li, [ 1...        0  mp-1094569   \n",
       "16  [[-2.28850439  5.352084    1.28575   ] Li, [2....        0  mp-1094570   \n",
       "17  [[1.558185   8.00654443 0.        ] Li, [ 1.55...        0  mp-1094573   \n",
       "18  [[1.54773    3.65127232 1.28390625] Li, [ 1.54...        0  mp-1094574   \n",
       "19  [[ 1.599724  -7.9259922  0.       ] Li, [ 1.59...        0  mp-1094575   \n",
       "\n",
       "   pretty_formula spacegroup  bandgap    e_hull  \\\n",
       "0            LiO3       Imm2   0.0854  0.225420   \n",
       "1            LiBe     P2_1/m   0.0000  0.166972   \n",
       "2             LiB      Fd-3m   1.4331  0.386054   \n",
       "3             LiF      Pm-3m   7.5195  0.287542   \n",
       "4            LiO2       Pnnm   0.0000  0.084218   \n",
       "5            LiP3   P6_3/mmc   0.0000  0.656358   \n",
       "6          Li5In4      P-3m1   0.0000  0.000000   \n",
       "7            LiO2       R-3m   0.0733  0.572424   \n",
       "8           LiMg2      P-62m   0.0000  0.026255   \n",
       "9           Li3Mg     I4/mmm   0.0000  0.003841   \n",
       "10          LiMg5      P-62m   0.0000  0.019418   \n",
       "11          LiMg2      P-3m1   0.0000  0.051963   \n",
       "12          Li2Mg       Amm2   0.0000  0.024521   \n",
       "13          LiMg3     I4/mmm   0.0000  0.028312   \n",
       "14           LiMg       C2/m   0.0000  0.020040   \n",
       "15          Li2Mg      P-3m1   0.0000  0.041148   \n",
       "16          LiMg2       C2/c   0.0000  0.030459   \n",
       "17           LiMg       Amm2   0.0000  0.019559   \n",
       "18          LiMg2       Cmcm   0.0000  0.019709   \n",
       "19           LiMg       Amm2   0.0000  0.023633   \n",
       "\n",
       "                                        ase_structure composition replacement  \n",
       "0   (Atom('Li', [0.0, 0.0, 2.6255594986], index=0)...      Li1 O3        None  \n",
       "1   (Atom('Li', [2.79072525, 1.34013452726, 0.7937...     Li2 Be2        None  \n",
       "2   (Atom('Li', [2.412716, 2.412716, 2.412716], in...      Li2 B2        None  \n",
       "3   (Atom('Li', [0.0, 0.0, 0.0], index=0), Atom('F...      Li1 F1        None  \n",
       "4   (Atom('Li', [1.4805505, 1.9928345, 2.448045], ...      Li2 O4        None  \n",
       "5   (Atom('Li', [2.117169, 1.22235077803, 2.009651...      Li2 P6        None  \n",
       "6   (Atom('Li', [2.387422, -1.3783817567580003, 3....     Li5 In4        None  \n",
       "7   (Atom('Li', [4.801622500000001, 0.0, 1.323284]...      Li1 O2        None  \n",
       "8   (Atom('Li', [2.736541, -1.5799454932180002, 2....     Li2 Mg4        None  \n",
       "9   (Atom('Li', [0.0, 0.0, 4.496241], index=0), At...     Li3 Mg1        None  \n",
       "10  (Atom('Li', [0.0, 0.0, 2.5667245], index=0), A...     Li1 Mg5        None  \n",
       "11  (Atom('Li', [1.59983, 0.9236645139920001, 8.70...     Li2 Mg4        None  \n",
       "12  (Atom('Li', [1.526998, -7.921542402911999, 0.0...     Li4 Mg2        None  \n",
       "13  (Atom('Li', [0.0, 0.0, 0.0], index=0), Atom('M...     Li1 Mg3        None  \n",
       "14  (Atom('Li', [0.0, 8.856392119155, 3.3746969053...     Li2 Mg2        None  \n",
       "15  (Atom('Li', [1.582137, 0.9134491602280002, 13....     Li4 Mg2        None  \n",
       "16  (Atom('Li', [-2.288504385748, 5.352084, 1.2857...     Li2 Mg4        None  \n",
       "17  (Atom('Li', [1.558185, 8.00654442857, 0.0], in...     Li3 Mg3        None  \n",
       "18  (Atom('Li', [1.54773, 3.6512723183240006, 1.28...     Li2 Mg4        None  \n",
       "19  (Atom('Li', [1.599724, -7.92599220113, 0.0], i...     Li3 Mg3        None  "
      ]
     },
     "execution_count": 19,
     "metadata": {},
     "output_type": "execute_result"
    }
   ],
   "source": [
    "structures_df.head(20)"
   ]
  },
  {
   "cell_type": "markdown",
   "metadata": {},
   "source": [
    "### 1g. Check to see if the structures are ordered and oxidation state decorated"
   ]
  },
  {
   "cell_type": "code",
   "execution_count": 20,
   "metadata": {},
   "outputs": [
    {
     "data": {
      "application/vnd.jupyter.widget-view+json": {
       "model_id": "c11c790b39424cad8a4399e6efcd7464",
       "version_major": 2,
       "version_minor": 0
      },
      "text/plain": [
       "Check for oxidation states and ordering:   0%|          | 0/25291 [00:00<?, ?it/s]"
      ]
     },
     "metadata": {},
     "output_type": "display_data"
    },
    {
     "name": "stdout",
     "output_type": "stream",
     "text": [
      "98 structures are disordered.\n",
      "17592 structures are not charge decorated.\n"
     ]
    }
   ],
   "source": [
    "unordered_count = 0\n",
    "unordered = []\n",
    "no_oxidation_count = 0\n",
    "no_oxidation_state = []\n",
    "\n",
    "for idx in tqdm.tqdm(np.arange(0, len(structures_df), 1), desc='Check for oxidation states and ordering'):\n",
    "    if not structures_df.loc[idx, \"structure\"].is_ordered:\n",
    "        unordered_count += 1\n",
    "        unordered.append(idx)\n",
    "    try:\n",
    "        for site in structures_df.loc[idx, \"structure\"]:\n",
    "            _ = site.specie.oxi_state\n",
    "    except Exception as e:\n",
    "        no_oxidation_count +=1\n",
    "        no_oxidation_state.append(idx)\n",
    "        \n",
    "print(\"{} structures are disordered.\".format(unordered_count))\n",
    "print(\"{} structures are not charge decorated.\".format(no_oxidation_count))"
   ]
  },
  {
   "cell_type": "markdown",
   "metadata": {},
   "source": [
    "### 1h. Apply charge decoration where possible. \n",
    "\n",
    "Pymatgen contains three general ways to charge decorate structures:\n",
    "* Use the .add_oxdiation_state_by_guess method on a pymatgen structure. \n",
    "* Use the AutoOxiStateDecorationTransformation class.\n",
    "* Create a dictionary of charges and apply based on atomic identity using the OxidationStateDecorationTransformation class."
   ]
  },
  {
   "cell_type": "code",
   "execution_count": 21,
   "metadata": {},
   "outputs": [],
   "source": [
    "# oxidation dictionary added to brute force oxidation states\n",
    "oxidation_dictionary = {\"H\":1, \"Li\": 1, \"Na\":1, \"K\":1, \"Rb\": 1, \"Cs\":1, \"Be\":2, \"Mg\":2, \"Ca\":2, \\\n",
    "                        \"Sr\":2, \"Ba\":2, \"Ra\": 2, \"B\":3, \"Al\":3, \"Ga\":3, \"In\":3, \"Tl\":3, \\\n",
    "                        \"C\":4, \"Si\": 4, \"Ge\": 4, \"Sn\": 4, \"Pb\": 4, \"N\":-3, \"P\":5, \"As\":5, \\\n",
    "                        \"Sb\": 5, \"Bi\":5, \"O\":-2, \"S\":-2, \"Se\":-2, \"Te\":-2, \"Po\":-2, \"F\":-1, \\\n",
    "                       \"Cl\":-1, \"Br\":-1, \"I\":-1, \"Sc\":3, \"Y\":3, \"Lu\":3, \"Ti\":4, \"Zr\":4, \"Hf\":4, \\\n",
    "                       \"V\":5, \"Nb\":5, \"Ta\":5, \"Cr\":6, \"Mo\":4, \"W\":6, \"Mn\":7, \"Tc\":7, \"Re\":7, \\\n",
    "                       \"Fe\":3, \"Ru\":3, \"Os\":3, \"Co\": 3, \"Rh\":3, \"Ir\":3, \"Cu\":2, \"Ag\":1, \"Au\":3, \\\n",
    "                       \"Zn\":2, \"Ni\":2, \"Cd\":2, \"Hg\":2, \"La\":3, \"Ce\":3, \"Pd\":2, \"Pm\":3, \"Ho\":3, \\\n",
    "                        \"Eu\":3, \"Np\":3, \"Pu\":4, \"Gd\":3, \"Sm\":2, \"Tb\":3, \"Tm\":3, \"Yb\":3, \"Ac\":3, \\\n",
    "                       \"Dy\": 3, \"Er\":3, \"Pr\":3, \"U\":6, \"Pt\":2, \"Nd\":3, \"Th\":4, \"Pa\":5}\n",
    "\n",
    "# two types of transformations taken from the pymatgen\n",
    "oxidation_decorator = OxidationStateDecorationTransformation(oxidation_dictionary)\n",
    "oxidation_auto_decorator = AutoOxiStateDecorationTransformation(distance_scale_factor=1)"
   ]
  },
  {
   "cell_type": "code",
   "execution_count": 22,
   "metadata": {},
   "outputs": [],
   "source": [
    "def apply_charge_decoration(structure):\n",
    "    \"\"\"\n",
    "    Function intended to be used with pandas.DataFrame.apply()\n",
    "\n",
    "    For each structure passed into the function, it sequentially attempts three charge decoration strategies:\n",
    "    (1) a manual charge decoration using the oxidation_dictionary\n",
    "    (2) charge decoration using OxidationStateDecorationTransformation\n",
    "    (3) charge decoration using the built-in add_oxidation_state_by_guess() method\n",
    "    \n",
    "    If any of these strategies result in a structure with nearly zero charge (<= 0.5), then the decoration is accepted.\n",
    "\n",
    "    Parameters\n",
    "    ----------\n",
    "    structure : pymatgen.core.structure\n",
    "        a pymatgen structure file\n",
    "\n",
    "    Returns\n",
    "    ------\n",
    "    structure: pymatgen.core.structure\n",
    "        either charge decorated or not (if the decorations failed)\n",
    "    \"\"\"\n",
    "    \n",
    "    # try the manual decoration strategy\n",
    "    temp_structure = structure.copy()\n",
    "    try:\n",
    "        manually_transformed_structure = oxidation_decorator.apply_transformation(temp_structure)\n",
    "        if abs(manually_transformed_structure.charge) < 0.5:\n",
    "            return manually_transformed_structure\n",
    "    except:\n",
    "        pass\n",
    "    \n",
    "    # try Pymatgen's auto decorator\n",
    "    temp_structure = structure.copy()\n",
    "    try:\n",
    "        auto_transformed_structure = oxidation_auto_decorator.apply_transformation(temp_structure)\n",
    "        if abs(auto_transformed_structure.charge) < 0.5:\n",
    "            return auto_transformed_structure\n",
    "    except:\n",
    "        pass\n",
    "    \n",
    "    # allow Pymatgen to guess the oxidation states\n",
    "    temp_structure = structure.copy()\n",
    "    try:\n",
    "        structure.add_oxidation_state_by_guess()\n",
    "        return structure\n",
    "    except:\n",
    "        pass \n",
    "\n",
    "    return structure"
   ]
  },
  {
   "cell_type": "code",
   "execution_count": 23,
   "metadata": {},
   "outputs": [
    {
     "data": {
      "application/vnd.jupyter.widget-view+json": {
       "model_id": "90d1c2fe3e0b431c8a18ae83bbf477b9",
       "version_major": 2,
       "version_minor": 0
      },
      "text/plain": [
       "  0%|          | 0/17592 [00:00<?, ?it/s]"
      ]
     },
     "metadata": {},
     "output_type": "display_data"
    }
   ],
   "source": [
    "mask = [True if x in no_oxidation_state else False for x in structures_df.index]\n",
    "structures_uncharged_df = structures_df[mask]\n",
    "structures_df.loc[mask, 'structure'] = structures_uncharged_df['structure'].progress_apply(apply_charge_decoration)"
   ]
  },
  {
   "cell_type": "code",
   "execution_count": 24,
   "metadata": {},
   "outputs": [
    {
     "data": {
      "application/vnd.jupyter.widget-view+json": {
       "model_id": "c5222b064f5449b1b91ad57a885ddfb6",
       "version_major": 2,
       "version_minor": 0
      },
      "text/plain": [
       "  0%|          | 0/25291 [00:00<?, ?it/s]"
      ]
     },
     "metadata": {},
     "output_type": "display_data"
    },
    {
     "name": "stdout",
     "output_type": "stream",
     "text": [
      "98 structures are disordered.\n",
      "98 structures are not charge decorated.\n"
     ]
    }
   ],
   "source": [
    "unordered_count = 0\n",
    "unordered = []\n",
    "no_oxidation_count = 0\n",
    "no_oxidation_state = []\n",
    "\n",
    "for idx in tqdm.tqdm(np.arange(0, len(structures_df), 1), desc='Find the number of structures that remain disordered and/or charge undecorated.'):\n",
    "    if not structures_df.loc[idx, \"structure\"].is_ordered:\n",
    "        unordered_count += 1\n",
    "        unordered.append(idx)\n",
    "    try:\n",
    "        for site in structures_df.loc[idx, \"structure\"]:\n",
    "            _ = site.specie.oxi_state\n",
    "    except Exception as e:\n",
    "        no_oxidation_count +=1\n",
    "        no_oxidation_state.append(idx)\n",
    "        \n",
    "print(\"{} structures are disordered.\".format(unordered_count))\n",
    "print(\"{} structures are not charge decorated.\".format(no_oxidation_count))"
   ]
  },
  {
   "cell_type": "markdown",
   "metadata": {},
   "source": [
    "### 1i. Save the dataframe using pickle"
   ]
  },
  {
   "cell_type": "code",
   "execution_count": 25,
   "metadata": {},
   "outputs": [],
   "source": [
    "save_path = os.path.join(os.getcwd(), 'structures_df_3p8_post_sanitize.pkl')\n",
    "save_file = open(save_path, 'wb')\n",
    "pickle.dump(structures_df, save_file)\n",
    "save_file.close()"
   ]
  },
  {
   "cell_type": "markdown",
   "metadata": {},
   "source": [
    "### 1j. Save deleted structures for future use"
   ]
  },
  {
   "cell_type": "code",
   "execution_count": 26,
   "metadata": {},
   "outputs": [],
   "source": [
    "save_path_2 = os.path.join(os.getcwd(), 'structures_deleted_post_sanitize.pkl')\n",
    "save_file = open(save_path_2, 'wb')\n",
    "pickle.dump(deleted_structures, save_file)\n",
    "save_file.close()"
   ]
  },
  {
   "cell_type": "markdown",
   "metadata": {},
   "source": [
    "### 1k. Test to make sure data loads well"
   ]
  },
  {
   "cell_type": "code",
   "execution_count": 27,
   "metadata": {},
   "outputs": [],
   "source": [
    "save_path = os.path.join(os.getcwd(), 'structures_df_3p8_post_sanitize.pkl')\n",
    "open_file = open(save_path, 'rb')\n",
    "structures_df = pickle.load(open_file)\n",
    "open_file.close()"
   ]
  },
  {
   "cell_type": "markdown",
   "metadata": {},
   "source": [
    "### 1l. Removal of structures that couldn't be charge decorated"
   ]
  },
  {
   "cell_type": "code",
   "execution_count": 28,
   "metadata": {},
   "outputs": [
    {
     "data": {
      "application/vnd.jupyter.widget-view+json": {
       "model_id": "30c83e8fdeba44be8a9c11b5c27b13e4",
       "version_major": 2,
       "version_minor": 0
      },
      "text/plain": [
       "Remove structures without charge decoration:   0%|          | 0/25291 [00:00<?, ?it/s]"
      ]
     },
     "metadata": {},
     "output_type": "display_data"
    },
    {
     "name": "stdout",
     "output_type": "stream",
     "text": [
      "98 structures are disordered.\n",
      "98 structures are not charge decorated.\n"
     ]
    }
   ],
   "source": [
    "unordered_count = 0\n",
    "unordered = []\n",
    "no_oxidation_count = 0\n",
    "no_oxidation_state = []\n",
    "\n",
    "for idx in tqdm.tqdm(np.arange(0, len(structures_df), 1), desc='Remove structures without charge decoration'):\n",
    "    if not structures_df.loc[idx, \"structure\"].is_ordered:\n",
    "        unordered_count += 1\n",
    "        unordered.append(idx)\n",
    "    try:\n",
    "        for site in structures_df.loc[idx, \"structure\"]:\n",
    "            _ = site.specie.oxi_state\n",
    "    except Exception as e:\n",
    "        no_oxidation_count +=1\n",
    "        no_oxidation_state.append(idx)\n",
    "        \n",
    "print(\"{} structures are disordered.\".format(unordered_count))\n",
    "print(\"{} structures are not charge decorated.\".format(no_oxidation_count))\n",
    "\n",
    "for_removal = np.unique(unordered+no_oxidation_state)\n",
    "structures_df = structures_df.drop(for_removal)\n",
    "structures_df = structures_df.reset_index()"
   ]
  },
  {
   "cell_type": "code",
   "execution_count": 29,
   "metadata": {},
   "outputs": [
    {
     "data": {
      "text/html": [
       "<div>\n",
       "<style scoped>\n",
       "    .dataframe tbody tr th:only-of-type {\n",
       "        vertical-align: middle;\n",
       "    }\n",
       "\n",
       "    .dataframe tbody tr th {\n",
       "        vertical-align: top;\n",
       "    }\n",
       "\n",
       "    .dataframe thead th {\n",
       "        text-align: right;\n",
       "    }\n",
       "</style>\n",
       "<table border=\"1\" class=\"dataframe\">\n",
       "  <thead>\n",
       "    <tr style=\"text-align: right;\">\n",
       "      <th></th>\n",
       "      <th>index</th>\n",
       "      <th>structure</th>\n",
       "      <th>ICSD_ID</th>\n",
       "      <th>MP_ID</th>\n",
       "      <th>pretty_formula</th>\n",
       "      <th>spacegroup</th>\n",
       "      <th>bandgap</th>\n",
       "      <th>e_hull</th>\n",
       "      <th>ase_structure</th>\n",
       "      <th>composition</th>\n",
       "      <th>replacement</th>\n",
       "    </tr>\n",
       "  </thead>\n",
       "  <tbody>\n",
       "    <tr>\n",
       "      <th>0</th>\n",
       "      <td>0</td>\n",
       "      <td>[[0.        0.        2.6255595] Li0+, [0.    ...</td>\n",
       "      <td>180565</td>\n",
       "      <td>mp-1001790</td>\n",
       "      <td>LiO3</td>\n",
       "      <td>Imm2</td>\n",
       "      <td>0.0854</td>\n",
       "      <td>0.225420</td>\n",
       "      <td>(Atom('Li', [0.0, 0.0, 2.6255594986], index=0)...</td>\n",
       "      <td>Li1 O3</td>\n",
       "      <td>None</td>\n",
       "    </tr>\n",
       "    <tr>\n",
       "      <th>1</th>\n",
       "      <td>1</td>\n",
       "      <td>[[2.79072525 1.34013453 0.79373764] Li0+, [0.9...</td>\n",
       "      <td>188829</td>\n",
       "      <td>mp-1001825</td>\n",
       "      <td>LiBe</td>\n",
       "      <td>P2_1/m</td>\n",
       "      <td>0.0000</td>\n",
       "      <td>0.166972</td>\n",
       "      <td>(Atom('Li', [2.79072525, 1.34013452726, 0.7937...</td>\n",
       "      <td>Li2 Be2</td>\n",
       "      <td>None</td>\n",
       "    </tr>\n",
       "    <tr>\n",
       "      <th>2</th>\n",
       "      <td>2</td>\n",
       "      <td>[[2.412716 2.412716 2.412716] Li0+, [3.619074 ...</td>\n",
       "      <td>236959</td>\n",
       "      <td>mp-1001831</td>\n",
       "      <td>LiB</td>\n",
       "      <td>Fd-3m</td>\n",
       "      <td>1.4331</td>\n",
       "      <td>0.386054</td>\n",
       "      <td>(Atom('Li', [2.412716, 2.412716, 2.412716], in...</td>\n",
       "      <td>Li2 B2</td>\n",
       "      <td>None</td>\n",
       "    </tr>\n",
       "    <tr>\n",
       "      <th>3</th>\n",
       "      <td>3</td>\n",
       "      <td>[[0. 0. 0.] Li+, [1.2797665 1.2797665 1.279766...</td>\n",
       "      <td>184904</td>\n",
       "      <td>mp-1009009</td>\n",
       "      <td>LiF</td>\n",
       "      <td>Pm-3m</td>\n",
       "      <td>7.5195</td>\n",
       "      <td>0.287542</td>\n",
       "      <td>(Atom('Li', [0.0, 0.0, 0.0], index=0), Atom('F...</td>\n",
       "      <td>Li1 F1</td>\n",
       "      <td>None</td>\n",
       "    </tr>\n",
       "    <tr>\n",
       "      <th>4</th>\n",
       "      <td>4</td>\n",
       "      <td>[[1.4805505 1.9928345 2.448045 ] Li0+, [0. 0. ...</td>\n",
       "      <td>180561</td>\n",
       "      <td>mp-1018789</td>\n",
       "      <td>LiO2</td>\n",
       "      <td>Pnnm</td>\n",
       "      <td>0.0000</td>\n",
       "      <td>0.084218</td>\n",
       "      <td>(Atom('Li', [1.4805505, 1.9928345, 2.448045], ...</td>\n",
       "      <td>Li2 O4</td>\n",
       "      <td>None</td>\n",
       "    </tr>\n",
       "    <tr>\n",
       "      <th>...</th>\n",
       "      <td>...</td>\n",
       "      <td>...</td>\n",
       "      <td>...</td>\n",
       "      <td>...</td>\n",
       "      <td>...</td>\n",
       "      <td>...</td>\n",
       "      <td>...</td>\n",
       "      <td>...</td>\n",
       "      <td>...</td>\n",
       "      <td>...</td>\n",
       "      <td>...</td>\n",
       "    </tr>\n",
       "    <tr>\n",
       "      <th>25138</th>\n",
       "      <td>25236</td>\n",
       "      <td>[[4.4408921e-16 0.0000000e+00 3.6529499e+00] B...</td>\n",
       "      <td>155126</td>\n",
       "      <td>mp-5914</td>\n",
       "      <td>None</td>\n",
       "      <td>I4_1/amd</td>\n",
       "      <td>3.4434</td>\n",
       "      <td>0.003077</td>\n",
       "      <td>(Atom('Li', [1.51319656, 1.51319656, 5.17415],...</td>\n",
       "      <td>Li12 B4 N8</td>\n",
       "      <td>[[0.         0.         6.49296948] Li, [3.316...</td>\n",
       "    </tr>\n",
       "    <tr>\n",
       "      <th>25139</th>\n",
       "      <td>25237</td>\n",
       "      <td>[[-8.67783161 -7.32252453 -9.73148729] K+, [-2...</td>\n",
       "      <td>81336</td>\n",
       "      <td>None</td>\n",
       "      <td>None</td>\n",
       "      <td>None</td>\n",
       "      <td>NaN</td>\n",
       "      <td>NaN</td>\n",
       "      <td>(Atom('K', [-2.068668159849999, 4.124882359346...</td>\n",
       "      <td>K6 Li3 Ta18 P9 O72</td>\n",
       "      <td>None</td>\n",
       "    </tr>\n",
       "    <tr>\n",
       "      <th>25140</th>\n",
       "      <td>25238</td>\n",
       "      <td>[[0. 0. 0.] Cu2+, [4.66556584e-16 2.90125000e+...</td>\n",
       "      <td>290741</td>\n",
       "      <td>None</td>\n",
       "      <td>None</td>\n",
       "      <td>None</td>\n",
       "      <td>NaN</td>\n",
       "      <td>NaN</td>\n",
       "      <td>(Atom('Li', [1.41455, 1.450625, 6.524324999999...</td>\n",
       "      <td>Li2 V2 Cu2 O8</td>\n",
       "      <td>None</td>\n",
       "    </tr>\n",
       "    <tr>\n",
       "      <th>25141</th>\n",
       "      <td>25239</td>\n",
       "      <td>[[-4.73005    -2.73089564 -3.4418274 ] Li+, [-...</td>\n",
       "      <td>83279</td>\n",
       "      <td>None</td>\n",
       "      <td>None</td>\n",
       "      <td>None</td>\n",
       "      <td>NaN</td>\n",
       "      <td>NaN</td>\n",
       "      <td>(Atom('Li', [-4.730049907308853e-08, 5.4617913...</td>\n",
       "      <td>Li1 Sm9 Si6 O26</td>\n",
       "      <td>None</td>\n",
       "    </tr>\n",
       "    <tr>\n",
       "      <th>25142</th>\n",
       "      <td>25240</td>\n",
       "      <td>[[7.60481201e-16 4.72900000e+00 6.62675000e+00...</td>\n",
       "      <td>380221</td>\n",
       "      <td>None</td>\n",
       "      <td>None</td>\n",
       "      <td>None</td>\n",
       "      <td>NaN</td>\n",
       "      <td>NaN</td>\n",
       "      <td>(Atom('Cs', [0.0, 4.729, 6.62675], index=0), A...</td>\n",
       "      <td>Cs4 Li20 B40 S72</td>\n",
       "      <td>None</td>\n",
       "    </tr>\n",
       "  </tbody>\n",
       "</table>\n",
       "<p>25143 rows × 11 columns</p>\n",
       "</div>"
      ],
      "text/plain": [
       "       index                                          structure  ICSD_ID  \\\n",
       "0          0  [[0.        0.        2.6255595] Li0+, [0.    ...   180565   \n",
       "1          1  [[2.79072525 1.34013453 0.79373764] Li0+, [0.9...   188829   \n",
       "2          2  [[2.412716 2.412716 2.412716] Li0+, [3.619074 ...   236959   \n",
       "3          3  [[0. 0. 0.] Li+, [1.2797665 1.2797665 1.279766...   184904   \n",
       "4          4  [[1.4805505 1.9928345 2.448045 ] Li0+, [0. 0. ...   180561   \n",
       "...      ...                                                ...      ...   \n",
       "25138  25236  [[4.4408921e-16 0.0000000e+00 3.6529499e+00] B...   155126   \n",
       "25139  25237  [[-8.67783161 -7.32252453 -9.73148729] K+, [-2...    81336   \n",
       "25140  25238  [[0. 0. 0.] Cu2+, [4.66556584e-16 2.90125000e+...   290741   \n",
       "25141  25239  [[-4.73005    -2.73089564 -3.4418274 ] Li+, [-...    83279   \n",
       "25142  25240  [[7.60481201e-16 4.72900000e+00 6.62675000e+00...   380221   \n",
       "\n",
       "            MP_ID pretty_formula spacegroup  bandgap    e_hull  \\\n",
       "0      mp-1001790           LiO3       Imm2   0.0854  0.225420   \n",
       "1      mp-1001825           LiBe     P2_1/m   0.0000  0.166972   \n",
       "2      mp-1001831            LiB      Fd-3m   1.4331  0.386054   \n",
       "3      mp-1009009            LiF      Pm-3m   7.5195  0.287542   \n",
       "4      mp-1018789           LiO2       Pnnm   0.0000  0.084218   \n",
       "...           ...            ...        ...      ...       ...   \n",
       "25138     mp-5914           None   I4_1/amd   3.4434  0.003077   \n",
       "25139        None           None       None      NaN       NaN   \n",
       "25140        None           None       None      NaN       NaN   \n",
       "25141        None           None       None      NaN       NaN   \n",
       "25142        None           None       None      NaN       NaN   \n",
       "\n",
       "                                           ase_structure         composition  \\\n",
       "0      (Atom('Li', [0.0, 0.0, 2.6255594986], index=0)...              Li1 O3   \n",
       "1      (Atom('Li', [2.79072525, 1.34013452726, 0.7937...             Li2 Be2   \n",
       "2      (Atom('Li', [2.412716, 2.412716, 2.412716], in...              Li2 B2   \n",
       "3      (Atom('Li', [0.0, 0.0, 0.0], index=0), Atom('F...              Li1 F1   \n",
       "4      (Atom('Li', [1.4805505, 1.9928345, 2.448045], ...              Li2 O4   \n",
       "...                                                  ...                 ...   \n",
       "25138  (Atom('Li', [1.51319656, 1.51319656, 5.17415],...          Li12 B4 N8   \n",
       "25139  (Atom('K', [-2.068668159849999, 4.124882359346...  K6 Li3 Ta18 P9 O72   \n",
       "25140  (Atom('Li', [1.41455, 1.450625, 6.524324999999...       Li2 V2 Cu2 O8   \n",
       "25141  (Atom('Li', [-4.730049907308853e-08, 5.4617913...     Li1 Sm9 Si6 O26   \n",
       "25142  (Atom('Cs', [0.0, 4.729, 6.62675], index=0), A...    Cs4 Li20 B40 S72   \n",
       "\n",
       "                                             replacement  \n",
       "0                                                   None  \n",
       "1                                                   None  \n",
       "2                                                   None  \n",
       "3                                                   None  \n",
       "4                                                   None  \n",
       "...                                                  ...  \n",
       "25138  [[0.         0.         6.49296948] Li, [3.316...  \n",
       "25139                                               None  \n",
       "25140                                               None  \n",
       "25141                                               None  \n",
       "25142                                               None  \n",
       "\n",
       "[25143 rows x 11 columns]"
      ]
     },
     "execution_count": 29,
     "metadata": {},
     "output_type": "execute_result"
    }
   ],
   "source": [
    "structures_df.head(-50)"
   ]
  },
  {
   "cell_type": "markdown",
   "metadata": {},
   "source": [
    "### 1m. Routine to label ICSD structures with spacegroup"
   ]
  },
  {
   "cell_type": "code",
   "execution_count": 30,
   "metadata": {},
   "outputs": [
    {
     "name": "stdout",
     "output_type": "stream",
     "text": [
      "Initial: 4665 rows are missing a spacegroup.\n"
     ]
    },
    {
     "data": {
      "application/vnd.jupyter.widget-view+json": {
       "model_id": "53444d6becd54ec4b96244b10099a47e",
       "version_major": 2,
       "version_minor": 0
      },
      "text/plain": [
       "  0%|          | 0/4665 [00:00<?, ?it/s]"
      ]
     },
     "metadata": {},
     "output_type": "display_data"
    },
    {
     "name": "stdout",
     "output_type": "stream",
     "text": [
      "Post spacegroup labeling: 6 rows are missing a spacegroup.\n"
     ]
    }
   ],
   "source": [
    "def spacegroup_labeler(structure):\n",
    "    \"\"\"\n",
    "    Function intended to be used with pandas.DataFrame.apply()\n",
    "\n",
    "    For each structure passed into the function, determine the space group.\n",
    "\n",
    "    Parameters\n",
    "    ----------\n",
    "    structure : pymatgen.core.structure\n",
    "        a pymatgen structure file\n",
    "\n",
    "    Returns\n",
    "    ------\n",
    "    sg.get_space_group_symbol() : string\n",
    "        the symbol for the spacegroup\n",
    "    \"\"\"\n",
    "    \n",
    "    try:\n",
    "        s = mg.Structure.from_sites(structure)\n",
    "        sg = SpacegroupAnalyzer(s)\n",
    "        return sg.get_space_group_symbol()\n",
    "    except:\n",
    "        return None\n",
    "\n",
    "missing_spacegroup_idx = structures_df[structures_df[\"spacegroup\"].isna()].index.tolist()\n",
    "print(\"Initial: {} rows are missing a spacegroup.\".format(len(missing_spacegroup_idx)))\n",
    "\n",
    "# make the dataframe to apply the spacegroup analyzer only to rows missing a spacegroup\n",
    "mask = [True if x in missing_spacegroup_idx else False for x in structures_df.index]\n",
    "structures_without_spacegroup_df = structures_df[mask]\n",
    "structures_df.loc[mask, 'spacegroup'] = structures_without_spacegroup_df['structure'].progress_apply(spacegroup_labeler)\n",
    "\n",
    "\n",
    "missing_spacegroup_idx = structures_df[structures_df[\"spacegroup\"].isna()].index.tolist()\n",
    "print(\"Post spacegroup labeling: {} rows are missing a spacegroup.\".format(len(missing_spacegroup_idx)))"
   ]
  },
  {
   "cell_type": "markdown",
   "metadata": {},
   "source": [
    "### 1n. Breakdown of spacegroups"
   ]
  },
  {
   "cell_type": "code",
   "execution_count": 31,
   "metadata": {},
   "outputs": [
    {
     "name": "stdout",
     "output_type": "stream",
     "text": [
      "1 - P1: 4475\n",
      "2 - P-1: 2290\n",
      "3 - P121: 0\n",
      "4 - P12_11: 0\n",
      "5 - C121: 0\n",
      "6 - P1m1: 0\n",
      "7 - P1c1: 0\n",
      "8 - C1m1: 0\n",
      "9 - C1c1: 0\n",
      "10 - P12/m1: 0\n",
      "11 - P12_1/m1: 0\n",
      "12 - C12/m1: 0\n",
      "13 - P12/c1: 0\n",
      "14 - P12_1/c1: 0\n",
      "15 - C12/c1: 0\n",
      "16 - P222: 3\n",
      "17 - P222_1: 6\n",
      "18 - P2_12_12: 18\n",
      "19 - P2_12_121: 0\n",
      "20 - C222_1: 60\n",
      "21 - C222: 38\n",
      "22 - F222: 11\n",
      "23 - I222: 2\n",
      "24 - I2_12_121: 0\n",
      "25 - Pmm2: 70\n",
      "26 - Pmc2_1: 72\n",
      "27 - Pcc2: 0\n",
      "28 - Pma2: 1\n",
      "29 - Pca2_1: 83\n",
      "30 - Pnc2: 11\n",
      "31 - Pmn2_1: 104\n",
      "32 - Pba2: 2\n",
      "33 - Pna2_1: 376\n",
      "34 - Pnn2: 13\n",
      "35 - Cmm2: 31\n",
      "36 - Cmc2_1: 100\n",
      "37 - Ccc2: 18\n",
      "38 - Amm2: 73\n",
      "39 - Aem2: 3\n",
      "40 - Ama2: 27\n",
      "41 - Aea2: 20\n",
      "42 - Fmm2: 6\n",
      "43 - Fdd2: 46\n",
      "44 - Imm2: 51\n",
      "45 - Iba2: 0\n",
      "46 - Ima2: 7\n",
      "47 - Pmmm: 27\n",
      "48 - Pnnn: 0\n",
      "49 - Pccm: 4\n",
      "50 - Pban: 0\n",
      "51 - Pmma: 35\n",
      "52 - Pnna: 22\n",
      "53 - Pmna: 7\n",
      "54 - Pcca: 5\n",
      "55 - Pbam: 58\n",
      "56 - Pccn: 14\n",
      "57 - Pbcm: 27\n",
      "58 - Pnnm: 62\n",
      "59 - Pmmn: 68\n",
      "60 - Pbcn: 119\n",
      "61 - Pbca: 208\n",
      "62 - Pnma: 702\n",
      "63 - Cmcm: 201\n",
      "64 - Cmce: 100\n",
      "65 - Cmmm: 95\n",
      "66 - Cccm: 3\n",
      "67 - Cmme: 10\n",
      "68 - Ccce: 1\n",
      "69 - Fmmm: 3\n",
      "70 - Fddd: 39\n",
      "71 - Immm: 341\n",
      "72 - Ibam: 16\n",
      "73 - Ibca: 6\n",
      "74 - Imma: 220\n",
      "75 - P4: 2\n",
      "76 - P4_1: 17\n",
      "77 - P4_2: 0\n",
      "78 - P4_3: 7\n",
      "79 - I4: 2\n",
      "80 - I4_1: 3\n",
      "81 - P-4: 12\n",
      "82 - I-4: 88\n",
      "83 - P4/m: 1\n",
      "84 - P4_2/m: 8\n",
      "85 - P4/n: 3\n",
      "86 - P4_2/n: 7\n",
      "87 - I4/m: 29\n",
      "88 - I4_1/a: 60\n",
      "89 - P422: 0\n",
      "90 - P42_12: 1\n",
      "91 - P4_122: 11\n",
      "92 - P4_12_12: 11\n",
      "93 - P4_222: 0\n",
      "94 - P4_22_12: 4\n",
      "95 - P4_322: 56\n",
      "96 - P4_32_12: 16\n",
      "97 - I422: 0\n",
      "98 - I4_122: 1\n",
      "99 - P4mm: 44\n",
      "100 - P4bm: 4\n",
      "101 - P4_2cm: 0\n",
      "102 - P4_2nm: 19\n",
      "103 - P4cc: 0\n",
      "104 - P4nc: 1\n",
      "105 - P4_2mc: 10\n",
      "106 - P4_2bc: 1\n",
      "107 - I4mm: 9\n",
      "108 - I4cm: 2\n",
      "109 - I4_1md: 10\n",
      "110 - I4_1cd: 28\n",
      "111 - P-42m: 14\n",
      "112 - P-42c: 1\n",
      "113 - P-42_1m: 13\n",
      "114 - P-42_1c: 12\n",
      "115 - P-4m2: 49\n",
      "116 - P-4c2: 0\n",
      "117 - P-4b2: 2\n",
      "118 - P-4n2: 13\n",
      "119 - I-4m2: 73\n",
      "120 - I-4c2: 0\n",
      "121 - I-42m: 25\n",
      "122 - I-42d: 54\n",
      "123 - P4/mmm: 316\n",
      "124 - P4/mcc: 0\n",
      "125 - P4/nbm: 5\n",
      "126 - P4/nnc: 0\n",
      "127 - P4/mbm: 14\n",
      "128 - P4/mnc: 5\n",
      "129 - P4/nmm: 134\n",
      "130 - P4/ncc: 11\n",
      "131 - P4_2/mmc: 5\n",
      "132 - P4_2/mcm: 1\n",
      "133 - P4_2/nbc: 1\n",
      "134 - P4_2/nnm: 4\n",
      "135 - P4_2/mbc: 3\n",
      "136 - P4_2/mnm: 49\n",
      "137 - P4_2/nmc: 43\n",
      "138 - P4_2/ncm: 3\n",
      "139 - I4/mmm: 120\n",
      "140 - I4/mcm: 13\n",
      "141 - I4_1/amd: 103\n",
      "142 - I4_1/acd: 25\n",
      "143 - P3: 105\n",
      "144 - P3_1: 10\n",
      "145 - P3_2: 10\n",
      "146 - R3H: 0\n",
      "147 - P-3: 39\n",
      "148 - R-3H: 0\n",
      "149 - P312: 12\n",
      "150 - P321: 34\n",
      "151 - P3_112: 3\n",
      "152 - P3_121: 17\n",
      "153 - P3_212: 1\n",
      "154 - P3_221: 0\n",
      "155 - R32H: 0\n",
      "156 - P3m1: 227\n",
      "157 - P31m: 4\n",
      "158 - P3c1: 8\n",
      "159 - P31c: 40\n",
      "160 - R3mH: 0\n",
      "161 - R3cH: 0\n",
      "162 - P-31m: 19\n",
      "163 - P-31c: 51\n",
      "164 - P-3m1: 373\n",
      "165 - P-3c1: 25\n",
      "166 - R-3mH: 0\n",
      "167 - R-3cH: 0\n",
      "168 - P6: 1\n",
      "169 - P6_1: 13\n",
      "170 - P6_5: 7\n",
      "171 - P6_2: 0\n",
      "172 - P6_4: 0\n",
      "173 - P6_3: 81\n",
      "174 - P-6: 34\n",
      "175 - P6/m: 0\n",
      "176 - P6_3/m: 14\n",
      "177 - P622: 0\n",
      "178 - P6_122: 5\n",
      "179 - P6_522: 0\n",
      "180 - P6_222: 11\n",
      "181 - P6_422: 26\n",
      "182 - P6_322: 5\n",
      "183 - P6mm: 2\n",
      "184 - P6cc: 0\n",
      "185 - P6_3cm: 19\n",
      "186 - P6_3mc: 149\n",
      "187 - P-6m2: 56\n",
      "188 - P-6c2: 7\n",
      "189 - P-62m: 25\n",
      "190 - P-62c: 8\n",
      "191 - P6/mmm: 82\n",
      "192 - P6/mcc: 17\n",
      "193 - P6_3/mcm: 8\n",
      "194 - P6_3/mmc: 164\n",
      "195 - P23: 0\n",
      "196 - F23: 2\n",
      "197 - I23: 1\n",
      "198 - P2_13: 63\n",
      "199 - I2_13: 8\n",
      "200 - Pm-3: 6\n",
      "201 - Pn-3: 1\n",
      "202 - Fm-3: 1\n",
      "203 - Fd-3: 13\n",
      "204 - Im-3: 2\n",
      "205 - Pa-3: 14\n",
      "206 - Ia-3: 37\n",
      "207 - P432: 0\n",
      "208 - P4_232: 0\n",
      "209 - F432: 0\n",
      "210 - F4_132: 0\n",
      "211 - I432: 0\n",
      "212 - P4_332: 75\n",
      "213 - P4_132: 2\n",
      "214 - I4_132: 1\n",
      "215 - P-43m: 73\n",
      "216 - F-43m: 210\n",
      "217 - I-43m: 12\n",
      "218 - P-43n: 30\n",
      "219 - F-43c: 0\n",
      "220 - I-43d: 13\n",
      "221 - Pm-3m: 243\n",
      "222 - Pn-3n: 0\n",
      "223 - Pm-3n: 1\n",
      "224 - Pn-3m: 10\n",
      "225 - Fm-3m: 1029\n",
      "226 - Fm-3c: 1\n",
      "227 - Fd-3m: 175\n",
      "228 - Fd-3c: 0\n",
      "229 - Im-3m: 19\n",
      "230 - Ia-3d: 48\n"
     ]
    }
   ],
   "source": [
    "spacegroup_counts = []\n",
    "for i in np.arange(1, 231, 1):\n",
    "    symbol = sg_symbol_from_int_number(i)\n",
    "    print(\"{} - {}: {}\".format(i, symbol, len(structures_df[structures_df[\"spacegroup\"] == symbol])))\n",
    "    spacegroup_counts.append(len(structures_df[structures_df[\"spacegroup\"] == symbol]))"
   ]
  },
  {
   "cell_type": "markdown",
   "metadata": {},
   "source": [
    "### 1o. Save a copy without ASE structures for 3.7 compatibility (comment out if not needed)"
   ]
  },
  {
   "cell_type": "code",
   "execution_count": 32,
   "metadata": {},
   "outputs": [],
   "source": [
    "# savePath = os.path.join(os.getcwd(), 'structuresDF_3p8_postSanitize2_noASE.pkl')\n",
    "# saveFile = open(savePath, 'wb')\n",
    "# pickle.dump(newInstance.drop(['aseStructures'], axis=1), saveFile)\n",
    "# saveFile.close()"
   ]
  },
  {
   "cell_type": "markdown",
   "metadata": {},
   "source": [
    "### 1p. Create structure simplifications. Nine versions of the structure are used:\n",
    "\n",
    "* __structure:__ The original structure. \n",
    "* __structure_A:__ Only the anions. All anions are modeled as S atoms. \n",
    "* __structure_AM:__ Only the anions and mobile atoms. Anions and mobil atoms are modeled as S and Li, respectively. \n",
    "* __structure_CAN:__ Only the cations, anions, and mobile atoms. Cations, anions, and mobile atoms are modeled as Al, S, and Li, respectively. \n",
    "* __structure_CAMN:__ All atoms are retained. Cations, anions, mobile atoms, and neutral atoms are modeled as Al, S, Li, and Mg, respectively. \n",
    "* __structure_A40:__ As with structure_A but the lattice volume is scaled to 40 cubic angstroms per anion. \n",
    "* __structure_AM40:__ As with structure_AM but the lattice volume is scaled to 40 cubic angstroms per anion. \n",
    "* __structure_CAN40:__ As with structure_CAN but the lattice volume is scaled to 40 cubic angstroms per anion. \n",
    "* __structure_CAMN40:__ As with structure_CAMN but the lattice volume is scaled to 40 cubic angstroms per anion. \n",
    "\n",
    "    "
   ]
  },
  {
   "cell_type": "code",
   "execution_count": 33,
   "metadata": {},
   "outputs": [],
   "source": [
    "def structure_simplifications(structure_input, simplification_dict):\n",
    "    \"\"\"\n",
    "    Function intended to be used with pandas.DataFrame.apply()\n",
    "\n",
    "    The function takes a structure and then simplifies it based on the contents of simplification_dict.\n",
    "    The simplified structure is returned. \n",
    "\n",
    "\n",
    "    Parameters\n",
    "    ----------\n",
    "    structure_input : pymatgen.core.structure\n",
    "        a pymatgen structure file\n",
    "        \n",
    "    simplification_dict : dictionary\n",
    "        A dictionary containing boolean values for the keys: 'C', 'A', 'M', 'N', '40'\n",
    "\n",
    "    Returns\n",
    "    ------\n",
    "    structure: pymatgen.core.structure\n",
    "        the simplified structure\n",
    "    \"\"\"\n",
    "    \n",
    "    # copy the structure in case modification fails\n",
    "    structure = structure_input.copy()\n",
    "    \n",
    "    # create lists to keep track of the indices for the different atom types: cation, anion, mobile, neutral\n",
    "    cation_list = []\n",
    "    anion_list = []\n",
    "    mobile_list = []\n",
    "    neutral_list = []\n",
    "    \n",
    "    # create list to keep track of which atoms will be removed\n",
    "    removal_list = []\n",
    "    \n",
    "    # integer to keep track of how to scale the lattice (for the representations that end in '40')\n",
    "    scaling_counter = 0\n",
    "    \n",
    "    for idx, site in enumerate(structure):\n",
    "        # grab the element name at the site\n",
    "        element = site.species.elements[0].element.name\n",
    "        # grab the charge at the site\n",
    "        charge = site.specie.oxi_state\n",
    "        \n",
    "        # if the site is the mobile atom\n",
    "        if element == 'Li':\n",
    "            mobile_list.append(idx)\n",
    "        else:\n",
    "            # if the site holds a neutral atom\n",
    "            if charge == 0:\n",
    "                neutral_list.append(idx)\n",
    "                scaling_counter+=1\n",
    "                structure.replace(idx, mg.Specie(\"Mg\", oxidation_state=charge))\n",
    "            # if the site holds a cation\n",
    "            elif charge>0:\n",
    "                cation_list.append(idx)\n",
    "                structure.replace(idx, mg.Specie(\"Al\", oxidation_state=charge))\n",
    "            # if the site holds an anion\n",
    "            else:\n",
    "                anion_list.append(idx)\n",
    "                scaling_counter+=1\n",
    "                structure.replace(idx, mg.Specie(\"S\", oxidation_state=charge))\n",
    "    \n",
    "    # comparison to simplification_dict to decide which sites are removed\n",
    "    if not simplification_dict['C']:\n",
    "        removal_list += cation_list     \n",
    "    if not simplification_dict['A']:\n",
    "        removal_list += anion_list                \n",
    "    if not simplification_dict['M']:\n",
    "        removal_list += mobile_list\n",
    "    if not simplification_dict['N']:\n",
    "        removal_list += neutral_list\n",
    "    \n",
    "    # Special cases for the structures_A and structures_CAN representations\n",
    "    # Some structures have only Li. For these we are going to handle them as anions (because every representations includes anions)\n",
    "    if len(structure) == len(mobile_list):\n",
    "        if not simplification_dict['M']:\n",
    "            for idx in mobile_list:\n",
    "                structure.replace(idx, mg.Specie(\"S\", oxidation_state=charge))\n",
    "    \n",
    "    # Some structures have only neutrals or cations. For these we are going to handle them as anions (because every representation includes anions)\n",
    "    elif len(structure) == len(removal_list):\n",
    "        if len(neutral_list) > 0:\n",
    "            for idx in neutral_list:\n",
    "                structure.replace(idx, mg.Specie(\"S\", oxidation_state=charge))\n",
    "            structure.remove_sites(cation_list+mobile_list)\n",
    "        elif len(mobile_list) > 0:\n",
    "            for idx in mobile_list:\n",
    "                structure.replace(idx, mg.Specie(\"S\", oxidation_state=charge))\n",
    "            structure.remove_sites(cation_list+neutral_list)\n",
    "        elif len(cation_list) > 0:\n",
    "            for idx in cation_list:\n",
    "                structure.replace(idx, mg.Specie(\"S\", oxidation_state=charge))\n",
    "            structure.remove_sites(neutral_list+mobile_list)\n",
    "    \n",
    "    # otherwise just remove whatever is in the removal list\n",
    "    else:\n",
    "        structure.remove_sites(removal_list)\n",
    "    \n",
    "    # if simplification_dict indicates that the lattice should be scaled\n",
    "    if simplification_dict['40']:              \n",
    "        if scaling_counter > 0:\n",
    "            structure.scale_lattice(40*scaling_counter)\n",
    "    \n",
    "    return structure"
   ]
  },
  {
   "cell_type": "code",
   "execution_count": 34,
   "metadata": {},
   "outputs": [
    {
     "data": {
      "application/vnd.jupyter.widget-view+json": {
       "model_id": "580541e9fb794b5ea996ba4b892368e8",
       "version_major": 2,
       "version_minor": 0
      },
      "text/plain": [
       "  0%|          | 0/25193 [00:00<?, ?it/s]"
      ]
     },
     "metadata": {},
     "output_type": "display_data"
    },
    {
     "data": {
      "application/vnd.jupyter.widget-view+json": {
       "model_id": "cafdc01bb9f04f9b948af9bc514ee2cd",
       "version_major": 2,
       "version_minor": 0
      },
      "text/plain": [
       "  0%|          | 0/25193 [00:00<?, ?it/s]"
      ]
     },
     "metadata": {},
     "output_type": "display_data"
    },
    {
     "data": {
      "application/vnd.jupyter.widget-view+json": {
       "model_id": "74f7cc93e2974fd7a28061bfa301cd73",
       "version_major": 2,
       "version_minor": 0
      },
      "text/plain": [
       "  0%|          | 0/25193 [00:00<?, ?it/s]"
      ]
     },
     "metadata": {},
     "output_type": "display_data"
    },
    {
     "data": {
      "application/vnd.jupyter.widget-view+json": {
       "model_id": "6721d58a82ac4191936169bcd442341c",
       "version_major": 2,
       "version_minor": 0
      },
      "text/plain": [
       "  0%|          | 0/25193 [00:00<?, ?it/s]"
      ]
     },
     "metadata": {},
     "output_type": "display_data"
    },
    {
     "data": {
      "application/vnd.jupyter.widget-view+json": {
       "model_id": "b7af00a2bcbe4c2783a6cb8b1f4bbb93",
       "version_major": 2,
       "version_minor": 0
      },
      "text/plain": [
       "  0%|          | 0/25193 [00:00<?, ?it/s]"
      ]
     },
     "metadata": {},
     "output_type": "display_data"
    },
    {
     "data": {
      "application/vnd.jupyter.widget-view+json": {
       "model_id": "78d19573daa3482180931a27e98b6ca4",
       "version_major": 2,
       "version_minor": 0
      },
      "text/plain": [
       "  0%|          | 0/25193 [00:00<?, ?it/s]"
      ]
     },
     "metadata": {},
     "output_type": "display_data"
    },
    {
     "data": {
      "application/vnd.jupyter.widget-view+json": {
       "model_id": "03661aed4b104773bd28218d1315cb91",
       "version_major": 2,
       "version_minor": 0
      },
      "text/plain": [
       "  0%|          | 0/25193 [00:00<?, ?it/s]"
      ]
     },
     "metadata": {},
     "output_type": "display_data"
    },
    {
     "data": {
      "application/vnd.jupyter.widget-view+json": {
       "model_id": "57466131d6b34b9c8e69ede832cbd13a",
       "version_major": 2,
       "version_minor": 0
      },
      "text/plain": [
       "  0%|          | 0/25193 [00:00<?, ?it/s]"
      ]
     },
     "metadata": {},
     "output_type": "display_data"
    }
   ],
   "source": [
    "# the eight distinct simplification dictionary are hardcoded here\n",
    "simplification_dict_A = {'C':False, 'A':True, 'M':False, 'N':False, '40':False}\n",
    "simplification_dict_AM = {'C':False, 'A':True, 'M':True, 'N':False, '40':False}\n",
    "simplification_dict_CAN = {'C':True, 'A':True, 'M':False, 'N':True, '40':False}\n",
    "simplification_dict_CAMN = {'C':True, 'A':True, 'M':True, 'N':True, '40':False}\n",
    "simplification_dict_A40 = {'C':False, 'A':True, 'M':False, 'N':False, '40':True}\n",
    "simplification_dict_AM40 = {'C':False, 'A':True, 'M':True, 'N':False, '40':True}\n",
    "simplification_dict_CAN40 = {'C':True, 'A':True, 'M':False, 'N':True, '40':True}\n",
    "simplification_dict_CAMN40 = {'C':True, 'A':True, 'M':True, 'N':True, '40':True}\n",
    "\n",
    "# application of the structure_simplification() function, applied once for each simplification dictionary\n",
    "structures_df['structure_A'] = structures_df['structure'].progress_apply(structure_simplifications, simplification_dict=simplification_dict_A)\n",
    "structures_df['structure_AM'] = structures_df['structure'].progress_apply(structure_simplifications, simplification_dict=simplification_dict_AM)\n",
    "structures_df['structure_CAN'] = structures_df['structure'].progress_apply(structure_simplifications, simplification_dict=simplification_dict_CAN)\n",
    "structures_df['structure_CAMN'] = structures_df['structure'].progress_apply(structure_simplifications, simplification_dict=simplification_dict_CAMN)\n",
    "structures_df['structure_A40'] = structures_df['structure'].progress_apply(structure_simplifications, simplification_dict=simplification_dict_A40)\n",
    "structures_df['structure_AM40'] = structures_df['structure'].progress_apply(structure_simplifications, simplification_dict=simplification_dict_AM40)\n",
    "structures_df['structure_CAN40'] = structures_df['structure'].progress_apply(structure_simplifications, simplification_dict=simplification_dict_CAN40)\n",
    "structures_df['structure_CAMN40'] = structures_df['structure'].progress_apply(structure_simplifications, simplification_dict=simplification_dict_CAMN40)"
   ]
  },
  {
   "cell_type": "code",
   "execution_count": 35,
   "metadata": {},
   "outputs": [
    {
     "data": {
      "text/html": [
       "<div>\n",
       "<style scoped>\n",
       "    .dataframe tbody tr th:only-of-type {\n",
       "        vertical-align: middle;\n",
       "    }\n",
       "\n",
       "    .dataframe tbody tr th {\n",
       "        vertical-align: top;\n",
       "    }\n",
       "\n",
       "    .dataframe thead th {\n",
       "        text-align: right;\n",
       "    }\n",
       "</style>\n",
       "<table border=\"1\" class=\"dataframe\">\n",
       "  <thead>\n",
       "    <tr style=\"text-align: right;\">\n",
       "      <th></th>\n",
       "      <th>index</th>\n",
       "      <th>structure</th>\n",
       "      <th>ICSD_ID</th>\n",
       "      <th>MP_ID</th>\n",
       "      <th>pretty_formula</th>\n",
       "      <th>spacegroup</th>\n",
       "      <th>bandgap</th>\n",
       "      <th>e_hull</th>\n",
       "      <th>ase_structure</th>\n",
       "      <th>composition</th>\n",
       "      <th>replacement</th>\n",
       "      <th>structure_A</th>\n",
       "      <th>structure_AM</th>\n",
       "      <th>structure_CAN</th>\n",
       "      <th>structure_CAMN</th>\n",
       "      <th>structure_A40</th>\n",
       "      <th>structure_AM40</th>\n",
       "      <th>structure_CAN40</th>\n",
       "      <th>structure_CAMN40</th>\n",
       "    </tr>\n",
       "  </thead>\n",
       "  <tbody>\n",
       "    <tr>\n",
       "      <th>0</th>\n",
       "      <td>0</td>\n",
       "      <td>[[0.        0.        2.6255595] Li0+, [0.    ...</td>\n",
       "      <td>180565</td>\n",
       "      <td>mp-1001790</td>\n",
       "      <td>LiO3</td>\n",
       "      <td>Imm2</td>\n",
       "      <td>0.0854</td>\n",
       "      <td>0.225420</td>\n",
       "      <td>(Atom('Li', [0.0, 0.0, 2.6255594986], index=0)...</td>\n",
       "      <td>Li1 O3</td>\n",
       "      <td>None</td>\n",
       "      <td>[[0.         0.         5.35128645] S0+, [5.55...</td>\n",
       "      <td>[[0.        0.        2.6255595] Li0+]</td>\n",
       "      <td>[[0.         0.         5.35128645] Mg0+, [5.5...</td>\n",
       "      <td>[[0.        0.        2.6255595] Li0+, [0.    ...</td>\n",
       "      <td>[[0.        0.        7.5441549] S0+, [-1.1102...</td>\n",
       "      <td>[[0.         0.         3.70147024] Li0+]</td>\n",
       "      <td>[[0.        0.        7.5441549] Mg0+, [-1.110...</td>\n",
       "      <td>[[0.         0.         3.70147024] Li0+, [0. ...</td>\n",
       "    </tr>\n",
       "    <tr>\n",
       "      <th>1</th>\n",
       "      <td>1</td>\n",
       "      <td>[[2.79072525 1.34013453 0.79373764] Li0+, [0.9...</td>\n",
       "      <td>188829</td>\n",
       "      <td>mp-1001825</td>\n",
       "      <td>LiBe</td>\n",
       "      <td>P2_1/m</td>\n",
       "      <td>0.0000</td>\n",
       "      <td>0.166972</td>\n",
       "      <td>(Atom('Li', [2.79072525, 1.34013452726, 0.7937...</td>\n",
       "      <td>Li2 Be2</td>\n",
       "      <td>None</td>\n",
       "      <td>[[2.79072525 1.17476284 3.09734748] S0+, [0.93...</td>\n",
       "      <td>[[2.79072525 1.34013453 0.79373764] Li0+, [0.9...</td>\n",
       "      <td>[[2.79072525 1.17476284 3.09734748] Mg0+, [0.9...</td>\n",
       "      <td>[[2.79072525 1.34013453 0.79373764] Li0+, [0.9...</td>\n",
       "      <td>[[3.39085782 1.42739017 3.76341775] S0+, [1.13...</td>\n",
       "      <td>[[3.39085782 1.62832427 0.96442725] Li0+, [1.1...</td>\n",
       "      <td>[[3.39085782 1.42739017 3.76341775] Mg0+, [1.1...</td>\n",
       "      <td>[[3.39085782 1.62832427 0.96442725] Li0+, [1.1...</td>\n",
       "    </tr>\n",
       "    <tr>\n",
       "      <th>2</th>\n",
       "      <td>2</td>\n",
       "      <td>[[2.412716 2.412716 2.412716] Li0+, [3.619074 ...</td>\n",
       "      <td>236959</td>\n",
       "      <td>mp-1001831</td>\n",
       "      <td>LiB</td>\n",
       "      <td>Fd-3m</td>\n",
       "      <td>1.4331</td>\n",
       "      <td>0.386054</td>\n",
       "      <td>(Atom('Li', [2.412716, 2.412716, 2.412716], in...</td>\n",
       "      <td>Li2 B2</td>\n",
       "      <td>None</td>\n",
       "      <td>[[1.206358 1.206358 1.206358] S0+, [0. 0. 0.] ...</td>\n",
       "      <td>[[2.412716 2.412716 2.412716] Li0+, [3.619074 ...</td>\n",
       "      <td>[[1.206358 1.206358 1.206358] Mg0+, [0. 0. 0.]...</td>\n",
       "      <td>[[2.412716 2.412716 2.412716] Li0+, [3.619074 ...</td>\n",
       "      <td>[[1.70997595 1.70997595 1.70997595] S0+, [0. 0...</td>\n",
       "      <td>[[3.41995189 3.41995189 3.41995189] Li0+, [5.1...</td>\n",
       "      <td>[[1.70997595 1.70997595 1.70997595] Mg0+, [0. ...</td>\n",
       "      <td>[[3.41995189 3.41995189 3.41995189] Li0+, [5.1...</td>\n",
       "    </tr>\n",
       "    <tr>\n",
       "      <th>3</th>\n",
       "      <td>3</td>\n",
       "      <td>[[0. 0. 0.] Li+, [1.2797665 1.2797665 1.279766...</td>\n",
       "      <td>184904</td>\n",
       "      <td>mp-1009009</td>\n",
       "      <td>LiF</td>\n",
       "      <td>Pm-3m</td>\n",
       "      <td>7.5195</td>\n",
       "      <td>0.287542</td>\n",
       "      <td>(Atom('Li', [0.0, 0.0, 0.0], index=0), Atom('F...</td>\n",
       "      <td>Li1 F1</td>\n",
       "      <td>None</td>\n",
       "      <td>[[1.2797665 1.2797665 1.2797665] S-]</td>\n",
       "      <td>[[0. 0. 0.] Li+, [1.2797665 1.2797665 1.279766...</td>\n",
       "      <td>[[1.2797665 1.2797665 1.2797665] S-]</td>\n",
       "      <td>[[0. 0. 0.] Li+, [1.2797665 1.2797665 1.279766...</td>\n",
       "      <td>[[1.70997595 1.70997595 1.70997595] S-]</td>\n",
       "      <td>[[0. 0. 0.] Li+, [1.70997595 1.70997595 1.7099...</td>\n",
       "      <td>[[1.70997595 1.70997595 1.70997595] S-]</td>\n",
       "      <td>[[0. 0. 0.] Li+, [1.70997595 1.70997595 1.7099...</td>\n",
       "    </tr>\n",
       "    <tr>\n",
       "      <th>4</th>\n",
       "      <td>4</td>\n",
       "      <td>[[1.4805505 1.9928345 2.448045 ] Li0+, [0. 0. ...</td>\n",
       "      <td>180561</td>\n",
       "      <td>mp-1018789</td>\n",
       "      <td>LiO2</td>\n",
       "      <td>Pnnm</td>\n",
       "      <td>0.0000</td>\n",
       "      <td>0.084218</td>\n",
       "      <td>(Atom('Li', [1.4805505, 1.9928345, 2.448045], ...</td>\n",
       "      <td>Li2 O4</td>\n",
       "      <td>None</td>\n",
       "      <td>[[1.4805505  2.51837684 0.41921791] S0+, [1.48...</td>\n",
       "      <td>[[1.4805505 1.9928345 2.448045 ] Li0+, [0. 0. ...</td>\n",
       "      <td>[[1.4805505  2.51837684 0.41921791] Mg0+, [1.4...</td>\n",
       "      <td>[[1.4805505 1.9928345 2.448045 ] Li0+, [0. 0. ...</td>\n",
       "      <td>[[2.07903566 3.53638411 0.588679  ] S0+, [2.07...</td>\n",
       "      <td>[[2.07903566 2.798401   3.43762192] Li0+, [0. ...</td>\n",
       "      <td>[[2.07903566 3.53638411 0.588679  ] Mg0+, [2.0...</td>\n",
       "      <td>[[2.07903566 2.798401   3.43762192] Li0+, [0. ...</td>\n",
       "    </tr>\n",
       "  </tbody>\n",
       "</table>\n",
       "</div>"
      ],
      "text/plain": [
       "   index                                          structure  ICSD_ID  \\\n",
       "0      0  [[0.        0.        2.6255595] Li0+, [0.    ...   180565   \n",
       "1      1  [[2.79072525 1.34013453 0.79373764] Li0+, [0.9...   188829   \n",
       "2      2  [[2.412716 2.412716 2.412716] Li0+, [3.619074 ...   236959   \n",
       "3      3  [[0. 0. 0.] Li+, [1.2797665 1.2797665 1.279766...   184904   \n",
       "4      4  [[1.4805505 1.9928345 2.448045 ] Li0+, [0. 0. ...   180561   \n",
       "\n",
       "        MP_ID pretty_formula spacegroup  bandgap    e_hull  \\\n",
       "0  mp-1001790           LiO3       Imm2   0.0854  0.225420   \n",
       "1  mp-1001825           LiBe     P2_1/m   0.0000  0.166972   \n",
       "2  mp-1001831            LiB      Fd-3m   1.4331  0.386054   \n",
       "3  mp-1009009            LiF      Pm-3m   7.5195  0.287542   \n",
       "4  mp-1018789           LiO2       Pnnm   0.0000  0.084218   \n",
       "\n",
       "                                       ase_structure composition replacement  \\\n",
       "0  (Atom('Li', [0.0, 0.0, 2.6255594986], index=0)...      Li1 O3        None   \n",
       "1  (Atom('Li', [2.79072525, 1.34013452726, 0.7937...     Li2 Be2        None   \n",
       "2  (Atom('Li', [2.412716, 2.412716, 2.412716], in...      Li2 B2        None   \n",
       "3  (Atom('Li', [0.0, 0.0, 0.0], index=0), Atom('F...      Li1 F1        None   \n",
       "4  (Atom('Li', [1.4805505, 1.9928345, 2.448045], ...      Li2 O4        None   \n",
       "\n",
       "                                         structure_A  \\\n",
       "0  [[0.         0.         5.35128645] S0+, [5.55...   \n",
       "1  [[2.79072525 1.17476284 3.09734748] S0+, [0.93...   \n",
       "2  [[1.206358 1.206358 1.206358] S0+, [0. 0. 0.] ...   \n",
       "3               [[1.2797665 1.2797665 1.2797665] S-]   \n",
       "4  [[1.4805505  2.51837684 0.41921791] S0+, [1.48...   \n",
       "\n",
       "                                        structure_AM  \\\n",
       "0             [[0.        0.        2.6255595] Li0+]   \n",
       "1  [[2.79072525 1.34013453 0.79373764] Li0+, [0.9...   \n",
       "2  [[2.412716 2.412716 2.412716] Li0+, [3.619074 ...   \n",
       "3  [[0. 0. 0.] Li+, [1.2797665 1.2797665 1.279766...   \n",
       "4  [[1.4805505 1.9928345 2.448045 ] Li0+, [0. 0. ...   \n",
       "\n",
       "                                       structure_CAN  \\\n",
       "0  [[0.         0.         5.35128645] Mg0+, [5.5...   \n",
       "1  [[2.79072525 1.17476284 3.09734748] Mg0+, [0.9...   \n",
       "2  [[1.206358 1.206358 1.206358] Mg0+, [0. 0. 0.]...   \n",
       "3               [[1.2797665 1.2797665 1.2797665] S-]   \n",
       "4  [[1.4805505  2.51837684 0.41921791] Mg0+, [1.4...   \n",
       "\n",
       "                                      structure_CAMN  \\\n",
       "0  [[0.        0.        2.6255595] Li0+, [0.    ...   \n",
       "1  [[2.79072525 1.34013453 0.79373764] Li0+, [0.9...   \n",
       "2  [[2.412716 2.412716 2.412716] Li0+, [3.619074 ...   \n",
       "3  [[0. 0. 0.] Li+, [1.2797665 1.2797665 1.279766...   \n",
       "4  [[1.4805505 1.9928345 2.448045 ] Li0+, [0. 0. ...   \n",
       "\n",
       "                                       structure_A40  \\\n",
       "0  [[0.        0.        7.5441549] S0+, [-1.1102...   \n",
       "1  [[3.39085782 1.42739017 3.76341775] S0+, [1.13...   \n",
       "2  [[1.70997595 1.70997595 1.70997595] S0+, [0. 0...   \n",
       "3            [[1.70997595 1.70997595 1.70997595] S-]   \n",
       "4  [[2.07903566 3.53638411 0.588679  ] S0+, [2.07...   \n",
       "\n",
       "                                      structure_AM40  \\\n",
       "0          [[0.         0.         3.70147024] Li0+]   \n",
       "1  [[3.39085782 1.62832427 0.96442725] Li0+, [1.1...   \n",
       "2  [[3.41995189 3.41995189 3.41995189] Li0+, [5.1...   \n",
       "3  [[0. 0. 0.] Li+, [1.70997595 1.70997595 1.7099...   \n",
       "4  [[2.07903566 2.798401   3.43762192] Li0+, [0. ...   \n",
       "\n",
       "                                     structure_CAN40  \\\n",
       "0  [[0.        0.        7.5441549] Mg0+, [-1.110...   \n",
       "1  [[3.39085782 1.42739017 3.76341775] Mg0+, [1.1...   \n",
       "2  [[1.70997595 1.70997595 1.70997595] Mg0+, [0. ...   \n",
       "3            [[1.70997595 1.70997595 1.70997595] S-]   \n",
       "4  [[2.07903566 3.53638411 0.588679  ] Mg0+, [2.0...   \n",
       "\n",
       "                                    structure_CAMN40  \n",
       "0  [[0.         0.         3.70147024] Li0+, [0. ...  \n",
       "1  [[3.39085782 1.62832427 0.96442725] Li0+, [1.1...  \n",
       "2  [[3.41995189 3.41995189 3.41995189] Li0+, [5.1...  \n",
       "3  [[0. 0. 0.] Li+, [1.70997595 1.70997595 1.7099...  \n",
       "4  [[2.07903566 2.798401   3.43762192] Li0+, [0. ...  "
      ]
     },
     "execution_count": 35,
     "metadata": {},
     "output_type": "execute_result"
    }
   ],
   "source": [
    "# inspection of the dataframe with the eight new simplifications\n",
    "structures_df.head()"
   ]
  },
  {
   "cell_type": "markdown",
   "metadata": {},
   "source": [
    "### 1q. Save and reload dataframe"
   ]
  },
  {
   "cell_type": "code",
   "execution_count": 36,
   "metadata": {},
   "outputs": [],
   "source": [
    "save_path = os.path.join(os.getcwd(), 'structures_df_3p8_post_sanitize_w_simplifications.pkl')\n",
    "save_file = open(save_path, 'wb')\n",
    "pickle.dump(structures_df, save_file)\n",
    "save_file.close()"
   ]
  },
  {
   "cell_type": "code",
   "execution_count": 37,
   "metadata": {},
   "outputs": [],
   "source": [
    "save_path = os.path.join(os.getcwd(), 'structures_df_3p8_post_sanitize_w_simplifications.pkl')\n",
    "open_file = open(save_path, 'rb')\n",
    "structures_df = pickle.load(open_file)\n",
    "open_file.close()"
   ]
  },
  {
   "cell_type": "markdown",
   "metadata": {},
   "source": [
    "### 1r. Use nglview to manually examine some of the simplifications."
   ]
  },
  {
   "cell_type": "code",
   "execution_count": 38,
   "metadata": {},
   "outputs": [
    {
     "data": {
      "application/vnd.jupyter.widget-view+json": {
       "model_id": "bc70e09ca6d14d7b833c11a1b326b5a5",
       "version_major": 2,
       "version_minor": 0
      },
      "text/plain": []
     },
     "metadata": {},
     "output_type": "display_data"
    }
   ],
   "source": [
    "import nglview as nv"
   ]
  },
  {
   "cell_type": "code",
   "execution_count": 39,
   "metadata": {},
   "outputs": [
    {
     "data": {
      "text/plain": [
       "Structure Summary\n",
       "Lattice\n",
       "    abc : 5.273309274773669 8.331184752050396 8.892704483114459\n",
       " angles : 71.27636949794744 88.42532209537619 100.86183111618156\n",
       " volume : 361.74890480514074\n",
       "      A : 5.270937 -0.069759 -0.141942\n",
       "      B : -1.325141 4.36416 6.971854\n",
       "      C : 0.35824 -5.53989 6.947048\n",
       "PeriodicSite: Li+ (2.9726, 0.7833, 4.7070) [0.6670, 0.4695, 0.2200]\n",
       "PeriodicSite: Li+ (-0.1466, 0.2302, 11.7376) [0.1670, 0.9695, 0.7201]\n",
       "PeriodicSite: Li+ (1.3313, -2.0289, 9.0701) [0.3329, 0.5305, 0.7800]\n",
       "PeriodicSite: Li+ (4.4504, -1.4759, 2.0396) [0.8330, 0.0305, 0.2800]\n",
       "PeriodicSite: Li+ (3.9625, -2.1577, 10.4115) [0.8516, 0.6349, 0.8789]\n",
       "PeriodicSite: Li+ (1.8103, -1.5349, 3.5232) [0.3516, 0.1349, 0.3789]\n",
       "PeriodicSite: Li+ (0.3413, 0.9121, 3.3655) [0.1483, 0.3651, 0.1211]\n",
       "PeriodicSite: Li+ (2.4936, 0.2892, 10.2540) [0.6484, 0.8651, 0.6211]\n",
       "PeriodicSite: Li+ (3.5870, 2.9679, 6.3715) [0.8814, 0.8273, 0.1049]\n",
       "PeriodicSite: Li+ (1.7930, -1.9492, 6.4300) [0.3813, 0.3273, 0.6049]\n",
       "PeriodicSite: Li+ (0.7170, -4.2134, 7.4056) [0.1186, 0.1727, 0.8951]\n",
       "PeriodicSite: Li+ (2.5109, 0.7036, 7.3470) [0.6186, 0.6727, 0.3951]\n",
       "PeriodicSite: Li+ (4.2631, -1.7751, 7.8042) [0.8797, 0.4645, 0.6752]\n",
       "PeriodicSite: Li+ (0.7857, 3.2118, 7.8876) [0.3796, 0.9645, 0.1752]\n",
       "PeriodicSite: Li+ (0.0410, 0.5294, 5.9729) [0.1203, 0.5355, 0.3248]\n",
       "PeriodicSite: Li+ (3.5180, -4.4573, 5.8895) [0.6203, 0.0355, 0.8248]\n",
       "PeriodicSite: Fe4+ (0.0947, 0.6761, 8.7057) [0.1790, 0.7710, 0.4831]\n",
       "PeriodicSite: Fe4+ (0.7332, 3.0661, 5.1546) [0.3213, 0.7291, 0.0169]\n",
       "PeriodicSite: Fe4+ (3.5711, -4.3110, 8.6215) [0.6788, 0.2709, 0.9830]\n",
       "PeriodicSite: Fe4+ (4.2098, -1.9212, 5.0713) [0.8211, 0.2291, 0.5169]\n",
       "PeriodicSite: O2- (2.5377, -3.0069, 7.9332) [0.5131, 0.3440, 0.8073]\n",
       "PeriodicSite: O2- (-0.9388, 1.9798, 8.0169) [0.0132, 0.8440, 0.3073]\n",
       "PeriodicSite: O2- (1.7660, 1.7615, 5.8436) [0.4869, 0.6560, 0.1927]\n",
       "PeriodicSite: O2- (5.2428, -3.2255, 5.7604) [0.9868, 0.1560, 0.6927]\n",
       "PeriodicSite: O2- (2.1540, 0.2949, 2.8111) [0.4649, 0.2642, 0.1490]\n",
       "PeriodicSite: O2- (4.3059, -0.3281, 9.7000) [0.9649, 0.7642, 0.6491]\n",
       "PeriodicSite: O2- (2.1504, -1.5401, 10.9654) [0.5351, 0.7358, 0.8509]\n",
       "PeriodicSite: O2- (-0.0017, -0.9173, 4.0769) [0.0351, 0.2358, 0.3509]\n",
       "PeriodicSite: O2- (3.9492, -0.0871, 0.6636) [0.7604, 0.0586, 0.0523]\n",
       "PeriodicSite: O2- (0.8305, -0.6400, 7.6941) [0.2605, 0.5586, 0.5523]\n",
       "PeriodicSite: O2- (0.3547, -1.1586, 13.1134) [0.2396, 0.9414, 0.9477]\n",
       "PeriodicSite: O2- (3.4735, -0.6057, 6.0828) [0.7395, 0.4414, 0.4477]\n",
       "PeriodicSite: O2- (5.0535, -3.3169, 8.9259) [0.9983, 0.4014, 0.9024]\n",
       "PeriodicSite: O2- (1.5766, 1.6699, 9.0093) [0.4984, 0.9014, 0.4024]\n",
       "PeriodicSite: O2- (-0.7492, 2.0716, 4.8512) [0.0017, 0.5986, 0.0976]\n",
       "PeriodicSite: O2- (2.7276, -2.9152, 4.7678) [0.5017, 0.0986, 0.5976]"
      ]
     },
     "execution_count": 39,
     "metadata": {},
     "output_type": "execute_result"
    }
   ],
   "source": [
    "structures_df.loc[1000, \"structure\"]"
   ]
  },
  {
   "cell_type": "code",
   "execution_count": 40,
   "metadata": {},
   "outputs": [
    {
     "data": {
      "application/vnd.jupyter.widget-view+json": {
       "model_id": "10f2be1633174d178200285b2f9eafc2",
       "version_major": 2,
       "version_minor": 0
      },
      "text/plain": [
       "NGLWidget()"
      ]
     },
     "metadata": {},
     "output_type": "display_data"
    }
   ],
   "source": [
    "view = nv.show_pymatgen(structures_df.loc[1000, \"structure\"])\n",
    "view._remote_call('setSize', args = ['', '600px'])\n",
    "view.camera = 'orthographic'\n",
    "view.add_unitcell()\n",
    "view"
   ]
  },
  {
   "cell_type": "code",
   "execution_count": 41,
   "metadata": {},
   "outputs": [
    {
     "data": {
      "application/vnd.jupyter.widget-view+json": {
       "model_id": "db61cd93083440908d7eb9f46d53e6a1",
       "version_major": 2,
       "version_minor": 0
      },
      "text/plain": [
       "NGLWidget()"
      ]
     },
     "metadata": {},
     "output_type": "display_data"
    }
   ],
   "source": [
    "view2 = nv.show_pymatgen(structures_df.loc[1000, \"structure_CAMN40\"])\n",
    "view2._remote_call('setSize', args = ['', '600px'])\n",
    "view2.camera = 'orthographic'\n",
    "view2.add_unitcell()\n",
    "view2"
   ]
  }
 ],
 "metadata": {
  "kernelspec": {
   "display_name": "Python 3 (ipykernel)",
   "language": "python",
   "name": "python3"
  },
  "language_info": {
   "codemirror_mode": {
    "name": "ipython",
    "version": 3
   },
   "file_extension": ".py",
   "mimetype": "text/x-python",
   "name": "python",
   "nbconvert_exporter": "python",
   "pygments_lexer": "ipython3",
   "version": "3.8.5"
  },
  "widgets": {
   "application/vnd.jupyter.widget-state+json": {
    "state": {
     "02fe53f7ef944ae4bed74f4d5bf261a9": {
      "model_module": "@jupyter-widgets/controls",
      "model_module_version": "1.5.0",
      "model_name": "HTMLModel",
      "state": {
       "layout": "IPY_MODEL_77f6fd880f394df49fc2ac6a15543dfd",
       "style": "IPY_MODEL_19a84c11706f4285a64b761a293cc614",
       "value": " 25193/25193 [00:27&lt;00:00, 295.86it/s]"
      }
     },
     "03661aed4b104773bd28218d1315cb91": {
      "model_module": "@jupyter-widgets/controls",
      "model_module_version": "1.5.0",
      "model_name": "HBoxModel",
      "state": {
       "children": [
        "IPY_MODEL_3df199368e6240369743e953870cb961",
        "IPY_MODEL_7ac40668dd27474687a8fcc8ae6cc3d1",
        "IPY_MODEL_0e413903b40f47a985be6505bfdd991a"
       ],
       "layout": "IPY_MODEL_718b8114131f402494240403e901e311"
      }
     },
     "04d63841f8e241288f80d670fc2c9991": {
      "model_module": "@jupyter-widgets/base",
      "model_module_version": "1.2.0",
      "model_name": "LayoutModel",
      "state": {}
     },
     "0771f9d81b8648f197afec47ae7ecff6": {
      "model_module": "@jupyter-widgets/controls",
      "model_module_version": "1.5.0",
      "model_name": "HTMLModel",
      "state": {
       "layout": "IPY_MODEL_bf1e826434f849caadf209412d75d5ea",
       "style": "IPY_MODEL_ccbbf9f367044b9fbd2ff3b0d8033fe0",
       "value": " 27377/27377 [00:51&lt;00:00, 203.12it/s]"
      }
     },
     "0925bff7559b426180b6dfebfb9cd5c3": {
      "model_module": "@jupyter-widgets/controls",
      "model_module_version": "1.5.0",
      "model_name": "ProgressStyleModel",
      "state": {
       "description_width": ""
      }
     },
     "095235791d52473f91c559e4e537f102": {
      "model_module": "@jupyter-widgets/controls",
      "model_module_version": "1.5.0",
      "model_name": "DescriptionStyleModel",
      "state": {
       "description_width": ""
      }
     },
     "0abeacf2b81c418e8f8c29c46ab14984": {
      "model_module": "@jupyter-widgets/base",
      "model_module_version": "1.2.0",
      "model_name": "LayoutModel",
      "state": {}
     },
     "0c2366df2d7840fe8ad2cb6578950ee2": {
      "model_module": "@jupyter-widgets/controls",
      "model_module_version": "1.5.0",
      "model_name": "DescriptionStyleModel",
      "state": {
       "description_width": ""
      }
     },
     "0c2eabc61b474620bfa898fb7a4a1ced": {
      "model_module": "@jupyter-widgets/base",
      "model_module_version": "1.2.0",
      "model_name": "LayoutModel",
      "state": {}
     },
     "0dc5571634c04fc4912ad5213345447d": {
      "model_module": "@jupyter-widgets/base",
      "model_module_version": "1.2.0",
      "model_name": "LayoutModel",
      "state": {}
     },
     "0e24f0de1d8a4e9e88afb3a86fe0d8b6": {
      "model_module": "@jupyter-widgets/base",
      "model_module_version": "1.2.0",
      "model_name": "LayoutModel",
      "state": {}
     },
     "0e413903b40f47a985be6505bfdd991a": {
      "model_module": "@jupyter-widgets/controls",
      "model_module_version": "1.5.0",
      "model_name": "HTMLModel",
      "state": {
       "layout": "IPY_MODEL_5aeeeea836f14714a235d838b6facd21",
       "style": "IPY_MODEL_a00cbe6febec469ca040c9b4cf7d888b",
       "value": " 25193/25193 [00:32&lt;00:00, 179.81it/s]"
      }
     },
     "10f2be1633174d178200285b2f9eafc2": {
      "model_module": "nglview-js-widgets",
      "model_module_version": "3.0.1",
      "model_name": "NGLModel",
      "state": {
       "_camera_orientation": [
        28.100999936687572,
        0,
        0,
        0,
        0,
        28.100999936687572,
        0,
        0,
        0,
        0,
        28.100999936687572,
        0,
        -1.9739999175071716,
        -5.567999929189682,
        -4.191499814391136,
        1
       ],
       "_camera_str": "orthographic",
       "_gui_theme": null,
       "_ibtn_fullscreen": "IPY_MODEL_47b88485e4844f97aa1b65f358b5d32d",
       "_igui": null,
       "_iplayer": "IPY_MODEL_4dc6dad5f242429393c94b9970431f07",
       "_ngl_color_dict": {},
       "_ngl_coordinate_resource": {},
       "_ngl_full_stage_parameters": {
        "ambientColor": 14540253,
        "ambientIntensity": 0.2,
        "backgroundColor": "white",
        "cameraEyeSep": 0.3,
        "cameraFov": 40,
        "cameraType": "orthographic",
        "clipDist": 10,
        "clipFar": 100,
        "clipNear": 0,
        "fogFar": 100,
        "fogNear": 50,
        "hoverTimeout": 0,
        "impostor": true,
        "lightColor": 14540253,
        "lightIntensity": 1,
        "mousePreset": "default",
        "panSpeed": 1,
        "quality": "medium",
        "rotateSpeed": 2,
        "sampleLevel": 0,
        "tooltip": true,
        "workerDefault": true,
        "zoomSpeed": 1.2
       },
       "_ngl_msg_archive": [
        {
         "args": [
          {
           "binary": false,
           "data": "CRYST1    5.273    8.331    8.893  71.28  88.43 100.86 P 1\nMODEL     1\nATOM      0   Li MOL     1       2.834   4.491   1.845  1.00  0.00          LI  \nATOM      1   Li MOL     1      -0.466  10.059   6.037  1.00  0.00          LI  \nATOM      2   Li MOL     1       1.113   6.644   6.540  1.00  0.00          LI  \nATOM      3   Li MOL     1       4.413   1.077   2.347  1.00  0.00          LI  \nATOM      4   Li MOL     1       3.709   7.791   7.369  1.00  0.00          LI  \nATOM      5   Li MOL     1       1.735   2.223   3.177  1.00  0.00          LI  \nATOM      6   Li MOL     1       0.239   3.345   1.015  1.00  0.00          LI  \nATOM      7   Li MOL     1       2.213   8.912   5.208  1.00  0.00          LI  \nATOM      8   Li MOL     1       3.375   7.079   0.880  1.00  0.00          LI  \nATOM      9   Li MOL     1       1.645   4.465   5.072  1.00  0.00          LI  \nATOM     10   Li MOL     1       0.573   4.057   7.505  1.00  0.00          LI  \nATOM     11   Li MOL     1       2.303   6.671   3.313  1.00  0.00          LI  \nATOM     12   Li MOL     1       4.075   5.795   5.661  1.00  0.00          LI  \nATOM     13   Li MOL     1       0.531   8.409   1.469  1.00  0.00          LI  \nATOM     14   Li MOL     1      -0.127   5.341   2.723  1.00  0.00          LI  \nATOM     15   Li MOL     1       3.417   2.727   6.915  1.00  0.00          LI  \nATOM     16   Fe MOL     1      -0.149   7.735   4.050  1.00  0.00          FE  \nATOM     17   Fe MOL     1       0.554   6.015   0.141  1.00  0.00          FE  \nATOM     18   Fe MOL     1       3.394   5.120   8.242  1.00  0.00          FE  \nATOM     19   Fe MOL     1       4.097   3.401   4.334  1.00  0.00          FE  \nATOM     20    O MOL     1       2.363   5.198   6.768  1.00  0.00           O  \nATOM     21    O MOL     1      -1.180   7.813   2.577  1.00  0.00           O  \nATOM     22    O MOL     1       1.585   5.937   1.616  1.00  0.00           O  \nATOM     23    O MOL     1       5.128   3.323   5.808  1.00  0.00           O  \nATOM     24    O MOL     1       2.073   2.602   1.249  1.00  0.00           O  \nATOM     25    O MOL     1       4.047   8.170   5.442  1.00  0.00           O  \nATOM     26    O MOL     1       1.875   8.534   7.134  1.00  0.00           O  \nATOM     27    O MOL     1      -0.099   2.966   2.942  1.00  0.00           O  \nATOM     28    O MOL     1       3.931   0.634   0.438  1.00  0.00           O  \nATOM     29    O MOL     1       0.632   6.201   4.630  1.00  0.00           O  \nATOM     30    O MOL     1       0.017  10.502   7.946  1.00  0.00           O  \nATOM     31    O MOL     1       3.316   4.934   3.754  1.00  0.00           O  \nATOM     32    O MOL     1       4.855   5.950   7.566  1.00  0.00           O  \nATOM     33    O MOL     1       1.311   8.564   3.374  1.00  0.00           O  \nATOM     34    O MOL     1      -0.907   5.186   0.818  1.00  0.00           O  \nATOM     35    O MOL     1       2.637   2.572   5.010  1.00  0.00           O  \nENDMDL\n",
           "type": "blob"
          }
         ],
         "kwargs": {
          "defaultRepresentation": true,
          "ext": "pdb"
         },
         "methodName": "loadFile",
         "reconstruc_color_scheme": false,
         "target": "Stage",
         "type": "call_method"
        },
        {
         "args": [
          "",
          "600px"
         ],
         "kwargs": {},
         "methodName": "setSize",
         "reconstruc_color_scheme": false,
         "target": "Widget",
         "type": "call_method"
        },
        {
         "args": [],
         "kwargs": {
          "cameraType": "orthographic"
         },
         "methodName": "setParameters",
         "reconstruc_color_scheme": false,
         "target": "Stage",
         "type": "call_method"
        },
        {
         "args": [
          "unitcell"
         ],
         "component_index": 0,
         "kwargs": {
          "sele": "all"
         },
         "methodName": "addRepresentation",
         "reconstruc_color_scheme": false,
         "target": "compList",
         "type": "call_method"
        }
       ],
       "_ngl_original_stage_parameters": {
        "ambientColor": 14540253,
        "ambientIntensity": 0.2,
        "backgroundColor": "white",
        "cameraEyeSep": 0.3,
        "cameraFov": 40,
        "cameraType": "perspective",
        "clipDist": 10,
        "clipFar": 100,
        "clipNear": 0,
        "fogFar": 100,
        "fogNear": 50,
        "hoverTimeout": 0,
        "impostor": true,
        "lightColor": 14540253,
        "lightIntensity": 1,
        "mousePreset": "default",
        "panSpeed": 1,
        "quality": "medium",
        "rotateSpeed": 2,
        "sampleLevel": 0,
        "tooltip": true,
        "workerDefault": true,
        "zoomSpeed": 1.2
       },
       "_ngl_repr_dict": {
        "0": {
         "0": {
          "params": {
           "aspectRatio": 1.5,
           "assembly": "default",
           "bondScale": 0.3,
           "bondSpacing": 0.75,
           "clipCenter": {
            "x": 0,
            "y": 0,
            "z": 0
           },
           "clipNear": 0,
           "clipRadius": 0,
           "colorMode": "hcl",
           "colorReverse": false,
           "colorScale": "",
           "colorScheme": "element",
           "colorValue": 9474192,
           "cylinderOnly": false,
           "defaultAssembly": "",
           "depthWrite": true,
           "diffuse": 16777215,
           "diffuseInterior": false,
           "disableImpostor": false,
           "disablePicking": false,
           "flatShaded": false,
           "interiorColor": 2236962,
           "interiorDarkening": 0,
           "lazy": false,
           "lineOnly": false,
           "linewidth": 2,
           "matrix": {
            "elements": [
             1,
             0,
             0,
             0,
             0,
             1,
             0,
             0,
             0,
             0,
             1,
             0,
             0,
             0,
             0,
             1
            ]
           },
           "metalness": 0,
           "multipleBond": "off",
           "opacity": 1,
           "openEnded": true,
           "quality": "high",
           "radialSegments": 20,
           "radiusData": {},
           "radiusScale": 2,
           "radiusSize": 0.15,
           "radiusType": "size",
           "roughness": 0.4,
           "sele": "",
           "side": "double",
           "sphereDetail": 2,
           "useInteriorColor": true,
           "visible": true,
           "wireframe": false
          },
          "type": "ball+stick"
         },
         "1": {
          "params": {
           "clipCenter": {
            "x": 0,
            "y": 0,
            "z": 0
           },
           "clipNear": 0,
           "clipRadius": 0,
           "colorMode": "hcl",
           "colorReverse": false,
           "colorScale": "",
           "colorScheme": "element",
           "colorValue": "orange",
           "defaultAssembly": "",
           "depthWrite": true,
           "diffuse": 16777215,
           "diffuseInterior": false,
           "disableImpostor": false,
           "disablePicking": false,
           "flatShaded": false,
           "interiorColor": 2236962,
           "interiorDarkening": 0,
           "lazy": false,
           "matrix": {
            "elements": [
             1,
             0,
             0,
             0,
             0,
             1,
             0,
             0,
             0,
             0,
             1,
             0,
             0,
             0,
             0,
             1
            ]
           },
           "metalness": 0,
           "opacity": 1,
           "quality": "medium",
           "radialSegments": 10,
           "radiusData": {},
           "radiusScale": 1,
           "radiusSize": 0.035625861103737784,
           "radiusType": "vdw",
           "roughness": 0.4,
           "sele": "all",
           "side": "double",
           "sphereDetail": 1,
           "useInteriorColor": true,
           "visible": true,
           "wireframe": false
          },
          "type": "unitcell"
         }
        }
       },
       "_ngl_serialize": false,
       "_ngl_version": "2.0.0-dev.36",
       "_ngl_view_id": [
        "3E73ABC7-51AF-4020-857D-068B64103427"
       ],
       "_player_dict": {},
       "_scene_position": {},
       "_scene_rotation": {},
       "_synced_model_ids": [],
       "_synced_repr_model_ids": [],
       "_view_height": "",
       "_view_width": "",
       "background": "white",
       "frame": 0,
       "gui_style": null,
       "layout": "IPY_MODEL_8f8c4c8a375b4c348faed238cd109587",
       "max_frame": 0,
       "n_components": 1,
       "picked": {}
      }
     },
     "1168e5f8bf024e7ea6a83935e3f396c3": {
      "model_module": "@jupyter-widgets/base",
      "model_module_version": "1.2.0",
      "model_name": "LayoutModel",
      "state": {}
     },
     "139096b4bda246d4a6a28d6ece538b47": {
      "model_module": "@jupyter-widgets/controls",
      "model_module_version": "1.5.0",
      "model_name": "HTMLModel",
      "state": {
       "layout": "IPY_MODEL_c40e98ac54f4434297c4ccea63cbab01",
       "style": "IPY_MODEL_b746a584e60b4cde9898867aee793030",
       "value": "Label ICSD structures with the corresponding MP ID: 100%"
      }
     },
     "14cf90af41c34319b108a74b0c728452": {
      "model_module": "@jupyter-widgets/base",
      "model_module_version": "1.2.0",
      "model_name": "LayoutModel",
      "state": {}
     },
     "161c09bbd0864797bf4104445fe7a7df": {
      "model_module": "@jupyter-widgets/base",
      "model_module_version": "1.2.0",
      "model_name": "LayoutModel",
      "state": {}
     },
     "18cd7bbaacb5435c81137de5d6888fc5": {
      "model_module": "@jupyter-widgets/controls",
      "model_module_version": "1.5.0",
      "model_name": "DescriptionStyleModel",
      "state": {
       "description_width": ""
      }
     },
     "194b6090cd6944119ecd424c26451cdb": {
      "model_module": "@jupyter-widgets/controls",
      "model_module_version": "1.5.0",
      "model_name": "HTMLModel",
      "state": {
       "layout": "IPY_MODEL_5ee9bed665c04f05a8bd6823f0ed2d10",
       "style": "IPY_MODEL_e56dce51d6ac4780b81b9d08d0aecc26",
       "value": " 17592/17592 [1:24:37&lt;00:00, 55.55it/s]"
      }
     },
     "19a84c11706f4285a64b761a293cc614": {
      "model_module": "@jupyter-widgets/controls",
      "model_module_version": "1.5.0",
      "model_name": "DescriptionStyleModel",
      "state": {
       "description_width": ""
      }
     },
     "1bc550cb87cb4bb499d287ad9bd0026f": {
      "model_module": "@jupyter-widgets/controls",
      "model_module_version": "1.5.0",
      "model_name": "DescriptionStyleModel",
      "state": {
       "description_width": ""
      }
     },
     "1bce78dcb15d4a41a5e6588043a42bf0": {
      "model_module": "@jupyter-widgets/base",
      "model_module_version": "1.2.0",
      "model_name": "LayoutModel",
      "state": {}
     },
     "1e5ea97dd8904c21bc65a4bff9964096": {
      "model_module": "@jupyter-widgets/controls",
      "model_module_version": "1.5.0",
      "model_name": "DescriptionStyleModel",
      "state": {
       "description_width": ""
      }
     },
     "1e668b1d587045588b099c7b0b57ed7e": {
      "model_module": "@jupyter-widgets/base",
      "model_module_version": "1.2.0",
      "model_name": "LayoutModel",
      "state": {}
     },
     "1fcd2edb157c41d59debc7ac0b691a0e": {
      "model_module": "@jupyter-widgets/controls",
      "model_module_version": "1.5.0",
      "model_name": "HBoxModel",
      "state": {
       "children": [
        "IPY_MODEL_139096b4bda246d4a6a28d6ece538b47",
        "IPY_MODEL_ab2cc410a09a4d7795f2d4dfc0c72533",
        "IPY_MODEL_4715d7d47bb748f1b0c4aea48a9c8291"
       ],
       "layout": "IPY_MODEL_fe9ed7a113cb45f2b91c1f3106860b75"
      }
     },
     "1fe802be193c42f183af522b02512429": {
      "model_module": "@jupyter-widgets/base",
      "model_module_version": "1.2.0",
      "model_name": "LayoutModel",
      "state": {}
     },
     "21618d4ea2574e18a6cb0f64968b6a52": {
      "model_module": "@jupyter-widgets/base",
      "model_module_version": "1.2.0",
      "model_name": "LayoutModel",
      "state": {}
     },
     "21db0d1098574f01bcb2a591b0ae780c": {
      "model_module": "@jupyter-widgets/controls",
      "model_module_version": "1.5.0",
      "model_name": "DescriptionStyleModel",
      "state": {
       "description_width": ""
      }
     },
     "22574979cc7a444fb7a19ffdc23be68f": {
      "model_module": "@jupyter-widgets/controls",
      "model_module_version": "1.5.0",
      "model_name": "FloatProgressModel",
      "state": {
       "bar_style": "success",
       "layout": "IPY_MODEL_8cbf588e4f314270920b2705627cf3d7",
       "max": 4665,
       "style": "IPY_MODEL_4ba21bc7a67944fc8dc36ea80c6533bc",
       "value": 4665
      }
     },
     "22634f8b4c2d45aa9c83fb1d10dd1da5": {
      "model_module": "@jupyter-widgets/controls",
      "model_module_version": "1.5.0",
      "model_name": "HTMLModel",
      "state": {
       "layout": "IPY_MODEL_842f5583d39e4e6f9fb45b4a24ef7ff6",
       "style": "IPY_MODEL_248612d7911a40ea8a3551bad7676ce4",
       "value": "Checking for structures with over 500 sites: 100%"
      }
     },
     "2264c73851b44bbea963b1289b17087a": {
      "model_module": "@jupyter-widgets/controls",
      "model_module_version": "1.5.0",
      "model_name": "FloatProgressModel",
      "state": {
       "bar_style": "success",
       "layout": "IPY_MODEL_8b951d663cc1435984bd4e6337d58eeb",
       "max": 25193,
       "style": "IPY_MODEL_b53990073e8548aca3620f62a3a9ee62",
       "value": 25193
      }
     },
     "23556a37a7444e50a97e5b473230bf07": {
      "model_module": "@jupyter-widgets/base",
      "model_module_version": "1.2.0",
      "model_name": "LayoutModel",
      "state": {}
     },
     "248612d7911a40ea8a3551bad7676ce4": {
      "model_module": "@jupyter-widgets/controls",
      "model_module_version": "1.5.0",
      "model_name": "DescriptionStyleModel",
      "state": {
       "description_width": ""
      }
     },
     "24ab08b0ccd848439e2ba705a2170f4a": {
      "model_module": "@jupyter-widgets/controls",
      "model_module_version": "1.5.0",
      "model_name": "DescriptionStyleModel",
      "state": {
       "description_width": ""
      }
     },
     "272b68fab81648eaa544d70b13592876": {
      "model_module": "@jupyter-widgets/base",
      "model_module_version": "1.2.0",
      "model_name": "LayoutModel",
      "state": {}
     },
     "27880a970c724ee398a74fbae8d4cedc": {
      "model_module": "@jupyter-widgets/controls",
      "model_module_version": "1.5.0",
      "model_name": "HTMLModel",
      "state": {
       "layout": "IPY_MODEL_6a3e969707314c1f87cc9a5abbea0821",
       "style": "IPY_MODEL_90418e12acb24f41bb21582eff7fef4c",
       "value": "100%"
      }
     },
     "2789a9b291d041b08fabf8c3487f47e4": {
      "model_module": "@jupyter-widgets/controls",
      "model_module_version": "1.5.0",
      "model_name": "HBoxModel",
      "state": {
       "children": [
        "IPY_MODEL_694c84d3f3f54cb18b2704d030b76733",
        "IPY_MODEL_f03d69ce33ae4fb5bca78a91169cc275",
        "IPY_MODEL_baf53389841c4063a8aac2c128b6127c"
       ],
       "layout": "IPY_MODEL_a9a2d3d442ef4e5989f48e78e3c01356"
      }
     },
     "27c122920ed1432b8d667ea36816f756": {
      "model_module": "@jupyter-widgets/controls",
      "model_module_version": "1.5.0",
      "model_name": "HBoxModel",
      "state": {
       "children": [
        "IPY_MODEL_c5f0d85aa8b94180be923af176cadf2c",
        "IPY_MODEL_6080b849b89c4cc2b62155382a2c095d",
        "IPY_MODEL_0771f9d81b8648f197afec47ae7ecff6"
       ],
       "layout": "IPY_MODEL_966e05d53e154a378840976ad7fdd725"
      }
     },
     "28b11229788a411dada3d64f2ca633d3": {
      "model_module": "@jupyter-widgets/base",
      "model_module_version": "1.2.0",
      "model_name": "LayoutModel",
      "state": {}
     },
     "2a31c020d3c2484ea3416581945fd788": {
      "model_module": "@jupyter-widgets/controls",
      "model_module_version": "1.5.0",
      "model_name": "HTMLModel",
      "state": {
       "layout": "IPY_MODEL_b8878b33702f4d27ab7ae3e3b7ef8cf3",
       "style": "IPY_MODEL_24ab08b0ccd848439e2ba705a2170f4a",
       "value": "100%"
      }
     },
     "2b4ed36d59164e9a8dedbfbba4c5def1": {
      "model_module": "@jupyter-widgets/controls",
      "model_module_version": "1.5.0",
      "model_name": "HTMLModel",
      "state": {
       "layout": "IPY_MODEL_cd62ba90e336416fa5ad5eaa543eb21c",
       "style": "IPY_MODEL_672b82a2897644058b789bdef703e00f",
       "value": "100%"
      }
     },
     "2c3ba12585ec43eba105f338cac069d1": {
      "model_module": "@jupyter-widgets/controls",
      "model_module_version": "1.5.0",
      "model_name": "HTMLModel",
      "state": {
       "layout": "IPY_MODEL_b887c32c4b6e4c0cba44cf2dfbae5143",
       "style": "IPY_MODEL_7fdbeb5eaa2f43ee97e16e10fc290906",
       "value": " 25193/25193 [00:26&lt;00:00, 1265.17it/s]"
      }
     },
     "2c669ee805cf4f52917877e0aaa18fc8": {
      "model_module": "@jupyter-widgets/base",
      "model_module_version": "1.2.0",
      "model_name": "LayoutModel",
      "state": {}
     },
     "2ca23ad10f5942e4a731f24e67951216": {
      "model_module": "@jupyter-widgets/controls",
      "model_module_version": "1.5.0",
      "model_name": "HTMLModel",
      "state": {
       "layout": "IPY_MODEL_524aaf7f579b49999cffc41481fdbe62",
       "style": "IPY_MODEL_8084a286e65241d6b927da961e1346fa",
       "value": " 25193/25193 [00:21&lt;00:00, 1182.62it/s]"
      }
     },
     "2cb445ce1f6b44fc9fce25cd94be8361": {
      "model_module": "@jupyter-widgets/controls",
      "model_module_version": "1.5.0",
      "model_name": "ProgressStyleModel",
      "state": {
       "description_width": ""
      }
     },
     "2ccd1ec4431c45c58e9fab0d0f92702d": {
      "model_module": "@jupyter-widgets/controls",
      "model_module_version": "1.5.0",
      "model_name": "FloatProgressModel",
      "state": {
       "bar_style": "success",
       "layout": "IPY_MODEL_f9568ab6a8094021b4e965f322b1e52b",
       "max": 25193,
       "style": "IPY_MODEL_512d392e3f1d4b2299d958e2c3ffa711",
       "value": 25193
      }
     },
     "2ce3f107149949048924f6ffccdd4e6c": {
      "model_module": "@jupyter-widgets/base",
      "model_module_version": "1.2.0",
      "model_name": "LayoutModel",
      "state": {}
     },
     "2ee1d7fd691348618273624c33cbefb1": {
      "model_module": "@jupyter-widgets/base",
      "model_module_version": "1.2.0",
      "model_name": "LayoutModel",
      "state": {}
     },
     "2fa99705aec04ea7925d4b403de1cf89": {
      "model_module": "@jupyter-widgets/controls",
      "model_module_version": "1.5.0",
      "model_name": "HTMLModel",
      "state": {
       "layout": "IPY_MODEL_ad20460535874df0ac859822caa7ee7b",
       "style": "IPY_MODEL_66ee2e40ae9c4a73927d88b13ffcc1e6",
       "value": " 4665/4665 [00:11&lt;00:00, 379.26it/s]"
      }
     },
     "2fe52941e753422c85032e04d6b7aa28": {
      "model_module": "@jupyter-widgets/base",
      "model_module_version": "1.2.0",
      "model_name": "LayoutModel",
      "state": {}
     },
     "300d87012fd74ee4b67febeaefb13991": {
      "model_module": "@jupyter-widgets/base",
      "model_module_version": "1.2.0",
      "model_name": "LayoutModel",
      "state": {}
     },
     "30c83e8fdeba44be8a9c11b5c27b13e4": {
      "model_module": "@jupyter-widgets/controls",
      "model_module_version": "1.5.0",
      "model_name": "HBoxModel",
      "state": {
       "children": [
        "IPY_MODEL_8b6eac0948fb4538a2616b2ef1fc64f4",
        "IPY_MODEL_dcf300bf444849d690136c21d6d6d414",
        "IPY_MODEL_5b681a6204884a758816b0be1531c54a"
       ],
       "layout": "IPY_MODEL_d53984f14d204c04ab0866500cc0784e"
      }
     },
     "32d8de5e49164abc98f2ffbe292ac126": {
      "model_module": "@jupyter-widgets/base",
      "model_module_version": "1.2.0",
      "model_name": "LayoutModel",
      "state": {}
     },
     "349d8aff99484da0b1f0e4a00f10c618": {
      "model_module": "@jupyter-widgets/base",
      "model_module_version": "1.2.0",
      "model_name": "LayoutModel",
      "state": {}
     },
     "34be77da69ce4297b08e5143702b5fa6": {
      "model_module": "@jupyter-widgets/controls",
      "model_module_version": "1.5.0",
      "model_name": "FloatProgressModel",
      "state": {
       "bar_style": "success",
       "layout": "IPY_MODEL_14cf90af41c34319b108a74b0c728452",
       "max": 27377,
       "style": "IPY_MODEL_ee67970f7147438c8583b84533731f69",
       "value": 27377
      }
     },
     "35f559a03d8047948d66cfc647053d7e": {
      "model_module": "@jupyter-widgets/base",
      "model_module_version": "1.2.0",
      "model_name": "LayoutModel",
      "state": {}
     },
     "364d106987d142e39255d2cd561f6548": {
      "model_module": "@jupyter-widgets/controls",
      "model_module_version": "1.5.0",
      "model_name": "DescriptionStyleModel",
      "state": {
       "description_width": ""
      }
     },
     "3714cb5741a14e8faf188b99d83cf433": {
      "model_module": "@jupyter-widgets/controls",
      "model_module_version": "1.5.0",
      "model_name": "LinkModel",
      "state": {
       "source": [
        "IPY_MODEL_dc8e87dd973f4071839e7c7e232518c7",
        "max"
       ],
       "target": [
        "IPY_MODEL_10f2be1633174d178200285b2f9eafc2",
        "max_frame"
       ]
      }
     },
     "37946261dcf34cf49d9cbf6b0f2b9a2c": {
      "model_module": "@jupyter-widgets/base",
      "model_module_version": "1.2.0",
      "model_name": "LayoutModel",
      "state": {}
     },
     "37cd77446a1749ceae057594c85b0606": {
      "model_module": "@jupyter-widgets/controls",
      "model_module_version": "1.5.0",
      "model_name": "DescriptionStyleModel",
      "state": {
       "description_width": ""
      }
     },
     "38066563251343708810759cfeb994f5": {
      "model_module": "@jupyter-widgets/controls",
      "model_module_version": "1.5.0",
      "model_name": "DescriptionStyleModel",
      "state": {
       "description_width": ""
      }
     },
     "382b49b7fbee4df1b4bf0ab67561d1ae": {
      "model_module": "@jupyter-widgets/controls",
      "model_module_version": "1.5.0",
      "model_name": "HTMLModel",
      "state": {
       "layout": "IPY_MODEL_6aafedb1db9d402ea41d8c1486367835",
       "style": "IPY_MODEL_38066563251343708810759cfeb994f5",
       "value": " 25193/25193 [00:21&lt;00:00, 1151.74it/s]"
      }
     },
     "3b5f2a20d52e49e384e4709d3aa73865": {
      "model_module": "@jupyter-widgets/base",
      "model_module_version": "1.2.0",
      "model_name": "LayoutModel",
      "state": {}
     },
     "3c49236f298f4c8b9c20492438d32a0e": {
      "model_module": "@jupyter-widgets/base",
      "model_module_version": "1.2.0",
      "model_name": "LayoutModel",
      "state": {}
     },
     "3d9d5760428d4832ba97aecb45d80d8d": {
      "model_module": "@jupyter-widgets/base",
      "model_module_version": "1.2.0",
      "model_name": "LayoutModel",
      "state": {}
     },
     "3df199368e6240369743e953870cb961": {
      "model_module": "@jupyter-widgets/controls",
      "model_module_version": "1.5.0",
      "model_name": "HTMLModel",
      "state": {
       "layout": "IPY_MODEL_349d8aff99484da0b1f0e4a00f10c618",
       "style": "IPY_MODEL_63a19a3963b04923b229c8be20386015",
       "value": "100%"
      }
     },
     "3edadb93950d4d6688c43844bb75114c": {
      "model_module": "@jupyter-widgets/controls",
      "model_module_version": "1.5.0",
      "model_name": "HTMLModel",
      "state": {
       "layout": "IPY_MODEL_0c2eabc61b474620bfa898fb7a4a1ced",
       "style": "IPY_MODEL_79148dade91f4b4abbd2230b7fa428c6",
       "value": "100%"
      }
     },
     "415026dc6c6b4068861d9687a45bbeda": {
      "model_module": "@jupyter-widgets/controls",
      "model_module_version": "1.5.0",
      "model_name": "ButtonStyleModel",
      "state": {}
     },
     "43819351e18141daae07c6caa908df05": {
      "model_module": "@jupyter-widgets/controls",
      "model_module_version": "1.5.0",
      "model_name": "DescriptionStyleModel",
      "state": {
       "description_width": ""
      }
     },
     "44fb3c21afa148bca4258c1c5b21a1f4": {
      "model_module": "@jupyter-widgets/base",
      "model_module_version": "1.2.0",
      "model_name": "LayoutModel",
      "state": {}
     },
     "466756399a5a46c2a7f6221e26bd30d0": {
      "model_module": "@jupyter-widgets/controls",
      "model_module_version": "1.5.0",
      "model_name": "DescriptionStyleModel",
      "state": {
       "description_width": ""
      }
     },
     "4715d7d47bb748f1b0c4aea48a9c8291": {
      "model_module": "@jupyter-widgets/controls",
      "model_module_version": "1.5.0",
      "model_name": "HTMLModel",
      "state": {
       "layout": "IPY_MODEL_817847e2baa649e5bab5ad4ad438b625",
       "style": "IPY_MODEL_18cd7bbaacb5435c81137de5d6888fc5",
       "value": " 3099/3099 [00:15&lt;00:00, 239.77it/s]"
      }
     },
     "47b88485e4844f97aa1b65f358b5d32d": {
      "model_module": "@jupyter-widgets/controls",
      "model_module_version": "1.5.0",
      "model_name": "ButtonModel",
      "state": {
       "icon": "compress",
       "layout": "IPY_MODEL_4c5c89d3fe0e4542a4eda33652dfbc57",
       "style": "IPY_MODEL_415026dc6c6b4068861d9687a45bbeda"
      }
     },
     "48390e2c124e42f6b9230712350e8e16": {
      "model_module": "@jupyter-widgets/controls",
      "model_module_version": "1.5.0",
      "model_name": "ProgressStyleModel",
      "state": {
       "description_width": ""
      }
     },
     "4882da138cc74bf49ec41e448211d254": {
      "model_module": "@jupyter-widgets/controls",
      "model_module_version": "1.5.0",
      "model_name": "LinkModel",
      "state": {
       "source": [
        "IPY_MODEL_a828dd138c90430cb78b5141ca707cbe",
        "value"
       ],
       "target": [
        "IPY_MODEL_dc8e87dd973f4071839e7c7e232518c7",
        "value"
       ]
      }
     },
     "49929e3df3e940c79a55daf67dc11048": {
      "model_module": "@jupyter-widgets/controls",
      "model_module_version": "1.5.0",
      "model_name": "LinkModel",
      "state": {
       "source": [
        "IPY_MODEL_9f2fde94c4bf4fb48528fb91785d62ea",
        "value"
       ],
       "target": [
        "IPY_MODEL_db61cd93083440908d7eb9f46d53e6a1",
        "frame"
       ]
      }
     },
     "4a3540ffc9de4bff929aab3f89626581": {
      "model_module": "@jupyter-widgets/controls",
      "model_module_version": "1.5.0",
      "model_name": "HTMLModel",
      "state": {
       "layout": "IPY_MODEL_272b68fab81648eaa544d70b13592876",
       "style": "IPY_MODEL_8ea1fdf02a7b4d4eba14c6f2677e5c02",
       "value": "Checking for mp-1223102: 100%"
      }
     },
     "4a7bc5bcab834723ae2b2d8383eb224e": {
      "model_module": "@jupyter-widgets/controls",
      "model_module_version": "1.5.0",
      "model_name": "HTMLModel",
      "state": {
       "layout": "IPY_MODEL_792f3717a2d046dca16a67f3bbd57c98",
       "style": "IPY_MODEL_6b42d4ef1a704c5880558b368f1d4d2c",
       "value": "100%"
      }
     },
     "4b170fed0c5247d69eb23adc8c44ee2a": {
      "model_module": "@jupyter-widgets/controls",
      "model_module_version": "1.5.0",
      "model_name": "HTMLModel",
      "state": {
       "layout": "IPY_MODEL_3c49236f298f4c8b9c20492438d32a0e",
       "style": "IPY_MODEL_5f63c376e18d4d84b1fc52325bc57530",
       "value": " 25193/25193 [00:24&lt;00:00, 1348.79it/s]"
      }
     },
     "4b2fc7a980174fd6ab41d8175b17f524": {
      "model_module": "@jupyter-widgets/controls",
      "model_module_version": "1.5.0",
      "model_name": "FloatProgressModel",
      "state": {
       "bar_style": "success",
       "layout": "IPY_MODEL_5b2da3be98354937b7010a0ec3465722",
       "max": 19472,
       "style": "IPY_MODEL_c36ae7d650e8430cb68d78f25aefc4c9",
       "value": 19472
      }
     },
     "4b7b47947e124d25a641c45e5058c009": {
      "model_module": "@jupyter-widgets/controls",
      "model_module_version": "1.5.0",
      "model_name": "ProgressStyleModel",
      "state": {
       "description_width": ""
      }
     },
     "4ba21bc7a67944fc8dc36ea80c6533bc": {
      "model_module": "@jupyter-widgets/controls",
      "model_module_version": "1.5.0",
      "model_name": "ProgressStyleModel",
      "state": {
       "description_width": ""
      }
     },
     "4c5c89d3fe0e4542a4eda33652dfbc57": {
      "model_module": "@jupyter-widgets/base",
      "model_module_version": "1.2.0",
      "model_name": "LayoutModel",
      "state": {
       "width": "34px"
      }
     },
     "4c7404c02c804c3fa6b935d8ae9be361": {
      "model_module": "@jupyter-widgets/base",
      "model_module_version": "1.2.0",
      "model_name": "LayoutModel",
      "state": {}
     },
     "4d8d956f43df4d148f0e5be5ea53be79": {
      "model_module": "@jupyter-widgets/base",
      "model_module_version": "1.2.0",
      "model_name": "LayoutModel",
      "state": {}
     },
     "4dc6dad5f242429393c94b9970431f07": {
      "model_module": "@jupyter-widgets/controls",
      "model_module_version": "1.5.0",
      "model_name": "HBoxModel",
      "state": {
       "children": [
        "IPY_MODEL_a828dd138c90430cb78b5141ca707cbe",
        "IPY_MODEL_dc8e87dd973f4071839e7c7e232518c7"
       ],
       "layout": "IPY_MODEL_f9466d84e6314a76bd1bcc5ee18ca67c"
      }
     },
     "4e8317e9520a4e3a97aafa2eff4bd9c8": {
      "model_module": "@jupyter-widgets/base",
      "model_module_version": "1.2.0",
      "model_name": "LayoutModel",
      "state": {}
     },
     "4fb537e45e924c3f81ad061686de162e": {
      "model_module": "@jupyter-widgets/controls",
      "model_module_version": "1.5.0",
      "model_name": "DescriptionStyleModel",
      "state": {
       "description_width": ""
      }
     },
     "500ac6d0e9db422e85f580df74368545": {
      "model_module": "@jupyter-widgets/controls",
      "model_module_version": "1.5.0",
      "model_name": "ProgressStyleModel",
      "state": {
       "description_width": ""
      }
     },
     "512d392e3f1d4b2299d958e2c3ffa711": {
      "model_module": "@jupyter-widgets/controls",
      "model_module_version": "1.5.0",
      "model_name": "ProgressStyleModel",
      "state": {
       "description_width": ""
      }
     },
     "524aaf7f579b49999cffc41481fdbe62": {
      "model_module": "@jupyter-widgets/base",
      "model_module_version": "1.2.0",
      "model_name": "LayoutModel",
      "state": {}
     },
     "53444d6becd54ec4b96244b10099a47e": {
      "model_module": "@jupyter-widgets/controls",
      "model_module_version": "1.5.0",
      "model_name": "HBoxModel",
      "state": {
       "children": [
        "IPY_MODEL_2b4ed36d59164e9a8dedbfbba4c5def1",
        "IPY_MODEL_22574979cc7a444fb7a19ffdc23be68f",
        "IPY_MODEL_2fa99705aec04ea7925d4b403de1cf89"
       ],
       "layout": "IPY_MODEL_bd1557d0aeb940d5bc86bf5b8bd33250"
      }
     },
     "536613ad2d6e48b0a46cbdd22009581a": {
      "model_module": "@jupyter-widgets/controls",
      "model_module_version": "1.5.0",
      "model_name": "FloatProgressModel",
      "state": {
       "bar_style": "success",
       "layout": "IPY_MODEL_300d87012fd74ee4b67febeaefb13991",
       "max": 25193,
       "style": "IPY_MODEL_2cb445ce1f6b44fc9fce25cd94be8361",
       "value": 25193
      }
     },
     "53750720a38c4daabe736c4a9db9783a": {
      "model_module": "@jupyter-widgets/controls",
      "model_module_version": "1.5.0",
      "model_name": "HBoxModel",
      "state": {
       "children": [
        "IPY_MODEL_70bedc9e9f044d7b88bd0c40a86f027d",
        "IPY_MODEL_4b2fc7a980174fd6ab41d8175b17f524",
        "IPY_MODEL_cba8a1694a6b4d5abefa11116627fe00"
       ],
       "layout": "IPY_MODEL_f9f639a867b54f129514a0a3160d2776"
      }
     },
     "53e8a8e5bb7d4840b9335aaacccb3de7": {
      "model_module": "@jupyter-widgets/base",
      "model_module_version": "1.2.0",
      "model_name": "LayoutModel",
      "state": {}
     },
     "57466131d6b34b9c8e69ede832cbd13a": {
      "model_module": "@jupyter-widgets/controls",
      "model_module_version": "1.5.0",
      "model_name": "HBoxModel",
      "state": {
       "children": [
        "IPY_MODEL_3edadb93950d4d6688c43844bb75114c",
        "IPY_MODEL_536613ad2d6e48b0a46cbdd22009581a",
        "IPY_MODEL_382b49b7fbee4df1b4bf0ab67561d1ae"
       ],
       "layout": "IPY_MODEL_28b11229788a411dada3d64f2ca633d3"
      }
     },
     "580541e9fb794b5ea996ba4b892368e8": {
      "model_module": "@jupyter-widgets/controls",
      "model_module_version": "1.5.0",
      "model_name": "HBoxModel",
      "state": {
       "children": [
        "IPY_MODEL_a3c85e3a7a6b43ef9973c1e988add761",
        "IPY_MODEL_c7a4ecdf200a47c5adce075ed921bd01",
        "IPY_MODEL_02fe53f7ef944ae4bed74f4d5bf261a9"
       ],
       "layout": "IPY_MODEL_cdb80f4f3699499aa7b1f921bedd8b1a"
      }
     },
     "58ff8914e13444a4b161942a1a69fb2a": {
      "model_module": "@jupyter-widgets/controls",
      "model_module_version": "1.5.0",
      "model_name": "LinkModel",
      "state": {
       "source": [
        "IPY_MODEL_a828dd138c90430cb78b5141ca707cbe",
        "max"
       ],
       "target": [
        "IPY_MODEL_10f2be1633174d178200285b2f9eafc2",
        "max_frame"
       ]
      }
     },
     "594aaf18d8c54d158d752a40d2fafeec": {
      "model_module": "@jupyter-widgets/controls",
      "model_module_version": "1.5.0",
      "model_name": "ProgressStyleModel",
      "state": {
       "description_width": ""
      }
     },
     "5aeeeea836f14714a235d838b6facd21": {
      "model_module": "@jupyter-widgets/base",
      "model_module_version": "1.2.0",
      "model_name": "LayoutModel",
      "state": {}
     },
     "5b2da3be98354937b7010a0ec3465722": {
      "model_module": "@jupyter-widgets/base",
      "model_module_version": "1.2.0",
      "model_name": "LayoutModel",
      "state": {}
     },
     "5b681a6204884a758816b0be1531c54a": {
      "model_module": "@jupyter-widgets/controls",
      "model_module_version": "1.5.0",
      "model_name": "HTMLModel",
      "state": {
       "layout": "IPY_MODEL_d99ff4a193de4d178d470101c4031021",
       "style": "IPY_MODEL_c8ea411504d04487b9a5f61c2ae7e22b",
       "value": " 25291/25291 [00:03&lt;00:00, 7924.58it/s]"
      }
     },
     "5bc45a885bd54f9baa0812b3f239af08": {
      "model_module": "@jupyter-widgets/controls",
      "model_module_version": "1.5.0",
      "model_name": "FloatProgressModel",
      "state": {
       "bar_style": "success",
       "layout": "IPY_MODEL_8c0a1978a11641c7bb27463c9b7d8d3e",
       "max": 17592,
       "style": "IPY_MODEL_8b084eb7d7a64c8b987a0252dd130c76",
       "value": 17592
      }
     },
     "5ee9bed665c04f05a8bd6823f0ed2d10": {
      "model_module": "@jupyter-widgets/base",
      "model_module_version": "1.2.0",
      "model_name": "LayoutModel",
      "state": {}
     },
     "5f63c376e18d4d84b1fc52325bc57530": {
      "model_module": "@jupyter-widgets/controls",
      "model_module_version": "1.5.0",
      "model_name": "DescriptionStyleModel",
      "state": {
       "description_width": ""
      }
     },
     "6080b849b89c4cc2b62155382a2c095d": {
      "model_module": "@jupyter-widgets/controls",
      "model_module_version": "1.5.0",
      "model_name": "FloatProgressModel",
      "state": {
       "bar_style": "success",
       "layout": "IPY_MODEL_89ca2203e89f418485ce39d2da584ab3",
       "max": 27377,
       "style": "IPY_MODEL_87a9d4bd07fa482cbeba5865ef688e60",
       "value": 27377
      }
     },
     "63a19a3963b04923b229c8be20386015": {
      "model_module": "@jupyter-widgets/controls",
      "model_module_version": "1.5.0",
      "model_name": "DescriptionStyleModel",
      "state": {
       "description_width": ""
      }
     },
     "641fad6c8c7646e3b1dc49a54db593c6": {
      "model_module": "@jupyter-widgets/controls",
      "model_module_version": "1.5.0",
      "model_name": "HTMLModel",
      "state": {
       "layout": "IPY_MODEL_c29e3f3f0b4b4952b3cebc4255590625",
       "style": "IPY_MODEL_90bbe86c2254489b9a5d1902f78bd2d0",
       "value": " 25193/25193 [00:30&lt;00:00, 1199.28it/s]"
      }
     },
     "648bf93b40124225995259e38c091f7b": {
      "model_module": "@jupyter-widgets/base",
      "model_module_version": "1.2.0",
      "model_name": "LayoutModel",
      "state": {}
     },
     "65263896494f4ebb87c22abf4e969696": {
      "model_module": "@jupyter-widgets/controls",
      "model_module_version": "1.5.0",
      "model_name": "ProgressStyleModel",
      "state": {
       "description_width": ""
      }
     },
     "652d9e6e47494f83b3e71486ade7943c": {
      "model_module": "@jupyter-widgets/base",
      "model_module_version": "1.2.0",
      "model_name": "LayoutModel",
      "state": {}
     },
     "66ee2e40ae9c4a73927d88b13ffcc1e6": {
      "model_module": "@jupyter-widgets/controls",
      "model_module_version": "1.5.0",
      "model_name": "DescriptionStyleModel",
      "state": {
       "description_width": ""
      }
     },
     "6707ffb8d23144b5a6ff644c2537cbe7": {
      "model_module": "@jupyter-widgets/base",
      "model_module_version": "1.2.0",
      "model_name": "LayoutModel",
      "state": {}
     },
     "6721d58a82ac4191936169bcd442341c": {
      "model_module": "@jupyter-widgets/controls",
      "model_module_version": "1.5.0",
      "model_name": "HBoxModel",
      "state": {
       "children": [
        "IPY_MODEL_c96e2f6f941d4061973a23c8cd03325c",
        "IPY_MODEL_8cfbad8e607540c2a5cf9dcb3ae396ca",
        "IPY_MODEL_2c3ba12585ec43eba105f338cac069d1"
       ],
       "layout": "IPY_MODEL_879fc11d7d284669affff4012ad36d27"
      }
     },
     "672b82a2897644058b789bdef703e00f": {
      "model_module": "@jupyter-widgets/controls",
      "model_module_version": "1.5.0",
      "model_name": "DescriptionStyleModel",
      "state": {
       "description_width": ""
      }
     },
     "6837cbcb7b7f4dc3b9d3f1fd2b867f0c": {
      "model_module": "@jupyter-widgets/controls",
      "model_module_version": "1.5.0",
      "model_name": "DescriptionStyleModel",
      "state": {
       "description_width": ""
      }
     },
     "694854bf70ec4654b160b8d315812e3a": {
      "model_module": "@jupyter-widgets/controls",
      "model_module_version": "1.5.0",
      "model_name": "DescriptionStyleModel",
      "state": {
       "description_width": ""
      }
     },
     "694c84d3f3f54cb18b2704d030b76733": {
      "model_module": "@jupyter-widgets/controls",
      "model_module_version": "1.5.0",
      "model_name": "HTMLModel",
      "state": {
       "layout": "IPY_MODEL_e34f20aff7aa44959d53683e5046963b",
       "style": "IPY_MODEL_1e5ea97dd8904c21bc65a4bff9964096"
      }
     },
     "6a3e969707314c1f87cc9a5abbea0821": {
      "model_module": "@jupyter-widgets/base",
      "model_module_version": "1.2.0",
      "model_name": "LayoutModel",
      "state": {}
     },
     "6a43ade5d3864077b8047a4fb1148de9": {
      "model_module": "@jupyter-widgets/base",
      "model_module_version": "1.2.0",
      "model_name": "LayoutModel",
      "state": {}
     },
     "6aafedb1db9d402ea41d8c1486367835": {
      "model_module": "@jupyter-widgets/base",
      "model_module_version": "1.2.0",
      "model_name": "LayoutModel",
      "state": {}
     },
     "6ab8118f68234819b13da70a25b73996": {
      "model_module": "@jupyter-widgets/controls",
      "model_module_version": "1.5.0",
      "model_name": "FloatProgressModel",
      "state": {
       "bar_style": "success",
       "layout": "IPY_MODEL_e0735959cf224163a804fb1525055de5",
       "max": 19472,
       "style": "IPY_MODEL_73c86043a780415e817b0144ea0a1c89",
       "value": 19472
      }
     },
     "6b42d4ef1a704c5880558b368f1d4d2c": {
      "model_module": "@jupyter-widgets/controls",
      "model_module_version": "1.5.0",
      "model_name": "DescriptionStyleModel",
      "state": {
       "description_width": ""
      }
     },
     "6cd1435274174cbd9e2c83d37e884c9d": {
      "model_module": "@jupyter-widgets/controls",
      "model_module_version": "1.5.0",
      "model_name": "HTMLModel",
      "state": {
       "layout": "IPY_MODEL_a017b891199c4a6a9ba17de237f98656",
       "style": "IPY_MODEL_dffea234b326413d84745e141a1ba2af",
       "value": "100%"
      }
     },
     "6e85ecb1464e4131bdbfb50c431df7e3": {
      "model_module": "@jupyter-widgets/controls",
      "model_module_version": "1.5.0",
      "model_name": "DescriptionStyleModel",
      "state": {
       "description_width": ""
      }
     },
     "6ed271cb59d64deca679e125d7471028": {
      "model_module": "@jupyter-widgets/controls",
      "model_module_version": "1.5.0",
      "model_name": "HBoxModel",
      "state": {
       "children": [
        "IPY_MODEL_bbeaa03c1d664084bb69269a4e9c23c3",
        "IPY_MODEL_a6a08e41d12d42f3a290aeab509817c9",
        "IPY_MODEL_719f042bb0ba48aca46efd3e07b7fb05"
       ],
       "layout": "IPY_MODEL_4d8d956f43df4d148f0e5be5ea53be79"
      }
     },
     "703f92950e70405395dd1397755f9043": {
      "model_module": "@jupyter-widgets/controls",
      "model_module_version": "1.5.0",
      "model_name": "FloatProgressModel",
      "state": {
       "bar_style": "success",
       "layout": "IPY_MODEL_4e8317e9520a4e3a97aafa2eff4bd9c8",
       "max": 25291,
       "style": "IPY_MODEL_65263896494f4ebb87c22abf4e969696",
       "value": 25291
      }
     },
     "70bedc9e9f044d7b88bd0c40a86f027d": {
      "model_module": "@jupyter-widgets/controls",
      "model_module_version": "1.5.0",
      "model_name": "HTMLModel",
      "state": {
       "layout": "IPY_MODEL_35f559a03d8047948d66cfc647053d7e",
       "style": "IPY_MODEL_85fac1f718274ab7ba5ce2a3360419e9",
       "value": "100%"
      }
     },
     "718b8114131f402494240403e901e311": {
      "model_module": "@jupyter-widgets/base",
      "model_module_version": "1.2.0",
      "model_name": "LayoutModel",
      "state": {}
     },
     "719f042bb0ba48aca46efd3e07b7fb05": {
      "model_module": "@jupyter-widgets/controls",
      "model_module_version": "1.5.0",
      "model_name": "HTMLModel",
      "state": {
       "layout": "IPY_MODEL_db9ba891f61440f2882e68fc7af36b70",
       "style": "IPY_MODEL_466756399a5a46c2a7f6221e26bd30d0",
       "value": " 25291/25291 [00:08&lt;00:00, 2877.15it/s]"
      }
     },
     "73c86043a780415e817b0144ea0a1c89": {
      "model_module": "@jupyter-widgets/controls",
      "model_module_version": "1.5.0",
      "model_name": "ProgressStyleModel",
      "state": {
       "description_width": ""
      }
     },
     "74f7cc93e2974fd7a28061bfa301cd73": {
      "model_module": "@jupyter-widgets/controls",
      "model_module_version": "1.5.0",
      "model_name": "HBoxModel",
      "state": {
       "children": [
        "IPY_MODEL_94ae22e9929b440494e101c6b338017b",
        "IPY_MODEL_2ccd1ec4431c45c58e9fab0d0f92702d",
        "IPY_MODEL_9a245afd23984231ae7a35dd55c4cb6e"
       ],
       "layout": "IPY_MODEL_8b256217a74745ecadc1227aa337d8d3"
      }
     },
     "768ac811ca8741088ba2b55d45f31f1c": {
      "model_module": "@jupyter-widgets/controls",
      "model_module_version": "1.5.0",
      "model_name": "HTMLModel",
      "state": {
       "layout": "IPY_MODEL_9ea86f05890d4a789b271e9b90d40bea",
       "style": "IPY_MODEL_8d33caa3d6a4444ea46de0db598ad5b5",
       "value": "100%"
      }
     },
     "77f6fd880f394df49fc2ac6a15543dfd": {
      "model_module": "@jupyter-widgets/base",
      "model_module_version": "1.2.0",
      "model_name": "LayoutModel",
      "state": {}
     },
     "78d19573daa3482180931a27e98b6ca4": {
      "model_module": "@jupyter-widgets/controls",
      "model_module_version": "1.5.0",
      "model_name": "HBoxModel",
      "state": {
       "children": [
        "IPY_MODEL_768ac811ca8741088ba2b55d45f31f1c",
        "IPY_MODEL_fa8ed8af8d2c4b8984432ef567984f5f",
        "IPY_MODEL_641fad6c8c7646e3b1dc49a54db593c6"
       ],
       "layout": "IPY_MODEL_1168e5f8bf024e7ea6a83935e3f396c3"
      }
     },
     "79148dade91f4b4abbd2230b7fa428c6": {
      "model_module": "@jupyter-widgets/controls",
      "model_module_version": "1.5.0",
      "model_name": "DescriptionStyleModel",
      "state": {
       "description_width": ""
      }
     },
     "792f3717a2d046dca16a67f3bbd57c98": {
      "model_module": "@jupyter-widgets/base",
      "model_module_version": "1.2.0",
      "model_name": "LayoutModel",
      "state": {}
     },
     "7ac40668dd27474687a8fcc8ae6cc3d1": {
      "model_module": "@jupyter-widgets/controls",
      "model_module_version": "1.5.0",
      "model_name": "FloatProgressModel",
      "state": {
       "bar_style": "success",
       "layout": "IPY_MODEL_648bf93b40124225995259e38c091f7b",
       "max": 25193,
       "style": "IPY_MODEL_500ac6d0e9db422e85f580df74368545",
       "value": 25193
      }
     },
     "7adec848d7ea49d59530c06b80d754de": {
      "model_module": "@jupyter-widgets/controls",
      "model_module_version": "1.5.0",
      "model_name": "DescriptionStyleModel",
      "state": {
       "description_width": ""
      }
     },
     "7bc4d25148254eca8c18e947d67dd2ad": {
      "model_module": "@jupyter-widgets/controls",
      "model_module_version": "1.5.0",
      "model_name": "FloatProgressModel",
      "state": {
       "bar_style": "success",
       "layout": "IPY_MODEL_edf6178f58f047599463d3ee5c4635ed",
       "max": 27377,
       "style": "IPY_MODEL_4b7b47947e124d25a641c45e5058c009",
       "value": 27377
      }
     },
     "7d79278e48a243f58c974b51366d6847": {
      "model_module": "@jupyter-widgets/controls",
      "model_module_version": "1.5.0",
      "model_name": "LinkModel",
      "state": {
       "source": [
        "IPY_MODEL_9f2fde94c4bf4fb48528fb91785d62ea",
        "value"
       ],
       "target": [
        "IPY_MODEL_acb954f3a83246bbb4b486d2becd5185",
        "value"
       ]
      }
     },
     "7dcfd6e7a2734a40b8015833b287d4b4": {
      "model_module": "@jupyter-widgets/controls",
      "model_module_version": "1.5.0",
      "model_name": "HBoxModel",
      "state": {
       "children": [
        "IPY_MODEL_22634f8b4c2d45aa9c83fb1d10dd1da5",
        "IPY_MODEL_97a89ed0c9f64727bb4450177b5f7acb",
        "IPY_MODEL_859222d619e042a5b770fc6c06957bd1"
       ],
       "layout": "IPY_MODEL_afcb473a4b164640957a3cb0bb64b84d"
      }
     },
     "7e381781ffd246fd8ec2655a3804259f": {
      "model_module": "@jupyter-widgets/controls",
      "model_module_version": "1.5.0",
      "model_name": "LinkModel",
      "state": {
       "source": [
        "IPY_MODEL_9f2fde94c4bf4fb48528fb91785d62ea",
        "max"
       ],
       "target": [
        "IPY_MODEL_db61cd93083440908d7eb9f46d53e6a1",
        "max_frame"
       ]
      }
     },
     "7edb72f11b4a4cdca8ffcbabc2f96435": {
      "model_module": "@jupyter-widgets/controls",
      "model_module_version": "1.5.0",
      "model_name": "ProgressStyleModel",
      "state": {
       "description_width": ""
      }
     },
     "7fdbeb5eaa2f43ee97e16e10fc290906": {
      "model_module": "@jupyter-widgets/controls",
      "model_module_version": "1.5.0",
      "model_name": "DescriptionStyleModel",
      "state": {
       "description_width": ""
      }
     },
     "8084a286e65241d6b927da961e1346fa": {
      "model_module": "@jupyter-widgets/controls",
      "model_module_version": "1.5.0",
      "model_name": "DescriptionStyleModel",
      "state": {
       "description_width": ""
      }
     },
     "811072b6e11249b0b8bbda07e978d49a": {
      "model_module": "@jupyter-widgets/controls",
      "model_module_version": "1.5.0",
      "model_name": "DescriptionStyleModel",
      "state": {
       "description_width": ""
      }
     },
     "817847e2baa649e5bab5ad4ad438b625": {
      "model_module": "@jupyter-widgets/base",
      "model_module_version": "1.2.0",
      "model_name": "LayoutModel",
      "state": {}
     },
     "8329d879f3bd481b9ffc3a66c7280969": {
      "model_module": "@jupyter-widgets/controls",
      "model_module_version": "1.5.0",
      "model_name": "HBoxModel",
      "state": {
       "children": [
        "IPY_MODEL_b1d88d3cc0c34920bf2bb09ade303807",
        "IPY_MODEL_7bc4d25148254eca8c18e947d67dd2ad",
        "IPY_MODEL_c3d4bf602d1a4bb790f51114e86d5089"
       ],
       "layout": "IPY_MODEL_161c09bbd0864797bf4104445fe7a7df"
      }
     },
     "842f5583d39e4e6f9fb45b4a24ef7ff6": {
      "model_module": "@jupyter-widgets/base",
      "model_module_version": "1.2.0",
      "model_name": "LayoutModel",
      "state": {}
     },
     "84475157bc834906b58dfa73125742ec": {
      "model_module": "@jupyter-widgets/base",
      "model_module_version": "1.2.0",
      "model_name": "LayoutModel",
      "state": {
       "width": "34px"
      }
     },
     "859222d619e042a5b770fc6c06957bd1": {
      "model_module": "@jupyter-widgets/controls",
      "model_module_version": "1.5.0",
      "model_name": "HTMLModel",
      "state": {
       "layout": "IPY_MODEL_04d63841f8e241288f80d670fc2c9991",
       "style": "IPY_MODEL_6e85ecb1464e4131bdbfb50c431df7e3",
       "value": " 27377/27377 [00:00&lt;00:00, 643291.10it/s]"
      }
     },
     "85fac1f718274ab7ba5ce2a3360419e9": {
      "model_module": "@jupyter-widgets/controls",
      "model_module_version": "1.5.0",
      "model_name": "DescriptionStyleModel",
      "state": {
       "description_width": ""
      }
     },
     "867977275f744e59a0c73944dffc6ad7": {
      "model_module": "@jupyter-widgets/controls",
      "model_module_version": "1.5.0",
      "model_name": "LinkModel",
      "state": {
       "source": [
        "IPY_MODEL_a828dd138c90430cb78b5141ca707cbe",
        "value"
       ],
       "target": [
        "IPY_MODEL_10f2be1633174d178200285b2f9eafc2",
        "frame"
       ]
      }
     },
     "86ac8d07e68847babe6cae567d061e16": {
      "model_module": "@jupyter-widgets/base",
      "model_module_version": "1.2.0",
      "model_name": "LayoutModel",
      "state": {}
     },
     "873149157994443b81bcb754dccae90d": {
      "model_module": "@jupyter-widgets/base",
      "model_module_version": "1.2.0",
      "model_name": "LayoutModel",
      "state": {}
     },
     "8743d5291e1447f3924053d52435c7ed": {
      "model_module": "@jupyter-widgets/controls",
      "model_module_version": "1.5.0",
      "model_name": "HBoxModel",
      "state": {
       "children": [
        "IPY_MODEL_4a3540ffc9de4bff929aab3f89626581",
        "IPY_MODEL_34be77da69ce4297b08e5143702b5fa6",
        "IPY_MODEL_b655f66699594c67b00f2ffe23e382b2"
       ],
       "layout": "IPY_MODEL_9afd4e5d26f24a3bade2aabf1411de34"
      }
     },
     "879fc11d7d284669affff4012ad36d27": {
      "model_module": "@jupyter-widgets/base",
      "model_module_version": "1.2.0",
      "model_name": "LayoutModel",
      "state": {}
     },
     "87a9d4bd07fa482cbeba5865ef688e60": {
      "model_module": "@jupyter-widgets/controls",
      "model_module_version": "1.5.0",
      "model_name": "ProgressStyleModel",
      "state": {
       "description_width": ""
      }
     },
     "888b0529556746f2aadd49fffdea0002": {
      "model_module": "@jupyter-widgets/base",
      "model_module_version": "1.2.0",
      "model_name": "LayoutModel",
      "state": {}
     },
     "8914056567f348dc82c0a2068fd49145": {
      "model_module": "@jupyter-widgets/controls",
      "model_module_version": "1.5.0",
      "model_name": "FloatProgressModel",
      "state": {
       "bar_style": "success",
       "layout": "IPY_MODEL_0e24f0de1d8a4e9e88afb3a86fe0d8b6",
       "max": 7905,
       "style": "IPY_MODEL_fd922384d96a439a9d595219511d0594",
       "value": 7905
      }
     },
     "89ca2203e89f418485ce39d2da584ab3": {
      "model_module": "@jupyter-widgets/base",
      "model_module_version": "1.2.0",
      "model_name": "LayoutModel",
      "state": {}
     },
     "8af760ce02ee4c2088b3e6ad21e85a42": {
      "model_module": "@jupyter-widgets/controls",
      "model_module_version": "1.5.0",
      "model_name": "DescriptionStyleModel",
      "state": {
       "description_width": ""
      }
     },
     "8b084eb7d7a64c8b987a0252dd130c76": {
      "model_module": "@jupyter-widgets/controls",
      "model_module_version": "1.5.0",
      "model_name": "ProgressStyleModel",
      "state": {
       "description_width": ""
      }
     },
     "8b256217a74745ecadc1227aa337d8d3": {
      "model_module": "@jupyter-widgets/base",
      "model_module_version": "1.2.0",
      "model_name": "LayoutModel",
      "state": {}
     },
     "8b6eac0948fb4538a2616b2ef1fc64f4": {
      "model_module": "@jupyter-widgets/controls",
      "model_module_version": "1.5.0",
      "model_name": "HTMLModel",
      "state": {
       "layout": "IPY_MODEL_888b0529556746f2aadd49fffdea0002",
       "style": "IPY_MODEL_ca921b59d0154f0ba95cf8ab4d8b5494",
       "value": "Remove structures without charge decoration: 100%"
      }
     },
     "8b951d663cc1435984bd4e6337d58eeb": {
      "model_module": "@jupyter-widgets/base",
      "model_module_version": "1.2.0",
      "model_name": "LayoutModel",
      "state": {}
     },
     "8bb04b4e1c264c17a8322f0032e8b41d": {
      "model_module": "@jupyter-widgets/controls",
      "model_module_version": "1.5.0",
      "model_name": "ImageModel",
      "state": {
       "layout": "IPY_MODEL_9579d02a0c0a4f4799425a24f7f14780",
       "width": "900.0"
      }
     },
     "8c0a1978a11641c7bb27463c9b7d8d3e": {
      "model_module": "@jupyter-widgets/base",
      "model_module_version": "1.2.0",
      "model_name": "LayoutModel",
      "state": {}
     },
     "8cbf588e4f314270920b2705627cf3d7": {
      "model_module": "@jupyter-widgets/base",
      "model_module_version": "1.2.0",
      "model_name": "LayoutModel",
      "state": {}
     },
     "8cfbad8e607540c2a5cf9dcb3ae396ca": {
      "model_module": "@jupyter-widgets/controls",
      "model_module_version": "1.5.0",
      "model_name": "FloatProgressModel",
      "state": {
       "bar_style": "success",
       "layout": "IPY_MODEL_a082e28b90424802988555b280e7efe1",
       "max": 25193,
       "style": "IPY_MODEL_db4e6d4e7878484996335c0ea901fe39",
       "value": 25193
      }
     },
     "8d33caa3d6a4444ea46de0db598ad5b5": {
      "model_module": "@jupyter-widgets/controls",
      "model_module_version": "1.5.0",
      "model_name": "DescriptionStyleModel",
      "state": {
       "description_width": ""
      }
     },
     "8ea1fdf02a7b4d4eba14c6f2677e5c02": {
      "model_module": "@jupyter-widgets/controls",
      "model_module_version": "1.5.0",
      "model_name": "DescriptionStyleModel",
      "state": {
       "description_width": ""
      }
     },
     "8f8c4c8a375b4c348faed238cd109587": {
      "model_module": "@jupyter-widgets/base",
      "model_module_version": "1.2.0",
      "model_name": "LayoutModel",
      "state": {}
     },
     "90418e12acb24f41bb21582eff7fef4c": {
      "model_module": "@jupyter-widgets/controls",
      "model_module_version": "1.5.0",
      "model_name": "DescriptionStyleModel",
      "state": {
       "description_width": ""
      }
     },
     "90bbe86c2254489b9a5d1902f78bd2d0": {
      "model_module": "@jupyter-widgets/controls",
      "model_module_version": "1.5.0",
      "model_name": "DescriptionStyleModel",
      "state": {
       "description_width": ""
      }
     },
     "90d1c2fe3e0b431c8a18ae83bbf477b9": {
      "model_module": "@jupyter-widgets/controls",
      "model_module_version": "1.5.0",
      "model_name": "HBoxModel",
      "state": {
       "children": [
        "IPY_MODEL_6cd1435274174cbd9e2c83d37e884c9d",
        "IPY_MODEL_5bc45a885bd54f9baa0812b3f239af08",
        "IPY_MODEL_194b6090cd6944119ecd424c26451cdb"
       ],
       "layout": "IPY_MODEL_2ce3f107149949048924f6ffccdd4e6c"
      }
     },
     "92f7ac9815f94e659db094ff48755289": {
      "model_module": "@jupyter-widgets/controls",
      "model_module_version": "1.5.0",
      "model_name": "HTMLModel",
      "state": {
       "layout": "IPY_MODEL_873149157994443b81bcb754dccae90d",
       "style": "IPY_MODEL_7adec848d7ea49d59530c06b80d754de",
       "value": " 25291/25291 [00:03&lt;00:00, 8029.47it/s]"
      }
     },
     "93f9fbc43dac4a20a99c5d5d4f345980": {
      "model_module": "@jupyter-widgets/controls",
      "model_module_version": "1.5.0",
      "model_name": "HTMLModel",
      "state": {
       "layout": "IPY_MODEL_1e668b1d587045588b099c7b0b57ed7e",
       "style": "IPY_MODEL_bddc3ef849694d61bafce7356f64151a",
       "value": " 25291/25291 [00:01&lt;00:00, 10009.95it/s]"
      }
     },
     "94488b8af9b34cff839f836372d4f469": {
      "model_module": "@jupyter-widgets/controls",
      "model_module_version": "1.5.0",
      "model_name": "DescriptionStyleModel",
      "state": {
       "description_width": ""
      }
     },
     "94ae22e9929b440494e101c6b338017b": {
      "model_module": "@jupyter-widgets/controls",
      "model_module_version": "1.5.0",
      "model_name": "HTMLModel",
      "state": {
       "layout": "IPY_MODEL_2ee1d7fd691348618273624c33cbefb1",
       "style": "IPY_MODEL_43819351e18141daae07c6caa908df05",
       "value": "100%"
      }
     },
     "9579d02a0c0a4f4799425a24f7f14780": {
      "model_module": "@jupyter-widgets/base",
      "model_module_version": "1.2.0",
      "model_name": "LayoutModel",
      "state": {}
     },
     "958239667fc141fd877455aae838ba0f": {
      "model_module": "@jupyter-widgets/base",
      "model_module_version": "1.2.0",
      "model_name": "LayoutModel",
      "state": {}
     },
     "959053038bfe41e7a1ef5935e039d12e": {
      "model_module": "@jupyter-widgets/controls",
      "model_module_version": "1.5.0",
      "model_name": "ImageModel",
      "state": {
       "layout": "IPY_MODEL_2fe52941e753422c85032e04d6b7aa28",
       "width": "900.0"
      }
     },
     "966e05d53e154a378840976ad7fdd725": {
      "model_module": "@jupyter-widgets/base",
      "model_module_version": "1.2.0",
      "model_name": "LayoutModel",
      "state": {}
     },
     "975444f87109463bb92a2d34167989ce": {
      "model_module": "@jupyter-widgets/controls",
      "model_module_version": "1.5.0",
      "model_name": "FloatProgressModel",
      "state": {
       "bar_style": "success",
       "layout": "IPY_MODEL_0abeacf2b81c418e8f8c29c46ab14984",
       "max": 25193,
       "style": "IPY_MODEL_48390e2c124e42f6b9230712350e8e16",
       "value": 25193
      }
     },
     "97a89ed0c9f64727bb4450177b5f7acb": {
      "model_module": "@jupyter-widgets/controls",
      "model_module_version": "1.5.0",
      "model_name": "FloatProgressModel",
      "state": {
       "bar_style": "success",
       "layout": "IPY_MODEL_c4d8d4b76b924ad8b0a717754d986f9b",
       "max": 27377,
       "style": "IPY_MODEL_ff34db9570464372b919aa1d1fd4ca13",
       "value": 27377
      }
     },
     "981ec2fca4874370989cb2d36aded412": {
      "model_module": "@jupyter-widgets/controls",
      "model_module_version": "1.5.0",
      "model_name": "DescriptionStyleModel",
      "state": {
       "description_width": ""
      }
     },
     "9902681a38964289b7164259654deb69": {
      "model_module": "@jupyter-widgets/controls",
      "model_module_version": "1.5.0",
      "model_name": "HTMLModel",
      "state": {
       "layout": "IPY_MODEL_37946261dcf34cf49d9cbf6b0f2b9a2c",
       "style": "IPY_MODEL_9d47a70639154312ae6a108a02d453ce",
       "value": "100%"
      }
     },
     "99991c1bc6c44ad59128cfc7b7d8be94": {
      "model_module": "@jupyter-widgets/base",
      "model_module_version": "1.2.0",
      "model_name": "LayoutModel",
      "state": {}
     },
     "9a245afd23984231ae7a35dd55c4cb6e": {
      "model_module": "@jupyter-widgets/controls",
      "model_module_version": "1.5.0",
      "model_name": "HTMLModel",
      "state": {
       "layout": "IPY_MODEL_aa861c304f6040f3b94cfb172d5ccf16",
       "style": "IPY_MODEL_6837cbcb7b7f4dc3b9d3f1fd2b867f0c",
       "value": " 25193/25193 [00:24&lt;00:00, 1430.93it/s]"
      }
     },
     "9afd4e5d26f24a3bade2aabf1411de34": {
      "model_module": "@jupyter-widgets/base",
      "model_module_version": "1.2.0",
      "model_name": "LayoutModel",
      "state": {}
     },
     "9d47a70639154312ae6a108a02d453ce": {
      "model_module": "@jupyter-widgets/controls",
      "model_module_version": "1.5.0",
      "model_name": "DescriptionStyleModel",
      "state": {
       "description_width": ""
      }
     },
     "9ea86f05890d4a789b271e9b90d40bea": {
      "model_module": "@jupyter-widgets/base",
      "model_module_version": "1.2.0",
      "model_name": "LayoutModel",
      "state": {}
     },
     "9f2fde94c4bf4fb48528fb91785d62ea": {
      "model_module": "@jupyter-widgets/controls",
      "model_module_version": "1.5.0",
      "model_name": "PlayModel",
      "state": {
       "layout": "IPY_MODEL_958239667fc141fd877455aae838ba0f",
       "max": 0,
       "style": "IPY_MODEL_4fb537e45e924c3f81ad061686de162e"
      }
     },
     "9f33f67bb348441c9ad0db973cf6e7ad": {
      "model_module": "@jupyter-widgets/base",
      "model_module_version": "1.2.0",
      "model_name": "LayoutModel",
      "state": {}
     },
     "a00cbe6febec469ca040c9b4cf7d888b": {
      "model_module": "@jupyter-widgets/controls",
      "model_module_version": "1.5.0",
      "model_name": "DescriptionStyleModel",
      "state": {
       "description_width": ""
      }
     },
     "a017b891199c4a6a9ba17de237f98656": {
      "model_module": "@jupyter-widgets/base",
      "model_module_version": "1.2.0",
      "model_name": "LayoutModel",
      "state": {}
     },
     "a082e28b90424802988555b280e7efe1": {
      "model_module": "@jupyter-widgets/base",
      "model_module_version": "1.2.0",
      "model_name": "LayoutModel",
      "state": {}
     },
     "a2510dfd51fa4c5cb32a037b33d0844b": {
      "model_module": "@jupyter-widgets/base",
      "model_module_version": "1.2.0",
      "model_name": "LayoutModel",
      "state": {
       "width": "20px"
      }
     },
     "a3c85e3a7a6b43ef9973c1e988add761": {
      "model_module": "@jupyter-widgets/controls",
      "model_module_version": "1.5.0",
      "model_name": "HTMLModel",
      "state": {
       "layout": "IPY_MODEL_c3227af6bcbe4afe95f9b96118253e2d",
       "style": "IPY_MODEL_c58c2ef167d04727b13cf4b3c81a810d",
       "value": "100%"
      }
     },
     "a5d3fa2ebd0a402b855faa2c55a4e603": {
      "model_module": "@jupyter-widgets/base",
      "model_module_version": "1.2.0",
      "model_name": "LayoutModel",
      "state": {}
     },
     "a6a08e41d12d42f3a290aeab509817c9": {
      "model_module": "@jupyter-widgets/controls",
      "model_module_version": "1.5.0",
      "model_name": "FloatProgressModel",
      "state": {
       "bar_style": "success",
       "layout": "IPY_MODEL_fb97036d759b498aa13f2afdde5e9bea",
       "max": 25291,
       "style": "IPY_MODEL_d2fe017bb419447786a8231bca658698",
       "value": 25291
      }
     },
     "a74ba91f99be48008b8fb6ba3719437a": {
      "model_module": "@jupyter-widgets/controls",
      "model_module_version": "1.5.0",
      "model_name": "HTMLModel",
      "state": {
       "layout": "IPY_MODEL_86ac8d07e68847babe6cae567d061e16",
       "style": "IPY_MODEL_94488b8af9b34cff839f836372d4f469",
       "value": "Check for oxidation states and ordering: 100%"
      }
     },
     "a828dd138c90430cb78b5141ca707cbe": {
      "model_module": "@jupyter-widgets/controls",
      "model_module_version": "1.5.0",
      "model_name": "PlayModel",
      "state": {
       "layout": "IPY_MODEL_652d9e6e47494f83b3e71486ade7943c",
       "max": 0,
       "style": "IPY_MODEL_095235791d52473f91c559e4e537f102"
      }
     },
     "a8e75a839f494682a9c8b80881d569ff": {
      "model_module": "@jupyter-widgets/controls",
      "model_module_version": "1.5.0",
      "model_name": "ProgressStyleModel",
      "state": {
       "description_width": ""
      }
     },
     "a9a2d3d442ef4e5989f48e78e3c01356": {
      "model_module": "@jupyter-widgets/base",
      "model_module_version": "1.2.0",
      "model_name": "LayoutModel",
      "state": {}
     },
     "aa861c304f6040f3b94cfb172d5ccf16": {
      "model_module": "@jupyter-widgets/base",
      "model_module_version": "1.2.0",
      "model_name": "LayoutModel",
      "state": {}
     },
     "ab2cc410a09a4d7795f2d4dfc0c72533": {
      "model_module": "@jupyter-widgets/controls",
      "model_module_version": "1.5.0",
      "model_name": "FloatProgressModel",
      "state": {
       "bar_style": "success",
       "layout": "IPY_MODEL_3d9d5760428d4832ba97aecb45d80d8d",
       "max": 3099,
       "style": "IPY_MODEL_a8e75a839f494682a9c8b80881d569ff",
       "value": 3099
      }
     },
     "acb954f3a83246bbb4b486d2becd5185": {
      "model_module": "@jupyter-widgets/controls",
      "model_module_version": "1.5.0",
      "model_name": "IntSliderModel",
      "state": {
       "layout": "IPY_MODEL_b9f7b12da6034554b8639c8a748e0904",
       "max": 0,
       "style": "IPY_MODEL_f61fea00328d4471a032fc99fe722ee0"
      }
     },
     "ad20460535874df0ac859822caa7ee7b": {
      "model_module": "@jupyter-widgets/base",
      "model_module_version": "1.2.0",
      "model_name": "LayoutModel",
      "state": {}
     },
     "afcb473a4b164640957a3cb0bb64b84d": {
      "model_module": "@jupyter-widgets/base",
      "model_module_version": "1.2.0",
      "model_name": "LayoutModel",
      "state": {}
     },
     "b1d88d3cc0c34920bf2bb09ade303807": {
      "model_module": "@jupyter-widgets/controls",
      "model_module_version": "1.5.0",
      "model_name": "HTMLModel",
      "state": {
       "layout": "IPY_MODEL_2c669ee805cf4f52917877e0aaa18fc8",
       "style": "IPY_MODEL_0c2366df2d7840fe8ad2cb6578950ee2",
       "value": "Check for deuterium: 100%"
      }
     },
     "b53990073e8548aca3620f62a3a9ee62": {
      "model_module": "@jupyter-widgets/controls",
      "model_module_version": "1.5.0",
      "model_name": "ProgressStyleModel",
      "state": {
       "description_width": ""
      }
     },
     "b6286e9da0e94d3bb5270f398b730e8e": {
      "model_module": "@jupyter-widgets/controls",
      "model_module_version": "1.5.0",
      "model_name": "ProgressStyleModel",
      "state": {
       "description_width": ""
      }
     },
     "b655f66699594c67b00f2ffe23e382b2": {
      "model_module": "@jupyter-widgets/controls",
      "model_module_version": "1.5.0",
      "model_name": "HTMLModel",
      "state": {
       "layout": "IPY_MODEL_1bce78dcb15d4a41a5e6588043a42bf0",
       "style": "IPY_MODEL_de8e9936114d4e7d94719db21a6f85ba",
       "value": " 27377/27377 [00:00&lt;00:00, 815843.04it/s]"
      }
     },
     "b746a584e60b4cde9898867aee793030": {
      "model_module": "@jupyter-widgets/controls",
      "model_module_version": "1.5.0",
      "model_name": "DescriptionStyleModel",
      "state": {
       "description_width": ""
      }
     },
     "b7639dd1ae5f468fbc071f1b18ebeefd": {
      "model_module": "@jupyter-widgets/controls",
      "model_module_version": "1.5.0",
      "model_name": "FloatProgressModel",
      "state": {
       "bar_style": "success",
       "layout": "IPY_MODEL_44fb3c21afa148bca4258c1c5b21a1f4",
       "max": 25291,
       "style": "IPY_MODEL_ec337e9bc2194a69b73bfc97375858a0",
       "value": 25291
      }
     },
     "b7af00a2bcbe4c2783a6cb8b1f4bbb93": {
      "model_module": "@jupyter-widgets/controls",
      "model_module_version": "1.5.0",
      "model_name": "HBoxModel",
      "state": {
       "children": [
        "IPY_MODEL_27880a970c724ee398a74fbae8d4cedc",
        "IPY_MODEL_975444f87109463bb92a2d34167989ce",
        "IPY_MODEL_2ca23ad10f5942e4a731f24e67951216"
       ],
       "layout": "IPY_MODEL_fec260ec80dd46eaa147f0319729d361"
      }
     },
     "b8878b33702f4d27ab7ae3e3b7ef8cf3": {
      "model_module": "@jupyter-widgets/base",
      "model_module_version": "1.2.0",
      "model_name": "LayoutModel",
      "state": {}
     },
     "b887c32c4b6e4c0cba44cf2dfbae5143": {
      "model_module": "@jupyter-widgets/base",
      "model_module_version": "1.2.0",
      "model_name": "LayoutModel",
      "state": {}
     },
     "b9f7b12da6034554b8639c8a748e0904": {
      "model_module": "@jupyter-widgets/base",
      "model_module_version": "1.2.0",
      "model_name": "LayoutModel",
      "state": {}
     },
     "baf53389841c4063a8aac2c128b6127c": {
      "model_module": "@jupyter-widgets/controls",
      "model_module_version": "1.5.0",
      "model_name": "HTMLModel",
      "state": {
       "layout": "IPY_MODEL_6a43ade5d3864077b8047a4fb1148de9",
       "style": "IPY_MODEL_364d106987d142e39255d2cd561f6548",
       "value": " 22155/? [00:27&lt;00:00, 200.27it/s]"
      }
     },
     "bbeaa03c1d664084bb69269a4e9c23c3": {
      "model_module": "@jupyter-widgets/controls",
      "model_module_version": "1.5.0",
      "model_name": "HTMLModel",
      "state": {
       "layout": "IPY_MODEL_3b5f2a20d52e49e384e4709d3aa73865",
       "style": "IPY_MODEL_21db0d1098574f01bcb2a591b0ae780c",
       "value": "Add deleted structures into a replacement column: 100%"
      }
     },
     "bc70e09ca6d14d7b833c11a1b326b5a5": {
      "model_module": "nglview-js-widgets",
      "model_module_version": "3.0.1",
      "model_name": "ColormakerRegistryModel",
      "state": {
       "_msg_ar": [],
       "_msg_q": [],
       "_ready": true,
       "layout": "IPY_MODEL_9f33f67bb348441c9ad0db973cf6e7ad"
      }
     },
     "bd1557d0aeb940d5bc86bf5b8bd33250": {
      "model_module": "@jupyter-widgets/base",
      "model_module_version": "1.2.0",
      "model_name": "LayoutModel",
      "state": {}
     },
     "bddc3ef849694d61bafce7356f64151a": {
      "model_module": "@jupyter-widgets/controls",
      "model_module_version": "1.5.0",
      "model_name": "DescriptionStyleModel",
      "state": {
       "description_width": ""
      }
     },
     "bf1e826434f849caadf209412d75d5ea": {
      "model_module": "@jupyter-widgets/base",
      "model_module_version": "1.2.0",
      "model_name": "LayoutModel",
      "state": {}
     },
     "c0a15a9e8f65404eb00fe225e9250e4e": {
      "model_module": "@jupyter-widgets/base",
      "model_module_version": "1.2.0",
      "model_name": "LayoutModel",
      "state": {}
     },
     "c11c790b39424cad8a4399e6efcd7464": {
      "model_module": "@jupyter-widgets/controls",
      "model_module_version": "1.5.0",
      "model_name": "HBoxModel",
      "state": {
       "children": [
        "IPY_MODEL_a74ba91f99be48008b8fb6ba3719437a",
        "IPY_MODEL_b7639dd1ae5f468fbc071f1b18ebeefd",
        "IPY_MODEL_93f9fbc43dac4a20a99c5d5d4f345980"
       ],
       "layout": "IPY_MODEL_df18511984e04f82a6f4c3a7af1930ef"
      }
     },
     "c29e3f3f0b4b4952b3cebc4255590625": {
      "model_module": "@jupyter-widgets/base",
      "model_module_version": "1.2.0",
      "model_name": "LayoutModel",
      "state": {}
     },
     "c2b038600d954a0db9e3f6bfa1a8b710": {
      "model_module": "@jupyter-widgets/controls",
      "model_module_version": "1.5.0",
      "model_name": "HBoxModel",
      "state": {
       "children": [
        "IPY_MODEL_9902681a38964289b7164259654deb69",
        "IPY_MODEL_8914056567f348dc82c0a2068fd49145",
        "IPY_MODEL_e0dd0bc9fbb5420191c33f370498c6ef"
       ],
       "layout": "IPY_MODEL_53e8a8e5bb7d4840b9335aaacccb3de7"
      }
     },
     "c2e2db19632e41779eb0fcebdccb4f96": {
      "model_module": "@jupyter-widgets/controls",
      "model_module_version": "1.5.0",
      "model_name": "DescriptionStyleModel",
      "state": {
       "description_width": ""
      }
     },
     "c3227af6bcbe4afe95f9b96118253e2d": {
      "model_module": "@jupyter-widgets/base",
      "model_module_version": "1.2.0",
      "model_name": "LayoutModel",
      "state": {}
     },
     "c36ae7d650e8430cb68d78f25aefc4c9": {
      "model_module": "@jupyter-widgets/controls",
      "model_module_version": "1.5.0",
      "model_name": "ProgressStyleModel",
      "state": {
       "description_width": ""
      }
     },
     "c3d4bf602d1a4bb790f51114e86d5089": {
      "model_module": "@jupyter-widgets/controls",
      "model_module_version": "1.5.0",
      "model_name": "HTMLModel",
      "state": {
       "layout": "IPY_MODEL_32d8de5e49164abc98f2ffbe292ac126",
       "style": "IPY_MODEL_37cd77446a1749ceae057594c85b0606",
       "value": " 27377/27377 [00:02&lt;00:00, 4532.58it/s]"
      }
     },
     "c40e98ac54f4434297c4ccea63cbab01": {
      "model_module": "@jupyter-widgets/base",
      "model_module_version": "1.2.0",
      "model_name": "LayoutModel",
      "state": {}
     },
     "c47eb0a0f8fb47118cb9db6bdeb9dc35": {
      "model_module": "@jupyter-widgets/controls",
      "model_module_version": "1.5.0",
      "model_name": "ButtonModel",
      "state": {
       "icon": "compress",
       "layout": "IPY_MODEL_84475157bc834906b58dfa73125742ec",
       "style": "IPY_MODEL_ea3e2dc03c4a43c9aa1f70aafc2b4634"
      }
     },
     "c4d8d4b76b924ad8b0a717754d986f9b": {
      "model_module": "@jupyter-widgets/base",
      "model_module_version": "1.2.0",
      "model_name": "LayoutModel",
      "state": {}
     },
     "c5222b064f5449b1b91ad57a885ddfb6": {
      "model_module": "@jupyter-widgets/controls",
      "model_module_version": "1.5.0",
      "model_name": "HBoxModel",
      "state": {
       "children": [
        "IPY_MODEL_fd8281c52bb64dc0aacad3d827b375ea",
        "IPY_MODEL_703f92950e70405395dd1397755f9043",
        "IPY_MODEL_92f7ac9815f94e659db094ff48755289"
       ],
       "layout": "IPY_MODEL_fe00046eac9645168af874250efa254b"
      }
     },
     "c58c2ef167d04727b13cf4b3c81a810d": {
      "model_module": "@jupyter-widgets/controls",
      "model_module_version": "1.5.0",
      "model_name": "DescriptionStyleModel",
      "state": {
       "description_width": ""
      }
     },
     "c5f0d85aa8b94180be923af176cadf2c": {
      "model_module": "@jupyter-widgets/controls",
      "model_module_version": "1.5.0",
      "model_name": "HTMLModel",
      "state": {
       "layout": "IPY_MODEL_de78a6f5f0be47679406c59d1b5e8a6c",
       "style": "IPY_MODEL_694854bf70ec4654b160b8d315812e3a",
       "value": "Finding duplicate ICSD_IDs: 100%"
      }
     },
     "c7a4ecdf200a47c5adce075ed921bd01": {
      "model_module": "@jupyter-widgets/controls",
      "model_module_version": "1.5.0",
      "model_name": "FloatProgressModel",
      "state": {
       "bar_style": "success",
       "layout": "IPY_MODEL_fd4daf68143f4ae195c57ebf8e0fb2b2",
       "max": 25193,
       "style": "IPY_MODEL_0925bff7559b426180b6dfebfb9cd5c3",
       "value": 25193
      }
     },
     "c8ea411504d04487b9a5f61c2ae7e22b": {
      "model_module": "@jupyter-widgets/controls",
      "model_module_version": "1.5.0",
      "model_name": "DescriptionStyleModel",
      "state": {
       "description_width": ""
      }
     },
     "c96e2f6f941d4061973a23c8cd03325c": {
      "model_module": "@jupyter-widgets/controls",
      "model_module_version": "1.5.0",
      "model_name": "HTMLModel",
      "state": {
       "layout": "IPY_MODEL_0dc5571634c04fc4912ad5213345447d",
       "style": "IPY_MODEL_981ec2fca4874370989cb2d36aded412",
       "value": "100%"
      }
     },
     "ca921b59d0154f0ba95cf8ab4d8b5494": {
      "model_module": "@jupyter-widgets/controls",
      "model_module_version": "1.5.0",
      "model_name": "DescriptionStyleModel",
      "state": {
       "description_width": ""
      }
     },
     "cafdc01bb9f04f9b948af9bc514ee2cd": {
      "model_module": "@jupyter-widgets/controls",
      "model_module_version": "1.5.0",
      "model_name": "HBoxModel",
      "state": {
       "children": [
        "IPY_MODEL_4a7bc5bcab834723ae2b2d8383eb224e",
        "IPY_MODEL_2264c73851b44bbea963b1289b17087a",
        "IPY_MODEL_4b170fed0c5247d69eb23adc8c44ee2a"
       ],
       "layout": "IPY_MODEL_cff965958b9a491d852d2ee55a8b1650"
      }
     },
     "cba8a1694a6b4d5abefa11116627fe00": {
      "model_module": "@jupyter-widgets/controls",
      "model_module_version": "1.5.0",
      "model_name": "HTMLModel",
      "state": {
       "layout": "IPY_MODEL_a5d3fa2ebd0a402b855faa2c55a4e603",
       "style": "IPY_MODEL_8af760ce02ee4c2088b3e6ad21e85a42",
       "value": " 19472/19472 [00:04&lt;00:00, 3909.98it/s]"
      }
     },
     "ccbbf9f367044b9fbd2ff3b0d8033fe0": {
      "model_module": "@jupyter-widgets/controls",
      "model_module_version": "1.5.0",
      "model_name": "DescriptionStyleModel",
      "state": {
       "description_width": ""
      }
     },
     "cd62ba90e336416fa5ad5eaa543eb21c": {
      "model_module": "@jupyter-widgets/base",
      "model_module_version": "1.2.0",
      "model_name": "LayoutModel",
      "state": {}
     },
     "cdb80f4f3699499aa7b1f921bedd8b1a": {
      "model_module": "@jupyter-widgets/base",
      "model_module_version": "1.2.0",
      "model_name": "LayoutModel",
      "state": {}
     },
     "cff965958b9a491d852d2ee55a8b1650": {
      "model_module": "@jupyter-widgets/base",
      "model_module_version": "1.2.0",
      "model_name": "LayoutModel",
      "state": {}
     },
     "d2fe017bb419447786a8231bca658698": {
      "model_module": "@jupyter-widgets/controls",
      "model_module_version": "1.5.0",
      "model_name": "ProgressStyleModel",
      "state": {
       "description_width": ""
      }
     },
     "d514d5291e4549e7bf5df5728475a237": {
      "model_module": "@jupyter-widgets/controls",
      "model_module_version": "1.5.0",
      "model_name": "HTMLModel",
      "state": {
       "layout": "IPY_MODEL_1fe802be193c42f183af522b02512429",
       "style": "IPY_MODEL_1bc550cb87cb4bb499d287ad9bd0026f",
       "value": " 19472/19472 [03:58&lt;00:00, 171.81it/s]"
      }
     },
     "d53984f14d204c04ab0866500cc0784e": {
      "model_module": "@jupyter-widgets/base",
      "model_module_version": "1.2.0",
      "model_name": "LayoutModel",
      "state": {}
     },
     "d99ff4a193de4d178d470101c4031021": {
      "model_module": "@jupyter-widgets/base",
      "model_module_version": "1.2.0",
      "model_name": "LayoutModel",
      "state": {}
     },
     "db4e6d4e7878484996335c0ea901fe39": {
      "model_module": "@jupyter-widgets/controls",
      "model_module_version": "1.5.0",
      "model_name": "ProgressStyleModel",
      "state": {
       "description_width": ""
      }
     },
     "db61cd93083440908d7eb9f46d53e6a1": {
      "model_module": "nglview-js-widgets",
      "model_module_version": "3.0.1",
      "model_name": "NGLModel",
      "state": {
       "_camera_orientation": [
        31.4912852628365,
        0,
        0,
        0,
        0,
        31.4912852628365,
        0,
        0,
        0,
        0,
        31.4912852628365,
        0,
        -2.38700008392334,
        -6.733999818563461,
        -5.069500207901001,
        1
       ],
       "_camera_str": "orthographic",
       "_gui_theme": null,
       "_ibtn_fullscreen": "IPY_MODEL_c47eb0a0f8fb47118cb9db6bdeb9dc35",
       "_igui": null,
       "_iplayer": "IPY_MODEL_f6d52442d50540678bdf14005d4fea52",
       "_ngl_color_dict": {},
       "_ngl_coordinate_resource": {},
       "_ngl_full_stage_parameters": {
        "ambientColor": 14540253,
        "ambientIntensity": 0.2,
        "backgroundColor": "white",
        "cameraEyeSep": 0.3,
        "cameraFov": 40,
        "cameraType": "orthographic",
        "clipDist": 10,
        "clipFar": 100,
        "clipNear": 0,
        "fogFar": 100,
        "fogNear": 50,
        "hoverTimeout": 0,
        "impostor": true,
        "lightColor": 14540253,
        "lightIntensity": 1,
        "mousePreset": "default",
        "panSpeed": 1,
        "quality": "medium",
        "rotateSpeed": 2,
        "sampleLevel": 0,
        "tooltip": true,
        "workerDefault": true,
        "zoomSpeed": 1.2
       },
       "_ngl_msg_archive": [
        {
         "args": [
          {
           "binary": false,
           "data": "CRYST1    6.378   10.076   10.755  71.28  88.43 100.86 P 1\nMODEL     1\nATOM      0   Li MOL     1       3.428   5.432   2.231  1.00  0.00          LI  \nATOM      1   Li MOL     1      -0.563  12.166   7.302  1.00  0.00          LI  \nATOM      2   Li MOL     1       1.347   8.036   7.909  1.00  0.00          LI  \nATOM      3   Li MOL     1       5.337   1.302   2.839  1.00  0.00          LI  \nATOM      4   Li MOL     1       4.486   9.423   8.913  1.00  0.00          LI  \nATOM      5   Li MOL     1       2.098   2.689   3.843  1.00  0.00          LI  \nATOM      6   Li MOL     1       0.288   4.045   1.228  1.00  0.00          LI  \nATOM      7   Li MOL     1       2.676  10.779   6.298  1.00  0.00          LI  \nATOM      8   Li MOL     1       4.082   8.561   1.064  1.00  0.00          LI  \nATOM      9   Li MOL     1       1.989   5.400   6.134  1.00  0.00          LI  \nATOM     10   Li MOL     1       0.693   4.907   9.077  1.00  0.00          LI  \nATOM     11   Li MOL     1       2.785   8.068   4.007  1.00  0.00          LI  \nATOM     12   Li MOL     1       4.928   7.008   6.847  1.00  0.00          LI  \nATOM     13   Li MOL     1       0.642  10.170   1.777  1.00  0.00          LI  \nATOM     14   Li MOL     1      -0.153   6.460   3.294  1.00  0.00          LI  \nATOM     15   Li MOL     1       4.133   3.298   8.364  1.00  0.00          LI  \nATOM     16   Al MOL     1      -0.180   9.355   4.899  1.00  0.00          AL  \nATOM     17   Al MOL     1       0.669   7.275   0.171  1.00  0.00          AL  \nATOM     18   Al MOL     1       4.105   6.192   9.968  1.00  0.00          AL  \nATOM     19   Al MOL     1       4.955   4.113   5.242  1.00  0.00          AL  \nATOM     20    S MOL     1       2.858   6.287   8.186  1.00  0.00           S  \nATOM     21    S MOL     1      -1.428   9.449   3.116  1.00  0.00           S  \nATOM     22    S MOL     1       1.917   7.180   1.954  1.00  0.00           S  \nATOM     23    S MOL     1       6.202   4.019   7.025  1.00  0.00           S  \nATOM     24    S MOL     1       2.508   3.147   1.511  1.00  0.00           S  \nATOM     25    S MOL     1       4.895   9.881   6.582  1.00  0.00           S  \nATOM     26    S MOL     1       2.267  10.321   8.629  1.00  0.00           S  \nATOM     27    S MOL     1      -0.120   3.587   3.558  1.00  0.00           S  \nATOM     28    S MOL     1       4.754   0.766   0.530  1.00  0.00           S  \nATOM     29    S MOL     1       0.764   7.500   5.600  1.00  0.00           S  \nATOM     30    S MOL     1       0.020  12.702   9.611  1.00  0.00           S  \nATOM     31    S MOL     1       4.011   5.967   4.540  1.00  0.00           S  \nATOM     32    S MOL     1       5.872   7.196   9.151  1.00  0.00           S  \nATOM     33    S MOL     1       1.586  10.358   4.081  1.00  0.00           S  \nATOM     34    S MOL     1      -1.097   6.272   0.990  1.00  0.00           S  \nATOM     35    S MOL     1       3.189   3.111   6.060  1.00  0.00           S  \nENDMDL\n",
           "type": "blob"
          }
         ],
         "kwargs": {
          "defaultRepresentation": true,
          "ext": "pdb"
         },
         "methodName": "loadFile",
         "reconstruc_color_scheme": false,
         "target": "Stage",
         "type": "call_method"
        },
        {
         "args": [
          "",
          "600px"
         ],
         "kwargs": {},
         "methodName": "setSize",
         "reconstruc_color_scheme": false,
         "target": "Widget",
         "type": "call_method"
        },
        {
         "args": [],
         "kwargs": {
          "cameraType": "orthographic"
         },
         "methodName": "setParameters",
         "reconstruc_color_scheme": false,
         "target": "Stage",
         "type": "call_method"
        },
        {
         "args": [
          "unitcell"
         ],
         "component_index": 0,
         "kwargs": {
          "sele": "all"
         },
         "methodName": "addRepresentation",
         "reconstruc_color_scheme": false,
         "target": "compList",
         "type": "call_method"
        }
       ],
       "_ngl_original_stage_parameters": {
        "ambientColor": 14540253,
        "ambientIntensity": 0.2,
        "backgroundColor": "white",
        "cameraEyeSep": 0.3,
        "cameraFov": 40,
        "cameraType": "perspective",
        "clipDist": 10,
        "clipFar": 100,
        "clipNear": 0,
        "fogFar": 100,
        "fogNear": 50,
        "hoverTimeout": 0,
        "impostor": true,
        "lightColor": 14540253,
        "lightIntensity": 1,
        "mousePreset": "default",
        "panSpeed": 1,
        "quality": "medium",
        "rotateSpeed": 2,
        "sampleLevel": 0,
        "tooltip": true,
        "workerDefault": true,
        "zoomSpeed": 1.2
       },
       "_ngl_repr_dict": {
        "0": {
         "0": {
          "params": {
           "aspectRatio": 1.5,
           "assembly": "default",
           "bondScale": 0.3,
           "bondSpacing": 0.75,
           "clipCenter": {
            "x": 0,
            "y": 0,
            "z": 0
           },
           "clipNear": 0,
           "clipRadius": 0,
           "colorMode": "hcl",
           "colorReverse": false,
           "colorScale": "",
           "colorScheme": "element",
           "colorValue": 9474192,
           "cylinderOnly": false,
           "defaultAssembly": "",
           "depthWrite": true,
           "diffuse": 16777215,
           "diffuseInterior": false,
           "disableImpostor": false,
           "disablePicking": false,
           "flatShaded": false,
           "interiorColor": 2236962,
           "interiorDarkening": 0,
           "lazy": false,
           "lineOnly": false,
           "linewidth": 2,
           "matrix": {
            "elements": [
             1,
             0,
             0,
             0,
             0,
             1,
             0,
             0,
             0,
             0,
             1,
             0,
             0,
             0,
             0,
             1
            ]
           },
           "metalness": 0,
           "multipleBond": "off",
           "opacity": 1,
           "openEnded": true,
           "quality": "high",
           "radialSegments": 20,
           "radiusData": {},
           "radiusScale": 2,
           "radiusSize": 0.15,
           "radiusType": "size",
           "roughness": 0.4,
           "sele": "",
           "side": "double",
           "sphereDetail": 2,
           "useInteriorColor": true,
           "visible": true,
           "wireframe": false
          },
          "type": "ball+stick"
         },
         "1": {
          "params": {
           "clipCenter": {
            "x": 0,
            "y": 0,
            "z": 0
           },
           "clipNear": 0,
           "clipRadius": 0,
           "colorMode": "hcl",
           "colorReverse": false,
           "colorScale": "",
           "colorScheme": "element",
           "colorValue": "orange",
           "defaultAssembly": "",
           "depthWrite": true,
           "diffuse": 16777215,
           "diffuseInterior": false,
           "disableImpostor": false,
           "disablePicking": false,
           "flatShaded": false,
           "interiorColor": 2236962,
           "interiorDarkening": 0,
           "lazy": false,
           "matrix": {
            "elements": [
             1,
             0,
             0,
             0,
             0,
             1,
             0,
             0,
             0,
             0,
             1,
             0,
             0,
             0,
             0,
             1
            ]
           },
           "metalness": 0,
           "opacity": 1,
           "quality": "medium",
           "radialSegments": 10,
           "radiusData": {},
           "radiusScale": 1,
           "radiusSize": 0.04308823127575707,
           "radiusType": "vdw",
           "roughness": 0.4,
           "sele": "all",
           "side": "double",
           "sphereDetail": 1,
           "useInteriorColor": true,
           "visible": true,
           "wireframe": false
          },
          "type": "unitcell"
         }
        }
       },
       "_ngl_serialize": false,
       "_ngl_version": "2.0.0-dev.36",
       "_ngl_view_id": [
        "9051C408-0C41-407D-8F15-693DC7D1E251"
       ],
       "_player_dict": {},
       "_scene_position": {},
       "_scene_rotation": {},
       "_synced_model_ids": [],
       "_synced_repr_model_ids": [],
       "_view_height": "",
       "_view_width": "",
       "background": "white",
       "frame": 0,
       "gui_style": null,
       "layout": "IPY_MODEL_f6f57895ecb94a879422cf5429c8c9d2",
       "max_frame": 0,
       "n_components": 1,
       "picked": {}
      }
     },
     "db9ba891f61440f2882e68fc7af36b70": {
      "model_module": "@jupyter-widgets/base",
      "model_module_version": "1.2.0",
      "model_name": "LayoutModel",
      "state": {}
     },
     "dc8e87dd973f4071839e7c7e232518c7": {
      "model_module": "@jupyter-widgets/controls",
      "model_module_version": "1.5.0",
      "model_name": "IntSliderModel",
      "state": {
       "layout": "IPY_MODEL_e02e6e1a195546639a5cbcedafe6b4cb",
       "max": 0,
       "style": "IPY_MODEL_e5eff8ea349348b0890024437ce4d905"
      }
     },
     "dcf300bf444849d690136c21d6d6d414": {
      "model_module": "@jupyter-widgets/controls",
      "model_module_version": "1.5.0",
      "model_name": "FloatProgressModel",
      "state": {
       "bar_style": "success",
       "layout": "IPY_MODEL_99991c1bc6c44ad59128cfc7b7d8be94",
       "max": 25291,
       "style": "IPY_MODEL_7edb72f11b4a4cdca8ffcbabc2f96435",
       "value": 25291
      }
     },
     "dd0533e377c841109e640e13b02c7ec3": {
      "model_module": "@jupyter-widgets/controls",
      "model_module_version": "1.5.0",
      "model_name": "LinkModel",
      "state": {
       "source": [
        "IPY_MODEL_acb954f3a83246bbb4b486d2becd5185",
        "max"
       ],
       "target": [
        "IPY_MODEL_db61cd93083440908d7eb9f46d53e6a1",
        "max_frame"
       ]
      }
     },
     "de78a6f5f0be47679406c59d1b5e8a6c": {
      "model_module": "@jupyter-widgets/base",
      "model_module_version": "1.2.0",
      "model_name": "LayoutModel",
      "state": {}
     },
     "de8e9936114d4e7d94719db21a6f85ba": {
      "model_module": "@jupyter-widgets/controls",
      "model_module_version": "1.5.0",
      "model_name": "DescriptionStyleModel",
      "state": {
       "description_width": ""
      }
     },
     "df18511984e04f82a6f4c3a7af1930ef": {
      "model_module": "@jupyter-widgets/base",
      "model_module_version": "1.2.0",
      "model_name": "LayoutModel",
      "state": {}
     },
     "dffea234b326413d84745e141a1ba2af": {
      "model_module": "@jupyter-widgets/controls",
      "model_module_version": "1.5.0",
      "model_name": "DescriptionStyleModel",
      "state": {
       "description_width": ""
      }
     },
     "e02e6e1a195546639a5cbcedafe6b4cb": {
      "model_module": "@jupyter-widgets/base",
      "model_module_version": "1.2.0",
      "model_name": "LayoutModel",
      "state": {}
     },
     "e0735959cf224163a804fb1525055de5": {
      "model_module": "@jupyter-widgets/base",
      "model_module_version": "1.2.0",
      "model_name": "LayoutModel",
      "state": {}
     },
     "e0dd0bc9fbb5420191c33f370498c6ef": {
      "model_module": "@jupyter-widgets/controls",
      "model_module_version": "1.5.0",
      "model_name": "HTMLModel",
      "state": {
       "layout": "IPY_MODEL_c0a15a9e8f65404eb00fe225e9250e4e",
       "style": "IPY_MODEL_811072b6e11249b0b8bbda07e978d49a",
       "value": " 7905/7905 [04:08&lt;00:00, 41.92it/s]"
      }
     },
     "e34f20aff7aa44959d53683e5046963b": {
      "model_module": "@jupyter-widgets/base",
      "model_module_version": "1.2.0",
      "model_name": "LayoutModel",
      "state": {}
     },
     "e56dce51d6ac4780b81b9d08d0aecc26": {
      "model_module": "@jupyter-widgets/controls",
      "model_module_version": "1.5.0",
      "model_name": "DescriptionStyleModel",
      "state": {
       "description_width": ""
      }
     },
     "e5eff8ea349348b0890024437ce4d905": {
      "model_module": "@jupyter-widgets/controls",
      "model_module_version": "1.5.0",
      "model_name": "SliderStyleModel",
      "state": {
       "description_width": ""
      }
     },
     "ea3e2dc03c4a43c9aa1f70aafc2b4634": {
      "model_module": "@jupyter-widgets/controls",
      "model_module_version": "1.5.0",
      "model_name": "ButtonStyleModel",
      "state": {}
     },
     "eae09aaad78f4878a7539978eca77baa": {
      "model_module": "@jupyter-widgets/controls",
      "model_module_version": "1.5.0",
      "model_name": "HBoxModel",
      "state": {
       "children": [
        "IPY_MODEL_2a31c020d3c2484ea3416581945fd788",
        "IPY_MODEL_6ab8118f68234819b13da70a25b73996",
        "IPY_MODEL_d514d5291e4549e7bf5df5728475a237"
       ],
       "layout": "IPY_MODEL_23556a37a7444e50a97e5b473230bf07"
      }
     },
     "ec337e9bc2194a69b73bfc97375858a0": {
      "model_module": "@jupyter-widgets/controls",
      "model_module_version": "1.5.0",
      "model_name": "ProgressStyleModel",
      "state": {
       "description_width": ""
      }
     },
     "edf6178f58f047599463d3ee5c4635ed": {
      "model_module": "@jupyter-widgets/base",
      "model_module_version": "1.2.0",
      "model_name": "LayoutModel",
      "state": {}
     },
     "ee67970f7147438c8583b84533731f69": {
      "model_module": "@jupyter-widgets/controls",
      "model_module_version": "1.5.0",
      "model_name": "ProgressStyleModel",
      "state": {
       "description_width": ""
      }
     },
     "f03d69ce33ae4fb5bca78a91169cc275": {
      "model_module": "@jupyter-widgets/controls",
      "model_module_version": "1.5.0",
      "model_name": "FloatProgressModel",
      "state": {
       "bar_style": "danger",
       "layout": "IPY_MODEL_a2510dfd51fa4c5cb32a037b33d0844b",
       "max": 1,
       "style": "IPY_MODEL_b6286e9da0e94d3bb5270f398b730e8e",
       "value": 1
      }
     },
     "f61fea00328d4471a032fc99fe722ee0": {
      "model_module": "@jupyter-widgets/controls",
      "model_module_version": "1.5.0",
      "model_name": "SliderStyleModel",
      "state": {
       "description_width": ""
      }
     },
     "f6d52442d50540678bdf14005d4fea52": {
      "model_module": "@jupyter-widgets/controls",
      "model_module_version": "1.5.0",
      "model_name": "HBoxModel",
      "state": {
       "children": [
        "IPY_MODEL_9f2fde94c4bf4fb48528fb91785d62ea",
        "IPY_MODEL_acb954f3a83246bbb4b486d2becd5185"
       ],
       "layout": "IPY_MODEL_21618d4ea2574e18a6cb0f64968b6a52"
      }
     },
     "f6f57895ecb94a879422cf5429c8c9d2": {
      "model_module": "@jupyter-widgets/base",
      "model_module_version": "1.2.0",
      "model_name": "LayoutModel",
      "state": {}
     },
     "f9466d84e6314a76bd1bcc5ee18ca67c": {
      "model_module": "@jupyter-widgets/base",
      "model_module_version": "1.2.0",
      "model_name": "LayoutModel",
      "state": {}
     },
     "f9568ab6a8094021b4e965f322b1e52b": {
      "model_module": "@jupyter-widgets/base",
      "model_module_version": "1.2.0",
      "model_name": "LayoutModel",
      "state": {}
     },
     "f9f639a867b54f129514a0a3160d2776": {
      "model_module": "@jupyter-widgets/base",
      "model_module_version": "1.2.0",
      "model_name": "LayoutModel",
      "state": {}
     },
     "fa8ed8af8d2c4b8984432ef567984f5f": {
      "model_module": "@jupyter-widgets/controls",
      "model_module_version": "1.5.0",
      "model_name": "FloatProgressModel",
      "state": {
       "bar_style": "success",
       "layout": "IPY_MODEL_6707ffb8d23144b5a6ff644c2537cbe7",
       "max": 25193,
       "style": "IPY_MODEL_594aaf18d8c54d158d752a40d2fafeec",
       "value": 25193
      }
     },
     "fb97036d759b498aa13f2afdde5e9bea": {
      "model_module": "@jupyter-widgets/base",
      "model_module_version": "1.2.0",
      "model_name": "LayoutModel",
      "state": {}
     },
     "fd4daf68143f4ae195c57ebf8e0fb2b2": {
      "model_module": "@jupyter-widgets/base",
      "model_module_version": "1.2.0",
      "model_name": "LayoutModel",
      "state": {}
     },
     "fd8281c52bb64dc0aacad3d827b375ea": {
      "model_module": "@jupyter-widgets/controls",
      "model_module_version": "1.5.0",
      "model_name": "HTMLModel",
      "state": {
       "layout": "IPY_MODEL_4c7404c02c804c3fa6b935d8ae9be361",
       "style": "IPY_MODEL_c2e2db19632e41779eb0fcebdccb4f96",
       "value": "100%"
      }
     },
     "fd922384d96a439a9d595219511d0594": {
      "model_module": "@jupyter-widgets/controls",
      "model_module_version": "1.5.0",
      "model_name": "ProgressStyleModel",
      "state": {
       "description_width": ""
      }
     },
     "fe00046eac9645168af874250efa254b": {
      "model_module": "@jupyter-widgets/base",
      "model_module_version": "1.2.0",
      "model_name": "LayoutModel",
      "state": {}
     },
     "fe9ed7a113cb45f2b91c1f3106860b75": {
      "model_module": "@jupyter-widgets/base",
      "model_module_version": "1.2.0",
      "model_name": "LayoutModel",
      "state": {}
     },
     "fec260ec80dd46eaa147f0319729d361": {
      "model_module": "@jupyter-widgets/base",
      "model_module_version": "1.2.0",
      "model_name": "LayoutModel",
      "state": {}
     },
     "ff34db9570464372b919aa1d1fd4ca13": {
      "model_module": "@jupyter-widgets/controls",
      "model_module_version": "1.5.0",
      "model_name": "ProgressStyleModel",
      "state": {
       "description_width": ""
      }
     }
    },
    "version_major": 2,
    "version_minor": 0
   }
  }
 },
 "nbformat": 4,
 "nbformat_minor": 4
}
