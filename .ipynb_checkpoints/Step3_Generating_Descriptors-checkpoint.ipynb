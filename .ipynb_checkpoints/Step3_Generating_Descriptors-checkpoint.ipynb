{
 "cells": [
  {
   "cell_type": "code",
   "execution_count": 1,
   "metadata": {},
   "outputs": [],
   "source": [
    "from multiprocessing import set_start_method\n",
    "# set_start_method(\"spawn\")\n",
    "\n",
    "import os\n",
    "import pickle\n",
    "import numpy as np\n",
    "from numpy import nan as Nan\n",
    "import pandas as pd\n",
    "\n",
    "from ase import atoms\n",
    "from ase.io import read, write\n",
    "from dscribe.descriptors import SOAP\n",
    "import matminer.featurizers.composition as mm_composition\n",
    "import matminer.featurizers.structure as mm_structure\n",
    "import pymatgen as mg\n",
    "from pymatgen.io import ase\n",
    "from pymatgen.io.cif import CifParser\n",
    "from pymatgen.io.cif import CifWriter\n",
    "\n",
    "from tqdm import notebook as tqdm\n",
    "from tqdm.auto import tqdm as tqdm_pandas\n",
    "tqdm_pandas.pandas()\n",
    "\n",
    "AAA = ase.AseAtomsAdaptor\n",
    "\n",
    "# # CAVD imports, comment out when using 3.7\n",
    "# from numpy import nan as NaN\n",
    "# from monty.io import zopen\n",
    "# from cavd.channel import Channel\n",
    "# from cavd.netstorage import AtomNetwork, connection_values_list\n",
    "# from cavd.local_environment import CifParser_new, LocalEnvirCom\n",
    "# import re"
   ]
  },
  {
   "cell_type": "markdown",
   "metadata": {},
   "source": [
    "### 3a. Load the structures_df from the saved pickle\n",
    "\n",
    "The structures_df already contains the eight simplifications plus the original structure. Thus there are nine unique representations. "
   ]
  },
  {
   "cell_type": "code",
   "execution_count": 2,
   "metadata": {},
   "outputs": [],
   "source": [
    "save_path = os.path.join(os.getcwd(), 'semi-supervised_supporting_files/structures_df_3p8_post_sanitize_w_simplifications.pkl')\n",
    "open_file = open(save_path, 'rb')\n",
    "structures_df = pickle.load(open_file)\n",
    "open_file.close()"
   ]
  },
  {
   "cell_type": "code",
   "execution_count": 3,
   "metadata": {},
   "outputs": [
    {
     "data": {
      "text/html": [
       "<div>\n",
       "<style scoped>\n",
       "    .dataframe tbody tr th:only-of-type {\n",
       "        vertical-align: middle;\n",
       "    }\n",
       "\n",
       "    .dataframe tbody tr th {\n",
       "        vertical-align: top;\n",
       "    }\n",
       "\n",
       "    .dataframe thead th {\n",
       "        text-align: right;\n",
       "    }\n",
       "</style>\n",
       "<table border=\"1\" class=\"dataframe\">\n",
       "  <thead>\n",
       "    <tr style=\"text-align: right;\">\n",
       "      <th></th>\n",
       "      <th>index</th>\n",
       "      <th>structure</th>\n",
       "      <th>ICSD_ID</th>\n",
       "      <th>MP_ID</th>\n",
       "      <th>pretty_formula</th>\n",
       "      <th>spacegroup</th>\n",
       "      <th>bandgap</th>\n",
       "      <th>e_hull</th>\n",
       "      <th>ase_structure</th>\n",
       "      <th>composition</th>\n",
       "      <th>replacement</th>\n",
       "      <th>structure_A</th>\n",
       "      <th>structure_AM</th>\n",
       "      <th>structure_CAN</th>\n",
       "      <th>structure_CAMN</th>\n",
       "      <th>structure_A40</th>\n",
       "      <th>structure_AM40</th>\n",
       "      <th>structure_CAN40</th>\n",
       "      <th>structure_CAMN40</th>\n",
       "    </tr>\n",
       "  </thead>\n",
       "  <tbody>\n",
       "    <tr>\n",
       "      <th>0</th>\n",
       "      <td>0</td>\n",
       "      <td>[[0.        0.        2.6255595] Li0+, [0.    ...</td>\n",
       "      <td>180565</td>\n",
       "      <td>mp-1001790</td>\n",
       "      <td>LiO3</td>\n",
       "      <td>Imm2</td>\n",
       "      <td>0.0854</td>\n",
       "      <td>0.225420</td>\n",
       "      <td>(Atom('Li', [0.0, 0.0, 2.6255594986], index=0)...</td>\n",
       "      <td>Li1 O3</td>\n",
       "      <td>None</td>\n",
       "      <td>[[0.         0.         5.35128645] S0+, [5.55...</td>\n",
       "      <td>[[0.        0.        2.6255595] Li0+]</td>\n",
       "      <td>[[0.         0.         5.35128645] Mg0+, [5.5...</td>\n",
       "      <td>[[0.        0.        2.6255595] Li0+, [0.    ...</td>\n",
       "      <td>[[0.        0.        7.5441549] S0+, [-1.1102...</td>\n",
       "      <td>[[0.         0.         3.70147024] Li0+]</td>\n",
       "      <td>[[0.        0.        7.5441549] Mg0+, [-1.110...</td>\n",
       "      <td>[[0.         0.         3.70147024] Li0+, [0. ...</td>\n",
       "    </tr>\n",
       "    <tr>\n",
       "      <th>1</th>\n",
       "      <td>1</td>\n",
       "      <td>[[2.79072525 1.34013453 0.79373764] Li0+, [0.9...</td>\n",
       "      <td>188829</td>\n",
       "      <td>mp-1001825</td>\n",
       "      <td>LiBe</td>\n",
       "      <td>P2_1/m</td>\n",
       "      <td>0.0000</td>\n",
       "      <td>0.166972</td>\n",
       "      <td>(Atom('Li', [2.79072525, 1.34013452726, 0.7937...</td>\n",
       "      <td>Li2 Be2</td>\n",
       "      <td>None</td>\n",
       "      <td>[[2.79072525 1.17476284 3.09734748] S0+, [0.93...</td>\n",
       "      <td>[[2.79072525 1.34013453 0.79373764] Li0+, [0.9...</td>\n",
       "      <td>[[2.79072525 1.17476284 3.09734748] Mg0+, [0.9...</td>\n",
       "      <td>[[2.79072525 1.34013453 0.79373764] Li0+, [0.9...</td>\n",
       "      <td>[[3.39085782 1.42739017 3.76341775] S0+, [1.13...</td>\n",
       "      <td>[[3.39085782 1.62832427 0.96442725] Li0+, [1.1...</td>\n",
       "      <td>[[3.39085782 1.42739017 3.76341775] Mg0+, [1.1...</td>\n",
       "      <td>[[3.39085782 1.62832427 0.96442725] Li0+, [1.1...</td>\n",
       "    </tr>\n",
       "    <tr>\n",
       "      <th>2</th>\n",
       "      <td>2</td>\n",
       "      <td>[[2.412716 2.412716 2.412716] Li0+, [3.619074 ...</td>\n",
       "      <td>236959</td>\n",
       "      <td>mp-1001831</td>\n",
       "      <td>LiB</td>\n",
       "      <td>Fd-3m</td>\n",
       "      <td>1.4331</td>\n",
       "      <td>0.386054</td>\n",
       "      <td>(Atom('Li', [2.412716, 2.412716, 2.412716], in...</td>\n",
       "      <td>Li2 B2</td>\n",
       "      <td>None</td>\n",
       "      <td>[[1.206358 1.206358 1.206358] S0+, [0. 0. 0.] ...</td>\n",
       "      <td>[[2.412716 2.412716 2.412716] Li0+, [3.619074 ...</td>\n",
       "      <td>[[1.206358 1.206358 1.206358] Mg0+, [0. 0. 0.]...</td>\n",
       "      <td>[[2.412716 2.412716 2.412716] Li0+, [3.619074 ...</td>\n",
       "      <td>[[1.70997595 1.70997595 1.70997595] S0+, [0. 0...</td>\n",
       "      <td>[[3.41995189 3.41995189 3.41995189] Li0+, [5.1...</td>\n",
       "      <td>[[1.70997595 1.70997595 1.70997595] Mg0+, [0. ...</td>\n",
       "      <td>[[3.41995189 3.41995189 3.41995189] Li0+, [5.1...</td>\n",
       "    </tr>\n",
       "    <tr>\n",
       "      <th>3</th>\n",
       "      <td>3</td>\n",
       "      <td>[[0. 0. 0.] Li+, [1.2797665 1.2797665 1.279766...</td>\n",
       "      <td>184904</td>\n",
       "      <td>mp-1009009</td>\n",
       "      <td>LiF</td>\n",
       "      <td>Pm-3m</td>\n",
       "      <td>7.5195</td>\n",
       "      <td>0.287542</td>\n",
       "      <td>(Atom('Li', [0.0, 0.0, 0.0], index=0), Atom('F...</td>\n",
       "      <td>Li1 F1</td>\n",
       "      <td>None</td>\n",
       "      <td>[[1.2797665 1.2797665 1.2797665] S-]</td>\n",
       "      <td>[[0. 0. 0.] Li+, [1.2797665 1.2797665 1.279766...</td>\n",
       "      <td>[[1.2797665 1.2797665 1.2797665] S-]</td>\n",
       "      <td>[[0. 0. 0.] Li+, [1.2797665 1.2797665 1.279766...</td>\n",
       "      <td>[[1.70997595 1.70997595 1.70997595] S-]</td>\n",
       "      <td>[[0. 0. 0.] Li+, [1.70997595 1.70997595 1.7099...</td>\n",
       "      <td>[[1.70997595 1.70997595 1.70997595] S-]</td>\n",
       "      <td>[[0. 0. 0.] Li+, [1.70997595 1.70997595 1.7099...</td>\n",
       "    </tr>\n",
       "    <tr>\n",
       "      <th>4</th>\n",
       "      <td>4</td>\n",
       "      <td>[[1.4805505 1.9928345 2.448045 ] Li0+, [0. 0. ...</td>\n",
       "      <td>180561</td>\n",
       "      <td>mp-1018789</td>\n",
       "      <td>LiO2</td>\n",
       "      <td>Pnnm</td>\n",
       "      <td>0.0000</td>\n",
       "      <td>0.084218</td>\n",
       "      <td>(Atom('Li', [1.4805505, 1.9928345, 2.448045], ...</td>\n",
       "      <td>Li2 O4</td>\n",
       "      <td>None</td>\n",
       "      <td>[[1.4805505  2.51837684 0.41921791] S0+, [1.48...</td>\n",
       "      <td>[[1.4805505 1.9928345 2.448045 ] Li0+, [0. 0. ...</td>\n",
       "      <td>[[1.4805505  2.51837684 0.41921791] Mg0+, [1.4...</td>\n",
       "      <td>[[1.4805505 1.9928345 2.448045 ] Li0+, [0. 0. ...</td>\n",
       "      <td>[[2.07903566 3.53638411 0.588679  ] S0+, [2.07...</td>\n",
       "      <td>[[2.07903566 2.798401   3.43762192] Li0+, [0. ...</td>\n",
       "      <td>[[2.07903566 3.53638411 0.588679  ] Mg0+, [2.0...</td>\n",
       "      <td>[[2.07903566 2.798401   3.43762192] Li0+, [0. ...</td>\n",
       "    </tr>\n",
       "  </tbody>\n",
       "</table>\n",
       "</div>"
      ],
      "text/plain": [
       "   index                                          structure  ICSD_ID  \\\n",
       "0      0  [[0.        0.        2.6255595] Li0+, [0.    ...   180565   \n",
       "1      1  [[2.79072525 1.34013453 0.79373764] Li0+, [0.9...   188829   \n",
       "2      2  [[2.412716 2.412716 2.412716] Li0+, [3.619074 ...   236959   \n",
       "3      3  [[0. 0. 0.] Li+, [1.2797665 1.2797665 1.279766...   184904   \n",
       "4      4  [[1.4805505 1.9928345 2.448045 ] Li0+, [0. 0. ...   180561   \n",
       "\n",
       "        MP_ID pretty_formula spacegroup  bandgap    e_hull  \\\n",
       "0  mp-1001790           LiO3       Imm2   0.0854  0.225420   \n",
       "1  mp-1001825           LiBe     P2_1/m   0.0000  0.166972   \n",
       "2  mp-1001831            LiB      Fd-3m   1.4331  0.386054   \n",
       "3  mp-1009009            LiF      Pm-3m   7.5195  0.287542   \n",
       "4  mp-1018789           LiO2       Pnnm   0.0000  0.084218   \n",
       "\n",
       "                                       ase_structure composition replacement  \\\n",
       "0  (Atom('Li', [0.0, 0.0, 2.6255594986], index=0)...      Li1 O3        None   \n",
       "1  (Atom('Li', [2.79072525, 1.34013452726, 0.7937...     Li2 Be2        None   \n",
       "2  (Atom('Li', [2.412716, 2.412716, 2.412716], in...      Li2 B2        None   \n",
       "3  (Atom('Li', [0.0, 0.0, 0.0], index=0), Atom('F...      Li1 F1        None   \n",
       "4  (Atom('Li', [1.4805505, 1.9928345, 2.448045], ...      Li2 O4        None   \n",
       "\n",
       "                                         structure_A  \\\n",
       "0  [[0.         0.         5.35128645] S0+, [5.55...   \n",
       "1  [[2.79072525 1.17476284 3.09734748] S0+, [0.93...   \n",
       "2  [[1.206358 1.206358 1.206358] S0+, [0. 0. 0.] ...   \n",
       "3               [[1.2797665 1.2797665 1.2797665] S-]   \n",
       "4  [[1.4805505  2.51837684 0.41921791] S0+, [1.48...   \n",
       "\n",
       "                                        structure_AM  \\\n",
       "0             [[0.        0.        2.6255595] Li0+]   \n",
       "1  [[2.79072525 1.34013453 0.79373764] Li0+, [0.9...   \n",
       "2  [[2.412716 2.412716 2.412716] Li0+, [3.619074 ...   \n",
       "3  [[0. 0. 0.] Li+, [1.2797665 1.2797665 1.279766...   \n",
       "4  [[1.4805505 1.9928345 2.448045 ] Li0+, [0. 0. ...   \n",
       "\n",
       "                                       structure_CAN  \\\n",
       "0  [[0.         0.         5.35128645] Mg0+, [5.5...   \n",
       "1  [[2.79072525 1.17476284 3.09734748] Mg0+, [0.9...   \n",
       "2  [[1.206358 1.206358 1.206358] Mg0+, [0. 0. 0.]...   \n",
       "3               [[1.2797665 1.2797665 1.2797665] S-]   \n",
       "4  [[1.4805505  2.51837684 0.41921791] Mg0+, [1.4...   \n",
       "\n",
       "                                      structure_CAMN  \\\n",
       "0  [[0.        0.        2.6255595] Li0+, [0.    ...   \n",
       "1  [[2.79072525 1.34013453 0.79373764] Li0+, [0.9...   \n",
       "2  [[2.412716 2.412716 2.412716] Li0+, [3.619074 ...   \n",
       "3  [[0. 0. 0.] Li+, [1.2797665 1.2797665 1.279766...   \n",
       "4  [[1.4805505 1.9928345 2.448045 ] Li0+, [0. 0. ...   \n",
       "\n",
       "                                       structure_A40  \\\n",
       "0  [[0.        0.        7.5441549] S0+, [-1.1102...   \n",
       "1  [[3.39085782 1.42739017 3.76341775] S0+, [1.13...   \n",
       "2  [[1.70997595 1.70997595 1.70997595] S0+, [0. 0...   \n",
       "3            [[1.70997595 1.70997595 1.70997595] S-]   \n",
       "4  [[2.07903566 3.53638411 0.588679  ] S0+, [2.07...   \n",
       "\n",
       "                                      structure_AM40  \\\n",
       "0          [[0.         0.         3.70147024] Li0+]   \n",
       "1  [[3.39085782 1.62832427 0.96442725] Li0+, [1.1...   \n",
       "2  [[3.41995189 3.41995189 3.41995189] Li0+, [5.1...   \n",
       "3  [[0. 0. 0.] Li+, [1.70997595 1.70997595 1.7099...   \n",
       "4  [[2.07903566 2.798401   3.43762192] Li0+, [0. ...   \n",
       "\n",
       "                                     structure_CAN40  \\\n",
       "0  [[0.        0.        7.5441549] Mg0+, [-1.110...   \n",
       "1  [[3.39085782 1.42739017 3.76341775] Mg0+, [1.1...   \n",
       "2  [[1.70997595 1.70997595 1.70997595] Mg0+, [0. ...   \n",
       "3            [[1.70997595 1.70997595 1.70997595] S-]   \n",
       "4  [[2.07903566 3.53638411 0.588679  ] Mg0+, [2.0...   \n",
       "\n",
       "                                    structure_CAMN40  \n",
       "0  [[0.         0.         3.70147024] Li0+, [0. ...  \n",
       "1  [[3.39085782 1.62832427 0.96442725] Li0+, [1.1...  \n",
       "2  [[3.41995189 3.41995189 3.41995189] Li0+, [5.1...  \n",
       "3  [[0. 0. 0.] Li+, [1.70997595 1.70997595 1.7099...  \n",
       "4  [[2.07903566 2.798401   3.43762192] Li0+, [0. ...  "
      ]
     },
     "execution_count": 3,
     "metadata": {},
     "output_type": "execute_result"
    }
   ],
   "source": [
    "structures_df.head()"
   ]
  },
  {
   "cell_type": "code",
   "execution_count": 4,
   "metadata": {},
   "outputs": [],
   "source": [
    "class Feature_Creator:\n",
    "    \"\"\"\n",
    "    A class to handle calculation of the various features/descriptors. \n",
    "\n",
    "    ...\n",
    "\n",
    "    Attributes\n",
    "    ----------\n",
    "    structures_df : pd.DataFrame\n",
    "        The dataframe that all the structures and simplified representations are stored in\n",
    "    \n",
    "    mode_list : list\n",
    "        A list containing the 9 modes that the class can use. If a different mode is passed then an error is thrown. \n",
    "\n",
    "    mode : str\n",
    "        The mode string signifies what mode the class is operating in\n",
    "        \n",
    "    unique_atoms : list\n",
    "        The SOAP featurizer requires knowledge of all unique atoms in the structure. This list stores the unique atoms. \n",
    "        \n",
    "    n_jobs : int\n",
    "        The number of CPU cores that will be used for featurizers that support parallel processing\n",
    "\n",
    "    Methods\n",
    "    -------\n",
    "    set_mode(mode):\n",
    "        Set the mode that the class operates in. Each move corresponds to one of the nine structure representations. \n",
    "        \n",
    "    calculate_unique_atoms(mode):\n",
    "        Calculate the unqiue atoms in the structure. Used for the SOAP representation. \n",
    "        \n",
    "    run_atomic_packing_efficiency_featurizer(mode):\n",
    "        Calculate the atomic packing efficiency using matminer.featurizers.composition.AtomicPackingEfficiency()  \n",
    "        \n",
    "    run_band_center_featurizer(mode):\n",
    "        Calculate the band centers using matminer.featurizers.composition.BandCenter()    \n",
    "                \n",
    "    run_bond_fraction_featurizer(mode):\n",
    "        Calculate the bond fractions using matminer.featurizers.structure.BondFractions()  \n",
    "                \n",
    "    run_chemical_ordering_featurizer(mode):\n",
    "        Calculate the chemical ordering using matminer.featurizers.structure.ChemicalOrdering()    \n",
    "                \n",
    "    run_density_featurizer(mode):\n",
    "        Calculate features related to density using matminer.featurizers.structure.DensityFeatures((\"density\", \"vpa\", \"packing fraction\"))    \n",
    "                \n",
    "    end_featurizer_helper(structure, end_featurizer):\n",
    "        A helper for the run_electron_negativity_difference_featurizer     \n",
    "                \n",
    "    run_electron_negativity_difference_featurizer(mode):\n",
    "        Calculates the electron negativity difference for atoms in the composition using matminer.featurizers.composition.ElectronegativityDiff()   \n",
    "                \n",
    "    run_ewald_energy_featurizer(mode):\n",
    "        Calculates the Ewald energy using matminer.featurizers.structure.EwaldEnergy()    \n",
    "                \n",
    "    run_global_instability_index_featurizer(mode, rcut_list):\n",
    "        Calculates the global instability index using matminer.featurizers.structure.GlobalInstabilityIndex(r_cut=rcut)    \n",
    "                \n",
    "    run_jarvis_cfid_featurizer(mode):\n",
    "        A jarvis CFID calculation using matminer.featurizers.structure.JarvisCFID()    \n",
    "                \n",
    "    run_maximum_packing_efficiency_featurizer(mode):\n",
    "        Calculates the packing efficiency using matminer.featurizers.structure.MaximumPackingEfficiency()  \n",
    "                \n",
    "    run_meredig_featurizer(mode):\n",
    "        Calculates Meredig features using matminer.featurizers.composition.Meredig()    \n",
    "                \n",
    "    run_orbital_field_matrix_featurizer(mode):\n",
    "        Calculates the orbital field matrix from matminer.featurizers.structure.OxidationStates()    \n",
    "                \n",
    "    run_oxidation_states_featurizer(mode):\n",
    "        Grabs the oxidation states from the composition using matminer.featurizers.composition.OxidationStates()   \n",
    "                \n",
    "    run_rdf_featurizer(mode, cutoff_list, bin_size_list):\n",
    "        Calculates a radial distribution function matminer.featurizers.structure.RadialDistributionFunction(cutoff=cutoff, bin_size=bin_size)    \n",
    "\n",
    "    run_sine_coulomb_featurizer(mode):\n",
    "        Calculates the Sine Coulomb matrix using matminer.featurizers.structure.SineCoulombMatrix()    \n",
    "        \n",
    "    run_SOAP(mode, rcut_list, nmax_list, lmax_list, average):\n",
    "        Calculates a Smooth Overlap of Atomic Positions representaion using dscribe.descriptors.SOAP()    \n",
    "        \n",
    "    run_structural_complexity_featurizer(mode):\n",
    "        Calculates the structural complexity using matminer.featurizers.structure.StructuralComplexity()    \n",
    "        \n",
    "    run_structural_heterogeneity_featurizer(mode):\n",
    "        Calculates the structural heterogeneity using matminer.featurizers.structure.StructuralHeterogeneity()    \n",
    "        \n",
    "    run_valence_orbital_featurizer(mode):\n",
    "        Calculates valence obrbital information using matminer.featurizers.composition.ValenceOrbital()    \n",
    "            \n",
    "    run_XRD_featurizer(mode, pattern_length_list):\n",
    "        Calculates a powder X-ray diffraction pattern using matminer.featurizers.structure.XRDPowderPattern(pattern_length=pattern_length)\n",
    "        \n",
    "    run_yang_solid_solution_featurizer(mode):\n",
    "        Calculates the yang solid solution information from matminer.featurizers.composition.YangSolidSolution() \n",
    "    \"\"\"\n",
    "    \n",
    "    def __init__(self, structures_df):     \n",
    "        self.structures_df = structures_df\n",
    "        self.mode_list = ['structure', 'structure_A', 'structure_AM', 'structure_CAN', 'structure_CAMN', 'structure_A40', 'structure_AM40', 'structure_CAN40', 'structure_CAMN40']\n",
    "        self.mode = 'structure'\n",
    "        self.unique_atoms = []\n",
    "        self.n_jobs = 63\n",
    "    \n",
    "    def set_mode(self, mode):\n",
    "        \"\"\"\n",
    "        Function to set the operating mode for the class. This mode tells the class which represenation of the structure to use\n",
    "        (i.e., 'structure', 'structure_A', 'structure_AM', 'structure_CAN', 'structure_CAMN', 'structure_A40', \n",
    "        'structure_AM40', 'structure_CAN40', 'structure_CAMN40')\n",
    "\n",
    "        Parameters\n",
    "        ----------\n",
    "        mode : str\n",
    "            The class can operate in 9 modes. This str is used to set the mode attribute. \n",
    "            \n",
    "        Raises\n",
    "        ------\n",
    "        Exception\n",
    "            If the mode is not supported. \n",
    "        \"\"\"\n",
    "        if mode in self.mode_list:\n",
    "            self.mode = mode\n",
    "        else:\n",
    "            raise Exception('The mode \\'{}\\' is not supported.'.format(mode))\n",
    "    \n",
    "    def calculate_unique_atoms(self, mode):\n",
    "        \"\"\"\n",
    "        Function to identify the unique atoms that exist for a given mode. Then sets the \n",
    "        unique_atoms attribute so that it can be used by the SOAP featurizer. \n",
    "\n",
    "        Parameters\n",
    "        ----------\n",
    "        mode : str\n",
    "            The class can operate in 9 modes. This str is used to set the mode attribute. \n",
    "        \"\"\"\n",
    "        self.set_mode(mode)\n",
    "        self.unique_atoms = []\n",
    "        for structure in tqdm.tqdm(self.structures_df[mode]):\n",
    "            for num in structure.symbol_set:\n",
    "                if num not in self.unique_atoms:\n",
    "                    self.unique_atoms.append(num)\n",
    "        self.unique_atoms = np.sort(self.unique_atoms)\n",
    "\n",
    "    \"\"\" \n",
    "    Featurizer functions (and any helpers) are listed below this line in alphabetical order.\n",
    "    Because calculated feature representations can be quite large they are directly saved into the 'features' repository. \n",
    "    \"\"\"\n",
    "    def run_atomic_packing_efficiency_featurizer(self, mode):\n",
    "        \"\"\"\n",
    "        Function to run the atomic packing efficiency featurizer.\n",
    "        Saves the files with the prefix \"ape\" and a suffix indicating the mode.\n",
    "\n",
    "        Parameters\n",
    "        ----------\n",
    "        mode : str\n",
    "            The class can operate in 9 modes. This str is used to set the mode attribute. \n",
    "        \"\"\"\n",
    "        self.set_mode(mode)\n",
    "        ape_featurizer = mm_composition.AtomicPackingEfficiency()\n",
    "        ape_featurizer_result = np.array(self.structures_df[mode].progress_apply(lambda x: ape_featurizer.featurize(x.composition)).values.tolist())\n",
    "        np.save('features/ape_features_mode-{}'.format(self.mode), ape_featurizer_result)\n",
    "        \n",
    "    def run_band_center_featurizer(self, mode):\n",
    "        \"\"\"\n",
    "        Function to run the band center featurizer.\n",
    "        Saves the files with the prefix \"bc\" and a suffix indicating the mode.\n",
    "\n",
    "        Parameters\n",
    "        ----------\n",
    "        mode : str\n",
    "            The class can operate in 9 modes. This str is used to set the mode attribute. \n",
    "        \"\"\"\n",
    "        self.set_mode(mode)\n",
    "        bc_featurizer = mm_composition.BandCenter()\n",
    "        bc_featurizer_result = np.array(self.structures_df[mode].progress_apply(lambda x: bc_featurizer.featurize(x.composition)).values.tolist())\n",
    "        np.save('features/bc_features_mode-{}'.format(self.mode), bc_featurizer_result)\n",
    "\n",
    "    def run_bond_fraction_featurizer(self, mode):\n",
    "        \"\"\"\n",
    "        Function to run the bond fraction featurizer.\n",
    "        Saves the files with the prefix \"bf\" and a suffix indicating the mode.\n",
    "\n",
    "        Parameters\n",
    "        ----------\n",
    "        mode : str\n",
    "            The class can operate in 9 modes. This str is used to set the mode attribute. \n",
    "        \"\"\"\n",
    "        self.set_mode(mode)\n",
    "        bf_featurizer = mm_structure.BondFractions()\n",
    "        bf_featurizer.fit(self.structures_df[self.mode])\n",
    "        bf_featurizer.set_n_jobs = self.n_jobs\n",
    "        bf_featurizer_result = bf_featurizer.featurize_many(self.structures_df[self.mode], ignore_errors=True)\n",
    "        np.save('features/bf_features_mode-{}'.format(self.mode), bf_featurizer_result)\n",
    "      \n",
    "    def run_chemical_ordering_featurizer(self, mode):\n",
    "        \"\"\"\n",
    "        Function to run the chemical ordering featurizer.\n",
    "        Saves the files with the prefix \"co\" and a suffix indicating the mode.\n",
    "\n",
    "        Parameters\n",
    "        ----------\n",
    "        mode : str\n",
    "            The class can operate in 9 modes. This str is used to set the mode attribute. \n",
    "        \"\"\"\n",
    "        self.set_mode(mode)\n",
    "        co_featurizer = mm_structure.ChemicalOrdering()\n",
    "        co_featurizer.fit(self.structures_df[self.mode])\n",
    "        co_featurizer.set_n_jobs = self.n_jobs\n",
    "        co_featurizer_result = co_featurizer.featurize_many(self.structures_df[self.mode], ignore_errors=True)\n",
    "        np.save('features/co_features_mode-{}'.format(self.mode), co_featurizer_result)\n",
    "\n",
    "    def run_density_featurizer(self, mode):\n",
    "        \"\"\"\n",
    "        Function to run the density featurizer.\n",
    "        Saves the files with the prefix \"density\" and a suffix indicating the mode.\n",
    "\n",
    "        Parameters\n",
    "        ----------\n",
    "        mode : str\n",
    "            The class can operate in 9 modes. This str is used to set the mode attribute. \n",
    "        \"\"\"\n",
    "        self.set_mode(mode)\n",
    "        density_featurizer = mm_structure.DensityFeatures((\"density\", \"vpa\", \"packing fraction\"))\n",
    "        density_featurizer.fit(self.structures_df[self.mode])\n",
    "        density_featurizer.set_n_jobs = self.n_jobs\n",
    "        density_featurizer_result = density_featurizer.featurize_many(self.structures_df[self.mode], ignore_errors=True)\n",
    "        np.save('features/density_features_mode-{}'.format(self.mode), density_featurizer_result)\n",
    "\n",
    "    def end_featurizer_helper(self, structure, end_featurizer):\n",
    "        \"\"\"\n",
    "        A helper function for the run_electron_negativity_difference_featurizer() function.\n",
    "        The helper catches any value errors and returns a usable represntation. \n",
    "        This function is intended to be run using the pandas.DataFrame.apply() method\n",
    "\n",
    "        Parameters\n",
    "        ----------\n",
    "        structure : pymatgen.core.structure\n",
    "            A pymatgen structure\n",
    "            \n",
    "        end_featurizer : matminer.featurizers.composition.ElectronegativityDiff()\n",
    "            The featurizer from matminer. \n",
    "        \"\"\"\n",
    "        try: \n",
    "            return end_featurizer.featurize(structure.composition)\n",
    "        except ValueError:\n",
    "            return [0, 0, 0, 0, 0]\n",
    "        except:\n",
    "            return [Nan, Nan, Nan, Nan, Nan]\n",
    "        \n",
    "    def run_electron_negativity_difference_featurizer(self, mode):\n",
    "        \"\"\"\n",
    "        Function to run the electron negativity difference featurizer.\n",
    "        Saves the files with the prefix \"end\" and a suffix indicating the mode.\n",
    "\n",
    "        Parameters\n",
    "        ----------\n",
    "        mode : str\n",
    "            The class can operate in 9 modes. This str is used to set the mode attribute. \n",
    "        \"\"\"\n",
    "        self.set_mode(mode)\n",
    "        end_featurizer = mm_composition.ElectronegativityDiff()\n",
    "        end_featurizer_result = np.array(self.structures_df[self.mode].progress_apply(self.end_featurizer_helper, end_featurizer=end_featurizer).values.tolist())\n",
    "        np.save('features/end_features_mode-{}'.format(self.mode), end_featurizer_result)\n",
    "\n",
    "    def run_ewald_energy_featurizer(self, mode):\n",
    "        \"\"\"\n",
    "        Function to run the Ewald energy featurizer.\n",
    "        Saves the files with the prefix \"ee\" and a suffix indicating the mode.\n",
    "\n",
    "        Parameters\n",
    "        ----------\n",
    "        mode : str\n",
    "            The class can operate in 9 modes. This str is used to set the mode attribute. \n",
    "        \"\"\"\n",
    "        self.set_mode(mode)\n",
    "        ee_featurizer = mm_structure.EwaldEnergy()\n",
    "        ee_featurizer.fit(self.structures_df[self.mode])\n",
    "        ee_featurizer.set_n_jobs = self.n_jobs\n",
    "        ee_featurizer_result = ee_featurizer.featurize_many(self.structures_df[self.mode], ignore_errors=True)\n",
    "        np.save('features/ee_features_mode-{}'.format(self.mode), ee_featurizer_result)\n",
    "\n",
    "    def run_global_instability_index_featurizer(self, mode, rcut_list):\n",
    "        \"\"\"\n",
    "        Function to run the global instability index featurizer.\n",
    "        The function will generate a feature for each radial cutoff that is passed in the list: rcut_list\n",
    "        Saves the files with the prefix \"gii\" and a suffix indicating the mode. \n",
    "\n",
    "        Parameters\n",
    "        ----------\n",
    "        mode : str\n",
    "            The class can operate in 9 modes. This str is used to set the mode attribute. \n",
    "        \n",
    "        rcut_list : list\n",
    "            A list containing one or more different radial cutoff (in angstroms)\n",
    "        \"\"\"\n",
    "        self.set_mode(mode)\n",
    "        for rcut in rcut_list:\n",
    "            gii_featurizer = mm_structure.GlobalInstabilityIndex(r_cut=rcut)\n",
    "            gii_featurizer.fit(self.structures_df[self.mode])\n",
    "            gii_featurizer.set_n_jobs = self.n_jobs\n",
    "            gii_featurizer_result = gii_featurizer.featurize_many(self.structures_df[self.mode], ignore_errors=True)\n",
    "            np.save('features/gii_features_rcut-{}_mode-{}'.format(rcut, self.mode), gii_featurizer_result)\n",
    "\n",
    "    def run_jarvis_cfid_featurizer(self, mode):\n",
    "        \"\"\"\n",
    "        Function to run the Jarvis CFID featurizer.\n",
    "        Saves the files with the prefix \"jc\" and a suffix indicating the mode.\n",
    "\n",
    "        Parameters\n",
    "        ----------\n",
    "        mode : str\n",
    "            The class can operate in 9 modes. This str is used to set the mode attribute. \n",
    "        \"\"\"\n",
    "        self.set_mode(mode)\n",
    "        jcfid_featurizer = mm_structure.JarvisCFID()\n",
    "        jcfid_featurizer.fit(self.structures_df[self.mode])\n",
    "        jcfid_featurizer.set_n_jobs = self.n_jobs\n",
    "        jcfid_featurizer_result = jcfid_featurizer.featurize_many(self.structures_df[self.mode], ignore_errors=True)\n",
    "        np.save('features/jcfid_features_mode-{}'.format(self.mode), jcfid_featurizer_result)\n",
    "\n",
    "    def run_maximum_packing_efficiency_featurizer(self, mode):\n",
    "        \"\"\"\n",
    "        Function to run the maximum packing efficiency featurizer.\n",
    "        Saves the files with the prefix \"mpe\" and a suffix indicating the mode.\n",
    "\n",
    "        Parameters\n",
    "        ----------\n",
    "        mode : str\n",
    "            The class can operate in 9 modes. This str is used to set the mode attribute. \n",
    "        \"\"\"\n",
    "        self.set_mode(mode)\n",
    "        mpe_featurizer = mm_structure.MaximumPackingEfficiency()\n",
    "        mpe_featurizer.fit(self.structures_df[self.mode])\n",
    "        mpe_featurizer.set_n_jobs = self.n_jobs\n",
    "        mpe_featurizer_result = mpe_featurizer.featurize_many(self.structures_df[self.mode], ignore_errors=True)\n",
    "        np.save('features/mpe_features_mode-{}'.format(self.mode), mpe_featurizer_result)\n",
    "\n",
    "    def run_meredig_featurizer(self, mode):\n",
    "        \"\"\"\n",
    "        Function to run the MereDig featurizer.\n",
    "        Saves the files with the prefix \"md\" and a suffix indicating the mode.\n",
    "\n",
    "        Parameters\n",
    "        ----------\n",
    "        mode : str\n",
    "            The class can operate in 9 modes. This str is used to set the mode attribute. \n",
    "        \"\"\"\n",
    "        self.set_mode(mode)\n",
    "        md_featurizer = mm_composition.Meredig()\n",
    "        md_featurizer_result = np.array(self.structures_df[mode].progress_apply(lambda x: md_featurizer.featurize(x.composition)).values.tolist())\n",
    "        np.save('features/md_features_mode-{}'.format(self.mode), md_featurizer_result)\n",
    "        \n",
    "    def run_orbital_field_matrix_featurizer(self, mode):\n",
    "        \"\"\"\n",
    "        Function to run the orbital field matrix featurizer.\n",
    "        Saves the files with the prefix \"ofm\" and a suffix indicating the mode.\n",
    "\n",
    "        Parameters\n",
    "        ----------\n",
    "        mode : str\n",
    "            The class can operate in 9 modes. This str is used to set the mode attribute. \n",
    "        \"\"\"\n",
    "        self.set_mode(mode)\n",
    "        ofm_featurizer = mm_structure.OrbitalFieldMatrix(period_tag=True)\n",
    "        ofm_featurizer.fit(self.structures_df[self.mode])\n",
    "        ofm_featurizer.set_n_jobs = self.n_jobs\n",
    "        ofm_featurizer_result = ofm_featurizer.featurize_many(self.structures_df[self.mode], ignore_errors=True)\n",
    "        np.save('features/ofm_features_mode-{}'.format(self.mode), ofm_featurizer_result)\n",
    "        \n",
    "    def run_oxidation_states_featurizer(self, mode):\n",
    "        \"\"\"\n",
    "        Function to run the oxidation states featurizer.\n",
    "        Saves the files with the prefix \"os\" and a suffix indicating the mode.\n",
    "\n",
    "        Parameters\n",
    "        ----------\n",
    "        mode : str\n",
    "            The class can operate in 9 modes. This str is used to set the mode attribute. \n",
    "        \"\"\"\n",
    "        self.set_mode(mode)\n",
    "        os_featurizer = mm_composition.OxidationStates()\n",
    "        os_featurizer_result = np.array(self.structures_df[mode].progress_apply(lambda x: os_featurizer.featurize(x.composition)).values.tolist())\n",
    "        np.save('features/os_features_mode-{}'.format(self.mode), os_featurizer_result)\n",
    "        \n",
    "    def run_rdf_featurizer(self, mode, cutoff_list, bin_size_list):\n",
    "        \"\"\"\n",
    "        Function to run the radial distribution function featurizer.\n",
    "        This function will generate an rdf feature for all the combinations of radial cutoffs and bin sizes that are passed\n",
    "        into cutoff_list and bin_size_list.\n",
    "        Saves the files with the prefix \"rdf\" and a suffix indicating the mode.\n",
    "\n",
    "        Parameters\n",
    "        ----------\n",
    "        mode : str\n",
    "            The class can operate in 9 modes. This str is used to set the mode attribute. \n",
    "            \n",
    "        cutoff_list : list\n",
    "            A list containing all the desired radial cutoffs. \n",
    "        \n",
    "        bin_size_list : list\n",
    "            A list containing all the desired bin sizes. \n",
    "        \n",
    "        \"\"\"\n",
    "        self.set_mode(mode)\n",
    "        \n",
    "        # iteratre over the cutoff_list and the bin_size_list\n",
    "        for cutoff in cutoff_list:\n",
    "            for bin_size in bin_size_list:\n",
    "                rdf_featurizer = mm_structure.RadialDistributionFunction(cutoff=cutoff, bin_size=bin_size)\n",
    "                rdf_featurizer.fit(self.structures_df[self.mode])\n",
    "                rdf_featurizer.set_n_jobs = self.n_jobs\n",
    "                rdf_featurizer_result = rdf_featurizer.featurize_many(self.structures_df[self.mode], ignore_errors=True)\n",
    "                \n",
    "                # capture errors and fill with zeroes\n",
    "                error = 0\n",
    "                radial_recreate = []\n",
    "                for row in rdf_featurizer_result:\n",
    "                    try:\n",
    "                        radial_recreate.append(row[0]['distribution'].flatten())\n",
    "                    except:\n",
    "                        error+=1\n",
    "                        radial_recreate.append([0.]*(cutoff/bin_size))\n",
    "                print(\"There were {} errors when using mode: {} with cutoff={} and bin_size-{}. Filling those rows with zeroes.\".format(error, self.mode, cutoff, bin_size))\n",
    "                np.save('features/rdf_features_cutoff-{}_binsize-{}_mode-{}'.format(cutoff, bin_size, self.mode), radial_recreate)\n",
    "\n",
    "    def run_sine_coulomb_featurizer(self, mode):\n",
    "        \"\"\"\n",
    "        Function to run the sine coulomb featurizer.\n",
    "        Saves the files with the prefix \"scm\" and a suffix indicating the mode.\n",
    "\n",
    "        Parameters\n",
    "        ----------\n",
    "        mode : str\n",
    "            The class can operate in 9 modes. This str is used to set the mode attribute. \n",
    "        \"\"\"\n",
    "        self.set_mode(mode)\n",
    "        scm_featurizer = mm_structure.SineCoulombMatrix()\n",
    "        scm_featurizer.fit(self.structures_df[self.mode])\n",
    "        scm_featurizer.set_n_jobs = self.n_jobs\n",
    "        scm_featurizer_result = scm_featurizer.featurize_many(self.structures_df[self.mode], ignore_errors=True)\n",
    "        np.save('features/scm_features_mode-{}'.format(self.mode), scm_featurizer_result)\n",
    "                \n",
    "    def run_SOAP(self, mode, rcut_list, nmax_list, lmax_list, average):\n",
    "        \"\"\"\n",
    "        Function to run the smooth overlap of atomic position featurizer.\n",
    "        The function will automatically generate and save representations for all possible combinations \n",
    "        of the integers in rcut_list, nmax_list, and lmax_list. \n",
    "        Saves the files with the prefix \"SOAP\" and a suffix indicating the mode.\n",
    "\n",
    "        Parameters\n",
    "        ----------\n",
    "        mode : str\n",
    "            The class can operate in 9 modes. This str is used to set the mode attribute. \n",
    "            \n",
    "        rcut_list : list\n",
    "            A list containing all the desired radial cutoffs in angstroms. \n",
    "        \n",
    "        nmax_list : list\n",
    "            A list containing all the desired radial basis functions.\n",
    "        \n",
    "        lmax_list : list\n",
    "            A list containing all the desired values for maximum degree of spherical harmonics. \n",
    "        \n",
    "        average : str\n",
    "            The averaging strategy used. Either 'inner' or 'outer'.\n",
    "        \"\"\"\n",
    "\n",
    "        self.calculate_unique_atoms(mode)\n",
    "        \n",
    "        # iterate over all of the rcut, nmax and lmax values\n",
    "        for rcut in rcut_list:\n",
    "            for nmax in nmax_list:\n",
    "                for lmax in lmax_list:\n",
    "                    average_soap = SOAP(\n",
    "                        species=self.unique_atoms,\n",
    "                        rcut=rcut,\n",
    "                        nmax=nmax,\n",
    "                        lmax=lmax,\n",
    "                        periodic=True,\n",
    "                        average=average,\n",
    "                        sparse=True\n",
    "                    )\n",
    "                    ase_structures = self.structures_df[mode].progress_apply(AAA.get_atoms).to_numpy()\n",
    "                    average_soap_data = average_soap.create(ase_structures, n_jobs=31, verbose=False)\n",
    "                    pairings = np.concatenate([np.r_[average_soap.get_location((\"S\", x))] for x in self.unique_atoms])\n",
    "                    np.save('features/SOAP_features_partialS_{}_rcut-{}_nmax-{}_lmax-{}_mode-{}'.format(average, rcut, nmax, lmax, mode), average_soap_data[:,pairings])\n",
    "\n",
    "    def run_structural_complexity_featurizer(self, mode):\n",
    "        \"\"\"\n",
    "        Function to run the structural complexity featurizer.\n",
    "        Saves the files with the prefix \"sc\" and a suffix indicating the mode.\n",
    "\n",
    "        Parameters\n",
    "        ----------\n",
    "        mode : str\n",
    "            The class can operate in 9 modes. This str is used to set the mode attribute. \n",
    "        \"\"\"\n",
    "        self.set_mode(mode)\n",
    "        sc_featurizer = mm_structure.StructuralComplexity()\n",
    "        sc_featurizer.fit(self.structures_df[self.mode])\n",
    "        sc_featurizer.set_n_jobs = self.n_jobs\n",
    "        sc_featurizer_result = sc_featurizer.featurize_many(self.structures_df[self.mode], ignore_errors=True)\n",
    "        np.save('features/sc_features_mode-{}'.format(self.mode), sc_featurizer_result)\n",
    "                    \n",
    "    def run_structural_heterogeneity_featurizer(self, mode):\n",
    "        \"\"\"\n",
    "        Function to run the structural heterogeneity featurizer.\n",
    "        Saves the files with the prefix \"sh\" and a suffix indicating the mode.\n",
    "\n",
    "        Parameters\n",
    "        ----------\n",
    "        mode : str\n",
    "            The class can operate in 9 modes. This str is used to set the mode attribute. \n",
    "        \"\"\"\n",
    "        self.set_mode(mode)\n",
    "        sh_featurizer = mm_structure.StructuralHeterogeneity()\n",
    "        sh_featurizer.fit(self.structures_df[self.mode])\n",
    "        sh_featurizer.set_n_jobs = self.n_jobs\n",
    "        sh_featurizer_result = sh_featurizer.featurize_many(self.structures_df[self.mode], ignore_errors=True)\n",
    "        np.save('features/sh_features_mode-{}'.format(self.mode), sh_featurizer_result)\n",
    "\n",
    "    def run_valence_orbital_featurizer(self, mode):\n",
    "        \"\"\"\n",
    "        Function to run the valence orbital featurizer.\n",
    "        Saves the files with the prefix \"vo\" and a suffix indicating the mode.\n",
    "\n",
    "        Parameters\n",
    "        ----------\n",
    "        mode : str\n",
    "            The class can operate in 9 modes. This str is used to set the mode attribute. \n",
    "        \"\"\"\n",
    "        self.set_mode(mode)\n",
    "        vo_featurizer = mm_composition.ValenceOrbital()\n",
    "        vo_featurizer_result = np.array(self.structures_df[mode].progress_apply(lambda x: vo_featurizer.featurize(x.composition)).values.tolist())\n",
    "        np.save('features/vo_features_mode-{}'.format(self.mode), vo_featurizer_result)        \n",
    "\n",
    "    def run_XRD_featurizer(self, mode, pattern_length_list):\n",
    "        \"\"\"\n",
    "        Function to run the powder XRD featurizer.\n",
    "        The function will automatically generate and save representations for every pattern length\n",
    "        value that is contained in the list: pattern_length_list.\n",
    "        Saves the files with the prefix \"xrd\" and a suffix indicating the mode.\n",
    "\n",
    "        Parameters\n",
    "        ----------\n",
    "        mode : str\n",
    "            The class can operate in 9 modes. This str is used to set the mode attribute. \n",
    "            \n",
    "        pattern_length_list : list\n",
    "            A list containing all the desired values for the pattern length. \n",
    "        \"\"\"\n",
    "        self.set_mode(mode)\n",
    "        for pattern_length in pattern_length_list:\n",
    "            xrd_featurizer = mm_structure.XRDPowderPattern(pattern_length=pattern_length)\n",
    "            xrd_featurizer.fit(self.structures_df[self.mode])\n",
    "\n",
    "            xrd_featurizer.set_n_jobs = self.n_jobs\n",
    "            xrd_featurizer_result = xrd_featurizer.featurize_many(self.structures_df[self.mode], ignore_errors=True)\n",
    "            np.save('features/xrd_features_pattern_length-{}_mode-{}'.format(pattern_length, self.mode), xrd_featurizer_result)        \n",
    "\n",
    "    def run_yang_solid_solution_featurizer(self, mode):\n",
    "        \"\"\"\n",
    "        Function to run the yang solid solution featurizer.\n",
    "        Saves the files with the prefix \"yss\" and a suffix indicating the mode.\n",
    "\n",
    "        Parameters\n",
    "        ----------\n",
    "        mode : str\n",
    "            The class can operate in 9 modes. This str is used to set the mode attribute. \n",
    "        \"\"\"\n",
    "        self.set_mode(mode)\n",
    "        yss_featurizer = mm_composition.YangSolidSolution()\n",
    "        yss_featurizer_result = np.array(self.structures_df[mode].progress_apply(lambda x: yss_featurizer.featurize(x.composition)).values.tolist())\n",
    "        np.save('features/yss_features_mode-{}'.format(self.mode), yss_featurizer_result)"
   ]
  },
  {
   "cell_type": "markdown",
   "metadata": {},
   "source": [
    "## 3a. Initialize the Feature_Creator class"
   ]
  },
  {
   "cell_type": "code",
   "execution_count": 5,
   "metadata": {},
   "outputs": [],
   "source": [
    "# for full model\n",
    "fc = Feature_Creator(structures_df)\n",
    "\n",
    "# the full model takes a long time to run. Use this line for testing/debugging purposes\n",
    "# fc = Feature_Creator(structures_df[0:500])"
   ]
  },
  {
   "cell_type": "markdown",
   "metadata": {},
   "source": [
    "## 3b. Make sure the 9 modes are working correctly\n",
    "Check to see that the correct atoms are in each mode. "
   ]
  },
  {
   "cell_type": "code",
   "execution_count": 6,
   "metadata": {},
   "outputs": [
    {
     "data": {
      "application/vnd.jupyter.widget-view+json": {
       "model_id": "91403691cfd44a5bbb79b2d0a1165ba2",
       "version_major": 2,
       "version_minor": 0
      },
      "text/plain": [
       "  0%|          | 0/25193 [00:00<?, ?it/s]"
      ]
     },
     "metadata": {},
     "output_type": "display_data"
    },
    {
     "name": "stdout",
     "output_type": "stream",
     "text": [
      "structure contains ['Ac' 'Ag' 'Al' 'As' 'Au' 'B' 'Ba' 'Be' 'Bi' 'Br' 'C' 'Ca' 'Cd' 'Ce' 'Cl'\n",
      " 'Co' 'Cr' 'Cs' 'Cu' 'Dy' 'Er' 'Eu' 'F' 'Fe' 'Ga' 'Gd' 'Ge' 'H' 'Hf' 'Hg'\n",
      " 'Ho' 'I' 'In' 'Ir' 'K' 'La' 'Li' 'Lu' 'Mg' 'Mn' 'Mo' 'N' 'Na' 'Nb' 'Nd'\n",
      " 'Ni' 'Np' 'O' 'Os' 'P' 'Pa' 'Pb' 'Pd' 'Pm' 'Pr' 'Pt' 'Pu' 'Rb' 'Re' 'Rh'\n",
      " 'Ru' 'S' 'Sb' 'Sc' 'Se' 'Si' 'Sm' 'Sn' 'Sr' 'Ta' 'Tb' 'Tc' 'Te' 'Th' 'Ti'\n",
      " 'Tl' 'Tm' 'U' 'V' 'W' 'Xe' 'Y' 'Yb' 'Zn' 'Zr']\n"
     ]
    },
    {
     "data": {
      "application/vnd.jupyter.widget-view+json": {
       "model_id": "a6e1431651eb4797b1acb85f50599b54",
       "version_major": 2,
       "version_minor": 0
      },
      "text/plain": [
       "  0%|          | 0/25193 [00:00<?, ?it/s]"
      ]
     },
     "metadata": {},
     "output_type": "display_data"
    },
    {
     "name": "stdout",
     "output_type": "stream",
     "text": [
      "structure_A contains ['S']\n"
     ]
    },
    {
     "data": {
      "application/vnd.jupyter.widget-view+json": {
       "model_id": "fab4a5512e5b4107adfe5a28171ee3d4",
       "version_major": 2,
       "version_minor": 0
      },
      "text/plain": [
       "  0%|          | 0/25193 [00:00<?, ?it/s]"
      ]
     },
     "metadata": {},
     "output_type": "display_data"
    },
    {
     "name": "stdout",
     "output_type": "stream",
     "text": [
      "structure_AM contains ['Li' 'S']\n"
     ]
    },
    {
     "data": {
      "application/vnd.jupyter.widget-view+json": {
       "model_id": "d513c35de5fc4b97a3a355e9183f2fc3",
       "version_major": 2,
       "version_minor": 0
      },
      "text/plain": [
       "  0%|          | 0/25193 [00:00<?, ?it/s]"
      ]
     },
     "metadata": {},
     "output_type": "display_data"
    },
    {
     "name": "stdout",
     "output_type": "stream",
     "text": [
      "structure_CAN contains ['Al' 'Mg' 'S']\n"
     ]
    },
    {
     "data": {
      "application/vnd.jupyter.widget-view+json": {
       "model_id": "bb97364b26ae43ee85d5ecd5b6ea78f0",
       "version_major": 2,
       "version_minor": 0
      },
      "text/plain": [
       "  0%|          | 0/25193 [00:00<?, ?it/s]"
      ]
     },
     "metadata": {},
     "output_type": "display_data"
    },
    {
     "name": "stdout",
     "output_type": "stream",
     "text": [
      "structure_CAMN contains ['Al' 'Li' 'Mg' 'S']\n"
     ]
    },
    {
     "data": {
      "application/vnd.jupyter.widget-view+json": {
       "model_id": "b998f5bb296a49f3be8a51b176cb1fa9",
       "version_major": 2,
       "version_minor": 0
      },
      "text/plain": [
       "  0%|          | 0/25193 [00:00<?, ?it/s]"
      ]
     },
     "metadata": {},
     "output_type": "display_data"
    },
    {
     "name": "stdout",
     "output_type": "stream",
     "text": [
      "structure_A40 contains ['S']\n"
     ]
    },
    {
     "data": {
      "application/vnd.jupyter.widget-view+json": {
       "model_id": "858ac756add44ebdaae57d036355e162",
       "version_major": 2,
       "version_minor": 0
      },
      "text/plain": [
       "  0%|          | 0/25193 [00:00<?, ?it/s]"
      ]
     },
     "metadata": {},
     "output_type": "display_data"
    },
    {
     "name": "stdout",
     "output_type": "stream",
     "text": [
      "structure_AM40 contains ['Li' 'S']\n"
     ]
    },
    {
     "data": {
      "application/vnd.jupyter.widget-view+json": {
       "model_id": "4a37e9d1cae94ff4abf69c00a3a0052f",
       "version_major": 2,
       "version_minor": 0
      },
      "text/plain": [
       "  0%|          | 0/25193 [00:00<?, ?it/s]"
      ]
     },
     "metadata": {},
     "output_type": "display_data"
    },
    {
     "name": "stdout",
     "output_type": "stream",
     "text": [
      "structure_CAN40 contains ['Al' 'Mg' 'S']\n"
     ]
    },
    {
     "data": {
      "application/vnd.jupyter.widget-view+json": {
       "model_id": "a5def06da86244478deda382ae3ab0e3",
       "version_major": 2,
       "version_minor": 0
      },
      "text/plain": [
       "  0%|          | 0/25193 [00:00<?, ?it/s]"
      ]
     },
     "metadata": {},
     "output_type": "display_data"
    },
    {
     "name": "stdout",
     "output_type": "stream",
     "text": [
      "structure_CAMN40 contains ['Al' 'Li' 'Mg' 'S']\n"
     ]
    }
   ],
   "source": [
    "for mode in fc.mode_list:\n",
    "    fc.calculate_unique_atoms(mode)\n",
    "    print(\"{} contains {}\".format(mode, fc.unique_atoms))"
   ]
  },
  {
   "cell_type": "markdown",
   "metadata": {
    "tags": []
   },
   "source": [
    "##  3c. Run featurizers as needed\n",
    "***\n",
    "All featurizers require the user to specify which 'mode' is used. The modes tell the class which column of the dataframe to apply the featurizer to. The valid modes are:\n",
    "\n",
    "* structure\n",
    "* structure_A\n",
    "* structure_AM\n",
    "* structure_CAN\n",
    "* structure_CAMN\n",
    "* structure_A40\n",
    "* structure_AM40\n",
    "* structure_CAN40\n",
    "* structure_CAMN40\n",
    "***\n",
    "A few of the featurizers require additional paramaters. The paramaters are discussed in more detail below.\n",
    "\n",
    "* __Global Instability Index__: rcut_list\n",
    "* __Radial Distribution Function__: cutoff_list\n",
    "* __Smooth Overlap of Atomic Positions (SOAP)__: rcut_list, nmax_list, lmax_list, average\n",
    "* __Xray Diffraction__: pattern_length_list"
   ]
  },
  {
   "cell_type": "markdown",
   "metadata": {},
   "source": [
    "### Featurizer: Atomic Packing Efficiency "
   ]
  },
  {
   "cell_type": "code",
   "execution_count": null,
   "metadata": {},
   "outputs": [],
   "source": [
    "fc.run_atomic_packing_efficiency_featurizer('structure_CAMN')"
   ]
  },
  {
   "cell_type": "markdown",
   "metadata": {},
   "source": [
    "### Featurizer: Band Center"
   ]
  },
  {
   "cell_type": "code",
   "execution_count": null,
   "metadata": {},
   "outputs": [],
   "source": [
    "fc.run_band_center_featurizer('structure_CAMN')"
   ]
  },
  {
   "cell_type": "markdown",
   "metadata": {},
   "source": [
    "### Featurizer: Bond Fraction"
   ]
  },
  {
   "cell_type": "code",
   "execution_count": null,
   "metadata": {},
   "outputs": [],
   "source": [
    "fc.run_bond_fraction_featurizer('structure_CAMN')"
   ]
  },
  {
   "cell_type": "markdown",
   "metadata": {},
   "source": [
    "### Featurizer: Chemical Ordering"
   ]
  },
  {
   "cell_type": "code",
   "execution_count": null,
   "metadata": {},
   "outputs": [],
   "source": [
    "fc.run_chemical_ordering_featurizer('structure_CAMN')"
   ]
  },
  {
   "cell_type": "markdown",
   "metadata": {},
   "source": [
    "### Featurizer: Density"
   ]
  },
  {
   "cell_type": "code",
   "execution_count": null,
   "metadata": {},
   "outputs": [],
   "source": [
    "fc.run_density_featurizer('structure_CAMN')"
   ]
  },
  {
   "cell_type": "markdown",
   "metadata": {},
   "source": [
    "### Featurizer: Electron Negativity Difference"
   ]
  },
  {
   "cell_type": "code",
   "execution_count": null,
   "metadata": {},
   "outputs": [],
   "source": [
    "fc.run_electron_negativity_difference_featurizer('structure')"
   ]
  },
  {
   "cell_type": "markdown",
   "metadata": {},
   "source": [
    "### Featurizer: Ewald Energy"
   ]
  },
  {
   "cell_type": "code",
   "execution_count": null,
   "metadata": {},
   "outputs": [],
   "source": [
    "fc.run_ewald_energy_featurizer('structure_CAMN')"
   ]
  },
  {
   "cell_type": "markdown",
   "metadata": {},
   "source": [
    "### Featurizer: Global Instability Index\n",
    "\n",
    "Pass in a list of rcut values. The function will iterate over the list generating a feature file for each entry. "
   ]
  },
  {
   "cell_type": "code",
   "execution_count": null,
   "metadata": {},
   "outputs": [],
   "source": [
    "fc.run_global_instability_index_featurizer('structure', rcut_list=[20])"
   ]
  },
  {
   "cell_type": "markdown",
   "metadata": {},
   "source": [
    "### Featurizer: Jarvis CFID"
   ]
  },
  {
   "cell_type": "code",
   "execution_count": null,
   "metadata": {},
   "outputs": [],
   "source": [
    "fc.run_jarvis_cfid_featurizer('structure')"
   ]
  },
  {
   "cell_type": "markdown",
   "metadata": {},
   "source": [
    "### Featurizer: Maximum Packing Efficiency"
   ]
  },
  {
   "cell_type": "code",
   "execution_count": null,
   "metadata": {},
   "outputs": [],
   "source": [
    "fc.run_maximum_packing_efficiency_featurizer('structure_CAMN')"
   ]
  },
  {
   "cell_type": "markdown",
   "metadata": {},
   "source": [
    "### Featurizer: MereDig "
   ]
  },
  {
   "cell_type": "code",
   "execution_count": null,
   "metadata": {},
   "outputs": [],
   "source": [
    "fc.run_meredig_featurizer('structure_CAMN')"
   ]
  },
  {
   "cell_type": "markdown",
   "metadata": {},
   "source": [
    "### Featurizer: Orbital Field Matrix"
   ]
  },
  {
   "cell_type": "code",
   "execution_count": null,
   "metadata": {},
   "outputs": [],
   "source": [
    "fc.run_orbital_field_matrix_featurizer('structure')"
   ]
  },
  {
   "cell_type": "markdown",
   "metadata": {},
   "source": [
    "### Featurizer: Oxidation States"
   ]
  },
  {
   "cell_type": "code",
   "execution_count": null,
   "metadata": {},
   "outputs": [],
   "source": [
    "fc.run_oxidation_states_featurizer('structure_CAMN')"
   ]
  },
  {
   "cell_type": "markdown",
   "metadata": {},
   "source": [
    "### Featurizer: Radial Distribution Function\n",
    "\n",
    "Pass in a list of cutoff values and a list of bin_size values. The function will iterate over the lists, generating a feature file for each combination. "
   ]
  },
  {
   "cell_type": "code",
   "execution_count": null,
   "metadata": {},
   "outputs": [],
   "source": [
    "fc.run_rdf_featurizer('structure_CAMN', cutoff_list=[10], bin_size_list=[0.1])"
   ]
  },
  {
   "cell_type": "markdown",
   "metadata": {},
   "source": [
    "### Featurizer: Sine Coulomb Matrix"
   ]
  },
  {
   "cell_type": "code",
   "execution_count": null,
   "metadata": {},
   "outputs": [],
   "source": [
    "fc.run_sine_coulomb_featurizer('structure')"
   ]
  },
  {
   "cell_type": "markdown",
   "metadata": {},
   "source": [
    "### Featurizer: Smooth Overlap of Atomic Positions (SOAP)\n",
    "\n",
    "Pass in the following paramaters:\n",
    "\n",
    "* __rcut_list__:  a list of rcut values for the dscribe SOAP class\n",
    "* __nmax_list__:  a list of nmax values for the dscribe SOAP class\n",
    "* __lmax_list__:  a list of lmax values fro the dscribe SOAP class\n",
    "* __average__: the averaging strategy for SOAP. Either 'outer' or 'inner'\n",
    "\n",
    "The function will create a feature file for every unique combination of the above paramaters. "
   ]
  },
  {
   "cell_type": "code",
   "execution_count": 8,
   "metadata": {},
   "outputs": [
    {
     "data": {
      "application/vnd.jupyter.widget-view+json": {
       "model_id": "1cc0ff1248e746ccb8f9a65f955aa848",
       "version_major": 2,
       "version_minor": 0
      },
      "text/plain": [
       "  0%|          | 0/25193 [00:00<?, ?it/s]"
      ]
     },
     "metadata": {},
     "output_type": "display_data"
    },
    {
     "data": {
      "application/vnd.jupyter.widget-view+json": {
       "model_id": "58cfec8204094192907f1008b43af9b5",
       "version_major": 2,
       "version_minor": 0
      },
      "text/plain": [
       "  0%|          | 0/25193 [00:00<?, ?it/s]"
      ]
     },
     "metadata": {},
     "output_type": "display_data"
    }
   ],
   "source": [
    "fc.run_SOAP('structure_CAN', rcut_list=[3], nmax_list=[5], lmax_list=[3], average='outer')"
   ]
  },
  {
   "cell_type": "markdown",
   "metadata": {},
   "source": [
    "### Featurizer: Structural Complexity"
   ]
  },
  {
   "cell_type": "code",
   "execution_count": null,
   "metadata": {},
   "outputs": [],
   "source": [
    "fc.run_structural_complexity_featurizer('structure')"
   ]
  },
  {
   "cell_type": "markdown",
   "metadata": {},
   "source": [
    "### Featurizer: Structural Heterogeneity"
   ]
  },
  {
   "cell_type": "code",
   "execution_count": null,
   "metadata": {},
   "outputs": [],
   "source": [
    "fc.run_structural_heterogeneity_featurizer('structure')"
   ]
  },
  {
   "cell_type": "markdown",
   "metadata": {},
   "source": [
    "### Featurizer: Valence Orbital"
   ]
  },
  {
   "cell_type": "code",
   "execution_count": null,
   "metadata": {},
   "outputs": [],
   "source": [
    "fc.run_valence_orbital_featurizer('structure')"
   ]
  },
  {
   "cell_type": "markdown",
   "metadata": {},
   "source": [
    "### Featurizer: X-ray Diffraction Pattern\n",
    "\n",
    "Pass in a list of pattern lengths. The function will iterate over the list, saving a feature representation for each pattern length. "
   ]
  },
  {
   "cell_type": "code",
   "execution_count": null,
   "metadata": {},
   "outputs": [],
   "source": [
    "fc.run_XRD_featurizer('structure_CAMN', pattern_length_list=[451])"
   ]
  },
  {
   "cell_type": "markdown",
   "metadata": {},
   "source": [
    "### Featurizer: Yang Solid Solution"
   ]
  },
  {
   "cell_type": "code",
   "execution_count": null,
   "metadata": {},
   "outputs": [],
   "source": [
    "fc.run_yang_solid_solution_featurizer('structure')"
   ]
  },
  {
   "cell_type": "markdown",
   "metadata": {},
   "source": [
    "### Featurizer: CAVD - requires python 3.7 for cavd library"
   ]
  },
  {
   "cell_type": "code",
   "execution_count": null,
   "metadata": {},
   "outputs": [],
   "source": [
    "mode = 'structure'"
   ]
  },
  {
   "cell_type": "code",
   "execution_count": null,
   "metadata": {},
   "outputs": [],
   "source": [
    "for i in tqdm.tqdm(np.arange(0, len(structuresDF), 1)):\n",
    "    for site in structuresDF.loc[i, mode].sites:\n",
    "        try:\n",
    "            site._atom_site_label = site.species.alphabetical_formula\n",
    "            site.properties.update({'_atom_site_label': site.species.alphabetical_formula})\n",
    "        except Exception as e:\n",
    "            print(e)\n",
    "    \n",
    "    try: \n",
    "        w = CifWriter(structuresDF.loc[i, mode], symprec=True)\n",
    "        w.write_file('./Li Cifs CAVD/{}.cif'.format(str(i)))\n",
    "    except:\n",
    "        w = CifWriter(structuresDF.loc[i, mode])\n",
    "        w.write_file('./Li Cifs CAVD/{}.cif'.format(str(i)))\n",
    "        "
   ]
  },
  {
   "cell_type": "code",
   "execution_count": null,
   "metadata": {},
   "outputs": [],
   "source": [
    "def cavd_calc(filename, migrant, ntol=0.02, lower=0.0, upper=10.0):\n",
    "    with zopen(filename, \"rt\") as f:\n",
    "        input_string = f.read()\n",
    "    parser = CifParser_new.from_string(input_string)\n",
    "    stru = parser.get_structures(primitive=False)[0]\n",
    "    \n",
    "    species = [str(sp).replace(\"Specie \",\"\") for sp in stru.species]\n",
    "    elements = [re.sub('[^a-zA-Z]','',sp) for sp in species]\n",
    "    if migrant not in elements:\n",
    "        raise ValueError(\"The input migrant ion not in the input structure! Please check it.\")\n",
    "    effec_radii,migrant_radius,migrant_alpha,nei_dises,coordination_list = LocalEnvirCom(stru,migrant)\n",
    "    \n",
    "    atmnet = AtomNetwork.read_from_RemoveMigrantCif(filename, migrant, effec_radii, True)\n",
    "    vornet, edge_centers, fcs, faces = atmnet.perform_voronoi_decomposition(True, ntol)\n",
    "\n",
    "    prefixname = filename.replace(\".cif\",\"\")\n",
    "    prefixname = filename.replace(\"./Li Cifs/\", \"\")\n",
    "    newpath = \"./cavdoutputs/\" + prefixname\n",
    "\n",
    "    # compute the R_T\n",
    "    conn_val = connection_values_list(newpath+\".resex\", vornet)\n",
    "    return conn_val"
   ]
  },
  {
   "cell_type": "code",
   "execution_count": null,
   "metadata": {},
   "outputs": [],
   "source": [
    "cavd_features = []\n",
    "non_working = []\n",
    "for i in tqdm.tqdm(np.arange(0, len(structures_df), 1)):\n",
    "    try:\n",
    "        cavd_features.append(sorted(cavd_calc(\"./Li Cifs CAVD/{}.cif\".format(str(i)), \"Li\")))\n",
    "    except:\n",
    "        cavd_features.append([NaN, NaN, NaN])\n",
    "        non_working.append(i)"
   ]
  },
  {
   "cell_type": "code",
   "execution_count": null,
   "metadata": {},
   "outputs": [],
   "source": [
    "np.save('features/cavd2_{}'.format(mode), cavd_features)"
   ]
  }
 ],
 "metadata": {
  "kernelspec": {
   "display_name": "Python 3 (ipykernel)",
   "language": "python",
   "name": "python3"
  },
  "language_info": {
   "codemirror_mode": {
    "name": "ipython",
    "version": 3
   },
   "file_extension": ".py",
   "mimetype": "text/x-python",
   "name": "python",
   "nbconvert_exporter": "python",
   "pygments_lexer": "ipython3",
   "version": "3.8.5"
  },
  "widgets": {
   "application/vnd.jupyter.widget-state+json": {
    "state": {
     "007b09b05af74719af276a168a447a55": {
      "model_module": "@jupyter-widgets/base",
      "model_module_version": "1.2.0",
      "model_name": "LayoutModel",
      "state": {}
     },
     "01c13405180a45d1b64cd914d990face": {
      "model_module": "@jupyter-widgets/controls",
      "model_module_version": "1.5.0",
      "model_name": "FloatProgressModel",
      "state": {
       "bar_style": "success",
       "layout": "IPY_MODEL_ac7e0681179a46249890d1f28d4116bc",
       "max": 25193,
       "style": "IPY_MODEL_204fca0b7bf84dc784babb48f2d9f204",
       "value": 25193
      }
     },
     "06bd12e5ce94498aa9589c3df167c721": {
      "model_module": "@jupyter-widgets/controls",
      "model_module_version": "1.5.0",
      "model_name": "HTMLModel",
      "state": {
       "layout": "IPY_MODEL_5027b81bd73f489987288bb7f66dcff4",
       "style": "IPY_MODEL_77f0f4b1860f43499a13a6dcf96cfe5e",
       "value": "100%"
      }
     },
     "06ca90a9962e487ca6a114c14bd171bb": {
      "model_module": "@jupyter-widgets/controls",
      "model_module_version": "1.5.0",
      "model_name": "DescriptionStyleModel",
      "state": {
       "description_width": ""
      }
     },
     "0c3c4897871342eca3cc1c38e35b9720": {
      "model_module": "@jupyter-widgets/controls",
      "model_module_version": "1.5.0",
      "model_name": "DescriptionStyleModel",
      "state": {
       "description_width": ""
      }
     },
     "0d4584ea8cf041768f2a8161250da344": {
      "model_module": "@jupyter-widgets/controls",
      "model_module_version": "1.5.0",
      "model_name": "HTMLModel",
      "state": {
       "layout": "IPY_MODEL_007b09b05af74719af276a168a447a55",
       "style": "IPY_MODEL_322bc72b48f14d56ac507aaaa3d028d1",
       "value": " 25193/25193 [00:04&lt;00:00, 5533.10it/s]"
      }
     },
     "0e4c475e049d4d90b2f273b778a25f09": {
      "model_module": "@jupyter-widgets/base",
      "model_module_version": "1.2.0",
      "model_name": "LayoutModel",
      "state": {}
     },
     "171ec7bdb1fc41dc94945219f6d11650": {
      "model_module": "@jupyter-widgets/controls",
      "model_module_version": "1.5.0",
      "model_name": "ProgressStyleModel",
      "state": {
       "description_width": ""
      }
     },
     "194d05d1599048cb9225d70da7f04548": {
      "model_module": "@jupyter-widgets/controls",
      "model_module_version": "1.5.0",
      "model_name": "FloatProgressModel",
      "state": {
       "bar_style": "success",
       "layout": "IPY_MODEL_72cbf7f0f1c64023aa470203be01bed0",
       "max": 25193,
       "style": "IPY_MODEL_8a1a977bc0f3431fbb611ddaaf7230fc",
       "value": 25193
      }
     },
     "19d9451d96134be58aa368bc27ca9a12": {
      "model_module": "@jupyter-widgets/controls",
      "model_module_version": "1.5.0",
      "model_name": "FloatProgressModel",
      "state": {
       "bar_style": "success",
       "layout": "IPY_MODEL_e327dad9f91546cdaf5ce66c84540f46",
       "max": 25193,
       "style": "IPY_MODEL_2f104b12bfc84e4f9816ac748ea06832",
       "value": 25193
      }
     },
     "1dd94dac664542a59f894948c8919fde": {
      "model_module": "@jupyter-widgets/base",
      "model_module_version": "1.2.0",
      "model_name": "LayoutModel",
      "state": {}
     },
     "1e0d01dc70fd44e4a8192a053c42d33f": {
      "model_module": "@jupyter-widgets/base",
      "model_module_version": "1.2.0",
      "model_name": "LayoutModel",
      "state": {}
     },
     "204fca0b7bf84dc784babb48f2d9f204": {
      "model_module": "@jupyter-widgets/controls",
      "model_module_version": "1.5.0",
      "model_name": "ProgressStyleModel",
      "state": {
       "description_width": ""
      }
     },
     "27a14134891e404391d385e50d58ba82": {
      "model_module": "@jupyter-widgets/controls",
      "model_module_version": "1.5.0",
      "model_name": "HTMLModel",
      "state": {
       "layout": "IPY_MODEL_befeb11dea3c4353b53ace6d35d0468c",
       "style": "IPY_MODEL_c68418dd548040dcaaf7a5cd0d3c44a3",
       "value": "SineCoulombMatrix: 100%"
      }
     },
     "293d9046647b4505a4816ef578d224ee": {
      "model_module": "@jupyter-widgets/base",
      "model_module_version": "1.2.0",
      "model_name": "LayoutModel",
      "state": {}
     },
     "2c9dc604f15b403590476c4036ff5bae": {
      "model_module": "@jupyter-widgets/base",
      "model_module_version": "1.2.0",
      "model_name": "LayoutModel",
      "state": {}
     },
     "2e32bf7e4a5048b9b17665136a9e240f": {
      "model_module": "@jupyter-widgets/controls",
      "model_module_version": "1.5.0",
      "model_name": "HTMLModel",
      "state": {
       "layout": "IPY_MODEL_0e4c475e049d4d90b2f273b778a25f09",
       "style": "IPY_MODEL_d8b5e064ca604557bcc067f2021d39de",
       "value": "100%"
      }
     },
     "2e7c0e1a298a4ff3a02ba20682b559bb": {
      "model_module": "@jupyter-widgets/controls",
      "model_module_version": "1.5.0",
      "model_name": "FloatProgressModel",
      "state": {
       "bar_style": "success",
       "layout": "IPY_MODEL_1dd94dac664542a59f894948c8919fde",
       "max": 25193,
       "style": "IPY_MODEL_8adc88e38cae40169fac9a638b5093db",
       "value": 25193
      }
     },
     "2f0011bd00a74b288a575e4bc3ad4ea0": {
      "model_module": "@jupyter-widgets/controls",
      "model_module_version": "1.5.0",
      "model_name": "DescriptionStyleModel",
      "state": {
       "description_width": ""
      }
     },
     "2f104b12bfc84e4f9816ac748ea06832": {
      "model_module": "@jupyter-widgets/controls",
      "model_module_version": "1.5.0",
      "model_name": "ProgressStyleModel",
      "state": {
       "description_width": ""
      }
     },
     "2fd614aa3dd04a4c8dbf832b5d82f2a5": {
      "model_module": "@jupyter-widgets/controls",
      "model_module_version": "1.5.0",
      "model_name": "ProgressStyleModel",
      "state": {
       "description_width": ""
      }
     },
     "307d89b508aa4cf68fca649875ce2482": {
      "model_module": "@jupyter-widgets/controls",
      "model_module_version": "1.5.0",
      "model_name": "FloatProgressModel",
      "state": {
       "bar_style": "success",
       "layout": "IPY_MODEL_933002b0c22d4cc08f627a4325b2e6ae",
       "max": 25193,
       "style": "IPY_MODEL_abbaf530f076427ca880cb47fcc466c7",
       "value": 25193
      }
     },
     "322bc72b48f14d56ac507aaaa3d028d1": {
      "model_module": "@jupyter-widgets/controls",
      "model_module_version": "1.5.0",
      "model_name": "DescriptionStyleModel",
      "state": {
       "description_width": ""
      }
     },
     "329888423853465a8ef61afbfd05e08e": {
      "model_module": "@jupyter-widgets/base",
      "model_module_version": "1.2.0",
      "model_name": "LayoutModel",
      "state": {}
     },
     "341b899db1f646d4aa11cbb40fc560ad": {
      "model_module": "@jupyter-widgets/controls",
      "model_module_version": "1.5.0",
      "model_name": "HTMLModel",
      "state": {
       "layout": "IPY_MODEL_549ae41a929841d1af2da753cadabce7",
       "style": "IPY_MODEL_b8d7096da9454267888e0a3e8cb53355",
       "value": " 25193/25193 [00:04&lt;00:00, 5690.49it/s]"
      }
     },
     "3838f06d6943491c8b34db22ac7e37c6": {
      "model_module": "@jupyter-widgets/controls",
      "model_module_version": "1.5.0",
      "model_name": "HTMLModel",
      "state": {
       "layout": "IPY_MODEL_b8c329edc6634f5fa190234f75ca00c9",
       "style": "IPY_MODEL_e089d1d3261543c1a139f9ef2afbd10b",
       "value": "100%"
      }
     },
     "387a35f891b64c2b8d4fcb9945e559f1": {
      "model_module": "@jupyter-widgets/controls",
      "model_module_version": "1.5.0",
      "model_name": "HBoxModel",
      "state": {
       "children": [
        "IPY_MODEL_27a14134891e404391d385e50d58ba82",
        "IPY_MODEL_de6f068a8b4f4fed9e43e797ea2bf6b5",
        "IPY_MODEL_fd894a3e00a44fb2be4f6b388b4c429c"
       ],
       "layout": "IPY_MODEL_293d9046647b4505a4816ef578d224ee"
      }
     },
     "3cc5fe5402b64974b6d6972c659332cd": {
      "model_module": "@jupyter-widgets/controls",
      "model_module_version": "1.5.0",
      "model_name": "HTMLModel",
      "state": {
       "layout": "IPY_MODEL_329888423853465a8ef61afbfd05e08e",
       "style": "IPY_MODEL_a41c9f59db4e4b508b4f5d4c0e94e8c3",
       "value": " 25193/25193 [00:03&lt;00:00, 6080.92it/s]"
      }
     },
     "3d3c44005fcf4156b634ba5905e2ceb2": {
      "model_module": "@jupyter-widgets/controls",
      "model_module_version": "1.5.0",
      "model_name": "DescriptionStyleModel",
      "state": {
       "description_width": ""
      }
     },
     "4103cf0d63aa4def8e96b547f6c8fb06": {
      "model_module": "@jupyter-widgets/controls",
      "model_module_version": "1.5.0",
      "model_name": "DescriptionStyleModel",
      "state": {
       "description_width": ""
      }
     },
     "4310a86956e540d3b8f3434c232538eb": {
      "model_module": "@jupyter-widgets/base",
      "model_module_version": "1.2.0",
      "model_name": "LayoutModel",
      "state": {}
     },
     "440365f59bf3442d9aeea44d0d8b68e1": {
      "model_module": "@jupyter-widgets/controls",
      "model_module_version": "1.5.0",
      "model_name": "HTMLModel",
      "state": {
       "layout": "IPY_MODEL_2c9dc604f15b403590476c4036ff5bae",
       "style": "IPY_MODEL_3d3c44005fcf4156b634ba5905e2ceb2",
       "value": " 25193/25193 [00:03&lt;00:00, 6033.02it/s]"
      }
     },
     "476248ba97254e94b99ab107ab9fbced": {
      "model_module": "@jupyter-widgets/base",
      "model_module_version": "1.2.0",
      "model_name": "LayoutModel",
      "state": {}
     },
     "4a37e9d1cae94ff4abf69c00a3a0052f": {
      "model_module": "@jupyter-widgets/controls",
      "model_module_version": "1.5.0",
      "model_name": "HBoxModel",
      "state": {
       "children": [
        "IPY_MODEL_9ca52a2e5ff34bf09f4605fc529b1022",
        "IPY_MODEL_2e7c0e1a298a4ff3a02ba20682b559bb",
        "IPY_MODEL_9ca19fb10a3c4878b26a44459cf65644"
       ],
       "layout": "IPY_MODEL_73b5947f07d34c0195724728586cb675"
      }
     },
     "4b7fb8e64fae4822ac4deaae7991fd6d": {
      "model_module": "@jupyter-widgets/controls",
      "model_module_version": "1.5.0",
      "model_name": "HTMLModel",
      "state": {
       "layout": "IPY_MODEL_f6ac25ed0a6d4091949dae2169997f94",
       "style": "IPY_MODEL_8446cf4f8a0a45c9a9555dac4e9c4720",
       "value": "100%"
      }
     },
     "4e3803bc2ec6499c945a71ce255e409d": {
      "model_module": "@jupyter-widgets/base",
      "model_module_version": "1.2.0",
      "model_name": "LayoutModel",
      "state": {}
     },
     "4f9b450e7d8a4e7382c95c6fdbdeffcf": {
      "model_module": "@jupyter-widgets/controls",
      "model_module_version": "1.5.0",
      "model_name": "ProgressStyleModel",
      "state": {
       "description_width": ""
      }
     },
     "5027b81bd73f489987288bb7f66dcff4": {
      "model_module": "@jupyter-widgets/base",
      "model_module_version": "1.2.0",
      "model_name": "LayoutModel",
      "state": {}
     },
     "549ae41a929841d1af2da753cadabce7": {
      "model_module": "@jupyter-widgets/base",
      "model_module_version": "1.2.0",
      "model_name": "LayoutModel",
      "state": {}
     },
     "55f4c86a96644738a710a1967c5da5b2": {
      "model_module": "@jupyter-widgets/base",
      "model_module_version": "1.2.0",
      "model_name": "LayoutModel",
      "state": {}
     },
     "56f4e363ec9348b4b98dbd712a511e05": {
      "model_module": "@jupyter-widgets/controls",
      "model_module_version": "1.5.0",
      "model_name": "DescriptionStyleModel",
      "state": {
       "description_width": ""
      }
     },
     "579dda9589d34ee6990bd260dff1aa10": {
      "model_module": "@jupyter-widgets/controls",
      "model_module_version": "1.5.0",
      "model_name": "HTMLModel",
      "state": {
       "layout": "IPY_MODEL_476248ba97254e94b99ab107ab9fbced",
       "style": "IPY_MODEL_b278bf47bfcf46b395c7c793d103fc24",
       "value": "100%"
      }
     },
     "5ceef95d206641569831795ef565133b": {
      "model_module": "@jupyter-widgets/base",
      "model_module_version": "1.2.0",
      "model_name": "LayoutModel",
      "state": {}
     },
     "5d874121e6b04ec5bcbb8dc0a26ceba0": {
      "model_module": "@jupyter-widgets/controls",
      "model_module_version": "1.5.0",
      "model_name": "HTMLModel",
      "state": {
       "layout": "IPY_MODEL_d7c6dc3dd0f04e059ef16c885e03ab03",
       "style": "IPY_MODEL_56f4e363ec9348b4b98dbd712a511e05",
       "value": " 25193/25193 [00:05&lt;00:00, 4204.79it/s]"
      }
     },
     "64f3c7f8a996432ab5f97fc77170374c": {
      "model_module": "@jupyter-widgets/controls",
      "model_module_version": "1.5.0",
      "model_name": "FloatProgressModel",
      "state": {
       "bar_style": "success",
       "layout": "IPY_MODEL_4310a86956e540d3b8f3434c232538eb",
       "max": 25193,
       "style": "IPY_MODEL_ab8f72b8c1054550afc5bb19641afd31",
       "value": 25193
      }
     },
     "677d4d25f5864b619a64c34229367b9f": {
      "model_module": "@jupyter-widgets/base",
      "model_module_version": "1.2.0",
      "model_name": "LayoutModel",
      "state": {}
     },
     "6d407c1278d947b3af8052072cfa54cf": {
      "model_module": "@jupyter-widgets/controls",
      "model_module_version": "1.5.0",
      "model_name": "DescriptionStyleModel",
      "state": {
       "description_width": ""
      }
     },
     "72cbf7f0f1c64023aa470203be01bed0": {
      "model_module": "@jupyter-widgets/base",
      "model_module_version": "1.2.0",
      "model_name": "LayoutModel",
      "state": {}
     },
     "73b5947f07d34c0195724728586cb675": {
      "model_module": "@jupyter-widgets/base",
      "model_module_version": "1.2.0",
      "model_name": "LayoutModel",
      "state": {}
     },
     "77f0f4b1860f43499a13a6dcf96cfe5e": {
      "model_module": "@jupyter-widgets/controls",
      "model_module_version": "1.5.0",
      "model_name": "DescriptionStyleModel",
      "state": {
       "description_width": ""
      }
     },
     "7c9b4acdc4c74c6e98c592a084c8c9c1": {
      "model_module": "@jupyter-widgets/controls",
      "model_module_version": "1.5.0",
      "model_name": "HTMLModel",
      "state": {
       "layout": "IPY_MODEL_8faf901656844770a699e6fa355d2496",
       "style": "IPY_MODEL_b0ef30d302be42c09bcc6fc92dabfc4a",
       "value": "100%"
      }
     },
     "8446cf4f8a0a45c9a9555dac4e9c4720": {
      "model_module": "@jupyter-widgets/controls",
      "model_module_version": "1.5.0",
      "model_name": "DescriptionStyleModel",
      "state": {
       "description_width": ""
      }
     },
     "858ac756add44ebdaae57d036355e162": {
      "model_module": "@jupyter-widgets/controls",
      "model_module_version": "1.5.0",
      "model_name": "HBoxModel",
      "state": {
       "children": [
        "IPY_MODEL_3838f06d6943491c8b34db22ac7e37c6",
        "IPY_MODEL_85ce721ec6d44a16891376ee704f95f6",
        "IPY_MODEL_341b899db1f646d4aa11cbb40fc560ad"
       ],
       "layout": "IPY_MODEL_4e3803bc2ec6499c945a71ce255e409d"
      }
     },
     "85ce721ec6d44a16891376ee704f95f6": {
      "model_module": "@jupyter-widgets/controls",
      "model_module_version": "1.5.0",
      "model_name": "FloatProgressModel",
      "state": {
       "bar_style": "success",
       "layout": "IPY_MODEL_ca66978b92394bff93779b114756a553",
       "max": 25193,
       "style": "IPY_MODEL_2fd614aa3dd04a4c8dbf832b5d82f2a5",
       "value": 25193
      }
     },
     "86a3b7778e94492b9c8deee0a6a79a76": {
      "model_module": "@jupyter-widgets/controls",
      "model_module_version": "1.5.0",
      "model_name": "DescriptionStyleModel",
      "state": {
       "description_width": ""
      }
     },
     "8a1a977bc0f3431fbb611ddaaf7230fc": {
      "model_module": "@jupyter-widgets/controls",
      "model_module_version": "1.5.0",
      "model_name": "ProgressStyleModel",
      "state": {
       "description_width": ""
      }
     },
     "8adc88e38cae40169fac9a638b5093db": {
      "model_module": "@jupyter-widgets/controls",
      "model_module_version": "1.5.0",
      "model_name": "ProgressStyleModel",
      "state": {
       "description_width": ""
      }
     },
     "8bcb8de7d79d496486336ea8e15e6cc8": {
      "model_module": "@jupyter-widgets/base",
      "model_module_version": "1.2.0",
      "model_name": "LayoutModel",
      "state": {}
     },
     "8c7d9584c7174cbc936839ddfa905475": {
      "model_module": "@jupyter-widgets/base",
      "model_module_version": "1.2.0",
      "model_name": "LayoutModel",
      "state": {}
     },
     "8faf901656844770a699e6fa355d2496": {
      "model_module": "@jupyter-widgets/base",
      "model_module_version": "1.2.0",
      "model_name": "LayoutModel",
      "state": {}
     },
     "91403691cfd44a5bbb79b2d0a1165ba2": {
      "model_module": "@jupyter-widgets/controls",
      "model_module_version": "1.5.0",
      "model_name": "HBoxModel",
      "state": {
       "children": [
        "IPY_MODEL_4b7fb8e64fae4822ac4deaae7991fd6d",
        "IPY_MODEL_f134b604cba04650ba9901277644403f",
        "IPY_MODEL_f9fc18990ffc47e68d3a40b2582da0ed"
       ],
       "layout": "IPY_MODEL_e5077db191af44ca8362c340d8f82427"
      }
     },
     "933002b0c22d4cc08f627a4325b2e6ae": {
      "model_module": "@jupyter-widgets/base",
      "model_module_version": "1.2.0",
      "model_name": "LayoutModel",
      "state": {}
     },
     "9711bb1b99ac46e0bc4e1f5ebd3f791c": {
      "model_module": "@jupyter-widgets/controls",
      "model_module_version": "1.5.0",
      "model_name": "DescriptionStyleModel",
      "state": {
       "description_width": ""
      }
     },
     "9ca19fb10a3c4878b26a44459cf65644": {
      "model_module": "@jupyter-widgets/controls",
      "model_module_version": "1.5.0",
      "model_name": "HTMLModel",
      "state": {
       "layout": "IPY_MODEL_dd01eff489a844c3b8d0b1bb75f5d69e",
       "style": "IPY_MODEL_06ca90a9962e487ca6a114c14bd171bb",
       "value": " 25193/25193 [00:05&lt;00:00, 4238.73it/s]"
      }
     },
     "9ca52a2e5ff34bf09f4605fc529b1022": {
      "model_module": "@jupyter-widgets/controls",
      "model_module_version": "1.5.0",
      "model_name": "HTMLModel",
      "state": {
       "layout": "IPY_MODEL_8bcb8de7d79d496486336ea8e15e6cc8",
       "style": "IPY_MODEL_0c3c4897871342eca3cc1c38e35b9720",
       "value": "100%"
      }
     },
     "a1124ab3f03b4d4e8be5c00e7875bd89": {
      "model_module": "@jupyter-widgets/base",
      "model_module_version": "1.2.0",
      "model_name": "LayoutModel",
      "state": {}
     },
     "a1b7ff57daf84ade86fb9506407be5a3": {
      "model_module": "@jupyter-widgets/controls",
      "model_module_version": "1.5.0",
      "model_name": "HTMLModel",
      "state": {
       "layout": "IPY_MODEL_bd287207522b4375ac88fbb9d95bd473",
       "style": "IPY_MODEL_9711bb1b99ac46e0bc4e1f5ebd3f791c",
       "value": "100%"
      }
     },
     "a3ee2fc7c5ba4dbbaf31cbe919e717a0": {
      "model_module": "@jupyter-widgets/base",
      "model_module_version": "1.2.0",
      "model_name": "LayoutModel",
      "state": {}
     },
     "a41c9f59db4e4b508b4f5d4c0e94e8c3": {
      "model_module": "@jupyter-widgets/controls",
      "model_module_version": "1.5.0",
      "model_name": "DescriptionStyleModel",
      "state": {
       "description_width": ""
      }
     },
     "a5def06da86244478deda382ae3ab0e3": {
      "model_module": "@jupyter-widgets/controls",
      "model_module_version": "1.5.0",
      "model_name": "HBoxModel",
      "state": {
       "children": [
        "IPY_MODEL_7c9b4acdc4c74c6e98c592a084c8c9c1",
        "IPY_MODEL_19d9451d96134be58aa368bc27ca9a12",
        "IPY_MODEL_b70ff499cd20451985c50f4254c7aa80"
       ],
       "layout": "IPY_MODEL_dd1b7b64cc2e4ff5bf1f361b92f6027d"
      }
     },
     "a5f66b4c3933465c87b1aa1b1c641045": {
      "model_module": "@jupyter-widgets/controls",
      "model_module_version": "1.5.0",
      "model_name": "ProgressStyleModel",
      "state": {
       "description_width": ""
      }
     },
     "a6e1431651eb4797b1acb85f50599b54": {
      "model_module": "@jupyter-widgets/controls",
      "model_module_version": "1.5.0",
      "model_name": "HBoxModel",
      "state": {
       "children": [
        "IPY_MODEL_c4cbdd98d0fd438b91c36f152447bfb3",
        "IPY_MODEL_307d89b508aa4cf68fca649875ce2482",
        "IPY_MODEL_3cc5fe5402b64974b6d6972c659332cd"
       ],
       "layout": "IPY_MODEL_1e0d01dc70fd44e4a8192a053c42d33f"
      }
     },
     "a895e0dd67b448dfa26f04e792c6b5ff": {
      "model_module": "@jupyter-widgets/base",
      "model_module_version": "1.2.0",
      "model_name": "LayoutModel",
      "state": {}
     },
     "ab8f72b8c1054550afc5bb19641afd31": {
      "model_module": "@jupyter-widgets/controls",
      "model_module_version": "1.5.0",
      "model_name": "ProgressStyleModel",
      "state": {
       "description_width": ""
      }
     },
     "abbaf530f076427ca880cb47fcc466c7": {
      "model_module": "@jupyter-widgets/controls",
      "model_module_version": "1.5.0",
      "model_name": "ProgressStyleModel",
      "state": {
       "description_width": ""
      }
     },
     "ac7e0681179a46249890d1f28d4116bc": {
      "model_module": "@jupyter-widgets/base",
      "model_module_version": "1.2.0",
      "model_name": "LayoutModel",
      "state": {}
     },
     "b0ef30d302be42c09bcc6fc92dabfc4a": {
      "model_module": "@jupyter-widgets/controls",
      "model_module_version": "1.5.0",
      "model_name": "DescriptionStyleModel",
      "state": {
       "description_width": ""
      }
     },
     "b278bf47bfcf46b395c7c793d103fc24": {
      "model_module": "@jupyter-widgets/controls",
      "model_module_version": "1.5.0",
      "model_name": "DescriptionStyleModel",
      "state": {
       "description_width": ""
      }
     },
     "b5e737fe052b4294a3d5b3cd92966054": {
      "model_module": "@jupyter-widgets/controls",
      "model_module_version": "1.5.0",
      "model_name": "DescriptionStyleModel",
      "state": {
       "description_width": ""
      }
     },
     "b70ff499cd20451985c50f4254c7aa80": {
      "model_module": "@jupyter-widgets/controls",
      "model_module_version": "1.5.0",
      "model_name": "HTMLModel",
      "state": {
       "layout": "IPY_MODEL_a1124ab3f03b4d4e8be5c00e7875bd89",
       "style": "IPY_MODEL_4103cf0d63aa4def8e96b547f6c8fb06",
       "value": " 25193/25193 [00:06&lt;00:00, 3786.04it/s]"
      }
     },
     "b8c329edc6634f5fa190234f75ca00c9": {
      "model_module": "@jupyter-widgets/base",
      "model_module_version": "1.2.0",
      "model_name": "LayoutModel",
      "state": {}
     },
     "b8d7096da9454267888e0a3e8cb53355": {
      "model_module": "@jupyter-widgets/controls",
      "model_module_version": "1.5.0",
      "model_name": "DescriptionStyleModel",
      "state": {
       "description_width": ""
      }
     },
     "b998f5bb296a49f3be8a51b176cb1fa9": {
      "model_module": "@jupyter-widgets/controls",
      "model_module_version": "1.5.0",
      "model_name": "HBoxModel",
      "state": {
       "children": [
        "IPY_MODEL_2e32bf7e4a5048b9b17665136a9e240f",
        "IPY_MODEL_64f3c7f8a996432ab5f97fc77170374c",
        "IPY_MODEL_440365f59bf3442d9aeea44d0d8b68e1"
       ],
       "layout": "IPY_MODEL_f5878c0b60ca40a4b3654038517acbfc"
      }
     },
     "bb97364b26ae43ee85d5ecd5b6ea78f0": {
      "model_module": "@jupyter-widgets/controls",
      "model_module_version": "1.5.0",
      "model_name": "HBoxModel",
      "state": {
       "children": [
        "IPY_MODEL_06bd12e5ce94498aa9589c3df167c721",
        "IPY_MODEL_194d05d1599048cb9225d70da7f04548",
        "IPY_MODEL_d014c0a57b9d4b2b84ba096d85943f58"
       ],
       "layout": "IPY_MODEL_8c7d9584c7174cbc936839ddfa905475"
      }
     },
     "bd287207522b4375ac88fbb9d95bd473": {
      "model_module": "@jupyter-widgets/base",
      "model_module_version": "1.2.0",
      "model_name": "LayoutModel",
      "state": {}
     },
     "befeb11dea3c4353b53ace6d35d0468c": {
      "model_module": "@jupyter-widgets/base",
      "model_module_version": "1.2.0",
      "model_name": "LayoutModel",
      "state": {}
     },
     "c4cbdd98d0fd438b91c36f152447bfb3": {
      "model_module": "@jupyter-widgets/controls",
      "model_module_version": "1.5.0",
      "model_name": "HTMLModel",
      "state": {
       "layout": "IPY_MODEL_a3ee2fc7c5ba4dbbaf31cbe919e717a0",
       "style": "IPY_MODEL_6d407c1278d947b3af8052072cfa54cf",
       "value": "100%"
      }
     },
     "c68418dd548040dcaaf7a5cd0d3c44a3": {
      "model_module": "@jupyter-widgets/controls",
      "model_module_version": "1.5.0",
      "model_name": "DescriptionStyleModel",
      "state": {
       "description_width": ""
      }
     },
     "ca66978b92394bff93779b114756a553": {
      "model_module": "@jupyter-widgets/base",
      "model_module_version": "1.2.0",
      "model_name": "LayoutModel",
      "state": {}
     },
     "caf3e7d0e0b64a169f54eabe4c30297b": {
      "model_module": "@jupyter-widgets/base",
      "model_module_version": "1.2.0",
      "model_name": "LayoutModel",
      "state": {}
     },
     "d014c0a57b9d4b2b84ba096d85943f58": {
      "model_module": "@jupyter-widgets/controls",
      "model_module_version": "1.5.0",
      "model_name": "HTMLModel",
      "state": {
       "layout": "IPY_MODEL_e5dea004ddbe4197b7852eed0f414ca4",
       "style": "IPY_MODEL_86a3b7778e94492b9c8deee0a6a79a76",
       "value": " 25193/25193 [00:06&lt;00:00, 3710.32it/s]"
      }
     },
     "d0cb9cf377e049868370ce83e0903d55": {
      "model_module": "@jupyter-widgets/base",
      "model_module_version": "1.2.0",
      "model_name": "LayoutModel",
      "state": {}
     },
     "d513c35de5fc4b97a3a355e9183f2fc3": {
      "model_module": "@jupyter-widgets/controls",
      "model_module_version": "1.5.0",
      "model_name": "HBoxModel",
      "state": {
       "children": [
        "IPY_MODEL_a1b7ff57daf84ade86fb9506407be5a3",
        "IPY_MODEL_e448b185f48a45c182b320cbc71c9c86",
        "IPY_MODEL_5d874121e6b04ec5bcbb8dc0a26ceba0"
       ],
       "layout": "IPY_MODEL_677d4d25f5864b619a64c34229367b9f"
      }
     },
     "d7c6dc3dd0f04e059ef16c885e03ab03": {
      "model_module": "@jupyter-widgets/base",
      "model_module_version": "1.2.0",
      "model_name": "LayoutModel",
      "state": {}
     },
     "d8b5e064ca604557bcc067f2021d39de": {
      "model_module": "@jupyter-widgets/controls",
      "model_module_version": "1.5.0",
      "model_name": "DescriptionStyleModel",
      "state": {
       "description_width": ""
      }
     },
     "dd01eff489a844c3b8d0b1bb75f5d69e": {
      "model_module": "@jupyter-widgets/base",
      "model_module_version": "1.2.0",
      "model_name": "LayoutModel",
      "state": {}
     },
     "dd1b7b64cc2e4ff5bf1f361b92f6027d": {
      "model_module": "@jupyter-widgets/base",
      "model_module_version": "1.2.0",
      "model_name": "LayoutModel",
      "state": {}
     },
     "de6f068a8b4f4fed9e43e797ea2bf6b5": {
      "model_module": "@jupyter-widgets/controls",
      "model_module_version": "1.5.0",
      "model_name": "FloatProgressModel",
      "state": {
       "bar_style": "success",
       "layout": "IPY_MODEL_fd50a73799c340b48e3df9014f95ded0",
       "max": 25193,
       "style": "IPY_MODEL_171ec7bdb1fc41dc94945219f6d11650",
       "value": 25193
      }
     },
     "e089d1d3261543c1a139f9ef2afbd10b": {
      "model_module": "@jupyter-widgets/controls",
      "model_module_version": "1.5.0",
      "model_name": "DescriptionStyleModel",
      "state": {
       "description_width": ""
      }
     },
     "e327dad9f91546cdaf5ce66c84540f46": {
      "model_module": "@jupyter-widgets/base",
      "model_module_version": "1.2.0",
      "model_name": "LayoutModel",
      "state": {}
     },
     "e448b185f48a45c182b320cbc71c9c86": {
      "model_module": "@jupyter-widgets/controls",
      "model_module_version": "1.5.0",
      "model_name": "FloatProgressModel",
      "state": {
       "bar_style": "success",
       "layout": "IPY_MODEL_d0cb9cf377e049868370ce83e0903d55",
       "max": 25193,
       "style": "IPY_MODEL_a5f66b4c3933465c87b1aa1b1c641045",
       "value": 25193
      }
     },
     "e5077db191af44ca8362c340d8f82427": {
      "model_module": "@jupyter-widgets/base",
      "model_module_version": "1.2.0",
      "model_name": "LayoutModel",
      "state": {}
     },
     "e5dea004ddbe4197b7852eed0f414ca4": {
      "model_module": "@jupyter-widgets/base",
      "model_module_version": "1.2.0",
      "model_name": "LayoutModel",
      "state": {}
     },
     "f134b604cba04650ba9901277644403f": {
      "model_module": "@jupyter-widgets/controls",
      "model_module_version": "1.5.0",
      "model_name": "FloatProgressModel",
      "state": {
       "bar_style": "success",
       "layout": "IPY_MODEL_a895e0dd67b448dfa26f04e792c6b5ff",
       "max": 25193,
       "style": "IPY_MODEL_4f9b450e7d8a4e7382c95c6fdbdeffcf",
       "value": 25193
      }
     },
     "f5878c0b60ca40a4b3654038517acbfc": {
      "model_module": "@jupyter-widgets/base",
      "model_module_version": "1.2.0",
      "model_name": "LayoutModel",
      "state": {}
     },
     "f6ac25ed0a6d4091949dae2169997f94": {
      "model_module": "@jupyter-widgets/base",
      "model_module_version": "1.2.0",
      "model_name": "LayoutModel",
      "state": {}
     },
     "f9fc18990ffc47e68d3a40b2582da0ed": {
      "model_module": "@jupyter-widgets/controls",
      "model_module_version": "1.5.0",
      "model_name": "HTMLModel",
      "state": {
       "layout": "IPY_MODEL_55f4c86a96644738a710a1967c5da5b2",
       "style": "IPY_MODEL_2f0011bd00a74b288a575e4bc3ad4ea0",
       "value": " 25193/25193 [00:06&lt;00:00, 4902.04it/s]"
      }
     },
     "fab4a5512e5b4107adfe5a28171ee3d4": {
      "model_module": "@jupyter-widgets/controls",
      "model_module_version": "1.5.0",
      "model_name": "HBoxModel",
      "state": {
       "children": [
        "IPY_MODEL_579dda9589d34ee6990bd260dff1aa10",
        "IPY_MODEL_01c13405180a45d1b64cd914d990face",
        "IPY_MODEL_0d4584ea8cf041768f2a8161250da344"
       ],
       "layout": "IPY_MODEL_5ceef95d206641569831795ef565133b"
      }
     },
     "fd50a73799c340b48e3df9014f95ded0": {
      "model_module": "@jupyter-widgets/base",
      "model_module_version": "1.2.0",
      "model_name": "LayoutModel",
      "state": {}
     },
     "fd894a3e00a44fb2be4f6b388b4c429c": {
      "model_module": "@jupyter-widgets/controls",
      "model_module_version": "1.5.0",
      "model_name": "HTMLModel",
      "state": {
       "layout": "IPY_MODEL_caf3e7d0e0b64a169f54eabe4c30297b",
       "style": "IPY_MODEL_b5e737fe052b4294a3d5b3cd92966054",
       "value": " 25193/25193 [01:34&lt;00:00, 82.86it/s]"
      }
     }
    },
    "version_major": 2,
    "version_minor": 0
   }
  }
 },
 "nbformat": 4,
 "nbformat_minor": 4
}
