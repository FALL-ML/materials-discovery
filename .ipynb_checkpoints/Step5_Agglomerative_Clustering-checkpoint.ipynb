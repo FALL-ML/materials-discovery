{
 "cells": [
  {
   "cell_type": "code",
   "execution_count": 1,
   "metadata": {},
   "outputs": [],
   "source": [
    "import os\n",
    "import math\n",
    "import pickle\n",
    "# import time\n",
    "\n",
    "import numpy as np\n",
    "import pandas as pd\n",
    "import matplotlib.pyplot as plt\n",
    "\n",
    "# from pymatgen.io import ase\n",
    "# from ase import atoms\n",
    "# from ase.io import read, write\n",
    "\n",
    "from tqdm import notebook as tqdm\n",
    "\n",
    "from scipy.sparse import csr_matrix\n",
    "from scipy.sparse import hstack\n",
    "# from sklearn.decomposition import IncrementalPCA\n",
    "\n",
    "from scipy.cluster.hierarchy import dendrogram\n",
    "from scipy.cluster.hierarchy import fcluster\n",
    "from scipy.cluster import hierarchy\n",
    "import scipy.spatial.distance as ssd\n",
    "from sklearn import metrics as skmetrics\n",
    "\n",
    "%matplotlib widget"
   ]
  },
  {
   "cell_type": "code",
   "execution_count": 2,
   "metadata": {},
   "outputs": [],
   "source": [
    "class Agglomerative_Clustering:\n",
    "    \"\"\"\n",
    "    A class to handle agglomerative clustering for each of the features. \n",
    "\n",
    "    ...\n",
    "\n",
    "    Attributes\n",
    "    ----------\n",
    "    valid_features_df_path : str\n",
    "        The location of the valid_features_df.pkl file. \n",
    "    \n",
    "    labels_df_path : str\n",
    "        The location of the labels_df.pkl file. \n",
    "\n",
    "    saved_features_path : str\n",
    "        The directory where the sparse features are saved.\n",
    "        \n",
    "    results_df_path : str\n",
    "        The location where the results should be saved: results_df.pkl.  \n",
    "        \n",
    "    valid_features_df : pd.DataFrame\n",
    "        A dataframe that contains booleans indicating whether or not a structure-feature combination is error free. \n",
    "        \n",
    "    labels_df : pd.DataFrame\n",
    "        A dataframe containing the labeled data (i.e., conductivity and BVSE values). \n",
    "        \n",
    "    results_df : pd.DataFrame\n",
    "        A dataframe containing the results from the agglomerative clustering. \n",
    "        \n",
    "    feature_map : list\n",
    "        A list of all the feature files in the saved_features_path directory. These should be the sparse representations. \n",
    "\n",
    "    Methods\n",
    "    -------\n",
    "    list_features():\n",
    "        Set the mode that the class operates in. Each move corresponds to one of the nine structure representations. \n",
    "        \n",
    "    feature_merger(selection, multiplication_factor, valid_features_df, labels_df, feature_map, common_labels):\n",
    "        Takes the requested features, multiplies them by a given factor, and merges them together into a combined feature vector. \n",
    "        \n",
    "    distance_matrix_calculator(sparse_features):\n",
    "        Uses skmetrics.pairwise_distances_chunked to calculate the distance matrix on the sparse represenatation of the feature vector. \n",
    "    \n",
    "    augmented_dendrogram(*args, **kwargs):\n",
    "        A wrapper for scipy.cluster.hierarchy.dendrogram that allows for dendrogram customization. \n",
    "    \n",
    "    clustering(ddata, linkage_matrix, periods=2):\n",
    "        Applies scipy.cluster.hierarchy.fcluster to the linkage matrix to return the cluster labels for each level of clustering. \n",
    "    \n",
    "    conductivity_variance_calculation(valid_labels_df, cluster_sets):\n",
    "        Given the cluster assignment at each clustering level, the intracluster conductivity variance is calculated from the labels. \n",
    "    \n",
    "    bvse_variance_calculation(valid_labels_df, cluster_sets):\n",
    "        Given the cluster assignment at each clustering level, the intracluster BVSE variance is calculated from the labels. \n",
    "    \n",
    "    save_results(selection, multiplier, cluster_sets, conductivity_variance_by_cluster, bvse_variance_by_cluster, ddata, linkage_matrix):\n",
    "        Save the agglomerative clustering results in a pandas dataframe using pickle.\n",
    "    \n",
    "    run_clustering(feature_selector_list, multiplier_list, common_labels=True):\n",
    "        A wrapper which runs the entire agglomerative clustering routine using the methods above. \n",
    "        \n",
    "    \"\"\"\n",
    "    def __init__(self, valid_features_df_path, labels_df_path, saved_features_path, results_df_path):\n",
    "        self.valid_features_df_path = valid_features_df_path\n",
    "        self.labels_df_path = labels_df_path\n",
    "        self.saved_features_path = saved_features_path\n",
    "        self.results_df_path = results_df_path\n",
    "        \n",
    "        # load in the valid_features_df\n",
    "        open_file = open(self.valid_features_df_path, 'rb')\n",
    "        self.valid_features_df = pickle.load(open_file)\n",
    "        open_file.close()\n",
    "\n",
    "        # load in the labels_df\n",
    "        open_file = open(self.labels_df_path, 'rb')\n",
    "        self.labels_df = pickle.load(open_file)\n",
    "        open_file.close()\n",
    "        \n",
    "        # grab all features from the repository\n",
    "        self.feature_map = []\n",
    "        files = os.listdir(self.saved_features_path)\n",
    "        for file in files:\n",
    "            self.feature_map.append(file)\n",
    "        \n",
    "        # either create a fresh results_df or load one ine\n",
    "        try:\n",
    "            # load in the results_df\n",
    "            open_file = open(self.results_df_path, 'rb')\n",
    "            self.results_df = pickle.load(open_file)\n",
    "            open_file.close()\n",
    "        except:\n",
    "            self.results_df = pd.DataFrame(columns=['feature0', 'multiplier0', 'feature1', 'multiplier1', 'conductivity_variance', 'bvse_variance', 'cluster_sets', 'ddata', 'linkage_matrix'])\n",
    "\n",
    "    def list_features(self):\n",
    "        \"\"\"\n",
    "        Prints feature_map attribute with the associated indices. \n",
    "        This allows the user to choose which features will be used. \n",
    "        \"\"\"      \n",
    "        for idx, feature in enumerate(self.feature_map):\n",
    "            print(\"{} - {}\".format(idx, feature[0:-4]))\n",
    "            \n",
    "   \n",
    "    def feature_merger(self, selection, multiplication_factor, valid_features_df, labels_df, feature_map, common_labels = True):\n",
    "        \"\"\"\n",
    "        The function takes a 1D list of selected features and a 1D list of multiplication factors. Each feature\n",
    "        is multiplied by the corresponding entry in the multiplication list. The multiplied features are then merged to \n",
    "        form a composite feature vector. A sparse representation is returned. \n",
    "\n",
    "        Parameters\n",
    "        ----------\n",
    "        selection : list,1D\n",
    "            A list of the features that will be merged. The list should be of the form: [x] or [x, y].\n",
    "            The former representation simply returns the feature x.\n",
    "            The latter representation would combine features x and y togther to make a composite feature vector.  \n",
    "            The numbers are mapped to their feature through the feature_map list (described below). \n",
    "\n",
    "        multiplication_factor : list,1D\n",
    "            A list of multipliers that will be applied to the selected features. This allows the features\n",
    "            to be mixed in different ratios.  \n",
    "\n",
    "        valid_features_df : pd.DataFrame\n",
    "            The pandas dataframe containing boolean entries for all feature-structure combinations. And also\n",
    "            a final column that is the logical.AND of all the columns (i.e., the structures that will work\n",
    "            for every single feature representation). \n",
    "\n",
    "        feature_map : list\n",
    "            The list of sparse features saved in the feature directory. The function uses this to map\n",
    "            the numeric selections into the desired features. \n",
    "\n",
    "        common_labels : boolean\n",
    "            If true, then the structures that are safe for all features representations will be used. \n",
    "            If false, then the structures that are safe only for the supplied features (in the selection list)\n",
    "            will be used. \n",
    "\n",
    "        Returns\n",
    "        -------\n",
    "        sparse_features : scipy.sparse.csr.csr_matrix\n",
    "            The combined features of interest in a sparse matrix. \n",
    "\n",
    "        valid_labels_df : pd.DataFrame\n",
    "            A dataframe only containing the rows that are valid for the feature representation. \n",
    "        \"\"\"      \n",
    "        sparse_features = []\n",
    "        feature_names = []\n",
    "        for idx, feature_number in enumerate(tqdm.tqdm(selection, desc='Merging Features')):\n",
    "            feature_path = feature_map[feature_number]\n",
    "            feature_names.append(feature_path[0:-4])\n",
    "            save_path = '{}{}'.format(self.saved_features_path, feature_path)\n",
    "            open_file = open(save_path, 'rb')\n",
    "            temp_instance = pickle.load(open_file)\n",
    "            open_file.close()\n",
    "            sparse_features.append(temp_instance*multiplication_factor[idx])\n",
    "\n",
    "        if common_labels:\n",
    "            valid_rows = valid_features_df.compiled\n",
    "        else: \n",
    "            valid_rows = valid_features_df.loc[:, feature_names].all(axis=1)\n",
    "\n",
    "        sparse_features = hstack(sparse_features, format='csr')[valid_rows]\n",
    "        valid_labels_df = labels_df.loc[valid_rows, :].copy()\n",
    "\n",
    "        return sparse_features, valid_labels_df\n",
    "    \n",
    "    \n",
    "    def distance_matrix_calculator(self, sparse_features):\n",
    "        \"\"\"\n",
    "        Function to take the sparse features and calculate the distance matrix. The distance matrix\n",
    "        can be used to construct the agglomerative clustering representation. \n",
    "\n",
    "        Parameters\n",
    "        ----------\n",
    "        sparse_features : scipy.sparse.csr.csr_matrix\n",
    "            The combined features of interest in a sparse matrix. \n",
    "\n",
    "        Returns\n",
    "        -------\n",
    "        ssd.squareform(distance_matrix) : np.array\n",
    "            The squareform of the distance matrix. \n",
    "            \"\"\"      \n",
    "        distance = skmetrics.pairwise_distances_chunked(sparse_features, n_jobs=63, working_memory=1000)\n",
    "        distance_matrix = next(distance)\n",
    "\n",
    "        while True:\n",
    "            try:\n",
    "                distance_matrix = np.concatenate((distance_matrix, next(distance)), axis=0)\n",
    "            except StopIteration:\n",
    "                break  # Iterator exhausted: stop the loop\n",
    "\n",
    "        distance_matrix = (distance_matrix+distance_matrix.T)/2\n",
    "        return ssd.squareform(distance_matrix)\n",
    "    \n",
    "    \n",
    "    def augmented_dendrogram(self, *args, **kwargs):\n",
    "        \"\"\"\n",
    "        A wrapper for the scipy.cluster.hierarchy.dendrogram method. The dendrogram method is used to \n",
    "        construct the agglomerative dendrogram after applying the scipy.cluster.hierarchy.linkage method to the distance matrix. \n",
    "        \n",
    "        Returns\n",
    "        -------\n",
    "        ddata : np.array\n",
    "            The agglomerative dendrogram found by applying the scipy.cluster.hierarchy.dendrogram\n",
    "            method to the linkage matrix.\n",
    "        \"\"\" \n",
    "        max_d = kwargs.pop('max_d', None)\n",
    "        if max_d and 'color_threshold' not in kwargs:\n",
    "            kwargs['color_threshold'] = max_d\n",
    "        annotate_above = kwargs.pop('annotate_above', 0)\n",
    "\n",
    "        ddata = dendrogram(*args, **kwargs)\n",
    "\n",
    "        if not kwargs.get('no_plot', False):\n",
    "            plt.title('Hierarchical Clustering Dendrogram (truncated)')\n",
    "            plt.xlabel('sample index or (cluster size)')\n",
    "            plt.ylabel('distance')\n",
    "            for i, d, c in zip(ddata['icoord'], ddata['dcoord'], ddata['color_list']):\n",
    "                x = 0.5 * sum(i[1:3])\n",
    "                y = d[1]\n",
    "                if y > annotate_above:\n",
    "                    plt.plot(x, y, 'o', c=c)\n",
    "            if max_d:\n",
    "                plt.axhline(y=max_d, c='k')\n",
    "        return ddata\n",
    "    \n",
    "    \n",
    "    def clustering(self, ddata, linkage_matrix, periods=2):\n",
    "        \"\"\"\n",
    "        The function uses the agglomerative dendrogram and the linkage matrix to determine which structures are labeled\n",
    "        with which clusters at each level of clustering. \n",
    "\n",
    "        Parameters\n",
    "        ----------\n",
    "        ddata : np.array\n",
    "            The agglomerative dendrogram found by applying the scipy.cluster.hierarchy.dendrogram\n",
    "            method to the linkage matrix.\n",
    "\n",
    "        linkage_matrix : np.array\n",
    "            The linkage matrix found by applying the scipy.cluster.hierarchy.linkage method to\n",
    "            the distance matrix. \n",
    "\n",
    "        periods : int\n",
    "            Used to calculate the midpoint positions in the agglomerative dendrogram. Should be set \n",
    "            to 2 for branches that split in two. \n",
    "\n",
    "        Returns\n",
    "        -------\n",
    "        cluster_sets : np.array\n",
    "            The assignment of each structure to a cluster, for each level of clustering. \n",
    "        \"\"\"\n",
    "        dcoord = np.array(ddata['dcoord'])\n",
    "        offset_points = np.sort(dcoord[:,1])[::-1]\n",
    "        weights = np.ones(periods) / periods\n",
    "        average_midpoints =  np.convolve(offset_points, weights, mode='valid')\n",
    "\n",
    "        # create an initial row where everything is in cluster #1\n",
    "        cluster_sets = [np.ones(np.shape(linkage_matrix)[0]+1, dtype=np.int32)]\n",
    "\n",
    "        for max_d in average_midpoints:\n",
    "            clusters = fcluster(linkage_matrix, max_d, criterion='distance')\n",
    "            cluster_sets.append(clusters)\n",
    "\n",
    "        cluster_sets = np.array(cluster_sets)\n",
    "\n",
    "        return cluster_sets\n",
    "    \n",
    "    \n",
    "    def conductivity_variance_calculation(self, valid_labels_df, cluster_sets): \n",
    "        \"\"\"\n",
    "        Given the assignment of labeled structures into each cluster, this method\n",
    "        calculates the intracluster conductivity variance. The calculation is done \n",
    "        for each level of clustering. A frozen state strategy is used:\n",
    "        (1) calculations start at the lowest level of clustering (i.e. 2 clusters)\n",
    "        (2) at each level the partial variance is calculated for each label and then saved in a 'current_state' column\n",
    "        (3) the partial variances will be summed to give the total intracluster variance\n",
    "        (4) however, before summation, the labels are examined to see if any have been sorted into a cluster by themselves\n",
    "            (i.e. without any other labels).\n",
    "        (5) labels sorted by themselves would result in 0 partial variance. Instead, these labels are reverted to the \n",
    "            'previous_state' which is just the 'current_state' column from the previous clustering level\n",
    "        \n",
    "        Parameters\n",
    "        ----------\n",
    "        valid_labels_df : pd.DataFrame\n",
    "            A dataframe only containing the rows that are valid for the feature representation.\n",
    "\n",
    "        cluster_sets : np.array\n",
    "            The assignment of each structure to a cluster, for each level of clustering. \n",
    "\n",
    "        Returns\n",
    "        -------\n",
    "        variance_by_cluster : np.array\n",
    "            The intracluster conductivity variance at each level of clustering. \n",
    "        \"\"\"\n",
    "        # create four new columns in the dataframe\n",
    "        valid_labels_df['log_conductivity'] = None\n",
    "        valid_labels_df['partial_variance'] = 0\n",
    "        valid_labels_df['partial_variance_previous_state'] = 0\n",
    "        valid_labels_df['cluster'] = 0\n",
    "\n",
    "        # take the log10 conductivity and populate the 'log_conductivity' column\n",
    "        mask = valid_labels_df['conductivity']>0\n",
    "        temp_df = valid_labels_df.loc[mask, 'conductivity']\n",
    "        valid_labels_df.loc[mask, 'log_conductivity'] = temp_df.apply(lambda x: np.log10(x))\n",
    "\n",
    "        # make a list to store the calculations in\n",
    "        variance_by_cluster = []\n",
    "\n",
    "        # iterate through the clustering sets, starting at 1 cluster\n",
    "        for cluster_set in tqdm.tqdm(cluster_sets, desc='Calculating Conductivity Variance'):\n",
    "            # label all the rows with their cluster\n",
    "            valid_labels_df['cluster'] = cluster_set\n",
    "\n",
    "            # groupby method to count the number of labels in each cluster\n",
    "            cluster_counts = valid_labels_df.groupby('cluster').count()['conductivity']\n",
    "\n",
    "            # groupby method to determine the log_conductivity mean for each cluster\n",
    "            cluster_means = valid_labels_df.groupby('cluster')['log_conductivity'].mean()\n",
    "\n",
    "             # helper function for calculating the partial variance. Used by pd.DataFrame.apply() in the variance_calculation function\n",
    "            def partial_variance_helper(row, cluster_means, cluster_counts):\n",
    "                return (row['log_conductivity']-cluster_means[row['cluster']])**2\n",
    "\n",
    "            # calculate the partial variance for each row with a conductivity value\n",
    "            mask = valid_labels_df['conductivity']>0\n",
    "            temp_df = valid_labels_df[mask]\n",
    "            valid_labels_df.loc[mask, 'partial_variance'] = temp_df.apply(partial_variance_helper,  axis=1, args=([cluster_means, cluster_counts]))\n",
    "\n",
    "            # create a dataframe just with the variance labels\n",
    "            variance_df = valid_labels_df[valid_labels_df['conductivity']>0].loc[:, ['cluster', 'partial_variance']]\n",
    "\n",
    "            # group the variance_df by cluster\n",
    "            cluster_grouping = variance_df.groupby('cluster')\n",
    "\n",
    "            # find the clusters that contain <=1 label. These are the frozen clusters. Return the index for the labels in the frozen clusters. \n",
    "            frozen_groups = variance_df.groupby('cluster').count()[(variance_df.groupby('cluster').count()<=1).values]\n",
    "            frozen_idx = [idx for sublist in [cluster_grouping.groups[x].values.tolist() for x in frozen_groups.index.values] for idx in sublist]\n",
    "\n",
    "            # return all frozen rows to their previous value\n",
    "            valid_labels_df.loc[frozen_idx, 'partial_variance'] = valid_labels_df.loc[frozen_idx, 'partial_variance_previous_state']\n",
    "\n",
    "            # calculate the intracluster conductivity variance. This is just the sum of the partial variance column\n",
    "            variance_by_cluster.append(valid_labels_df.partial_variance.sum())\n",
    "\n",
    "            # update the frozen state before moving to the next iteration\n",
    "            valid_labels_df.loc[:, 'partial_variance_previous_state'] = valid_labels_df.loc[:, 'partial_variance']\n",
    "\n",
    "        return variance_by_cluster\n",
    "\n",
    "    \n",
    "    def bvse_variance_calculation(self, valid_labels_df, cluster_sets):\n",
    "        \"\"\"\n",
    "        Given the assignment of labeled structures into each cluster, this method\n",
    "        calculates the intracluster bvse variance. The calculation is done \n",
    "        for each level of clustering. A frozen state strategy is used:\n",
    "        (1) calculations start at the lowest level of clustering (i.e. 2 clusters)\n",
    "        (2) at each level the partial variance is calculated for each label and then saved in a 'current_state' column\n",
    "        (3) the partial variances will be summed to give the total intracluster variance\n",
    "        (4) however, before summation, the labels are examined to see if any have been sorted into a cluster by themselves\n",
    "            (i.e. without any other labels).\n",
    "        (5) labels sorted by themselves would result in 0 partial variance. Instead, these labels are reverted to the \n",
    "            'previous_state' which is just the 'current_state' column from the previous clustering level\n",
    "        \n",
    "        Parameters\n",
    "        ----------\n",
    "        valid_labels_df : pd.DataFrame\n",
    "            A dataframe only containing the rows that are valid for the feature representation.\n",
    "\n",
    "        cluster_sets : np.array\n",
    "            The assignment of each structure to a cluster, for each level of clustering. \n",
    "\n",
    "        Returns\n",
    "        -------\n",
    "        variance_by_cluster : np.array\n",
    "            The intracluster bvse variance at each level of clustering. \n",
    "        \"\"\"\n",
    "        # create four new columns in the dataframe\n",
    "        valid_labels_df['partial_variance'] = 0\n",
    "        valid_labels_df['partial_variance_previous_state'] = 0\n",
    "        valid_labels_df['cluster'] = 0\n",
    "\n",
    "        # make a list to store the calculations in\n",
    "        variance_by_cluster = []\n",
    "\n",
    "        # iterate through the clustering sets, starting at 1 cluster\n",
    "        for cluster_set in tqdm.tqdm(cluster_sets, desc='Calculating BVSE Variance'):\n",
    "            # label all the rows with their cluster\n",
    "            valid_labels_df['cluster'] = cluster_set\n",
    "\n",
    "            # groupby method to count the number of labels in each cluster\n",
    "            cluster_counts = valid_labels_df.groupby('cluster').count()['BVSE']\n",
    "\n",
    "            # groupby method to determine the BVSE mean for each cluster\n",
    "            cluster_means = valid_labels_df.groupby('cluster')['BVSE'].mean()\n",
    "\n",
    "             # helper function for calculating the partial variance. Used by pd.DataFrame.apply() in the variance_calculation function\n",
    "            def partial_variance_helper(row, cluster_means, cluster_counts):\n",
    "                return (row['BVSE']-cluster_means[row['cluster']])**2\n",
    "\n",
    "            # calculate the partial variance for each row with a BVSE value\n",
    "            mask = valid_labels_df['BVSE']>0\n",
    "            temp_df = valid_labels_df[mask]\n",
    "            valid_labels_df.loc[mask, 'partial_variance'] = temp_df.apply(partial_variance_helper,  axis=1, args=([cluster_means, cluster_counts]))\n",
    "\n",
    "            # create a dataframe just with the variance labels\n",
    "            variance_df = valid_labels_df[valid_labels_df['BVSE']>0].loc[:, ['cluster', 'partial_variance']]\n",
    "\n",
    "            # group the variance_df by cluster\n",
    "            cluster_grouping = variance_df.groupby('cluster')\n",
    "\n",
    "            # find the clusters that contain <=1 label. These are the frozen clusters. Return the index for the labels in the frozen clusters. \n",
    "            frozen_groups = variance_df.groupby('cluster').count()[(variance_df.groupby('cluster').count()<=1).values]\n",
    "            frozen_idx = [idx for sublist in [cluster_grouping.groups[x].values.tolist() for x in frozen_groups.index.values] for idx in sublist]\n",
    "\n",
    "            # return all frozen rows to their previous value\n",
    "            valid_labels_df.loc[frozen_idx, 'partial_variance'] = valid_labels_df.loc[frozen_idx, 'partial_variance_previous_state']\n",
    "\n",
    "            # calculate the intracluster BVSE variance. This is just the sum of the partial variance column\n",
    "            variance_by_cluster.append(valid_labels_df.partial_variance.sum())\n",
    "\n",
    "            # update the frozen state before moving to the next iteration\n",
    "            valid_labels_df.loc[:, 'partial_variance_previous_state'] = valid_labels_df.loc[:, 'partial_variance']\n",
    "\n",
    "        return variance_by_cluster\n",
    "    \n",
    "    \n",
    "    def save_results(self, selection, multiplier, cluster_sets, conductivity_variance_by_cluster, bvse_variance_by_cluster, ddata, linkage_matrix):\n",
    "        \"\"\"\n",
    "        The function saves all the relevant outputs from the agglomerative clustering process \n",
    "        in a pandas dataframe using pickle. Save the pickled dataframe at the self.results_df_path attribute. \n",
    "\n",
    "        Parameters\n",
    "        ----------\n",
    "        selection : list\n",
    "            The feature(s) that were combined. \n",
    "            \n",
    "        selection : list\n",
    "            The multiplication factor for each feature in the selection.  \n",
    "\n",
    "        cluster_sets : np.array\n",
    "            The assignment of each structure to a cluster, for each level of clustering. \n",
    "\n",
    "        conductivity_variance_by_cluster : np.array\n",
    "            The intracluster conductivity variance at each level of clustering. \n",
    "            \n",
    "        bvse_variance_by_cluster : np.array\n",
    "            The intracluster bvse variance at each level of clustering. \n",
    "       \n",
    "        ddata : np.array\n",
    "            The agglomerative dendrogram found by applying the scipy.cluster.hierarchy.dendrogram\n",
    "            method to the linkage matrix.\n",
    "\n",
    "        linkage_matrix : np.array\n",
    "            The linkage matrix found by applying the scipy.cluster.hierarchy.linkage method to\n",
    "            the distance matrix. \n",
    "        \"\"\"\n",
    "        if len(self.results_df)==0:\n",
    "            new_row_idx = 0\n",
    "        else:\n",
    "            new_row_idx = self.results_df.index.max()+1\n",
    "\n",
    "        for idx, feature in enumerate(selection):\n",
    "            self.results_df.at[new_row_idx, 'feature{}'.format(idx)] = self.feature_map[feature][0:-4]\n",
    "\n",
    "        for idx, multiple in enumerate(multiplier):\n",
    "            self.results_df.at[new_row_idx, 'multiplier{}'.format(idx)] = multiple\n",
    "\n",
    "        self.results_df.at[new_row_idx, 'conductivity_variance'] = conductivity_variance_by_cluster\n",
    "        self.results_df.at[new_row_idx, 'bvse_variance'] = bvse_variance_by_cluster\n",
    "        self.results_df.at[new_row_idx, 'cluster_sets'] = cluster_sets\n",
    "        self.results_df.at[new_row_idx, 'ddata'] = ddata\n",
    "        self.results_df.at[new_row_idx, 'linkage_matrix'] = linkage_matrix\n",
    "        \n",
    "        save_path = os.path.join(os.getcwd(), self.results_df_path)\n",
    "        save_file = open(save_path, 'wb')\n",
    "        pickle.dump(self.results_df, save_file)\n",
    "        save_file.close()\n",
    "    \n",
    "   \n",
    "    def run_clustering(self, feature_selector_list, multiplier_list, common_labels=True):\n",
    "        \"\"\"\n",
    "        A wrapper to run through the entire agglomerative clustering process, by calling the methods above.\n",
    "        The function takes a 2D list of desired features and a 2D list of multiplication factors. For each zipped pair in the list \n",
    "        the features are multiplied by the multiplication factors and then merged. \n",
    "\n",
    "        Parameters\n",
    "        ----------\n",
    "        feature_selctor_list : list,2D\n",
    "            A list of the features that will be merged. The list should be of the form: [[1,2], [1,3]] or [[1], [2], [3]].\n",
    "            The former representation would combine features 1&2 during the first iteration and then 1&3 in\n",
    "            the next iteration. The latter representation will simply return the features 1, 2, and 3 sequentially. \n",
    "            The numbers are mapped to their feature through the feature_map list. \n",
    "\n",
    "        multiplier_list : list,2D\n",
    "            A list of multipliers that will be applied to the selected features. This allows the features\n",
    "            to be mixed in different ratios.  \n",
    "\n",
    "        common_labels : boolean\n",
    "            If true, then the structures that are safe for all features representations will be used. \n",
    "            If false, then the structures that are safe only for the supplied features (in the feature selector list)\n",
    "            will be used. \n",
    "        \"\"\"\n",
    "        for selection, multiplier in tqdm.tqdm(zip(feature_selector_list, multiplier_list), desc='Iterating Through Selections', total=len(feature_selector_list)):\n",
    "            print('-' * 50)\n",
    "            print('\\033[1mWorking on selection = {} with multiplier = {}\\033[0m'.format(selection, multiplier))\n",
    "            sparse_features, valid_labels_df = self.feature_merger(selection, multiplier, self.valid_features_df, self.labels_df, self.feature_map, common_labels=common_labels)\n",
    "            distance_matrix = self.distance_matrix_calculator(sparse_features)\n",
    "            linkage_matrix = hierarchy.linkage(distance_matrix, 'ward')\n",
    "            \n",
    "            max_clustering = 300\n",
    "            ddata = self.augmented_dendrogram(\n",
    "                linkage_matrix,\n",
    "                truncate_mode='lastp',\n",
    "                p=max_clustering+1,\n",
    "                leaf_rotation=90.,\n",
    "                leaf_font_size=3.,\n",
    "                show_contracted=False,\n",
    "                annotate_above=5,  # useful in small plots so annotations don't overlap\n",
    "                max_d=50, #where this is the distance cutoff\n",
    "                above_threshold_color='grey',\n",
    "                no_plot = True\n",
    "            )\n",
    "\n",
    "            cluster_sets = self.clustering(ddata, linkage_matrix)\n",
    "            conductivity_variance_by_cluster = self.conductivity_variance_calculation(valid_labels_df, cluster_sets)\n",
    "            bvse_variance_by_cluster = self.bvse_variance_calculation(valid_labels_df, cluster_sets)\n",
    "\n",
    "            self.save_results(selection, multiplier, cluster_sets, conductivity_variance_by_cluster, bvse_variance_by_cluster, ddata, linkage_matrix)\n",
    "            "
   ]
  },
  {
   "cell_type": "markdown",
   "metadata": {},
   "source": [
    "### 5a. Instantiate the Agglomerative_Clustering class"
   ]
  },
  {
   "cell_type": "code",
   "execution_count": 3,
   "metadata": {},
   "outputs": [],
   "source": [
    "ag = Agglomerative_Clustering(valid_features_df_path = 'semi-supervised_supporting_files/valid_features_df.pkl', \\\n",
    "                              labels_df_path = 'semi-supervised_supporting_files/labeled_data_BVSE.pkl', \\\n",
    "                              saved_features_path = 'sparse_features/', \\\n",
    "                              results_df_path='semi-supervised_supporting_files/ac_results_df.pkl')"
   ]
  },
  {
   "cell_type": "markdown",
   "metadata": {},
   "source": [
    "### 5b. List the features in the saved directory"
   ]
  },
  {
   "cell_type": "code",
   "execution_count": 4,
   "metadata": {},
   "outputs": [
    {
     "name": "stdout",
     "output_type": "stream",
     "text": [
      "0 - SOAP_features_partialS_outer_rcut-3_nmax-5_lmax-3_mode-structure_CAN\n",
      "1 - scm_features_mode-structure\n"
     ]
    }
   ],
   "source": [
    "ag.list_features()"
   ]
  },
  {
   "cell_type": "markdown",
   "metadata": {
    "tags": []
   },
   "source": [
    "### 5c. Feed a 2D list of features (by index) and multipliers for agglomerative clustering\n",
    "The class can work either on single features or by combining features with a mixing ratio. \n",
    "For single features, the lists should be of the forms:\n",
    "* feature_selector_list = [[x], [y], [z]]\n",
    "* multiplier_list = [[1], [1], [1]]\n",
    "\n",
    "This notation will apply agglomerative clustering to each supplied feature, seperately. An agglomerative clustering output will be saved for x, then y, then z. The multiplier value doesn't actually matter when only one feature is used.  \n",
    "\n",
    "For combined feature vectors, the lists should be of the forms:\n",
    "* feature_selector_list = [[x1,x2], [y1,y2], [z1,z2]]\n",
    "* multiplier_list = [[a1,a2], [b1,b2], [c1,c2]]\n",
    "\n",
    "In the example notation, agglomerative clustering will be applied three times on the following compositive feature vectors:\n",
    "* a1(x1) concatenated with a2(x2)\n",
    "* b1(y1) concatenated with b2(y2)\n",
    "* c1(z1) concatenated with c2(z2)\n",
    "\n",
    "__!!!WARNING!!!__ Addition of new features to the saved_features_path will likely change the valid features. This is true because new features may cause different structures to throw errors when the featurize is applied. If the valid features change after a new feature is added then previous conductivity or BVSE variance calculations cannot be directly compared to any new conductivity or bvse variance calculations.  "
   ]
  },
  {
   "cell_type": "code",
   "execution_count": 9,
   "metadata": {},
   "outputs": [
    {
     "data": {
      "application/vnd.jupyter.widget-view+json": {
       "model_id": "e9eec84271d64354a1f2d3976ab5b62b",
       "version_major": 2,
       "version_minor": 0
      },
      "text/plain": [
       "Iterating Through Selections:   0%|          | 0/2 [00:00<?, ?it/s]"
      ]
     },
     "metadata": {},
     "output_type": "display_data"
    },
    {
     "name": "stdout",
     "output_type": "stream",
     "text": [
      "--------------------------------------------------\n",
      "\u001b[1mWorking on selection = [0] with multiplier = [1]\u001b[0m\n"
     ]
    },
    {
     "data": {
      "application/vnd.jupyter.widget-view+json": {
       "model_id": "739d3677fde54fc49ddd1f9757d64e25",
       "version_major": 2,
       "version_minor": 0
      },
      "text/plain": [
       "Merging Features:   0%|          | 0/1 [00:00<?, ?it/s]"
      ]
     },
     "metadata": {},
     "output_type": "display_data"
    },
    {
     "data": {
      "application/vnd.jupyter.widget-view+json": {
       "model_id": "49456ca6b94349e3b198d4fb4f0e3fe8",
       "version_major": 2,
       "version_minor": 0
      },
      "text/plain": [
       "Calculating Conductivity Variance:   0%|          | 0/300 [00:00<?, ?it/s]"
      ]
     },
     "metadata": {},
     "output_type": "display_data"
    },
    {
     "data": {
      "application/vnd.jupyter.widget-view+json": {
       "model_id": "3c1d817c501d41ab819b7eafb223dbee",
       "version_major": 2,
       "version_minor": 0
      },
      "text/plain": [
       "Calculating BVSE Variance:   0%|          | 0/300 [00:00<?, ?it/s]"
      ]
     },
     "metadata": {},
     "output_type": "display_data"
    },
    {
     "name": "stdout",
     "output_type": "stream",
     "text": [
      "--------------------------------------------------\n",
      "\u001b[1mWorking on selection = [1] with multiplier = [1]\u001b[0m\n"
     ]
    },
    {
     "data": {
      "application/vnd.jupyter.widget-view+json": {
       "model_id": "95a5fc83fa9642dcb9e9f575872a842b",
       "version_major": 2,
       "version_minor": 0
      },
      "text/plain": [
       "Merging Features:   0%|          | 0/1 [00:00<?, ?it/s]"
      ]
     },
     "metadata": {},
     "output_type": "display_data"
    },
    {
     "data": {
      "application/vnd.jupyter.widget-view+json": {
       "model_id": "dce8cf607d234e82a70c3de2187962dc",
       "version_major": 2,
       "version_minor": 0
      },
      "text/plain": [
       "Calculating Conductivity Variance:   0%|          | 0/300 [00:00<?, ?it/s]"
      ]
     },
     "metadata": {},
     "output_type": "display_data"
    },
    {
     "data": {
      "application/vnd.jupyter.widget-view+json": {
       "model_id": "a8c22f3b4fa247808aa331e628475545",
       "version_major": 2,
       "version_minor": 0
      },
      "text/plain": [
       "Calculating BVSE Variance:   0%|          | 0/300 [00:00<?, ?it/s]"
      ]
     },
     "metadata": {},
     "output_type": "display_data"
    }
   ],
   "source": [
    "ag.run_clustering(feature_selector_list=[[0], [1]], \\\n",
    "                  multiplier_list=[[1], [1]], common_labels=True)"
   ]
  },
  {
   "cell_type": "code",
   "execution_count": 10,
   "metadata": {},
   "outputs": [
    {
     "data": {
      "application/vnd.jupyter.widget-view+json": {
       "model_id": "f74077b50bcf4d358489a5bafbaf9712",
       "version_major": 2,
       "version_minor": 0
      },
      "text/plain": [
       "Iterating Through Selections:   0%|          | 0/10 [00:00<?, ?it/s]"
      ]
     },
     "metadata": {},
     "output_type": "display_data"
    },
    {
     "name": "stdout",
     "output_type": "stream",
     "text": [
      "--------------------------------------------------\n",
      "\u001b[1mWorking on selection = [0, 1] with multiplier = [1, 1e-05]\u001b[0m\n"
     ]
    },
    {
     "data": {
      "application/vnd.jupyter.widget-view+json": {
       "model_id": "8ea494c70c6841b08d9c63ea36ea972f",
       "version_major": 2,
       "version_minor": 0
      },
      "text/plain": [
       "Merging Features:   0%|          | 0/2 [00:00<?, ?it/s]"
      ]
     },
     "metadata": {},
     "output_type": "display_data"
    },
    {
     "data": {
      "application/vnd.jupyter.widget-view+json": {
       "model_id": "8763d7b6f59448e9bfef159c65a8e0f1",
       "version_major": 2,
       "version_minor": 0
      },
      "text/plain": [
       "Calculating Conductivity Variance:   0%|          | 0/300 [00:00<?, ?it/s]"
      ]
     },
     "metadata": {},
     "output_type": "display_data"
    },
    {
     "data": {
      "application/vnd.jupyter.widget-view+json": {
       "model_id": "13db3687bcd44ff2b95cb0e0298d892d",
       "version_major": 2,
       "version_minor": 0
      },
      "text/plain": [
       "Calculating BVSE Variance:   0%|          | 0/300 [00:00<?, ?it/s]"
      ]
     },
     "metadata": {},
     "output_type": "display_data"
    },
    {
     "name": "stdout",
     "output_type": "stream",
     "text": [
      "--------------------------------------------------\n",
      "\u001b[1mWorking on selection = [0, 1] with multiplier = [1, 2e-05]\u001b[0m\n"
     ]
    },
    {
     "data": {
      "application/vnd.jupyter.widget-view+json": {
       "model_id": "c6a83ae919c847d9ba203f5818ce8ac8",
       "version_major": 2,
       "version_minor": 0
      },
      "text/plain": [
       "Merging Features:   0%|          | 0/2 [00:00<?, ?it/s]"
      ]
     },
     "metadata": {},
     "output_type": "display_data"
    },
    {
     "data": {
      "application/vnd.jupyter.widget-view+json": {
       "model_id": "8cefe97fcdf2445c901ec15eef003e79",
       "version_major": 2,
       "version_minor": 0
      },
      "text/plain": [
       "Calculating Conductivity Variance:   0%|          | 0/300 [00:00<?, ?it/s]"
      ]
     },
     "metadata": {},
     "output_type": "display_data"
    },
    {
     "data": {
      "application/vnd.jupyter.widget-view+json": {
       "model_id": "48d71a9109bc40e6ae8c3a5556077f06",
       "version_major": 2,
       "version_minor": 0
      },
      "text/plain": [
       "Calculating BVSE Variance:   0%|          | 0/300 [00:00<?, ?it/s]"
      ]
     },
     "metadata": {},
     "output_type": "display_data"
    },
    {
     "name": "stdout",
     "output_type": "stream",
     "text": [
      "--------------------------------------------------\n",
      "\u001b[1mWorking on selection = [0, 1] with multiplier = [1, 3e-05]\u001b[0m\n"
     ]
    },
    {
     "data": {
      "application/vnd.jupyter.widget-view+json": {
       "model_id": "4ad22b3760e7442a89e1e82d80a57d05",
       "version_major": 2,
       "version_minor": 0
      },
      "text/plain": [
       "Merging Features:   0%|          | 0/2 [00:00<?, ?it/s]"
      ]
     },
     "metadata": {},
     "output_type": "display_data"
    },
    {
     "data": {
      "application/vnd.jupyter.widget-view+json": {
       "model_id": "b0c4ae7f96384d5d856e628c7ff39053",
       "version_major": 2,
       "version_minor": 0
      },
      "text/plain": [
       "Calculating Conductivity Variance:   0%|          | 0/300 [00:00<?, ?it/s]"
      ]
     },
     "metadata": {},
     "output_type": "display_data"
    },
    {
     "data": {
      "application/vnd.jupyter.widget-view+json": {
       "model_id": "ee4f355862484a1684111393bd510226",
       "version_major": 2,
       "version_minor": 0
      },
      "text/plain": [
       "Calculating BVSE Variance:   0%|          | 0/300 [00:00<?, ?it/s]"
      ]
     },
     "metadata": {},
     "output_type": "display_data"
    },
    {
     "name": "stdout",
     "output_type": "stream",
     "text": [
      "--------------------------------------------------\n",
      "\u001b[1mWorking on selection = [0, 1] with multiplier = [1, 4e-05]\u001b[0m\n"
     ]
    },
    {
     "data": {
      "application/vnd.jupyter.widget-view+json": {
       "model_id": "acee6f5dab5141e5abe7b00962f855d6",
       "version_major": 2,
       "version_minor": 0
      },
      "text/plain": [
       "Merging Features:   0%|          | 0/2 [00:00<?, ?it/s]"
      ]
     },
     "metadata": {},
     "output_type": "display_data"
    },
    {
     "data": {
      "application/vnd.jupyter.widget-view+json": {
       "model_id": "5a642c6bec674a6682d0cf2eafba062f",
       "version_major": 2,
       "version_minor": 0
      },
      "text/plain": [
       "Calculating Conductivity Variance:   0%|          | 0/300 [00:00<?, ?it/s]"
      ]
     },
     "metadata": {},
     "output_type": "display_data"
    },
    {
     "data": {
      "application/vnd.jupyter.widget-view+json": {
       "model_id": "0bf85f448c63490097915309a9b0359d",
       "version_major": 2,
       "version_minor": 0
      },
      "text/plain": [
       "Calculating BVSE Variance:   0%|          | 0/300 [00:00<?, ?it/s]"
      ]
     },
     "metadata": {},
     "output_type": "display_data"
    },
    {
     "name": "stdout",
     "output_type": "stream",
     "text": [
      "--------------------------------------------------\n",
      "\u001b[1mWorking on selection = [0, 1] with multiplier = [1, 5e-05]\u001b[0m\n"
     ]
    },
    {
     "data": {
      "application/vnd.jupyter.widget-view+json": {
       "model_id": "1f00e1e733ba4b3183201df445d31dfb",
       "version_major": 2,
       "version_minor": 0
      },
      "text/plain": [
       "Merging Features:   0%|          | 0/2 [00:00<?, ?it/s]"
      ]
     },
     "metadata": {},
     "output_type": "display_data"
    },
    {
     "data": {
      "application/vnd.jupyter.widget-view+json": {
       "model_id": "a6cf341e9753466799dcb51f66d49d11",
       "version_major": 2,
       "version_minor": 0
      },
      "text/plain": [
       "Calculating Conductivity Variance:   0%|          | 0/300 [00:00<?, ?it/s]"
      ]
     },
     "metadata": {},
     "output_type": "display_data"
    },
    {
     "data": {
      "application/vnd.jupyter.widget-view+json": {
       "model_id": "442c912a59c64ec0be504f81a126804b",
       "version_major": 2,
       "version_minor": 0
      },
      "text/plain": [
       "Calculating BVSE Variance:   0%|          | 0/300 [00:00<?, ?it/s]"
      ]
     },
     "metadata": {},
     "output_type": "display_data"
    },
    {
     "name": "stdout",
     "output_type": "stream",
     "text": [
      "--------------------------------------------------\n",
      "\u001b[1mWorking on selection = [0, 1] with multiplier = [1, 6e-05]\u001b[0m\n"
     ]
    },
    {
     "data": {
      "application/vnd.jupyter.widget-view+json": {
       "model_id": "572f7654f34f4ecca8b2b7e7a7debe33",
       "version_major": 2,
       "version_minor": 0
      },
      "text/plain": [
       "Merging Features:   0%|          | 0/2 [00:00<?, ?it/s]"
      ]
     },
     "metadata": {},
     "output_type": "display_data"
    },
    {
     "data": {
      "application/vnd.jupyter.widget-view+json": {
       "model_id": "2a3e9615457e438c959842397caf4fc3",
       "version_major": 2,
       "version_minor": 0
      },
      "text/plain": [
       "Calculating Conductivity Variance:   0%|          | 0/300 [00:00<?, ?it/s]"
      ]
     },
     "metadata": {},
     "output_type": "display_data"
    },
    {
     "data": {
      "application/vnd.jupyter.widget-view+json": {
       "model_id": "01c40b1627f04fe888671c5ec212f61a",
       "version_major": 2,
       "version_minor": 0
      },
      "text/plain": [
       "Calculating BVSE Variance:   0%|          | 0/300 [00:00<?, ?it/s]"
      ]
     },
     "metadata": {},
     "output_type": "display_data"
    },
    {
     "name": "stdout",
     "output_type": "stream",
     "text": [
      "--------------------------------------------------\n",
      "\u001b[1mWorking on selection = [0, 1] with multiplier = [1, 7e-05]\u001b[0m\n"
     ]
    },
    {
     "data": {
      "application/vnd.jupyter.widget-view+json": {
       "model_id": "68ffdc388ab144fa96365ae558169afd",
       "version_major": 2,
       "version_minor": 0
      },
      "text/plain": [
       "Merging Features:   0%|          | 0/2 [00:00<?, ?it/s]"
      ]
     },
     "metadata": {},
     "output_type": "display_data"
    },
    {
     "data": {
      "application/vnd.jupyter.widget-view+json": {
       "model_id": "702f93ad073642e287d8151c5f7876b6",
       "version_major": 2,
       "version_minor": 0
      },
      "text/plain": [
       "Calculating Conductivity Variance:   0%|          | 0/300 [00:00<?, ?it/s]"
      ]
     },
     "metadata": {},
     "output_type": "display_data"
    },
    {
     "data": {
      "application/vnd.jupyter.widget-view+json": {
       "model_id": "c73bc80c7cfb4ed8aae5c513ae9c825f",
       "version_major": 2,
       "version_minor": 0
      },
      "text/plain": [
       "Calculating BVSE Variance:   0%|          | 0/300 [00:00<?, ?it/s]"
      ]
     },
     "metadata": {},
     "output_type": "display_data"
    },
    {
     "name": "stdout",
     "output_type": "stream",
     "text": [
      "--------------------------------------------------\n",
      "\u001b[1mWorking on selection = [0, 1] with multiplier = [1, 8e-05]\u001b[0m\n"
     ]
    },
    {
     "data": {
      "application/vnd.jupyter.widget-view+json": {
       "model_id": "92d677c514c0405c87a568e37557c6d2",
       "version_major": 2,
       "version_minor": 0
      },
      "text/plain": [
       "Merging Features:   0%|          | 0/2 [00:00<?, ?it/s]"
      ]
     },
     "metadata": {},
     "output_type": "display_data"
    },
    {
     "data": {
      "application/vnd.jupyter.widget-view+json": {
       "model_id": "bad6a7eaf65e40be90088c61ecd04763",
       "version_major": 2,
       "version_minor": 0
      },
      "text/plain": [
       "Calculating Conductivity Variance:   0%|          | 0/300 [00:00<?, ?it/s]"
      ]
     },
     "metadata": {},
     "output_type": "display_data"
    },
    {
     "data": {
      "application/vnd.jupyter.widget-view+json": {
       "model_id": "0f7e41d76a1e40cfae6ffab6459d160c",
       "version_major": 2,
       "version_minor": 0
      },
      "text/plain": [
       "Calculating BVSE Variance:   0%|          | 0/300 [00:00<?, ?it/s]"
      ]
     },
     "metadata": {},
     "output_type": "display_data"
    },
    {
     "name": "stdout",
     "output_type": "stream",
     "text": [
      "--------------------------------------------------\n",
      "\u001b[1mWorking on selection = [0, 1] with multiplier = [1, 9e-05]\u001b[0m\n"
     ]
    },
    {
     "data": {
      "application/vnd.jupyter.widget-view+json": {
       "model_id": "6aa73591df25486e83874b1abe570d72",
       "version_major": 2,
       "version_minor": 0
      },
      "text/plain": [
       "Merging Features:   0%|          | 0/2 [00:00<?, ?it/s]"
      ]
     },
     "metadata": {},
     "output_type": "display_data"
    },
    {
     "data": {
      "application/vnd.jupyter.widget-view+json": {
       "model_id": "e68eba0d00cb4a858423498d9812f1c4",
       "version_major": 2,
       "version_minor": 0
      },
      "text/plain": [
       "Calculating Conductivity Variance:   0%|          | 0/300 [00:00<?, ?it/s]"
      ]
     },
     "metadata": {},
     "output_type": "display_data"
    },
    {
     "data": {
      "application/vnd.jupyter.widget-view+json": {
       "model_id": "8c43d7ff91e047389978450b95699a05",
       "version_major": 2,
       "version_minor": 0
      },
      "text/plain": [
       "Calculating BVSE Variance:   0%|          | 0/300 [00:00<?, ?it/s]"
      ]
     },
     "metadata": {},
     "output_type": "display_data"
    },
    {
     "name": "stdout",
     "output_type": "stream",
     "text": [
      "--------------------------------------------------\n",
      "\u001b[1mWorking on selection = [0, 1] with multiplier = [1, 1e-05]\u001b[0m\n"
     ]
    },
    {
     "data": {
      "application/vnd.jupyter.widget-view+json": {
       "model_id": "ed9fa8a5e6804ed6b741cc42dfb4595e",
       "version_major": 2,
       "version_minor": 0
      },
      "text/plain": [
       "Merging Features:   0%|          | 0/2 [00:00<?, ?it/s]"
      ]
     },
     "metadata": {},
     "output_type": "display_data"
    },
    {
     "data": {
      "application/vnd.jupyter.widget-view+json": {
       "model_id": "d83db638b75940d2bd8f36b82cb29816",
       "version_major": 2,
       "version_minor": 0
      },
      "text/plain": [
       "Calculating Conductivity Variance:   0%|          | 0/300 [00:00<?, ?it/s]"
      ]
     },
     "metadata": {},
     "output_type": "display_data"
    },
    {
     "data": {
      "application/vnd.jupyter.widget-view+json": {
       "model_id": "883394290a8c438c87a67e54bb543473",
       "version_major": 2,
       "version_minor": 0
      },
      "text/plain": [
       "Calculating BVSE Variance:   0%|          | 0/300 [00:00<?, ?it/s]"
      ]
     },
     "metadata": {},
     "output_type": "display_data"
    }
   ],
   "source": [
    "ag.run_clustering(feature_selector_list=[[0,1],[0,1],[0,1],[0,1],[0,1],[0,1],[0,1],[0,1],[0,1],[0,1]], \\\n",
    "                  multiplier_list=[[1, 1E-5],[1, 2E-5], [1, 3E-5], [1, 4E-5], [1, 5E-5], [1, 6E-5], [1, 7E-5], [1, 8E-5], [1, 9E-5], [1, 1E-5]], common_labels=True)"
   ]
  },
  {
   "cell_type": "code",
   "execution_count": 11,
   "metadata": {},
   "outputs": [
    {
     "data": {
      "text/html": [
       "<div>\n",
       "<style scoped>\n",
       "    .dataframe tbody tr th:only-of-type {\n",
       "        vertical-align: middle;\n",
       "    }\n",
       "\n",
       "    .dataframe tbody tr th {\n",
       "        vertical-align: top;\n",
       "    }\n",
       "\n",
       "    .dataframe thead th {\n",
       "        text-align: right;\n",
       "    }\n",
       "</style>\n",
       "<table border=\"1\" class=\"dataframe\">\n",
       "  <thead>\n",
       "    <tr style=\"text-align: right;\">\n",
       "      <th></th>\n",
       "      <th>feature0</th>\n",
       "      <th>multiplier0</th>\n",
       "      <th>feature1</th>\n",
       "      <th>multiplier1</th>\n",
       "      <th>conductivity_variance</th>\n",
       "      <th>bvse_variance</th>\n",
       "      <th>cluster_sets</th>\n",
       "      <th>ddata</th>\n",
       "      <th>linkage_matrix</th>\n",
       "    </tr>\n",
       "  </thead>\n",
       "  <tbody>\n",
       "    <tr>\n",
       "      <th>0</th>\n",
       "      <td>SOAP_features_partialS_outer_rcut-3_nmax-5_lma...</td>\n",
       "      <td>1</td>\n",
       "      <td>scm_features_mode-structure</td>\n",
       "      <td>0.000001</td>\n",
       "      <td>[2185.983729796786, 1872.088143709971, 1872.06...</td>\n",
       "      <td>[52634.77398885612, 52077.38652050582, 51357.6...</td>\n",
       "      <td>[[1, 1, 1, 1, 1, 1, 1, 1, 1, 1, 1, 1, 1, 1, 1,...</td>\n",
       "      <td>{'icoord': [[5.0, 5.0, 15.0, 15.0], [35.0, 35....</td>\n",
       "      <td>[[20630.0, 22671.0, 0.0, 2.0], [18022.0, 18071...</td>\n",
       "    </tr>\n",
       "    <tr>\n",
       "      <th>1</th>\n",
       "      <td>SOAP_features_partialS_outer_rcut-3_nmax-5_lma...</td>\n",
       "      <td>1</td>\n",
       "      <td>scm_features_mode-structure</td>\n",
       "      <td>0.000002</td>\n",
       "      <td>[2185.983729796786, 1872.088143709971, 1872.06...</td>\n",
       "      <td>[52634.77398885612, 52077.38652050582, 51357.6...</td>\n",
       "      <td>[[1, 1, 1, 1, 1, 1, 1, 1, 1, 1, 1, 1, 1, 1, 1,...</td>\n",
       "      <td>{'icoord': [[5.0, 5.0, 15.0, 15.0], [35.0, 35....</td>\n",
       "      <td>[[20630.0, 22671.0, 0.0, 2.0], [18022.0, 18071...</td>\n",
       "    </tr>\n",
       "    <tr>\n",
       "      <th>2</th>\n",
       "      <td>SOAP_features_partialS_outer_rcut-3_nmax-5_lma...</td>\n",
       "      <td>1</td>\n",
       "      <td>scm_features_mode-structure</td>\n",
       "      <td>0.001</td>\n",
       "      <td>[2185.983729796786, 2079.520029468446, 2079.52...</td>\n",
       "      <td>[52634.77398885612, 51027.43413048695, 51026.9...</td>\n",
       "      <td>[[1, 1, 1, 1, 1, 1, 1, 1, 1, 1, 1, 1, 1, 1, 1,...</td>\n",
       "      <td>{'icoord': [[15.0, 15.0, 25.0, 25.0], [5.0, 5....</td>\n",
       "      <td>[[20630.0, 22671.0, 0.0, 2.0], [18022.0, 18071...</td>\n",
       "    </tr>\n",
       "    <tr>\n",
       "      <th>3</th>\n",
       "      <td>SOAP_features_partialS_outer_rcut-3_nmax-5_lma...</td>\n",
       "      <td>1</td>\n",
       "      <td>scm_features_mode-structure</td>\n",
       "      <td>0.002</td>\n",
       "      <td>[2185.983729796786, 2185.983729796786, 2185.98...</td>\n",
       "      <td>[52634.77398885612, 52633.46227067928, 52633.4...</td>\n",
       "      <td>[[1, 1, 1, 1, 1, 1, 1, 1, 1, 1, 1, 1, 1, 1, 1,...</td>\n",
       "      <td>{'icoord': [[15.0, 15.0, 25.0, 25.0], [35.0, 3...</td>\n",
       "      <td>[[20630.0, 22671.0, 0.0, 2.0], [18022.0, 18071...</td>\n",
       "    </tr>\n",
       "    <tr>\n",
       "      <th>4</th>\n",
       "      <td>SOAP_features_partialS_outer_rcut-3_nmax-5_lma...</td>\n",
       "      <td>1</td>\n",
       "      <td>scm_features_mode-structure</td>\n",
       "      <td>0.003</td>\n",
       "      <td>[2185.983729796786, 2185.983729796786, 2185.98...</td>\n",
       "      <td>[52634.77398885612, 52633.46227067928, 52633.4...</td>\n",
       "      <td>[[1, 1, 1, 1, 1, 1, 1, 1, 1, 1, 1, 1, 1, 1, 1,...</td>\n",
       "      <td>{'icoord': [[25.0, 25.0, 35.0, 35.0], [15.0, 1...</td>\n",
       "      <td>[[20630.0, 22671.0, 0.0, 2.0], [18022.0, 18071...</td>\n",
       "    </tr>\n",
       "  </tbody>\n",
       "</table>\n",
       "</div>"
      ],
      "text/plain": [
       "                                            feature0 multiplier0  \\\n",
       "0  SOAP_features_partialS_outer_rcut-3_nmax-5_lma...           1   \n",
       "1  SOAP_features_partialS_outer_rcut-3_nmax-5_lma...           1   \n",
       "2  SOAP_features_partialS_outer_rcut-3_nmax-5_lma...           1   \n",
       "3  SOAP_features_partialS_outer_rcut-3_nmax-5_lma...           1   \n",
       "4  SOAP_features_partialS_outer_rcut-3_nmax-5_lma...           1   \n",
       "\n",
       "                      feature1 multiplier1  \\\n",
       "0  scm_features_mode-structure    0.000001   \n",
       "1  scm_features_mode-structure    0.000002   \n",
       "2  scm_features_mode-structure       0.001   \n",
       "3  scm_features_mode-structure       0.002   \n",
       "4  scm_features_mode-structure       0.003   \n",
       "\n",
       "                               conductivity_variance  \\\n",
       "0  [2185.983729796786, 1872.088143709971, 1872.06...   \n",
       "1  [2185.983729796786, 1872.088143709971, 1872.06...   \n",
       "2  [2185.983729796786, 2079.520029468446, 2079.52...   \n",
       "3  [2185.983729796786, 2185.983729796786, 2185.98...   \n",
       "4  [2185.983729796786, 2185.983729796786, 2185.98...   \n",
       "\n",
       "                                       bvse_variance  \\\n",
       "0  [52634.77398885612, 52077.38652050582, 51357.6...   \n",
       "1  [52634.77398885612, 52077.38652050582, 51357.6...   \n",
       "2  [52634.77398885612, 51027.43413048695, 51026.9...   \n",
       "3  [52634.77398885612, 52633.46227067928, 52633.4...   \n",
       "4  [52634.77398885612, 52633.46227067928, 52633.4...   \n",
       "\n",
       "                                        cluster_sets  \\\n",
       "0  [[1, 1, 1, 1, 1, 1, 1, 1, 1, 1, 1, 1, 1, 1, 1,...   \n",
       "1  [[1, 1, 1, 1, 1, 1, 1, 1, 1, 1, 1, 1, 1, 1, 1,...   \n",
       "2  [[1, 1, 1, 1, 1, 1, 1, 1, 1, 1, 1, 1, 1, 1, 1,...   \n",
       "3  [[1, 1, 1, 1, 1, 1, 1, 1, 1, 1, 1, 1, 1, 1, 1,...   \n",
       "4  [[1, 1, 1, 1, 1, 1, 1, 1, 1, 1, 1, 1, 1, 1, 1,...   \n",
       "\n",
       "                                               ddata  \\\n",
       "0  {'icoord': [[5.0, 5.0, 15.0, 15.0], [35.0, 35....   \n",
       "1  {'icoord': [[5.0, 5.0, 15.0, 15.0], [35.0, 35....   \n",
       "2  {'icoord': [[15.0, 15.0, 25.0, 25.0], [5.0, 5....   \n",
       "3  {'icoord': [[15.0, 15.0, 25.0, 25.0], [35.0, 3...   \n",
       "4  {'icoord': [[25.0, 25.0, 35.0, 35.0], [15.0, 1...   \n",
       "\n",
       "                                      linkage_matrix  \n",
       "0  [[20630.0, 22671.0, 0.0, 2.0], [18022.0, 18071...  \n",
       "1  [[20630.0, 22671.0, 0.0, 2.0], [18022.0, 18071...  \n",
       "2  [[20630.0, 22671.0, 0.0, 2.0], [18022.0, 18071...  \n",
       "3  [[20630.0, 22671.0, 0.0, 2.0], [18022.0, 18071...  \n",
       "4  [[20630.0, 22671.0, 0.0, 2.0], [18022.0, 18071...  "
      ]
     },
     "execution_count": 11,
     "metadata": {},
     "output_type": "execute_result"
    }
   ],
   "source": [
    "ag.results_df.head()"
   ]
  },
  {
   "cell_type": "code",
   "execution_count": null,
   "metadata": {},
   "outputs": [],
   "source": []
  }
 ],
 "metadata": {
  "kernelspec": {
   "display_name": "Python 3 (ipykernel)",
   "language": "python",
   "name": "python3"
  },
  "language_info": {
   "codemirror_mode": {
    "name": "ipython",
    "version": 3
   },
   "file_extension": ".py",
   "mimetype": "text/x-python",
   "name": "python",
   "nbconvert_exporter": "python",
   "pygments_lexer": "ipython3",
   "version": "3.8.5"
  },
  "widgets": {
   "application/vnd.jupyter.widget-state+json": {
    "state": {
     "002e4f0f6e5247f3b1e07f6a9c2df619": {
      "model_module": "@jupyter-widgets/base",
      "model_module_version": "1.2.0",
      "model_name": "LayoutModel",
      "state": {}
     },
     "00391c9c99a243a19ad8d887c1f10d59": {
      "model_module": "@jupyter-widgets/base",
      "model_module_version": "1.2.0",
      "model_name": "LayoutModel",
      "state": {}
     },
     "00614c740ffb42dc8788db33b231e5c8": {
      "model_module": "@jupyter-widgets/controls",
      "model_module_version": "1.5.0",
      "model_name": "FloatProgressModel",
      "state": {
       "bar_style": "success",
       "layout": "IPY_MODEL_4eead172fdfb459791a10abeea953ad1",
       "max": 300,
       "style": "IPY_MODEL_a66ca3a2394445f18cf661a9e45fb982",
       "value": 300
      }
     },
     "00cfd81a13c444d2bbaf6b3e93339cc6": {
      "model_module": "@jupyter-widgets/controls",
      "model_module_version": "1.5.0",
      "model_name": "HTMLModel",
      "state": {
       "layout": "IPY_MODEL_5ac9f86d547f43568bb3cc2d44c2452f",
       "style": "IPY_MODEL_e101e86eb801401aaea897011b38d09a",
       "value": "Merging Features: 100%"
      }
     },
     "010b3d36de7146838e32bd8e8beff888": {
      "model_module": "@jupyter-widgets/controls",
      "model_module_version": "1.5.0",
      "model_name": "HTMLModel",
      "state": {
       "layout": "IPY_MODEL_16d5f9147b024c33b0f3163ae34c3d09",
       "style": "IPY_MODEL_fce9d587f4f54e2a98dc5d1facb03f69",
       "value": "Merging Features: 100%"
      }
     },
     "016c8bc2c8f74e0a8fbbb2a3888202e1": {
      "model_module": "@jupyter-widgets/controls",
      "model_module_version": "1.5.0",
      "model_name": "DescriptionStyleModel",
      "state": {
       "description_width": ""
      }
     },
     "018b58656ae74789865d077ad2a5b16a": {
      "model_module": "@jupyter-widgets/controls",
      "model_module_version": "1.5.0",
      "model_name": "ProgressStyleModel",
      "state": {
       "description_width": ""
      }
     },
     "01c40b1627f04fe888671c5ec212f61a": {
      "model_module": "@jupyter-widgets/controls",
      "model_module_version": "1.5.0",
      "model_name": "HBoxModel",
      "state": {
       "children": [
        "IPY_MODEL_1c47b0bd58d442188d2797e4ce3eb457",
        "IPY_MODEL_05adef99a9864eba9b3a64edb3df26b2",
        "IPY_MODEL_c43151c981e042178f037bfc5df8b307"
       ],
       "layout": "IPY_MODEL_3d83750dfd3a4b0880545d8f50416590"
      }
     },
     "01e35b29d358427cbec90dbdb560cb84": {
      "model_module": "@jupyter-widgets/base",
      "model_module_version": "1.2.0",
      "model_name": "LayoutModel",
      "state": {}
     },
     "0224d939bb8b48e4af9bc03754c3c29e": {
      "model_module": "@jupyter-widgets/controls",
      "model_module_version": "1.5.0",
      "model_name": "DescriptionStyleModel",
      "state": {
       "description_width": ""
      }
     },
     "031009fca0b04a61b44a1a5af82958ff": {
      "model_module": "@jupyter-widgets/base",
      "model_module_version": "1.2.0",
      "model_name": "LayoutModel",
      "state": {}
     },
     "03e3502220914da3aef90ff8c16f3837": {
      "model_module": "@jupyter-widgets/controls",
      "model_module_version": "1.5.0",
      "model_name": "HTMLModel",
      "state": {
       "layout": "IPY_MODEL_8a27dae0dcca43dbbc08cf94a109a5ef",
       "style": "IPY_MODEL_05b5d19aea55426b8353bffa50276da5",
       "value": "Calculating BVSE Variance: 100%"
      }
     },
     "03fb2db4913a45d99e8dc1b261f3ecc4": {
      "model_module": "@jupyter-widgets/base",
      "model_module_version": "1.2.0",
      "model_name": "LayoutModel",
      "state": {}
     },
     "04b019abaf534bccaf9665936f1cd133": {
      "model_module": "@jupyter-widgets/base",
      "model_module_version": "1.2.0",
      "model_name": "LayoutModel",
      "state": {}
     },
     "04e55df2138d465e8f8dcc2ce4af7951": {
      "model_module": "@jupyter-widgets/base",
      "model_module_version": "1.2.0",
      "model_name": "LayoutModel",
      "state": {}
     },
     "050182f67e75475d826f533f9464e2e5": {
      "model_module": "@jupyter-widgets/base",
      "model_module_version": "1.2.0",
      "model_name": "LayoutModel",
      "state": {}
     },
     "05030da6a5624082828eeff792a1fcbe": {
      "model_module": "@jupyter-widgets/controls",
      "model_module_version": "1.5.0",
      "model_name": "HTMLModel",
      "state": {
       "layout": "IPY_MODEL_7e45471397b1425882d633fcc8e01f2c",
       "style": "IPY_MODEL_bf22500a497043a184d3d38cd8b54be4",
       "value": " 2/2 [00:00&lt;00:00, 75.36it/s]"
      }
     },
     "05adef99a9864eba9b3a64edb3df26b2": {
      "model_module": "@jupyter-widgets/controls",
      "model_module_version": "1.5.0",
      "model_name": "FloatProgressModel",
      "state": {
       "bar_style": "success",
       "layout": "IPY_MODEL_3fa7dc06c14c4902b2180349318af47f",
       "max": 300,
       "style": "IPY_MODEL_0f734a03322d4c80bdd4cdd81c3f10b3",
       "value": 300
      }
     },
     "05b5d19aea55426b8353bffa50276da5": {
      "model_module": "@jupyter-widgets/controls",
      "model_module_version": "1.5.0",
      "model_name": "DescriptionStyleModel",
      "state": {
       "description_width": ""
      }
     },
     "05be181c90214425a4dd038e8d24bb5c": {
      "model_module": "@jupyter-widgets/controls",
      "model_module_version": "1.5.0",
      "model_name": "DescriptionStyleModel",
      "state": {
       "description_width": ""
      }
     },
     "05ce5643f025400c9cb0cdb71ecdb2cb": {
      "model_module": "@jupyter-widgets/base",
      "model_module_version": "1.2.0",
      "model_name": "LayoutModel",
      "state": {}
     },
     "06021a71c57c4e2fb0ace69d850b8d30": {
      "model_module": "@jupyter-widgets/base",
      "model_module_version": "1.2.0",
      "model_name": "LayoutModel",
      "state": {}
     },
     "0642bb41fb934068895911b7d4b7b633": {
      "model_module": "@jupyter-widgets/controls",
      "model_module_version": "1.5.0",
      "model_name": "HBoxModel",
      "state": {
       "children": [
        "IPY_MODEL_00cfd81a13c444d2bbaf6b3e93339cc6",
        "IPY_MODEL_9125993686454cea8b75008663fd2b06",
        "IPY_MODEL_c4f078ff0f7e46b6b38eef2327b5dcf9"
       ],
       "layout": "IPY_MODEL_124f56d58e3e42e59819bb227fea994c"
      }
     },
     "06716ae1a1ed4c5fba4ad7aefaa27d10": {
      "model_module": "@jupyter-widgets/controls",
      "model_module_version": "1.5.0",
      "model_name": "HTMLModel",
      "state": {
       "layout": "IPY_MODEL_4fc0cd9f614d435dbaabe0ec7142ab9b",
       "style": "IPY_MODEL_4a81cb82ef1e4d86ac29595afb1fc70b",
       "value": "Calculating Conductivity Variance: 100%"
      }
     },
     "06bc13ba59bd48849815a74db32cbf98": {
      "model_module": "@jupyter-widgets/controls",
      "model_module_version": "1.5.0",
      "model_name": "DescriptionStyleModel",
      "state": {
       "description_width": ""
      }
     },
     "06e43aa821cd44aaa8b575af6c9d8203": {
      "model_module": "@jupyter-widgets/base",
      "model_module_version": "1.2.0",
      "model_name": "LayoutModel",
      "state": {}
     },
     "0731277364a64e0aa48e606604bc6b96": {
      "model_module": "@jupyter-widgets/controls",
      "model_module_version": "1.5.0",
      "model_name": "ProgressStyleModel",
      "state": {
       "description_width": ""
      }
     },
     "074ac951de0d41a0844eda473148d5cd": {
      "model_module": "@jupyter-widgets/base",
      "model_module_version": "1.2.0",
      "model_name": "LayoutModel",
      "state": {}
     },
     "07738961f61f41b4b6b37b7682464eb0": {
      "model_module": "@jupyter-widgets/controls",
      "model_module_version": "1.5.0",
      "model_name": "ProgressStyleModel",
      "state": {
       "description_width": ""
      }
     },
     "07bbb66a2ade4d6ea1a11f6717240bac": {
      "model_module": "@jupyter-widgets/controls",
      "model_module_version": "1.5.0",
      "model_name": "DescriptionStyleModel",
      "state": {
       "description_width": ""
      }
     },
     "07bc831326f84723908d7969cd659dd5": {
      "model_module": "@jupyter-widgets/controls",
      "model_module_version": "1.5.0",
      "model_name": "DescriptionStyleModel",
      "state": {
       "description_width": ""
      }
     },
     "07f1ca2a8f134754bd7b2d3899f72344": {
      "model_module": "@jupyter-widgets/controls",
      "model_module_version": "1.5.0",
      "model_name": "ProgressStyleModel",
      "state": {
       "description_width": ""
      }
     },
     "089be21bc6ed4865a4408a154f5e3d3c": {
      "model_module": "@jupyter-widgets/base",
      "model_module_version": "1.2.0",
      "model_name": "LayoutModel",
      "state": {}
     },
     "0915db34dd774feb8b94f8e9a6aaa028": {
      "model_module": "@jupyter-widgets/controls",
      "model_module_version": "1.5.0",
      "model_name": "HBoxModel",
      "state": {
       "children": [
        "IPY_MODEL_755f44b78d9c4fd1a1c7ee10d86682aa",
        "IPY_MODEL_ca4c1a7658554222affe960c648ed943",
        "IPY_MODEL_941b8150d61c449e83fd8b7218baff35"
       ],
       "layout": "IPY_MODEL_dbccca5a1466499e9e5f120495bc8c1c"
      }
     },
     "0922546237c74dfe90f6d0774d4ca80b": {
      "model_module": "@jupyter-widgets/controls",
      "model_module_version": "1.5.0",
      "model_name": "DescriptionStyleModel",
      "state": {
       "description_width": ""
      }
     },
     "09dad9d90e4748bc907aae23024265b1": {
      "model_module": "@jupyter-widgets/controls",
      "model_module_version": "1.5.0",
      "model_name": "FloatProgressModel",
      "state": {
       "bar_style": "success",
       "layout": "IPY_MODEL_e1b5c2d822f9465290473918fc84494d",
       "max": 10,
       "style": "IPY_MODEL_ee18e75116c3494e94132b9a89a6da96",
       "value": 10
      }
     },
     "0a39520a38314c2296152200c45526a6": {
      "model_module": "@jupyter-widgets/controls",
      "model_module_version": "1.5.0",
      "model_name": "HBoxModel",
      "state": {
       "children": [
        "IPY_MODEL_3b419058fe4747e4bf6026f78e93eeba",
        "IPY_MODEL_00614c740ffb42dc8788db33b231e5c8",
        "IPY_MODEL_8b292fa0baec4d039fcae316c85cbac3"
       ],
       "layout": "IPY_MODEL_aa0a92f3266f4fef9bbf8cc2b9b4c702"
      }
     },
     "0a86a0369d2b41f7a518eace1c7f9a21": {
      "model_module": "@jupyter-widgets/controls",
      "model_module_version": "1.5.0",
      "model_name": "HTMLModel",
      "state": {
       "layout": "IPY_MODEL_21e065622f9e410ebc305c78c2688c38",
       "style": "IPY_MODEL_9425b0cb98df43cea50d6ca3da561690",
       "value": " 2/2 [00:00&lt;00:00, 79.20it/s]"
      }
     },
     "0aed5892e1844d97a8807319af325ef3": {
      "model_module": "@jupyter-widgets/base",
      "model_module_version": "1.2.0",
      "model_name": "LayoutModel",
      "state": {}
     },
     "0b16ed12195a492295ab313a6624b10e": {
      "model_module": "@jupyter-widgets/controls",
      "model_module_version": "1.5.0",
      "model_name": "FloatProgressModel",
      "state": {
       "bar_style": "success",
       "layout": "IPY_MODEL_1cda287d53014213b628799f4fc46fdd",
       "max": 300,
       "style": "IPY_MODEL_714a7a216a4e4009b49401c3e95883f0",
       "value": 300
      }
     },
     "0b3ba7cf30e84d119de50a49e545001d": {
      "model_module": "@jupyter-widgets/base",
      "model_module_version": "1.2.0",
      "model_name": "LayoutModel",
      "state": {}
     },
     "0b7dae2535f84aa89900d2706bfff543": {
      "model_module": "@jupyter-widgets/base",
      "model_module_version": "1.2.0",
      "model_name": "LayoutModel",
      "state": {}
     },
     "0b8e7948de5441abbcbc039bbdd76663": {
      "model_module": "@jupyter-widgets/controls",
      "model_module_version": "1.5.0",
      "model_name": "DescriptionStyleModel",
      "state": {
       "description_width": ""
      }
     },
     "0ba5876047f04fe0ab7f4d120be4af10": {
      "model_module": "@jupyter-widgets/controls",
      "model_module_version": "1.5.0",
      "model_name": "FloatProgressModel",
      "state": {
       "bar_style": "danger",
       "layout": "IPY_MODEL_5a355d4feea946579faad91017393244",
       "max": 10,
       "style": "IPY_MODEL_07f1ca2a8f134754bd7b2d3899f72344",
       "value": 2
      }
     },
     "0bf85f448c63490097915309a9b0359d": {
      "model_module": "@jupyter-widgets/controls",
      "model_module_version": "1.5.0",
      "model_name": "HBoxModel",
      "state": {
       "children": [
        "IPY_MODEL_dc69e83abe754589878d42301ab20168",
        "IPY_MODEL_20401b15820f40d1b63a1f04a0a9f67d",
        "IPY_MODEL_a784c080ac884f8aa5615363dc1af7c1"
       ],
       "layout": "IPY_MODEL_a254172800674426b76e0d2c90733ded"
      }
     },
     "0ca5c43b038740c7b1e6285205225058": {
      "model_module": "@jupyter-widgets/base",
      "model_module_version": "1.2.0",
      "model_name": "LayoutModel",
      "state": {}
     },
     "0d353f5004be478ba4e4059503099022": {
      "model_module": "@jupyter-widgets/base",
      "model_module_version": "1.2.0",
      "model_name": "LayoutModel",
      "state": {}
     },
     "0db14d36f94e4ce0a95694d24524f681": {
      "model_module": "@jupyter-widgets/controls",
      "model_module_version": "1.5.0",
      "model_name": "HTMLModel",
      "state": {
       "layout": "IPY_MODEL_e9181d8420d74625a3f6ac5f00f1eb20",
       "style": "IPY_MODEL_b74c555fc83e47d29d9e2c44b0e4e70e",
       "value": " 300/300 [00:33&lt;00:00,  7.99it/s]"
      }
     },
     "0dcf4ba70d914779bdbdeeb3064ca042": {
      "model_module": "@jupyter-widgets/controls",
      "model_module_version": "1.5.0",
      "model_name": "ProgressStyleModel",
      "state": {
       "description_width": ""
      }
     },
     "0e3821730ad34ce28b343127a6b20909": {
      "model_module": "@jupyter-widgets/controls",
      "model_module_version": "1.5.0",
      "model_name": "HBoxModel",
      "state": {
       "children": [
        "IPY_MODEL_a564e8aaee4b4a8aaa00ba2600c0cbbd",
        "IPY_MODEL_54617efd38194699ae81db5b694f203c",
        "IPY_MODEL_f8a96d4cffe04c468a5737aed77070b1"
       ],
       "layout": "IPY_MODEL_a521399935d14932ab803f93b551ae9d"
      }
     },
     "0e4b911017674027bb22d576da27c676": {
      "model_module": "@jupyter-widgets/controls",
      "model_module_version": "1.5.0",
      "model_name": "ProgressStyleModel",
      "state": {
       "description_width": ""
      }
     },
     "0e58105244874a6cbc358f78b9277e09": {
      "model_module": "@jupyter-widgets/controls",
      "model_module_version": "1.5.0",
      "model_name": "ProgressStyleModel",
      "state": {
       "description_width": ""
      }
     },
     "0e7a643027c74f3eac4f271680d5e41a": {
      "model_module": "@jupyter-widgets/controls",
      "model_module_version": "1.5.0",
      "model_name": "HTMLModel",
      "state": {
       "layout": "IPY_MODEL_35c2d901000d4b84872e03d3a9a89c52",
       "style": "IPY_MODEL_a8d5ffa460f34307a3a4ba2271c417cb",
       "value": " 300/300 [00:10&lt;00:00, 21.75it/s]"
      }
     },
     "0eb90d7b68c7497ebc53394906f85edb": {
      "model_module": "@jupyter-widgets/controls",
      "model_module_version": "1.5.0",
      "model_name": "ProgressStyleModel",
      "state": {
       "description_width": ""
      }
     },
     "0ef741948bc04d329c09e394660da6df": {
      "model_module": "@jupyter-widgets/controls",
      "model_module_version": "1.5.0",
      "model_name": "ProgressStyleModel",
      "state": {
       "description_width": ""
      }
     },
     "0f71d5493abb43f48598f7846485899d": {
      "model_module": "@jupyter-widgets/controls",
      "model_module_version": "1.5.0",
      "model_name": "HBoxModel",
      "state": {
       "children": [
        "IPY_MODEL_d4cf4766894449eca1a30e5692487359",
        "IPY_MODEL_f039def80f4d4fc386abb1f656e0202e",
        "IPY_MODEL_99a105cb21eb4a748dcc7bf30033f3ab"
       ],
       "layout": "IPY_MODEL_fde7740a09eb457da6c424a1816bd282"
      }
     },
     "0f734a03322d4c80bdd4cdd81c3f10b3": {
      "model_module": "@jupyter-widgets/controls",
      "model_module_version": "1.5.0",
      "model_name": "ProgressStyleModel",
      "state": {
       "description_width": ""
      }
     },
     "0f7e41d76a1e40cfae6ffab6459d160c": {
      "model_module": "@jupyter-widgets/controls",
      "model_module_version": "1.5.0",
      "model_name": "HBoxModel",
      "state": {
       "children": [
        "IPY_MODEL_cd98692dae874f51a8e65335755abb14",
        "IPY_MODEL_44ad0e31b1c041cd92c55fc378dd3045",
        "IPY_MODEL_27995af0394b4eb4b613e576ea1d9fe8"
       ],
       "layout": "IPY_MODEL_53450e76953b4af8b76ac1a221152e9c"
      }
     },
     "0f860ffd8ec7419994985f8349e3e93f": {
      "model_module": "@jupyter-widgets/base",
      "model_module_version": "1.2.0",
      "model_name": "LayoutModel",
      "state": {}
     },
     "0ff733e712524c0ca43e26af3efbacac": {
      "model_module": "@jupyter-widgets/controls",
      "model_module_version": "1.5.0",
      "model_name": "ProgressStyleModel",
      "state": {
       "description_width": ""
      }
     },
     "102fe7b130d0457e93d2019d6f092942": {
      "model_module": "@jupyter-widgets/base",
      "model_module_version": "1.2.0",
      "model_name": "LayoutModel",
      "state": {}
     },
     "108528869b3a49e299803c019784d513": {
      "model_module": "@jupyter-widgets/base",
      "model_module_version": "1.2.0",
      "model_name": "LayoutModel",
      "state": {}
     },
     "10f48e15c108464394340acc2025d1f6": {
      "model_module": "@jupyter-widgets/controls",
      "model_module_version": "1.5.0",
      "model_name": "HTMLModel",
      "state": {
       "layout": "IPY_MODEL_14aab77812fc456e81fb93f91cf27c49",
       "style": "IPY_MODEL_238a39bd6e494c739131690650c4f704",
       "value": "Merging Features: 100%"
      }
     },
     "11e110a4d62b44c6ba57d760d3f12e0a": {
      "model_module": "@jupyter-widgets/controls",
      "model_module_version": "1.5.0",
      "model_name": "DescriptionStyleModel",
      "state": {
       "description_width": ""
      }
     },
     "1219ff77579548b79c692a0f8d93f88b": {
      "model_module": "@jupyter-widgets/controls",
      "model_module_version": "1.5.0",
      "model_name": "HTMLModel",
      "state": {
       "layout": "IPY_MODEL_2e2f0116ddae44afb2641e3e4f193e67",
       "style": "IPY_MODEL_7b9759ae7d4441f9bd3ef607c3a5093e",
       "value": " 300/300 [00:33&lt;00:00,  8.18it/s]"
      }
     },
     "1239ba4785b34d0bb0479c0d83274a75": {
      "model_module": "@jupyter-widgets/controls",
      "model_module_version": "1.5.0",
      "model_name": "DescriptionStyleModel",
      "state": {
       "description_width": ""
      }
     },
     "124f56d58e3e42e59819bb227fea994c": {
      "model_module": "@jupyter-widgets/base",
      "model_module_version": "1.2.0",
      "model_name": "LayoutModel",
      "state": {}
     },
     "12710a96851a4ece91f6f2cdbc2480d0": {
      "model_module": "@jupyter-widgets/controls",
      "model_module_version": "1.5.0",
      "model_name": "HTMLModel",
      "state": {
       "layout": "IPY_MODEL_f2d666c0d1a9456e80134b0c04d95bdf",
       "style": "IPY_MODEL_441113f8254d4f10b6512f2c4f147479",
       "value": "Merging Features: 100%"
      }
     },
     "1310414b4c8a44479e4dfb7885faf440": {
      "model_module": "@jupyter-widgets/controls",
      "model_module_version": "1.5.0",
      "model_name": "HTMLModel",
      "state": {
       "layout": "IPY_MODEL_c73af5d13ad1421b82e0fcc8eb335be4",
       "style": "IPY_MODEL_cf86001b6dec4e55be6bf89a515906ec",
       "value": " 2/2 [00:00&lt;00:00, 75.65it/s]"
      }
     },
     "139a9505d6d84ea69bf3761b2153d1fb": {
      "model_module": "@jupyter-widgets/controls",
      "model_module_version": "1.5.0",
      "model_name": "HTMLModel",
      "state": {
       "layout": "IPY_MODEL_170d2fde3b5f44a7881b289ea04965b6",
       "style": "IPY_MODEL_98c9d7e76d4a4c51a539f726e52fe182",
       "value": " 2/2 [00:00&lt;00:00, 75.79it/s]"
      }
     },
     "13db3687bcd44ff2b95cb0e0298d892d": {
      "model_module": "@jupyter-widgets/controls",
      "model_module_version": "1.5.0",
      "model_name": "HBoxModel",
      "state": {
       "children": [
        "IPY_MODEL_8714f55a20324bd99c49bde4e41cdd42",
        "IPY_MODEL_ff929fa0ecb14e43bebc939c5d69dc74",
        "IPY_MODEL_4120dd0155dd4804903a30bcd0701b6a"
       ],
       "layout": "IPY_MODEL_7bfbec687f9e4a3daa6fc1c09c48f941"
      }
     },
     "1468a723fd6c4c019595335217fc5193": {
      "model_module": "@jupyter-widgets/base",
      "model_module_version": "1.2.0",
      "model_name": "LayoutModel",
      "state": {}
     },
     "1468b1dc04b24af9bede22cd0f10d43a": {
      "model_module": "@jupyter-widgets/controls",
      "model_module_version": "1.5.0",
      "model_name": "FloatProgressModel",
      "state": {
       "bar_style": "success",
       "layout": "IPY_MODEL_733d439da0914dd7bff38e0563fd2ad3",
       "max": 300,
       "style": "IPY_MODEL_5ec08f13d1b94011ace50ac22620fae7",
       "value": 300
      }
     },
     "14a00cd6e74846ef8765300183bfb706": {
      "model_module": "@jupyter-widgets/base",
      "model_module_version": "1.2.0",
      "model_name": "LayoutModel",
      "state": {}
     },
     "14aab77812fc456e81fb93f91cf27c49": {
      "model_module": "@jupyter-widgets/base",
      "model_module_version": "1.2.0",
      "model_name": "LayoutModel",
      "state": {}
     },
     "1557744fd3ce41e6bbd5d10c3989f5fc": {
      "model_module": "@jupyter-widgets/base",
      "model_module_version": "1.2.0",
      "model_name": "LayoutModel",
      "state": {}
     },
     "155baac827084b3f8e82dce37fa22ef7": {
      "model_module": "@jupyter-widgets/controls",
      "model_module_version": "1.5.0",
      "model_name": "HTMLModel",
      "state": {
       "layout": "IPY_MODEL_b8135ddafd7f4e0fbc2814341e211d6c",
       "style": "IPY_MODEL_c28d0e679c404557800a577e01538945",
       "value": "Calculating Conductivity Variance: 100%"
      }
     },
     "15dba0ba9f15443db8fdcc8cce0dc434": {
      "model_module": "@jupyter-widgets/controls",
      "model_module_version": "1.5.0",
      "model_name": "HTMLModel",
      "state": {
       "layout": "IPY_MODEL_a7a5a6ed393e41d693eed38c226222cc",
       "style": "IPY_MODEL_8d0d571c3615424390bfbb39aeae2bf9",
       "value": "Calculating Conductivity Variance: 100%"
      }
     },
     "15fdd50a85864b5394b264c90e58e18d": {
      "model_module": "@jupyter-widgets/base",
      "model_module_version": "1.2.0",
      "model_name": "LayoutModel",
      "state": {}
     },
     "1611c143c384468ca1b4f7a8b4b92fa9": {
      "model_module": "@jupyter-widgets/controls",
      "model_module_version": "1.5.0",
      "model_name": "HTMLModel",
      "state": {
       "layout": "IPY_MODEL_7b33b916ae99460194b1fc3a308c0cc5",
       "style": "IPY_MODEL_4a8dfb387e5747a4af40ba5bc8579f5d",
       "value": "Calculating BVSE Variance: 100%"
      }
     },
     "166bc44afd844537b9eacdfc8c2f39d9": {
      "model_module": "@jupyter-widgets/base",
      "model_module_version": "1.2.0",
      "model_name": "LayoutModel",
      "state": {}
     },
     "16d5f9147b024c33b0f3163ae34c3d09": {
      "model_module": "@jupyter-widgets/base",
      "model_module_version": "1.2.0",
      "model_name": "LayoutModel",
      "state": {}
     },
     "17095ac2c44e4aa781c819d1533bc560": {
      "model_module": "@jupyter-widgets/controls",
      "model_module_version": "1.5.0",
      "model_name": "FloatProgressModel",
      "state": {
       "bar_style": "success",
       "layout": "IPY_MODEL_a3ed91d25bc64390a39dcd4953b135a1",
       "max": 2,
       "style": "IPY_MODEL_82fb6d4c8574451dafe3de0152018aa1",
       "value": 2
      }
     },
     "170d2fde3b5f44a7881b289ea04965b6": {
      "model_module": "@jupyter-widgets/base",
      "model_module_version": "1.2.0",
      "model_name": "LayoutModel",
      "state": {}
     },
     "170e801d00964fd8846ab052b440ea7d": {
      "model_module": "@jupyter-widgets/controls",
      "model_module_version": "1.5.0",
      "model_name": "DescriptionStyleModel",
      "state": {
       "description_width": ""
      }
     },
     "1721919becae4bdab117ef8a3414658a": {
      "model_module": "@jupyter-widgets/controls",
      "model_module_version": "1.5.0",
      "model_name": "FloatProgressModel",
      "state": {
       "bar_style": "success",
       "layout": "IPY_MODEL_81f02dcf9d624ad4a8ca3a8f9decd22f",
       "max": 10,
       "style": "IPY_MODEL_fb335c5527c24289b8bbbaf94335d757",
       "value": 10
      }
     },
     "173103d961364a73954f7c745bf92e00": {
      "model_module": "@jupyter-widgets/controls",
      "model_module_version": "1.5.0",
      "model_name": "ProgressStyleModel",
      "state": {
       "description_width": ""
      }
     },
     "175247a594c44f898de97554d8557976": {
      "model_module": "@jupyter-widgets/controls",
      "model_module_version": "1.5.0",
      "model_name": "DescriptionStyleModel",
      "state": {
       "description_width": ""
      }
     },
     "17771134e1374fd79ef29b4db61686f8": {
      "model_module": "@jupyter-widgets/controls",
      "model_module_version": "1.5.0",
      "model_name": "HTMLModel",
      "state": {
       "layout": "IPY_MODEL_8469c8dcd0ad41d081c869d99dffc977",
       "style": "IPY_MODEL_613bf05503a64ab397a793a16a12cb87",
       "value": "Merging Features: 100%"
      }
     },
     "178fcfb460c444d89db0a387c1110b4d": {
      "model_module": "@jupyter-widgets/controls",
      "model_module_version": "1.5.0",
      "model_name": "HTMLModel",
      "state": {
       "layout": "IPY_MODEL_04e55df2138d465e8f8dcc2ce4af7951",
       "style": "IPY_MODEL_54e2940a5c524e9ca78581d723c74b44",
       "value": " 300/300 [00:33&lt;00:00,  8.16it/s]"
      }
     },
     "17b9701bf6304e4bbb5cb6b9b18f84aa": {
      "model_module": "@jupyter-widgets/controls",
      "model_module_version": "1.5.0",
      "model_name": "FloatProgressModel",
      "state": {
       "bar_style": "success",
       "layout": "IPY_MODEL_2305e1ea482543e1b2d45a315051a71b",
       "max": 2,
       "style": "IPY_MODEL_da5f23bffae3468182310327844216ef",
       "value": 2
      }
     },
     "17ff6f2cd2004591816f610e2c00c5e4": {
      "model_module": "@jupyter-widgets/controls",
      "model_module_version": "1.5.0",
      "model_name": "DescriptionStyleModel",
      "state": {
       "description_width": ""
      }
     },
     "1806ff8829644e82a1def0e3457f566e": {
      "model_module": "@jupyter-widgets/base",
      "model_module_version": "1.2.0",
      "model_name": "LayoutModel",
      "state": {}
     },
     "1860a830610344d486b96353d162a15b": {
      "model_module": "@jupyter-widgets/controls",
      "model_module_version": "1.5.0",
      "model_name": "ProgressStyleModel",
      "state": {
       "description_width": ""
      }
     },
     "190333f10b724a4d8fda7a89fa038fd4": {
      "model_module": "@jupyter-widgets/controls",
      "model_module_version": "1.5.0",
      "model_name": "HBoxModel",
      "state": {
       "children": [
        "IPY_MODEL_c79b82041d574522969a784cd7cfb233",
        "IPY_MODEL_8a26e51101c7445f907dbda7cd742e6c",
        "IPY_MODEL_8016c3bb7c764224b8f1b1b7cc7b7b29"
       ],
       "layout": "IPY_MODEL_e79a1a34887a4d6c8a03ad4346798ef6"
      }
     },
     "190e7b4a5de94eed98f7ebc0dfc49401": {
      "model_module": "@jupyter-widgets/base",
      "model_module_version": "1.2.0",
      "model_name": "LayoutModel",
      "state": {}
     },
     "19167a89f318499abda6591f6059dc5a": {
      "model_module": "@jupyter-widgets/controls",
      "model_module_version": "1.5.0",
      "model_name": "FloatProgressModel",
      "state": {
       "bar_style": "success",
       "layout": "IPY_MODEL_225aa61d666a4619a7fa8e5b1655c820",
       "max": 300,
       "style": "IPY_MODEL_95888c93f09546fd9a376413913a8c2d",
       "value": 300
      }
     },
     "191d4ab9bdd94021ad6131e9e593b965": {
      "model_module": "@jupyter-widgets/controls",
      "model_module_version": "1.5.0",
      "model_name": "HBoxModel",
      "state": {
       "children": [
        "IPY_MODEL_61dc36c71f484d2e8e6e5209cab49283",
        "IPY_MODEL_262693c6aae842609eb075e40fc7a113",
        "IPY_MODEL_e064a09e50084c80a10156e783d960a8"
       ],
       "layout": "IPY_MODEL_a4f91a7c32934f90bf1998acee863e2f"
      }
     },
     "1920c6a299dd46febd6bf1768b6c20dd": {
      "model_module": "@jupyter-widgets/base",
      "model_module_version": "1.2.0",
      "model_name": "LayoutModel",
      "state": {}
     },
     "1985d6b611ae4a9d9d6ddf677fbe582a": {
      "model_module": "@jupyter-widgets/controls",
      "model_module_version": "1.5.0",
      "model_name": "HTMLModel",
      "state": {
       "layout": "IPY_MODEL_27f20f5dfd1442b199807aa77fe87651",
       "style": "IPY_MODEL_07bc831326f84723908d7969cd659dd5",
       "value": " 300/300 [00:34&lt;00:00,  8.03it/s]"
      }
     },
     "19f45bc10b4e48efb38c9cd7564dbe99": {
      "model_module": "@jupyter-widgets/controls",
      "model_module_version": "1.5.0",
      "model_name": "DescriptionStyleModel",
      "state": {
       "description_width": ""
      }
     },
     "1a08a8e659f34d039c79c2ea7851b07e": {
      "model_module": "@jupyter-widgets/controls",
      "model_module_version": "1.5.0",
      "model_name": "HTMLModel",
      "state": {
       "layout": "IPY_MODEL_95c064fe88724e0689cec07272c8b699",
       "style": "IPY_MODEL_553d620cdefd4cad8c51d5ff7598c0de",
       "value": " 300/300 [00:10&lt;00:00, 21.36it/s]"
      }
     },
     "1a37aad4f220477b9231a7f29d6223e9": {
      "model_module": "@jupyter-widgets/controls",
      "model_module_version": "1.5.0",
      "model_name": "DescriptionStyleModel",
      "state": {
       "description_width": ""
      }
     },
     "1abfc38a3e444695979012aa689f86d8": {
      "model_module": "@jupyter-widgets/base",
      "model_module_version": "1.2.0",
      "model_name": "LayoutModel",
      "state": {}
     },
     "1ac83d716ce84a3f84086f7244a881f3": {
      "model_module": "@jupyter-widgets/base",
      "model_module_version": "1.2.0",
      "model_name": "LayoutModel",
      "state": {}
     },
     "1ad147eed96d49d29fda66fef7aa35c0": {
      "model_module": "@jupyter-widgets/controls",
      "model_module_version": "1.5.0",
      "model_name": "ProgressStyleModel",
      "state": {
       "description_width": ""
      }
     },
     "1afe9cb2279a49589da13cd5d87f0c7f": {
      "model_module": "@jupyter-widgets/controls",
      "model_module_version": "1.5.0",
      "model_name": "HTMLModel",
      "state": {
       "layout": "IPY_MODEL_bb2dea54dac24d17bc0877e219271fc7",
       "style": "IPY_MODEL_4b1009c2fe754aa48db4d1f79c24edb6",
       "value": " 2/2 [00:00&lt;00:00, 75.33it/s]"
      }
     },
     "1b7afe5ebf494d95bf063427217f228e": {
      "model_module": "@jupyter-widgets/base",
      "model_module_version": "1.2.0",
      "model_name": "LayoutModel",
      "state": {}
     },
     "1c3de31d5eae4b7eb0bc1a6c74784f87": {
      "model_module": "@jupyter-widgets/base",
      "model_module_version": "1.2.0",
      "model_name": "LayoutModel",
      "state": {}
     },
     "1c47b0bd58d442188d2797e4ce3eb457": {
      "model_module": "@jupyter-widgets/controls",
      "model_module_version": "1.5.0",
      "model_name": "HTMLModel",
      "state": {
       "layout": "IPY_MODEL_3ad33921ccc14268ac171e2168953f31",
       "style": "IPY_MODEL_78af78a4b62c47678552ea254d8a6134",
       "value": "Calculating BVSE Variance: 100%"
      }
     },
     "1cd271bfd2b74e5aa5b2be4e1f93e7c9": {
      "model_module": "@jupyter-widgets/controls",
      "model_module_version": "1.5.0",
      "model_name": "DescriptionStyleModel",
      "state": {
       "description_width": ""
      }
     },
     "1cda287d53014213b628799f4fc46fdd": {
      "model_module": "@jupyter-widgets/base",
      "model_module_version": "1.2.0",
      "model_name": "LayoutModel",
      "state": {}
     },
     "1d044987c1db4832bb0ed9874b055122": {
      "model_module": "@jupyter-widgets/base",
      "model_module_version": "1.2.0",
      "model_name": "LayoutModel",
      "state": {}
     },
     "1d5c08fb3e544d4da66c62fb7ce15060": {
      "model_module": "@jupyter-widgets/controls",
      "model_module_version": "1.5.0",
      "model_name": "FloatProgressModel",
      "state": {
       "bar_style": "success",
       "layout": "IPY_MODEL_41ca489070d9458cbac68356d03f6ca6",
       "max": 300,
       "style": "IPY_MODEL_5573a35b374f4ebea9ca32a2c776848a",
       "value": 300
      }
     },
     "1d77aa73f31e49eca1e2680a61879b3c": {
      "model_module": "@jupyter-widgets/controls",
      "model_module_version": "1.5.0",
      "model_name": "ProgressStyleModel",
      "state": {
       "description_width": ""
      }
     },
     "1e8ad12d29a34cb098aa017c1cadc99f": {
      "model_module": "@jupyter-widgets/controls",
      "model_module_version": "1.5.0",
      "model_name": "DescriptionStyleModel",
      "state": {
       "description_width": ""
      }
     },
     "1f00e1e733ba4b3183201df445d31dfb": {
      "model_module": "@jupyter-widgets/controls",
      "model_module_version": "1.5.0",
      "model_name": "HBoxModel",
      "state": {
       "children": [
        "IPY_MODEL_2ba073d9990344cf83cea8ae3898cac2",
        "IPY_MODEL_ebdb3d6ee7de4104b9b54ff4468e14c3",
        "IPY_MODEL_ac0bb73baded4110a4e223397e840fb1"
       ],
       "layout": "IPY_MODEL_90a203e1913c4b448698e51b2c4cfb63"
      }
     },
     "1f20bdc0057246d29ab502f43e7607d5": {
      "model_module": "@jupyter-widgets/base",
      "model_module_version": "1.2.0",
      "model_name": "LayoutModel",
      "state": {}
     },
     "1f64ed7459224f83b2483e5fe7d592d7": {
      "model_module": "@jupyter-widgets/base",
      "model_module_version": "1.2.0",
      "model_name": "LayoutModel",
      "state": {}
     },
     "1fd04353be46447f8f04a9b528d6fa65": {
      "model_module": "@jupyter-widgets/base",
      "model_module_version": "1.2.0",
      "model_name": "LayoutModel",
      "state": {}
     },
     "1feb3f9ea7c64a59846e13a27c2df8a0": {
      "model_module": "@jupyter-widgets/base",
      "model_module_version": "1.2.0",
      "model_name": "LayoutModel",
      "state": {}
     },
     "200bcc4256cc47f38641e73572f8fa11": {
      "model_module": "@jupyter-widgets/base",
      "model_module_version": "1.2.0",
      "model_name": "LayoutModel",
      "state": {}
     },
     "20401b15820f40d1b63a1f04a0a9f67d": {
      "model_module": "@jupyter-widgets/controls",
      "model_module_version": "1.5.0",
      "model_name": "FloatProgressModel",
      "state": {
       "bar_style": "success",
       "layout": "IPY_MODEL_01e35b29d358427cbec90dbdb560cb84",
       "max": 300,
       "style": "IPY_MODEL_7d26916902294240b7987a15819daf0f",
       "value": 300
      }
     },
     "20c30b4ec00a407391135ff3d8426ce3": {
      "model_module": "@jupyter-widgets/base",
      "model_module_version": "1.2.0",
      "model_name": "LayoutModel",
      "state": {}
     },
     "21e065622f9e410ebc305c78c2688c38": {
      "model_module": "@jupyter-widgets/base",
      "model_module_version": "1.2.0",
      "model_name": "LayoutModel",
      "state": {}
     },
     "2212f930ba484a86818b43899fb1c2bb": {
      "model_module": "@jupyter-widgets/base",
      "model_module_version": "1.2.0",
      "model_name": "LayoutModel",
      "state": {}
     },
     "225aa61d666a4619a7fa8e5b1655c820": {
      "model_module": "@jupyter-widgets/base",
      "model_module_version": "1.2.0",
      "model_name": "LayoutModel",
      "state": {}
     },
     "225f2d3104bc4b68ae256d0ac01c7bf5": {
      "model_module": "@jupyter-widgets/base",
      "model_module_version": "1.2.0",
      "model_name": "LayoutModel",
      "state": {}
     },
     "2305e1ea482543e1b2d45a315051a71b": {
      "model_module": "@jupyter-widgets/base",
      "model_module_version": "1.2.0",
      "model_name": "LayoutModel",
      "state": {}
     },
     "23129385a06e4a90abb134563a76e381": {
      "model_module": "@jupyter-widgets/controls",
      "model_module_version": "1.5.0",
      "model_name": "FloatProgressModel",
      "state": {
       "bar_style": "success",
       "layout": "IPY_MODEL_e67f6fff48074f62bcaf4966a88634c6",
       "max": 300,
       "style": "IPY_MODEL_f86560243f014198ac1c77d5ca1dd038",
       "value": 300
      }
     },
     "2312b2c7d0664b6ab1c5be7df4f6f65d": {
      "model_module": "@jupyter-widgets/base",
      "model_module_version": "1.2.0",
      "model_name": "LayoutModel",
      "state": {}
     },
     "235ec59b273b4403863dbcaa6b829fb5": {
      "model_module": "@jupyter-widgets/controls",
      "model_module_version": "1.5.0",
      "model_name": "DescriptionStyleModel",
      "state": {
       "description_width": ""
      }
     },
     "238a39bd6e494c739131690650c4f704": {
      "model_module": "@jupyter-widgets/controls",
      "model_module_version": "1.5.0",
      "model_name": "DescriptionStyleModel",
      "state": {
       "description_width": ""
      }
     },
     "23a46c806ca249d88d4cbb1f06ffee2a": {
      "model_module": "@jupyter-widgets/controls",
      "model_module_version": "1.5.0",
      "model_name": "HTMLModel",
      "state": {
       "layout": "IPY_MODEL_38a1e2222341430487b93a312c0b1723",
       "style": "IPY_MODEL_f4f1e343fe0941e9b0c1bce78cf76f15",
       "value": "Merging Features: 100%"
      }
     },
     "254a5b8321ec40989a68729b961a0059": {
      "model_module": "@jupyter-widgets/base",
      "model_module_version": "1.2.0",
      "model_name": "LayoutModel",
      "state": {}
     },
     "25c0b2eacbf24cdf8145c04fe63e6ff0": {
      "model_module": "@jupyter-widgets/base",
      "model_module_version": "1.2.0",
      "model_name": "LayoutModel",
      "state": {}
     },
     "25dbb0d28b3c45608dbdc4e5cf8bf14c": {
      "model_module": "@jupyter-widgets/controls",
      "model_module_version": "1.5.0",
      "model_name": "FloatProgressModel",
      "state": {
       "bar_style": "success",
       "layout": "IPY_MODEL_1557744fd3ce41e6bbd5d10c3989f5fc",
       "max": 2,
       "style": "IPY_MODEL_2ac2897129084c069fdf43e381f8a947",
       "value": 2
      }
     },
     "262693c6aae842609eb075e40fc7a113": {
      "model_module": "@jupyter-widgets/controls",
      "model_module_version": "1.5.0",
      "model_name": "FloatProgressModel",
      "state": {
       "bar_style": "success",
       "layout": "IPY_MODEL_52bd62092ccc4930ae3ccf774ad9eab4",
       "max": 300,
       "style": "IPY_MODEL_7e17c2d842dd4324a6cf3708bb08cf0d",
       "value": 300
      }
     },
     "263bde80c03a41c3b52b310573190e62": {
      "model_module": "@jupyter-widgets/controls",
      "model_module_version": "1.5.0",
      "model_name": "ProgressStyleModel",
      "state": {
       "description_width": ""
      }
     },
     "2681d523bca54ad48b3b676084c9fcfb": {
      "model_module": "@jupyter-widgets/base",
      "model_module_version": "1.2.0",
      "model_name": "LayoutModel",
      "state": {}
     },
     "268e99430eaf46ba8d5e311f5baf3c90": {
      "model_module": "@jupyter-widgets/base",
      "model_module_version": "1.2.0",
      "model_name": "LayoutModel",
      "state": {}
     },
     "26f3372b5bca42da871588f9acdb1140": {
      "model_module": "@jupyter-widgets/controls",
      "model_module_version": "1.5.0",
      "model_name": "HTMLModel",
      "state": {
       "layout": "IPY_MODEL_600522a036ea4acd9a71e99e6af5a41f",
       "style": "IPY_MODEL_b21d9d07e0934090a989356212d91e6c",
       "value": "Calculating BVSE Variance: 100%"
      }
     },
     "270469ac375d4e72962e574784f1e974": {
      "model_module": "@jupyter-widgets/base",
      "model_module_version": "1.2.0",
      "model_name": "LayoutModel",
      "state": {}
     },
     "27362938d7684ba6ad791af952b94963": {
      "model_module": "@jupyter-widgets/controls",
      "model_module_version": "1.5.0",
      "model_name": "HTMLModel",
      "state": {
       "layout": "IPY_MODEL_b7c9998965834ea3b253e5ed44aa9474",
       "style": "IPY_MODEL_29d9182ae4eb4028ad46d2452c68ef51",
       "value": " 2/2 [00:00&lt;00:00, 77.85it/s]"
      }
     },
     "274e2ea840fb4f94a01c41ab7619467d": {
      "model_module": "@jupyter-widgets/controls",
      "model_module_version": "1.5.0",
      "model_name": "ProgressStyleModel",
      "state": {
       "description_width": ""
      }
     },
     "27827ad039a3436683ec23226a7bbd83": {
      "model_module": "@jupyter-widgets/base",
      "model_module_version": "1.2.0",
      "model_name": "LayoutModel",
      "state": {}
     },
     "27995af0394b4eb4b613e576ea1d9fe8": {
      "model_module": "@jupyter-widgets/controls",
      "model_module_version": "1.5.0",
      "model_name": "HTMLModel",
      "state": {
       "layout": "IPY_MODEL_36f668a3829140d08f0caa1609cd52e5",
       "style": "IPY_MODEL_2d8816eb2c7947e182ed25cc957b3dfd",
       "value": " 300/300 [00:33&lt;00:00,  8.17it/s]"
      }
     },
     "279db3d791834094a102ddda0f2fae4c": {
      "model_module": "@jupyter-widgets/base",
      "model_module_version": "1.2.0",
      "model_name": "LayoutModel",
      "state": {}
     },
     "27f20f5dfd1442b199807aa77fe87651": {
      "model_module": "@jupyter-widgets/base",
      "model_module_version": "1.2.0",
      "model_name": "LayoutModel",
      "state": {}
     },
     "28a576a0fbeb4f019914875eb88d1133": {
      "model_module": "@jupyter-widgets/controls",
      "model_module_version": "1.5.0",
      "model_name": "DescriptionStyleModel",
      "state": {
       "description_width": ""
      }
     },
     "298a18028c974eb097102df12e11af29": {
      "model_module": "@jupyter-widgets/controls",
      "model_module_version": "1.5.0",
      "model_name": "DescriptionStyleModel",
      "state": {
       "description_width": ""
      }
     },
     "29d9182ae4eb4028ad46d2452c68ef51": {
      "model_module": "@jupyter-widgets/controls",
      "model_module_version": "1.5.0",
      "model_name": "DescriptionStyleModel",
      "state": {
       "description_width": ""
      }
     },
     "29f7bc7b16be4cc9bd407212464ccb87": {
      "model_module": "@jupyter-widgets/base",
      "model_module_version": "1.2.0",
      "model_name": "LayoutModel",
      "state": {}
     },
     "2a3e9615457e438c959842397caf4fc3": {
      "model_module": "@jupyter-widgets/controls",
      "model_module_version": "1.5.0",
      "model_name": "HBoxModel",
      "state": {
       "children": [
        "IPY_MODEL_e00aa9875db14586b251bf77b8e91309",
        "IPY_MODEL_bf79fcab627e404696288e8b43353663",
        "IPY_MODEL_e469b64a53c94422910764e62d4c1a28"
       ],
       "layout": "IPY_MODEL_20c30b4ec00a407391135ff3d8426ce3"
      }
     },
     "2a9efda6e7ad4f8a9498dba447c61ffc": {
      "model_module": "@jupyter-widgets/base",
      "model_module_version": "1.2.0",
      "model_name": "LayoutModel",
      "state": {}
     },
     "2ac11145185d4d4faf1bb70d48b1391f": {
      "model_module": "@jupyter-widgets/controls",
      "model_module_version": "1.5.0",
      "model_name": "HTMLModel",
      "state": {
       "layout": "IPY_MODEL_e81bbda3d0434eb0b29114999eccb270",
       "style": "IPY_MODEL_e70ec67d6426498090f2392c8175cd99",
       "value": " 2/10 [03:32&lt;11:32, 86.61s/it]"
      }
     },
     "2ac2897129084c069fdf43e381f8a947": {
      "model_module": "@jupyter-widgets/controls",
      "model_module_version": "1.5.0",
      "model_name": "ProgressStyleModel",
      "state": {
       "description_width": ""
      }
     },
     "2b234edb19de44cb8791461a9639a20c": {
      "model_module": "@jupyter-widgets/controls",
      "model_module_version": "1.5.0",
      "model_name": "DescriptionStyleModel",
      "state": {
       "description_width": ""
      }
     },
     "2b767d4247aa46f0bae6d0d941737474": {
      "model_module": "@jupyter-widgets/controls",
      "model_module_version": "1.5.0",
      "model_name": "DescriptionStyleModel",
      "state": {
       "description_width": ""
      }
     },
     "2ba073d9990344cf83cea8ae3898cac2": {
      "model_module": "@jupyter-widgets/controls",
      "model_module_version": "1.5.0",
      "model_name": "HTMLModel",
      "state": {
       "layout": "IPY_MODEL_5edda97d97144f889ab3d5db8bd411e3",
       "style": "IPY_MODEL_c7c20adaac10404a8c524747b2592aee",
       "value": "Merging Features: 100%"
      }
     },
     "2c3a2a1bed4e4a2089c98fc9d3d2fd42": {
      "model_module": "@jupyter-widgets/controls",
      "model_module_version": "1.5.0",
      "model_name": "FloatProgressModel",
      "state": {
       "bar_style": "success",
       "layout": "IPY_MODEL_de6795a83433438dbaddb3e2210f9568",
       "max": 2,
       "style": "IPY_MODEL_d82bd41d819641c98629a2744bd707a2",
       "value": 2
      }
     },
     "2c4973394fc44fa4a734f69c6bc74453": {
      "model_module": "@jupyter-widgets/base",
      "model_module_version": "1.2.0",
      "model_name": "LayoutModel",
      "state": {}
     },
     "2d7563d2a3e045bab03762989e92189c": {
      "model_module": "@jupyter-widgets/controls",
      "model_module_version": "1.5.0",
      "model_name": "DescriptionStyleModel",
      "state": {
       "description_width": ""
      }
     },
     "2d8816eb2c7947e182ed25cc957b3dfd": {
      "model_module": "@jupyter-widgets/controls",
      "model_module_version": "1.5.0",
      "model_name": "DescriptionStyleModel",
      "state": {
       "description_width": ""
      }
     },
     "2daac4be8e9b41e09927c339d81939dd": {
      "model_module": "@jupyter-widgets/controls",
      "model_module_version": "1.5.0",
      "model_name": "FloatProgressModel",
      "state": {
       "bar_style": "success",
       "layout": "IPY_MODEL_5b7a9852a735479fa043c4788a961b94",
       "max": 1,
       "style": "IPY_MODEL_a2cbf6b6a9b9407e945ba1d33ac91781",
       "value": 1
      }
     },
     "2e153cfeda3b49fca1dec02447adc452": {
      "model_module": "@jupyter-widgets/base",
      "model_module_version": "1.2.0",
      "model_name": "LayoutModel",
      "state": {}
     },
     "2e2f0116ddae44afb2641e3e4f193e67": {
      "model_module": "@jupyter-widgets/base",
      "model_module_version": "1.2.0",
      "model_name": "LayoutModel",
      "state": {}
     },
     "2e48a2bc6b384c94bf3746898419130c": {
      "model_module": "@jupyter-widgets/controls",
      "model_module_version": "1.5.0",
      "model_name": "DescriptionStyleModel",
      "state": {
       "description_width": ""
      }
     },
     "2f9db4fb6c214012bca0495f2bf25ef4": {
      "model_module": "@jupyter-widgets/controls",
      "model_module_version": "1.5.0",
      "model_name": "FloatProgressModel",
      "state": {
       "bar_style": "success",
       "layout": "IPY_MODEL_268e99430eaf46ba8d5e311f5baf3c90",
       "max": 300,
       "style": "IPY_MODEL_6e49dc009bc240aa9ede86a83099a0f7",
       "value": 300
      }
     },
     "30a2485fa9ef401ca5ca059767f6473d": {
      "model_module": "@jupyter-widgets/base",
      "model_module_version": "1.2.0",
      "model_name": "LayoutModel",
      "state": {}
     },
     "30cb9af9984041d0ac928e137e9586b9": {
      "model_module": "@jupyter-widgets/base",
      "model_module_version": "1.2.0",
      "model_name": "LayoutModel",
      "state": {}
     },
     "317e472311654bcfbff3ebe8e0f9bc5f": {
      "model_module": "@jupyter-widgets/base",
      "model_module_version": "1.2.0",
      "model_name": "LayoutModel",
      "state": {}
     },
     "3199707e0c7d485f983ce99056e9aefb": {
      "model_module": "@jupyter-widgets/base",
      "model_module_version": "1.2.0",
      "model_name": "LayoutModel",
      "state": {}
     },
     "319da0e357fa485d8f0026cf24ed7dde": {
      "model_module": "@jupyter-widgets/base",
      "model_module_version": "1.2.0",
      "model_name": "LayoutModel",
      "state": {}
     },
     "31b90769865e4597a378cd0f2fb3cc94": {
      "model_module": "@jupyter-widgets/base",
      "model_module_version": "1.2.0",
      "model_name": "LayoutModel",
      "state": {}
     },
     "3285a4a2b18047c0887d1f3b4c1378a1": {
      "model_module": "@jupyter-widgets/base",
      "model_module_version": "1.2.0",
      "model_name": "LayoutModel",
      "state": {}
     },
     "33add6ab64174f0f924640c28807b3e4": {
      "model_module": "@jupyter-widgets/controls",
      "model_module_version": "1.5.0",
      "model_name": "HTMLModel",
      "state": {
       "layout": "IPY_MODEL_30a2485fa9ef401ca5ca059767f6473d",
       "style": "IPY_MODEL_c50ede9461f449e792eca3364adc3201",
       "value": " 300/300 [00:10&lt;00:00, 21.76it/s]"
      }
     },
     "33ba87076e3747a7abe63cdc630e9f71": {
      "model_module": "@jupyter-widgets/controls",
      "model_module_version": "1.5.0",
      "model_name": "DescriptionStyleModel",
      "state": {
       "description_width": ""
      }
     },
     "33e7397bb5de48f1a403a903935e2858": {
      "model_module": "@jupyter-widgets/controls",
      "model_module_version": "1.5.0",
      "model_name": "FloatProgressModel",
      "state": {
       "bar_style": "success",
       "layout": "IPY_MODEL_cc4b212277fc44fcb8d8497d7a9addf5",
       "max": 300,
       "style": "IPY_MODEL_263bde80c03a41c3b52b310573190e62",
       "value": 300
      }
     },
     "348e202497474e1b9297b8ffe33d419b": {
      "model_module": "@jupyter-widgets/base",
      "model_module_version": "1.2.0",
      "model_name": "LayoutModel",
      "state": {}
     },
     "34bec1e886164d7e9b966887ad4f5079": {
      "model_module": "@jupyter-widgets/base",
      "model_module_version": "1.2.0",
      "model_name": "LayoutModel",
      "state": {}
     },
     "34f5be9fc7eb4a0f8ffed0e096decd89": {
      "model_module": "@jupyter-widgets/controls",
      "model_module_version": "1.5.0",
      "model_name": "DescriptionStyleModel",
      "state": {
       "description_width": ""
      }
     },
     "35475d0d4f6a46188991e244a6feaad5": {
      "model_module": "@jupyter-widgets/controls",
      "model_module_version": "1.5.0",
      "model_name": "ProgressStyleModel",
      "state": {
       "description_width": ""
      }
     },
     "35529826a9f8470b96549e8f0879681c": {
      "model_module": "@jupyter-widgets/controls",
      "model_module_version": "1.5.0",
      "model_name": "DescriptionStyleModel",
      "state": {
       "description_width": ""
      }
     },
     "35c19ce555fe48b9acf6e8984788a907": {
      "model_module": "@jupyter-widgets/controls",
      "model_module_version": "1.5.0",
      "model_name": "FloatProgressModel",
      "state": {
       "bar_style": "success",
       "layout": "IPY_MODEL_50ffa9a68cc84c5ab2161f2b5c1fe344",
       "max": 2,
       "style": "IPY_MODEL_1ad147eed96d49d29fda66fef7aa35c0",
       "value": 2
      }
     },
     "35c2d901000d4b84872e03d3a9a89c52": {
      "model_module": "@jupyter-widgets/base",
      "model_module_version": "1.2.0",
      "model_name": "LayoutModel",
      "state": {}
     },
     "36f668a3829140d08f0caa1609cd52e5": {
      "model_module": "@jupyter-widgets/base",
      "model_module_version": "1.2.0",
      "model_name": "LayoutModel",
      "state": {}
     },
     "38341d66705147a0980133d09e2d04b3": {
      "model_module": "@jupyter-widgets/controls",
      "model_module_version": "1.5.0",
      "model_name": "DescriptionStyleModel",
      "state": {
       "description_width": ""
      }
     },
     "38a1e2222341430487b93a312c0b1723": {
      "model_module": "@jupyter-widgets/base",
      "model_module_version": "1.2.0",
      "model_name": "LayoutModel",
      "state": {}
     },
     "395c7db45e224ff5b6ad956f2ec9f617": {
      "model_module": "@jupyter-widgets/base",
      "model_module_version": "1.2.0",
      "model_name": "LayoutModel",
      "state": {}
     },
     "39bd54619431451e89152760b9ba8024": {
      "model_module": "@jupyter-widgets/controls",
      "model_module_version": "1.5.0",
      "model_name": "FloatProgressModel",
      "state": {
       "bar_style": "success",
       "layout": "IPY_MODEL_79b72e5ccd784ba09c60035d62336509",
       "max": 300,
       "style": "IPY_MODEL_9074d1d923da461d94d803b2068ec721",
       "value": 300
      }
     },
     "3ac4c839a5fb4b6687c97f24afc3507f": {
      "model_module": "@jupyter-widgets/controls",
      "model_module_version": "1.5.0",
      "model_name": "FloatProgressModel",
      "state": {
       "bar_style": "success",
       "layout": "IPY_MODEL_a49453ca36a942b09f0737309ff5d2ae",
       "max": 300,
       "style": "IPY_MODEL_0eb90d7b68c7497ebc53394906f85edb",
       "value": 300
      }
     },
     "3ad33921ccc14268ac171e2168953f31": {
      "model_module": "@jupyter-widgets/base",
      "model_module_version": "1.2.0",
      "model_name": "LayoutModel",
      "state": {}
     },
     "3aef32a1fc1b441eb2c4e4b72f41726e": {
      "model_module": "@jupyter-widgets/base",
      "model_module_version": "1.2.0",
      "model_name": "LayoutModel",
      "state": {}
     },
     "3b401c3141cb478383af2da66bcfdf9b": {
      "model_module": "@jupyter-widgets/controls",
      "model_module_version": "1.5.0",
      "model_name": "HTMLModel",
      "state": {
       "layout": "IPY_MODEL_aaf4700259484bc5811fbbcc7d6f0f34",
       "style": "IPY_MODEL_b0193aaca36b4425befbf872d766444b",
       "value": "Merging Features: 100%"
      }
     },
     "3b419058fe4747e4bf6026f78e93eeba": {
      "model_module": "@jupyter-widgets/controls",
      "model_module_version": "1.5.0",
      "model_name": "HTMLModel",
      "state": {
       "layout": "IPY_MODEL_6bc5ce32fab247a6bf716cac4fcbdb10",
       "style": "IPY_MODEL_6ca5854e32894e4f8f230764306f1b02",
       "value": "Calculating BVSE Variance: 100%"
      }
     },
     "3b628783e62944d6afaf6f0b496a27c0": {
      "model_module": "@jupyter-widgets/controls",
      "model_module_version": "1.5.0",
      "model_name": "HTMLModel",
      "state": {
       "layout": "IPY_MODEL_b7c882274ee6406e980876bdbdcb5f3b",
       "style": "IPY_MODEL_5386e185d30f4befb79c9889157abf32",
       "value": " 300/300 [00:10&lt;00:00, 21.63it/s]"
      }
     },
     "3be52f80159646498c49f7dceb79260d": {
      "model_module": "@jupyter-widgets/controls",
      "model_module_version": "1.5.0",
      "model_name": "HTMLModel",
      "state": {
       "layout": "IPY_MODEL_dcdf7ca282c6449ba1b0ea1954416c6f",
       "style": "IPY_MODEL_8a07f22626d543049bd2282293ddde6f",
       "value": "Calculating BVSE Variance: 100%"
      }
     },
     "3c1d817c501d41ab819b7eafb223dbee": {
      "model_module": "@jupyter-widgets/controls",
      "model_module_version": "1.5.0",
      "model_name": "HBoxModel",
      "state": {
       "children": [
        "IPY_MODEL_9efc361622a94edd8a318f4606577984",
        "IPY_MODEL_77b620ad53744130a9034dfc3400cb9e",
        "IPY_MODEL_91b1ceaafd5a409b9320a21b656a19cf"
       ],
       "layout": "IPY_MODEL_fb816e0b5a244dc1ad432a4ca33c6dd9"
      }
     },
     "3c34b0a244954919bde3deda03521e7c": {
      "model_module": "@jupyter-widgets/controls",
      "model_module_version": "1.5.0",
      "model_name": "HTMLModel",
      "state": {
       "layout": "IPY_MODEL_fe1b2c69ea164f749780595ce3955415",
       "style": "IPY_MODEL_2b767d4247aa46f0bae6d0d941737474",
       "value": " 300/300 [00:10&lt;00:00, 21.61it/s]"
      }
     },
     "3c45e2830eeb4b24b75d7d2ec4ab6317": {
      "model_module": "@jupyter-widgets/base",
      "model_module_version": "1.2.0",
      "model_name": "LayoutModel",
      "state": {}
     },
     "3cf1b495fa884f82817436b839b4e031": {
      "model_module": "@jupyter-widgets/base",
      "model_module_version": "1.2.0",
      "model_name": "LayoutModel",
      "state": {}
     },
     "3d56fb84cf734e94aa1731b5a26a535a": {
      "model_module": "@jupyter-widgets/base",
      "model_module_version": "1.2.0",
      "model_name": "LayoutModel",
      "state": {}
     },
     "3d83750dfd3a4b0880545d8f50416590": {
      "model_module": "@jupyter-widgets/base",
      "model_module_version": "1.2.0",
      "model_name": "LayoutModel",
      "state": {}
     },
     "3db02909f617492d9cb114eda73bb515": {
      "model_module": "@jupyter-widgets/base",
      "model_module_version": "1.2.0",
      "model_name": "LayoutModel",
      "state": {}
     },
     "3db25c1de92141d691bb363ace3cba22": {
      "model_module": "@jupyter-widgets/controls",
      "model_module_version": "1.5.0",
      "model_name": "DescriptionStyleModel",
      "state": {
       "description_width": ""
      }
     },
     "3e252b78376b4970acb53c677c12d7cc": {
      "model_module": "@jupyter-widgets/controls",
      "model_module_version": "1.5.0",
      "model_name": "HTMLModel",
      "state": {
       "layout": "IPY_MODEL_0ca5c43b038740c7b1e6285205225058",
       "style": "IPY_MODEL_175247a594c44f898de97554d8557976",
       "value": "Iterating Through Selections:  20%"
      }
     },
     "3e94240d8d8a4791907ce64f1dff2f2c": {
      "model_module": "@jupyter-widgets/base",
      "model_module_version": "1.2.0",
      "model_name": "LayoutModel",
      "state": {}
     },
     "3ee066b0503b4e01b858243dd8ebeb7e": {
      "model_module": "@jupyter-widgets/controls",
      "model_module_version": "1.5.0",
      "model_name": "HTMLModel",
      "state": {
       "layout": "IPY_MODEL_ed4129cbe70b4fef960512bf4cae8e9d",
       "style": "IPY_MODEL_d9fead1d939140299fc2e57af5ddd1e0",
       "value": "Calculating BVSE Variance: 100%"
      }
     },
     "3fa7dc06c14c4902b2180349318af47f": {
      "model_module": "@jupyter-widgets/base",
      "model_module_version": "1.2.0",
      "model_name": "LayoutModel",
      "state": {}
     },
     "3fd368c2d6784affbba6a376dab277a2": {
      "model_module": "@jupyter-widgets/base",
      "model_module_version": "1.2.0",
      "model_name": "LayoutModel",
      "state": {}
     },
     "400a16325c4a41e2a267ba1ad8871e1f": {
      "model_module": "@jupyter-widgets/base",
      "model_module_version": "1.2.0",
      "model_name": "LayoutModel",
      "state": {}
     },
     "4010f5e1972e4cdd85ae5bbadd6d789a": {
      "model_module": "@jupyter-widgets/base",
      "model_module_version": "1.2.0",
      "model_name": "LayoutModel",
      "state": {}
     },
     "4120dd0155dd4804903a30bcd0701b6a": {
      "model_module": "@jupyter-widgets/controls",
      "model_module_version": "1.5.0",
      "model_name": "HTMLModel",
      "state": {
       "layout": "IPY_MODEL_ea8213289768497b935b5f5f6c1971de",
       "style": "IPY_MODEL_8f9b0f76d96d41e48a5d461113855e3a",
       "value": " 300/300 [00:33&lt;00:00,  8.00it/s]"
      }
     },
     "416d6d7f4ce048d68d24f9d30f432103": {
      "model_module": "@jupyter-widgets/base",
      "model_module_version": "1.2.0",
      "model_name": "LayoutModel",
      "state": {}
     },
     "41ca489070d9458cbac68356d03f6ca6": {
      "model_module": "@jupyter-widgets/base",
      "model_module_version": "1.2.0",
      "model_name": "LayoutModel",
      "state": {}
     },
     "4292292b5942406fb7e87d0714d56eb7": {
      "model_module": "@jupyter-widgets/controls",
      "model_module_version": "1.5.0",
      "model_name": "HBoxModel",
      "state": {
       "children": [
        "IPY_MODEL_17771134e1374fd79ef29b4db61686f8",
        "IPY_MODEL_6aa097122dc3483ca7de1b1e59c75e52",
        "IPY_MODEL_9a42e33964af42e09d30c396c366a65d"
       ],
       "layout": "IPY_MODEL_d276bf49523b4d0695d259aca8c9f898"
      }
     },
     "429bd9663a114e3d9f44aa9bcca74e20": {
      "model_module": "@jupyter-widgets/base",
      "model_module_version": "1.2.0",
      "model_name": "LayoutModel",
      "state": {}
     },
     "43211679236740c595320d881dfabf58": {
      "model_module": "@jupyter-widgets/controls",
      "model_module_version": "1.5.0",
      "model_name": "ProgressStyleModel",
      "state": {
       "description_width": ""
      }
     },
     "435382667370476cbf7aea1528b7707f": {
      "model_module": "@jupyter-widgets/controls",
      "model_module_version": "1.5.0",
      "model_name": "ProgressStyleModel",
      "state": {
       "description_width": ""
      }
     },
     "43ac51a30bde46c5947d71d467d0c9ea": {
      "model_module": "@jupyter-widgets/base",
      "model_module_version": "1.2.0",
      "model_name": "LayoutModel",
      "state": {}
     },
     "441113f8254d4f10b6512f2c4f147479": {
      "model_module": "@jupyter-widgets/controls",
      "model_module_version": "1.5.0",
      "model_name": "DescriptionStyleModel",
      "state": {
       "description_width": ""
      }
     },
     "442c912a59c64ec0be504f81a126804b": {
      "model_module": "@jupyter-widgets/controls",
      "model_module_version": "1.5.0",
      "model_name": "HBoxModel",
      "state": {
       "children": [
        "IPY_MODEL_a43d9a4bbd5b4aa6bd6d1c1bd8128878",
        "IPY_MODEL_fc76b9f5eb85439881762a13f457d02b",
        "IPY_MODEL_893a969ec13c4524bd031a3407d927e4"
       ],
       "layout": "IPY_MODEL_abd09d347c774f11a92b26104a0e467d"
      }
     },
     "44929c09bf1a4b0c8c2745601317aa68": {
      "model_module": "@jupyter-widgets/base",
      "model_module_version": "1.2.0",
      "model_name": "LayoutModel",
      "state": {}
     },
     "44ad0e31b1c041cd92c55fc378dd3045": {
      "model_module": "@jupyter-widgets/controls",
      "model_module_version": "1.5.0",
      "model_name": "FloatProgressModel",
      "state": {
       "bar_style": "success",
       "layout": "IPY_MODEL_ae0c970a8feb4fceb8ad31b5b1c6cbab",
       "max": 300,
       "style": "IPY_MODEL_274e2ea840fb4f94a01c41ab7619467d",
       "value": 300
      }
     },
     "4502ca1460994f4da739e0c85d1e63e6": {
      "model_module": "@jupyter-widgets/controls",
      "model_module_version": "1.5.0",
      "model_name": "HTMLModel",
      "state": {
       "layout": "IPY_MODEL_a6b6b3f0fd6a4f9fa6318d08b23c0edd",
       "style": "IPY_MODEL_235ec59b273b4403863dbcaa6b829fb5",
       "value": "Calculating BVSE Variance: 100%"
      }
     },
     "453ab665103f490ea474e8afdc451d2a": {
      "model_module": "@jupyter-widgets/controls",
      "model_module_version": "1.5.0",
      "model_name": "DescriptionStyleModel",
      "state": {
       "description_width": ""
      }
     },
     "45bb0d50ed4d4dba9ff7dc36a81a68e7": {
      "model_module": "@jupyter-widgets/controls",
      "model_module_version": "1.5.0",
      "model_name": "HBoxModel",
      "state": {
       "children": [
        "IPY_MODEL_a3455e922c494c088db48dd0b761c6aa",
        "IPY_MODEL_e03f431b9ba3445fae80c255117472ac",
        "IPY_MODEL_1310414b4c8a44479e4dfb7885faf440"
       ],
       "layout": "IPY_MODEL_5056140bd31b439c998d7d9f0caee25b"
      }
     },
     "45c745c14e4943619f35f6e080844e78": {
      "model_module": "@jupyter-widgets/controls",
      "model_module_version": "1.5.0",
      "model_name": "HTMLModel",
      "state": {
       "layout": "IPY_MODEL_9a2138d2c86d4a049c57214627289be4",
       "style": "IPY_MODEL_75d9d08f353c458abea1ca9339f4d547",
       "value": "Calculating Conductivity Variance: 100%"
      }
     },
     "45fb9223fe194b8facf7868b0358cef2": {
      "model_module": "@jupyter-widgets/base",
      "model_module_version": "1.2.0",
      "model_name": "LayoutModel",
      "state": {}
     },
     "46096411e7094f01934b2541ac969b40": {
      "model_module": "@jupyter-widgets/controls",
      "model_module_version": "1.5.0",
      "model_name": "ProgressStyleModel",
      "state": {
       "description_width": ""
      }
     },
     "464440fb458e475ea10bd2a9fd452602": {
      "model_module": "@jupyter-widgets/base",
      "model_module_version": "1.2.0",
      "model_name": "LayoutModel",
      "state": {}
     },
     "46adb1a7c6cf4f0282b7c4400331e44a": {
      "model_module": "@jupyter-widgets/controls",
      "model_module_version": "1.5.0",
      "model_name": "DescriptionStyleModel",
      "state": {
       "description_width": ""
      }
     },
     "46c7feeccfbb4e45b7a3f4271a95054c": {
      "model_module": "@jupyter-widgets/controls",
      "model_module_version": "1.5.0",
      "model_name": "HTMLModel",
      "state": {
       "layout": "IPY_MODEL_c58c1f0a2b1f421c86d56a973f39d07c",
       "style": "IPY_MODEL_48cbe726db184bb9a0b41aacbb34b34b",
       "value": " 2/2 [00:00&lt;00:00, 73.70it/s]"
      }
     },
     "470d2f668b594738a893cb9cb5fbf7dc": {
      "model_module": "@jupyter-widgets/controls",
      "model_module_version": "1.5.0",
      "model_name": "ProgressStyleModel",
      "state": {
       "description_width": ""
      }
     },
     "481935021c17449bb9a09fd3b5edcb36": {
      "model_module": "@jupyter-widgets/controls",
      "model_module_version": "1.5.0",
      "model_name": "DescriptionStyleModel",
      "state": {
       "description_width": ""
      }
     },
     "48809f9d476640219415eb601fcdb2b1": {
      "model_module": "@jupyter-widgets/base",
      "model_module_version": "1.2.0",
      "model_name": "LayoutModel",
      "state": {}
     },
     "489ca1a56c494fa8a1cca233c0bd8df4": {
      "model_module": "@jupyter-widgets/controls",
      "model_module_version": "1.5.0",
      "model_name": "ProgressStyleModel",
      "state": {
       "description_width": ""
      }
     },
     "48cbe726db184bb9a0b41aacbb34b34b": {
      "model_module": "@jupyter-widgets/controls",
      "model_module_version": "1.5.0",
      "model_name": "DescriptionStyleModel",
      "state": {
       "description_width": ""
      }
     },
     "48d71a9109bc40e6ae8c3a5556077f06": {
      "model_module": "@jupyter-widgets/controls",
      "model_module_version": "1.5.0",
      "model_name": "HBoxModel",
      "state": {
       "children": [
        "IPY_MODEL_d62d5b17c06d41f08354a9cddad9e2d1",
        "IPY_MODEL_8dfed97453d14540ac7d9f30860d8abe",
        "IPY_MODEL_beaa8b57bfd345cb9534cd667e8a4f6d"
       ],
       "layout": "IPY_MODEL_7b3b7bbde4274b428871e64c714ef588"
      }
     },
     "49456ca6b94349e3b198d4fb4f0e3fe8": {
      "model_module": "@jupyter-widgets/controls",
      "model_module_version": "1.5.0",
      "model_name": "HBoxModel",
      "state": {
       "children": [
        "IPY_MODEL_06716ae1a1ed4c5fba4ad7aefaa27d10",
        "IPY_MODEL_fd895069478a4f0b9efc45e22d0db342",
        "IPY_MODEL_b0422e72a8c54714b64982b8e00ad8aa"
       ],
       "layout": "IPY_MODEL_102fe7b130d0457e93d2019d6f092942"
      }
     },
     "49839df5904d4ac8917a51daefd3abe8": {
      "model_module": "@jupyter-widgets/controls",
      "model_module_version": "1.5.0",
      "model_name": "HTMLModel",
      "state": {
       "layout": "IPY_MODEL_54f82eb6a61445b3817a36b1fec0e5c4",
       "style": "IPY_MODEL_abea4b64e38b47cdb706578fc026653d",
       "value": "Iterating Through Selections: 100%"
      }
     },
     "49ae17aaddab4ed1840fe95255f65754": {
      "model_module": "@jupyter-widgets/controls",
      "model_module_version": "1.5.0",
      "model_name": "HTMLModel",
      "state": {
       "layout": "IPY_MODEL_1468a723fd6c4c019595335217fc5193",
       "style": "IPY_MODEL_4f31e4c2c3654ca7961bfb4dd11e922e",
       "value": " 300/300 [00:10&lt;00:00, 21.56it/s]"
      }
     },
     "4a81cb82ef1e4d86ac29595afb1fc70b": {
      "model_module": "@jupyter-widgets/controls",
      "model_module_version": "1.5.0",
      "model_name": "DescriptionStyleModel",
      "state": {
       "description_width": ""
      }
     },
     "4a8dfb387e5747a4af40ba5bc8579f5d": {
      "model_module": "@jupyter-widgets/controls",
      "model_module_version": "1.5.0",
      "model_name": "DescriptionStyleModel",
      "state": {
       "description_width": ""
      }
     },
     "4ad22b3760e7442a89e1e82d80a57d05": {
      "model_module": "@jupyter-widgets/controls",
      "model_module_version": "1.5.0",
      "model_name": "HBoxModel",
      "state": {
       "children": [
        "IPY_MODEL_010b3d36de7146838e32bd8e8beff888",
        "IPY_MODEL_17095ac2c44e4aa781c819d1533bc560",
        "IPY_MODEL_73d685071ee3409a843863220439058d"
       ],
       "layout": "IPY_MODEL_25c0b2eacbf24cdf8145c04fe63e6ff0"
      }
     },
     "4b0c7079755a4d01906c12e96a1d34ca": {
      "model_module": "@jupyter-widgets/controls",
      "model_module_version": "1.5.0",
      "model_name": "ProgressStyleModel",
      "state": {
       "description_width": ""
      }
     },
     "4b1009c2fe754aa48db4d1f79c24edb6": {
      "model_module": "@jupyter-widgets/controls",
      "model_module_version": "1.5.0",
      "model_name": "DescriptionStyleModel",
      "state": {
       "description_width": ""
      }
     },
     "4ba5e570ae8d436a902068bbe263529f": {
      "model_module": "@jupyter-widgets/controls",
      "model_module_version": "1.5.0",
      "model_name": "DescriptionStyleModel",
      "state": {
       "description_width": ""
      }
     },
     "4bd378964de140f5bb24b9929fb1d9ca": {
      "model_module": "@jupyter-widgets/controls",
      "model_module_version": "1.5.0",
      "model_name": "HBoxModel",
      "state": {
       "children": [
        "IPY_MODEL_3ee066b0503b4e01b858243dd8ebeb7e",
        "IPY_MODEL_fcc7e09b10ac413583032fec58cbceb0",
        "IPY_MODEL_6c744de281c74b678c9a4c674e99df5a"
       ],
       "layout": "IPY_MODEL_b2f1e6ec0d224450883676308071bf6d"
      }
     },
     "4be57aba8c84433da95f1781fb4b0354": {
      "model_module": "@jupyter-widgets/base",
      "model_module_version": "1.2.0",
      "model_name": "LayoutModel",
      "state": {}
     },
     "4c76afd1c39d4c9b9ca1086b4f5000d4": {
      "model_module": "@jupyter-widgets/base",
      "model_module_version": "1.2.0",
      "model_name": "LayoutModel",
      "state": {}
     },
     "4d097dee4c70481599f311943695a0d1": {
      "model_module": "@jupyter-widgets/base",
      "model_module_version": "1.2.0",
      "model_name": "LayoutModel",
      "state": {}
     },
     "4d99ae07478248588584788faee3af20": {
      "model_module": "@jupyter-widgets/controls",
      "model_module_version": "1.5.0",
      "model_name": "ProgressStyleModel",
      "state": {
       "description_width": ""
      }
     },
     "4e5c0e5601bb4e9da6b7dc78de998a77": {
      "model_module": "@jupyter-widgets/controls",
      "model_module_version": "1.5.0",
      "model_name": "DescriptionStyleModel",
      "state": {
       "description_width": ""
      }
     },
     "4eead172fdfb459791a10abeea953ad1": {
      "model_module": "@jupyter-widgets/base",
      "model_module_version": "1.2.0",
      "model_name": "LayoutModel",
      "state": {}
     },
     "4f31e4c2c3654ca7961bfb4dd11e922e": {
      "model_module": "@jupyter-widgets/controls",
      "model_module_version": "1.5.0",
      "model_name": "DescriptionStyleModel",
      "state": {
       "description_width": ""
      }
     },
     "4f6b9a2000804ff8929ac3b2b3720aaa": {
      "model_module": "@jupyter-widgets/base",
      "model_module_version": "1.2.0",
      "model_name": "LayoutModel",
      "state": {}
     },
     "4fc0cd9f614d435dbaabe0ec7142ab9b": {
      "model_module": "@jupyter-widgets/base",
      "model_module_version": "1.2.0",
      "model_name": "LayoutModel",
      "state": {}
     },
     "4ff7b82a51aa432f891dd2fb7ae646c3": {
      "model_module": "@jupyter-widgets/controls",
      "model_module_version": "1.5.0",
      "model_name": "DescriptionStyleModel",
      "state": {
       "description_width": ""
      }
     },
     "5007813060124111a26e364af0733996": {
      "model_module": "@jupyter-widgets/base",
      "model_module_version": "1.2.0",
      "model_name": "LayoutModel",
      "state": {}
     },
     "5056140bd31b439c998d7d9f0caee25b": {
      "model_module": "@jupyter-widgets/base",
      "model_module_version": "1.2.0",
      "model_name": "LayoutModel",
      "state": {}
     },
     "5060562af2ed48feb8f3ca8997067bd0": {
      "model_module": "@jupyter-widgets/base",
      "model_module_version": "1.2.0",
      "model_name": "LayoutModel",
      "state": {}
     },
     "50c2defcb6a846938a1ba7cab6f94f4f": {
      "model_module": "@jupyter-widgets/base",
      "model_module_version": "1.2.0",
      "model_name": "LayoutModel",
      "state": {}
     },
     "50ffa9a68cc84c5ab2161f2b5c1fe344": {
      "model_module": "@jupyter-widgets/base",
      "model_module_version": "1.2.0",
      "model_name": "LayoutModel",
      "state": {}
     },
     "5175a712db7f444e97e17a2991ed0120": {
      "model_module": "@jupyter-widgets/controls",
      "model_module_version": "1.5.0",
      "model_name": "ProgressStyleModel",
      "state": {
       "description_width": ""
      }
     },
     "517c282558f6402981517f3a2e3b00e0": {
      "model_module": "@jupyter-widgets/controls",
      "model_module_version": "1.5.0",
      "model_name": "HTMLModel",
      "state": {
       "layout": "IPY_MODEL_00391c9c99a243a19ad8d887c1f10d59",
       "style": "IPY_MODEL_cdef6d68549f4013bb545178b99dbfc2",
       "value": " 300/300 [00:34&lt;00:00,  8.02it/s]"
      }
     },
     "517d260b8a3f4d2f9cfd87cc3488f5df": {
      "model_module": "@jupyter-widgets/controls",
      "model_module_version": "1.5.0",
      "model_name": "HTMLModel",
      "state": {
       "layout": "IPY_MODEL_8a0ef0507981469bb446347351c7070c",
       "style": "IPY_MODEL_aaeafc4f6ff945768a89b426b2795a73",
       "value": " 300/300 [00:10&lt;00:00, 21.90it/s]"
      }
     },
     "52478b54d51e4b54a9fd875af8ea7953": {
      "model_module": "@jupyter-widgets/controls",
      "model_module_version": "1.5.0",
      "model_name": "ProgressStyleModel",
      "state": {
       "description_width": ""
      }
     },
     "526e78df898e41d1a28058f8a63fe227": {
      "model_module": "@jupyter-widgets/controls",
      "model_module_version": "1.5.0",
      "model_name": "HBoxModel",
      "state": {
       "children": [
        "IPY_MODEL_3b401c3141cb478383af2da66bcfdf9b",
        "IPY_MODEL_8bee067bf6e3442cb5ccbc156b127aee",
        "IPY_MODEL_ef6e381323a843819910287330b256c6"
       ],
       "layout": "IPY_MODEL_55b32283068b43d29e883ab827392495"
      }
     },
     "52bd62092ccc4930ae3ccf774ad9eab4": {
      "model_module": "@jupyter-widgets/base",
      "model_module_version": "1.2.0",
      "model_name": "LayoutModel",
      "state": {}
     },
     "52f0f100bbee422cadb4f071260838bf": {
      "model_module": "@jupyter-widgets/base",
      "model_module_version": "1.2.0",
      "model_name": "LayoutModel",
      "state": {}
     },
     "531f94a6927f48a38db54c2e9ca6f424": {
      "model_module": "@jupyter-widgets/base",
      "model_module_version": "1.2.0",
      "model_name": "LayoutModel",
      "state": {}
     },
     "53450e76953b4af8b76ac1a221152e9c": {
      "model_module": "@jupyter-widgets/base",
      "model_module_version": "1.2.0",
      "model_name": "LayoutModel",
      "state": {}
     },
     "5386e185d30f4befb79c9889157abf32": {
      "model_module": "@jupyter-widgets/controls",
      "model_module_version": "1.5.0",
      "model_name": "DescriptionStyleModel",
      "state": {
       "description_width": ""
      }
     },
     "53bb879903954b56ac92dabc083beee5": {
      "model_module": "@jupyter-widgets/base",
      "model_module_version": "1.2.0",
      "model_name": "LayoutModel",
      "state": {}
     },
     "53c81fbc3c3044d79e9ce1f2e803db24": {
      "model_module": "@jupyter-widgets/base",
      "model_module_version": "1.2.0",
      "model_name": "LayoutModel",
      "state": {}
     },
     "542ad144e4904406834c54f750368bdb": {
      "model_module": "@jupyter-widgets/base",
      "model_module_version": "1.2.0",
      "model_name": "LayoutModel",
      "state": {}
     },
     "542d048c1ab947559a1f1f2b0740af33": {
      "model_module": "@jupyter-widgets/controls",
      "model_module_version": "1.5.0",
      "model_name": "DescriptionStyleModel",
      "state": {
       "description_width": ""
      }
     },
     "54617efd38194699ae81db5b694f203c": {
      "model_module": "@jupyter-widgets/controls",
      "model_module_version": "1.5.0",
      "model_name": "FloatProgressModel",
      "state": {
       "bar_style": "success",
       "layout": "IPY_MODEL_166bc44afd844537b9eacdfc8c2f39d9",
       "max": 2,
       "style": "IPY_MODEL_a06b7aced8df4baba6e9a19706f0dfd3",
       "value": 2
      }
     },
     "5490f98e5469489ba99fb41ffff9d65a": {
      "model_module": "@jupyter-widgets/base",
      "model_module_version": "1.2.0",
      "model_name": "LayoutModel",
      "state": {}
     },
     "54a57020d5284c0bb364b688991c78a7": {
      "model_module": "@jupyter-widgets/controls",
      "model_module_version": "1.5.0",
      "model_name": "DescriptionStyleModel",
      "state": {
       "description_width": ""
      }
     },
     "54ab4fcf9d534324ac6af4187d984956": {
      "model_module": "@jupyter-widgets/controls",
      "model_module_version": "1.5.0",
      "model_name": "HTMLModel",
      "state": {
       "layout": "IPY_MODEL_ea6c7ad702344558972b4782ff5f0308",
       "style": "IPY_MODEL_016c8bc2c8f74e0a8fbbb2a3888202e1",
       "value": "Calculating Conductivity Variance: 100%"
      }
     },
     "54d5b16cd9f34bd88b78e893ac315a47": {
      "model_module": "@jupyter-widgets/base",
      "model_module_version": "1.2.0",
      "model_name": "LayoutModel",
      "state": {}
     },
     "54e2940a5c524e9ca78581d723c74b44": {
      "model_module": "@jupyter-widgets/controls",
      "model_module_version": "1.5.0",
      "model_name": "DescriptionStyleModel",
      "state": {
       "description_width": ""
      }
     },
     "54f82eb6a61445b3817a36b1fec0e5c4": {
      "model_module": "@jupyter-widgets/base",
      "model_module_version": "1.2.0",
      "model_name": "LayoutModel",
      "state": {}
     },
     "553d620cdefd4cad8c51d5ff7598c0de": {
      "model_module": "@jupyter-widgets/controls",
      "model_module_version": "1.5.0",
      "model_name": "DescriptionStyleModel",
      "state": {
       "description_width": ""
      }
     },
     "5573a35b374f4ebea9ca32a2c776848a": {
      "model_module": "@jupyter-widgets/controls",
      "model_module_version": "1.5.0",
      "model_name": "ProgressStyleModel",
      "state": {
       "description_width": ""
      }
     },
     "55b32283068b43d29e883ab827392495": {
      "model_module": "@jupyter-widgets/base",
      "model_module_version": "1.2.0",
      "model_name": "LayoutModel",
      "state": {}
     },
     "56bc34464aa64ac5acf4a92b8dafd69f": {
      "model_module": "@jupyter-widgets/controls",
      "model_module_version": "1.5.0",
      "model_name": "ProgressStyleModel",
      "state": {
       "description_width": ""
      }
     },
     "572f7654f34f4ecca8b2b7e7a7debe33": {
      "model_module": "@jupyter-widgets/controls",
      "model_module_version": "1.5.0",
      "model_name": "HBoxModel",
      "state": {
       "children": [
        "IPY_MODEL_c7f770501b17433d8604d0da001c8687",
        "IPY_MODEL_7bf9660c3f4e48d090a63079b5e566e3",
        "IPY_MODEL_1afe9cb2279a49589da13cd5d87f0c7f"
       ],
       "layout": "IPY_MODEL_88864ed8f0884fa48a7c6643654b184e"
      }
     },
     "599eea68fca84878b99e1aca9ed43178": {
      "model_module": "@jupyter-widgets/controls",
      "model_module_version": "1.5.0",
      "model_name": "HTMLModel",
      "state": {
       "layout": "IPY_MODEL_8387abea7c204f35836ccb8d835496b9",
       "style": "IPY_MODEL_87878e5f2a794e3d963614e301e4de0f",
       "value": " 300/300 [00:10&lt;00:00, 22.06it/s]"
      }
     },
     "5a0980413f5647f083b2dce58ed28cee": {
      "model_module": "@jupyter-widgets/base",
      "model_module_version": "1.2.0",
      "model_name": "LayoutModel",
      "state": {}
     },
     "5a355d4feea946579faad91017393244": {
      "model_module": "@jupyter-widgets/base",
      "model_module_version": "1.2.0",
      "model_name": "LayoutModel",
      "state": {}
     },
     "5a642c6bec674a6682d0cf2eafba062f": {
      "model_module": "@jupyter-widgets/controls",
      "model_module_version": "1.5.0",
      "model_name": "HBoxModel",
      "state": {
       "children": [
        "IPY_MODEL_d90dc1acefbd404888357b421d6f5fd6",
        "IPY_MODEL_9e6441e99028424890f4accfd8054314",
        "IPY_MODEL_3c34b0a244954919bde3deda03521e7c"
       ],
       "layout": "IPY_MODEL_7740d9f1890f4a5b8c551083dc213f84"
      }
     },
     "5a8e36dffec24b419d861d2f9563d59c": {
      "model_module": "@jupyter-widgets/base",
      "model_module_version": "1.2.0",
      "model_name": "LayoutModel",
      "state": {}
     },
     "5ac9f86d547f43568bb3cc2d44c2452f": {
      "model_module": "@jupyter-widgets/base",
      "model_module_version": "1.2.0",
      "model_name": "LayoutModel",
      "state": {}
     },
     "5ada10dc68cd4243bf050ed5ca8f4459": {
      "model_module": "@jupyter-widgets/base",
      "model_module_version": "1.2.0",
      "model_name": "LayoutModel",
      "state": {}
     },
     "5b5b5da6ff0c44158b79e47743c45b5e": {
      "model_module": "@jupyter-widgets/base",
      "model_module_version": "1.2.0",
      "model_name": "LayoutModel",
      "state": {}
     },
     "5b7a9852a735479fa043c4788a961b94": {
      "model_module": "@jupyter-widgets/base",
      "model_module_version": "1.2.0",
      "model_name": "LayoutModel",
      "state": {}
     },
     "5badefb3b6994a3085e9a97ffaf264cb": {
      "model_module": "@jupyter-widgets/base",
      "model_module_version": "1.2.0",
      "model_name": "LayoutModel",
      "state": {}
     },
     "5bbd0bc2112f4110a47d3bfad2fd90f2": {
      "model_module": "@jupyter-widgets/controls",
      "model_module_version": "1.5.0",
      "model_name": "HTMLModel",
      "state": {
       "layout": "IPY_MODEL_98661497d970461a9c8492aa178a387e",
       "style": "IPY_MODEL_2e48a2bc6b384c94bf3746898419130c",
       "value": " 300/300 [00:10&lt;00:00, 21.73it/s]"
      }
     },
     "5bcfb5b7aac44a6ba05972a569da3356": {
      "model_module": "@jupyter-widgets/base",
      "model_module_version": "1.2.0",
      "model_name": "LayoutModel",
      "state": {}
     },
     "5c34f86f623d49849d03594c98116228": {
      "model_module": "@jupyter-widgets/controls",
      "model_module_version": "1.5.0",
      "model_name": "ProgressStyleModel",
      "state": {
       "description_width": ""
      }
     },
     "5c35aa1494124d5ba3064fca7feddf02": {
      "model_module": "@jupyter-widgets/controls",
      "model_module_version": "1.5.0",
      "model_name": "DescriptionStyleModel",
      "state": {
       "description_width": ""
      }
     },
     "5ce2f995d29347c7b75fbb14d2acb883": {
      "model_module": "@jupyter-widgets/controls",
      "model_module_version": "1.5.0",
      "model_name": "DescriptionStyleModel",
      "state": {
       "description_width": ""
      }
     },
     "5d4bbdda0b6d463aa9b99a4af16cb90d": {
      "model_module": "@jupyter-widgets/controls",
      "model_module_version": "1.5.0",
      "model_name": "HTMLModel",
      "state": {
       "layout": "IPY_MODEL_4f6b9a2000804ff8929ac3b2b3720aaa",
       "style": "IPY_MODEL_b0641a6ce71b4fe0bfa1b9be77b86a7a",
       "value": "Merging Features: 100%"
      }
     },
     "5d88c63d68214d31b6855651c882fa2a": {
      "model_module": "@jupyter-widgets/controls",
      "model_module_version": "1.5.0",
      "model_name": "FloatProgressModel",
      "state": {
       "bar_style": "success",
       "layout": "IPY_MODEL_5007813060124111a26e364af0733996",
       "max": 2,
       "style": "IPY_MODEL_0ef741948bc04d329c09e394660da6df",
       "value": 2
      }
     },
     "5d928b8bacd744108c6a0b7874a61da0": {
      "model_module": "@jupyter-widgets/controls",
      "model_module_version": "1.5.0",
      "model_name": "FloatProgressModel",
      "state": {
       "bar_style": "success",
       "layout": "IPY_MODEL_d07f46ef455545cd8913ba1e740497e6",
       "max": 2,
       "style": "IPY_MODEL_ed62148b01894421a35cdab45f40b406",
       "value": 2
      }
     },
     "5da362c11b44483d824a0314c627f164": {
      "model_module": "@jupyter-widgets/base",
      "model_module_version": "1.2.0",
      "model_name": "LayoutModel",
      "state": {}
     },
     "5da9fc9c93d147eba22eedd1b8f5e785": {
      "model_module": "@jupyter-widgets/controls",
      "model_module_version": "1.5.0",
      "model_name": "ProgressStyleModel",
      "state": {
       "description_width": ""
      }
     },
     "5deca0fb83b140e59e269d881e73873d": {
      "model_module": "@jupyter-widgets/base",
      "model_module_version": "1.2.0",
      "model_name": "LayoutModel",
      "state": {}
     },
     "5e61edd9554c490081b1b0a413edc84e": {
      "model_module": "@jupyter-widgets/controls",
      "model_module_version": "1.5.0",
      "model_name": "HBoxModel",
      "state": {
       "children": [
        "IPY_MODEL_5d4bbdda0b6d463aa9b99a4af16cb90d",
        "IPY_MODEL_17b9701bf6304e4bbb5cb6b9b18f84aa",
        "IPY_MODEL_e598627d60aa427ebb0406782cd29350"
       ],
       "layout": "IPY_MODEL_074ac951de0d41a0844eda473148d5cd"
      }
     },
     "5e9c263acf594aadb9c32f13ca8145bc": {
      "model_module": "@jupyter-widgets/controls",
      "model_module_version": "1.5.0",
      "model_name": "HTMLModel",
      "state": {
       "layout": "IPY_MODEL_5bcfb5b7aac44a6ba05972a569da3356",
       "style": "IPY_MODEL_542d048c1ab947559a1f1f2b0740af33",
       "value": "Calculating BVSE Variance: 100%"
      }
     },
     "5ec08f13d1b94011ace50ac22620fae7": {
      "model_module": "@jupyter-widgets/controls",
      "model_module_version": "1.5.0",
      "model_name": "ProgressStyleModel",
      "state": {
       "description_width": ""
      }
     },
     "5edda97d97144f889ab3d5db8bd411e3": {
      "model_module": "@jupyter-widgets/base",
      "model_module_version": "1.2.0",
      "model_name": "LayoutModel",
      "state": {}
     },
     "5f8da1ba0d5b44bf8708b953c9f8a92b": {
      "model_module": "@jupyter-widgets/controls",
      "model_module_version": "1.5.0",
      "model_name": "FloatProgressModel",
      "state": {
       "bar_style": "success",
       "layout": "IPY_MODEL_702fb378bf4d42b2bbf9975bdc166d5a",
       "max": 300,
       "style": "IPY_MODEL_aacdf7f53d9c4a4e85f670d8317f29ba",
       "value": 300
      }
     },
     "600522a036ea4acd9a71e99e6af5a41f": {
      "model_module": "@jupyter-widgets/base",
      "model_module_version": "1.2.0",
      "model_name": "LayoutModel",
      "state": {}
     },
     "60196d7fc73045cea04571ce3c64baf6": {
      "model_module": "@jupyter-widgets/base",
      "model_module_version": "1.2.0",
      "model_name": "LayoutModel",
      "state": {}
     },
     "60952ff1be3e4c4487b8cd39b790ee34": {
      "model_module": "@jupyter-widgets/controls",
      "model_module_version": "1.5.0",
      "model_name": "ProgressStyleModel",
      "state": {
       "description_width": ""
      }
     },
     "60f9bf0111cc4c93adbc5df6b8bdfb6b": {
      "model_module": "@jupyter-widgets/controls",
      "model_module_version": "1.5.0",
      "model_name": "DescriptionStyleModel",
      "state": {
       "description_width": ""
      }
     },
     "613bf05503a64ab397a793a16a12cb87": {
      "model_module": "@jupyter-widgets/controls",
      "model_module_version": "1.5.0",
      "model_name": "DescriptionStyleModel",
      "state": {
       "description_width": ""
      }
     },
     "619d7c736530458d8ba1c679cae8144e": {
      "model_module": "@jupyter-widgets/controls",
      "model_module_version": "1.5.0",
      "model_name": "HTMLModel",
      "state": {
       "layout": "IPY_MODEL_f66c2e09621b4093844448f5efb5e3c3",
       "style": "IPY_MODEL_7aed3bff90984cdd830131eb2d9090bb",
       "value": "Merging Features: 100%"
      }
     },
     "61dc36c71f484d2e8e6e5209cab49283": {
      "model_module": "@jupyter-widgets/controls",
      "model_module_version": "1.5.0",
      "model_name": "HTMLModel",
      "state": {
       "layout": "IPY_MODEL_0b7dae2535f84aa89900d2706bfff543",
       "style": "IPY_MODEL_d6527c076ec64a468816db29c69eb23f",
       "value": "Calculating Conductivity Variance: 100%"
      }
     },
     "6279b4fc87a240139ba2dfcfca20a2ea": {
      "model_module": "@jupyter-widgets/controls",
      "model_module_version": "1.5.0",
      "model_name": "ProgressStyleModel",
      "state": {
       "description_width": ""
      }
     },
     "62f5f07226254dff97839803ef8b0c83": {
      "model_module": "@jupyter-widgets/controls",
      "model_module_version": "1.5.0",
      "model_name": "FloatProgressModel",
      "state": {
       "bar_style": "success",
       "layout": "IPY_MODEL_416d6d7f4ce048d68d24f9d30f432103",
       "max": 300,
       "style": "IPY_MODEL_be077be1461545ab9725705af1cb3aa6",
       "value": 300
      }
     },
     "635975f6bd8d4296ae77b64bd6113746": {
      "model_module": "@jupyter-widgets/controls",
      "model_module_version": "1.5.0",
      "model_name": "FloatProgressModel",
      "state": {
       "bar_style": "success",
       "layout": "IPY_MODEL_d0391843a3414bebb0fd02f38ef4665a",
       "max": 300,
       "style": "IPY_MODEL_f4a17ed783b34939bf7926a01a83f31f",
       "value": 300
      }
     },
     "637ca18ad05b460296d91aa885df3e37": {
      "model_module": "@jupyter-widgets/controls",
      "model_module_version": "1.5.0",
      "model_name": "ProgressStyleModel",
      "state": {
       "description_width": ""
      }
     },
     "63b22a03c1ba4e53aade5a32ff977758": {
      "model_module": "@jupyter-widgets/base",
      "model_module_version": "1.2.0",
      "model_name": "LayoutModel",
      "state": {}
     },
     "6406451428b44182bc5e9a1b380e17f6": {
      "model_module": "@jupyter-widgets/controls",
      "model_module_version": "1.5.0",
      "model_name": "HTMLModel",
      "state": {
       "layout": "IPY_MODEL_befe8258ca45460796dab0fb89e1b3c0",
       "style": "IPY_MODEL_481935021c17449bb9a09fd3b5edcb36",
       "value": "Calculating BVSE Variance: 100%"
      }
     },
     "6442262b975b408fab3540982c28bb0e": {
      "model_module": "@jupyter-widgets/controls",
      "model_module_version": "1.5.0",
      "model_name": "HTMLModel",
      "state": {
       "layout": "IPY_MODEL_2e153cfeda3b49fca1dec02447adc452",
       "style": "IPY_MODEL_fff4a8e89bfc437aaa636a65d3aed352",
       "value": " 300/300 [00:33&lt;00:00,  7.91it/s]"
      }
     },
     "64dda362839e464db92afb9bb4862d87": {
      "model_module": "@jupyter-widgets/base",
      "model_module_version": "1.2.0",
      "model_name": "LayoutModel",
      "state": {}
     },
     "6502a374064b4ca9b3f37194965b86c5": {
      "model_module": "@jupyter-widgets/controls",
      "model_module_version": "1.5.0",
      "model_name": "HTMLModel",
      "state": {
       "layout": "IPY_MODEL_60196d7fc73045cea04571ce3c64baf6",
       "style": "IPY_MODEL_6eda50fcc834429ca151e4ca57df4a3f",
       "value": " 300/300 [00:35&lt;00:00,  7.76it/s]"
      }
     },
     "65732e6aad174ddb9b20148a738e24cc": {
      "model_module": "@jupyter-widgets/controls",
      "model_module_version": "1.5.0",
      "model_name": "HTMLModel",
      "state": {
       "layout": "IPY_MODEL_c5e71a17e7084809bb14d248d99ddb98",
       "style": "IPY_MODEL_925d859e5e0d450781730e408d495470",
       "value": "Calculating BVSE Variance: 100%"
      }
     },
     "65a0e6883b8342e391617685732f350a": {
      "model_module": "@jupyter-widgets/controls",
      "model_module_version": "1.5.0",
      "model_name": "HTMLModel",
      "state": {
       "layout": "IPY_MODEL_0b3ba7cf30e84d119de50a49e545001d",
       "style": "IPY_MODEL_955444add1f24ea097b149d3978118a8",
       "value": "Calculating Conductivity Variance: 100%"
      }
     },
     "66039fd5bdec4b7e8b73670f37603982": {
      "model_module": "@jupyter-widgets/controls",
      "model_module_version": "1.5.0",
      "model_name": "HBoxModel",
      "state": {
       "children": [
        "IPY_MODEL_73b6c33e04004ef48109a3dc075d8617",
        "IPY_MODEL_8ef9ad7bd19f47b8b0b1ab909246fb40",
        "IPY_MODEL_8ef600c9ae75469aaf64718adea9c755"
       ],
       "layout": "IPY_MODEL_80f26bdd15164b3098520872fd4cf4b8"
      }
     },
     "66378ca2a24146a2a24a663e16168d16": {
      "model_module": "@jupyter-widgets/controls",
      "model_module_version": "1.5.0",
      "model_name": "HBoxModel",
      "state": {
       "children": [
        "IPY_MODEL_ec8dcd26ea8e47c9afaea8f2a55cf0b1",
        "IPY_MODEL_8a57c521426c4437b597f8bf4946614a",
        "IPY_MODEL_e541e4a8e44240a8b16b1b0b0201d461"
       ],
       "layout": "IPY_MODEL_7b86ce224ca748dbbb12244368d71cf1"
      }
     },
     "66922bc733a44aefac898ed95ddc8f99": {
      "model_module": "@jupyter-widgets/controls",
      "model_module_version": "1.5.0",
      "model_name": "HTMLModel",
      "state": {
       "layout": "IPY_MODEL_06e43aa821cd44aaa8b575af6c9d8203",
       "style": "IPY_MODEL_5c35aa1494124d5ba3064fca7feddf02",
       "value": " 300/300 [00:34&lt;00:00,  7.87it/s]"
      }
     },
     "66a42f29425c45df95ace76cb7d57130": {
      "model_module": "@jupyter-widgets/controls",
      "model_module_version": "1.5.0",
      "model_name": "DescriptionStyleModel",
      "state": {
       "description_width": ""
      }
     },
     "67813ac7f0474913855e16cec6eb6c9e": {
      "model_module": "@jupyter-widgets/controls",
      "model_module_version": "1.5.0",
      "model_name": "DescriptionStyleModel",
      "state": {
       "description_width": ""
      }
     },
     "68ffdc388ab144fa96365ae558169afd": {
      "model_module": "@jupyter-widgets/controls",
      "model_module_version": "1.5.0",
      "model_name": "HBoxModel",
      "state": {
       "children": [
        "IPY_MODEL_a0074360b4984f36b97fe43cad993de2",
        "IPY_MODEL_35c19ce555fe48b9acf6e8984788a907",
        "IPY_MODEL_f353722449ff40579171fec679d219d9"
       ],
       "layout": "IPY_MODEL_edcb4f44e68440d8813951e55b24a8f3"
      }
     },
     "693eb5f34ae44788828c59bb910f944f": {
      "model_module": "@jupyter-widgets/controls",
      "model_module_version": "1.5.0",
      "model_name": "HTMLModel",
      "state": {
       "layout": "IPY_MODEL_e18a1d22ced54b358e4e1315d9237775",
       "style": "IPY_MODEL_eaf2fc9912204d85bafc9405e7261003",
       "value": "Calculating Conductivity Variance: 100%"
      }
     },
     "6977bc5bb0f94f1b885bdaba3d0ccf65": {
      "model_module": "@jupyter-widgets/base",
      "model_module_version": "1.2.0",
      "model_name": "LayoutModel",
      "state": {}
     },
     "69b607cc1cca42af9d384b0fe17d2f7d": {
      "model_module": "@jupyter-widgets/controls",
      "model_module_version": "1.5.0",
      "model_name": "DescriptionStyleModel",
      "state": {
       "description_width": ""
      }
     },
     "69bef650dc0f4760b71bb598b0b2fe1a": {
      "model_module": "@jupyter-widgets/base",
      "model_module_version": "1.2.0",
      "model_name": "LayoutModel",
      "state": {}
     },
     "69ea8ef93fb647888f8b21b1e17b6e77": {
      "model_module": "@jupyter-widgets/controls",
      "model_module_version": "1.5.0",
      "model_name": "DescriptionStyleModel",
      "state": {
       "description_width": ""
      }
     },
     "6a4baa33db634599b5dee86cb245649d": {
      "model_module": "@jupyter-widgets/controls",
      "model_module_version": "1.5.0",
      "model_name": "HBoxModel",
      "state": {
       "children": [
        "IPY_MODEL_65a0e6883b8342e391617685732f350a",
        "IPY_MODEL_9eb3b8b7569d41849b25b7f7562fc695",
        "IPY_MODEL_1a08a8e659f34d039c79c2ea7851b07e"
       ],
       "layout": "IPY_MODEL_80188dcebf6d4d1c863ca29d5a535454"
      }
     },
     "6a70fe19262a4bc7b94366043e7d8502": {
      "model_module": "@jupyter-widgets/base",
      "model_module_version": "1.2.0",
      "model_name": "LayoutModel",
      "state": {}
     },
     "6aa097122dc3483ca7de1b1e59c75e52": {
      "model_module": "@jupyter-widgets/controls",
      "model_module_version": "1.5.0",
      "model_name": "FloatProgressModel",
      "state": {
       "bar_style": "success",
       "layout": "IPY_MODEL_531f94a6927f48a38db54c2e9ca6f424",
       "max": 2,
       "style": "IPY_MODEL_489ca1a56c494fa8a1cca233c0bd8df4",
       "value": 2
      }
     },
     "6aa73591df25486e83874b1abe570d72": {
      "model_module": "@jupyter-widgets/controls",
      "model_module_version": "1.5.0",
      "model_name": "HBoxModel",
      "state": {
       "children": [
        "IPY_MODEL_23a46c806ca249d88d4cbb1f06ffee2a",
        "IPY_MODEL_2c3a2a1bed4e4a2089c98fc9d3d2fd42",
        "IPY_MODEL_b47d42ba16a44829808eb89220de4a16"
       ],
       "layout": "IPY_MODEL_c4bf1c64de3843e4ae74ab115441540f"
      }
     },
     "6aa8069a5a104f9697c088778485c137": {
      "model_module": "@jupyter-widgets/controls",
      "model_module_version": "1.5.0",
      "model_name": "HTMLModel",
      "state": {
       "layout": "IPY_MODEL_9fdc5baa3de541338cf2d1f30d7e63bc",
       "style": "IPY_MODEL_4e5c0e5601bb4e9da6b7dc78de998a77",
       "value": "Calculating BVSE Variance: 100%"
      }
     },
     "6b33fe914fef4f47bb05ebbee6557197": {
      "model_module": "@jupyter-widgets/controls",
      "model_module_version": "1.5.0",
      "model_name": "FloatProgressModel",
      "state": {
       "bar_style": "success",
       "layout": "IPY_MODEL_7198d57505244c3c905a24e8f8a96b71",
       "max": 300,
       "style": "IPY_MODEL_0ff733e712524c0ca43e26af3efbacac",
       "value": 300
      }
     },
     "6b3c233a45674215832c9262e45afd8d": {
      "model_module": "@jupyter-widgets/controls",
      "model_module_version": "1.5.0",
      "model_name": "HTMLModel",
      "state": {
       "layout": "IPY_MODEL_002e4f0f6e5247f3b1e07f6a9c2df619",
       "style": "IPY_MODEL_38341d66705147a0980133d09e2d04b3",
       "value": "Calculating Conductivity Variance: 100%"
      }
     },
     "6bc5ce32fab247a6bf716cac4fcbdb10": {
      "model_module": "@jupyter-widgets/base",
      "model_module_version": "1.2.0",
      "model_name": "LayoutModel",
      "state": {}
     },
     "6bd31f2929a74487baee55de2b733ee6": {
      "model_module": "@jupyter-widgets/controls",
      "model_module_version": "1.5.0",
      "model_name": "HBoxModel",
      "state": {
       "children": [
        "IPY_MODEL_869f093610e84d90a6982ebe7ac20c01",
        "IPY_MODEL_5d928b8bacd744108c6a0b7874a61da0",
        "IPY_MODEL_05030da6a5624082828eeff792a1fcbe"
       ],
       "layout": "IPY_MODEL_29f7bc7b16be4cc9bd407212464ccb87"
      }
     },
     "6c2d91e04cab448fb36c97f7116ad5fa": {
      "model_module": "@jupyter-widgets/controls",
      "model_module_version": "1.5.0",
      "model_name": "FloatProgressModel",
      "state": {
       "bar_style": "success",
       "layout": "IPY_MODEL_be6f5e67f8f346d3a74a1308fa01eec3",
       "max": 300,
       "style": "IPY_MODEL_6279b4fc87a240139ba2dfcfca20a2ea",
       "value": 300
      }
     },
     "6c744de281c74b678c9a4c674e99df5a": {
      "model_module": "@jupyter-widgets/controls",
      "model_module_version": "1.5.0",
      "model_name": "HTMLModel",
      "state": {
       "layout": "IPY_MODEL_abfcb720656f45a4a0748ebcde219b01",
       "style": "IPY_MODEL_d60ac3e6ebd949078fbc471a21f0f435",
       "value": " 300/300 [00:33&lt;00:00,  7.90it/s]"
      }
     },
     "6c7c6e1a257a413c8eebc913c585460b": {
      "model_module": "@jupyter-widgets/controls",
      "model_module_version": "1.5.0",
      "model_name": "HTMLModel",
      "state": {
       "layout": "IPY_MODEL_1ac83d716ce84a3f84086f7244a881f3",
       "style": "IPY_MODEL_f0a988d79e6b4c6faea79b495ed6470d",
       "value": "Merging Features: 100%"
      }
     },
     "6c8c11e03f62409fba8fe69c09b76e16": {
      "model_module": "@jupyter-widgets/controls",
      "model_module_version": "1.5.0",
      "model_name": "DescriptionStyleModel",
      "state": {
       "description_width": ""
      }
     },
     "6ca5854e32894e4f8f230764306f1b02": {
      "model_module": "@jupyter-widgets/controls",
      "model_module_version": "1.5.0",
      "model_name": "DescriptionStyleModel",
      "state": {
       "description_width": ""
      }
     },
     "6d3a22f1a28b451ca3e49ddea067a650": {
      "model_module": "@jupyter-widgets/controls",
      "model_module_version": "1.5.0",
      "model_name": "HTMLModel",
      "state": {
       "layout": "IPY_MODEL_dfc811493ed64178b3628af2f9b6fd2c",
       "style": "IPY_MODEL_a8701f2a28454d449ba6ab35a4f2d326",
       "value": " 300/300 [00:34&lt;00:00,  8.03it/s]"
      }
     },
     "6d622e2dcc194cdf876df7f707b61448": {
      "model_module": "@jupyter-widgets/controls",
      "model_module_version": "1.5.0",
      "model_name": "DescriptionStyleModel",
      "state": {
       "description_width": ""
      }
     },
     "6e293611bab143aa958f5ca6b72178c5": {
      "model_module": "@jupyter-widgets/base",
      "model_module_version": "1.2.0",
      "model_name": "LayoutModel",
      "state": {}
     },
     "6e49dc009bc240aa9ede86a83099a0f7": {
      "model_module": "@jupyter-widgets/controls",
      "model_module_version": "1.5.0",
      "model_name": "ProgressStyleModel",
      "state": {
       "description_width": ""
      }
     },
     "6eda50fcc834429ca151e4ca57df4a3f": {
      "model_module": "@jupyter-widgets/controls",
      "model_module_version": "1.5.0",
      "model_name": "DescriptionStyleModel",
      "state": {
       "description_width": ""
      }
     },
     "6f5e037ef5904ea5953485d41d0ac81a": {
      "model_module": "@jupyter-widgets/controls",
      "model_module_version": "1.5.0",
      "model_name": "FloatProgressModel",
      "state": {
       "bar_style": "success",
       "layout": "IPY_MODEL_3cf1b495fa884f82817436b839b4e031",
       "max": 300,
       "style": "IPY_MODEL_43211679236740c595320d881dfabf58",
       "value": 300
      }
     },
     "6f676a7e9548477bbe7cc9c9392a52e3": {
      "model_module": "@jupyter-widgets/controls",
      "model_module_version": "1.5.0",
      "model_name": "HTMLModel",
      "state": {
       "layout": "IPY_MODEL_f56974cbd13349d09dc1222fb1ba388c",
       "style": "IPY_MODEL_731a985a6acc4ecd9872e7306645af45",
       "value": " 300/300 [00:10&lt;00:00, 21.63it/s]"
      }
     },
     "6f7075a4a5b6481985f804926eb748b8": {
      "model_module": "@jupyter-widgets/controls",
      "model_module_version": "1.5.0",
      "model_name": "FloatProgressModel",
      "state": {
       "bar_style": "success",
       "layout": "IPY_MODEL_7122a74fbcd74b5b8064bf869c14edd6",
       "max": 300,
       "style": "IPY_MODEL_7b3a4af0f382407c868e64b445ba6ea8",
       "value": 300
      }
     },
     "6f74e2ea52e4489e926f4dc2da467133": {
      "model_module": "@jupyter-widgets/controls",
      "model_module_version": "1.5.0",
      "model_name": "DescriptionStyleModel",
      "state": {
       "description_width": ""
      }
     },
     "6f8a04b023fe46baa4f5df958947e371": {
      "model_module": "@jupyter-widgets/base",
      "model_module_version": "1.2.0",
      "model_name": "LayoutModel",
      "state": {}
     },
     "6f96e9392d7c42bd9bf1acbc73fc8b8a": {
      "model_module": "@jupyter-widgets/base",
      "model_module_version": "1.2.0",
      "model_name": "LayoutModel",
      "state": {}
     },
     "6f9991b224b944ad8aca5348c1430a00": {
      "model_module": "@jupyter-widgets/base",
      "model_module_version": "1.2.0",
      "model_name": "LayoutModel",
      "state": {}
     },
     "702be308173a4806a508b4784c201ce4": {
      "model_module": "@jupyter-widgets/controls",
      "model_module_version": "1.5.0",
      "model_name": "DescriptionStyleModel",
      "state": {
       "description_width": ""
      }
     },
     "702f93ad073642e287d8151c5f7876b6": {
      "model_module": "@jupyter-widgets/controls",
      "model_module_version": "1.5.0",
      "model_name": "HBoxModel",
      "state": {
       "children": [
        "IPY_MODEL_15dba0ba9f15443db8fdcc8cce0dc434",
        "IPY_MODEL_1d5c08fb3e544d4da66c62fb7ce15060",
        "IPY_MODEL_6f676a7e9548477bbe7cc9c9392a52e3"
       ],
       "layout": "IPY_MODEL_317e472311654bcfbff3ebe8e0f9bc5f"
      }
     },
     "702fb378bf4d42b2bbf9975bdc166d5a": {
      "model_module": "@jupyter-widgets/base",
      "model_module_version": "1.2.0",
      "model_name": "LayoutModel",
      "state": {}
     },
     "70540f1263a64de08cfdfa1f470a4ea6": {
      "model_module": "@jupyter-widgets/base",
      "model_module_version": "1.2.0",
      "model_name": "LayoutModel",
      "state": {}
     },
     "70dd4abfd6a14c2782a9238a9cdda527": {
      "model_module": "@jupyter-widgets/base",
      "model_module_version": "1.2.0",
      "model_name": "LayoutModel",
      "state": {}
     },
     "7122a74fbcd74b5b8064bf869c14edd6": {
      "model_module": "@jupyter-widgets/base",
      "model_module_version": "1.2.0",
      "model_name": "LayoutModel",
      "state": {}
     },
     "71399b52d79640798e482bd2a5148179": {
      "model_module": "@jupyter-widgets/controls",
      "model_module_version": "1.5.0",
      "model_name": "FloatProgressModel",
      "state": {
       "bar_style": "success",
       "layout": "IPY_MODEL_b998426fd5e74414805718990429eba0",
       "max": 2,
       "style": "IPY_MODEL_173103d961364a73954f7c745bf92e00",
       "value": 2
      }
     },
     "714a7a216a4e4009b49401c3e95883f0": {
      "model_module": "@jupyter-widgets/controls",
      "model_module_version": "1.5.0",
      "model_name": "ProgressStyleModel",
      "state": {
       "description_width": ""
      }
     },
     "717f147227934551b75d1ded12998db3": {
      "model_module": "@jupyter-widgets/controls",
      "model_module_version": "1.5.0",
      "model_name": "HTMLModel",
      "state": {
       "layout": "IPY_MODEL_542ad144e4904406834c54f750368bdb",
       "style": "IPY_MODEL_28a576a0fbeb4f019914875eb88d1133",
       "value": " 1/1 [00:00&lt;00:00, 53.27it/s]"
      }
     },
     "718a24a3e48e413aafb2ef19c7961556": {
      "model_module": "@jupyter-widgets/controls",
      "model_module_version": "1.5.0",
      "model_name": "HTMLModel",
      "state": {
       "layout": "IPY_MODEL_1806ff8829644e82a1def0e3457f566e",
       "style": "IPY_MODEL_69ea8ef93fb647888f8b21b1e17b6e77",
       "value": " 300/300 [00:10&lt;00:00, 21.14it/s]"
      }
     },
     "7198d57505244c3c905a24e8f8a96b71": {
      "model_module": "@jupyter-widgets/base",
      "model_module_version": "1.2.0",
      "model_name": "LayoutModel",
      "state": {}
     },
     "72e6f5818d034390ab5f35f229496d75": {
      "model_module": "@jupyter-widgets/base",
      "model_module_version": "1.2.0",
      "model_name": "LayoutModel",
      "state": {}
     },
     "731a985a6acc4ecd9872e7306645af45": {
      "model_module": "@jupyter-widgets/controls",
      "model_module_version": "1.5.0",
      "model_name": "DescriptionStyleModel",
      "state": {
       "description_width": ""
      }
     },
     "733d439da0914dd7bff38e0563fd2ad3": {
      "model_module": "@jupyter-widgets/base",
      "model_module_version": "1.2.0",
      "model_name": "LayoutModel",
      "state": {}
     },
     "739d3677fde54fc49ddd1f9757d64e25": {
      "model_module": "@jupyter-widgets/controls",
      "model_module_version": "1.5.0",
      "model_name": "HBoxModel",
      "state": {
       "children": [
        "IPY_MODEL_10f48e15c108464394340acc2025d1f6",
        "IPY_MODEL_7f7aa1425dac4643b9b85f9c66c1684b",
        "IPY_MODEL_d8ce79cd6ccd44d0a442caa22dd6dc14"
       ],
       "layout": "IPY_MODEL_1abfc38a3e444695979012aa689f86d8"
      }
     },
     "73b6c33e04004ef48109a3dc075d8617": {
      "model_module": "@jupyter-widgets/controls",
      "model_module_version": "1.5.0",
      "model_name": "HTMLModel",
      "state": {
       "layout": "IPY_MODEL_de053a032475497ca1ac49a143cd30ae",
       "style": "IPY_MODEL_e13e965c27fa4b3ca07d50805fd03fce",
       "value": "Calculating BVSE Variance: 100%"
      }
     },
     "73d685071ee3409a843863220439058d": {
      "model_module": "@jupyter-widgets/controls",
      "model_module_version": "1.5.0",
      "model_name": "HTMLModel",
      "state": {
       "layout": "IPY_MODEL_b14a27c95377416ba60bc204199cd900",
       "style": "IPY_MODEL_a39529b3997142a692f6e43ca77e1fc7",
       "value": " 2/2 [00:00&lt;00:00, 74.14it/s]"
      }
     },
     "744c9d8d69544d5481d5b77fe0a0d3a3": {
      "model_module": "@jupyter-widgets/controls",
      "model_module_version": "1.5.0",
      "model_name": "FloatProgressModel",
      "state": {
       "bar_style": "success",
       "layout": "IPY_MODEL_9bb2b078232c455889fce72ceac8f288",
       "max": 300,
       "style": "IPY_MODEL_470d2f668b594738a893cb9cb5fbf7dc",
       "value": 300
      }
     },
     "754bf0da950e4d658a777873baecd6f1": {
      "model_module": "@jupyter-widgets/controls",
      "model_module_version": "1.5.0",
      "model_name": "DescriptionStyleModel",
      "state": {
       "description_width": ""
      }
     },
     "755f44b78d9c4fd1a1c7ee10d86682aa": {
      "model_module": "@jupyter-widgets/controls",
      "model_module_version": "1.5.0",
      "model_name": "HTMLModel",
      "state": {
       "layout": "IPY_MODEL_c4c9aff5710541c0ba000e6ae8b17cf9",
       "style": "IPY_MODEL_e756aee764594978aad98f51eac8946a",
       "value": "Calculating Conductivity Variance: 100%"
      }
     },
     "75caf5eaab034a649e5a3b90daf11523": {
      "model_module": "@jupyter-widgets/controls",
      "model_module_version": "1.5.0",
      "model_name": "DescriptionStyleModel",
      "state": {
       "description_width": ""
      }
     },
     "75d9d08f353c458abea1ca9339f4d547": {
      "model_module": "@jupyter-widgets/controls",
      "model_module_version": "1.5.0",
      "model_name": "DescriptionStyleModel",
      "state": {
       "description_width": ""
      }
     },
     "7726cd7ca1b64316b94b6ea711ceed4e": {
      "model_module": "@jupyter-widgets/base",
      "model_module_version": "1.2.0",
      "model_name": "LayoutModel",
      "state": {}
     },
     "7740d9f1890f4a5b8c551083dc213f84": {
      "model_module": "@jupyter-widgets/base",
      "model_module_version": "1.2.0",
      "model_name": "LayoutModel",
      "state": {}
     },
     "77b620ad53744130a9034dfc3400cb9e": {
      "model_module": "@jupyter-widgets/controls",
      "model_module_version": "1.5.0",
      "model_name": "FloatProgressModel",
      "state": {
       "bar_style": "success",
       "layout": "IPY_MODEL_4be57aba8c84433da95f1781fb4b0354",
       "max": 300,
       "style": "IPY_MODEL_637ca18ad05b460296d91aa885df3e37",
       "value": 300
      }
     },
     "77e8e0272f3a4caeae8889c76ee51247": {
      "model_module": "@jupyter-widgets/controls",
      "model_module_version": "1.5.0",
      "model_name": "HTMLModel",
      "state": {
       "layout": "IPY_MODEL_caade8695719442fbb37643bfa744817",
       "style": "IPY_MODEL_cde57727314d4f3ea18ad5eca6ed982f",
       "value": " 300/300 [00:34&lt;00:00,  7.90it/s]"
      }
     },
     "78072efcdfe64234866299b38a6db8c2": {
      "model_module": "@jupyter-widgets/controls",
      "model_module_version": "1.5.0",
      "model_name": "ProgressStyleModel",
      "state": {
       "description_width": ""
      }
     },
     "786242644bf24369a4a74d65511beca6": {
      "model_module": "@jupyter-widgets/controls",
      "model_module_version": "1.5.0",
      "model_name": "DescriptionStyleModel",
      "state": {
       "description_width": ""
      }
     },
     "78af78a4b62c47678552ea254d8a6134": {
      "model_module": "@jupyter-widgets/controls",
      "model_module_version": "1.5.0",
      "model_name": "DescriptionStyleModel",
      "state": {
       "description_width": ""
      }
     },
     "78c12bb30ae3444f812a5043d03df386": {
      "model_module": "@jupyter-widgets/base",
      "model_module_version": "1.2.0",
      "model_name": "LayoutModel",
      "state": {}
     },
     "796d732249d0450e8f8bc4f5ff8a0bff": {
      "model_module": "@jupyter-widgets/base",
      "model_module_version": "1.2.0",
      "model_name": "LayoutModel",
      "state": {}
     },
     "79b72e5ccd784ba09c60035d62336509": {
      "model_module": "@jupyter-widgets/base",
      "model_module_version": "1.2.0",
      "model_name": "LayoutModel",
      "state": {}
     },
     "7a3cd3568b9d44e48ea02a53a40d2de1": {
      "model_module": "@jupyter-widgets/base",
      "model_module_version": "1.2.0",
      "model_name": "LayoutModel",
      "state": {}
     },
     "7aa9d5825ad34e4e8e10cce1ba960e4f": {
      "model_module": "@jupyter-widgets/controls",
      "model_module_version": "1.5.0",
      "model_name": "DescriptionStyleModel",
      "state": {
       "description_width": ""
      }
     },
     "7aed3bff90984cdd830131eb2d9090bb": {
      "model_module": "@jupyter-widgets/controls",
      "model_module_version": "1.5.0",
      "model_name": "DescriptionStyleModel",
      "state": {
       "description_width": ""
      }
     },
     "7b0bbd165ef14de8b46d8319b662db65": {
      "model_module": "@jupyter-widgets/base",
      "model_module_version": "1.2.0",
      "model_name": "LayoutModel",
      "state": {}
     },
     "7b33b916ae99460194b1fc3a308c0cc5": {
      "model_module": "@jupyter-widgets/base",
      "model_module_version": "1.2.0",
      "model_name": "LayoutModel",
      "state": {}
     },
     "7b3a4af0f382407c868e64b445ba6ea8": {
      "model_module": "@jupyter-widgets/controls",
      "model_module_version": "1.5.0",
      "model_name": "ProgressStyleModel",
      "state": {
       "description_width": ""
      }
     },
     "7b3b7bbde4274b428871e64c714ef588": {
      "model_module": "@jupyter-widgets/base",
      "model_module_version": "1.2.0",
      "model_name": "LayoutModel",
      "state": {}
     },
     "7b82adc1e36b4e2fb98075bbe20f9ddb": {
      "model_module": "@jupyter-widgets/controls",
      "model_module_version": "1.5.0",
      "model_name": "FloatProgressModel",
      "state": {
       "bar_style": "success",
       "layout": "IPY_MODEL_b5a047b4c42448b289237cb675ecfee6",
       "max": 2,
       "style": "IPY_MODEL_0e58105244874a6cbc358f78b9277e09",
       "value": 2
      }
     },
     "7b86ce224ca748dbbb12244368d71cf1": {
      "model_module": "@jupyter-widgets/base",
      "model_module_version": "1.2.0",
      "model_name": "LayoutModel",
      "state": {}
     },
     "7b9759ae7d4441f9bd3ef607c3a5093e": {
      "model_module": "@jupyter-widgets/controls",
      "model_module_version": "1.5.0",
      "model_name": "DescriptionStyleModel",
      "state": {
       "description_width": ""
      }
     },
     "7bf9660c3f4e48d090a63079b5e566e3": {
      "model_module": "@jupyter-widgets/controls",
      "model_module_version": "1.5.0",
      "model_name": "FloatProgressModel",
      "state": {
       "bar_style": "success",
       "layout": "IPY_MODEL_7c39e50e13d34062aafe2e0df1f3e86b",
       "max": 2,
       "style": "IPY_MODEL_87ff30d758734baab2dcc5332fde188c",
       "value": 2
      }
     },
     "7bfbec687f9e4a3daa6fc1c09c48f941": {
      "model_module": "@jupyter-widgets/base",
      "model_module_version": "1.2.0",
      "model_name": "LayoutModel",
      "state": {}
     },
     "7c18a68557644ac394b970aea6d982ae": {
      "model_module": "@jupyter-widgets/controls",
      "model_module_version": "1.5.0",
      "model_name": "HTMLModel",
      "state": {
       "layout": "IPY_MODEL_4c76afd1c39d4c9b9ca1086b4f5000d4",
       "style": "IPY_MODEL_4ba5e570ae8d436a902068bbe263529f",
       "value": " 300/300 [00:10&lt;00:00, 21.69it/s]"
      }
     },
     "7c39e50e13d34062aafe2e0df1f3e86b": {
      "model_module": "@jupyter-widgets/base",
      "model_module_version": "1.2.0",
      "model_name": "LayoutModel",
      "state": {}
     },
     "7c7fc06dad4d4a24ba124d5ecf864174": {
      "model_module": "@jupyter-widgets/controls",
      "model_module_version": "1.5.0",
      "model_name": "FloatProgressModel",
      "state": {
       "bar_style": "success",
       "layout": "IPY_MODEL_6f8a04b023fe46baa4f5df958947e371",
       "max": 1,
       "style": "IPY_MODEL_8c9e5a688c9f45f1bc51b68d816d813a",
       "value": 1
      }
     },
     "7cf306e87693485f84fb57802c96b38b": {
      "model_module": "@jupyter-widgets/controls",
      "model_module_version": "1.5.0",
      "model_name": "DescriptionStyleModel",
      "state": {
       "description_width": ""
      }
     },
     "7cf687c0e89b4b12a6fa01ae49113545": {
      "model_module": "@jupyter-widgets/base",
      "model_module_version": "1.2.0",
      "model_name": "LayoutModel",
      "state": {}
     },
     "7d26916902294240b7987a15819daf0f": {
      "model_module": "@jupyter-widgets/controls",
      "model_module_version": "1.5.0",
      "model_name": "ProgressStyleModel",
      "state": {
       "description_width": ""
      }
     },
     "7dce70e325c54a38a6601970c9fe78cd": {
      "model_module": "@jupyter-widgets/controls",
      "model_module_version": "1.5.0",
      "model_name": "HBoxModel",
      "state": {
       "children": [
        "IPY_MODEL_98ad178fcbc34949ab67798da95313f6",
        "IPY_MODEL_62f5f07226254dff97839803ef8b0c83",
        "IPY_MODEL_d36ba1d787e64434bce8079cf866bd2f"
       ],
       "layout": "IPY_MODEL_5490f98e5469489ba99fb41ffff9d65a"
      }
     },
     "7e17c2d842dd4324a6cf3708bb08cf0d": {
      "model_module": "@jupyter-widgets/controls",
      "model_module_version": "1.5.0",
      "model_name": "ProgressStyleModel",
      "state": {
       "description_width": ""
      }
     },
     "7e45471397b1425882d633fcc8e01f2c": {
      "model_module": "@jupyter-widgets/base",
      "model_module_version": "1.2.0",
      "model_name": "LayoutModel",
      "state": {}
     },
     "7e9616455a2549f6a4ba7acc43a60afa": {
      "model_module": "@jupyter-widgets/base",
      "model_module_version": "1.2.0",
      "model_name": "LayoutModel",
      "state": {}
     },
     "7eb59913339f4bd0965bb5e69a926f64": {
      "model_module": "@jupyter-widgets/base",
      "model_module_version": "1.2.0",
      "model_name": "LayoutModel",
      "state": {}
     },
     "7ec962afab3c46898f700e0d64df21d4": {
      "model_module": "@jupyter-widgets/controls",
      "model_module_version": "1.5.0",
      "model_name": "FloatProgressModel",
      "state": {
       "bar_style": "success",
       "layout": "IPY_MODEL_429bd9663a114e3d9f44aa9bcca74e20",
       "max": 300,
       "style": "IPY_MODEL_ecd4367da0344550a554168c05efa39e",
       "value": 300
      }
     },
     "7ecc7bde008f45a99c8ffee4968f4112": {
      "model_module": "@jupyter-widgets/controls",
      "model_module_version": "1.5.0",
      "model_name": "HTMLModel",
      "state": {
       "layout": "IPY_MODEL_947c94f3882d44e39f4ce09091e371e3",
       "style": "IPY_MODEL_fe7556126a1c44e696aa813ece22f9b7",
       "value": "Calculating Conductivity Variance: 100%"
      }
     },
     "7f7aa1425dac4643b9b85f9c66c1684b": {
      "model_module": "@jupyter-widgets/controls",
      "model_module_version": "1.5.0",
      "model_name": "FloatProgressModel",
      "state": {
       "bar_style": "success",
       "layout": "IPY_MODEL_2212f930ba484a86818b43899fb1c2bb",
       "max": 1,
       "style": "IPY_MODEL_d9c68a599ef24596b3d25e9d849d0131",
       "value": 1
      }
     },
     "7f7df9b0128349ecaa931de5a4c0dc14": {
      "model_module": "@jupyter-widgets/controls",
      "model_module_version": "1.5.0",
      "model_name": "HTMLModel",
      "state": {
       "layout": "IPY_MODEL_a40ef0daf80f44e4b9ba83774de08abd",
       "style": "IPY_MODEL_6f74e2ea52e4489e926f4dc2da467133",
       "value": " 300/300 [00:10&lt;00:00, 21.41it/s]"
      }
     },
     "8016c3bb7c764224b8f1b1b7cc7b7b29": {
      "model_module": "@jupyter-widgets/controls",
      "model_module_version": "1.5.0",
      "model_name": "HTMLModel",
      "state": {
       "layout": "IPY_MODEL_31b90769865e4597a378cd0f2fb3cc94",
       "style": "IPY_MODEL_d6e93e84297b4039b030d92f02bafff1",
       "value": " 300/300 [00:10&lt;00:00, 21.93it/s]"
      }
     },
     "80188dcebf6d4d1c863ca29d5a535454": {
      "model_module": "@jupyter-widgets/base",
      "model_module_version": "1.2.0",
      "model_name": "LayoutModel",
      "state": {}
     },
     "80349bcdd49a4926ba5239f44e3e9929": {
      "model_module": "@jupyter-widgets/controls",
      "model_module_version": "1.5.0",
      "model_name": "DescriptionStyleModel",
      "state": {
       "description_width": ""
      }
     },
     "809af4ca41a14ab09485c301d0128a31": {
      "model_module": "@jupyter-widgets/base",
      "model_module_version": "1.2.0",
      "model_name": "LayoutModel",
      "state": {}
     },
     "80ed84efd6274966be9fb0e7c61d7c5d": {
      "model_module": "@jupyter-widgets/controls",
      "model_module_version": "1.5.0",
      "model_name": "ProgressStyleModel",
      "state": {
       "description_width": ""
      }
     },
     "80f26bdd15164b3098520872fd4cf4b8": {
      "model_module": "@jupyter-widgets/base",
      "model_module_version": "1.2.0",
      "model_name": "LayoutModel",
      "state": {}
     },
     "811e1a229ce548bdb869ff9e2e4e178f": {
      "model_module": "@jupyter-widgets/base",
      "model_module_version": "1.2.0",
      "model_name": "LayoutModel",
      "state": {}
     },
     "81f02dcf9d624ad4a8ca3a8f9decd22f": {
      "model_module": "@jupyter-widgets/base",
      "model_module_version": "1.2.0",
      "model_name": "LayoutModel",
      "state": {}
     },
     "8249b7e263164151b308527e2237b5f8": {
      "model_module": "@jupyter-widgets/controls",
      "model_module_version": "1.5.0",
      "model_name": "HTMLModel",
      "state": {
       "layout": "IPY_MODEL_279db3d791834094a102ddda0f2fae4c",
       "style": "IPY_MODEL_c52f82a97e194dd889c6854d248ee477",
       "value": "Merging Features: 100%"
      }
     },
     "82ae14eaf0f74818b33052ba08b07158": {
      "model_module": "@jupyter-widgets/base",
      "model_module_version": "1.2.0",
      "model_name": "LayoutModel",
      "state": {}
     },
     "82fb6d4c8574451dafe3de0152018aa1": {
      "model_module": "@jupyter-widgets/controls",
      "model_module_version": "1.5.0",
      "model_name": "ProgressStyleModel",
      "state": {
       "description_width": ""
      }
     },
     "8302c9c5164143148e6673eca8ce324e": {
      "model_module": "@jupyter-widgets/controls",
      "model_module_version": "1.5.0",
      "model_name": "ProgressStyleModel",
      "state": {
       "description_width": ""
      }
     },
     "83183fef7e32471b972bbc3adeabd805": {
      "model_module": "@jupyter-widgets/controls",
      "model_module_version": "1.5.0",
      "model_name": "DescriptionStyleModel",
      "state": {
       "description_width": ""
      }
     },
     "8350573fdfd94863ad1cf696724e97b1": {
      "model_module": "@jupyter-widgets/controls",
      "model_module_version": "1.5.0",
      "model_name": "HTMLModel",
      "state": {
       "layout": "IPY_MODEL_bdd79e8538904a3683e8ac8578d870e3",
       "style": "IPY_MODEL_9a59082453d44f1683ebc48a551788ea",
       "value": "Merging Features: 100%"
      }
     },
     "8387abea7c204f35836ccb8d835496b9": {
      "model_module": "@jupyter-widgets/base",
      "model_module_version": "1.2.0",
      "model_name": "LayoutModel",
      "state": {}
     },
     "83b65808c54a46ffa807b3416f835e62": {
      "model_module": "@jupyter-widgets/controls",
      "model_module_version": "1.5.0",
      "model_name": "HTMLModel",
      "state": {
       "layout": "IPY_MODEL_87a92419279448dd92b670163e949b2b",
       "style": "IPY_MODEL_e25fd074d56d4c7989c03a39b057f931",
       "value": "Merging Features: 100%"
      }
     },
     "83f640f2870544e38c861baaac72b1be": {
      "model_module": "@jupyter-widgets/controls",
      "model_module_version": "1.5.0",
      "model_name": "HTMLModel",
      "state": {
       "layout": "IPY_MODEL_f5888063cc314bc3b21518840486277a",
       "style": "IPY_MODEL_ae93141701344c2b9171d021e1b47d16",
       "value": "Calculating Conductivity Variance: 100%"
      }
     },
     "8469c8dcd0ad41d081c869d99dffc977": {
      "model_module": "@jupyter-widgets/base",
      "model_module_version": "1.2.0",
      "model_name": "LayoutModel",
      "state": {}
     },
     "8501314f909745f79b09eb51795f1ba9": {
      "model_module": "@jupyter-widgets/controls",
      "model_module_version": "1.5.0",
      "model_name": "DescriptionStyleModel",
      "state": {
       "description_width": ""
      }
     },
     "8516d46af84b439bb3a09a403a3e9f80": {
      "model_module": "@jupyter-widgets/controls",
      "model_module_version": "1.5.0",
      "model_name": "DescriptionStyleModel",
      "state": {
       "description_width": ""
      }
     },
     "855e08a5d2834fb0ad9c232509842eef": {
      "model_module": "@jupyter-widgets/controls",
      "model_module_version": "1.5.0",
      "model_name": "HTMLModel",
      "state": {
       "layout": "IPY_MODEL_7b0bbd165ef14de8b46d8319b662db65",
       "style": "IPY_MODEL_11e110a4d62b44c6ba57d760d3f12e0a",
       "value": " 300/300 [00:33&lt;00:00,  8.11it/s]"
      }
     },
     "85fb799abdc0438392438c8713a83c78": {
      "model_module": "@jupyter-widgets/controls",
      "model_module_version": "1.5.0",
      "model_name": "HTMLModel",
      "state": {
       "layout": "IPY_MODEL_9906ae4a31174703afc96e8bde45be22",
       "style": "IPY_MODEL_c89ec06429dd426f9829d9658edda182",
       "value": " 1/1 [00:00&lt;00:00, 60.49it/s]"
      }
     },
     "865db8d752254c56a53fc98d22121493": {
      "model_module": "@jupyter-widgets/base",
      "model_module_version": "1.2.0",
      "model_name": "LayoutModel",
      "state": {}
     },
     "869f093610e84d90a6982ebe7ac20c01": {
      "model_module": "@jupyter-widgets/controls",
      "model_module_version": "1.5.0",
      "model_name": "HTMLModel",
      "state": {
       "layout": "IPY_MODEL_3e94240d8d8a4791907ce64f1dff2f2c",
       "style": "IPY_MODEL_7cf306e87693485f84fb57802c96b38b",
       "value": "Merging Features: 100%"
      }
     },
     "86c8054e4a504ff6b2e4d8a0b3523134": {
      "model_module": "@jupyter-widgets/base",
      "model_module_version": "1.2.0",
      "model_name": "LayoutModel",
      "state": {}
     },
     "86f2ea530988411e9055d9fb8163c3a9": {
      "model_module": "@jupyter-widgets/controls",
      "model_module_version": "1.5.0",
      "model_name": "ProgressStyleModel",
      "state": {
       "description_width": ""
      }
     },
     "8714f55a20324bd99c49bde4e41cdd42": {
      "model_module": "@jupyter-widgets/controls",
      "model_module_version": "1.5.0",
      "model_name": "HTMLModel",
      "state": {
       "layout": "IPY_MODEL_5a0980413f5647f083b2dce58ed28cee",
       "style": "IPY_MODEL_83183fef7e32471b972bbc3adeabd805",
       "value": "Calculating BVSE Variance: 100%"
      }
     },
     "8729ca4bf75d470a92e9f429f2456395": {
      "model_module": "@jupyter-widgets/controls",
      "model_module_version": "1.5.0",
      "model_name": "HTMLModel",
      "state": {
       "layout": "IPY_MODEL_c1372f3bfca042ddaa3f2f801e490c9e",
       "style": "IPY_MODEL_b19b4bf21ebc42628da7f540c1eddfdc",
       "value": " 10/10 [14:28&lt;00:00, 86.70s/it]"
      }
     },
     "8763d7b6f59448e9bfef159c65a8e0f1": {
      "model_module": "@jupyter-widgets/controls",
      "model_module_version": "1.5.0",
      "model_name": "HBoxModel",
      "state": {
       "children": [
        "IPY_MODEL_155baac827084b3f8e82dce37fa22ef7",
        "IPY_MODEL_6f7075a4a5b6481985f804926eb748b8",
        "IPY_MODEL_7f7df9b0128349ecaa931de5a4c0dc14"
       ],
       "layout": "IPY_MODEL_f9443eed1c3c4834a58ff954e6fc8f9f"
      }
     },
     "87878e5f2a794e3d963614e301e4de0f": {
      "model_module": "@jupyter-widgets/controls",
      "model_module_version": "1.5.0",
      "model_name": "DescriptionStyleModel",
      "state": {
       "description_width": ""
      }
     },
     "87a92419279448dd92b670163e949b2b": {
      "model_module": "@jupyter-widgets/base",
      "model_module_version": "1.2.0",
      "model_name": "LayoutModel",
      "state": {}
     },
     "87aa12c0f5d541a4ab68413527a45960": {
      "model_module": "@jupyter-widgets/controls",
      "model_module_version": "1.5.0",
      "model_name": "DescriptionStyleModel",
      "state": {
       "description_width": ""
      }
     },
     "87d01673d13c45a0b0a87085c5b24aa2": {
      "model_module": "@jupyter-widgets/controls",
      "model_module_version": "1.5.0",
      "model_name": "FloatProgressModel",
      "state": {
       "bar_style": "success",
       "layout": "IPY_MODEL_f5795098189e4902a9613a25b70d8881",
       "max": 300,
       "style": "IPY_MODEL_8cca87b32325410a80b4acaf9f300c2e",
       "value": 300
      }
     },
     "87ff30d758734baab2dcc5332fde188c": {
      "model_module": "@jupyter-widgets/controls",
      "model_module_version": "1.5.0",
      "model_name": "ProgressStyleModel",
      "state": {
       "description_width": ""
      }
     },
     "883394290a8c438c87a67e54bb543473": {
      "model_module": "@jupyter-widgets/controls",
      "model_module_version": "1.5.0",
      "model_name": "HBoxModel",
      "state": {
       "children": [
        "IPY_MODEL_26f3372b5bca42da871588f9acdb1140",
        "IPY_MODEL_e5883bafec504065a6b62d016737d83a",
        "IPY_MODEL_a2e7463e89364c94a09fd23acab07139"
       ],
       "layout": "IPY_MODEL_811e1a229ce548bdb869ff9e2e4e178f"
      }
     },
     "88864ed8f0884fa48a7c6643654b184e": {
      "model_module": "@jupyter-widgets/base",
      "model_module_version": "1.2.0",
      "model_name": "LayoutModel",
      "state": {}
     },
     "88cd0012006d4ff082f5c26e63824f42": {
      "model_module": "@jupyter-widgets/base",
      "model_module_version": "1.2.0",
      "model_name": "LayoutModel",
      "state": {}
     },
     "88cdb07f2d564878a98fc311aa8c15d3": {
      "model_module": "@jupyter-widgets/controls",
      "model_module_version": "1.5.0",
      "model_name": "HTMLModel",
      "state": {
       "layout": "IPY_MODEL_9e5836be418c40059b52bb227ff7bbda",
       "style": "IPY_MODEL_35529826a9f8470b96549e8f0879681c",
       "value": " 300/300 [00:10&lt;00:00, 21.70it/s]"
      }
     },
     "892e606ab1204dac9dbb0830cd35815b": {
      "model_module": "@jupyter-widgets/controls",
      "model_module_version": "1.5.0",
      "model_name": "DescriptionStyleModel",
      "state": {
       "description_width": ""
      }
     },
     "893a969ec13c4524bd031a3407d927e4": {
      "model_module": "@jupyter-widgets/controls",
      "model_module_version": "1.5.0",
      "model_name": "HTMLModel",
      "state": {
       "layout": "IPY_MODEL_54d5b16cd9f34bd88b78e893ac315a47",
       "style": "IPY_MODEL_6d622e2dcc194cdf876df7f707b61448",
       "value": " 300/300 [00:33&lt;00:00,  8.03it/s]"
      }
     },
     "896bf50413f9443aa344cd72e6adf9db": {
      "model_module": "@jupyter-widgets/controls",
      "model_module_version": "1.5.0",
      "model_name": "ProgressStyleModel",
      "state": {
       "description_width": ""
      }
     },
     "8a07f22626d543049bd2282293ddde6f": {
      "model_module": "@jupyter-widgets/controls",
      "model_module_version": "1.5.0",
      "model_name": "DescriptionStyleModel",
      "state": {
       "description_width": ""
      }
     },
     "8a0ef0507981469bb446347351c7070c": {
      "model_module": "@jupyter-widgets/base",
      "model_module_version": "1.2.0",
      "model_name": "LayoutModel",
      "state": {}
     },
     "8a26e51101c7445f907dbda7cd742e6c": {
      "model_module": "@jupyter-widgets/controls",
      "model_module_version": "1.5.0",
      "model_name": "FloatProgressModel",
      "state": {
       "bar_style": "success",
       "layout": "IPY_MODEL_c110b8758acc4ff1b1655b0eeeb7ea7f",
       "max": 300,
       "style": "IPY_MODEL_0e4b911017674027bb22d576da27c676",
       "value": 300
      }
     },
     "8a27dae0dcca43dbbc08cf94a109a5ef": {
      "model_module": "@jupyter-widgets/base",
      "model_module_version": "1.2.0",
      "model_name": "LayoutModel",
      "state": {}
     },
     "8a57c521426c4437b597f8bf4946614a": {
      "model_module": "@jupyter-widgets/controls",
      "model_module_version": "1.5.0",
      "model_name": "FloatProgressModel",
      "state": {
       "bar_style": "success",
       "layout": "IPY_MODEL_b057035c29874e56b4582913219e2235",
       "max": 300,
       "style": "IPY_MODEL_cd60c246b62b49b8bcea38891da7a540",
       "value": 300
      }
     },
     "8b292fa0baec4d039fcae316c85cbac3": {
      "model_module": "@jupyter-widgets/controls",
      "model_module_version": "1.5.0",
      "model_name": "HTMLModel",
      "state": {
       "layout": "IPY_MODEL_c2597cf4f261499bb7d788dd4c6e7ebd",
       "style": "IPY_MODEL_1cd271bfd2b74e5aa5b2be4e1f93e7c9",
       "value": " 300/300 [00:33&lt;00:00,  7.99it/s]"
      }
     },
     "8b9f7ca0061d44d2917eb27d7d787cce": {
      "model_module": "@jupyter-widgets/controls",
      "model_module_version": "1.5.0",
      "model_name": "HBoxModel",
      "state": {
       "children": [
        "IPY_MODEL_6b3c233a45674215832c9262e45afd8d",
        "IPY_MODEL_7ec962afab3c46898f700e0d64df21d4",
        "IPY_MODEL_3b628783e62944d6afaf6f0b496a27c0"
       ],
       "layout": "IPY_MODEL_2c4973394fc44fa4a734f69c6bc74453"
      }
     },
     "8bdbf068d21e4892ac40fa8366557fd3": {
      "model_module": "@jupyter-widgets/base",
      "model_module_version": "1.2.0",
      "model_name": "LayoutModel",
      "state": {}
     },
     "8bee067bf6e3442cb5ccbc156b127aee": {
      "model_module": "@jupyter-widgets/controls",
      "model_module_version": "1.5.0",
      "model_name": "FloatProgressModel",
      "state": {
       "bar_style": "success",
       "layout": "IPY_MODEL_f38f86fa50e54e18833585dc6d23ad69",
       "max": 2,
       "style": "IPY_MODEL_0731277364a64e0aa48e606604bc6b96",
       "value": 2
      }
     },
     "8c43d7ff91e047389978450b95699a05": {
      "model_module": "@jupyter-widgets/controls",
      "model_module_version": "1.5.0",
      "model_name": "HBoxModel",
      "state": {
       "children": [
        "IPY_MODEL_ff354ac1558845de86c99a825e61316b",
        "IPY_MODEL_1468b1dc04b24af9bede22cd0f10d43a",
        "IPY_MODEL_db6de39170dc45e6b17bf61ce61694d2"
       ],
       "layout": "IPY_MODEL_ffa71ede1795408f8ff3afe40938dcc1"
      }
     },
     "8c9e5a688c9f45f1bc51b68d816d813a": {
      "model_module": "@jupyter-widgets/controls",
      "model_module_version": "1.5.0",
      "model_name": "ProgressStyleModel",
      "state": {
       "description_width": ""
      }
     },
     "8cca87b32325410a80b4acaf9f300c2e": {
      "model_module": "@jupyter-widgets/controls",
      "model_module_version": "1.5.0",
      "model_name": "ProgressStyleModel",
      "state": {
       "description_width": ""
      }
     },
     "8cefe97fcdf2445c901ec15eef003e79": {
      "model_module": "@jupyter-widgets/controls",
      "model_module_version": "1.5.0",
      "model_name": "HBoxModel",
      "state": {
       "children": [
        "IPY_MODEL_98f4cf191b2a46e099118f430a64fc4b",
        "IPY_MODEL_b050a151f75c447d81fa942ae929a26f",
        "IPY_MODEL_ad6599fcd5c6443880450924e335cc0a"
       ],
       "layout": "IPY_MODEL_f91a3d52fd024a27a7111cca4068322e"
      }
     },
     "8d094a5367664a1f81fb6b23d57926eb": {
      "model_module": "@jupyter-widgets/controls",
      "model_module_version": "1.5.0",
      "model_name": "HBoxModel",
      "state": {
       "children": [
        "IPY_MODEL_9c05b10669d44d5e97975adbb8ff39fb",
        "IPY_MODEL_6f5e037ef5904ea5953485d41d0ac81a",
        "IPY_MODEL_0db14d36f94e4ce0a95694d24524f681"
       ],
       "layout": "IPY_MODEL_7a3cd3568b9d44e48ea02a53a40d2de1"
      }
     },
     "8d0d571c3615424390bfbb39aeae2bf9": {
      "model_module": "@jupyter-widgets/controls",
      "model_module_version": "1.5.0",
      "model_name": "DescriptionStyleModel",
      "state": {
       "description_width": ""
      }
     },
     "8df5bfd972c94473be485266fe7c9921": {
      "model_module": "@jupyter-widgets/base",
      "model_module_version": "1.2.0",
      "model_name": "LayoutModel",
      "state": {}
     },
     "8dfed97453d14540ac7d9f30860d8abe": {
      "model_module": "@jupyter-widgets/controls",
      "model_module_version": "1.5.0",
      "model_name": "FloatProgressModel",
      "state": {
       "bar_style": "success",
       "layout": "IPY_MODEL_865db8d752254c56a53fc98d22121493",
       "max": 300,
       "style": "IPY_MODEL_35475d0d4f6a46188991e244a6feaad5",
       "value": 300
      }
     },
     "8e805ffe617741a594a0a5175177ceae": {
      "model_module": "@jupyter-widgets/controls",
      "model_module_version": "1.5.0",
      "model_name": "HBoxModel",
      "state": {
       "children": [
        "IPY_MODEL_619d7c736530458d8ba1c679cae8144e",
        "IPY_MODEL_71399b52d79640798e482bd2a5148179",
        "IPY_MODEL_a5b8324ba31f4a188d3c761e2cb13737"
       ],
       "layout": "IPY_MODEL_a939a1e9188b435ca9ab29385c022ac1"
      }
     },
     "8ea494c70c6841b08d9c63ea36ea972f": {
      "model_module": "@jupyter-widgets/controls",
      "model_module_version": "1.5.0",
      "model_name": "HBoxModel",
      "state": {
       "children": [
        "IPY_MODEL_cc411b1e818d49aba94a7d47c09ee73d",
        "IPY_MODEL_d07d4e2feebf459986bca2fc078aed16",
        "IPY_MODEL_e91d6a6e250744d2824ebb67a0c7108a"
       ],
       "layout": "IPY_MODEL_53c81fbc3c3044d79e9ce1f2e803db24"
      }
     },
     "8ec447b3046a44d0b712f7c2feda0d47": {
      "model_module": "@jupyter-widgets/controls",
      "model_module_version": "1.5.0",
      "model_name": "ProgressStyleModel",
      "state": {
       "description_width": ""
      }
     },
     "8ef600c9ae75469aaf64718adea9c755": {
      "model_module": "@jupyter-widgets/controls",
      "model_module_version": "1.5.0",
      "model_name": "HTMLModel",
      "state": {
       "layout": "IPY_MODEL_de2e412130d84634a27284ac0f820e7f",
       "style": "IPY_MODEL_f320dbb600eb4a6c8d4dc3fb31cf0948",
       "value": " 300/300 [00:34&lt;00:00,  7.95it/s]"
      }
     },
     "8ef9ad7bd19f47b8b0b1ab909246fb40": {
      "model_module": "@jupyter-widgets/controls",
      "model_module_version": "1.5.0",
      "model_name": "FloatProgressModel",
      "state": {
       "bar_style": "success",
       "layout": "IPY_MODEL_c05b22b1973247aab2d5e90fa61b2c2f",
       "max": 300,
       "style": "IPY_MODEL_c24e02ffcfe342c6bb349ef50cc83ed0",
       "value": 300
      }
     },
     "8f63636e04e6497a92e5441ebf32b5ce": {
      "model_module": "@jupyter-widgets/controls",
      "model_module_version": "1.5.0",
      "model_name": "FloatProgressModel",
      "state": {
       "bar_style": "success",
       "layout": "IPY_MODEL_2312b2c7d0664b6ab1c5be7df4f6f65d",
       "max": 300,
       "style": "IPY_MODEL_c63c2923cdaa48feb46d2867571afefe",
       "value": 300
      }
     },
     "8f9b0f76d96d41e48a5d461113855e3a": {
      "model_module": "@jupyter-widgets/controls",
      "model_module_version": "1.5.0",
      "model_name": "DescriptionStyleModel",
      "state": {
       "description_width": ""
      }
     },
     "9009f3c70c25443d8fcc13fa2e393606": {
      "model_module": "@jupyter-widgets/base",
      "model_module_version": "1.2.0",
      "model_name": "LayoutModel",
      "state": {}
     },
     "900b860807214b14b4834c372580e309": {
      "model_module": "@jupyter-widgets/controls",
      "model_module_version": "1.5.0",
      "model_name": "HTMLModel",
      "state": {
       "layout": "IPY_MODEL_a028b1c1b80146f1860268f2e904188d",
       "style": "IPY_MODEL_a4ec69edd40e469ba7b81d27d3c8c4e0",
       "value": " 2/2 [02:43&lt;00:00, 81.70s/it]"
      }
     },
     "903722c73de24383a0677ab4df8ebb45": {
      "model_module": "@jupyter-widgets/base",
      "model_module_version": "1.2.0",
      "model_name": "LayoutModel",
      "state": {}
     },
     "9074d1d923da461d94d803b2068ec721": {
      "model_module": "@jupyter-widgets/controls",
      "model_module_version": "1.5.0",
      "model_name": "ProgressStyleModel",
      "state": {
       "description_width": ""
      }
     },
     "90964f89c4554f60bfc1e46035ead899": {
      "model_module": "@jupyter-widgets/controls",
      "model_module_version": "1.5.0",
      "model_name": "DescriptionStyleModel",
      "state": {
       "description_width": ""
      }
     },
     "90a203e1913c4b448698e51b2c4cfb63": {
      "model_module": "@jupyter-widgets/base",
      "model_module_version": "1.2.0",
      "model_name": "LayoutModel",
      "state": {}
     },
     "90ee0de32d5e4864ac4872a3deb9344f": {
      "model_module": "@jupyter-widgets/controls",
      "model_module_version": "1.5.0",
      "model_name": "HTMLModel",
      "state": {
       "layout": "IPY_MODEL_f186dec3a78d4eb4a2db4e612c98b475",
       "style": "IPY_MODEL_ea90fec966d54f22892645ab6e290955",
       "value": "Calculating BVSE Variance: 100%"
      }
     },
     "9125993686454cea8b75008663fd2b06": {
      "model_module": "@jupyter-widgets/controls",
      "model_module_version": "1.5.0",
      "model_name": "FloatProgressModel",
      "state": {
       "bar_style": "success",
       "layout": "IPY_MODEL_78c12bb30ae3444f812a5043d03df386",
       "max": 2,
       "style": "IPY_MODEL_8302c9c5164143148e6673eca8ce324e",
       "value": 2
      }
     },
     "91b1ceaafd5a409b9320a21b656a19cf": {
      "model_module": "@jupyter-widgets/controls",
      "model_module_version": "1.5.0",
      "model_name": "HTMLModel",
      "state": {
       "layout": "IPY_MODEL_82ae14eaf0f74818b33052ba08b07158",
       "style": "IPY_MODEL_a511c265c031435f87b1d6295152c1d4",
       "value": " 300/300 [00:33&lt;00:00,  8.01it/s]"
      }
     },
     "925d859e5e0d450781730e408d495470": {
      "model_module": "@jupyter-widgets/controls",
      "model_module_version": "1.5.0",
      "model_name": "DescriptionStyleModel",
      "state": {
       "description_width": ""
      }
     },
     "92d677c514c0405c87a568e37557c6d2": {
      "model_module": "@jupyter-widgets/controls",
      "model_module_version": "1.5.0",
      "model_name": "HBoxModel",
      "state": {
       "children": [
        "IPY_MODEL_a521f88034bd4279b788b4e0f53f5deb",
        "IPY_MODEL_5d88c63d68214d31b6855651c882fa2a",
        "IPY_MODEL_139a9505d6d84ea69bf3761b2153d1fb"
       ],
       "layout": "IPY_MODEL_48809f9d476640219415eb601fcdb2b1"
      }
     },
     "93ead87e70d94caa887d8e3f501a4d1e": {
      "model_module": "@jupyter-widgets/base",
      "model_module_version": "1.2.0",
      "model_name": "LayoutModel",
      "state": {}
     },
     "941b8150d61c449e83fd8b7218baff35": {
      "model_module": "@jupyter-widgets/controls",
      "model_module_version": "1.5.0",
      "model_name": "HTMLModel",
      "state": {
       "layout": "IPY_MODEL_fe0b12a3147b41a2a9c306c89b1d3176",
       "style": "IPY_MODEL_60f9bf0111cc4c93adbc5df6b8bdfb6b",
       "value": " 300/300 [00:10&lt;00:00, 21.52it/s]"
      }
     },
     "9425b0cb98df43cea50d6ca3da561690": {
      "model_module": "@jupyter-widgets/controls",
      "model_module_version": "1.5.0",
      "model_name": "DescriptionStyleModel",
      "state": {
       "description_width": ""
      }
     },
     "947c94f3882d44e39f4ce09091e371e3": {
      "model_module": "@jupyter-widgets/base",
      "model_module_version": "1.2.0",
      "model_name": "LayoutModel",
      "state": {}
     },
     "955444add1f24ea097b149d3978118a8": {
      "model_module": "@jupyter-widgets/controls",
      "model_module_version": "1.5.0",
      "model_name": "DescriptionStyleModel",
      "state": {
       "description_width": ""
      }
     },
     "95888c93f09546fd9a376413913a8c2d": {
      "model_module": "@jupyter-widgets/controls",
      "model_module_version": "1.5.0",
      "model_name": "ProgressStyleModel",
      "state": {
       "description_width": ""
      }
     },
     "95a5fc83fa9642dcb9e9f575872a842b": {
      "model_module": "@jupyter-widgets/controls",
      "model_module_version": "1.5.0",
      "model_name": "HBoxModel",
      "state": {
       "children": [
        "IPY_MODEL_9c5e0825de924115bc64bf229d47faad",
        "IPY_MODEL_2daac4be8e9b41e09927c339d81939dd",
        "IPY_MODEL_717f147227934551b75d1ded12998db3"
       ],
       "layout": "IPY_MODEL_cc4ab408bb6945e1b0e6643a9612873e"
      }
     },
     "95c064fe88724e0689cec07272c8b699": {
      "model_module": "@jupyter-widgets/base",
      "model_module_version": "1.2.0",
      "model_name": "LayoutModel",
      "state": {}
     },
     "974f53e5d00e42e988d2b1bb0316afde": {
      "model_module": "@jupyter-widgets/controls",
      "model_module_version": "1.5.0",
      "model_name": "DescriptionStyleModel",
      "state": {
       "description_width": ""
      }
     },
     "979896e586894741a90f56e868464421": {
      "model_module": "@jupyter-widgets/controls",
      "model_module_version": "1.5.0",
      "model_name": "HBoxModel",
      "state": {
       "children": [
        "IPY_MODEL_8249b7e263164151b308527e2237b5f8",
        "IPY_MODEL_e1f8797abb394c0eb16b5c6bf9c7d32d",
        "IPY_MODEL_d1bfdad8685f4589a4374d51ef9cdb14"
       ],
       "layout": "IPY_MODEL_93ead87e70d94caa887d8e3f501a4d1e"
      }
     },
     "97a8376746454769911d5a70f1df1b62": {
      "model_module": "@jupyter-widgets/controls",
      "model_module_version": "1.5.0",
      "model_name": "DescriptionStyleModel",
      "state": {
       "description_width": ""
      }
     },
     "97d5e06755004bcda47d51e936483111": {
      "model_module": "@jupyter-widgets/base",
      "model_module_version": "1.2.0",
      "model_name": "LayoutModel",
      "state": {}
     },
     "97e88f1282cb4700bdb82105d117e074": {
      "model_module": "@jupyter-widgets/controls",
      "model_module_version": "1.5.0",
      "model_name": "HBoxModel",
      "state": {
       "children": [
        "IPY_MODEL_45c745c14e4943619f35f6e080844e78",
        "IPY_MODEL_fdffcdb9b1e54d618a9895ab1ef44043",
        "IPY_MODEL_88cdb07f2d564878a98fc311aa8c15d3"
       ],
       "layout": "IPY_MODEL_ead1759523a64ed2a6aa1ecbb7c27a59"
      }
     },
     "981fdf35f1464cc9bbd069db6fdd5bd6": {
      "model_module": "@jupyter-widgets/controls",
      "model_module_version": "1.5.0",
      "model_name": "DescriptionStyleModel",
      "state": {
       "description_width": ""
      }
     },
     "98661497d970461a9c8492aa178a387e": {
      "model_module": "@jupyter-widgets/base",
      "model_module_version": "1.2.0",
      "model_name": "LayoutModel",
      "state": {}
     },
     "98ad178fcbc34949ab67798da95313f6": {
      "model_module": "@jupyter-widgets/controls",
      "model_module_version": "1.5.0",
      "model_name": "HTMLModel",
      "state": {
       "layout": "IPY_MODEL_5ada10dc68cd4243bf050ed5ca8f4459",
       "style": "IPY_MODEL_453ab665103f490ea474e8afdc451d2a",
       "value": "Calculating Conductivity Variance: 100%"
      }
     },
     "98c9d7e76d4a4c51a539f726e52fe182": {
      "model_module": "@jupyter-widgets/controls",
      "model_module_version": "1.5.0",
      "model_name": "DescriptionStyleModel",
      "state": {
       "description_width": ""
      }
     },
     "98f4cf191b2a46e099118f430a64fc4b": {
      "model_module": "@jupyter-widgets/controls",
      "model_module_version": "1.5.0",
      "model_name": "HTMLModel",
      "state": {
       "layout": "IPY_MODEL_1d044987c1db4832bb0ed9874b055122",
       "style": "IPY_MODEL_b845393cb4c64afbabf81ba87eefa35f",
       "value": "Calculating Conductivity Variance: 100%"
      }
     },
     "9906ae4a31174703afc96e8bde45be22": {
      "model_module": "@jupyter-widgets/base",
      "model_module_version": "1.2.0",
      "model_name": "LayoutModel",
      "state": {}
     },
     "99a105cb21eb4a748dcc7bf30033f3ab": {
      "model_module": "@jupyter-widgets/controls",
      "model_module_version": "1.5.0",
      "model_name": "HTMLModel",
      "state": {
       "layout": "IPY_MODEL_b158080adbef40c0b1fd5a3469079a12",
       "style": "IPY_MODEL_bc5c88b563d543fb9252e2c7ee263f28",
       "value": " 2/2 [00:00&lt;00:00, 67.63it/s]"
      }
     },
     "99e8124571804569988b877bdc9c58af": {
      "model_module": "@jupyter-widgets/base",
      "model_module_version": "1.2.0",
      "model_name": "LayoutModel",
      "state": {}
     },
     "99f8f06a1e87480eb3c5a22d32a5e914": {
      "model_module": "@jupyter-widgets/controls",
      "model_module_version": "1.5.0",
      "model_name": "HTMLModel",
      "state": {
       "layout": "IPY_MODEL_3fd368c2d6784affbba6a376dab277a2",
       "style": "IPY_MODEL_b3632977588b46ab8bba6adebbeae79d",
       "value": " 2/2 [00:00&lt;00:00, 82.49it/s]"
      }
     },
     "9a103ea815e94c90a01580a3de731a66": {
      "model_module": "@jupyter-widgets/base",
      "model_module_version": "1.2.0",
      "model_name": "LayoutModel",
      "state": {}
     },
     "9a2138d2c86d4a049c57214627289be4": {
      "model_module": "@jupyter-widgets/base",
      "model_module_version": "1.2.0",
      "model_name": "LayoutModel",
      "state": {}
     },
     "9a42e33964af42e09d30c396c366a65d": {
      "model_module": "@jupyter-widgets/controls",
      "model_module_version": "1.5.0",
      "model_name": "HTMLModel",
      "state": {
       "layout": "IPY_MODEL_3d56fb84cf734e94aa1731b5a26a535a",
       "style": "IPY_MODEL_1a37aad4f220477b9231a7f29d6223e9",
       "value": " 2/2 [00:00&lt;00:00, 68.84it/s]"
      }
     },
     "9a59082453d44f1683ebc48a551788ea": {
      "model_module": "@jupyter-widgets/controls",
      "model_module_version": "1.5.0",
      "model_name": "DescriptionStyleModel",
      "state": {
       "description_width": ""
      }
     },
     "9a9af0dfaa2a43009d3a0aaa02dd7213": {
      "model_module": "@jupyter-widgets/controls",
      "model_module_version": "1.5.0",
      "model_name": "DescriptionStyleModel",
      "state": {
       "description_width": ""
      }
     },
     "9ba2673d74ee42eda1ac49dc8cc5d7ad": {
      "model_module": "@jupyter-widgets/controls",
      "model_module_version": "1.5.0",
      "model_name": "HTMLModel",
      "state": {
       "layout": "IPY_MODEL_0d353f5004be478ba4e4059503099022",
       "style": "IPY_MODEL_f728d743b8ac4725ab0c955ca63e7f52",
       "value": "Calculating Conductivity Variance: 100%"
      }
     },
     "9ba66030044140e092ad7ecb08e5f884": {
      "model_module": "@jupyter-widgets/controls",
      "model_module_version": "1.5.0",
      "model_name": "FloatProgressModel",
      "state": {
       "bar_style": "success",
       "layout": "IPY_MODEL_a793d33aac6d4c71900d176fb98e688d",
       "max": 300,
       "style": "IPY_MODEL_56bc34464aa64ac5acf4a92b8dafd69f",
       "value": 300
      }
     },
     "9bb2b078232c455889fce72ceac8f288": {
      "model_module": "@jupyter-widgets/base",
      "model_module_version": "1.2.0",
      "model_name": "LayoutModel",
      "state": {}
     },
     "9c05b10669d44d5e97975adbb8ff39fb": {
      "model_module": "@jupyter-widgets/controls",
      "model_module_version": "1.5.0",
      "model_name": "HTMLModel",
      "state": {
       "layout": "IPY_MODEL_3db02909f617492d9cb114eda73bb515",
       "style": "IPY_MODEL_974f53e5d00e42e988d2b1bb0316afde",
       "value": "Calculating BVSE Variance: 100%"
      }
     },
     "9c5e0825de924115bc64bf229d47faad": {
      "model_module": "@jupyter-widgets/controls",
      "model_module_version": "1.5.0",
      "model_name": "HTMLModel",
      "state": {
       "layout": "IPY_MODEL_6f96e9392d7c42bd9bf1acbc73fc8b8a",
       "style": "IPY_MODEL_7aa9d5825ad34e4e8e10cce1ba960e4f",
       "value": "Merging Features: 100%"
      }
     },
     "9e5836be418c40059b52bb227ff7bbda": {
      "model_module": "@jupyter-widgets/base",
      "model_module_version": "1.2.0",
      "model_name": "LayoutModel",
      "state": {}
     },
     "9e6441e99028424890f4accfd8054314": {
      "model_module": "@jupyter-widgets/controls",
      "model_module_version": "1.5.0",
      "model_name": "FloatProgressModel",
      "state": {
       "bar_style": "success",
       "layout": "IPY_MODEL_050182f67e75475d826f533f9464e2e5",
       "max": 300,
       "style": "IPY_MODEL_b30aac2e6afa4005a63b905b711734bf",
       "value": 300
      }
     },
     "9ea9c4fa7a534234aaf097e5d24d54a1": {
      "model_module": "@jupyter-widgets/controls",
      "model_module_version": "1.5.0",
      "model_name": "FloatProgressModel",
      "state": {
       "bar_style": "success",
       "layout": "IPY_MODEL_ca3a07d030b349e8b1f0ca0e3cdc93f7",
       "max": 300,
       "style": "IPY_MODEL_d013aa5d17854d05843c45be25e9420c",
       "value": 300
      }
     },
     "9eb3b8b7569d41849b25b7f7562fc695": {
      "model_module": "@jupyter-widgets/controls",
      "model_module_version": "1.5.0",
      "model_name": "FloatProgressModel",
      "state": {
       "bar_style": "success",
       "layout": "IPY_MODEL_809af4ca41a14ab09485c301d0128a31",
       "max": 300,
       "style": "IPY_MODEL_bc0f292eebda404abfac61d5fffd2291",
       "value": 300
      }
     },
     "9ee4304a99334e2cb9a576a3f1b79fd2": {
      "model_module": "@jupyter-widgets/base",
      "model_module_version": "1.2.0",
      "model_name": "LayoutModel",
      "state": {}
     },
     "9efc361622a94edd8a318f4606577984": {
      "model_module": "@jupyter-widgets/controls",
      "model_module_version": "1.5.0",
      "model_name": "HTMLModel",
      "state": {
       "layout": "IPY_MODEL_eb0a54b4048c4fe8b963bbd612d59979",
       "style": "IPY_MODEL_af2249c34c874203976e3863ff9cb4f5",
       "value": "Calculating BVSE Variance: 100%"
      }
     },
     "9f1d9f3894314caba51b251119be1c68": {
      "model_module": "@jupyter-widgets/base",
      "model_module_version": "1.2.0",
      "model_name": "LayoutModel",
      "state": {}
     },
     "9f8cf26527e64bda9774e6e8db720915": {
      "model_module": "@jupyter-widgets/controls",
      "model_module_version": "1.5.0",
      "model_name": "DescriptionStyleModel",
      "state": {
       "description_width": ""
      }
     },
     "9fdc5baa3de541338cf2d1f30d7e63bc": {
      "model_module": "@jupyter-widgets/base",
      "model_module_version": "1.2.0",
      "model_name": "LayoutModel",
      "state": {}
     },
     "9fffee34395f4fa282aab45bf8354f24": {
      "model_module": "@jupyter-widgets/controls",
      "model_module_version": "1.5.0",
      "model_name": "DescriptionStyleModel",
      "state": {
       "description_width": ""
      }
     },
     "a0074360b4984f36b97fe43cad993de2": {
      "model_module": "@jupyter-widgets/controls",
      "model_module_version": "1.5.0",
      "model_name": "HTMLModel",
      "state": {
       "layout": "IPY_MODEL_9a103ea815e94c90a01580a3de731a66",
       "style": "IPY_MODEL_981fdf35f1464cc9bbd069db6fdd5bd6",
       "value": "Merging Features: 100%"
      }
     },
     "a0139207433f4969b2152c3ce430dccb": {
      "model_module": "@jupyter-widgets/base",
      "model_module_version": "1.2.0",
      "model_name": "LayoutModel",
      "state": {}
     },
     "a0264abef9ed4b868d874d672b540e76": {
      "model_module": "@jupyter-widgets/controls",
      "model_module_version": "1.5.0",
      "model_name": "ProgressStyleModel",
      "state": {
       "description_width": ""
      }
     },
     "a028b1c1b80146f1860268f2e904188d": {
      "model_module": "@jupyter-widgets/base",
      "model_module_version": "1.2.0",
      "model_name": "LayoutModel",
      "state": {}
     },
     "a06b7aced8df4baba6e9a19706f0dfd3": {
      "model_module": "@jupyter-widgets/controls",
      "model_module_version": "1.5.0",
      "model_name": "ProgressStyleModel",
      "state": {
       "description_width": ""
      }
     },
     "a1b897bd48ac4af09a7eb763be878616": {
      "model_module": "@jupyter-widgets/controls",
      "model_module_version": "1.5.0",
      "model_name": "HTMLModel",
      "state": {
       "layout": "IPY_MODEL_15fdd50a85864b5394b264c90e58e18d",
       "style": "IPY_MODEL_b96db7de25af44898587fed2dd94b203",
       "value": "Iterating Through Selections: 100%"
      }
     },
     "a1bb888421634d078b7d914dff56af22": {
      "model_module": "@jupyter-widgets/controls",
      "model_module_version": "1.5.0",
      "model_name": "DescriptionStyleModel",
      "state": {
       "description_width": ""
      }
     },
     "a239bbca2f9146d1b97f7eb653ac5984": {
      "model_module": "@jupyter-widgets/controls",
      "model_module_version": "1.5.0",
      "model_name": "FloatProgressModel",
      "state": {
       "bar_style": "success",
       "layout": "IPY_MODEL_7eb59913339f4bd0965bb5e69a926f64",
       "max": 300,
       "style": "IPY_MODEL_d6c9b5228ab94df4b767cc104df50561",
       "value": 300
      }
     },
     "a254172800674426b76e0d2c90733ded": {
      "model_module": "@jupyter-widgets/base",
      "model_module_version": "1.2.0",
      "model_name": "LayoutModel",
      "state": {}
     },
     "a28e8fcbcfac4c26bc5de5dcdb198b53": {
      "model_module": "@jupyter-widgets/controls",
      "model_module_version": "1.5.0",
      "model_name": "HTMLModel",
      "state": {
       "layout": "IPY_MODEL_8bdbf068d21e4892ac40fa8366557fd3",
       "style": "IPY_MODEL_b307961111164988b1b33d7a2a34aad4",
       "value": " 300/300 [00:10&lt;00:00, 20.20it/s]"
      }
     },
     "a2cbf6b6a9b9407e945ba1d33ac91781": {
      "model_module": "@jupyter-widgets/controls",
      "model_module_version": "1.5.0",
      "model_name": "ProgressStyleModel",
      "state": {
       "description_width": ""
      }
     },
     "a2e7463e89364c94a09fd23acab07139": {
      "model_module": "@jupyter-widgets/controls",
      "model_module_version": "1.5.0",
      "model_name": "HTMLModel",
      "state": {
       "layout": "IPY_MODEL_ef4df727a6384db6a6bc7f0aa5f28e7f",
       "style": "IPY_MODEL_0922546237c74dfe90f6d0774d4ca80b",
       "value": " 300/300 [00:33&lt;00:00,  8.15it/s]"
      }
     },
     "a33ac3deb7bc42d0a6ed408c0f168b6e": {
      "model_module": "@jupyter-widgets/controls",
      "model_module_version": "1.5.0",
      "model_name": "FloatProgressModel",
      "state": {
       "bar_style": "success",
       "layout": "IPY_MODEL_108528869b3a49e299803c019784d513",
       "max": 2,
       "style": "IPY_MODEL_435382667370476cbf7aea1528b7707f",
       "value": 2
      }
     },
     "a3455e922c494c088db48dd0b761c6aa": {
      "model_module": "@jupyter-widgets/controls",
      "model_module_version": "1.5.0",
      "model_name": "HTMLModel",
      "state": {
       "layout": "IPY_MODEL_f12061e262cb47408888eb0aab4b4b4b",
       "style": "IPY_MODEL_8501314f909745f79b09eb51795f1ba9",
       "value": "Merging Features: 100%"
      }
     },
     "a39529b3997142a692f6e43ca77e1fc7": {
      "model_module": "@jupyter-widgets/controls",
      "model_module_version": "1.5.0",
      "model_name": "DescriptionStyleModel",
      "state": {
       "description_width": ""
      }
     },
     "a3c8c665e22a4c9981ab30356640a9d7": {
      "model_module": "@jupyter-widgets/controls",
      "model_module_version": "1.5.0",
      "model_name": "HBoxModel",
      "state": {
       "children": [
        "IPY_MODEL_f7530e89651f407ba8730e451289c76c",
        "IPY_MODEL_df46776d919e4744ad8ff61dfd8ced3d",
        "IPY_MODEL_e3cba86c1deb421c9a3e32fe2b949334"
       ],
       "layout": "IPY_MODEL_63b22a03c1ba4e53aade5a32ff977758"
      }
     },
     "a3ed91d25bc64390a39dcd4953b135a1": {
      "model_module": "@jupyter-widgets/base",
      "model_module_version": "1.2.0",
      "model_name": "LayoutModel",
      "state": {}
     },
     "a40ef0daf80f44e4b9ba83774de08abd": {
      "model_module": "@jupyter-widgets/base",
      "model_module_version": "1.2.0",
      "model_name": "LayoutModel",
      "state": {}
     },
     "a43d9a4bbd5b4aa6bd6d1c1bd8128878": {
      "model_module": "@jupyter-widgets/controls",
      "model_module_version": "1.5.0",
      "model_name": "HTMLModel",
      "state": {
       "layout": "IPY_MODEL_4d097dee4c70481599f311943695a0d1",
       "style": "IPY_MODEL_754bf0da950e4d658a777873baecd6f1",
       "value": "Calculating BVSE Variance: 100%"
      }
     },
     "a49453ca36a942b09f0737309ff5d2ae": {
      "model_module": "@jupyter-widgets/base",
      "model_module_version": "1.2.0",
      "model_name": "LayoutModel",
      "state": {}
     },
     "a4ec69edd40e469ba7b81d27d3c8c4e0": {
      "model_module": "@jupyter-widgets/controls",
      "model_module_version": "1.5.0",
      "model_name": "DescriptionStyleModel",
      "state": {
       "description_width": ""
      }
     },
     "a4f91a7c32934f90bf1998acee863e2f": {
      "model_module": "@jupyter-widgets/base",
      "model_module_version": "1.2.0",
      "model_name": "LayoutModel",
      "state": {}
     },
     "a511c265c031435f87b1d6295152c1d4": {
      "model_module": "@jupyter-widgets/controls",
      "model_module_version": "1.5.0",
      "model_name": "DescriptionStyleModel",
      "state": {
       "description_width": ""
      }
     },
     "a515370e86084a6b8a42d2d644d77629": {
      "model_module": "@jupyter-widgets/controls",
      "model_module_version": "1.5.0",
      "model_name": "DescriptionStyleModel",
      "state": {
       "description_width": ""
      }
     },
     "a521399935d14932ab803f93b551ae9d": {
      "model_module": "@jupyter-widgets/base",
      "model_module_version": "1.2.0",
      "model_name": "LayoutModel",
      "state": {}
     },
     "a521f88034bd4279b788b4e0f53f5deb": {
      "model_module": "@jupyter-widgets/controls",
      "model_module_version": "1.5.0",
      "model_name": "HTMLModel",
      "state": {
       "layout": "IPY_MODEL_190e7b4a5de94eed98f7ebc0dfc49401",
       "style": "IPY_MODEL_fa04a46a61f842d8865774146a459daa",
       "value": "Merging Features: 100%"
      }
     },
     "a5604ab2f8da4db093c3f533dd6a9b51": {
      "model_module": "@jupyter-widgets/base",
      "model_module_version": "1.2.0",
      "model_name": "LayoutModel",
      "state": {}
     },
     "a564e8aaee4b4a8aaa00ba2600c0cbbd": {
      "model_module": "@jupyter-widgets/controls",
      "model_module_version": "1.5.0",
      "model_name": "HTMLModel",
      "state": {
       "layout": "IPY_MODEL_b9912b25c59f4ea7a97ad50ea42d6806",
       "style": "IPY_MODEL_aae83359d5e142f0b67a8642ed31e37c",
       "value": "Iterating Through Selections: 100%"
      }
     },
     "a5b8324ba31f4a188d3c761e2cb13737": {
      "model_module": "@jupyter-widgets/controls",
      "model_module_version": "1.5.0",
      "model_name": "HTMLModel",
      "state": {
       "layout": "IPY_MODEL_1c3de31d5eae4b7eb0bc1a6c74784f87",
       "style": "IPY_MODEL_c614ea1be19447dd801bbb1c20819c3b",
       "value": " 2/2 [00:00&lt;00:00, 75.06it/s]"
      }
     },
     "a66ca3a2394445f18cf661a9e45fb982": {
      "model_module": "@jupyter-widgets/controls",
      "model_module_version": "1.5.0",
      "model_name": "ProgressStyleModel",
      "state": {
       "description_width": ""
      }
     },
     "a6b6b3f0fd6a4f9fa6318d08b23c0edd": {
      "model_module": "@jupyter-widgets/base",
      "model_module_version": "1.2.0",
      "model_name": "LayoutModel",
      "state": {}
     },
     "a6cf341e9753466799dcb51f66d49d11": {
      "model_module": "@jupyter-widgets/controls",
      "model_module_version": "1.5.0",
      "model_name": "HBoxModel",
      "state": {
       "children": [
        "IPY_MODEL_83f640f2870544e38c861baaac72b1be",
        "IPY_MODEL_a239bbca2f9146d1b97f7eb653ac5984",
        "IPY_MODEL_a28e8fcbcfac4c26bc5de5dcdb198b53"
       ],
       "layout": "IPY_MODEL_99e8124571804569988b877bdc9c58af"
      }
     },
     "a784c080ac884f8aa5615363dc1af7c1": {
      "model_module": "@jupyter-widgets/controls",
      "model_module_version": "1.5.0",
      "model_name": "HTMLModel",
      "state": {
       "layout": "IPY_MODEL_400a16325c4a41e2a267ba1ad8871e1f",
       "style": "IPY_MODEL_9fffee34395f4fa282aab45bf8354f24",
       "value": " 300/300 [00:33&lt;00:00,  8.03it/s]"
      }
     },
     "a793d33aac6d4c71900d176fb98e688d": {
      "model_module": "@jupyter-widgets/base",
      "model_module_version": "1.2.0",
      "model_name": "LayoutModel",
      "state": {}
     },
     "a7a5a6ed393e41d693eed38c226222cc": {
      "model_module": "@jupyter-widgets/base",
      "model_module_version": "1.2.0",
      "model_name": "LayoutModel",
      "state": {}
     },
     "a7e68e6e018649e49372ba643d91b08c": {
      "model_module": "@jupyter-widgets/controls",
      "model_module_version": "1.5.0",
      "model_name": "HTMLModel",
      "state": {
       "layout": "IPY_MODEL_fc44ae4f6c5b4b5cad1fb8e21d29713f",
       "style": "IPY_MODEL_6c8c11e03f62409fba8fe69c09b76e16",
       "value": "Calculating BVSE Variance: 100%"
      }
     },
     "a8701f2a28454d449ba6ab35a4f2d326": {
      "model_module": "@jupyter-widgets/controls",
      "model_module_version": "1.5.0",
      "model_name": "DescriptionStyleModel",
      "state": {
       "description_width": ""
      }
     },
     "a8c22f3b4fa247808aa331e628475545": {
      "model_module": "@jupyter-widgets/controls",
      "model_module_version": "1.5.0",
      "model_name": "HBoxModel",
      "state": {
       "children": [
        "IPY_MODEL_03e3502220914da3aef90ff8c16f3837",
        "IPY_MODEL_da5b6ad0e96f4db2916b7afbb5c90d02",
        "IPY_MODEL_1219ff77579548b79c692a0f8d93f88b"
       ],
       "layout": "IPY_MODEL_903722c73de24383a0677ab4df8ebb45"
      }
     },
     "a8d5ffa460f34307a3a4ba2271c417cb": {
      "model_module": "@jupyter-widgets/controls",
      "model_module_version": "1.5.0",
      "model_name": "DescriptionStyleModel",
      "state": {
       "description_width": ""
      }
     },
     "a939a1e9188b435ca9ab29385c022ac1": {
      "model_module": "@jupyter-widgets/base",
      "model_module_version": "1.2.0",
      "model_name": "LayoutModel",
      "state": {}
     },
     "aa0a92f3266f4fef9bbf8cc2b9b4c702": {
      "model_module": "@jupyter-widgets/base",
      "model_module_version": "1.2.0",
      "model_name": "LayoutModel",
      "state": {}
     },
     "aa2e4d9eb4d04e609d23b41a80151555": {
      "model_module": "@jupyter-widgets/controls",
      "model_module_version": "1.5.0",
      "model_name": "ProgressStyleModel",
      "state": {
       "description_width": ""
      }
     },
     "aacdf7f53d9c4a4e85f670d8317f29ba": {
      "model_module": "@jupyter-widgets/controls",
      "model_module_version": "1.5.0",
      "model_name": "ProgressStyleModel",
      "state": {
       "description_width": ""
      }
     },
     "aae83359d5e142f0b67a8642ed31e37c": {
      "model_module": "@jupyter-widgets/controls",
      "model_module_version": "1.5.0",
      "model_name": "DescriptionStyleModel",
      "state": {
       "description_width": ""
      }
     },
     "aaeafc4f6ff945768a89b426b2795a73": {
      "model_module": "@jupyter-widgets/controls",
      "model_module_version": "1.5.0",
      "model_name": "DescriptionStyleModel",
      "state": {
       "description_width": ""
      }
     },
     "aaf4700259484bc5811fbbcc7d6f0f34": {
      "model_module": "@jupyter-widgets/base",
      "model_module_version": "1.2.0",
      "model_name": "LayoutModel",
      "state": {}
     },
     "ab2115f1d2df468ca079504e39290509": {
      "model_module": "@jupyter-widgets/base",
      "model_module_version": "1.2.0",
      "model_name": "LayoutModel",
      "state": {}
     },
     "abd09d347c774f11a92b26104a0e467d": {
      "model_module": "@jupyter-widgets/base",
      "model_module_version": "1.2.0",
      "model_name": "LayoutModel",
      "state": {}
     },
     "abdc876bea314303b1904d42049e9028": {
      "model_module": "@jupyter-widgets/controls",
      "model_module_version": "1.5.0",
      "model_name": "DescriptionStyleModel",
      "state": {
       "description_width": ""
      }
     },
     "abea4b64e38b47cdb706578fc026653d": {
      "model_module": "@jupyter-widgets/controls",
      "model_module_version": "1.5.0",
      "model_name": "DescriptionStyleModel",
      "state": {
       "description_width": ""
      }
     },
     "abfcb720656f45a4a0748ebcde219b01": {
      "model_module": "@jupyter-widgets/base",
      "model_module_version": "1.2.0",
      "model_name": "LayoutModel",
      "state": {}
     },
     "ac0bb73baded4110a4e223397e840fb1": {
      "model_module": "@jupyter-widgets/controls",
      "model_module_version": "1.5.0",
      "model_name": "HTMLModel",
      "state": {
       "layout": "IPY_MODEL_1f64ed7459224f83b2483e5fe7d592d7",
       "style": "IPY_MODEL_69b607cc1cca42af9d384b0fe17d2f7d",
       "value": " 2/2 [00:00&lt;00:00, 77.67it/s]"
      }
     },
     "ac28b50ef2e746cea41aee262111c017": {
      "model_module": "@jupyter-widgets/controls",
      "model_module_version": "1.5.0",
      "model_name": "HBoxModel",
      "state": {
       "children": [
        "IPY_MODEL_cced6de5ad6049148bab7defbb8dda3c",
        "IPY_MODEL_bbd3c313d6fc4a3eac8a7c3bc242b2f1",
        "IPY_MODEL_27362938d7684ba6ad791af952b94963"
       ],
       "layout": "IPY_MODEL_5badefb3b6994a3085e9a97ffaf264cb"
      }
     },
     "ac5e57b5487046a0af4e8cddf2ac9d82": {
      "model_module": "@jupyter-widgets/controls",
      "model_module_version": "1.5.0",
      "model_name": "DescriptionStyleModel",
      "state": {
       "description_width": ""
      }
     },
     "ac64c12b5fd94eb6b8be51aaddc7d412": {
      "model_module": "@jupyter-widgets/base",
      "model_module_version": "1.2.0",
      "model_name": "LayoutModel",
      "state": {}
     },
     "ac70a20dd3484bd4bb39c413ee5b10dc": {
      "model_module": "@jupyter-widgets/controls",
      "model_module_version": "1.5.0",
      "model_name": "DescriptionStyleModel",
      "state": {
       "description_width": ""
      }
     },
     "acee6f5dab5141e5abe7b00962f855d6": {
      "model_module": "@jupyter-widgets/controls",
      "model_module_version": "1.5.0",
      "model_name": "HBoxModel",
      "state": {
       "children": [
        "IPY_MODEL_dcf985782d104a21a3e2f1622f45f6b8",
        "IPY_MODEL_7b82adc1e36b4e2fb98075bbe20f9ddb",
        "IPY_MODEL_0a86a0369d2b41f7a518eace1c7f9a21"
       ],
       "layout": "IPY_MODEL_e1df8012c8cb47baa1ed7d33c2752ff2"
      }
     },
     "ad6599fcd5c6443880450924e335cc0a": {
      "model_module": "@jupyter-widgets/controls",
      "model_module_version": "1.5.0",
      "model_name": "HTMLModel",
      "state": {
       "layout": "IPY_MODEL_30cb9af9984041d0ac928e137e9586b9",
       "style": "IPY_MODEL_f19524c7927b48f482790ff55745a57f",
       "value": " 300/300 [00:10&lt;00:00, 21.38it/s]"
      }
     },
     "adb07ce14f244c4a83e13478bfbdb71d": {
      "model_module": "@jupyter-widgets/controls",
      "model_module_version": "1.5.0",
      "model_name": "FloatProgressModel",
      "state": {
       "bar_style": "success",
       "layout": "IPY_MODEL_c1e4e94c57e84ed09afc4f156e9387f6",
       "max": 300,
       "style": "IPY_MODEL_0dcf4ba70d914779bdbdeeb3064ca042",
       "value": 300
      }
     },
     "ae0c970a8feb4fceb8ad31b5b1c6cbab": {
      "model_module": "@jupyter-widgets/base",
      "model_module_version": "1.2.0",
      "model_name": "LayoutModel",
      "state": {}
     },
     "ae93141701344c2b9171d021e1b47d16": {
      "model_module": "@jupyter-widgets/controls",
      "model_module_version": "1.5.0",
      "model_name": "DescriptionStyleModel",
      "state": {
       "description_width": ""
      }
     },
     "aee6befabc044738807f9f8748f6848d": {
      "model_module": "@jupyter-widgets/controls",
      "model_module_version": "1.5.0",
      "model_name": "HTMLModel",
      "state": {
       "layout": "IPY_MODEL_2a9efda6e7ad4f8a9498dba447c61ffc",
       "style": "IPY_MODEL_17ff6f2cd2004591816f610e2c00c5e4",
       "value": "Calculating Conductivity Variance: 100%"
      }
     },
     "aefcd34046f94c41821ff120d56c119e": {
      "model_module": "@jupyter-widgets/controls",
      "model_module_version": "1.5.0",
      "model_name": "HBoxModel",
      "state": {
       "children": [
        "IPY_MODEL_6406451428b44182bc5e9a1b380e17f6",
        "IPY_MODEL_c6347e41e327494983dc37baa72cd64d",
        "IPY_MODEL_6d3a22f1a28b451ca3e49ddea067a650"
       ],
       "layout": "IPY_MODEL_7cf687c0e89b4b12a6fa01ae49113545"
      }
     },
     "af0526896b4e4b6c868e105fbb978075": {
      "model_module": "@jupyter-widgets/controls",
      "model_module_version": "1.5.0",
      "model_name": "FloatProgressModel",
      "state": {
       "bar_style": "success",
       "layout": "IPY_MODEL_34bec1e886164d7e9b966887ad4f5079",
       "max": 2,
       "style": "IPY_MODEL_8ec447b3046a44d0b712f7c2feda0d47",
       "value": 2
      }
     },
     "af2249c34c874203976e3863ff9cb4f5": {
      "model_module": "@jupyter-widgets/controls",
      "model_module_version": "1.5.0",
      "model_name": "DescriptionStyleModel",
      "state": {
       "description_width": ""
      }
     },
     "af43c9421e68498098ae283c13a16712": {
      "model_module": "@jupyter-widgets/base",
      "model_module_version": "1.2.0",
      "model_name": "LayoutModel",
      "state": {}
     },
     "b0193aaca36b4425befbf872d766444b": {
      "model_module": "@jupyter-widgets/controls",
      "model_module_version": "1.5.0",
      "model_name": "DescriptionStyleModel",
      "state": {
       "description_width": ""
      }
     },
     "b0229f3fc42e4aafa5f66f56b46019b8": {
      "model_module": "@jupyter-widgets/base",
      "model_module_version": "1.2.0",
      "model_name": "LayoutModel",
      "state": {}
     },
     "b0422e72a8c54714b64982b8e00ad8aa": {
      "model_module": "@jupyter-widgets/controls",
      "model_module_version": "1.5.0",
      "model_name": "HTMLModel",
      "state": {
       "layout": "IPY_MODEL_64dda362839e464db92afb9bb4862d87",
       "style": "IPY_MODEL_d1da12e5702c4fc38dfd9451591d230c",
       "value": " 300/300 [00:10&lt;00:00, 21.82it/s]"
      }
     },
     "b050a151f75c447d81fa942ae929a26f": {
      "model_module": "@jupyter-widgets/controls",
      "model_module_version": "1.5.0",
      "model_name": "FloatProgressModel",
      "state": {
       "bar_style": "success",
       "layout": "IPY_MODEL_f076ef08ce4a4efb9b05b7ddc2b1c485",
       "max": 300,
       "style": "IPY_MODEL_018b58656ae74789865d077ad2a5b16a",
       "value": 300
      }
     },
     "b057035c29874e56b4582913219e2235": {
      "model_module": "@jupyter-widgets/base",
      "model_module_version": "1.2.0",
      "model_name": "LayoutModel",
      "state": {}
     },
     "b0641a6ce71b4fe0bfa1b9be77b86a7a": {
      "model_module": "@jupyter-widgets/controls",
      "model_module_version": "1.5.0",
      "model_name": "DescriptionStyleModel",
      "state": {
       "description_width": ""
      }
     },
     "b0c4ae7f96384d5d856e628c7ff39053": {
      "model_module": "@jupyter-widgets/controls",
      "model_module_version": "1.5.0",
      "model_name": "HBoxModel",
      "state": {
       "children": [
        "IPY_MODEL_fd42c138566e4f1aa9e938197286d8d3",
        "IPY_MODEL_d22d651985094583bc7344c9b25e7970",
        "IPY_MODEL_718a24a3e48e413aafb2ef19c7961556"
       ],
       "layout": "IPY_MODEL_c7c3418b3da241e7a6a7bc09540d5331"
      }
     },
     "b14a27c95377416ba60bc204199cd900": {
      "model_module": "@jupyter-widgets/base",
      "model_module_version": "1.2.0",
      "model_name": "LayoutModel",
      "state": {}
     },
     "b158080adbef40c0b1fd5a3469079a12": {
      "model_module": "@jupyter-widgets/base",
      "model_module_version": "1.2.0",
      "model_name": "LayoutModel",
      "state": {}
     },
     "b19b4bf21ebc42628da7f540c1eddfdc": {
      "model_module": "@jupyter-widgets/controls",
      "model_module_version": "1.5.0",
      "model_name": "DescriptionStyleModel",
      "state": {
       "description_width": ""
      }
     },
     "b1bc258ccbe84412a79d80960e073935": {
      "model_module": "@jupyter-widgets/controls",
      "model_module_version": "1.5.0",
      "model_name": "HTMLModel",
      "state": {
       "layout": "IPY_MODEL_06021a71c57c4e2fb0ace69d850b8d30",
       "style": "IPY_MODEL_ea304fdc111a4dce9fdc7dfcc4ddc7a1",
       "value": "Calculating BVSE Variance: 100%"
      }
     },
     "b1ed00db88c74f95977ee3e045ce664a": {
      "model_module": "@jupyter-widgets/controls",
      "model_module_version": "1.5.0",
      "model_name": "DescriptionStyleModel",
      "state": {
       "description_width": ""
      }
     },
     "b21d9d07e0934090a989356212d91e6c": {
      "model_module": "@jupyter-widgets/controls",
      "model_module_version": "1.5.0",
      "model_name": "DescriptionStyleModel",
      "state": {
       "description_width": ""
      }
     },
     "b2f1e6ec0d224450883676308071bf6d": {
      "model_module": "@jupyter-widgets/base",
      "model_module_version": "1.2.0",
      "model_name": "LayoutModel",
      "state": {}
     },
     "b307961111164988b1b33d7a2a34aad4": {
      "model_module": "@jupyter-widgets/controls",
      "model_module_version": "1.5.0",
      "model_name": "DescriptionStyleModel",
      "state": {
       "description_width": ""
      }
     },
     "b30aac2e6afa4005a63b905b711734bf": {
      "model_module": "@jupyter-widgets/controls",
      "model_module_version": "1.5.0",
      "model_name": "ProgressStyleModel",
      "state": {
       "description_width": ""
      }
     },
     "b3630af77cd4491c98d0810ed217c4b9": {
      "model_module": "@jupyter-widgets/base",
      "model_module_version": "1.2.0",
      "model_name": "LayoutModel",
      "state": {}
     },
     "b3632977588b46ab8bba6adebbeae79d": {
      "model_module": "@jupyter-widgets/controls",
      "model_module_version": "1.5.0",
      "model_name": "DescriptionStyleModel",
      "state": {
       "description_width": ""
      }
     },
     "b387a4e1079e438c92d7fa59835d6b7f": {
      "model_module": "@jupyter-widgets/base",
      "model_module_version": "1.2.0",
      "model_name": "LayoutModel",
      "state": {}
     },
     "b3c433f27f2b4e0991514b700e255175": {
      "model_module": "@jupyter-widgets/base",
      "model_module_version": "1.2.0",
      "model_name": "LayoutModel",
      "state": {}
     },
     "b422df68f5d843b1a12f0a454cc1467f": {
      "model_module": "@jupyter-widgets/controls",
      "model_module_version": "1.5.0",
      "model_name": "HBoxModel",
      "state": {
       "children": [
        "IPY_MODEL_90ee0de32d5e4864ac4872a3deb9344f",
        "IPY_MODEL_9ba66030044140e092ad7ecb08e5f884",
        "IPY_MODEL_66922bc733a44aefac898ed95ddc8f99"
       ],
       "layout": "IPY_MODEL_f387efbeff8a49229b1da8a700c4bae3"
      }
     },
     "b461cde420694bd2930653c0a1c84c17": {
      "model_module": "@jupyter-widgets/base",
      "model_module_version": "1.2.0",
      "model_name": "LayoutModel",
      "state": {}
     },
     "b47d42ba16a44829808eb89220de4a16": {
      "model_module": "@jupyter-widgets/controls",
      "model_module_version": "1.5.0",
      "model_name": "HTMLModel",
      "state": {
       "layout": "IPY_MODEL_1b7afe5ebf494d95bf063427217f228e",
       "style": "IPY_MODEL_0b8e7948de5441abbcbc039bbdd76663",
       "value": " 2/2 [00:00&lt;00:00, 71.94it/s]"
      }
     },
     "b4810fa7f12c447087e4896b19bfd4c1": {
      "model_module": "@jupyter-widgets/base",
      "model_module_version": "1.2.0",
      "model_name": "LayoutModel",
      "state": {}
     },
     "b5a047b4c42448b289237cb675ecfee6": {
      "model_module": "@jupyter-widgets/base",
      "model_module_version": "1.2.0",
      "model_name": "LayoutModel",
      "state": {}
     },
     "b6337f5574e546099b45dfa2de112826": {
      "model_module": "@jupyter-widgets/base",
      "model_module_version": "1.2.0",
      "model_name": "LayoutModel",
      "state": {}
     },
     "b6c535b807f84c6eb18eb0024874d21c": {
      "model_module": "@jupyter-widgets/controls",
      "model_module_version": "1.5.0",
      "model_name": "HTMLModel",
      "state": {
       "layout": "IPY_MODEL_e57db0a92376440590d79e97d33f295e",
       "style": "IPY_MODEL_87aa12c0f5d541a4ab68413527a45960",
       "value": " 300/300 [00:10&lt;00:00, 20.87it/s]"
      }
     },
     "b74c555fc83e47d29d9e2c44b0e4e70e": {
      "model_module": "@jupyter-widgets/controls",
      "model_module_version": "1.5.0",
      "model_name": "DescriptionStyleModel",
      "state": {
       "description_width": ""
      }
     },
     "b7c882274ee6406e980876bdbdcb5f3b": {
      "model_module": "@jupyter-widgets/base",
      "model_module_version": "1.2.0",
      "model_name": "LayoutModel",
      "state": {}
     },
     "b7c9998965834ea3b253e5ed44aa9474": {
      "model_module": "@jupyter-widgets/base",
      "model_module_version": "1.2.0",
      "model_name": "LayoutModel",
      "state": {}
     },
     "b7fa112ccac4432fa591f365596b16da": {
      "model_module": "@jupyter-widgets/base",
      "model_module_version": "1.2.0",
      "model_name": "LayoutModel",
      "state": {}
     },
     "b8135ddafd7f4e0fbc2814341e211d6c": {
      "model_module": "@jupyter-widgets/base",
      "model_module_version": "1.2.0",
      "model_name": "LayoutModel",
      "state": {}
     },
     "b845393cb4c64afbabf81ba87eefa35f": {
      "model_module": "@jupyter-widgets/controls",
      "model_module_version": "1.5.0",
      "model_name": "DescriptionStyleModel",
      "state": {
       "description_width": ""
      }
     },
     "b8d4697143ab486588cf7cfcff89fc40": {
      "model_module": "@jupyter-widgets/controls",
      "model_module_version": "1.5.0",
      "model_name": "HBoxModel",
      "state": {
       "children": [
        "IPY_MODEL_be24dfc56382467394fa35b07737482f",
        "IPY_MODEL_d0b79aa5a89444b9b88a9e3d192d4d57",
        "IPY_MODEL_ba9ec1b5021741c5a534cae25b325148"
       ],
       "layout": "IPY_MODEL_5deca0fb83b140e59e269d881e73873d"
      }
     },
     "b96db7de25af44898587fed2dd94b203": {
      "model_module": "@jupyter-widgets/controls",
      "model_module_version": "1.5.0",
      "model_name": "DescriptionStyleModel",
      "state": {
       "description_width": ""
      }
     },
     "b9912b25c59f4ea7a97ad50ea42d6806": {
      "model_module": "@jupyter-widgets/base",
      "model_module_version": "1.2.0",
      "model_name": "LayoutModel",
      "state": {}
     },
     "b998426fd5e74414805718990429eba0": {
      "model_module": "@jupyter-widgets/base",
      "model_module_version": "1.2.0",
      "model_name": "LayoutModel",
      "state": {}
     },
     "b9c699ea77df4953bcb9c675667422cc": {
      "model_module": "@jupyter-widgets/base",
      "model_module_version": "1.2.0",
      "model_name": "LayoutModel",
      "state": {}
     },
     "ba9ec1b5021741c5a534cae25b325148": {
      "model_module": "@jupyter-widgets/controls",
      "model_module_version": "1.5.0",
      "model_name": "HTMLModel",
      "state": {
       "layout": "IPY_MODEL_dedd2ebc91534e3db95bc8d703df91d5",
       "style": "IPY_MODEL_67813ac7f0474913855e16cec6eb6c9e",
       "value": " 1/1 [00:00&lt;00:00, 45.14it/s]"
      }
     },
     "bad6a7eaf65e40be90088c61ecd04763": {
      "model_module": "@jupyter-widgets/controls",
      "model_module_version": "1.5.0",
      "model_name": "HBoxModel",
      "state": {
       "children": [
        "IPY_MODEL_693eb5f34ae44788828c59bb910f944f",
        "IPY_MODEL_6b33fe914fef4f47bb05ebbee6557197",
        "IPY_MODEL_599eea68fca84878b99e1aca9ed43178"
       ],
       "layout": "IPY_MODEL_cfa888ab68d5421c881a351e8315f4f8"
      }
     },
     "baebec5166d4421f8a8c25c6b33ca094": {
      "model_module": "@jupyter-widgets/controls",
      "model_module_version": "1.5.0",
      "model_name": "DescriptionStyleModel",
      "state": {
       "description_width": ""
      }
     },
     "bb2dea54dac24d17bc0877e219271fc7": {
      "model_module": "@jupyter-widgets/base",
      "model_module_version": "1.2.0",
      "model_name": "LayoutModel",
      "state": {}
     },
     "bb62db398cb9422196059b9615d65bd1": {
      "model_module": "@jupyter-widgets/controls",
      "model_module_version": "1.5.0",
      "model_name": "HBoxModel",
      "state": {
       "children": [
        "IPY_MODEL_7ecc7bde008f45a99c8ffee4968f4112",
        "IPY_MODEL_33e7397bb5de48f1a403a903935e2858",
        "IPY_MODEL_7c18a68557644ac394b970aea6d982ae"
       ],
       "layout": "IPY_MODEL_200bcc4256cc47f38641e73572f8fa11"
      }
     },
     "bbb7add53be84fecae32049cf692678f": {
      "model_module": "@jupyter-widgets/controls",
      "model_module_version": "1.5.0",
      "model_name": "HBoxModel",
      "state": {
       "children": [
        "IPY_MODEL_e172f66c484b453eb46136a58b339f0d",
        "IPY_MODEL_2f9db4fb6c214012bca0495f2bf25ef4",
        "IPY_MODEL_e6f4a7fdd2404c1c9c354e72bd1702b8"
       ],
       "layout": "IPY_MODEL_bf3de1cf5f694931b7c7303f53cf69ba"
      }
     },
     "bbd3c313d6fc4a3eac8a7c3bc242b2f1": {
      "model_module": "@jupyter-widgets/controls",
      "model_module_version": "1.5.0",
      "model_name": "FloatProgressModel",
      "state": {
       "bar_style": "success",
       "layout": "IPY_MODEL_d34772802d164a07903d5179c688bdc9",
       "max": 2,
       "style": "IPY_MODEL_60952ff1be3e4c4487b8cd39b790ee34",
       "value": 2
      }
     },
     "bc0f292eebda404abfac61d5fffd2291": {
      "model_module": "@jupyter-widgets/controls",
      "model_module_version": "1.5.0",
      "model_name": "ProgressStyleModel",
      "state": {
       "description_width": ""
      }
     },
     "bc5c88b563d543fb9252e2c7ee263f28": {
      "model_module": "@jupyter-widgets/controls",
      "model_module_version": "1.5.0",
      "model_name": "DescriptionStyleModel",
      "state": {
       "description_width": ""
      }
     },
     "bc6fe42b372348cdbec58497ec8700a4": {
      "model_module": "@jupyter-widgets/controls",
      "model_module_version": "1.5.0",
      "model_name": "ProgressStyleModel",
      "state": {
       "description_width": ""
      }
     },
     "bd19918ced2e4543bdf85426193ec259": {
      "model_module": "@jupyter-widgets/controls",
      "model_module_version": "1.5.0",
      "model_name": "FloatProgressModel",
      "state": {
       "bar_style": "success",
       "layout": "IPY_MODEL_ac64c12b5fd94eb6b8be51aaddc7d412",
       "max": 300,
       "style": "IPY_MODEL_86f2ea530988411e9055d9fb8163c3a9",
       "value": 300
      }
     },
     "bdd79e8538904a3683e8ac8578d870e3": {
      "model_module": "@jupyter-widgets/base",
      "model_module_version": "1.2.0",
      "model_name": "LayoutModel",
      "state": {}
     },
     "be077be1461545ab9725705af1cb3aa6": {
      "model_module": "@jupyter-widgets/controls",
      "model_module_version": "1.5.0",
      "model_name": "ProgressStyleModel",
      "state": {
       "description_width": ""
      }
     },
     "be24dfc56382467394fa35b07737482f": {
      "model_module": "@jupyter-widgets/controls",
      "model_module_version": "1.5.0",
      "model_name": "HTMLModel",
      "state": {
       "layout": "IPY_MODEL_cc158c9f942c4a83a1fff35b0b9c4d21",
       "style": "IPY_MODEL_c8a119ef0b694e09882d29d051df3ade",
       "value": "Merging Features: 100%"
      }
     },
     "be2abd3d7336436786baeeb077bf25f0": {
      "model_module": "@jupyter-widgets/controls",
      "model_module_version": "1.5.0",
      "model_name": "HTMLModel",
      "state": {
       "layout": "IPY_MODEL_3c45e2830eeb4b24b75d7d2ec4ab6317",
       "style": "IPY_MODEL_c522b032679f4ad8aa02a06daf74cf19",
       "value": "Calculating Conductivity Variance: 100%"
      }
     },
     "be6f5e67f8f346d3a74a1308fa01eec3": {
      "model_module": "@jupyter-widgets/base",
      "model_module_version": "1.2.0",
      "model_name": "LayoutModel",
      "state": {}
     },
     "be81b046deee46dcab3ae620d53594ce": {
      "model_module": "@jupyter-widgets/controls",
      "model_module_version": "1.5.0",
      "model_name": "HTMLModel",
      "state": {
       "layout": "IPY_MODEL_fff7dab5ecc64621b945f4cf9cb85ead",
       "style": "IPY_MODEL_1239ba4785b34d0bb0479c0d83274a75",
       "value": " 2/2 [00:00&lt;00:00, 72.04it/s]"
      }
     },
     "beaa8b57bfd345cb9534cd667e8a4f6d": {
      "model_module": "@jupyter-widgets/controls",
      "model_module_version": "1.5.0",
      "model_name": "HTMLModel",
      "state": {
       "layout": "IPY_MODEL_7e9616455a2549f6a4ba7acc43a60afa",
       "style": "IPY_MODEL_786242644bf24369a4a74d65511beca6",
       "value": " 300/300 [00:34&lt;00:00,  7.97it/s]"
      }
     },
     "befe8258ca45460796dab0fb89e1b3c0": {
      "model_module": "@jupyter-widgets/base",
      "model_module_version": "1.2.0",
      "model_name": "LayoutModel",
      "state": {}
     },
     "bf22500a497043a184d3d38cd8b54be4": {
      "model_module": "@jupyter-widgets/controls",
      "model_module_version": "1.5.0",
      "model_name": "DescriptionStyleModel",
      "state": {
       "description_width": ""
      }
     },
     "bf3de1cf5f694931b7c7303f53cf69ba": {
      "model_module": "@jupyter-widgets/base",
      "model_module_version": "1.2.0",
      "model_name": "LayoutModel",
      "state": {}
     },
     "bf79fcab627e404696288e8b43353663": {
      "model_module": "@jupyter-widgets/controls",
      "model_module_version": "1.5.0",
      "model_name": "FloatProgressModel",
      "state": {
       "bar_style": "success",
       "layout": "IPY_MODEL_c038fe8bee7e4539990b8fb7c4ffc27e",
       "max": 300,
       "style": "IPY_MODEL_4d99ae07478248588584788faee3af20",
       "value": 300
      }
     },
     "c00646771fe44fc0aff1302108041d5a": {
      "model_module": "@jupyter-widgets/base",
      "model_module_version": "1.2.0",
      "model_name": "LayoutModel",
      "state": {}
     },
     "c038fe8bee7e4539990b8fb7c4ffc27e": {
      "model_module": "@jupyter-widgets/base",
      "model_module_version": "1.2.0",
      "model_name": "LayoutModel",
      "state": {}
     },
     "c05b22b1973247aab2d5e90fa61b2c2f": {
      "model_module": "@jupyter-widgets/base",
      "model_module_version": "1.2.0",
      "model_name": "LayoutModel",
      "state": {}
     },
     "c05dda7c7a8f40ada394b74c1f64d327": {
      "model_module": "@jupyter-widgets/controls",
      "model_module_version": "1.5.0",
      "model_name": "ProgressStyleModel",
      "state": {
       "description_width": ""
      }
     },
     "c110b8758acc4ff1b1655b0eeeb7ea7f": {
      "model_module": "@jupyter-widgets/base",
      "model_module_version": "1.2.0",
      "model_name": "LayoutModel",
      "state": {}
     },
     "c1372f3bfca042ddaa3f2f801e490c9e": {
      "model_module": "@jupyter-widgets/base",
      "model_module_version": "1.2.0",
      "model_name": "LayoutModel",
      "state": {}
     },
     "c14c741b66164faea9d33fdcd657ec20": {
      "model_module": "@jupyter-widgets/base",
      "model_module_version": "1.2.0",
      "model_name": "LayoutModel",
      "state": {}
     },
     "c1bf8829c895476eb1c0737f144b44a4": {
      "model_module": "@jupyter-widgets/controls",
      "model_module_version": "1.5.0",
      "model_name": "FloatProgressModel",
      "state": {
       "bar_style": "success",
       "layout": "IPY_MODEL_05ce5643f025400c9cb0cdb71ecdb2cb",
       "max": 300,
       "style": "IPY_MODEL_cb03fc666b674429b158b5e225e0aa00",
       "value": 300
      }
     },
     "c1e4e94c57e84ed09afc4f156e9387f6": {
      "model_module": "@jupyter-widgets/base",
      "model_module_version": "1.2.0",
      "model_name": "LayoutModel",
      "state": {}
     },
     "c24e02ffcfe342c6bb349ef50cc83ed0": {
      "model_module": "@jupyter-widgets/controls",
      "model_module_version": "1.5.0",
      "model_name": "ProgressStyleModel",
      "state": {
       "description_width": ""
      }
     },
     "c2597cf4f261499bb7d788dd4c6e7ebd": {
      "model_module": "@jupyter-widgets/base",
      "model_module_version": "1.2.0",
      "model_name": "LayoutModel",
      "state": {}
     },
     "c28d0e679c404557800a577e01538945": {
      "model_module": "@jupyter-widgets/controls",
      "model_module_version": "1.5.0",
      "model_name": "DescriptionStyleModel",
      "state": {
       "description_width": ""
      }
     },
     "c43151c981e042178f037bfc5df8b307": {
      "model_module": "@jupyter-widgets/controls",
      "model_module_version": "1.5.0",
      "model_name": "HTMLModel",
      "state": {
       "layout": "IPY_MODEL_254a5b8321ec40989a68729b961a0059",
       "style": "IPY_MODEL_170e801d00964fd8846ab052b440ea7d",
       "value": " 300/300 [00:33&lt;00:00,  8.16it/s]"
      }
     },
     "c4590e6c06cd42d0b87ede980854550c": {
      "model_module": "@jupyter-widgets/controls",
      "model_module_version": "1.5.0",
      "model_name": "HTMLModel",
      "state": {
       "layout": "IPY_MODEL_b7fa112ccac4432fa591f365596b16da",
       "style": "IPY_MODEL_4ff7b82a51aa432f891dd2fb7ae646c3",
       "value": "Calculating Conductivity Variance: 100%"
      }
     },
     "c49280d6985b4e37ab184cf127903810": {
      "model_module": "@jupyter-widgets/controls",
      "model_module_version": "1.5.0",
      "model_name": "HBoxModel",
      "state": {
       "children": [
        "IPY_MODEL_dc23dab7fb89475f8d5cf412df366beb",
        "IPY_MODEL_19167a89f318499abda6591f6059dc5a",
        "IPY_MODEL_6442262b975b408fab3540982c28bb0e"
       ],
       "layout": "IPY_MODEL_1feb3f9ea7c64a59846e13a27c2df8a0"
      }
     },
     "c4bf1c64de3843e4ae74ab115441540f": {
      "model_module": "@jupyter-widgets/base",
      "model_module_version": "1.2.0",
      "model_name": "LayoutModel",
      "state": {}
     },
     "c4c9aff5710541c0ba000e6ae8b17cf9": {
      "model_module": "@jupyter-widgets/base",
      "model_module_version": "1.2.0",
      "model_name": "LayoutModel",
      "state": {}
     },
     "c4ec4e7a6cdd4e96ad79993913bbb3fb": {
      "model_module": "@jupyter-widgets/controls",
      "model_module_version": "1.5.0",
      "model_name": "HBoxModel",
      "state": {
       "children": [
        "IPY_MODEL_3be52f80159646498c49f7dceb79260d",
        "IPY_MODEL_6c2d91e04cab448fb36c97f7116ad5fa",
        "IPY_MODEL_77e8e0272f3a4caeae8889c76ee51247"
       ],
       "layout": "IPY_MODEL_a5604ab2f8da4db093c3f533dd6a9b51"
      }
     },
     "c4f078ff0f7e46b6b38eef2327b5dcf9": {
      "model_module": "@jupyter-widgets/controls",
      "model_module_version": "1.5.0",
      "model_name": "HTMLModel",
      "state": {
       "layout": "IPY_MODEL_9f1d9f3894314caba51b251119be1c68",
       "style": "IPY_MODEL_f10b2168265a44a3a0cd676949c1ca69",
       "value": " 2/2 [00:00&lt;00:00, 76.56it/s]"
      }
     },
     "c4ffc559ee444254a2377014c68be44b": {
      "model_module": "@jupyter-widgets/controls",
      "model_module_version": "1.5.0",
      "model_name": "HTMLModel",
      "state": {
       "layout": "IPY_MODEL_97d5e06755004bcda47d51e936483111",
       "style": "IPY_MODEL_1e8ad12d29a34cb098aa017c1cadc99f",
       "value": "Merging Features: 100%"
      }
     },
     "c50ede9461f449e792eca3364adc3201": {
      "model_module": "@jupyter-widgets/controls",
      "model_module_version": "1.5.0",
      "model_name": "DescriptionStyleModel",
      "state": {
       "description_width": ""
      }
     },
     "c522b032679f4ad8aa02a06daf74cf19": {
      "model_module": "@jupyter-widgets/controls",
      "model_module_version": "1.5.0",
      "model_name": "DescriptionStyleModel",
      "state": {
       "description_width": ""
      }
     },
     "c52f82a97e194dd889c6854d248ee477": {
      "model_module": "@jupyter-widgets/controls",
      "model_module_version": "1.5.0",
      "model_name": "DescriptionStyleModel",
      "state": {
       "description_width": ""
      }
     },
     "c54e5cc8edd34126a6df25cfc451e2cf": {
      "model_module": "@jupyter-widgets/base",
      "model_module_version": "1.2.0",
      "model_name": "LayoutModel",
      "state": {}
     },
     "c58c1f0a2b1f421c86d56a973f39d07c": {
      "model_module": "@jupyter-widgets/base",
      "model_module_version": "1.2.0",
      "model_name": "LayoutModel",
      "state": {}
     },
     "c5d41d7d0d7140e2ac0968f02b8a4334": {
      "model_module": "@jupyter-widgets/base",
      "model_module_version": "1.2.0",
      "model_name": "LayoutModel",
      "state": {}
     },
     "c5e71a17e7084809bb14d248d99ddb98": {
      "model_module": "@jupyter-widgets/base",
      "model_module_version": "1.2.0",
      "model_name": "LayoutModel",
      "state": {}
     },
     "c614ea1be19447dd801bbb1c20819c3b": {
      "model_module": "@jupyter-widgets/controls",
      "model_module_version": "1.5.0",
      "model_name": "DescriptionStyleModel",
      "state": {
       "description_width": ""
      }
     },
     "c6347e41e327494983dc37baa72cd64d": {
      "model_module": "@jupyter-widgets/controls",
      "model_module_version": "1.5.0",
      "model_name": "FloatProgressModel",
      "state": {
       "bar_style": "success",
       "layout": "IPY_MODEL_5a8e36dffec24b419d861d2f9563d59c",
       "max": 300,
       "style": "IPY_MODEL_c05dda7c7a8f40ada394b74c1f64d327",
       "value": 300
      }
     },
     "c63c2923cdaa48feb46d2867571afefe": {
      "model_module": "@jupyter-widgets/controls",
      "model_module_version": "1.5.0",
      "model_name": "ProgressStyleModel",
      "state": {
       "description_width": ""
      }
     },
     "c6a83ae919c847d9ba203f5818ce8ac8": {
      "model_module": "@jupyter-widgets/controls",
      "model_module_version": "1.5.0",
      "model_name": "HBoxModel",
      "state": {
       "children": [
        "IPY_MODEL_8350573fdfd94863ad1cf696724e97b1",
        "IPY_MODEL_fa56d4d892ea4bc5ac689782c5db5d9e",
        "IPY_MODEL_99f8f06a1e87480eb3c5a22d32a5e914"
       ],
       "layout": "IPY_MODEL_3aef32a1fc1b441eb2c4e4b72f41726e"
      }
     },
     "c72537cfb3444775ad0bd24422a381c0": {
      "model_module": "@jupyter-widgets/base",
      "model_module_version": "1.2.0",
      "model_name": "LayoutModel",
      "state": {}
     },
     "c73af5d13ad1421b82e0fcc8eb335be4": {
      "model_module": "@jupyter-widgets/base",
      "model_module_version": "1.2.0",
      "model_name": "LayoutModel",
      "state": {}
     },
     "c73bc80c7cfb4ed8aae5c513ae9c825f": {
      "model_module": "@jupyter-widgets/controls",
      "model_module_version": "1.5.0",
      "model_name": "HBoxModel",
      "state": {
       "children": [
        "IPY_MODEL_65732e6aad174ddb9b20148a738e24cc",
        "IPY_MODEL_eec17c3ad23e46c4884c5496c767a372",
        "IPY_MODEL_1985d6b611ae4a9d9d6ddf677fbe582a"
       ],
       "layout": "IPY_MODEL_52f0f100bbee422cadb4f071260838bf"
      }
     },
     "c75c4559d1ff45d68e671f3e5ebc8662": {
      "model_module": "@jupyter-widgets/base",
      "model_module_version": "1.2.0",
      "model_name": "LayoutModel",
      "state": {}
     },
     "c79b82041d574522969a784cd7cfb233": {
      "model_module": "@jupyter-widgets/controls",
      "model_module_version": "1.5.0",
      "model_name": "HTMLModel",
      "state": {
       "layout": "IPY_MODEL_2681d523bca54ad48b3b676084c9fcfb",
       "style": "IPY_MODEL_9f8cf26527e64bda9774e6e8db720915",
       "value": "Calculating Conductivity Variance: 100%"
      }
     },
     "c7c20adaac10404a8c524747b2592aee": {
      "model_module": "@jupyter-widgets/controls",
      "model_module_version": "1.5.0",
      "model_name": "DescriptionStyleModel",
      "state": {
       "description_width": ""
      }
     },
     "c7c3418b3da241e7a6a7bc09540d5331": {
      "model_module": "@jupyter-widgets/base",
      "model_module_version": "1.2.0",
      "model_name": "LayoutModel",
      "state": {}
     },
     "c7f770501b17433d8604d0da001c8687": {
      "model_module": "@jupyter-widgets/controls",
      "model_module_version": "1.5.0",
      "model_name": "HTMLModel",
      "state": {
       "layout": "IPY_MODEL_44929c09bf1a4b0c8c2745601317aa68",
       "style": "IPY_MODEL_d2214d443e004fe4813ffcdbb1fc3081",
       "value": "Merging Features: 100%"
      }
     },
     "c89ec06429dd426f9829d9658edda182": {
      "model_module": "@jupyter-widgets/controls",
      "model_module_version": "1.5.0",
      "model_name": "DescriptionStyleModel",
      "state": {
       "description_width": ""
      }
     },
     "c8a119ef0b694e09882d29d051df3ade": {
      "model_module": "@jupyter-widgets/controls",
      "model_module_version": "1.5.0",
      "model_name": "DescriptionStyleModel",
      "state": {
       "description_width": ""
      }
     },
     "c94b4e6c56b64056b2db273f5dabb733": {
      "model_module": "@jupyter-widgets/base",
      "model_module_version": "1.2.0",
      "model_name": "LayoutModel",
      "state": {}
     },
     "c9a6bf3a6348440db24bce1e88aed33a": {
      "model_module": "@jupyter-widgets/controls",
      "model_module_version": "1.5.0",
      "model_name": "HBoxModel",
      "state": {
       "children": [
        "IPY_MODEL_a7e68e6e018649e49372ba643d91b08c",
        "IPY_MODEL_8f63636e04e6497a92e5441ebf32b5ce",
        "IPY_MODEL_855e08a5d2834fb0ad9c232509842eef"
       ],
       "layout": "IPY_MODEL_3199707e0c7d485f983ce99056e9aefb"
      }
     },
     "ca1e7a7169934d53bdccbca0b0c3da17": {
      "model_module": "@jupyter-widgets/base",
      "model_module_version": "1.2.0",
      "model_name": "LayoutModel",
      "state": {}
     },
     "ca3a07d030b349e8b1f0ca0e3cdc93f7": {
      "model_module": "@jupyter-widgets/base",
      "model_module_version": "1.2.0",
      "model_name": "LayoutModel",
      "state": {}
     },
     "ca4c1a7658554222affe960c648ed943": {
      "model_module": "@jupyter-widgets/controls",
      "model_module_version": "1.5.0",
      "model_name": "FloatProgressModel",
      "state": {
       "bar_style": "success",
       "layout": "IPY_MODEL_ff2d1a8576b54a6baf9ba20cea601f1c",
       "max": 300,
       "style": "IPY_MODEL_07738961f61f41b4b6b37b7682464eb0",
       "value": 300
      }
     },
     "caade8695719442fbb37643bfa744817": {
      "model_module": "@jupyter-widgets/base",
      "model_module_version": "1.2.0",
      "model_name": "LayoutModel",
      "state": {}
     },
     "cb03fc666b674429b158b5e225e0aa00": {
      "model_module": "@jupyter-widgets/controls",
      "model_module_version": "1.5.0",
      "model_name": "ProgressStyleModel",
      "state": {
       "description_width": ""
      }
     },
     "cb3aa067eba74e61a380e87139aead6f": {
      "model_module": "@jupyter-widgets/controls",
      "model_module_version": "1.5.0",
      "model_name": "DescriptionStyleModel",
      "state": {
       "description_width": ""
      }
     },
     "cc158c9f942c4a83a1fff35b0b9c4d21": {
      "model_module": "@jupyter-widgets/base",
      "model_module_version": "1.2.0",
      "model_name": "LayoutModel",
      "state": {}
     },
     "cc411b1e818d49aba94a7d47c09ee73d": {
      "model_module": "@jupyter-widgets/controls",
      "model_module_version": "1.5.0",
      "model_name": "HTMLModel",
      "state": {
       "layout": "IPY_MODEL_3285a4a2b18047c0887d1f3b4c1378a1",
       "style": "IPY_MODEL_ac70a20dd3484bd4bb39c413ee5b10dc",
       "value": "Merging Features: 100%"
      }
     },
     "cc4ab408bb6945e1b0e6643a9612873e": {
      "model_module": "@jupyter-widgets/base",
      "model_module_version": "1.2.0",
      "model_name": "LayoutModel",
      "state": {}
     },
     "cc4b212277fc44fcb8d8497d7a9addf5": {
      "model_module": "@jupyter-widgets/base",
      "model_module_version": "1.2.0",
      "model_name": "LayoutModel",
      "state": {}
     },
     "cced6de5ad6049148bab7defbb8dda3c": {
      "model_module": "@jupyter-widgets/controls",
      "model_module_version": "1.5.0",
      "model_name": "HTMLModel",
      "state": {
       "layout": "IPY_MODEL_53bb879903954b56ac92dabc083beee5",
       "style": "IPY_MODEL_298a18028c974eb097102df12e11af29",
       "value": "Merging Features: 100%"
      }
     },
     "cd0f6b4545c4461cb373825f9d4f4b65": {
      "model_module": "@jupyter-widgets/controls",
      "model_module_version": "1.5.0",
      "model_name": "HBoxModel",
      "state": {
       "children": [
        "IPY_MODEL_a1b897bd48ac4af09a7eb763be878616",
        "IPY_MODEL_1721919becae4bdab117ef8a3414658a",
        "IPY_MODEL_ef51b114c1bb47098d525d2101f511d0"
       ],
       "layout": "IPY_MODEL_d61757737775419090c12474469c9691"
      }
     },
     "cd60c246b62b49b8bcea38891da7a540": {
      "model_module": "@jupyter-widgets/controls",
      "model_module_version": "1.5.0",
      "model_name": "ProgressStyleModel",
      "state": {
       "description_width": ""
      }
     },
     "cd98692dae874f51a8e65335755abb14": {
      "model_module": "@jupyter-widgets/controls",
      "model_module_version": "1.5.0",
      "model_name": "HTMLModel",
      "state": {
       "layout": "IPY_MODEL_e3148ca69ce949bbb42142581a33d8b2",
       "style": "IPY_MODEL_46adb1a7c6cf4f0282b7c4400331e44a",
       "value": "Calculating BVSE Variance: 100%"
      }
     },
     "cde57727314d4f3ea18ad5eca6ed982f": {
      "model_module": "@jupyter-widgets/controls",
      "model_module_version": "1.5.0",
      "model_name": "DescriptionStyleModel",
      "state": {
       "description_width": ""
      }
     },
     "cdef6d68549f4013bb545178b99dbfc2": {
      "model_module": "@jupyter-widgets/controls",
      "model_module_version": "1.5.0",
      "model_name": "DescriptionStyleModel",
      "state": {
       "description_width": ""
      }
     },
     "cf44e7e03936400abd33bcdc071e4d53": {
      "model_module": "@jupyter-widgets/base",
      "model_module_version": "1.2.0",
      "model_name": "LayoutModel",
      "state": {}
     },
     "cf86001b6dec4e55be6bf89a515906ec": {
      "model_module": "@jupyter-widgets/controls",
      "model_module_version": "1.5.0",
      "model_name": "DescriptionStyleModel",
      "state": {
       "description_width": ""
      }
     },
     "cfa888ab68d5421c881a351e8315f4f8": {
      "model_module": "@jupyter-widgets/base",
      "model_module_version": "1.2.0",
      "model_name": "LayoutModel",
      "state": {}
     },
     "d013aa5d17854d05843c45be25e9420c": {
      "model_module": "@jupyter-widgets/controls",
      "model_module_version": "1.5.0",
      "model_name": "ProgressStyleModel",
      "state": {
       "description_width": ""
      }
     },
     "d0391843a3414bebb0fd02f38ef4665a": {
      "model_module": "@jupyter-widgets/base",
      "model_module_version": "1.2.0",
      "model_name": "LayoutModel",
      "state": {}
     },
     "d05ba2bcd2cc451b9fbb13b550235ad0": {
      "model_module": "@jupyter-widgets/controls",
      "model_module_version": "1.5.0",
      "model_name": "HBoxModel",
      "state": {
       "children": [
        "IPY_MODEL_c4590e6c06cd42d0b87ede980854550c",
        "IPY_MODEL_635975f6bd8d4296ae77b64bd6113746",
        "IPY_MODEL_49ae17aaddab4ed1840fe95255f65754"
       ],
       "layout": "IPY_MODEL_c75c4559d1ff45d68e671f3e5ebc8662"
      }
     },
     "d07d4e2feebf459986bca2fc078aed16": {
      "model_module": "@jupyter-widgets/controls",
      "model_module_version": "1.5.0",
      "model_name": "FloatProgressModel",
      "state": {
       "bar_style": "success",
       "layout": "IPY_MODEL_395c7db45e224ff5b6ad956f2ec9f617",
       "max": 2,
       "style": "IPY_MODEL_bc6fe42b372348cdbec58497ec8700a4",
       "value": 2
      }
     },
     "d07f46ef455545cd8913ba1e740497e6": {
      "model_module": "@jupyter-widgets/base",
      "model_module_version": "1.2.0",
      "model_name": "LayoutModel",
      "state": {}
     },
     "d0b79aa5a89444b9b88a9e3d192d4d57": {
      "model_module": "@jupyter-widgets/controls",
      "model_module_version": "1.5.0",
      "model_name": "FloatProgressModel",
      "state": {
       "bar_style": "success",
       "layout": "IPY_MODEL_6f9991b224b944ad8aca5348c1430a00",
       "max": 1,
       "style": "IPY_MODEL_1860a830610344d486b96353d162a15b",
       "value": 1
      }
     },
     "d0dd72de207943b3a0905a7f9e0410af": {
      "model_module": "@jupyter-widgets/controls",
      "model_module_version": "1.5.0",
      "model_name": "DescriptionStyleModel",
      "state": {
       "description_width": ""
      }
     },
     "d1bfdad8685f4589a4374d51ef9cdb14": {
      "model_module": "@jupyter-widgets/controls",
      "model_module_version": "1.5.0",
      "model_name": "HTMLModel",
      "state": {
       "layout": "IPY_MODEL_464440fb458e475ea10bd2a9fd452602",
       "style": "IPY_MODEL_702be308173a4806a508b4784c201ce4",
       "value": " 2/2 [00:00&lt;00:00, 78.28it/s]"
      }
     },
     "d1da12e5702c4fc38dfd9451591d230c": {
      "model_module": "@jupyter-widgets/controls",
      "model_module_version": "1.5.0",
      "model_name": "DescriptionStyleModel",
      "state": {
       "description_width": ""
      }
     },
     "d2214d443e004fe4813ffcdbb1fc3081": {
      "model_module": "@jupyter-widgets/controls",
      "model_module_version": "1.5.0",
      "model_name": "DescriptionStyleModel",
      "state": {
       "description_width": ""
      }
     },
     "d22b71a1aada49d8be76bbbdd4fcdf13": {
      "model_module": "@jupyter-widgets/controls",
      "model_module_version": "1.5.0",
      "model_name": "DescriptionStyleModel",
      "state": {
       "description_width": ""
      }
     },
     "d22d651985094583bc7344c9b25e7970": {
      "model_module": "@jupyter-widgets/controls",
      "model_module_version": "1.5.0",
      "model_name": "FloatProgressModel",
      "state": {
       "bar_style": "success",
       "layout": "IPY_MODEL_fef349ff4b2d448690eb9eb5fa3f333f",
       "max": 300,
       "style": "IPY_MODEL_78072efcdfe64234866299b38a6db8c2",
       "value": 300
      }
     },
     "d276bf49523b4d0695d259aca8c9f898": {
      "model_module": "@jupyter-widgets/base",
      "model_module_version": "1.2.0",
      "model_name": "LayoutModel",
      "state": {}
     },
     "d27f9cdc1d954f1594af68af1adf36f1": {
      "model_module": "@jupyter-widgets/base",
      "model_module_version": "1.2.0",
      "model_name": "LayoutModel",
      "state": {}
     },
     "d29d166623e845fe87754a9c95f3d781": {
      "model_module": "@jupyter-widgets/controls",
      "model_module_version": "1.5.0",
      "model_name": "HTMLModel",
      "state": {
       "layout": "IPY_MODEL_b0229f3fc42e4aafa5f66f56b46019b8",
       "style": "IPY_MODEL_fb73ab56eb024783802a694d9b78cfa6",
       "value": " 300/300 [00:34&lt;00:00,  8.07it/s]"
      }
     },
     "d34772802d164a07903d5179c688bdc9": {
      "model_module": "@jupyter-widgets/base",
      "model_module_version": "1.2.0",
      "model_name": "LayoutModel",
      "state": {}
     },
     "d36ba1d787e64434bce8079cf866bd2f": {
      "model_module": "@jupyter-widgets/controls",
      "model_module_version": "1.5.0",
      "model_name": "HTMLModel",
      "state": {
       "layout": "IPY_MODEL_c5d41d7d0d7140e2ac0968f02b8a4334",
       "style": "IPY_MODEL_54a57020d5284c0bb364b688991c78a7",
       "value": " 300/300 [00:10&lt;00:00, 21.96it/s]"
      }
     },
     "d3ce20c041d34fce898602c014736701": {
      "model_module": "@jupyter-widgets/base",
      "model_module_version": "1.2.0",
      "model_name": "LayoutModel",
      "state": {}
     },
     "d4cf4766894449eca1a30e5692487359": {
      "model_module": "@jupyter-widgets/controls",
      "model_module_version": "1.5.0",
      "model_name": "HTMLModel",
      "state": {
       "layout": "IPY_MODEL_1f20bdc0057246d29ab502f43e7607d5",
       "style": "IPY_MODEL_90964f89c4554f60bfc1e46035ead899",
       "value": "Merging Features: 100%"
      }
     },
     "d55ffcb378d84b988f854f31aa684a19": {
      "model_module": "@jupyter-widgets/controls",
      "model_module_version": "1.5.0",
      "model_name": "HTMLModel",
      "state": {
       "layout": "IPY_MODEL_fdec86e9a6b44d6baf0a6abd7dc8b894",
       "style": "IPY_MODEL_34f5be9fc7eb4a0f8ffed0e096decd89",
       "value": " 300/300 [00:10&lt;00:00, 21.74it/s]"
      }
     },
     "d60ac3e6ebd949078fbc471a21f0f435": {
      "model_module": "@jupyter-widgets/controls",
      "model_module_version": "1.5.0",
      "model_name": "DescriptionStyleModel",
      "state": {
       "description_width": ""
      }
     },
     "d61757737775419090c12474469c9691": {
      "model_module": "@jupyter-widgets/base",
      "model_module_version": "1.2.0",
      "model_name": "LayoutModel",
      "state": {}
     },
     "d62d5b17c06d41f08354a9cddad9e2d1": {
      "model_module": "@jupyter-widgets/controls",
      "model_module_version": "1.5.0",
      "model_name": "HTMLModel",
      "state": {
       "layout": "IPY_MODEL_089be21bc6ed4865a4408a154f5e3d3c",
       "style": "IPY_MODEL_892e606ab1204dac9dbb0830cd35815b",
       "value": "Calculating BVSE Variance: 100%"
      }
     },
     "d6527c076ec64a468816db29c69eb23f": {
      "model_module": "@jupyter-widgets/controls",
      "model_module_version": "1.5.0",
      "model_name": "DescriptionStyleModel",
      "state": {
       "description_width": ""
      }
     },
     "d6c9b5228ab94df4b767cc104df50561": {
      "model_module": "@jupyter-widgets/controls",
      "model_module_version": "1.5.0",
      "model_name": "ProgressStyleModel",
      "state": {
       "description_width": ""
      }
     },
     "d6e93e84297b4039b030d92f02bafff1": {
      "model_module": "@jupyter-widgets/controls",
      "model_module_version": "1.5.0",
      "model_name": "DescriptionStyleModel",
      "state": {
       "description_width": ""
      }
     },
     "d715886cf9234202a937e7788b11a809": {
      "model_module": "@jupyter-widgets/controls",
      "model_module_version": "1.5.0",
      "model_name": "HTMLModel",
      "state": {
       "layout": "IPY_MODEL_c00646771fe44fc0aff1302108041d5a",
       "style": "IPY_MODEL_fb9b18a860974ab6b7c58adbb8dd2e64",
       "value": " 2/2 [00:00&lt;00:00, 74.72it/s]"
      }
     },
     "d82bd41d819641c98629a2744bd707a2": {
      "model_module": "@jupyter-widgets/controls",
      "model_module_version": "1.5.0",
      "model_name": "ProgressStyleModel",
      "state": {
       "description_width": ""
      }
     },
     "d83db638b75940d2bd8f36b82cb29816": {
      "model_module": "@jupyter-widgets/controls",
      "model_module_version": "1.5.0",
      "model_name": "HBoxModel",
      "state": {
       "children": [
        "IPY_MODEL_54ab4fcf9d534324ac6af4187d984956",
        "IPY_MODEL_c1bf8829c895476eb1c0737f144b44a4",
        "IPY_MODEL_5bbd0bc2112f4110a47d3bfad2fd90f2"
       ],
       "layout": "IPY_MODEL_ab2115f1d2df468ca079504e39290509"
      }
     },
     "d8a5bc11431e498986776bd0aa66518a": {
      "model_module": "@jupyter-widgets/base",
      "model_module_version": "1.2.0",
      "model_name": "LayoutModel",
      "state": {}
     },
     "d8ce79cd6ccd44d0a442caa22dd6dc14": {
      "model_module": "@jupyter-widgets/controls",
      "model_module_version": "1.5.0",
      "model_name": "HTMLModel",
      "state": {
       "layout": "IPY_MODEL_70dd4abfd6a14c2782a9238a9cdda527",
       "style": "IPY_MODEL_abdc876bea314303b1904d42049e9028",
       "value": " 1/1 [00:00&lt;00:00, 44.43it/s]"
      }
     },
     "d90dc1acefbd404888357b421d6f5fd6": {
      "model_module": "@jupyter-widgets/controls",
      "model_module_version": "1.5.0",
      "model_name": "HTMLModel",
      "state": {
       "layout": "IPY_MODEL_45fb9223fe194b8facf7868b0358cef2",
       "style": "IPY_MODEL_d0dd72de207943b3a0905a7f9e0410af",
       "value": "Calculating Conductivity Variance: 100%"
      }
     },
     "d9c6173662504892b2378aa482dd8ca2": {
      "model_module": "@jupyter-widgets/controls",
      "model_module_version": "1.5.0",
      "model_name": "HBoxModel",
      "state": {
       "children": [
        "IPY_MODEL_c4ffc559ee444254a2377014c68be44b",
        "IPY_MODEL_a33ac3deb7bc42d0a6ed408c0f168b6e",
        "IPY_MODEL_d715886cf9234202a937e7788b11a809"
       ],
       "layout": "IPY_MODEL_af43c9421e68498098ae283c13a16712"
      }
     },
     "d9c68a599ef24596b3d25e9d849d0131": {
      "model_module": "@jupyter-widgets/controls",
      "model_module_version": "1.5.0",
      "model_name": "ProgressStyleModel",
      "state": {
       "description_width": ""
      }
     },
     "d9fead1d939140299fc2e57af5ddd1e0": {
      "model_module": "@jupyter-widgets/controls",
      "model_module_version": "1.5.0",
      "model_name": "DescriptionStyleModel",
      "state": {
       "description_width": ""
      }
     },
     "da054345c10848048778584bd456c97d": {
      "model_module": "@jupyter-widgets/controls",
      "model_module_version": "1.5.0",
      "model_name": "ProgressStyleModel",
      "state": {
       "description_width": ""
      }
     },
     "da5b6ad0e96f4db2916b7afbb5c90d02": {
      "model_module": "@jupyter-widgets/controls",
      "model_module_version": "1.5.0",
      "model_name": "FloatProgressModel",
      "state": {
       "bar_style": "success",
       "layout": "IPY_MODEL_b461cde420694bd2930653c0a1c84c17",
       "max": 300,
       "style": "IPY_MODEL_5175a712db7f444e97e17a2991ed0120",
       "value": 300
      }
     },
     "da5f23bffae3468182310327844216ef": {
      "model_module": "@jupyter-widgets/controls",
      "model_module_version": "1.5.0",
      "model_name": "ProgressStyleModel",
      "state": {
       "description_width": ""
      }
     },
     "db6de39170dc45e6b17bf61ce61694d2": {
      "model_module": "@jupyter-widgets/controls",
      "model_module_version": "1.5.0",
      "model_name": "HTMLModel",
      "state": {
       "layout": "IPY_MODEL_04b019abaf534bccaf9665936f1cd133",
       "style": "IPY_MODEL_ac5e57b5487046a0af4e8cddf2ac9d82",
       "value": " 300/300 [00:33&lt;00:00,  8.16it/s]"
      }
     },
     "db81e4ebbbc545b48a694a41f1c42c1f": {
      "model_module": "@jupyter-widgets/controls",
      "model_module_version": "1.5.0",
      "model_name": "HTMLModel",
      "state": {
       "layout": "IPY_MODEL_ff382955ca15451996e55a81e4a23cb1",
       "style": "IPY_MODEL_cb3aa067eba74e61a380e87139aead6f",
       "value": " 2/2 [00:00&lt;00:00, 74.24it/s]"
      }
     },
     "dbccca5a1466499e9e5f120495bc8c1c": {
      "model_module": "@jupyter-widgets/base",
      "model_module_version": "1.2.0",
      "model_name": "LayoutModel",
      "state": {}
     },
     "dc23dab7fb89475f8d5cf412df366beb": {
      "model_module": "@jupyter-widgets/controls",
      "model_module_version": "1.5.0",
      "model_name": "HTMLModel",
      "state": {
       "layout": "IPY_MODEL_70540f1263a64de08cfdfa1f470a4ea6",
       "style": "IPY_MODEL_0224d939bb8b48e4af9bc03754c3c29e",
       "value": "Calculating BVSE Variance: 100%"
      }
     },
     "dc69e83abe754589878d42301ab20168": {
      "model_module": "@jupyter-widgets/controls",
      "model_module_version": "1.5.0",
      "model_name": "HTMLModel",
      "state": {
       "layout": "IPY_MODEL_1fd04353be46447f8f04a9b528d6fa65",
       "style": "IPY_MODEL_a515370e86084a6b8a42d2d644d77629",
       "value": "Calculating BVSE Variance: 100%"
      }
     },
     "dc6f9bbecc94487d884d7fe6bf72a83b": {
      "model_module": "@jupyter-widgets/controls",
      "model_module_version": "1.5.0",
      "model_name": "HBoxModel",
      "state": {
       "children": [
        "IPY_MODEL_83b65808c54a46ffa807b3416f835e62",
        "IPY_MODEL_af0526896b4e4b6c868e105fbb978075",
        "IPY_MODEL_be81b046deee46dcab3ae620d53594ce"
       ],
       "layout": "IPY_MODEL_6e293611bab143aa958f5ca6b72178c5"
      }
     },
     "dcdf7ca282c6449ba1b0ea1954416c6f": {
      "model_module": "@jupyter-widgets/base",
      "model_module_version": "1.2.0",
      "model_name": "LayoutModel",
      "state": {}
     },
     "dce8cf607d234e82a70c3de2187962dc": {
      "model_module": "@jupyter-widgets/controls",
      "model_module_version": "1.5.0",
      "model_name": "HBoxModel",
      "state": {
       "children": [
        "IPY_MODEL_be2abd3d7336436786baeeb077bf25f0",
        "IPY_MODEL_0b16ed12195a492295ab313a6624b10e",
        "IPY_MODEL_d55ffcb378d84b988f854f31aa684a19"
       ],
       "layout": "IPY_MODEL_270469ac375d4e72962e574784f1e974"
      }
     },
     "dcf985782d104a21a3e2f1622f45f6b8": {
      "model_module": "@jupyter-widgets/controls",
      "model_module_version": "1.5.0",
      "model_name": "HTMLModel",
      "state": {
       "layout": "IPY_MODEL_b6337f5574e546099b45dfa2de112826",
       "style": "IPY_MODEL_33ba87076e3747a7abe63cdc630e9f71",
       "value": "Merging Features: 100%"
      }
     },
     "dd0566cb106b41a8bcff1520ad49c170": {
      "model_module": "@jupyter-widgets/controls",
      "model_module_version": "1.5.0",
      "model_name": "HBoxModel",
      "state": {
       "children": [
        "IPY_MODEL_b1bc258ccbe84412a79d80960e073935",
        "IPY_MODEL_adb07ce14f244c4a83e13478bfbdb71d",
        "IPY_MODEL_178fcfb460c444d89db0a387c1110b4d"
       ],
       "layout": "IPY_MODEL_c54e5cc8edd34126a6df25cfc451e2cf"
      }
     },
     "dd5b94d2caaf4cc9ba613cb46cfe4086": {
      "model_module": "@jupyter-widgets/controls",
      "model_module_version": "1.5.0",
      "model_name": "HBoxModel",
      "state": {
       "children": [
        "IPY_MODEL_3e252b78376b4970acb53c677c12d7cc",
        "IPY_MODEL_0ba5876047f04fe0ab7f4d120be4af10",
        "IPY_MODEL_2ac11145185d4d4faf1bb70d48b1391f"
       ],
       "layout": "IPY_MODEL_d27f9cdc1d954f1594af68af1adf36f1"
      }
     },
     "de053a032475497ca1ac49a143cd30ae": {
      "model_module": "@jupyter-widgets/base",
      "model_module_version": "1.2.0",
      "model_name": "LayoutModel",
      "state": {}
     },
     "de2e412130d84634a27284ac0f820e7f": {
      "model_module": "@jupyter-widgets/base",
      "model_module_version": "1.2.0",
      "model_name": "LayoutModel",
      "state": {}
     },
     "de6795a83433438dbaddb3e2210f9568": {
      "model_module": "@jupyter-widgets/base",
      "model_module_version": "1.2.0",
      "model_name": "LayoutModel",
      "state": {}
     },
     "dedd2ebc91534e3db95bc8d703df91d5": {
      "model_module": "@jupyter-widgets/base",
      "model_module_version": "1.2.0",
      "model_name": "LayoutModel",
      "state": {}
     },
     "df46776d919e4744ad8ff61dfd8ced3d": {
      "model_module": "@jupyter-widgets/controls",
      "model_module_version": "1.5.0",
      "model_name": "FloatProgressModel",
      "state": {
       "bar_style": "success",
       "layout": "IPY_MODEL_ca1e7a7169934d53bdccbca0b0c3da17",
       "max": 300,
       "style": "IPY_MODEL_eddd42b7d8c04e3696472018c8969284",
       "value": 300
      }
     },
     "dfc811493ed64178b3628af2f9b6fd2c": {
      "model_module": "@jupyter-widgets/base",
      "model_module_version": "1.2.0",
      "model_name": "LayoutModel",
      "state": {}
     },
     "e00aa9875db14586b251bf77b8e91309": {
      "model_module": "@jupyter-widgets/controls",
      "model_module_version": "1.5.0",
      "model_name": "HTMLModel",
      "state": {
       "layout": "IPY_MODEL_796d732249d0450e8f8bc4f5ff8a0bff",
       "style": "IPY_MODEL_8516d46af84b439bb3a09a403a3e9f80",
       "value": "Calculating Conductivity Variance: 100%"
      }
     },
     "e0325beb4e8e4a56b9487e3ed0b456a9": {
      "model_module": "@jupyter-widgets/controls",
      "model_module_version": "1.5.0",
      "model_name": "HBoxModel",
      "state": {
       "children": [
        "IPY_MODEL_5e9c263acf594aadb9c32f13ca8145bc",
        "IPY_MODEL_39bd54619431451e89152760b9ba8024",
        "IPY_MODEL_6502a374064b4ca9b3f37194965b86c5"
       ],
       "layout": "IPY_MODEL_d3ce20c041d34fce898602c014736701"
      }
     },
     "e03f431b9ba3445fae80c255117472ac": {
      "model_module": "@jupyter-widgets/controls",
      "model_module_version": "1.5.0",
      "model_name": "FloatProgressModel",
      "state": {
       "bar_style": "success",
       "layout": "IPY_MODEL_9ee4304a99334e2cb9a576a3f1b79fd2",
       "max": 2,
       "style": "IPY_MODEL_46096411e7094f01934b2541ac969b40",
       "value": 2
      }
     },
     "e0456098ec4942ebb95cc60e9fc1e9a3": {
      "model_module": "@jupyter-widgets/controls",
      "model_module_version": "1.5.0",
      "model_name": "HTMLModel",
      "state": {
       "layout": "IPY_MODEL_c14c741b66164faea9d33fdcd657ec20",
       "style": "IPY_MODEL_75caf5eaab034a649e5a3b90daf11523",
       "value": "Calculating Conductivity Variance: 100%"
      }
     },
     "e064a09e50084c80a10156e783d960a8": {
      "model_module": "@jupyter-widgets/controls",
      "model_module_version": "1.5.0",
      "model_name": "HTMLModel",
      "state": {
       "layout": "IPY_MODEL_5da362c11b44483d824a0314c627f164",
       "style": "IPY_MODEL_9a9af0dfaa2a43009d3a0aaa02dd7213",
       "value": " 300/300 [00:10&lt;00:00, 21.40it/s]"
      }
     },
     "e101e86eb801401aaea897011b38d09a": {
      "model_module": "@jupyter-widgets/controls",
      "model_module_version": "1.5.0",
      "model_name": "DescriptionStyleModel",
      "state": {
       "description_width": ""
      }
     },
     "e127f52bb346456784e1cdf52bccb317": {
      "model_module": "@jupyter-widgets/controls",
      "model_module_version": "1.5.0",
      "model_name": "HBoxModel",
      "state": {
       "children": [
        "IPY_MODEL_9ba2673d74ee42eda1ac49dc8cc5d7ad",
        "IPY_MODEL_9ea9c4fa7a534234aaf097e5d24d54a1",
        "IPY_MODEL_33add6ab64174f0f924640c28807b3e4"
       ],
       "layout": "IPY_MODEL_eea088ee72d64067bab100d7f03311d6"
      }
     },
     "e13e965c27fa4b3ca07d50805fd03fce": {
      "model_module": "@jupyter-widgets/controls",
      "model_module_version": "1.5.0",
      "model_name": "DescriptionStyleModel",
      "state": {
       "description_width": ""
      }
     },
     "e172f66c484b453eb46136a58b339f0d": {
      "model_module": "@jupyter-widgets/controls",
      "model_module_version": "1.5.0",
      "model_name": "HTMLModel",
      "state": {
       "layout": "IPY_MODEL_6a70fe19262a4bc7b94366043e7d8502",
       "style": "IPY_MODEL_f42aae76bd8941e2a80923e94f9c6f6a",
       "value": "Calculating Conductivity Variance: 100%"
      }
     },
     "e18a1d22ced54b358e4e1315d9237775": {
      "model_module": "@jupyter-widgets/base",
      "model_module_version": "1.2.0",
      "model_name": "LayoutModel",
      "state": {}
     },
     "e1b5c2d822f9465290473918fc84494d": {
      "model_module": "@jupyter-widgets/base",
      "model_module_version": "1.2.0",
      "model_name": "LayoutModel",
      "state": {}
     },
     "e1df8012c8cb47baa1ed7d33c2752ff2": {
      "model_module": "@jupyter-widgets/base",
      "model_module_version": "1.2.0",
      "model_name": "LayoutModel",
      "state": {}
     },
     "e1f8797abb394c0eb16b5c6bf9c7d32d": {
      "model_module": "@jupyter-widgets/controls",
      "model_module_version": "1.5.0",
      "model_name": "FloatProgressModel",
      "state": {
       "bar_style": "success",
       "layout": "IPY_MODEL_b4810fa7f12c447087e4896b19bfd4c1",
       "max": 2,
       "style": "IPY_MODEL_a0264abef9ed4b868d874d672b540e76",
       "value": 2
      }
     },
     "e24f3bdfe75945d1b26dede31ff4371b": {
      "model_module": "@jupyter-widgets/controls",
      "model_module_version": "1.5.0",
      "model_name": "ProgressStyleModel",
      "state": {
       "description_width": ""
      }
     },
     "e25fd074d56d4c7989c03a39b057f931": {
      "model_module": "@jupyter-widgets/controls",
      "model_module_version": "1.5.0",
      "model_name": "DescriptionStyleModel",
      "state": {
       "description_width": ""
      }
     },
     "e3148ca69ce949bbb42142581a33d8b2": {
      "model_module": "@jupyter-widgets/base",
      "model_module_version": "1.2.0",
      "model_name": "LayoutModel",
      "state": {}
     },
     "e331b9eec4184baf87faee7162718f32": {
      "model_module": "@jupyter-widgets/base",
      "model_module_version": "1.2.0",
      "model_name": "LayoutModel",
      "state": {}
     },
     "e3cba86c1deb421c9a3e32fe2b949334": {
      "model_module": "@jupyter-widgets/controls",
      "model_module_version": "1.5.0",
      "model_name": "HTMLModel",
      "state": {
       "layout": "IPY_MODEL_e331b9eec4184baf87faee7162718f32",
       "style": "IPY_MODEL_97a8376746454769911d5a70f1df1b62",
       "value": " 300/300 [00:34&lt;00:00,  7.99it/s]"
      }
     },
     "e3cffe4370274156ba5879a8133bade7": {
      "model_module": "@jupyter-widgets/controls",
      "model_module_version": "1.5.0",
      "model_name": "HBoxModel",
      "state": {
       "children": [
        "IPY_MODEL_1611c143c384468ca1b4f7a8b4b92fa9",
        "IPY_MODEL_3ac4c839a5fb4b6687c97f24afc3507f",
        "IPY_MODEL_d29d166623e845fe87754a9c95f3d781"
       ],
       "layout": "IPY_MODEL_86c8054e4a504ff6b2e4d8a0b3523134"
      }
     },
     "e3ff0306548a47d8a8a4ca309615d4a4": {
      "model_module": "@jupyter-widgets/controls",
      "model_module_version": "1.5.0",
      "model_name": "ProgressStyleModel",
      "state": {
       "description_width": ""
      }
     },
     "e41f31120de34d4ab7c3fb3764167092": {
      "model_module": "@jupyter-widgets/base",
      "model_module_version": "1.2.0",
      "model_name": "LayoutModel",
      "state": {}
     },
     "e469b64a53c94422910764e62d4c1a28": {
      "model_module": "@jupyter-widgets/controls",
      "model_module_version": "1.5.0",
      "model_name": "HTMLModel",
      "state": {
       "layout": "IPY_MODEL_7726cd7ca1b64316b94b6ea711ceed4e",
       "style": "IPY_MODEL_fd6741e0b02f4327b8f237ab262fb403",
       "value": " 300/300 [00:10&lt;00:00, 22.09it/s]"
      }
     },
     "e4a592a8a7a747ec85cb532e6d493af5": {
      "model_module": "@jupyter-widgets/controls",
      "model_module_version": "1.5.0",
      "model_name": "FloatProgressModel",
      "state": {
       "bar_style": "success",
       "layout": "IPY_MODEL_0f860ffd8ec7419994985f8349e3e93f",
       "max": 2,
       "style": "IPY_MODEL_1d77aa73f31e49eca1e2680a61879b3c",
       "value": 2
      }
     },
     "e4dfb5bf4c8b4d058493372c5731c28b": {
      "model_module": "@jupyter-widgets/controls",
      "model_module_version": "1.5.0",
      "model_name": "HBoxModel",
      "state": {
       "children": [
        "IPY_MODEL_f13d31adb1464cba93c88e883a136d95",
        "IPY_MODEL_5f8da1ba0d5b44bf8708b953c9f8a92b",
        "IPY_MODEL_b6c535b807f84c6eb18eb0024874d21c"
       ],
       "layout": "IPY_MODEL_f6c67ebe1e534f79a8cac8f27dbc8d41"
      }
     },
     "e541e4a8e44240a8b16b1b0b0201d461": {
      "model_module": "@jupyter-widgets/controls",
      "model_module_version": "1.5.0",
      "model_name": "HTMLModel",
      "state": {
       "layout": "IPY_MODEL_e99fd0775a2842bead1625533b1e8755",
       "style": "IPY_MODEL_3db25c1de92141d691bb363ace3cba22",
       "value": " 300/300 [00:10&lt;00:00, 21.74it/s]"
      }
     },
     "e57db0a92376440590d79e97d33f295e": {
      "model_module": "@jupyter-widgets/base",
      "model_module_version": "1.2.0",
      "model_name": "LayoutModel",
      "state": {}
     },
     "e5883bafec504065a6b62d016737d83a": {
      "model_module": "@jupyter-widgets/controls",
      "model_module_version": "1.5.0",
      "model_name": "FloatProgressModel",
      "state": {
       "bar_style": "success",
       "layout": "IPY_MODEL_b3c433f27f2b4e0991514b700e255175",
       "max": 300,
       "style": "IPY_MODEL_896bf50413f9443aa344cd72e6adf9db",
       "value": 300
      }
     },
     "e598627d60aa427ebb0406782cd29350": {
      "model_module": "@jupyter-widgets/controls",
      "model_module_version": "1.5.0",
      "model_name": "HTMLModel",
      "state": {
       "layout": "IPY_MODEL_d8a5bc11431e498986776bd0aa66518a",
       "style": "IPY_MODEL_5ce2f995d29347c7b75fbb14d2acb883",
       "value": " 2/2 [00:00&lt;00:00, 77.73it/s]"
      }
     },
     "e67f6fff48074f62bcaf4966a88634c6": {
      "model_module": "@jupyter-widgets/base",
      "model_module_version": "1.2.0",
      "model_name": "LayoutModel",
      "state": {}
     },
     "e68eba0d00cb4a858423498d9812f1c4": {
      "model_module": "@jupyter-widgets/controls",
      "model_module_version": "1.5.0",
      "model_name": "HBoxModel",
      "state": {
       "children": [
        "IPY_MODEL_aee6befabc044738807f9f8748f6848d",
        "IPY_MODEL_23129385a06e4a90abb134563a76e381",
        "IPY_MODEL_0e7a643027c74f3eac4f271680d5e41a"
       ],
       "layout": "IPY_MODEL_ec5096cd36ea4689b3decb039b80252f"
      }
     },
     "e6f4a7fdd2404c1c9c354e72bd1702b8": {
      "model_module": "@jupyter-widgets/controls",
      "model_module_version": "1.5.0",
      "model_name": "HTMLModel",
      "state": {
       "layout": "IPY_MODEL_348e202497474e1b9297b8ffe33d419b",
       "style": "IPY_MODEL_66a42f29425c45df95ace76cb7d57130",
       "value": " 300/300 [00:10&lt;00:00, 21.96it/s]"
      }
     },
     "e70ec67d6426498090f2392c8175cd99": {
      "model_module": "@jupyter-widgets/controls",
      "model_module_version": "1.5.0",
      "model_name": "DescriptionStyleModel",
      "state": {
       "description_width": ""
      }
     },
     "e756aee764594978aad98f51eac8946a": {
      "model_module": "@jupyter-widgets/controls",
      "model_module_version": "1.5.0",
      "model_name": "DescriptionStyleModel",
      "state": {
       "description_width": ""
      }
     },
     "e79a1a34887a4d6c8a03ad4346798ef6": {
      "model_module": "@jupyter-widgets/base",
      "model_module_version": "1.2.0",
      "model_name": "LayoutModel",
      "state": {}
     },
     "e81bbda3d0434eb0b29114999eccb270": {
      "model_module": "@jupyter-widgets/base",
      "model_module_version": "1.2.0",
      "model_name": "LayoutModel",
      "state": {}
     },
     "e825a55c2c8e43e4a981028982fa710a": {
      "model_module": "@jupyter-widgets/base",
      "model_module_version": "1.2.0",
      "model_name": "LayoutModel",
      "state": {}
     },
     "e845daa600e444b89a2492aa6e39ede5": {
      "model_module": "@jupyter-widgets/controls",
      "model_module_version": "1.5.0",
      "model_name": "DescriptionStyleModel",
      "state": {
       "description_width": ""
      }
     },
     "e84a90e740944c319bae1ae29b6e4fcb": {
      "model_module": "@jupyter-widgets/controls",
      "model_module_version": "1.5.0",
      "model_name": "DescriptionStyleModel",
      "state": {
       "description_width": ""
      }
     },
     "e86000b337ba43d68832bdac4edded46": {
      "model_module": "@jupyter-widgets/controls",
      "model_module_version": "1.5.0",
      "model_name": "HTMLModel",
      "state": {
       "layout": "IPY_MODEL_c72537cfb3444775ad0bd24422a381c0",
       "style": "IPY_MODEL_baebec5166d4421f8a8c25c6b33ca094",
       "value": "Merging Features: 100%"
      }
     },
     "e9181d8420d74625a3f6ac5f00f1eb20": {
      "model_module": "@jupyter-widgets/base",
      "model_module_version": "1.2.0",
      "model_name": "LayoutModel",
      "state": {}
     },
     "e91ccc9cc30a4384b078be1130effb6c": {
      "model_module": "@jupyter-widgets/base",
      "model_module_version": "1.2.0",
      "model_name": "LayoutModel",
      "state": {}
     },
     "e91d6a6e250744d2824ebb67a0c7108a": {
      "model_module": "@jupyter-widgets/controls",
      "model_module_version": "1.5.0",
      "model_name": "HTMLModel",
      "state": {
       "layout": "IPY_MODEL_319da0e357fa485d8f0026cf24ed7dde",
       "style": "IPY_MODEL_a1bb888421634d078b7d914dff56af22",
       "value": " 2/2 [00:00&lt;00:00, 76.57it/s]"
      }
     },
     "e99fd0775a2842bead1625533b1e8755": {
      "model_module": "@jupyter-widgets/base",
      "model_module_version": "1.2.0",
      "model_name": "LayoutModel",
      "state": {}
     },
     "e9d432fccfe54ce79436c96f853cb4c4": {
      "model_module": "@jupyter-widgets/controls",
      "model_module_version": "1.5.0",
      "model_name": "HBoxModel",
      "state": {
       "children": [
        "IPY_MODEL_6aa8069a5a104f9697c088778485c137",
        "IPY_MODEL_87d01673d13c45a0b0a87085c5b24aa2",
        "IPY_MODEL_eaa8c7d681ae4580861ed77d052681ab"
       ],
       "layout": "IPY_MODEL_ee34a215bef944b1b35e281f43e01dfa"
      }
     },
     "e9eec84271d64354a1f2d3976ab5b62b": {
      "model_module": "@jupyter-widgets/controls",
      "model_module_version": "1.5.0",
      "model_name": "HBoxModel",
      "state": {
       "children": [
        "IPY_MODEL_49839df5904d4ac8917a51daefd3abe8",
        "IPY_MODEL_25dbb0d28b3c45608dbdc4e5cf8bf14c",
        "IPY_MODEL_900b860807214b14b4834c372580e309"
       ],
       "layout": "IPY_MODEL_43ac51a30bde46c5947d71d467d0c9ea"
      }
     },
     "ea304fdc111a4dce9fdc7dfcc4ddc7a1": {
      "model_module": "@jupyter-widgets/controls",
      "model_module_version": "1.5.0",
      "model_name": "DescriptionStyleModel",
      "state": {
       "description_width": ""
      }
     },
     "ea6c7ad702344558972b4782ff5f0308": {
      "model_module": "@jupyter-widgets/base",
      "model_module_version": "1.2.0",
      "model_name": "LayoutModel",
      "state": {}
     },
     "ea8213289768497b935b5f5f6c1971de": {
      "model_module": "@jupyter-widgets/base",
      "model_module_version": "1.2.0",
      "model_name": "LayoutModel",
      "state": {}
     },
     "ea90fec966d54f22892645ab6e290955": {
      "model_module": "@jupyter-widgets/controls",
      "model_module_version": "1.5.0",
      "model_name": "DescriptionStyleModel",
      "state": {
       "description_width": ""
      }
     },
     "eaa8c7d681ae4580861ed77d052681ab": {
      "model_module": "@jupyter-widgets/controls",
      "model_module_version": "1.5.0",
      "model_name": "HTMLModel",
      "state": {
       "layout": "IPY_MODEL_e41f31120de34d4ab7c3fb3764167092",
       "style": "IPY_MODEL_d22b71a1aada49d8be76bbbdd4fcdf13",
       "value": " 300/300 [00:33&lt;00:00,  8.00it/s]"
      }
     },
     "ead1759523a64ed2a6aa1ecbb7c27a59": {
      "model_module": "@jupyter-widgets/base",
      "model_module_version": "1.2.0",
      "model_name": "LayoutModel",
      "state": {}
     },
     "eaf2fc9912204d85bafc9405e7261003": {
      "model_module": "@jupyter-widgets/controls",
      "model_module_version": "1.5.0",
      "model_name": "DescriptionStyleModel",
      "state": {
       "description_width": ""
      }
     },
     "eb0a54b4048c4fe8b963bbd612d59979": {
      "model_module": "@jupyter-widgets/base",
      "model_module_version": "1.2.0",
      "model_name": "LayoutModel",
      "state": {}
     },
     "ebdb3d6ee7de4104b9b54ff4468e14c3": {
      "model_module": "@jupyter-widgets/controls",
      "model_module_version": "1.5.0",
      "model_name": "FloatProgressModel",
      "state": {
       "bar_style": "success",
       "layout": "IPY_MODEL_50c2defcb6a846938a1ba7cab6f94f4f",
       "max": 2,
       "style": "IPY_MODEL_e24f3bdfe75945d1b26dede31ff4371b",
       "value": 2
      }
     },
     "ec5096cd36ea4689b3decb039b80252f": {
      "model_module": "@jupyter-widgets/base",
      "model_module_version": "1.2.0",
      "model_name": "LayoutModel",
      "state": {}
     },
     "ec8dcd26ea8e47c9afaea8f2a55cf0b1": {
      "model_module": "@jupyter-widgets/controls",
      "model_module_version": "1.5.0",
      "model_name": "HTMLModel",
      "state": {
       "layout": "IPY_MODEL_225f2d3104bc4b68ae256d0ac01c7bf5",
       "style": "IPY_MODEL_06bc13ba59bd48849815a74db32cbf98",
       "value": "Calculating Conductivity Variance: 100%"
      }
     },
     "ecd4367da0344550a554168c05efa39e": {
      "model_module": "@jupyter-widgets/controls",
      "model_module_version": "1.5.0",
      "model_name": "ProgressStyleModel",
      "state": {
       "description_width": ""
      }
     },
     "ed274c3288cb46f7811acb259674a33f": {
      "model_module": "@jupyter-widgets/controls",
      "model_module_version": "1.5.0",
      "model_name": "HTMLModel",
      "state": {
       "layout": "IPY_MODEL_5b5b5da6ff0c44158b79e47743c45b5e",
       "style": "IPY_MODEL_19f45bc10b4e48efb38c9cd7564dbe99",
       "value": "Iterating Through Selections: 100%"
      }
     },
     "ed4129cbe70b4fef960512bf4cae8e9d": {
      "model_module": "@jupyter-widgets/base",
      "model_module_version": "1.2.0",
      "model_name": "LayoutModel",
      "state": {}
     },
     "ed62148b01894421a35cdab45f40b406": {
      "model_module": "@jupyter-widgets/controls",
      "model_module_version": "1.5.0",
      "model_name": "ProgressStyleModel",
      "state": {
       "description_width": ""
      }
     },
     "ed9fa8a5e6804ed6b741cc42dfb4595e": {
      "model_module": "@jupyter-widgets/controls",
      "model_module_version": "1.5.0",
      "model_name": "HBoxModel",
      "state": {
       "children": [
        "IPY_MODEL_e86000b337ba43d68832bdac4edded46",
        "IPY_MODEL_ef782494191a4ef5928062aff07f2989",
        "IPY_MODEL_46c7feeccfbb4e45b7a3f4271a95054c"
       ],
       "layout": "IPY_MODEL_88cd0012006d4ff082f5c26e63824f42"
      }
     },
     "edcb4f44e68440d8813951e55b24a8f3": {
      "model_module": "@jupyter-widgets/base",
      "model_module_version": "1.2.0",
      "model_name": "LayoutModel",
      "state": {}
     },
     "eddd42b7d8c04e3696472018c8969284": {
      "model_module": "@jupyter-widgets/controls",
      "model_module_version": "1.5.0",
      "model_name": "ProgressStyleModel",
      "state": {
       "description_width": ""
      }
     },
     "ee18e75116c3494e94132b9a89a6da96": {
      "model_module": "@jupyter-widgets/controls",
      "model_module_version": "1.5.0",
      "model_name": "ProgressStyleModel",
      "state": {
       "description_width": ""
      }
     },
     "ee34a215bef944b1b35e281f43e01dfa": {
      "model_module": "@jupyter-widgets/base",
      "model_module_version": "1.2.0",
      "model_name": "LayoutModel",
      "state": {}
     },
     "ee4f355862484a1684111393bd510226": {
      "model_module": "@jupyter-widgets/controls",
      "model_module_version": "1.5.0",
      "model_name": "HBoxModel",
      "state": {
       "children": [
        "IPY_MODEL_4502ca1460994f4da739e0c85d1e63e6",
        "IPY_MODEL_bd19918ced2e4543bdf85426193ec259",
        "IPY_MODEL_517c282558f6402981517f3a2e3b00e0"
       ],
       "layout": "IPY_MODEL_5060562af2ed48feb8f3ca8997067bd0"
      }
     },
     "eea088ee72d64067bab100d7f03311d6": {
      "model_module": "@jupyter-widgets/base",
      "model_module_version": "1.2.0",
      "model_name": "LayoutModel",
      "state": {}
     },
     "eec17c3ad23e46c4884c5496c767a372": {
      "model_module": "@jupyter-widgets/controls",
      "model_module_version": "1.5.0",
      "model_name": "FloatProgressModel",
      "state": {
       "bar_style": "success",
       "layout": "IPY_MODEL_a0139207433f4969b2152c3ce430dccb",
       "max": 300,
       "style": "IPY_MODEL_da054345c10848048778584bd456c97d",
       "value": 300
      }
     },
     "ef4df727a6384db6a6bc7f0aa5f28e7f": {
      "model_module": "@jupyter-widgets/base",
      "model_module_version": "1.2.0",
      "model_name": "LayoutModel",
      "state": {}
     },
     "ef51b114c1bb47098d525d2101f511d0": {
      "model_module": "@jupyter-widgets/controls",
      "model_module_version": "1.5.0",
      "model_name": "HTMLModel",
      "state": {
       "layout": "IPY_MODEL_03fb2db4913a45d99e8dc1b261f3ecc4",
       "style": "IPY_MODEL_80349bcdd49a4926ba5239f44e3e9929",
       "value": " 10/10 [14:37&lt;00:00, 87.79s/it]"
      }
     },
     "ef6e381323a843819910287330b256c6": {
      "model_module": "@jupyter-widgets/controls",
      "model_module_version": "1.5.0",
      "model_name": "HTMLModel",
      "state": {
       "layout": "IPY_MODEL_f200ab46b56541f6a5f61da39b0e19c7",
       "style": "IPY_MODEL_07bbb66a2ade4d6ea1a11f6717240bac",
       "value": " 2/2 [00:00&lt;00:00, 76.08it/s]"
      }
     },
     "ef782494191a4ef5928062aff07f2989": {
      "model_module": "@jupyter-widgets/controls",
      "model_module_version": "1.5.0",
      "model_name": "FloatProgressModel",
      "state": {
       "bar_style": "success",
       "layout": "IPY_MODEL_69bef650dc0f4760b71bb598b0b2fe1a",
       "max": 2,
       "style": "IPY_MODEL_4b0c7079755a4d01906c12e96a1d34ca",
       "value": 2
      }
     },
     "f039def80f4d4fc386abb1f656e0202e": {
      "model_module": "@jupyter-widgets/controls",
      "model_module_version": "1.5.0",
      "model_name": "FloatProgressModel",
      "state": {
       "bar_style": "success",
       "layout": "IPY_MODEL_b3630af77cd4491c98d0810ed217c4b9",
       "max": 2,
       "style": "IPY_MODEL_5c34f86f623d49849d03594c98116228",
       "value": 2
      }
     },
     "f076ef08ce4a4efb9b05b7ddc2b1c485": {
      "model_module": "@jupyter-widgets/base",
      "model_module_version": "1.2.0",
      "model_name": "LayoutModel",
      "state": {}
     },
     "f0a988d79e6b4c6faea79b495ed6470d": {
      "model_module": "@jupyter-widgets/controls",
      "model_module_version": "1.5.0",
      "model_name": "DescriptionStyleModel",
      "state": {
       "description_width": ""
      }
     },
     "f10b2168265a44a3a0cd676949c1ca69": {
      "model_module": "@jupyter-widgets/controls",
      "model_module_version": "1.5.0",
      "model_name": "DescriptionStyleModel",
      "state": {
       "description_width": ""
      }
     },
     "f12061e262cb47408888eb0aab4b4b4b": {
      "model_module": "@jupyter-widgets/base",
      "model_module_version": "1.2.0",
      "model_name": "LayoutModel",
      "state": {}
     },
     "f13d31adb1464cba93c88e883a136d95": {
      "model_module": "@jupyter-widgets/controls",
      "model_module_version": "1.5.0",
      "model_name": "HTMLModel",
      "state": {
       "layout": "IPY_MODEL_b387a4e1079e438c92d7fa59835d6b7f",
       "style": "IPY_MODEL_b1ed00db88c74f95977ee3e045ce664a",
       "value": "Calculating Conductivity Variance: 100%"
      }
     },
     "f186dec3a78d4eb4a2db4e612c98b475": {
      "model_module": "@jupyter-widgets/base",
      "model_module_version": "1.2.0",
      "model_name": "LayoutModel",
      "state": {}
     },
     "f19524c7927b48f482790ff55745a57f": {
      "model_module": "@jupyter-widgets/controls",
      "model_module_version": "1.5.0",
      "model_name": "DescriptionStyleModel",
      "state": {
       "description_width": ""
      }
     },
     "f200ab46b56541f6a5f61da39b0e19c7": {
      "model_module": "@jupyter-widgets/base",
      "model_module_version": "1.2.0",
      "model_name": "LayoutModel",
      "state": {}
     },
     "f2acdfee965c4178a7f57ca3cd67c1b8": {
      "model_module": "@jupyter-widgets/controls",
      "model_module_version": "1.5.0",
      "model_name": "HBoxModel",
      "state": {
       "children": [
        "IPY_MODEL_12710a96851a4ece91f6f2cdbc2480d0",
        "IPY_MODEL_7c7fc06dad4d4a24ba124d5ecf864174",
        "IPY_MODEL_85fb799abdc0438392438c8713a83c78"
       ],
       "layout": "IPY_MODEL_0aed5892e1844d97a8807319af325ef3"
      }
     },
     "f2d666c0d1a9456e80134b0c04d95bdf": {
      "model_module": "@jupyter-widgets/base",
      "model_module_version": "1.2.0",
      "model_name": "LayoutModel",
      "state": {}
     },
     "f320dbb600eb4a6c8d4dc3fb31cf0948": {
      "model_module": "@jupyter-widgets/controls",
      "model_module_version": "1.5.0",
      "model_name": "DescriptionStyleModel",
      "state": {
       "description_width": ""
      }
     },
     "f353722449ff40579171fec679d219d9": {
      "model_module": "@jupyter-widgets/controls",
      "model_module_version": "1.5.0",
      "model_name": "HTMLModel",
      "state": {
       "layout": "IPY_MODEL_27827ad039a3436683ec23226a7bbd83",
       "style": "IPY_MODEL_e84a90e740944c319bae1ae29b6e4fcb",
       "value": " 2/2 [00:00&lt;00:00, 75.12it/s]"
      }
     },
     "f387efbeff8a49229b1da8a700c4bae3": {
      "model_module": "@jupyter-widgets/base",
      "model_module_version": "1.2.0",
      "model_name": "LayoutModel",
      "state": {}
     },
     "f38f86fa50e54e18833585dc6d23ad69": {
      "model_module": "@jupyter-widgets/base",
      "model_module_version": "1.2.0",
      "model_name": "LayoutModel",
      "state": {}
     },
     "f42aae76bd8941e2a80923e94f9c6f6a": {
      "model_module": "@jupyter-widgets/controls",
      "model_module_version": "1.5.0",
      "model_name": "DescriptionStyleModel",
      "state": {
       "description_width": ""
      }
     },
     "f4a17ed783b34939bf7926a01a83f31f": {
      "model_module": "@jupyter-widgets/controls",
      "model_module_version": "1.5.0",
      "model_name": "ProgressStyleModel",
      "state": {
       "description_width": ""
      }
     },
     "f4f1e343fe0941e9b0c1bce78cf76f15": {
      "model_module": "@jupyter-widgets/controls",
      "model_module_version": "1.5.0",
      "model_name": "DescriptionStyleModel",
      "state": {
       "description_width": ""
      }
     },
     "f56974cbd13349d09dc1222fb1ba388c": {
      "model_module": "@jupyter-widgets/base",
      "model_module_version": "1.2.0",
      "model_name": "LayoutModel",
      "state": {}
     },
     "f5795098189e4902a9613a25b70d8881": {
      "model_module": "@jupyter-widgets/base",
      "model_module_version": "1.2.0",
      "model_name": "LayoutModel",
      "state": {}
     },
     "f5888063cc314bc3b21518840486277a": {
      "model_module": "@jupyter-widgets/base",
      "model_module_version": "1.2.0",
      "model_name": "LayoutModel",
      "state": {}
     },
     "f66c2e09621b4093844448f5efb5e3c3": {
      "model_module": "@jupyter-widgets/base",
      "model_module_version": "1.2.0",
      "model_name": "LayoutModel",
      "state": {}
     },
     "f6800a799e604ae2bc5f33eed9286103": {
      "model_module": "@jupyter-widgets/controls",
      "model_module_version": "1.5.0",
      "model_name": "HBoxModel",
      "state": {
       "children": [
        "IPY_MODEL_e0456098ec4942ebb95cc60e9fc1e9a3",
        "IPY_MODEL_744c9d8d69544d5481d5b77fe0a0d3a3",
        "IPY_MODEL_517d260b8a3f4d2f9cfd87cc3488f5df"
       ],
       "layout": "IPY_MODEL_9009f3c70c25443d8fcc13fa2e393606"
      }
     },
     "f6c67ebe1e534f79a8cac8f27dbc8d41": {
      "model_module": "@jupyter-widgets/base",
      "model_module_version": "1.2.0",
      "model_name": "LayoutModel",
      "state": {}
     },
     "f6d01c566bf442949f40de24279f28c8": {
      "model_module": "@jupyter-widgets/controls",
      "model_module_version": "1.5.0",
      "model_name": "HBoxModel",
      "state": {
       "children": [
        "IPY_MODEL_6c7c6e1a257a413c8eebc913c585460b",
        "IPY_MODEL_e4a592a8a7a747ec85cb532e6d493af5",
        "IPY_MODEL_db81e4ebbbc545b48a694a41f1c42c1f"
       ],
       "layout": "IPY_MODEL_c94b4e6c56b64056b2db273f5dabb733"
      }
     },
     "f728d743b8ac4725ab0c955ca63e7f52": {
      "model_module": "@jupyter-widgets/controls",
      "model_module_version": "1.5.0",
      "model_name": "DescriptionStyleModel",
      "state": {
       "description_width": ""
      }
     },
     "f74077b50bcf4d358489a5bafbaf9712": {
      "model_module": "@jupyter-widgets/controls",
      "model_module_version": "1.5.0",
      "model_name": "HBoxModel",
      "state": {
       "children": [
        "IPY_MODEL_ed274c3288cb46f7811acb259674a33f",
        "IPY_MODEL_09dad9d90e4748bc907aae23024265b1",
        "IPY_MODEL_8729ca4bf75d470a92e9f429f2456395"
       ],
       "layout": "IPY_MODEL_e825a55c2c8e43e4a981028982fa710a"
      }
     },
     "f7530e89651f407ba8730e451289c76c": {
      "model_module": "@jupyter-widgets/controls",
      "model_module_version": "1.5.0",
      "model_name": "HTMLModel",
      "state": {
       "layout": "IPY_MODEL_72e6f5818d034390ab5f35f229496d75",
       "style": "IPY_MODEL_2d7563d2a3e045bab03762989e92189c",
       "value": "Calculating BVSE Variance: 100%"
      }
     },
     "f86560243f014198ac1c77d5ca1dd038": {
      "model_module": "@jupyter-widgets/controls",
      "model_module_version": "1.5.0",
      "model_name": "ProgressStyleModel",
      "state": {
       "description_width": ""
      }
     },
     "f8a96d4cffe04c468a5737aed77070b1": {
      "model_module": "@jupyter-widgets/controls",
      "model_module_version": "1.5.0",
      "model_name": "HTMLModel",
      "state": {
       "layout": "IPY_MODEL_b9c699ea77df4953bcb9c675667422cc",
       "style": "IPY_MODEL_e845daa600e444b89a2492aa6e39ede5",
       "value": " 2/2 [02:46&lt;00:00, 83.31s/it]"
      }
     },
     "f91a3d52fd024a27a7111cca4068322e": {
      "model_module": "@jupyter-widgets/base",
      "model_module_version": "1.2.0",
      "model_name": "LayoutModel",
      "state": {}
     },
     "f9443eed1c3c4834a58ff954e6fc8f9f": {
      "model_module": "@jupyter-widgets/base",
      "model_module_version": "1.2.0",
      "model_name": "LayoutModel",
      "state": {}
     },
     "fa04a46a61f842d8865774146a459daa": {
      "model_module": "@jupyter-widgets/controls",
      "model_module_version": "1.5.0",
      "model_name": "DescriptionStyleModel",
      "state": {
       "description_width": ""
      }
     },
     "fa56d4d892ea4bc5ac689782c5db5d9e": {
      "model_module": "@jupyter-widgets/controls",
      "model_module_version": "1.5.0",
      "model_name": "FloatProgressModel",
      "state": {
       "bar_style": "success",
       "layout": "IPY_MODEL_e91ccc9cc30a4384b078be1130effb6c",
       "max": 2,
       "style": "IPY_MODEL_52478b54d51e4b54a9fd875af8ea7953",
       "value": 2
      }
     },
     "fb335c5527c24289b8bbbaf94335d757": {
      "model_module": "@jupyter-widgets/controls",
      "model_module_version": "1.5.0",
      "model_name": "ProgressStyleModel",
      "state": {
       "description_width": ""
      }
     },
     "fb73ab56eb024783802a694d9b78cfa6": {
      "model_module": "@jupyter-widgets/controls",
      "model_module_version": "1.5.0",
      "model_name": "DescriptionStyleModel",
      "state": {
       "description_width": ""
      }
     },
     "fb816e0b5a244dc1ad432a4ca33c6dd9": {
      "model_module": "@jupyter-widgets/base",
      "model_module_version": "1.2.0",
      "model_name": "LayoutModel",
      "state": {}
     },
     "fb9b18a860974ab6b7c58adbb8dd2e64": {
      "model_module": "@jupyter-widgets/controls",
      "model_module_version": "1.5.0",
      "model_name": "DescriptionStyleModel",
      "state": {
       "description_width": ""
      }
     },
     "fc44ae4f6c5b4b5cad1fb8e21d29713f": {
      "model_module": "@jupyter-widgets/base",
      "model_module_version": "1.2.0",
      "model_name": "LayoutModel",
      "state": {}
     },
     "fc76b9f5eb85439881762a13f457d02b": {
      "model_module": "@jupyter-widgets/controls",
      "model_module_version": "1.5.0",
      "model_name": "FloatProgressModel",
      "state": {
       "bar_style": "success",
       "layout": "IPY_MODEL_031009fca0b04a61b44a1a5af82958ff",
       "max": 300,
       "style": "IPY_MODEL_e3ff0306548a47d8a8a4ca309615d4a4",
       "value": 300
      }
     },
     "fcc7e09b10ac413583032fec58cbceb0": {
      "model_module": "@jupyter-widgets/controls",
      "model_module_version": "1.5.0",
      "model_name": "FloatProgressModel",
      "state": {
       "bar_style": "success",
       "layout": "IPY_MODEL_6977bc5bb0f94f1b885bdaba3d0ccf65",
       "max": 300,
       "style": "IPY_MODEL_ffcf02a79799494aa9c2ff12e1237b4a",
       "value": 300
      }
     },
     "fce9d587f4f54e2a98dc5d1facb03f69": {
      "model_module": "@jupyter-widgets/controls",
      "model_module_version": "1.5.0",
      "model_name": "DescriptionStyleModel",
      "state": {
       "description_width": ""
      }
     },
     "fd42c138566e4f1aa9e938197286d8d3": {
      "model_module": "@jupyter-widgets/controls",
      "model_module_version": "1.5.0",
      "model_name": "HTMLModel",
      "state": {
       "layout": "IPY_MODEL_8df5bfd972c94473be485266fe7c9921",
       "style": "IPY_MODEL_2b234edb19de44cb8791461a9639a20c",
       "value": "Calculating Conductivity Variance: 100%"
      }
     },
     "fd6741e0b02f4327b8f237ab262fb403": {
      "model_module": "@jupyter-widgets/controls",
      "model_module_version": "1.5.0",
      "model_name": "DescriptionStyleModel",
      "state": {
       "description_width": ""
      }
     },
     "fd895069478a4f0b9efc45e22d0db342": {
      "model_module": "@jupyter-widgets/controls",
      "model_module_version": "1.5.0",
      "model_name": "FloatProgressModel",
      "state": {
       "bar_style": "success",
       "layout": "IPY_MODEL_14a00cd6e74846ef8765300183bfb706",
       "max": 300,
       "style": "IPY_MODEL_aa2e4d9eb4d04e609d23b41a80151555",
       "value": 300
      }
     },
     "fde7740a09eb457da6c424a1816bd282": {
      "model_module": "@jupyter-widgets/base",
      "model_module_version": "1.2.0",
      "model_name": "LayoutModel",
      "state": {}
     },
     "fdec86e9a6b44d6baf0a6abd7dc8b894": {
      "model_module": "@jupyter-widgets/base",
      "model_module_version": "1.2.0",
      "model_name": "LayoutModel",
      "state": {}
     },
     "fdffcdb9b1e54d618a9895ab1ef44043": {
      "model_module": "@jupyter-widgets/controls",
      "model_module_version": "1.5.0",
      "model_name": "FloatProgressModel",
      "state": {
       "bar_style": "success",
       "layout": "IPY_MODEL_4010f5e1972e4cdd85ae5bbadd6d789a",
       "max": 300,
       "style": "IPY_MODEL_5da9fc9c93d147eba22eedd1b8f5e785",
       "value": 300
      }
     },
     "fe0b12a3147b41a2a9c306c89b1d3176": {
      "model_module": "@jupyter-widgets/base",
      "model_module_version": "1.2.0",
      "model_name": "LayoutModel",
      "state": {}
     },
     "fe1b2c69ea164f749780595ce3955415": {
      "model_module": "@jupyter-widgets/base",
      "model_module_version": "1.2.0",
      "model_name": "LayoutModel",
      "state": {}
     },
     "fe7556126a1c44e696aa813ece22f9b7": {
      "model_module": "@jupyter-widgets/controls",
      "model_module_version": "1.5.0",
      "model_name": "DescriptionStyleModel",
      "state": {
       "description_width": ""
      }
     },
     "fef349ff4b2d448690eb9eb5fa3f333f": {
      "model_module": "@jupyter-widgets/base",
      "model_module_version": "1.2.0",
      "model_name": "LayoutModel",
      "state": {}
     },
     "ff2d1a8576b54a6baf9ba20cea601f1c": {
      "model_module": "@jupyter-widgets/base",
      "model_module_version": "1.2.0",
      "model_name": "LayoutModel",
      "state": {}
     },
     "ff354ac1558845de86c99a825e61316b": {
      "model_module": "@jupyter-widgets/controls",
      "model_module_version": "1.5.0",
      "model_name": "HTMLModel",
      "state": {
       "layout": "IPY_MODEL_cf44e7e03936400abd33bcdc071e4d53",
       "style": "IPY_MODEL_05be181c90214425a4dd038e8d24bb5c",
       "value": "Calculating BVSE Variance: 100%"
      }
     },
     "ff382955ca15451996e55a81e4a23cb1": {
      "model_module": "@jupyter-widgets/base",
      "model_module_version": "1.2.0",
      "model_name": "LayoutModel",
      "state": {}
     },
     "ff929fa0ecb14e43bebc939c5d69dc74": {
      "model_module": "@jupyter-widgets/controls",
      "model_module_version": "1.5.0",
      "model_name": "FloatProgressModel",
      "state": {
       "bar_style": "success",
       "layout": "IPY_MODEL_1920c6a299dd46febd6bf1768b6c20dd",
       "max": 300,
       "style": "IPY_MODEL_80ed84efd6274966be9fb0e7c61d7c5d",
       "value": 300
      }
     },
     "ffa71ede1795408f8ff3afe40938dcc1": {
      "model_module": "@jupyter-widgets/base",
      "model_module_version": "1.2.0",
      "model_name": "LayoutModel",
      "state": {}
     },
     "ffcf02a79799494aa9c2ff12e1237b4a": {
      "model_module": "@jupyter-widgets/controls",
      "model_module_version": "1.5.0",
      "model_name": "ProgressStyleModel",
      "state": {
       "description_width": ""
      }
     },
     "fff4a8e89bfc437aaa636a65d3aed352": {
      "model_module": "@jupyter-widgets/controls",
      "model_module_version": "1.5.0",
      "model_name": "DescriptionStyleModel",
      "state": {
       "description_width": ""
      }
     },
     "fff7dab5ecc64621b945f4cf9cb85ead": {
      "model_module": "@jupyter-widgets/base",
      "model_module_version": "1.2.0",
      "model_name": "LayoutModel",
      "state": {}
     }
    },
    "version_major": 2,
    "version_minor": 0
   }
  }
 },
 "nbformat": 4,
 "nbformat_minor": 4
}
