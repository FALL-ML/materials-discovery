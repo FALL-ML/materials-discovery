{
 "cells": [
  {
   "cell_type": "markdown",
   "metadata": {},
   "source": [
    "### Imported Libraries"
   ]
  },
  {
   "cell_type": "code",
   "execution_count": 1,
   "metadata": {},
   "outputs": [],
   "source": [
    "import os\n",
    "import math\n",
    "import pickle\n",
    "import numpy as np\n",
    "import pandas as pd\n",
    "from os import listdir\n",
    "from os.path import isfile, join\n",
    "\n",
    "import pymatgen as mg\n",
    "from pymatgen import MPRester\n",
    "from pymatgen.io.cif import CifParser\n",
    "from pymatgen.io import ase\n",
    "from pymatgen.transformations.standard_transformations import OxidationStateDecorationTransformation\n",
    "from pymatgen.transformations.standard_transformations import AutoOxiStateDecorationTransformation\n",
    "from pymatgen.symmetry.groups import *\n",
    "from pymatgen.symmetry.analyzer import SpacegroupAnalyzer\n",
    "\n",
    "from ase import atoms\n",
    "from ase.io import read, write\n",
    "\n",
    "from pprint import pprint\n",
    "from tqdm import notebook as tqdm\n",
    "from tqdm.auto import tqdm as tqdm_pandas\n",
    "tqdm_pandas.pandas()\n",
    "# import swifter"
   ]
  },
  {
   "cell_type": "markdown",
   "metadata": {},
   "source": [
    "### API KEY for Materials Project\n",
    "\n",
    "__To run the notebook, a Materials Project API key is required!__ API keys can be generated [here](https://materialsproject.org/open)."
   ]
  },
  {
   "cell_type": "code",
   "execution_count": 2,
   "metadata": {},
   "outputs": [],
   "source": [
    "mpr = MPRester(api_key='insert_key')"
   ]
  },
  {
   "cell_type": "markdown",
   "metadata": {},
   "source": [
    "### 1a. Read in all Li-containing compounds from Materials Project\n",
    "Operations come from mongodb. The syntax can be found [here](https://docs.mongodb.com/manual/reference/operator/query/).\n",
    "\n",
    "Queryable parameters from Materials Project can be found [here](https://materialsproject.org/docs/api)."
   ]
  },
  {
   "cell_type": "code",
   "execution_count": 3,
   "metadata": {},
   "outputs": [
    {
     "data": {
      "application/vnd.jupyter.widget-view+json": {
       "model_id": "5be4b1cdf2c44744b3336b419bc98c4d",
       "version_major": 2,
       "version_minor": 0
      },
      "text/plain": [
       "  0%|          | 0/19472 [00:00<?, ?it/s]"
      ]
     },
     "metadata": {},
     "output_type": "display_data"
    }
   ],
   "source": [
    "data = mpr.query(criteria={\"elements\": {\"$in\": [\"Li\"]}, \"nelements\": {\"$gte\": 2}}, \n",
    "               properties=[\"icsd_ids\", \"cif\", \"material_id\", \"pretty_formula\", \"spacegroup.symbol\", \"structure\", \"band_gap\", \"e_above_hull\"])"
   ]
  },
  {
   "cell_type": "markdown",
   "metadata": {},
   "source": [
    "The MPRester query returns a list of dictionaries, where each dictionary contains the properties of interest. Most of the data cleaning can be handled using the [Python Materials Genomics (pymatgen) library](https://pymatgen.org/). However, some operations are more conveniently accomplished via the [Atomic Simulation Environment (ASE)](https://wiki.fysik.dtu.dk/ase/index.html). We'll make a redundant list which contains the structures as [ase.atoms.Atoms](https://wiki.fysik.dtu.dk/ase/ase/atoms.html) type.  "
   ]
  },
  {
   "cell_type": "code",
   "execution_count": 4,
   "metadata": {},
   "outputs": [
    {
     "data": {
      "application/vnd.jupyter.widget-view+json": {
       "model_id": "53750720a38c4daabe736c4a9db9783a",
       "version_major": 2,
       "version_minor": 0
      },
      "text/plain": [
       "  0%|          | 0/19472 [00:00<?, ?it/s]"
      ]
     },
     "metadata": {},
     "output_type": "display_data"
    }
   ],
   "source": [
    "AAA = ase.AseAtomsAdaptor\n",
    "pymatgen_structures = []\n",
    "ase_structures = []\n",
    "\n",
    "for material in tqdm.tqdm(data):\n",
    "    pymatgen_structures.append((material[\"structure\"], material[\"icsd_ids\"], material[\"material_id\"], material[\"pretty_formula\"], material[\"spacegroup.symbol\"], material[\"band_gap\"], material[\"e_above_hull\"]))\n",
    "    ase_structures.append(AAA.get_atoms(material[\"structure\"])) "
   ]
  },
  {
   "cell_type": "markdown",
   "metadata": {},
   "source": [
    "### 1b. Read in all Li-containing compounds from ICSD\n",
    "The ICSD Li-containing .cif files are contained in a seperate folder. Due to copyright, the cifs themselves are not shared in this data repository. The cifs have already been ordered using Pymatgen. Due to computational resources, about 10% of the cifs could not be ordered. "
   ]
  },
  {
   "cell_type": "code",
   "execution_count": null,
   "metadata": {},
   "outputs": [],
   "source": [
    "path = os.path.join(os.getcwd(), 'Li_Cifs_folder')\n",
    "\n",
    "# keep track of any errors here\n",
    "errors = []\n",
    "\n",
    "# all files in the directory are .cifs\n",
    "for filename in tqdm.tqdm(os.listdir(path)):\n",
    "    filepath = os.path.join(path, filename)\n",
    "    try: \n",
    "        # the ICSD tag is being grabbed with filename[:-4]\n",
    "        pymatgen_structures.append((CifParser(filepath).get_structures()[0], [int(filename[:-4])]))\n",
    "        ase_structures.append(read(filepath))\n",
    "    except:\n",
    "        errors.append(filepath)"
   ]
  },
  {
   "cell_type": "markdown",
   "metadata": {},
   "source": [
    "Remove files with errors after manually checking them. "
   ]
  },
  {
   "cell_type": "code",
   "execution_count": 6,
   "metadata": {},
   "outputs": [],
   "source": [
    "for item in errors[1:]:\n",
    "    os.remove(item)"
   ]
  },
  {
   "cell_type": "markdown",
   "metadata": {},
   "source": [
    "Check that the pymatgen_structures and ase_structures lists contain the same number of structures. "
   ]
  },
  {
   "cell_type": "code",
   "execution_count": 7,
   "metadata": {},
   "outputs": [
    {
     "data": {
      "text/plain": [
       "True"
      ]
     },
     "execution_count": 7,
     "metadata": {},
     "output_type": "execute_result"
    }
   ],
   "source": [
    "len(pymatgen_structures)==len(ase_structures)"
   ]
  },
  {
   "cell_type": "markdown",
   "metadata": {},
   "source": [
    "### 1c. Find all dupliciate ICSD IDs and Merge\n",
    "\n",
    "Some of the Materials Project entries point to ICSD IDs. To avoid having duplicate data, we'll find these IDs and merge them. The latest duplicate will become the master because this ensures that ICSD data (experimental) is conserved. "
   ]
  },
  {
   "cell_type": "code",
   "execution_count": 9,
   "metadata": {},
   "outputs": [
    {
     "data": {
      "application/vnd.jupyter.widget-view+json": {
       "model_id": "27c122920ed1432b8d667ea36816f756",
       "version_major": 2,
       "version_minor": 0
      },
      "text/plain": [
       "Finding duplicate ICSD_IDs:   0%|          | 0/27377 [00:00<?, ?it/s]"
      ]
     },
     "metadata": {},
     "output_type": "display_data"
    },
    {
     "name": "stdout",
     "output_type": "stream",
     "text": [
      "There are 3099 entries marked for deletion.\n"
     ]
    }
   ],
   "source": [
    "# list for IDs that will be deleted\n",
    "deletion_list = []\n",
    "# list for mapping the ICSD_IDs from Materials Project to those from the ICSD\n",
    "mapping_IDs = []\n",
    "\n",
    "# Loop over all the structures in pymatgen_structures\n",
    "for idx, val in enumerate(tqdm.tqdm(pymatgen_structures, desc='Finding duplicate ICSD_IDs')):\n",
    "    # Check all the ICSD IDs for each structures - there can and often are multiple listed IDs\n",
    "    for item in val[1]:\n",
    "        # Loop over all structures in pymatgen_structures\n",
    "        for edx, val2 in enumerate(pymatgen_structures):\n",
    "            # if the ICSD ID is in the list\n",
    "            if item in val2[1]:\n",
    "                # if the ICSD ID is a later entry then mark the earlier entry for deletion\n",
    "                if edx > idx:\n",
    "                    # mark the earlier entry for deletion\n",
    "                    deletion_list.append(idx)\n",
    "                    \n",
    "                    # preserve the associated Materials Project values in the mapping_IDs list\n",
    "                    # these vals are just the locations for ICSD_ID, MP_ID, spacegroup, bandgap, and Ehull\n",
    "                    mapping_IDs.append((val[1], val[2], val[4], val[5], val[6]))\n",
    "\n",
    "\n",
    "print('There are {} entries marked for deletion.'.format(len(deletion_list)))"
   ]
  },
  {
   "cell_type": "markdown",
   "metadata": {},
   "source": [
    "### 1d. Mark some additional boundary cases for deletion"
   ]
  },
  {
   "cell_type": "markdown",
   "metadata": {},
   "source": [
    "Structures that contain deuterium are not of interest. Find and mark for deletion. "
   ]
  },
  {
   "cell_type": "code",
   "execution_count": 10,
   "metadata": {},
   "outputs": [
    {
     "data": {
      "application/vnd.jupyter.widget-view+json": {
       "model_id": "8329d879f3bd481b9ffc3a66c7280969",
       "version_major": 2,
       "version_minor": 0
      },
      "text/plain": [
       "Check for deuterium:   0%|          | 0/27377 [00:00<?, ?it/s]"
      ]
     },
     "metadata": {},
     "output_type": "display_data"
    },
    {
     "name": "stdout",
     "output_type": "stream",
     "text": [
      "There are 91 entries that contain deuterium.\n"
     ]
    }
   ],
   "source": [
    "deuterium_containing = 0\n",
    "for idx, val in enumerate(tqdm.tqdm(pymatgen_structures, desc='Check for deuterium')):\n",
    "    for element in val[0].symbol_set:\n",
    "        if element == 'D':\n",
    "            deletion_list.append(idx)\n",
    "            deuterium_containing+=1\n",
    "            \n",
    "print('There are {} entries that contain deuterium.'.format(deuterium_containing))"
   ]
  },
  {
   "cell_type": "markdown",
   "metadata": {},
   "source": [
    "Structures with over 500 distinct lattice positions would be very difficult to work with. Mark for deletion. "
   ]
  },
  {
   "cell_type": "code",
   "execution_count": 11,
   "metadata": {},
   "outputs": [
    {
     "data": {
      "application/vnd.jupyter.widget-view+json": {
       "model_id": "7dcfd6e7a2734a40b8015833b287d4b4",
       "version_major": 2,
       "version_minor": 0
      },
      "text/plain": [
       "Checking for structures with over 500 sites:   0%|          | 0/27377 [00:00<?, ?it/s]"
      ]
     },
     "metadata": {},
     "output_type": "display_data"
    },
    {
     "name": "stdout",
     "output_type": "stream",
     "text": [
      "There are 20 structures with >500 atoms\n"
     ]
    }
   ],
   "source": [
    "greater_than_500 = 0\n",
    "for idx, structure in enumerate(tqdm.tqdm(ase_structures, desc='Checking for structures with over 500 sites')):\n",
    "    if structure.get_global_number_of_atoms() > 500:\n",
    "        greater_than_500 += 1\n",
    "        deletion_list.append(idx)\n",
    "\n",
    "print(\"There are {} structures with >500 atoms\".format(greater_than_500))"
   ]
  },
  {
   "cell_type": "markdown",
   "metadata": {},
   "source": [
    "Special case deletion: The structure $Li_7C_{120}$ (mp-1223102) throws errors. We'll just manually delete it. "
   ]
  },
  {
   "cell_type": "code",
   "execution_count": 12,
   "metadata": {},
   "outputs": [
    {
     "data": {
      "application/vnd.jupyter.widget-view+json": {
       "model_id": "8743d5291e1447f3924053d52435c7ed",
       "version_major": 2,
       "version_minor": 0
      },
      "text/plain": [
       "Checking for mp-1223102:   0%|          | 0/27377 [00:00<?, ?it/s]"
      ]
     },
     "metadata": {},
     "output_type": "display_data"
    },
    {
     "name": "stdout",
     "output_type": "stream",
     "text": [
      "Structure mp-1223102 is at index 237.\n"
     ]
    }
   ],
   "source": [
    "for idx, structure in enumerate(tqdm.tqdm(pymatgen_structures, desc='Checking for mp-1223102')):\n",
    "    try:\n",
    "        if structure[2] == 'mp-1223102':\n",
    "            print(\"Structure mp-1223102 is at index {}.\".format(idx))\n",
    "            deletion_list.append(idx)\n",
    "    except:\n",
    "        pass"
   ]
  },
  {
   "cell_type": "markdown",
   "metadata": {},
   "source": [
    "### 1e. Remove unwanted structures. Keep list of deleted structures for later. "
   ]
  },
  {
   "cell_type": "code",
   "execution_count": 13,
   "metadata": {},
   "outputs": [],
   "source": [
    "deleted_structures = [value for index, value in enumerate(pymatgen_structures) if index in deletion_list]\n",
    "pymatgen_structures_sanitized = [value for index, value in enumerate(pymatgen_structures) if index not in deletion_list]\n",
    "ase_structures_sanitized = [value for index, value in enumerate(ase_structures) if index not in deletion_list]"
   ]
  },
  {
   "cell_type": "markdown",
   "metadata": {},
   "source": [
    "Check that the new lists are equivalent in length:"
   ]
  },
  {
   "cell_type": "code",
   "execution_count": 14,
   "metadata": {},
   "outputs": [
    {
     "name": "stdout",
     "output_type": "stream",
     "text": [
      "pymatgen_structures_sanitized and ase_structures_sanitized are equivalent length check: True\n",
      "There are a total of 25291 structures.\n"
     ]
    }
   ],
   "source": [
    "print(\"pymatgen_structures_sanitized and ase_structures_sanitized are equivalent length check:\", len(pymatgen_structures_sanitized) == len(ase_structures_sanitized))\n",
    "print(\"There are a total of {} structures.\".format(len(pymatgen_structures_sanitized)))"
   ]
  },
  {
   "cell_type": "markdown",
   "metadata": {},
   "source": [
    "### 1f. Reformat the sanitized lists into a composite dataframe (structures_df)"
   ]
  },
  {
   "cell_type": "code",
   "execution_count": 15,
   "metadata": {},
   "outputs": [],
   "source": [
    "structures_df = pd.DataFrame(pymatgen_structures_sanitized)\n",
    "structures_df.columns = ['structure','ICSD_ID', 'MP_ID', 'pretty_formula', 'spacegroup', 'bandgap', 'e_hull']\n",
    "structures_df['ase_structure'] = ase_structures_sanitized\n",
    "structures_df['composition'] = None\n",
    "structures_df['replacement'] = None\n",
    "\n",
    "# grab the output of the formula function and store it in the 'composition' column\n",
    "structures_df.composition = structures_df.structure.map(lambda x: x.formula)\n",
    "structures_df.ICSD_ID = structures_df.ICSD_ID.map(lambda x: int(x[0]) if (len(x)>0) else 0)"
   ]
  },
  {
   "cell_type": "code",
   "execution_count": 16,
   "metadata": {},
   "outputs": [
    {
     "data": {
      "text/html": [
       "<div>\n",
       "<style scoped>\n",
       "    .dataframe tbody tr th:only-of-type {\n",
       "        vertical-align: middle;\n",
       "    }\n",
       "\n",
       "    .dataframe tbody tr th {\n",
       "        vertical-align: top;\n",
       "    }\n",
       "\n",
       "    .dataframe thead th {\n",
       "        text-align: right;\n",
       "    }\n",
       "</style>\n",
       "<table border=\"1\" class=\"dataframe\">\n",
       "  <thead>\n",
       "    <tr style=\"text-align: right;\">\n",
       "      <th></th>\n",
       "      <th>structure</th>\n",
       "      <th>ICSD_ID</th>\n",
       "      <th>MP_ID</th>\n",
       "      <th>pretty_formula</th>\n",
       "      <th>spacegroup</th>\n",
       "      <th>bandgap</th>\n",
       "      <th>e_hull</th>\n",
       "      <th>ase_structure</th>\n",
       "      <th>composition</th>\n",
       "      <th>replacement</th>\n",
       "    </tr>\n",
       "  </thead>\n",
       "  <tbody>\n",
       "    <tr>\n",
       "      <th>0</th>\n",
       "      <td>[[0.        0.        2.6255595] Li, [0.      ...</td>\n",
       "      <td>180565</td>\n",
       "      <td>mp-1001790</td>\n",
       "      <td>LiO3</td>\n",
       "      <td>Imm2</td>\n",
       "      <td>0.0854</td>\n",
       "      <td>0.225420</td>\n",
       "      <td>(Atom('Li', [0.0, 0.0, 2.6255594986], index=0)...</td>\n",
       "      <td>Li1 O3</td>\n",
       "      <td>None</td>\n",
       "    </tr>\n",
       "    <tr>\n",
       "      <th>1</th>\n",
       "      <td>[[2.79072525 1.34013453 0.79373764] Li, [0.930...</td>\n",
       "      <td>188829</td>\n",
       "      <td>mp-1001825</td>\n",
       "      <td>LiBe</td>\n",
       "      <td>P2_1/m</td>\n",
       "      <td>0.0000</td>\n",
       "      <td>0.166972</td>\n",
       "      <td>(Atom('Li', [2.79072525, 1.34013452726, 0.7937...</td>\n",
       "      <td>Li2 Be2</td>\n",
       "      <td>None</td>\n",
       "    </tr>\n",
       "    <tr>\n",
       "      <th>2</th>\n",
       "      <td>[[2.412716 2.412716 2.412716] Li, [3.619074 3....</td>\n",
       "      <td>236959</td>\n",
       "      <td>mp-1001831</td>\n",
       "      <td>LiB</td>\n",
       "      <td>Fd-3m</td>\n",
       "      <td>1.4331</td>\n",
       "      <td>0.386054</td>\n",
       "      <td>(Atom('Li', [2.412716, 2.412716, 2.412716], in...</td>\n",
       "      <td>Li2 B2</td>\n",
       "      <td>None</td>\n",
       "    </tr>\n",
       "    <tr>\n",
       "      <th>3</th>\n",
       "      <td>[[0. 0. 0.] Li, [1.2797665 1.2797665 1.2797665...</td>\n",
       "      <td>184904</td>\n",
       "      <td>mp-1009009</td>\n",
       "      <td>LiF</td>\n",
       "      <td>Pm-3m</td>\n",
       "      <td>7.5195</td>\n",
       "      <td>0.287542</td>\n",
       "      <td>(Atom('Li', [0.0, 0.0, 0.0], index=0), Atom('F...</td>\n",
       "      <td>Li1 F1</td>\n",
       "      <td>None</td>\n",
       "    </tr>\n",
       "    <tr>\n",
       "      <th>4</th>\n",
       "      <td>[[1.4805505 1.9928345 2.448045 ] Li, [0. 0. 0....</td>\n",
       "      <td>180561</td>\n",
       "      <td>mp-1018789</td>\n",
       "      <td>LiO2</td>\n",
       "      <td>Pnnm</td>\n",
       "      <td>0.0000</td>\n",
       "      <td>0.084218</td>\n",
       "      <td>(Atom('Li', [1.4805505, 1.9928345, 2.448045], ...</td>\n",
       "      <td>Li2 O4</td>\n",
       "      <td>None</td>\n",
       "    </tr>\n",
       "    <tr>\n",
       "      <th>5</th>\n",
       "      <td>[[2.117169   1.22235078 2.00965125] Li, [ 2.11...</td>\n",
       "      <td>0</td>\n",
       "      <td>mp-1025406</td>\n",
       "      <td>LiP3</td>\n",
       "      <td>P6_3/mmc</td>\n",
       "      <td>0.0000</td>\n",
       "      <td>0.656358</td>\n",
       "      <td>(Atom('Li', [2.117169, 1.22235077803, 2.009651...</td>\n",
       "      <td>Li2 P6</td>\n",
       "      <td>None</td>\n",
       "    </tr>\n",
       "    <tr>\n",
       "      <th>6</th>\n",
       "      <td>[[ 2.387422   -1.37838176  3.43392642] Li, [2....</td>\n",
       "      <td>639879</td>\n",
       "      <td>mp-1079408</td>\n",
       "      <td>Li5In4</td>\n",
       "      <td>P-3m1</td>\n",
       "      <td>0.0000</td>\n",
       "      <td>0.000000</td>\n",
       "      <td>(Atom('Li', [2.387422, -1.3783817567580003, 3....</td>\n",
       "      <td>Li5 In4</td>\n",
       "      <td>None</td>\n",
       "    </tr>\n",
       "    <tr>\n",
       "      <th>7</th>\n",
       "      <td>[[4.8016225 0.        1.323284 ] Li, [2.655815...</td>\n",
       "      <td>0</td>\n",
       "      <td>mp-1094129</td>\n",
       "      <td>LiO2</td>\n",
       "      <td>R-3m</td>\n",
       "      <td>0.0733</td>\n",
       "      <td>0.572424</td>\n",
       "      <td>(Atom('Li', [4.801622500000001, 0.0, 1.323284]...</td>\n",
       "      <td>Li1 O2</td>\n",
       "      <td>None</td>\n",
       "    </tr>\n",
       "    <tr>\n",
       "      <th>8</th>\n",
       "      <td>[[ 2.736541   -1.57994549  2.491208  ] Li, [2....</td>\n",
       "      <td>0</td>\n",
       "      <td>mp-1094156</td>\n",
       "      <td>LiMg2</td>\n",
       "      <td>P-62m</td>\n",
       "      <td>0.0000</td>\n",
       "      <td>0.026255</td>\n",
       "      <td>(Atom('Li', [2.736541, -1.5799454932180002, 2....</td>\n",
       "      <td>Li2 Mg4</td>\n",
       "      <td>None</td>\n",
       "    </tr>\n",
       "    <tr>\n",
       "      <th>9</th>\n",
       "      <td>[[0.       0.       4.496241] Li, [2.119593  0...</td>\n",
       "      <td>0</td>\n",
       "      <td>mp-1094159</td>\n",
       "      <td>Li3Mg</td>\n",
       "      <td>I4/mmm</td>\n",
       "      <td>0.0000</td>\n",
       "      <td>0.003841</td>\n",
       "      <td>(Atom('Li', [0.0, 0.0, 4.496241], index=0), At...</td>\n",
       "      <td>Li3 Mg1</td>\n",
       "      <td>None</td>\n",
       "    </tr>\n",
       "    <tr>\n",
       "      <th>10</th>\n",
       "      <td>[[0.        0.        2.5667245] Li, [1.826521...</td>\n",
       "      <td>0</td>\n",
       "      <td>mp-1094558</td>\n",
       "      <td>LiMg5</td>\n",
       "      <td>P-62m</td>\n",
       "      <td>0.0000</td>\n",
       "      <td>0.019418</td>\n",
       "      <td>(Atom('Li', [0.0, 0.0, 2.5667245], index=0), A...</td>\n",
       "      <td>Li1 Mg5</td>\n",
       "      <td>None</td>\n",
       "    </tr>\n",
       "    <tr>\n",
       "      <th>11</th>\n",
       "      <td>[[1.59983    0.92366451 8.70676583] Li, [ 1.59...</td>\n",
       "      <td>0</td>\n",
       "      <td>mp-1094559</td>\n",
       "      <td>LiMg2</td>\n",
       "      <td>P-3m1</td>\n",
       "      <td>0.0000</td>\n",
       "      <td>0.051963</td>\n",
       "      <td>(Atom('Li', [1.59983, 0.9236645139920001, 8.70...</td>\n",
       "      <td>Li2 Mg4</td>\n",
       "      <td>None</td>\n",
       "    </tr>\n",
       "    <tr>\n",
       "      <th>12</th>\n",
       "      <td>[[ 1.526998  -7.9215424  0.       ] Li, [1.526...</td>\n",
       "      <td>0</td>\n",
       "      <td>mp-1094562</td>\n",
       "      <td>Li2Mg</td>\n",
       "      <td>Amm2</td>\n",
       "      <td>0.0000</td>\n",
       "      <td>0.024521</td>\n",
       "      <td>(Atom('Li', [1.526998, -7.921542402911999, 0.0...</td>\n",
       "      <td>Li4 Mg2</td>\n",
       "      <td>None</td>\n",
       "    </tr>\n",
       "    <tr>\n",
       "      <th>13</th>\n",
       "      <td>[[0. 0. 0.] Li, [0.       0.       4.242211] M...</td>\n",
       "      <td>0</td>\n",
       "      <td>mp-1094567</td>\n",
       "      <td>LiMg3</td>\n",
       "      <td>I4/mmm</td>\n",
       "      <td>0.0000</td>\n",
       "      <td>0.028312</td>\n",
       "      <td>(Atom('Li', [0.0, 0.0, 0.0], index=0), Atom('M...</td>\n",
       "      <td>Li1 Mg3</td>\n",
       "      <td>None</td>\n",
       "    </tr>\n",
       "    <tr>\n",
       "      <th>14</th>\n",
       "      <td>[[0.         8.85639212 3.37469691] Li, [0.   ...</td>\n",
       "      <td>0</td>\n",
       "      <td>mp-1094568</td>\n",
       "      <td>LiMg</td>\n",
       "      <td>C2/m</td>\n",
       "      <td>0.0000</td>\n",
       "      <td>0.020040</td>\n",
       "      <td>(Atom('Li', [0.0, 8.856392119155, 3.3746969053...</td>\n",
       "      <td>Li2 Mg2</td>\n",
       "      <td>None</td>\n",
       "    </tr>\n",
       "    <tr>\n",
       "      <th>15</th>\n",
       "      <td>[[ 1.582137    0.91344916 13.48022537] Li, [ 1...</td>\n",
       "      <td>0</td>\n",
       "      <td>mp-1094569</td>\n",
       "      <td>Li2Mg</td>\n",
       "      <td>P-3m1</td>\n",
       "      <td>0.0000</td>\n",
       "      <td>0.041148</td>\n",
       "      <td>(Atom('Li', [1.582137, 0.9134491602280002, 13....</td>\n",
       "      <td>Li4 Mg2</td>\n",
       "      <td>None</td>\n",
       "    </tr>\n",
       "    <tr>\n",
       "      <th>16</th>\n",
       "      <td>[[-2.28850439  5.352084    1.28575   ] Li, [2....</td>\n",
       "      <td>0</td>\n",
       "      <td>mp-1094570</td>\n",
       "      <td>LiMg2</td>\n",
       "      <td>C2/c</td>\n",
       "      <td>0.0000</td>\n",
       "      <td>0.030459</td>\n",
       "      <td>(Atom('Li', [-2.288504385748, 5.352084, 1.2857...</td>\n",
       "      <td>Li2 Mg4</td>\n",
       "      <td>None</td>\n",
       "    </tr>\n",
       "    <tr>\n",
       "      <th>17</th>\n",
       "      <td>[[1.558185   8.00654443 0.        ] Li, [ 1.55...</td>\n",
       "      <td>0</td>\n",
       "      <td>mp-1094573</td>\n",
       "      <td>LiMg</td>\n",
       "      <td>Amm2</td>\n",
       "      <td>0.0000</td>\n",
       "      <td>0.019559</td>\n",
       "      <td>(Atom('Li', [1.558185, 8.00654442857, 0.0], in...</td>\n",
       "      <td>Li3 Mg3</td>\n",
       "      <td>None</td>\n",
       "    </tr>\n",
       "    <tr>\n",
       "      <th>18</th>\n",
       "      <td>[[1.54773    3.65127232 1.28390625] Li, [ 1.54...</td>\n",
       "      <td>0</td>\n",
       "      <td>mp-1094574</td>\n",
       "      <td>LiMg2</td>\n",
       "      <td>Cmcm</td>\n",
       "      <td>0.0000</td>\n",
       "      <td>0.019709</td>\n",
       "      <td>(Atom('Li', [1.54773, 3.6512723183240006, 1.28...</td>\n",
       "      <td>Li2 Mg4</td>\n",
       "      <td>None</td>\n",
       "    </tr>\n",
       "    <tr>\n",
       "      <th>19</th>\n",
       "      <td>[[ 1.599724  -7.9259922  0.       ] Li, [ 1.59...</td>\n",
       "      <td>0</td>\n",
       "      <td>mp-1094575</td>\n",
       "      <td>LiMg</td>\n",
       "      <td>Amm2</td>\n",
       "      <td>0.0000</td>\n",
       "      <td>0.023633</td>\n",
       "      <td>(Atom('Li', [1.599724, -7.92599220113, 0.0], i...</td>\n",
       "      <td>Li3 Mg3</td>\n",
       "      <td>None</td>\n",
       "    </tr>\n",
       "  </tbody>\n",
       "</table>\n",
       "</div>"
      ],
      "text/plain": [
       "                                            structure  ICSD_ID       MP_ID  \\\n",
       "0   [[0.        0.        2.6255595] Li, [0.      ...   180565  mp-1001790   \n",
       "1   [[2.79072525 1.34013453 0.79373764] Li, [0.930...   188829  mp-1001825   \n",
       "2   [[2.412716 2.412716 2.412716] Li, [3.619074 3....   236959  mp-1001831   \n",
       "3   [[0. 0. 0.] Li, [1.2797665 1.2797665 1.2797665...   184904  mp-1009009   \n",
       "4   [[1.4805505 1.9928345 2.448045 ] Li, [0. 0. 0....   180561  mp-1018789   \n",
       "5   [[2.117169   1.22235078 2.00965125] Li, [ 2.11...        0  mp-1025406   \n",
       "6   [[ 2.387422   -1.37838176  3.43392642] Li, [2....   639879  mp-1079408   \n",
       "7   [[4.8016225 0.        1.323284 ] Li, [2.655815...        0  mp-1094129   \n",
       "8   [[ 2.736541   -1.57994549  2.491208  ] Li, [2....        0  mp-1094156   \n",
       "9   [[0.       0.       4.496241] Li, [2.119593  0...        0  mp-1094159   \n",
       "10  [[0.        0.        2.5667245] Li, [1.826521...        0  mp-1094558   \n",
       "11  [[1.59983    0.92366451 8.70676583] Li, [ 1.59...        0  mp-1094559   \n",
       "12  [[ 1.526998  -7.9215424  0.       ] Li, [1.526...        0  mp-1094562   \n",
       "13  [[0. 0. 0.] Li, [0.       0.       4.242211] M...        0  mp-1094567   \n",
       "14  [[0.         8.85639212 3.37469691] Li, [0.   ...        0  mp-1094568   \n",
       "15  [[ 1.582137    0.91344916 13.48022537] Li, [ 1...        0  mp-1094569   \n",
       "16  [[-2.28850439  5.352084    1.28575   ] Li, [2....        0  mp-1094570   \n",
       "17  [[1.558185   8.00654443 0.        ] Li, [ 1.55...        0  mp-1094573   \n",
       "18  [[1.54773    3.65127232 1.28390625] Li, [ 1.54...        0  mp-1094574   \n",
       "19  [[ 1.599724  -7.9259922  0.       ] Li, [ 1.59...        0  mp-1094575   \n",
       "\n",
       "   pretty_formula spacegroup  bandgap    e_hull  \\\n",
       "0            LiO3       Imm2   0.0854  0.225420   \n",
       "1            LiBe     P2_1/m   0.0000  0.166972   \n",
       "2             LiB      Fd-3m   1.4331  0.386054   \n",
       "3             LiF      Pm-3m   7.5195  0.287542   \n",
       "4            LiO2       Pnnm   0.0000  0.084218   \n",
       "5            LiP3   P6_3/mmc   0.0000  0.656358   \n",
       "6          Li5In4      P-3m1   0.0000  0.000000   \n",
       "7            LiO2       R-3m   0.0733  0.572424   \n",
       "8           LiMg2      P-62m   0.0000  0.026255   \n",
       "9           Li3Mg     I4/mmm   0.0000  0.003841   \n",
       "10          LiMg5      P-62m   0.0000  0.019418   \n",
       "11          LiMg2      P-3m1   0.0000  0.051963   \n",
       "12          Li2Mg       Amm2   0.0000  0.024521   \n",
       "13          LiMg3     I4/mmm   0.0000  0.028312   \n",
       "14           LiMg       C2/m   0.0000  0.020040   \n",
       "15          Li2Mg      P-3m1   0.0000  0.041148   \n",
       "16          LiMg2       C2/c   0.0000  0.030459   \n",
       "17           LiMg       Amm2   0.0000  0.019559   \n",
       "18          LiMg2       Cmcm   0.0000  0.019709   \n",
       "19           LiMg       Amm2   0.0000  0.023633   \n",
       "\n",
       "                                        ase_structure composition replacement  \n",
       "0   (Atom('Li', [0.0, 0.0, 2.6255594986], index=0)...      Li1 O3        None  \n",
       "1   (Atom('Li', [2.79072525, 1.34013452726, 0.7937...     Li2 Be2        None  \n",
       "2   (Atom('Li', [2.412716, 2.412716, 2.412716], in...      Li2 B2        None  \n",
       "3   (Atom('Li', [0.0, 0.0, 0.0], index=0), Atom('F...      Li1 F1        None  \n",
       "4   (Atom('Li', [1.4805505, 1.9928345, 2.448045], ...      Li2 O4        None  \n",
       "5   (Atom('Li', [2.117169, 1.22235077803, 2.009651...      Li2 P6        None  \n",
       "6   (Atom('Li', [2.387422, -1.3783817567580003, 3....     Li5 In4        None  \n",
       "7   (Atom('Li', [4.801622500000001, 0.0, 1.323284]...      Li1 O2        None  \n",
       "8   (Atom('Li', [2.736541, -1.5799454932180002, 2....     Li2 Mg4        None  \n",
       "9   (Atom('Li', [0.0, 0.0, 4.496241], index=0), At...     Li3 Mg1        None  \n",
       "10  (Atom('Li', [0.0, 0.0, 2.5667245], index=0), A...     Li1 Mg5        None  \n",
       "11  (Atom('Li', [1.59983, 0.9236645139920001, 8.70...     Li2 Mg4        None  \n",
       "12  (Atom('Li', [1.526998, -7.921542402911999, 0.0...     Li4 Mg2        None  \n",
       "13  (Atom('Li', [0.0, 0.0, 0.0], index=0), Atom('M...     Li1 Mg3        None  \n",
       "14  (Atom('Li', [0.0, 8.856392119155, 3.3746969053...     Li2 Mg2        None  \n",
       "15  (Atom('Li', [1.582137, 0.9134491602280002, 13....     Li4 Mg2        None  \n",
       "16  (Atom('Li', [-2.288504385748, 5.352084, 1.2857...     Li2 Mg4        None  \n",
       "17  (Atom('Li', [1.558185, 8.00654442857, 0.0], in...     Li3 Mg3        None  \n",
       "18  (Atom('Li', [1.54773, 3.6512723183240006, 1.28...     Li2 Mg4        None  \n",
       "19  (Atom('Li', [1.599724, -7.92599220113, 0.0], i...     Li3 Mg3        None  "
      ]
     },
     "execution_count": 16,
     "metadata": {},
     "output_type": "execute_result"
    }
   ],
   "source": [
    "structures_df.head(20)"
   ]
  },
  {
   "cell_type": "markdown",
   "metadata": {},
   "source": [
    "Label ICSD data with corresponding MP_IDS from the deleted compounds (saved in mapping_IDs)."
   ]
  },
  {
   "cell_type": "code",
   "execution_count": 17,
   "metadata": {},
   "outputs": [
    {
     "data": {
      "application/vnd.jupyter.widget-view+json": {
       "model_id": "1fcd2edb157c41d59debc7ac0b691a0e",
       "version_major": 2,
       "version_minor": 0
      },
      "text/plain": [
       "Label ICSD structures with the corresponding MP ID:   0%|          | 0/3099 [00:00<?, ?it/s]"
      ]
     },
     "metadata": {},
     "output_type": "display_data"
    },
    {
     "name": "stdout",
     "output_type": "stream",
     "text": [
      "Materials project IDs added for 3034 structures.\n"
     ]
    }
   ],
   "source": [
    "# count the number of mapping events\n",
    "count = 0\n",
    "\n",
    "# for each line in the mapping_IDs list\n",
    "for entry in tqdm.tqdm(mapping_IDs, desc='Label ICSD structures with the corresponding MP ID'):\n",
    "    # for each value in the ICSD_IDs column\n",
    "    for idx, value in enumerate(structures_df['ICSD_ID']):\n",
    "        # if the value exists in the list of ICSD_IDs from the mapping_IDs\n",
    "        if value in entry[0]:\n",
    "            # if the structure doesn't already have a Materials Project ID\n",
    "            if structures_df.loc[idx, 'MP_ID'] is None:\n",
    "                structures_df.at[idx, 'MP_ID'] = entry[1]\n",
    "                structures_df.at[idx, 'spacegroup'] = entry[2]\n",
    "                structures_df.at[idx, 'bandgap'] = entry[3]\n",
    "                structures_df.at[idx, 'e_hull'] = entry[4]\n",
    "                count+=1\n",
    "\n",
    "print(\"Materials project IDs added for {} structures.\".format(count))\n",
    "                "
   ]
  },
  {
   "cell_type": "markdown",
   "metadata": {},
   "source": [
    "Add the deleted structures back in as a possible replacment column."
   ]
  },
  {
   "cell_type": "code",
   "execution_count": 18,
   "metadata": {},
   "outputs": [
    {
     "data": {
      "application/vnd.jupyter.widget-view+json": {
       "model_id": "6ed271cb59d64deca679e125d7471028",
       "version_major": 2,
       "version_minor": 0
      },
      "text/plain": [
       "Add deleted structures into a replacement column:   0%|          | 0/25291 [00:00<?, ?it/s]"
      ]
     },
     "metadata": {},
     "output_type": "display_data"
    },
    {
     "name": "stdout",
     "output_type": "stream",
     "text": [
      "3040 deleted structures were added back into the 'replacement' column.\n"
     ]
    }
   ],
   "source": [
    "# count the number of replacment events\n",
    "count = 0\n",
    "\n",
    "# for each value in the ICSD_IDs column\n",
    "for idx, ICSD_value in enumerate(tqdm.tqdm(structures_df['ICSD_ID'], desc='Add deleted structures into a replacement column')):\n",
    "    # for each line in the deleted structures list\n",
    "    for idx_del, deleted_structure in enumerate(deleted_structures):\n",
    "        # if the ICSD value corresponds to a value in the deleted structures ICSD list\n",
    "        if ICSD_value in deleted_structure[1]:\n",
    "            structures_df.at[idx, 'replacement'] = deleted_structure[0]\n",
    "            count+=1\n",
    "            \n",
    "print(\"{} deleted structures were added back into the 'replacement' column.\".format(count))"
   ]
  },
  {
   "cell_type": "code",
   "execution_count": 19,
   "metadata": {},
   "outputs": [
    {
     "data": {
      "text/html": [
       "<div>\n",
       "<style scoped>\n",
       "    .dataframe tbody tr th:only-of-type {\n",
       "        vertical-align: middle;\n",
       "    }\n",
       "\n",
       "    .dataframe tbody tr th {\n",
       "        vertical-align: top;\n",
       "    }\n",
       "\n",
       "    .dataframe thead th {\n",
       "        text-align: right;\n",
       "    }\n",
       "</style>\n",
       "<table border=\"1\" class=\"dataframe\">\n",
       "  <thead>\n",
       "    <tr style=\"text-align: right;\">\n",
       "      <th></th>\n",
       "      <th>structure</th>\n",
       "      <th>ICSD_ID</th>\n",
       "      <th>MP_ID</th>\n",
       "      <th>pretty_formula</th>\n",
       "      <th>spacegroup</th>\n",
       "      <th>bandgap</th>\n",
       "      <th>e_hull</th>\n",
       "      <th>ase_structure</th>\n",
       "      <th>composition</th>\n",
       "      <th>replacement</th>\n",
       "    </tr>\n",
       "  </thead>\n",
       "  <tbody>\n",
       "    <tr>\n",
       "      <th>0</th>\n",
       "      <td>[[0.        0.        2.6255595] Li, [0.      ...</td>\n",
       "      <td>180565</td>\n",
       "      <td>mp-1001790</td>\n",
       "      <td>LiO3</td>\n",
       "      <td>Imm2</td>\n",
       "      <td>0.0854</td>\n",
       "      <td>0.225420</td>\n",
       "      <td>(Atom('Li', [0.0, 0.0, 2.6255594986], index=0)...</td>\n",
       "      <td>Li1 O3</td>\n",
       "      <td>None</td>\n",
       "    </tr>\n",
       "    <tr>\n",
       "      <th>1</th>\n",
       "      <td>[[2.79072525 1.34013453 0.79373764] Li, [0.930...</td>\n",
       "      <td>188829</td>\n",
       "      <td>mp-1001825</td>\n",
       "      <td>LiBe</td>\n",
       "      <td>P2_1/m</td>\n",
       "      <td>0.0000</td>\n",
       "      <td>0.166972</td>\n",
       "      <td>(Atom('Li', [2.79072525, 1.34013452726, 0.7937...</td>\n",
       "      <td>Li2 Be2</td>\n",
       "      <td>None</td>\n",
       "    </tr>\n",
       "    <tr>\n",
       "      <th>2</th>\n",
       "      <td>[[2.412716 2.412716 2.412716] Li, [3.619074 3....</td>\n",
       "      <td>236959</td>\n",
       "      <td>mp-1001831</td>\n",
       "      <td>LiB</td>\n",
       "      <td>Fd-3m</td>\n",
       "      <td>1.4331</td>\n",
       "      <td>0.386054</td>\n",
       "      <td>(Atom('Li', [2.412716, 2.412716, 2.412716], in...</td>\n",
       "      <td>Li2 B2</td>\n",
       "      <td>None</td>\n",
       "    </tr>\n",
       "    <tr>\n",
       "      <th>3</th>\n",
       "      <td>[[0. 0. 0.] Li, [1.2797665 1.2797665 1.2797665...</td>\n",
       "      <td>184904</td>\n",
       "      <td>mp-1009009</td>\n",
       "      <td>LiF</td>\n",
       "      <td>Pm-3m</td>\n",
       "      <td>7.5195</td>\n",
       "      <td>0.287542</td>\n",
       "      <td>(Atom('Li', [0.0, 0.0, 0.0], index=0), Atom('F...</td>\n",
       "      <td>Li1 F1</td>\n",
       "      <td>None</td>\n",
       "    </tr>\n",
       "    <tr>\n",
       "      <th>4</th>\n",
       "      <td>[[1.4805505 1.9928345 2.448045 ] Li, [0. 0. 0....</td>\n",
       "      <td>180561</td>\n",
       "      <td>mp-1018789</td>\n",
       "      <td>LiO2</td>\n",
       "      <td>Pnnm</td>\n",
       "      <td>0.0000</td>\n",
       "      <td>0.084218</td>\n",
       "      <td>(Atom('Li', [1.4805505, 1.9928345, 2.448045], ...</td>\n",
       "      <td>Li2 O4</td>\n",
       "      <td>None</td>\n",
       "    </tr>\n",
       "    <tr>\n",
       "      <th>5</th>\n",
       "      <td>[[2.117169   1.22235078 2.00965125] Li, [ 2.11...</td>\n",
       "      <td>0</td>\n",
       "      <td>mp-1025406</td>\n",
       "      <td>LiP3</td>\n",
       "      <td>P6_3/mmc</td>\n",
       "      <td>0.0000</td>\n",
       "      <td>0.656358</td>\n",
       "      <td>(Atom('Li', [2.117169, 1.22235077803, 2.009651...</td>\n",
       "      <td>Li2 P6</td>\n",
       "      <td>None</td>\n",
       "    </tr>\n",
       "    <tr>\n",
       "      <th>6</th>\n",
       "      <td>[[ 2.387422   -1.37838176  3.43392642] Li, [2....</td>\n",
       "      <td>639879</td>\n",
       "      <td>mp-1079408</td>\n",
       "      <td>Li5In4</td>\n",
       "      <td>P-3m1</td>\n",
       "      <td>0.0000</td>\n",
       "      <td>0.000000</td>\n",
       "      <td>(Atom('Li', [2.387422, -1.3783817567580003, 3....</td>\n",
       "      <td>Li5 In4</td>\n",
       "      <td>None</td>\n",
       "    </tr>\n",
       "    <tr>\n",
       "      <th>7</th>\n",
       "      <td>[[4.8016225 0.        1.323284 ] Li, [2.655815...</td>\n",
       "      <td>0</td>\n",
       "      <td>mp-1094129</td>\n",
       "      <td>LiO2</td>\n",
       "      <td>R-3m</td>\n",
       "      <td>0.0733</td>\n",
       "      <td>0.572424</td>\n",
       "      <td>(Atom('Li', [4.801622500000001, 0.0, 1.323284]...</td>\n",
       "      <td>Li1 O2</td>\n",
       "      <td>None</td>\n",
       "    </tr>\n",
       "    <tr>\n",
       "      <th>8</th>\n",
       "      <td>[[ 2.736541   -1.57994549  2.491208  ] Li, [2....</td>\n",
       "      <td>0</td>\n",
       "      <td>mp-1094156</td>\n",
       "      <td>LiMg2</td>\n",
       "      <td>P-62m</td>\n",
       "      <td>0.0000</td>\n",
       "      <td>0.026255</td>\n",
       "      <td>(Atom('Li', [2.736541, -1.5799454932180002, 2....</td>\n",
       "      <td>Li2 Mg4</td>\n",
       "      <td>None</td>\n",
       "    </tr>\n",
       "    <tr>\n",
       "      <th>9</th>\n",
       "      <td>[[0.       0.       4.496241] Li, [2.119593  0...</td>\n",
       "      <td>0</td>\n",
       "      <td>mp-1094159</td>\n",
       "      <td>Li3Mg</td>\n",
       "      <td>I4/mmm</td>\n",
       "      <td>0.0000</td>\n",
       "      <td>0.003841</td>\n",
       "      <td>(Atom('Li', [0.0, 0.0, 4.496241], index=0), At...</td>\n",
       "      <td>Li3 Mg1</td>\n",
       "      <td>None</td>\n",
       "    </tr>\n",
       "    <tr>\n",
       "      <th>10</th>\n",
       "      <td>[[0.        0.        2.5667245] Li, [1.826521...</td>\n",
       "      <td>0</td>\n",
       "      <td>mp-1094558</td>\n",
       "      <td>LiMg5</td>\n",
       "      <td>P-62m</td>\n",
       "      <td>0.0000</td>\n",
       "      <td>0.019418</td>\n",
       "      <td>(Atom('Li', [0.0, 0.0, 2.5667245], index=0), A...</td>\n",
       "      <td>Li1 Mg5</td>\n",
       "      <td>None</td>\n",
       "    </tr>\n",
       "    <tr>\n",
       "      <th>11</th>\n",
       "      <td>[[1.59983    0.92366451 8.70676583] Li, [ 1.59...</td>\n",
       "      <td>0</td>\n",
       "      <td>mp-1094559</td>\n",
       "      <td>LiMg2</td>\n",
       "      <td>P-3m1</td>\n",
       "      <td>0.0000</td>\n",
       "      <td>0.051963</td>\n",
       "      <td>(Atom('Li', [1.59983, 0.9236645139920001, 8.70...</td>\n",
       "      <td>Li2 Mg4</td>\n",
       "      <td>None</td>\n",
       "    </tr>\n",
       "    <tr>\n",
       "      <th>12</th>\n",
       "      <td>[[ 1.526998  -7.9215424  0.       ] Li, [1.526...</td>\n",
       "      <td>0</td>\n",
       "      <td>mp-1094562</td>\n",
       "      <td>Li2Mg</td>\n",
       "      <td>Amm2</td>\n",
       "      <td>0.0000</td>\n",
       "      <td>0.024521</td>\n",
       "      <td>(Atom('Li', [1.526998, -7.921542402911999, 0.0...</td>\n",
       "      <td>Li4 Mg2</td>\n",
       "      <td>None</td>\n",
       "    </tr>\n",
       "    <tr>\n",
       "      <th>13</th>\n",
       "      <td>[[0. 0. 0.] Li, [0.       0.       4.242211] M...</td>\n",
       "      <td>0</td>\n",
       "      <td>mp-1094567</td>\n",
       "      <td>LiMg3</td>\n",
       "      <td>I4/mmm</td>\n",
       "      <td>0.0000</td>\n",
       "      <td>0.028312</td>\n",
       "      <td>(Atom('Li', [0.0, 0.0, 0.0], index=0), Atom('M...</td>\n",
       "      <td>Li1 Mg3</td>\n",
       "      <td>None</td>\n",
       "    </tr>\n",
       "    <tr>\n",
       "      <th>14</th>\n",
       "      <td>[[0.         8.85639212 3.37469691] Li, [0.   ...</td>\n",
       "      <td>0</td>\n",
       "      <td>mp-1094568</td>\n",
       "      <td>LiMg</td>\n",
       "      <td>C2/m</td>\n",
       "      <td>0.0000</td>\n",
       "      <td>0.020040</td>\n",
       "      <td>(Atom('Li', [0.0, 8.856392119155, 3.3746969053...</td>\n",
       "      <td>Li2 Mg2</td>\n",
       "      <td>None</td>\n",
       "    </tr>\n",
       "    <tr>\n",
       "      <th>15</th>\n",
       "      <td>[[ 1.582137    0.91344916 13.48022537] Li, [ 1...</td>\n",
       "      <td>0</td>\n",
       "      <td>mp-1094569</td>\n",
       "      <td>Li2Mg</td>\n",
       "      <td>P-3m1</td>\n",
       "      <td>0.0000</td>\n",
       "      <td>0.041148</td>\n",
       "      <td>(Atom('Li', [1.582137, 0.9134491602280002, 13....</td>\n",
       "      <td>Li4 Mg2</td>\n",
       "      <td>None</td>\n",
       "    </tr>\n",
       "    <tr>\n",
       "      <th>16</th>\n",
       "      <td>[[-2.28850439  5.352084    1.28575   ] Li, [2....</td>\n",
       "      <td>0</td>\n",
       "      <td>mp-1094570</td>\n",
       "      <td>LiMg2</td>\n",
       "      <td>C2/c</td>\n",
       "      <td>0.0000</td>\n",
       "      <td>0.030459</td>\n",
       "      <td>(Atom('Li', [-2.288504385748, 5.352084, 1.2857...</td>\n",
       "      <td>Li2 Mg4</td>\n",
       "      <td>None</td>\n",
       "    </tr>\n",
       "    <tr>\n",
       "      <th>17</th>\n",
       "      <td>[[1.558185   8.00654443 0.        ] Li, [ 1.55...</td>\n",
       "      <td>0</td>\n",
       "      <td>mp-1094573</td>\n",
       "      <td>LiMg</td>\n",
       "      <td>Amm2</td>\n",
       "      <td>0.0000</td>\n",
       "      <td>0.019559</td>\n",
       "      <td>(Atom('Li', [1.558185, 8.00654442857, 0.0], in...</td>\n",
       "      <td>Li3 Mg3</td>\n",
       "      <td>None</td>\n",
       "    </tr>\n",
       "    <tr>\n",
       "      <th>18</th>\n",
       "      <td>[[1.54773    3.65127232 1.28390625] Li, [ 1.54...</td>\n",
       "      <td>0</td>\n",
       "      <td>mp-1094574</td>\n",
       "      <td>LiMg2</td>\n",
       "      <td>Cmcm</td>\n",
       "      <td>0.0000</td>\n",
       "      <td>0.019709</td>\n",
       "      <td>(Atom('Li', [1.54773, 3.6512723183240006, 1.28...</td>\n",
       "      <td>Li2 Mg4</td>\n",
       "      <td>None</td>\n",
       "    </tr>\n",
       "    <tr>\n",
       "      <th>19</th>\n",
       "      <td>[[ 1.599724  -7.9259922  0.       ] Li, [ 1.59...</td>\n",
       "      <td>0</td>\n",
       "      <td>mp-1094575</td>\n",
       "      <td>LiMg</td>\n",
       "      <td>Amm2</td>\n",
       "      <td>0.0000</td>\n",
       "      <td>0.023633</td>\n",
       "      <td>(Atom('Li', [1.599724, -7.92599220113, 0.0], i...</td>\n",
       "      <td>Li3 Mg3</td>\n",
       "      <td>None</td>\n",
       "    </tr>\n",
       "  </tbody>\n",
       "</table>\n",
       "</div>"
      ],
      "text/plain": [
       "                                            structure  ICSD_ID       MP_ID  \\\n",
       "0   [[0.        0.        2.6255595] Li, [0.      ...   180565  mp-1001790   \n",
       "1   [[2.79072525 1.34013453 0.79373764] Li, [0.930...   188829  mp-1001825   \n",
       "2   [[2.412716 2.412716 2.412716] Li, [3.619074 3....   236959  mp-1001831   \n",
       "3   [[0. 0. 0.] Li, [1.2797665 1.2797665 1.2797665...   184904  mp-1009009   \n",
       "4   [[1.4805505 1.9928345 2.448045 ] Li, [0. 0. 0....   180561  mp-1018789   \n",
       "5   [[2.117169   1.22235078 2.00965125] Li, [ 2.11...        0  mp-1025406   \n",
       "6   [[ 2.387422   -1.37838176  3.43392642] Li, [2....   639879  mp-1079408   \n",
       "7   [[4.8016225 0.        1.323284 ] Li, [2.655815...        0  mp-1094129   \n",
       "8   [[ 2.736541   -1.57994549  2.491208  ] Li, [2....        0  mp-1094156   \n",
       "9   [[0.       0.       4.496241] Li, [2.119593  0...        0  mp-1094159   \n",
       "10  [[0.        0.        2.5667245] Li, [1.826521...        0  mp-1094558   \n",
       "11  [[1.59983    0.92366451 8.70676583] Li, [ 1.59...        0  mp-1094559   \n",
       "12  [[ 1.526998  -7.9215424  0.       ] Li, [1.526...        0  mp-1094562   \n",
       "13  [[0. 0. 0.] Li, [0.       0.       4.242211] M...        0  mp-1094567   \n",
       "14  [[0.         8.85639212 3.37469691] Li, [0.   ...        0  mp-1094568   \n",
       "15  [[ 1.582137    0.91344916 13.48022537] Li, [ 1...        0  mp-1094569   \n",
       "16  [[-2.28850439  5.352084    1.28575   ] Li, [2....        0  mp-1094570   \n",
       "17  [[1.558185   8.00654443 0.        ] Li, [ 1.55...        0  mp-1094573   \n",
       "18  [[1.54773    3.65127232 1.28390625] Li, [ 1.54...        0  mp-1094574   \n",
       "19  [[ 1.599724  -7.9259922  0.       ] Li, [ 1.59...        0  mp-1094575   \n",
       "\n",
       "   pretty_formula spacegroup  bandgap    e_hull  \\\n",
       "0            LiO3       Imm2   0.0854  0.225420   \n",
       "1            LiBe     P2_1/m   0.0000  0.166972   \n",
       "2             LiB      Fd-3m   1.4331  0.386054   \n",
       "3             LiF      Pm-3m   7.5195  0.287542   \n",
       "4            LiO2       Pnnm   0.0000  0.084218   \n",
       "5            LiP3   P6_3/mmc   0.0000  0.656358   \n",
       "6          Li5In4      P-3m1   0.0000  0.000000   \n",
       "7            LiO2       R-3m   0.0733  0.572424   \n",
       "8           LiMg2      P-62m   0.0000  0.026255   \n",
       "9           Li3Mg     I4/mmm   0.0000  0.003841   \n",
       "10          LiMg5      P-62m   0.0000  0.019418   \n",
       "11          LiMg2      P-3m1   0.0000  0.051963   \n",
       "12          Li2Mg       Amm2   0.0000  0.024521   \n",
       "13          LiMg3     I4/mmm   0.0000  0.028312   \n",
       "14           LiMg       C2/m   0.0000  0.020040   \n",
       "15          Li2Mg      P-3m1   0.0000  0.041148   \n",
       "16          LiMg2       C2/c   0.0000  0.030459   \n",
       "17           LiMg       Amm2   0.0000  0.019559   \n",
       "18          LiMg2       Cmcm   0.0000  0.019709   \n",
       "19           LiMg       Amm2   0.0000  0.023633   \n",
       "\n",
       "                                        ase_structure composition replacement  \n",
       "0   (Atom('Li', [0.0, 0.0, 2.6255594986], index=0)...      Li1 O3        None  \n",
       "1   (Atom('Li', [2.79072525, 1.34013452726, 0.7937...     Li2 Be2        None  \n",
       "2   (Atom('Li', [2.412716, 2.412716, 2.412716], in...      Li2 B2        None  \n",
       "3   (Atom('Li', [0.0, 0.0, 0.0], index=0), Atom('F...      Li1 F1        None  \n",
       "4   (Atom('Li', [1.4805505, 1.9928345, 2.448045], ...      Li2 O4        None  \n",
       "5   (Atom('Li', [2.117169, 1.22235077803, 2.009651...      Li2 P6        None  \n",
       "6   (Atom('Li', [2.387422, -1.3783817567580003, 3....     Li5 In4        None  \n",
       "7   (Atom('Li', [4.801622500000001, 0.0, 1.323284]...      Li1 O2        None  \n",
       "8   (Atom('Li', [2.736541, -1.5799454932180002, 2....     Li2 Mg4        None  \n",
       "9   (Atom('Li', [0.0, 0.0, 4.496241], index=0), At...     Li3 Mg1        None  \n",
       "10  (Atom('Li', [0.0, 0.0, 2.5667245], index=0), A...     Li1 Mg5        None  \n",
       "11  (Atom('Li', [1.59983, 0.9236645139920001, 8.70...     Li2 Mg4        None  \n",
       "12  (Atom('Li', [1.526998, -7.921542402911999, 0.0...     Li4 Mg2        None  \n",
       "13  (Atom('Li', [0.0, 0.0, 0.0], index=0), Atom('M...     Li1 Mg3        None  \n",
       "14  (Atom('Li', [0.0, 8.856392119155, 3.3746969053...     Li2 Mg2        None  \n",
       "15  (Atom('Li', [1.582137, 0.9134491602280002, 13....     Li4 Mg2        None  \n",
       "16  (Atom('Li', [-2.288504385748, 5.352084, 1.2857...     Li2 Mg4        None  \n",
       "17  (Atom('Li', [1.558185, 8.00654442857, 0.0], in...     Li3 Mg3        None  \n",
       "18  (Atom('Li', [1.54773, 3.6512723183240006, 1.28...     Li2 Mg4        None  \n",
       "19  (Atom('Li', [1.599724, -7.92599220113, 0.0], i...     Li3 Mg3        None  "
      ]
     },
     "execution_count": 19,
     "metadata": {},
     "output_type": "execute_result"
    }
   ],
   "source": [
    "structures_df.head(20)"
   ]
  },
  {
   "cell_type": "markdown",
   "metadata": {},
   "source": [
    "### 1g. Check to see if the structures are ordered and oxidation state decorated"
   ]
  },
  {
   "cell_type": "code",
   "execution_count": 20,
   "metadata": {},
   "outputs": [
    {
     "data": {
      "application/vnd.jupyter.widget-view+json": {
       "model_id": "c11c790b39424cad8a4399e6efcd7464",
       "version_major": 2,
       "version_minor": 0
      },
      "text/plain": [
       "Check for oxidation states and ordering:   0%|          | 0/25291 [00:00<?, ?it/s]"
      ]
     },
     "metadata": {},
     "output_type": "display_data"
    },
    {
     "name": "stdout",
     "output_type": "stream",
     "text": [
      "98 structures are disordered.\n",
      "17592 structures are not charge decorated.\n"
     ]
    }
   ],
   "source": [
    "unordered_count = 0\n",
    "unordered = []\n",
    "no_oxidation_count = 0\n",
    "no_oxidation_state = []\n",
    "\n",
    "for idx in tqdm.tqdm(np.arange(0, len(structures_df), 1), desc='Check for oxidation states and ordering'):\n",
    "    if not structures_df.loc[idx, \"structure\"].is_ordered:\n",
    "        unordered_count += 1\n",
    "        unordered.append(idx)\n",
    "    try:\n",
    "        for site in structures_df.loc[idx, \"structure\"]:\n",
    "            _ = site.specie.oxi_state\n",
    "    except Exception as e:\n",
    "        no_oxidation_count +=1\n",
    "        no_oxidation_state.append(idx)\n",
    "        \n",
    "print(\"{} structures are disordered.\".format(unordered_count))\n",
    "print(\"{} structures are not charge decorated.\".format(no_oxidation_count))"
   ]
  },
  {
   "cell_type": "markdown",
   "metadata": {},
   "source": [
    "### 1h. Apply charge decoration where possible. \n",
    "\n",
    "Pymatgen contains three general ways to charge decorate structures:\n",
    "* Use the .add_oxdiation_state_by_guess method on a pymatgen structure. \n",
    "* Use the AutoOxiStateDecorationTransformation class.\n",
    "* Create a dictionary of charges and apply based on atomic identity using the OxidationStateDecorationTransformation class."
   ]
  },
  {
   "cell_type": "code",
   "execution_count": 21,
   "metadata": {},
   "outputs": [],
   "source": [
    "# oxidation dictionary added to brute force oxidation states\n",
    "oxidation_dictionary = {\"H\":1, \"Li\": 1, \"Na\":1, \"K\":1, \"Rb\": 1, \"Cs\":1, \"Be\":2, \"Mg\":2, \"Ca\":2, \\\n",
    "                        \"Sr\":2, \"Ba\":2, \"Ra\": 2, \"B\":3, \"Al\":3, \"Ga\":3, \"In\":3, \"Tl\":3, \\\n",
    "                        \"C\":4, \"Si\": 4, \"Ge\": 4, \"Sn\": 4, \"Pb\": 4, \"N\":-3, \"P\":5, \"As\":5, \\\n",
    "                        \"Sb\": 5, \"Bi\":5, \"O\":-2, \"S\":-2, \"Se\":-2, \"Te\":-2, \"Po\":-2, \"F\":-1, \\\n",
    "                       \"Cl\":-1, \"Br\":-1, \"I\":-1, \"Sc\":3, \"Y\":3, \"Lu\":3, \"Ti\":4, \"Zr\":4, \"Hf\":4, \\\n",
    "                       \"V\":5, \"Nb\":5, \"Ta\":5, \"Cr\":6, \"Mo\":4, \"W\":6, \"Mn\":7, \"Tc\":7, \"Re\":7, \\\n",
    "                       \"Fe\":3, \"Ru\":3, \"Os\":3, \"Co\": 3, \"Rh\":3, \"Ir\":3, \"Cu\":2, \"Ag\":1, \"Au\":3, \\\n",
    "                       \"Zn\":2, \"Ni\":2, \"Cd\":2, \"Hg\":2, \"La\":3, \"Ce\":3, \"Pd\":2, \"Pm\":3, \"Ho\":3, \\\n",
    "                        \"Eu\":3, \"Np\":3, \"Pu\":4, \"Gd\":3, \"Sm\":2, \"Tb\":3, \"Tm\":3, \"Yb\":3, \"Ac\":3, \\\n",
    "                       \"Dy\": 3, \"Er\":3, \"Pr\":3, \"U\":6, \"Pt\":2, \"Nd\":3, \"Th\":4, \"Pa\":5}\n",
    "\n",
    "# two types of transformations taken from the pymatgen\n",
    "oxidation_decorator = OxidationStateDecorationTransformation(oxidation_dictionary)\n",
    "oxidation_auto_decorator = AutoOxiStateDecorationTransformation(distance_scale_factor=1)"
   ]
  },
  {
   "cell_type": "code",
   "execution_count": 22,
   "metadata": {},
   "outputs": [],
   "source": [
    "def apply_charge_decoration(structure):\n",
    "    \"\"\"\n",
    "    Function intended to be used with pandas.DataFrame.apply()\n",
    "\n",
    "    For each structure passed into the function, it sequentially attempts three charge decoration strategies:\n",
    "    (1) a manual charge decoration using the oxidation_dictionary\n",
    "    (2) charge decoration using OxidationStateDecorationTransformation\n",
    "    (3) charge decoration using the built-in add_oxidation_state_by_guess() method\n",
    "    \n",
    "    If any of these strategies result in a structure with nearly zero charge (<= 0.5), then the decoration is accepted.\n",
    "\n",
    "    Parameters\n",
    "    ----------\n",
    "    structure : pymatgen.core.structure\n",
    "        a pymatgen structure file\n",
    "\n",
    "    Returns\n",
    "    ------\n",
    "    structure: pymatgen.core.structure\n",
    "        either charge decorated or not (if the decorations failed)\n",
    "    \"\"\"\n",
    "    \n",
    "    # try the manual decoration strategy\n",
    "    temp_structure = structure.copy()\n",
    "    try:\n",
    "        manually_transformed_structure = oxidation_decorator.apply_transformation(temp_structure)\n",
    "        if abs(manually_transformed_structure.charge) < 0.5:\n",
    "            return manually_transformed_structure\n",
    "    except:\n",
    "        pass\n",
    "    \n",
    "    # try Pymatgen's auto decorator\n",
    "    temp_structure = structure.copy()\n",
    "    try:\n",
    "        auto_transformed_structure = oxidation_auto_decorator.apply_transformation(temp_structure)\n",
    "        if abs(auto_transformed_structure.charge) < 0.5:\n",
    "            return auto_transformed_structure\n",
    "    except:\n",
    "        pass\n",
    "    \n",
    "    # allow Pymatgen to guess the oxidation states\n",
    "    temp_structure = structure.copy()\n",
    "    try:\n",
    "        structure.add_oxidation_state_by_guess()\n",
    "        return structure\n",
    "    except:\n",
    "        pass \n",
    "\n",
    "    return structure"
   ]
  },
  {
   "cell_type": "code",
   "execution_count": 23,
   "metadata": {},
   "outputs": [
    {
     "data": {
      "application/vnd.jupyter.widget-view+json": {
       "model_id": "90d1c2fe3e0b431c8a18ae83bbf477b9",
       "version_major": 2,
       "version_minor": 0
      },
      "text/plain": [
       "  0%|          | 0/17592 [00:00<?, ?it/s]"
      ]
     },
     "metadata": {},
     "output_type": "display_data"
    }
   ],
   "source": [
    "mask = [True if x in no_oxidation_state else False for x in structures_df.index]\n",
    "structures_uncharged_df = structures_df[mask]\n",
    "structures_df.loc[mask, 'structure'] = structures_uncharged_df['structure'].progress_apply(apply_charge_decoration)"
   ]
  },
  {
   "cell_type": "code",
   "execution_count": 24,
   "metadata": {},
   "outputs": [
    {
     "data": {
      "application/vnd.jupyter.widget-view+json": {
       "model_id": "c5222b064f5449b1b91ad57a885ddfb6",
       "version_major": 2,
       "version_minor": 0
      },
      "text/plain": [
       "  0%|          | 0/25291 [00:00<?, ?it/s]"
      ]
     },
     "metadata": {},
     "output_type": "display_data"
    },
    {
     "name": "stdout",
     "output_type": "stream",
     "text": [
      "98 structures are disordered.\n",
      "98 structures are not charge decorated.\n"
     ]
    }
   ],
   "source": [
    "unordered_count = 0\n",
    "unordered = []\n",
    "no_oxidation_count = 0\n",
    "no_oxidation_state = []\n",
    "\n",
    "for idx in tqdm.tqdm(np.arange(0, len(structures_df), 1), desc='Find the number of structures that remain disordered and/or charge undecorated.'):\n",
    "    if not structures_df.loc[idx, \"structure\"].is_ordered:\n",
    "        unordered_count += 1\n",
    "        unordered.append(idx)\n",
    "    try:\n",
    "        for site in structures_df.loc[idx, \"structure\"]:\n",
    "            _ = site.specie.oxi_state\n",
    "    except Exception as e:\n",
    "        no_oxidation_count +=1\n",
    "        no_oxidation_state.append(idx)\n",
    "        \n",
    "print(\"{} structures are disordered.\".format(unordered_count))\n",
    "print(\"{} structures are not charge decorated.\".format(no_oxidation_count))"
   ]
  },
  {
   "cell_type": "markdown",
   "metadata": {},
   "source": [
    "### 1i. Save the dataframe using pickle"
   ]
  },
  {
   "cell_type": "code",
   "execution_count": 25,
   "metadata": {},
   "outputs": [],
   "source": [
    "save_path = os.path.join(os.getcwd(), 'semi-supervised_supporting_files/structures_df_3p8_post_sanitize.pkl')\n",
    "save_file = open(save_path, 'wb')\n",
    "pickle.dump(structures_df, save_file)\n",
    "save_file.close()"
   ]
  },
  {
   "cell_type": "markdown",
   "metadata": {},
   "source": [
    "### 1j. Save deleted structures for future use"
   ]
  },
  {
   "cell_type": "code",
   "execution_count": 26,
   "metadata": {},
   "outputs": [],
   "source": [
    "save_path_2 = os.path.join(os.getcwd(), 'semi-supervised_supporting_files/structures_deleted_post_sanitize.pkl')\n",
    "save_file = open(save_path_2, 'wb')\n",
    "pickle.dump(deleted_structures, save_file)\n",
    "save_file.close()"
   ]
  },
  {
   "cell_type": "markdown",
   "metadata": {},
   "source": [
    "### 1k. Test to make sure data loads well"
   ]
  },
  {
   "cell_type": "code",
   "execution_count": 27,
   "metadata": {},
   "outputs": [],
   "source": [
    "save_path = os.path.join(os.getcwd(), 'semi-supervised_supporting_files/structures_df_3p8_post_sanitize.pkl')\n",
    "open_file = open(save_path, 'rb')\n",
    "structures_df = pickle.load(open_file)\n",
    "open_file.close()"
   ]
  },
  {
   "cell_type": "markdown",
   "metadata": {},
   "source": [
    "### 1l. Removal of structures that couldn't be charge decorated"
   ]
  },
  {
   "cell_type": "code",
   "execution_count": 28,
   "metadata": {},
   "outputs": [
    {
     "data": {
      "application/vnd.jupyter.widget-view+json": {
       "model_id": "30c83e8fdeba44be8a9c11b5c27b13e4",
       "version_major": 2,
       "version_minor": 0
      },
      "text/plain": [
       "Remove structures without charge decoration:   0%|          | 0/25291 [00:00<?, ?it/s]"
      ]
     },
     "metadata": {},
     "output_type": "display_data"
    },
    {
     "name": "stdout",
     "output_type": "stream",
     "text": [
      "98 structures are disordered.\n",
      "98 structures are not charge decorated.\n"
     ]
    }
   ],
   "source": [
    "unordered_count = 0\n",
    "unordered = []\n",
    "no_oxidation_count = 0\n",
    "no_oxidation_state = []\n",
    "\n",
    "for idx in tqdm.tqdm(np.arange(0, len(structures_df), 1), desc='Remove structures without charge decoration'):\n",
    "    if not structures_df.loc[idx, \"structure\"].is_ordered:\n",
    "        unordered_count += 1\n",
    "        unordered.append(idx)\n",
    "    try:\n",
    "        for site in structures_df.loc[idx, \"structure\"]:\n",
    "            _ = site.specie.oxi_state\n",
    "    except Exception as e:\n",
    "        no_oxidation_count +=1\n",
    "        no_oxidation_state.append(idx)\n",
    "        \n",
    "print(\"{} structures are disordered.\".format(unordered_count))\n",
    "print(\"{} structures are not charge decorated.\".format(no_oxidation_count))\n",
    "\n",
    "for_removal = np.unique(unordered+no_oxidation_state)\n",
    "structures_df = structures_df.drop(for_removal)\n",
    "structures_df = structures_df.reset_index()"
   ]
  },
  {
   "cell_type": "code",
   "execution_count": 29,
   "metadata": {},
   "outputs": [
    {
     "data": {
      "text/html": [
       "<div>\n",
       "<style scoped>\n",
       "    .dataframe tbody tr th:only-of-type {\n",
       "        vertical-align: middle;\n",
       "    }\n",
       "\n",
       "    .dataframe tbody tr th {\n",
       "        vertical-align: top;\n",
       "    }\n",
       "\n",
       "    .dataframe thead th {\n",
       "        text-align: right;\n",
       "    }\n",
       "</style>\n",
       "<table border=\"1\" class=\"dataframe\">\n",
       "  <thead>\n",
       "    <tr style=\"text-align: right;\">\n",
       "      <th></th>\n",
       "      <th>index</th>\n",
       "      <th>structure</th>\n",
       "      <th>ICSD_ID</th>\n",
       "      <th>MP_ID</th>\n",
       "      <th>pretty_formula</th>\n",
       "      <th>spacegroup</th>\n",
       "      <th>bandgap</th>\n",
       "      <th>e_hull</th>\n",
       "      <th>ase_structure</th>\n",
       "      <th>composition</th>\n",
       "      <th>replacement</th>\n",
       "    </tr>\n",
       "  </thead>\n",
       "  <tbody>\n",
       "    <tr>\n",
       "      <th>0</th>\n",
       "      <td>0</td>\n",
       "      <td>[[0.        0.        2.6255595] Li0+, [0.    ...</td>\n",
       "      <td>180565</td>\n",
       "      <td>mp-1001790</td>\n",
       "      <td>LiO3</td>\n",
       "      <td>Imm2</td>\n",
       "      <td>0.0854</td>\n",
       "      <td>0.225420</td>\n",
       "      <td>(Atom('Li', [0.0, 0.0, 2.6255594986], index=0)...</td>\n",
       "      <td>Li1 O3</td>\n",
       "      <td>None</td>\n",
       "    </tr>\n",
       "    <tr>\n",
       "      <th>1</th>\n",
       "      <td>1</td>\n",
       "      <td>[[2.79072525 1.34013453 0.79373764] Li0+, [0.9...</td>\n",
       "      <td>188829</td>\n",
       "      <td>mp-1001825</td>\n",
       "      <td>LiBe</td>\n",
       "      <td>P2_1/m</td>\n",
       "      <td>0.0000</td>\n",
       "      <td>0.166972</td>\n",
       "      <td>(Atom('Li', [2.79072525, 1.34013452726, 0.7937...</td>\n",
       "      <td>Li2 Be2</td>\n",
       "      <td>None</td>\n",
       "    </tr>\n",
       "    <tr>\n",
       "      <th>2</th>\n",
       "      <td>2</td>\n",
       "      <td>[[2.412716 2.412716 2.412716] Li0+, [3.619074 ...</td>\n",
       "      <td>236959</td>\n",
       "      <td>mp-1001831</td>\n",
       "      <td>LiB</td>\n",
       "      <td>Fd-3m</td>\n",
       "      <td>1.4331</td>\n",
       "      <td>0.386054</td>\n",
       "      <td>(Atom('Li', [2.412716, 2.412716, 2.412716], in...</td>\n",
       "      <td>Li2 B2</td>\n",
       "      <td>None</td>\n",
       "    </tr>\n",
       "    <tr>\n",
       "      <th>3</th>\n",
       "      <td>3</td>\n",
       "      <td>[[0. 0. 0.] Li+, [1.2797665 1.2797665 1.279766...</td>\n",
       "      <td>184904</td>\n",
       "      <td>mp-1009009</td>\n",
       "      <td>LiF</td>\n",
       "      <td>Pm-3m</td>\n",
       "      <td>7.5195</td>\n",
       "      <td>0.287542</td>\n",
       "      <td>(Atom('Li', [0.0, 0.0, 0.0], index=0), Atom('F...</td>\n",
       "      <td>Li1 F1</td>\n",
       "      <td>None</td>\n",
       "    </tr>\n",
       "    <tr>\n",
       "      <th>4</th>\n",
       "      <td>4</td>\n",
       "      <td>[[1.4805505 1.9928345 2.448045 ] Li0+, [0. 0. ...</td>\n",
       "      <td>180561</td>\n",
       "      <td>mp-1018789</td>\n",
       "      <td>LiO2</td>\n",
       "      <td>Pnnm</td>\n",
       "      <td>0.0000</td>\n",
       "      <td>0.084218</td>\n",
       "      <td>(Atom('Li', [1.4805505, 1.9928345, 2.448045], ...</td>\n",
       "      <td>Li2 O4</td>\n",
       "      <td>None</td>\n",
       "    </tr>\n",
       "    <tr>\n",
       "      <th>...</th>\n",
       "      <td>...</td>\n",
       "      <td>...</td>\n",
       "      <td>...</td>\n",
       "      <td>...</td>\n",
       "      <td>...</td>\n",
       "      <td>...</td>\n",
       "      <td>...</td>\n",
       "      <td>...</td>\n",
       "      <td>...</td>\n",
       "      <td>...</td>\n",
       "      <td>...</td>\n",
       "    </tr>\n",
       "    <tr>\n",
       "      <th>25138</th>\n",
       "      <td>25236</td>\n",
       "      <td>[[4.4408921e-16 0.0000000e+00 3.6529499e+00] B...</td>\n",
       "      <td>155126</td>\n",
       "      <td>mp-5914</td>\n",
       "      <td>None</td>\n",
       "      <td>I4_1/amd</td>\n",
       "      <td>3.4434</td>\n",
       "      <td>0.003077</td>\n",
       "      <td>(Atom('Li', [1.51319656, 1.51319656, 5.17415],...</td>\n",
       "      <td>Li12 B4 N8</td>\n",
       "      <td>[[0.         0.         6.49296948] Li, [3.316...</td>\n",
       "    </tr>\n",
       "    <tr>\n",
       "      <th>25139</th>\n",
       "      <td>25237</td>\n",
       "      <td>[[-8.67783161 -7.32252453 -9.73148729] K+, [-2...</td>\n",
       "      <td>81336</td>\n",
       "      <td>None</td>\n",
       "      <td>None</td>\n",
       "      <td>None</td>\n",
       "      <td>NaN</td>\n",
       "      <td>NaN</td>\n",
       "      <td>(Atom('K', [-2.068668159849999, 4.124882359346...</td>\n",
       "      <td>K6 Li3 Ta18 P9 O72</td>\n",
       "      <td>None</td>\n",
       "    </tr>\n",
       "    <tr>\n",
       "      <th>25140</th>\n",
       "      <td>25238</td>\n",
       "      <td>[[0. 0. 0.] Cu2+, [4.66556584e-16 2.90125000e+...</td>\n",
       "      <td>290741</td>\n",
       "      <td>None</td>\n",
       "      <td>None</td>\n",
       "      <td>None</td>\n",
       "      <td>NaN</td>\n",
       "      <td>NaN</td>\n",
       "      <td>(Atom('Li', [1.41455, 1.450625, 6.524324999999...</td>\n",
       "      <td>Li2 V2 Cu2 O8</td>\n",
       "      <td>None</td>\n",
       "    </tr>\n",
       "    <tr>\n",
       "      <th>25141</th>\n",
       "      <td>25239</td>\n",
       "      <td>[[-4.73005    -2.73089564 -3.4418274 ] Li+, [-...</td>\n",
       "      <td>83279</td>\n",
       "      <td>None</td>\n",
       "      <td>None</td>\n",
       "      <td>None</td>\n",
       "      <td>NaN</td>\n",
       "      <td>NaN</td>\n",
       "      <td>(Atom('Li', [-4.730049907308853e-08, 5.4617913...</td>\n",
       "      <td>Li1 Sm9 Si6 O26</td>\n",
       "      <td>None</td>\n",
       "    </tr>\n",
       "    <tr>\n",
       "      <th>25142</th>\n",
       "      <td>25240</td>\n",
       "      <td>[[7.60481201e-16 4.72900000e+00 6.62675000e+00...</td>\n",
       "      <td>380221</td>\n",
       "      <td>None</td>\n",
       "      <td>None</td>\n",
       "      <td>None</td>\n",
       "      <td>NaN</td>\n",
       "      <td>NaN</td>\n",
       "      <td>(Atom('Cs', [0.0, 4.729, 6.62675], index=0), A...</td>\n",
       "      <td>Cs4 Li20 B40 S72</td>\n",
       "      <td>None</td>\n",
       "    </tr>\n",
       "  </tbody>\n",
       "</table>\n",
       "<p>25143 rows × 11 columns</p>\n",
       "</div>"
      ],
      "text/plain": [
       "       index                                          structure  ICSD_ID  \\\n",
       "0          0  [[0.        0.        2.6255595] Li0+, [0.    ...   180565   \n",
       "1          1  [[2.79072525 1.34013453 0.79373764] Li0+, [0.9...   188829   \n",
       "2          2  [[2.412716 2.412716 2.412716] Li0+, [3.619074 ...   236959   \n",
       "3          3  [[0. 0. 0.] Li+, [1.2797665 1.2797665 1.279766...   184904   \n",
       "4          4  [[1.4805505 1.9928345 2.448045 ] Li0+, [0. 0. ...   180561   \n",
       "...      ...                                                ...      ...   \n",
       "25138  25236  [[4.4408921e-16 0.0000000e+00 3.6529499e+00] B...   155126   \n",
       "25139  25237  [[-8.67783161 -7.32252453 -9.73148729] K+, [-2...    81336   \n",
       "25140  25238  [[0. 0. 0.] Cu2+, [4.66556584e-16 2.90125000e+...   290741   \n",
       "25141  25239  [[-4.73005    -2.73089564 -3.4418274 ] Li+, [-...    83279   \n",
       "25142  25240  [[7.60481201e-16 4.72900000e+00 6.62675000e+00...   380221   \n",
       "\n",
       "            MP_ID pretty_formula spacegroup  bandgap    e_hull  \\\n",
       "0      mp-1001790           LiO3       Imm2   0.0854  0.225420   \n",
       "1      mp-1001825           LiBe     P2_1/m   0.0000  0.166972   \n",
       "2      mp-1001831            LiB      Fd-3m   1.4331  0.386054   \n",
       "3      mp-1009009            LiF      Pm-3m   7.5195  0.287542   \n",
       "4      mp-1018789           LiO2       Pnnm   0.0000  0.084218   \n",
       "...           ...            ...        ...      ...       ...   \n",
       "25138     mp-5914           None   I4_1/amd   3.4434  0.003077   \n",
       "25139        None           None       None      NaN       NaN   \n",
       "25140        None           None       None      NaN       NaN   \n",
       "25141        None           None       None      NaN       NaN   \n",
       "25142        None           None       None      NaN       NaN   \n",
       "\n",
       "                                           ase_structure         composition  \\\n",
       "0      (Atom('Li', [0.0, 0.0, 2.6255594986], index=0)...              Li1 O3   \n",
       "1      (Atom('Li', [2.79072525, 1.34013452726, 0.7937...             Li2 Be2   \n",
       "2      (Atom('Li', [2.412716, 2.412716, 2.412716], in...              Li2 B2   \n",
       "3      (Atom('Li', [0.0, 0.0, 0.0], index=0), Atom('F...              Li1 F1   \n",
       "4      (Atom('Li', [1.4805505, 1.9928345, 2.448045], ...              Li2 O4   \n",
       "...                                                  ...                 ...   \n",
       "25138  (Atom('Li', [1.51319656, 1.51319656, 5.17415],...          Li12 B4 N8   \n",
       "25139  (Atom('K', [-2.068668159849999, 4.124882359346...  K6 Li3 Ta18 P9 O72   \n",
       "25140  (Atom('Li', [1.41455, 1.450625, 6.524324999999...       Li2 V2 Cu2 O8   \n",
       "25141  (Atom('Li', [-4.730049907308853e-08, 5.4617913...     Li1 Sm9 Si6 O26   \n",
       "25142  (Atom('Cs', [0.0, 4.729, 6.62675], index=0), A...    Cs4 Li20 B40 S72   \n",
       "\n",
       "                                             replacement  \n",
       "0                                                   None  \n",
       "1                                                   None  \n",
       "2                                                   None  \n",
       "3                                                   None  \n",
       "4                                                   None  \n",
       "...                                                  ...  \n",
       "25138  [[0.         0.         6.49296948] Li, [3.316...  \n",
       "25139                                               None  \n",
       "25140                                               None  \n",
       "25141                                               None  \n",
       "25142                                               None  \n",
       "\n",
       "[25143 rows x 11 columns]"
      ]
     },
     "execution_count": 29,
     "metadata": {},
     "output_type": "execute_result"
    }
   ],
   "source": [
    "structures_df.head(-50)"
   ]
  },
  {
   "cell_type": "markdown",
   "metadata": {},
   "source": [
    "### 1m. Routine to label ICSD structures with spacegroup"
   ]
  },
  {
   "cell_type": "code",
   "execution_count": 30,
   "metadata": {},
   "outputs": [
    {
     "name": "stdout",
     "output_type": "stream",
     "text": [
      "Initial: 4665 rows are missing a spacegroup.\n"
     ]
    },
    {
     "data": {
      "application/vnd.jupyter.widget-view+json": {
       "model_id": "53444d6becd54ec4b96244b10099a47e",
       "version_major": 2,
       "version_minor": 0
      },
      "text/plain": [
       "  0%|          | 0/4665 [00:00<?, ?it/s]"
      ]
     },
     "metadata": {},
     "output_type": "display_data"
    },
    {
     "name": "stdout",
     "output_type": "stream",
     "text": [
      "Post spacegroup labeling: 6 rows are missing a spacegroup.\n"
     ]
    }
   ],
   "source": [
    "def spacegroup_labeler(structure):\n",
    "    \"\"\"\n",
    "    Function intended to be used with pandas.DataFrame.apply()\n",
    "\n",
    "    For each structure passed into the function, determine the space group.\n",
    "\n",
    "    Parameters\n",
    "    ----------\n",
    "    structure : pymatgen.core.structure\n",
    "        a pymatgen structure file\n",
    "\n",
    "    Returns\n",
    "    ------\n",
    "    sg.get_space_group_symbol() : string\n",
    "        the symbol for the spacegroup\n",
    "    \"\"\"\n",
    "    \n",
    "    try:\n",
    "        s = mg.Structure.from_sites(structure)\n",
    "        sg = SpacegroupAnalyzer(s)\n",
    "        return sg.get_space_group_symbol()\n",
    "    except:\n",
    "        return None\n",
    "\n",
    "missing_spacegroup_idx = structures_df[structures_df[\"spacegroup\"].isna()].index.tolist()\n",
    "print(\"Initial: {} rows are missing a spacegroup.\".format(len(missing_spacegroup_idx)))\n",
    "\n",
    "# make the dataframe to apply the spacegroup analyzer only to rows missing a spacegroup\n",
    "mask = [True if x in missing_spacegroup_idx else False for x in structures_df.index]\n",
    "structures_without_spacegroup_df = structures_df[mask]\n",
    "structures_df.loc[mask, 'spacegroup'] = structures_without_spacegroup_df['structure'].progress_apply(spacegroup_labeler)\n",
    "\n",
    "\n",
    "missing_spacegroup_idx = structures_df[structures_df[\"spacegroup\"].isna()].index.tolist()\n",
    "print(\"Post spacegroup labeling: {} rows are missing a spacegroup.\".format(len(missing_spacegroup_idx)))"
   ]
  },
  {
   "cell_type": "markdown",
   "metadata": {},
   "source": [
    "### 1n. Breakdown of spacegroups"
   ]
  },
  {
   "cell_type": "code",
   "execution_count": 31,
   "metadata": {},
   "outputs": [
    {
     "name": "stdout",
     "output_type": "stream",
     "text": [
      "1 - P1: 4475\n",
      "2 - P-1: 2290\n",
      "3 - P121: 0\n",
      "4 - P12_11: 0\n",
      "5 - C121: 0\n",
      "6 - P1m1: 0\n",
      "7 - P1c1: 0\n",
      "8 - C1m1: 0\n",
      "9 - C1c1: 0\n",
      "10 - P12/m1: 0\n",
      "11 - P12_1/m1: 0\n",
      "12 - C12/m1: 0\n",
      "13 - P12/c1: 0\n",
      "14 - P12_1/c1: 0\n",
      "15 - C12/c1: 0\n",
      "16 - P222: 3\n",
      "17 - P222_1: 6\n",
      "18 - P2_12_12: 18\n",
      "19 - P2_12_121: 0\n",
      "20 - C222_1: 60\n",
      "21 - C222: 38\n",
      "22 - F222: 11\n",
      "23 - I222: 2\n",
      "24 - I2_12_121: 0\n",
      "25 - Pmm2: 70\n",
      "26 - Pmc2_1: 72\n",
      "27 - Pcc2: 0\n",
      "28 - Pma2: 1\n",
      "29 - Pca2_1: 83\n",
      "30 - Pnc2: 11\n",
      "31 - Pmn2_1: 104\n",
      "32 - Pba2: 2\n",
      "33 - Pna2_1: 376\n",
      "34 - Pnn2: 13\n",
      "35 - Cmm2: 31\n",
      "36 - Cmc2_1: 100\n",
      "37 - Ccc2: 18\n",
      "38 - Amm2: 73\n",
      "39 - Aem2: 3\n",
      "40 - Ama2: 27\n",
      "41 - Aea2: 20\n",
      "42 - Fmm2: 6\n",
      "43 - Fdd2: 46\n",
      "44 - Imm2: 51\n",
      "45 - Iba2: 0\n",
      "46 - Ima2: 7\n",
      "47 - Pmmm: 27\n",
      "48 - Pnnn: 0\n",
      "49 - Pccm: 4\n",
      "50 - Pban: 0\n",
      "51 - Pmma: 35\n",
      "52 - Pnna: 22\n",
      "53 - Pmna: 7\n",
      "54 - Pcca: 5\n",
      "55 - Pbam: 58\n",
      "56 - Pccn: 14\n",
      "57 - Pbcm: 27\n",
      "58 - Pnnm: 62\n",
      "59 - Pmmn: 68\n",
      "60 - Pbcn: 119\n",
      "61 - Pbca: 208\n",
      "62 - Pnma: 702\n",
      "63 - Cmcm: 201\n",
      "64 - Cmce: 100\n",
      "65 - Cmmm: 95\n",
      "66 - Cccm: 3\n",
      "67 - Cmme: 10\n",
      "68 - Ccce: 1\n",
      "69 - Fmmm: 3\n",
      "70 - Fddd: 39\n",
      "71 - Immm: 341\n",
      "72 - Ibam: 16\n",
      "73 - Ibca: 6\n",
      "74 - Imma: 220\n",
      "75 - P4: 2\n",
      "76 - P4_1: 17\n",
      "77 - P4_2: 0\n",
      "78 - P4_3: 7\n",
      "79 - I4: 2\n",
      "80 - I4_1: 3\n",
      "81 - P-4: 12\n",
      "82 - I-4: 88\n",
      "83 - P4/m: 1\n",
      "84 - P4_2/m: 8\n",
      "85 - P4/n: 3\n",
      "86 - P4_2/n: 7\n",
      "87 - I4/m: 29\n",
      "88 - I4_1/a: 60\n",
      "89 - P422: 0\n",
      "90 - P42_12: 1\n",
      "91 - P4_122: 11\n",
      "92 - P4_12_12: 11\n",
      "93 - P4_222: 0\n",
      "94 - P4_22_12: 4\n",
      "95 - P4_322: 56\n",
      "96 - P4_32_12: 16\n",
      "97 - I422: 0\n",
      "98 - I4_122: 1\n",
      "99 - P4mm: 44\n",
      "100 - P4bm: 4\n",
      "101 - P4_2cm: 0\n",
      "102 - P4_2nm: 19\n",
      "103 - P4cc: 0\n",
      "104 - P4nc: 1\n",
      "105 - P4_2mc: 10\n",
      "106 - P4_2bc: 1\n",
      "107 - I4mm: 9\n",
      "108 - I4cm: 2\n",
      "109 - I4_1md: 10\n",
      "110 - I4_1cd: 28\n",
      "111 - P-42m: 14\n",
      "112 - P-42c: 1\n",
      "113 - P-42_1m: 13\n",
      "114 - P-42_1c: 12\n",
      "115 - P-4m2: 49\n",
      "116 - P-4c2: 0\n",
      "117 - P-4b2: 2\n",
      "118 - P-4n2: 13\n",
      "119 - I-4m2: 73\n",
      "120 - I-4c2: 0\n",
      "121 - I-42m: 25\n",
      "122 - I-42d: 54\n",
      "123 - P4/mmm: 316\n",
      "124 - P4/mcc: 0\n",
      "125 - P4/nbm: 5\n",
      "126 - P4/nnc: 0\n",
      "127 - P4/mbm: 14\n",
      "128 - P4/mnc: 5\n",
      "129 - P4/nmm: 134\n",
      "130 - P4/ncc: 11\n",
      "131 - P4_2/mmc: 5\n",
      "132 - P4_2/mcm: 1\n",
      "133 - P4_2/nbc: 1\n",
      "134 - P4_2/nnm: 4\n",
      "135 - P4_2/mbc: 3\n",
      "136 - P4_2/mnm: 49\n",
      "137 - P4_2/nmc: 43\n",
      "138 - P4_2/ncm: 3\n",
      "139 - I4/mmm: 120\n",
      "140 - I4/mcm: 13\n",
      "141 - I4_1/amd: 103\n",
      "142 - I4_1/acd: 25\n",
      "143 - P3: 105\n",
      "144 - P3_1: 10\n",
      "145 - P3_2: 10\n",
      "146 - R3H: 0\n",
      "147 - P-3: 39\n",
      "148 - R-3H: 0\n",
      "149 - P312: 12\n",
      "150 - P321: 34\n",
      "151 - P3_112: 3\n",
      "152 - P3_121: 17\n",
      "153 - P3_212: 1\n",
      "154 - P3_221: 0\n",
      "155 - R32H: 0\n",
      "156 - P3m1: 227\n",
      "157 - P31m: 4\n",
      "158 - P3c1: 8\n",
      "159 - P31c: 40\n",
      "160 - R3mH: 0\n",
      "161 - R3cH: 0\n",
      "162 - P-31m: 19\n",
      "163 - P-31c: 51\n",
      "164 - P-3m1: 373\n",
      "165 - P-3c1: 25\n",
      "166 - R-3mH: 0\n",
      "167 - R-3cH: 0\n",
      "168 - P6: 1\n",
      "169 - P6_1: 13\n",
      "170 - P6_5: 7\n",
      "171 - P6_2: 0\n",
      "172 - P6_4: 0\n",
      "173 - P6_3: 81\n",
      "174 - P-6: 34\n",
      "175 - P6/m: 0\n",
      "176 - P6_3/m: 14\n",
      "177 - P622: 0\n",
      "178 - P6_122: 5\n",
      "179 - P6_522: 0\n",
      "180 - P6_222: 11\n",
      "181 - P6_422: 26\n",
      "182 - P6_322: 5\n",
      "183 - P6mm: 2\n",
      "184 - P6cc: 0\n",
      "185 - P6_3cm: 19\n",
      "186 - P6_3mc: 149\n",
      "187 - P-6m2: 56\n",
      "188 - P-6c2: 7\n",
      "189 - P-62m: 25\n",
      "190 - P-62c: 8\n",
      "191 - P6/mmm: 82\n",
      "192 - P6/mcc: 17\n",
      "193 - P6_3/mcm: 8\n",
      "194 - P6_3/mmc: 164\n",
      "195 - P23: 0\n",
      "196 - F23: 2\n",
      "197 - I23: 1\n",
      "198 - P2_13: 63\n",
      "199 - I2_13: 8\n",
      "200 - Pm-3: 6\n",
      "201 - Pn-3: 1\n",
      "202 - Fm-3: 1\n",
      "203 - Fd-3: 13\n",
      "204 - Im-3: 2\n",
      "205 - Pa-3: 14\n",
      "206 - Ia-3: 37\n",
      "207 - P432: 0\n",
      "208 - P4_232: 0\n",
      "209 - F432: 0\n",
      "210 - F4_132: 0\n",
      "211 - I432: 0\n",
      "212 - P4_332: 75\n",
      "213 - P4_132: 2\n",
      "214 - I4_132: 1\n",
      "215 - P-43m: 73\n",
      "216 - F-43m: 210\n",
      "217 - I-43m: 12\n",
      "218 - P-43n: 30\n",
      "219 - F-43c: 0\n",
      "220 - I-43d: 13\n",
      "221 - Pm-3m: 243\n",
      "222 - Pn-3n: 0\n",
      "223 - Pm-3n: 1\n",
      "224 - Pn-3m: 10\n",
      "225 - Fm-3m: 1029\n",
      "226 - Fm-3c: 1\n",
      "227 - Fd-3m: 175\n",
      "228 - Fd-3c: 0\n",
      "229 - Im-3m: 19\n",
      "230 - Ia-3d: 48\n"
     ]
    }
   ],
   "source": [
    "spacegroup_counts = []\n",
    "for i in np.arange(1, 231, 1):\n",
    "    symbol = sg_symbol_from_int_number(i)\n",
    "    print(\"{} - {}: {}\".format(i, symbol, len(structures_df[structures_df[\"spacegroup\"] == symbol])))\n",
    "    spacegroup_counts.append(len(structures_df[structures_df[\"spacegroup\"] == symbol]))"
   ]
  },
  {
   "cell_type": "markdown",
   "metadata": {},
   "source": [
    "### 1o. Save a copy without ASE structures for 3.7 compatibility (comment out if not needed)"
   ]
  },
  {
   "cell_type": "code",
   "execution_count": 32,
   "metadata": {},
   "outputs": [],
   "source": [
    "# savePath = os.path.join(os.getcwd(), 'structuresDF_3p8_postSanitize2_noASE.pkl')\n",
    "# saveFile = open(savePath, 'wb')\n",
    "# pickle.dump(newInstance.drop(['aseStructures'], axis=1), saveFile)\n",
    "# saveFile.close()"
   ]
  },
  {
   "cell_type": "markdown",
   "metadata": {},
   "source": [
    "### 1p. Create structure simplifications. Nine versions of the structure are used:\n",
    "\n",
    "* __structure:__ The original structure. \n",
    "* __structure_A:__ Only the anions. All anions are modeled as S atoms. \n",
    "* __structure_AM:__ Only the anions and mobile atoms. Anions and mobil atoms are modeled as S and Li, respectively. \n",
    "* __structure_CAN:__ Only the cations, anions, and mobile atoms. Cations, anions, and mobile atoms are modeled as Al, S, and Li, respectively. \n",
    "* __structure_CAMN:__ All atoms are retained. Cations, anions, mobile atoms, and neutral atoms are modeled as Al, S, Li, and Mg, respectively. \n",
    "* __structure_A40:__ As with structure_A but the lattice volume is scaled to 40 cubic angstroms per anion. \n",
    "* __structure_AM40:__ As with structure_AM but the lattice volume is scaled to 40 cubic angstroms per anion. \n",
    "* __structure_CAN40:__ As with structure_CAN but the lattice volume is scaled to 40 cubic angstroms per anion. \n",
    "* __structure_CAMN40:__ As with structure_CAMN but the lattice volume is scaled to 40 cubic angstroms per anion. \n",
    "\n",
    "    "
   ]
  },
  {
   "cell_type": "code",
   "execution_count": 33,
   "metadata": {},
   "outputs": [],
   "source": [
    "def structure_simplifications(structure_input, simplification_dict):\n",
    "    \"\"\"\n",
    "    Function intended to be used with pandas.DataFrame.apply()\n",
    "\n",
    "    The function takes a structure and then simplifies it based on the contents of simplification_dict.\n",
    "    The simplified structure is returned. \n",
    "\n",
    "\n",
    "    Parameters\n",
    "    ----------\n",
    "    structure_input : pymatgen.core.structure\n",
    "        a pymatgen structure file\n",
    "        \n",
    "    simplification_dict : dictionary\n",
    "        A dictionary containing boolean values for the keys: 'C', 'A', 'M', 'N', '40'\n",
    "\n",
    "    Returns\n",
    "    ------\n",
    "    structure: pymatgen.core.structure\n",
    "        the simplified structure\n",
    "    \"\"\"\n",
    "    \n",
    "    # copy the structure in case modification fails\n",
    "    structure = structure_input.copy()\n",
    "    \n",
    "    # create lists to keep track of the indices for the different atom types: cation, anion, mobile, neutral\n",
    "    cation_list = []\n",
    "    anion_list = []\n",
    "    mobile_list = []\n",
    "    neutral_list = []\n",
    "    \n",
    "    # create list to keep track of which atoms will be removed\n",
    "    removal_list = []\n",
    "    \n",
    "    # integer to keep track of how to scale the lattice (for the representations that end in '40')\n",
    "    scaling_counter = 0\n",
    "    \n",
    "    for idx, site in enumerate(structure):\n",
    "        # grab the element name at the site\n",
    "        element = site.species.elements[0].element.name\n",
    "        # grab the charge at the site\n",
    "        charge = site.specie.oxi_state\n",
    "        \n",
    "        # if the site is the mobile atom\n",
    "        if element == 'Li':\n",
    "            mobile_list.append(idx)\n",
    "        else:\n",
    "            # if the site holds a neutral atom\n",
    "            if charge == 0:\n",
    "                neutral_list.append(idx)\n",
    "                scaling_counter+=1\n",
    "                structure.replace(idx, mg.Specie(\"Mg\", oxidation_state=charge))\n",
    "            # if the site holds a cation\n",
    "            elif charge>0:\n",
    "                cation_list.append(idx)\n",
    "                structure.replace(idx, mg.Specie(\"Al\", oxidation_state=charge))\n",
    "            # if the site holds an anion\n",
    "            else:\n",
    "                anion_list.append(idx)\n",
    "                scaling_counter+=1\n",
    "                structure.replace(idx, mg.Specie(\"S\", oxidation_state=charge))\n",
    "    \n",
    "    # comparison to simplification_dict to decide which sites are removed\n",
    "    if not simplification_dict['C']:\n",
    "        removal_list += cation_list     \n",
    "    if not simplification_dict['A']:\n",
    "        removal_list += anion_list                \n",
    "    if not simplification_dict['M']:\n",
    "        removal_list += mobile_list\n",
    "    if not simplification_dict['N']:\n",
    "        removal_list += neutral_list\n",
    "    \n",
    "    # Special cases for the structures_A and structures_CAN representations\n",
    "    # Some structures have only Li. For these we are going to handle them as anions (because every representations includes anions)\n",
    "    if len(structure) == len(mobile_list):\n",
    "        if not simplification_dict['M']:\n",
    "            for idx in mobile_list:\n",
    "                structure.replace(idx, mg.Specie(\"S\", oxidation_state=charge))\n",
    "    \n",
    "    # Some structures have only neutrals or cations. For these we are going to handle them as anions (because every representation includes anions)\n",
    "    elif len(structure) == len(removal_list):\n",
    "        if len(neutral_list) > 0:\n",
    "            for idx in neutral_list:\n",
    "                structure.replace(idx, mg.Specie(\"S\", oxidation_state=charge))\n",
    "            structure.remove_sites(cation_list+mobile_list)\n",
    "        elif len(mobile_list) > 0:\n",
    "            for idx in mobile_list:\n",
    "                structure.replace(idx, mg.Specie(\"S\", oxidation_state=charge))\n",
    "            structure.remove_sites(cation_list+neutral_list)\n",
    "        elif len(cation_list) > 0:\n",
    "            for idx in cation_list:\n",
    "                structure.replace(idx, mg.Specie(\"S\", oxidation_state=charge))\n",
    "            structure.remove_sites(neutral_list+mobile_list)\n",
    "    \n",
    "    # otherwise just remove whatever is in the removal list\n",
    "    else:\n",
    "        structure.remove_sites(removal_list)\n",
    "    \n",
    "    # if simplification_dict indicates that the lattice should be scaled\n",
    "    if simplification_dict['40']:              \n",
    "        if scaling_counter > 0:\n",
    "            structure.scale_lattice(40*scaling_counter)\n",
    "    \n",
    "    return structure"
   ]
  },
  {
   "cell_type": "code",
   "execution_count": 34,
   "metadata": {},
   "outputs": [
    {
     "data": {
      "application/vnd.jupyter.widget-view+json": {
       "model_id": "580541e9fb794b5ea996ba4b892368e8",
       "version_major": 2,
       "version_minor": 0
      },
      "text/plain": [
       "  0%|          | 0/25193 [00:00<?, ?it/s]"
      ]
     },
     "metadata": {},
     "output_type": "display_data"
    },
    {
     "data": {
      "application/vnd.jupyter.widget-view+json": {
       "model_id": "cafdc01bb9f04f9b948af9bc514ee2cd",
       "version_major": 2,
       "version_minor": 0
      },
      "text/plain": [
       "  0%|          | 0/25193 [00:00<?, ?it/s]"
      ]
     },
     "metadata": {},
     "output_type": "display_data"
    },
    {
     "data": {
      "application/vnd.jupyter.widget-view+json": {
       "model_id": "74f7cc93e2974fd7a28061bfa301cd73",
       "version_major": 2,
       "version_minor": 0
      },
      "text/plain": [
       "  0%|          | 0/25193 [00:00<?, ?it/s]"
      ]
     },
     "metadata": {},
     "output_type": "display_data"
    },
    {
     "data": {
      "application/vnd.jupyter.widget-view+json": {
       "model_id": "6721d58a82ac4191936169bcd442341c",
       "version_major": 2,
       "version_minor": 0
      },
      "text/plain": [
       "  0%|          | 0/25193 [00:00<?, ?it/s]"
      ]
     },
     "metadata": {},
     "output_type": "display_data"
    },
    {
     "data": {
      "application/vnd.jupyter.widget-view+json": {
       "model_id": "b7af00a2bcbe4c2783a6cb8b1f4bbb93",
       "version_major": 2,
       "version_minor": 0
      },
      "text/plain": [
       "  0%|          | 0/25193 [00:00<?, ?it/s]"
      ]
     },
     "metadata": {},
     "output_type": "display_data"
    },
    {
     "data": {
      "application/vnd.jupyter.widget-view+json": {
       "model_id": "78d19573daa3482180931a27e98b6ca4",
       "version_major": 2,
       "version_minor": 0
      },
      "text/plain": [
       "  0%|          | 0/25193 [00:00<?, ?it/s]"
      ]
     },
     "metadata": {},
     "output_type": "display_data"
    },
    {
     "data": {
      "application/vnd.jupyter.widget-view+json": {
       "model_id": "03661aed4b104773bd28218d1315cb91",
       "version_major": 2,
       "version_minor": 0
      },
      "text/plain": [
       "  0%|          | 0/25193 [00:00<?, ?it/s]"
      ]
     },
     "metadata": {},
     "output_type": "display_data"
    },
    {
     "data": {
      "application/vnd.jupyter.widget-view+json": {
       "model_id": "57466131d6b34b9c8e69ede832cbd13a",
       "version_major": 2,
       "version_minor": 0
      },
      "text/plain": [
       "  0%|          | 0/25193 [00:00<?, ?it/s]"
      ]
     },
     "metadata": {},
     "output_type": "display_data"
    }
   ],
   "source": [
    "# the eight distinct simplification dictionary are hardcoded here\n",
    "simplification_dict_A = {'C':False, 'A':True, 'M':False, 'N':False, '40':False}\n",
    "simplification_dict_AM = {'C':False, 'A':True, 'M':True, 'N':False, '40':False}\n",
    "simplification_dict_CAN = {'C':True, 'A':True, 'M':False, 'N':True, '40':False}\n",
    "simplification_dict_CAMN = {'C':True, 'A':True, 'M':True, 'N':True, '40':False}\n",
    "simplification_dict_A40 = {'C':False, 'A':True, 'M':False, 'N':False, '40':True}\n",
    "simplification_dict_AM40 = {'C':False, 'A':True, 'M':True, 'N':False, '40':True}\n",
    "simplification_dict_CAN40 = {'C':True, 'A':True, 'M':False, 'N':True, '40':True}\n",
    "simplification_dict_CAMN40 = {'C':True, 'A':True, 'M':True, 'N':True, '40':True}\n",
    "\n",
    "# application of the structure_simplification() function, applied once for each simplification dictionary\n",
    "structures_df['structure_A'] = structures_df['structure'].progress_apply(structure_simplifications, simplification_dict=simplification_dict_A)\n",
    "structures_df['structure_AM'] = structures_df['structure'].progress_apply(structure_simplifications, simplification_dict=simplification_dict_AM)\n",
    "structures_df['structure_CAN'] = structures_df['structure'].progress_apply(structure_simplifications, simplification_dict=simplification_dict_CAN)\n",
    "structures_df['structure_CAMN'] = structures_df['structure'].progress_apply(structure_simplifications, simplification_dict=simplification_dict_CAMN)\n",
    "structures_df['structure_A40'] = structures_df['structure'].progress_apply(structure_simplifications, simplification_dict=simplification_dict_A40)\n",
    "structures_df['structure_AM40'] = structures_df['structure'].progress_apply(structure_simplifications, simplification_dict=simplification_dict_AM40)\n",
    "structures_df['structure_CAN40'] = structures_df['structure'].progress_apply(structure_simplifications, simplification_dict=simplification_dict_CAN40)\n",
    "structures_df['structure_CAMN40'] = structures_df['structure'].progress_apply(structure_simplifications, simplification_dict=simplification_dict_CAMN40)"
   ]
  },
  {
   "cell_type": "code",
   "execution_count": 35,
   "metadata": {},
   "outputs": [
    {
     "data": {
      "text/html": [
       "<div>\n",
       "<style scoped>\n",
       "    .dataframe tbody tr th:only-of-type {\n",
       "        vertical-align: middle;\n",
       "    }\n",
       "\n",
       "    .dataframe tbody tr th {\n",
       "        vertical-align: top;\n",
       "    }\n",
       "\n",
       "    .dataframe thead th {\n",
       "        text-align: right;\n",
       "    }\n",
       "</style>\n",
       "<table border=\"1\" class=\"dataframe\">\n",
       "  <thead>\n",
       "    <tr style=\"text-align: right;\">\n",
       "      <th></th>\n",
       "      <th>index</th>\n",
       "      <th>structure</th>\n",
       "      <th>ICSD_ID</th>\n",
       "      <th>MP_ID</th>\n",
       "      <th>pretty_formula</th>\n",
       "      <th>spacegroup</th>\n",
       "      <th>bandgap</th>\n",
       "      <th>e_hull</th>\n",
       "      <th>ase_structure</th>\n",
       "      <th>composition</th>\n",
       "      <th>replacement</th>\n",
       "      <th>structure_A</th>\n",
       "      <th>structure_AM</th>\n",
       "      <th>structure_CAN</th>\n",
       "      <th>structure_CAMN</th>\n",
       "      <th>structure_A40</th>\n",
       "      <th>structure_AM40</th>\n",
       "      <th>structure_CAN40</th>\n",
       "      <th>structure_CAMN40</th>\n",
       "    </tr>\n",
       "  </thead>\n",
       "  <tbody>\n",
       "    <tr>\n",
       "      <th>0</th>\n",
       "      <td>0</td>\n",
       "      <td>[[0.        0.        2.6255595] Li0+, [0.    ...</td>\n",
       "      <td>180565</td>\n",
       "      <td>mp-1001790</td>\n",
       "      <td>LiO3</td>\n",
       "      <td>Imm2</td>\n",
       "      <td>0.0854</td>\n",
       "      <td>0.225420</td>\n",
       "      <td>(Atom('Li', [0.0, 0.0, 2.6255594986], index=0)...</td>\n",
       "      <td>Li1 O3</td>\n",
       "      <td>None</td>\n",
       "      <td>[[0.         0.         5.35128645] S0+, [5.55...</td>\n",
       "      <td>[[0.        0.        2.6255595] Li0+]</td>\n",
       "      <td>[[0.         0.         5.35128645] Mg0+, [5.5...</td>\n",
       "      <td>[[0.        0.        2.6255595] Li0+, [0.    ...</td>\n",
       "      <td>[[0.        0.        7.5441549] S0+, [-1.1102...</td>\n",
       "      <td>[[0.         0.         3.70147024] Li0+]</td>\n",
       "      <td>[[0.        0.        7.5441549] Mg0+, [-1.110...</td>\n",
       "      <td>[[0.         0.         3.70147024] Li0+, [0. ...</td>\n",
       "    </tr>\n",
       "    <tr>\n",
       "      <th>1</th>\n",
       "      <td>1</td>\n",
       "      <td>[[2.79072525 1.34013453 0.79373764] Li0+, [0.9...</td>\n",
       "      <td>188829</td>\n",
       "      <td>mp-1001825</td>\n",
       "      <td>LiBe</td>\n",
       "      <td>P2_1/m</td>\n",
       "      <td>0.0000</td>\n",
       "      <td>0.166972</td>\n",
       "      <td>(Atom('Li', [2.79072525, 1.34013452726, 0.7937...</td>\n",
       "      <td>Li2 Be2</td>\n",
       "      <td>None</td>\n",
       "      <td>[[2.79072525 1.17476284 3.09734748] S0+, [0.93...</td>\n",
       "      <td>[[2.79072525 1.34013453 0.79373764] Li0+, [0.9...</td>\n",
       "      <td>[[2.79072525 1.17476284 3.09734748] Mg0+, [0.9...</td>\n",
       "      <td>[[2.79072525 1.34013453 0.79373764] Li0+, [0.9...</td>\n",
       "      <td>[[3.39085782 1.42739017 3.76341775] S0+, [1.13...</td>\n",
       "      <td>[[3.39085782 1.62832427 0.96442725] Li0+, [1.1...</td>\n",
       "      <td>[[3.39085782 1.42739017 3.76341775] Mg0+, [1.1...</td>\n",
       "      <td>[[3.39085782 1.62832427 0.96442725] Li0+, [1.1...</td>\n",
       "    </tr>\n",
       "    <tr>\n",
       "      <th>2</th>\n",
       "      <td>2</td>\n",
       "      <td>[[2.412716 2.412716 2.412716] Li0+, [3.619074 ...</td>\n",
       "      <td>236959</td>\n",
       "      <td>mp-1001831</td>\n",
       "      <td>LiB</td>\n",
       "      <td>Fd-3m</td>\n",
       "      <td>1.4331</td>\n",
       "      <td>0.386054</td>\n",
       "      <td>(Atom('Li', [2.412716, 2.412716, 2.412716], in...</td>\n",
       "      <td>Li2 B2</td>\n",
       "      <td>None</td>\n",
       "      <td>[[1.206358 1.206358 1.206358] S0+, [0. 0. 0.] ...</td>\n",
       "      <td>[[2.412716 2.412716 2.412716] Li0+, [3.619074 ...</td>\n",
       "      <td>[[1.206358 1.206358 1.206358] Mg0+, [0. 0. 0.]...</td>\n",
       "      <td>[[2.412716 2.412716 2.412716] Li0+, [3.619074 ...</td>\n",
       "      <td>[[1.70997595 1.70997595 1.70997595] S0+, [0. 0...</td>\n",
       "      <td>[[3.41995189 3.41995189 3.41995189] Li0+, [5.1...</td>\n",
       "      <td>[[1.70997595 1.70997595 1.70997595] Mg0+, [0. ...</td>\n",
       "      <td>[[3.41995189 3.41995189 3.41995189] Li0+, [5.1...</td>\n",
       "    </tr>\n",
       "    <tr>\n",
       "      <th>3</th>\n",
       "      <td>3</td>\n",
       "      <td>[[0. 0. 0.] Li+, [1.2797665 1.2797665 1.279766...</td>\n",
       "      <td>184904</td>\n",
       "      <td>mp-1009009</td>\n",
       "      <td>LiF</td>\n",
       "      <td>Pm-3m</td>\n",
       "      <td>7.5195</td>\n",
       "      <td>0.287542</td>\n",
       "      <td>(Atom('Li', [0.0, 0.0, 0.0], index=0), Atom('F...</td>\n",
       "      <td>Li1 F1</td>\n",
       "      <td>None</td>\n",
       "      <td>[[1.2797665 1.2797665 1.2797665] S-]</td>\n",
       "      <td>[[0. 0. 0.] Li+, [1.2797665 1.2797665 1.279766...</td>\n",
       "      <td>[[1.2797665 1.2797665 1.2797665] S-]</td>\n",
       "      <td>[[0. 0. 0.] Li+, [1.2797665 1.2797665 1.279766...</td>\n",
       "      <td>[[1.70997595 1.70997595 1.70997595] S-]</td>\n",
       "      <td>[[0. 0. 0.] Li+, [1.70997595 1.70997595 1.7099...</td>\n",
       "      <td>[[1.70997595 1.70997595 1.70997595] S-]</td>\n",
       "      <td>[[0. 0. 0.] Li+, [1.70997595 1.70997595 1.7099...</td>\n",
       "    </tr>\n",
       "    <tr>\n",
       "      <th>4</th>\n",
       "      <td>4</td>\n",
       "      <td>[[1.4805505 1.9928345 2.448045 ] Li0+, [0. 0. ...</td>\n",
       "      <td>180561</td>\n",
       "      <td>mp-1018789</td>\n",
       "      <td>LiO2</td>\n",
       "      <td>Pnnm</td>\n",
       "      <td>0.0000</td>\n",
       "      <td>0.084218</td>\n",
       "      <td>(Atom('Li', [1.4805505, 1.9928345, 2.448045], ...</td>\n",
       "      <td>Li2 O4</td>\n",
       "      <td>None</td>\n",
       "      <td>[[1.4805505  2.51837684 0.41921791] S0+, [1.48...</td>\n",
       "      <td>[[1.4805505 1.9928345 2.448045 ] Li0+, [0. 0. ...</td>\n",
       "      <td>[[1.4805505  2.51837684 0.41921791] Mg0+, [1.4...</td>\n",
       "      <td>[[1.4805505 1.9928345 2.448045 ] Li0+, [0. 0. ...</td>\n",
       "      <td>[[2.07903566 3.53638411 0.588679  ] S0+, [2.07...</td>\n",
       "      <td>[[2.07903566 2.798401   3.43762192] Li0+, [0. ...</td>\n",
       "      <td>[[2.07903566 3.53638411 0.588679  ] Mg0+, [2.0...</td>\n",
       "      <td>[[2.07903566 2.798401   3.43762192] Li0+, [0. ...</td>\n",
       "    </tr>\n",
       "  </tbody>\n",
       "</table>\n",
       "</div>"
      ],
      "text/plain": [
       "   index                                          structure  ICSD_ID  \\\n",
       "0      0  [[0.        0.        2.6255595] Li0+, [0.    ...   180565   \n",
       "1      1  [[2.79072525 1.34013453 0.79373764] Li0+, [0.9...   188829   \n",
       "2      2  [[2.412716 2.412716 2.412716] Li0+, [3.619074 ...   236959   \n",
       "3      3  [[0. 0. 0.] Li+, [1.2797665 1.2797665 1.279766...   184904   \n",
       "4      4  [[1.4805505 1.9928345 2.448045 ] Li0+, [0. 0. ...   180561   \n",
       "\n",
       "        MP_ID pretty_formula spacegroup  bandgap    e_hull  \\\n",
       "0  mp-1001790           LiO3       Imm2   0.0854  0.225420   \n",
       "1  mp-1001825           LiBe     P2_1/m   0.0000  0.166972   \n",
       "2  mp-1001831            LiB      Fd-3m   1.4331  0.386054   \n",
       "3  mp-1009009            LiF      Pm-3m   7.5195  0.287542   \n",
       "4  mp-1018789           LiO2       Pnnm   0.0000  0.084218   \n",
       "\n",
       "                                       ase_structure composition replacement  \\\n",
       "0  (Atom('Li', [0.0, 0.0, 2.6255594986], index=0)...      Li1 O3        None   \n",
       "1  (Atom('Li', [2.79072525, 1.34013452726, 0.7937...     Li2 Be2        None   \n",
       "2  (Atom('Li', [2.412716, 2.412716, 2.412716], in...      Li2 B2        None   \n",
       "3  (Atom('Li', [0.0, 0.0, 0.0], index=0), Atom('F...      Li1 F1        None   \n",
       "4  (Atom('Li', [1.4805505, 1.9928345, 2.448045], ...      Li2 O4        None   \n",
       "\n",
       "                                         structure_A  \\\n",
       "0  [[0.         0.         5.35128645] S0+, [5.55...   \n",
       "1  [[2.79072525 1.17476284 3.09734748] S0+, [0.93...   \n",
       "2  [[1.206358 1.206358 1.206358] S0+, [0. 0. 0.] ...   \n",
       "3               [[1.2797665 1.2797665 1.2797665] S-]   \n",
       "4  [[1.4805505  2.51837684 0.41921791] S0+, [1.48...   \n",
       "\n",
       "                                        structure_AM  \\\n",
       "0             [[0.        0.        2.6255595] Li0+]   \n",
       "1  [[2.79072525 1.34013453 0.79373764] Li0+, [0.9...   \n",
       "2  [[2.412716 2.412716 2.412716] Li0+, [3.619074 ...   \n",
       "3  [[0. 0. 0.] Li+, [1.2797665 1.2797665 1.279766...   \n",
       "4  [[1.4805505 1.9928345 2.448045 ] Li0+, [0. 0. ...   \n",
       "\n",
       "                                       structure_CAN  \\\n",
       "0  [[0.         0.         5.35128645] Mg0+, [5.5...   \n",
       "1  [[2.79072525 1.17476284 3.09734748] Mg0+, [0.9...   \n",
       "2  [[1.206358 1.206358 1.206358] Mg0+, [0. 0. 0.]...   \n",
       "3               [[1.2797665 1.2797665 1.2797665] S-]   \n",
       "4  [[1.4805505  2.51837684 0.41921791] Mg0+, [1.4...   \n",
       "\n",
       "                                      structure_CAMN  \\\n",
       "0  [[0.        0.        2.6255595] Li0+, [0.    ...   \n",
       "1  [[2.79072525 1.34013453 0.79373764] Li0+, [0.9...   \n",
       "2  [[2.412716 2.412716 2.412716] Li0+, [3.619074 ...   \n",
       "3  [[0. 0. 0.] Li+, [1.2797665 1.2797665 1.279766...   \n",
       "4  [[1.4805505 1.9928345 2.448045 ] Li0+, [0. 0. ...   \n",
       "\n",
       "                                       structure_A40  \\\n",
       "0  [[0.        0.        7.5441549] S0+, [-1.1102...   \n",
       "1  [[3.39085782 1.42739017 3.76341775] S0+, [1.13...   \n",
       "2  [[1.70997595 1.70997595 1.70997595] S0+, [0. 0...   \n",
       "3            [[1.70997595 1.70997595 1.70997595] S-]   \n",
       "4  [[2.07903566 3.53638411 0.588679  ] S0+, [2.07...   \n",
       "\n",
       "                                      structure_AM40  \\\n",
       "0          [[0.         0.         3.70147024] Li0+]   \n",
       "1  [[3.39085782 1.62832427 0.96442725] Li0+, [1.1...   \n",
       "2  [[3.41995189 3.41995189 3.41995189] Li0+, [5.1...   \n",
       "3  [[0. 0. 0.] Li+, [1.70997595 1.70997595 1.7099...   \n",
       "4  [[2.07903566 2.798401   3.43762192] Li0+, [0. ...   \n",
       "\n",
       "                                     structure_CAN40  \\\n",
       "0  [[0.        0.        7.5441549] Mg0+, [-1.110...   \n",
       "1  [[3.39085782 1.42739017 3.76341775] Mg0+, [1.1...   \n",
       "2  [[1.70997595 1.70997595 1.70997595] Mg0+, [0. ...   \n",
       "3            [[1.70997595 1.70997595 1.70997595] S-]   \n",
       "4  [[2.07903566 3.53638411 0.588679  ] Mg0+, [2.0...   \n",
       "\n",
       "                                    structure_CAMN40  \n",
       "0  [[0.         0.         3.70147024] Li0+, [0. ...  \n",
       "1  [[3.39085782 1.62832427 0.96442725] Li0+, [1.1...  \n",
       "2  [[3.41995189 3.41995189 3.41995189] Li0+, [5.1...  \n",
       "3  [[0. 0. 0.] Li+, [1.70997595 1.70997595 1.7099...  \n",
       "4  [[2.07903566 2.798401   3.43762192] Li0+, [0. ...  "
      ]
     },
     "execution_count": 35,
     "metadata": {},
     "output_type": "execute_result"
    }
   ],
   "source": [
    "# inspection of the dataframe with the eight new simplifications\n",
    "structures_df.head()"
   ]
  },
  {
   "cell_type": "markdown",
   "metadata": {},
   "source": [
    "### 1q. Save and reload dataframe"
   ]
  },
  {
   "cell_type": "code",
   "execution_count": 36,
   "metadata": {},
   "outputs": [],
   "source": [
    "save_path = os.path.join(os.getcwd(), 'semi-supervised_supporting_files/structures_df_3p8_post_sanitize_w_simplifications.pkl')\n",
    "save_file = open(save_path, 'wb')\n",
    "pickle.dump(structures_df, save_file)\n",
    "save_file.close()"
   ]
  },
  {
   "cell_type": "code",
   "execution_count": 37,
   "metadata": {},
   "outputs": [],
   "source": [
    "save_path = os.path.join(os.getcwd(), 'semi-supervised_supporting_files/structures_df_3p8_post_sanitize_w_simplifications.pkl')\n",
    "open_file = open(save_path, 'rb')\n",
    "structures_df = pickle.load(open_file)\n",
    "open_file.close()"
   ]
  },
  {
   "cell_type": "markdown",
   "metadata": {},
   "source": [
    "### 1r. Use nglview to manually examine some of the simplifications."
   ]
  },
  {
   "cell_type": "code",
   "execution_count": 38,
   "metadata": {},
   "outputs": [
    {
     "data": {
      "application/vnd.jupyter.widget-view+json": {
       "model_id": "bc70e09ca6d14d7b833c11a1b326b5a5",
       "version_major": 2,
       "version_minor": 0
      },
      "text/plain": []
     },
     "metadata": {},
     "output_type": "display_data"
    }
   ],
   "source": [
    "import nglview as nv"
   ]
  },
  {
   "cell_type": "code",
   "execution_count": 39,
   "metadata": {},
   "outputs": [
    {
     "data": {
      "text/plain": [
       "Structure Summary\n",
       "Lattice\n",
       "    abc : 5.273309274773669 8.331184752050396 8.892704483114459\n",
       " angles : 71.27636949794744 88.42532209537619 100.86183111618156\n",
       " volume : 361.74890480514074\n",
       "      A : 5.270937 -0.069759 -0.141942\n",
       "      B : -1.325141 4.36416 6.971854\n",
       "      C : 0.35824 -5.53989 6.947048\n",
       "PeriodicSite: Li+ (2.9726, 0.7833, 4.7070) [0.6670, 0.4695, 0.2200]\n",
       "PeriodicSite: Li+ (-0.1466, 0.2302, 11.7376) [0.1670, 0.9695, 0.7201]\n",
       "PeriodicSite: Li+ (1.3313, -2.0289, 9.0701) [0.3329, 0.5305, 0.7800]\n",
       "PeriodicSite: Li+ (4.4504, -1.4759, 2.0396) [0.8330, 0.0305, 0.2800]\n",
       "PeriodicSite: Li+ (3.9625, -2.1577, 10.4115) [0.8516, 0.6349, 0.8789]\n",
       "PeriodicSite: Li+ (1.8103, -1.5349, 3.5232) [0.3516, 0.1349, 0.3789]\n",
       "PeriodicSite: Li+ (0.3413, 0.9121, 3.3655) [0.1483, 0.3651, 0.1211]\n",
       "PeriodicSite: Li+ (2.4936, 0.2892, 10.2540) [0.6484, 0.8651, 0.6211]\n",
       "PeriodicSite: Li+ (3.5870, 2.9679, 6.3715) [0.8814, 0.8273, 0.1049]\n",
       "PeriodicSite: Li+ (1.7930, -1.9492, 6.4300) [0.3813, 0.3273, 0.6049]\n",
       "PeriodicSite: Li+ (0.7170, -4.2134, 7.4056) [0.1186, 0.1727, 0.8951]\n",
       "PeriodicSite: Li+ (2.5109, 0.7036, 7.3470) [0.6186, 0.6727, 0.3951]\n",
       "PeriodicSite: Li+ (4.2631, -1.7751, 7.8042) [0.8797, 0.4645, 0.6752]\n",
       "PeriodicSite: Li+ (0.7857, 3.2118, 7.8876) [0.3796, 0.9645, 0.1752]\n",
       "PeriodicSite: Li+ (0.0410, 0.5294, 5.9729) [0.1203, 0.5355, 0.3248]\n",
       "PeriodicSite: Li+ (3.5180, -4.4573, 5.8895) [0.6203, 0.0355, 0.8248]\n",
       "PeriodicSite: Fe4+ (0.0947, 0.6761, 8.7057) [0.1790, 0.7710, 0.4831]\n",
       "PeriodicSite: Fe4+ (0.7332, 3.0661, 5.1546) [0.3213, 0.7291, 0.0169]\n",
       "PeriodicSite: Fe4+ (3.5711, -4.3110, 8.6215) [0.6788, 0.2709, 0.9830]\n",
       "PeriodicSite: Fe4+ (4.2098, -1.9212, 5.0713) [0.8211, 0.2291, 0.5169]\n",
       "PeriodicSite: O2- (2.5377, -3.0069, 7.9332) [0.5131, 0.3440, 0.8073]\n",
       "PeriodicSite: O2- (-0.9388, 1.9798, 8.0169) [0.0132, 0.8440, 0.3073]\n",
       "PeriodicSite: O2- (1.7660, 1.7615, 5.8436) [0.4869, 0.6560, 0.1927]\n",
       "PeriodicSite: O2- (5.2428, -3.2255, 5.7604) [0.9868, 0.1560, 0.6927]\n",
       "PeriodicSite: O2- (2.1540, 0.2949, 2.8111) [0.4649, 0.2642, 0.1490]\n",
       "PeriodicSite: O2- (4.3059, -0.3281, 9.7000) [0.9649, 0.7642, 0.6491]\n",
       "PeriodicSite: O2- (2.1504, -1.5401, 10.9654) [0.5351, 0.7358, 0.8509]\n",
       "PeriodicSite: O2- (-0.0017, -0.9173, 4.0769) [0.0351, 0.2358, 0.3509]\n",
       "PeriodicSite: O2- (3.9492, -0.0871, 0.6636) [0.7604, 0.0586, 0.0523]\n",
       "PeriodicSite: O2- (0.8305, -0.6400, 7.6941) [0.2605, 0.5586, 0.5523]\n",
       "PeriodicSite: O2- (0.3547, -1.1586, 13.1134) [0.2396, 0.9414, 0.9477]\n",
       "PeriodicSite: O2- (3.4735, -0.6057, 6.0828) [0.7395, 0.4414, 0.4477]\n",
       "PeriodicSite: O2- (5.0535, -3.3169, 8.9259) [0.9983, 0.4014, 0.9024]\n",
       "PeriodicSite: O2- (1.5766, 1.6699, 9.0093) [0.4984, 0.9014, 0.4024]\n",
       "PeriodicSite: O2- (-0.7492, 2.0716, 4.8512) [0.0017, 0.5986, 0.0976]\n",
       "PeriodicSite: O2- (2.7276, -2.9152, 4.7678) [0.5017, 0.0986, 0.5976]"
      ]
     },
     "execution_count": 39,
     "metadata": {},
     "output_type": "execute_result"
    }
   ],
   "source": [
    "structures_df.loc[1000, \"structure\"]"
   ]
  },
  {
   "cell_type": "code",
   "execution_count": 40,
   "metadata": {},
   "outputs": [
    {
     "data": {
      "application/vnd.jupyter.widget-view+json": {
       "model_id": "10f2be1633174d178200285b2f9eafc2",
       "version_major": 2,
       "version_minor": 0
      },
      "text/plain": [
       "NGLWidget()"
      ]
     },
     "metadata": {},
     "output_type": "display_data"
    }
   ],
   "source": [
    "view = nv.show_pymatgen(structures_df.loc[1000, \"structure\"])\n",
    "view._remote_call('setSize', args = ['', '600px'])\n",
    "view.camera = 'orthographic'\n",
    "view.add_unitcell()\n",
    "view"
   ]
  },
  {
   "cell_type": "code",
   "execution_count": 41,
   "metadata": {},
   "outputs": [
    {
     "data": {
      "application/vnd.jupyter.widget-view+json": {
       "model_id": "db61cd93083440908d7eb9f46d53e6a1",
       "version_major": 2,
       "version_minor": 0
      },
      "text/plain": [
       "NGLWidget()"
      ]
     },
     "metadata": {},
     "output_type": "display_data"
    }
   ],
   "source": [
    "view2 = nv.show_pymatgen(structures_df.loc[1000, \"structure_CAMN40\"])\n",
    "view2._remote_call('setSize', args = ['', '600px'])\n",
    "view2.camera = 'orthographic'\n",
    "view2.add_unitcell()\n",
    "view2"
   ]
  }
 ],
 "metadata": {
  "kernelspec": {
   "display_name": "Python 3 (ipykernel)",
   "language": "python",
   "name": "python3"
  },
  "language_info": {
   "codemirror_mode": {
    "name": "ipython",
    "version": 3
   },
   "file_extension": ".py",
   "mimetype": "text/x-python",
   "name": "python",
   "nbconvert_exporter": "python",
   "pygments_lexer": "ipython3",
   "version": "3.8.5"
  },
  "widgets": {
   "application/vnd.jupyter.widget-state+json": {
    "state": {},
    "version_major": 2,
    "version_minor": 0
   }
  }
 },
 "nbformat": 4,
 "nbformat_minor": 4
}
