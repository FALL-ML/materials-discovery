{
 "cells": [
  {
   "cell_type": "code",
   "execution_count": 2,
   "metadata": {},
   "outputs": [],
   "source": [
    "from multiprocessing import set_start_method\n",
    "# set_start_method(\"spawn\")\n",
    "\n",
    "import os\n",
    "import pickle\n",
    "import numpy as np\n",
    "from numpy import nan as Nan\n",
    "import pandas as pd\n",
    "\n",
    "from ase import atoms\n",
    "from ase.io import read, write\n",
    "from dscribe.descriptors import SOAP\n",
    "import matminer.featurizers.composition as mm_composition\n",
    "import matminer.featurizers.structure as mm_structure\n",
    "import pymatgen as mg\n",
    "from pymatgen.io import ase\n",
    "from pymatgen.io.cif import CifParser\n",
    "from pymatgen.io.cif import CifWriter\n",
    "\n",
    "from tqdm import notebook as tqdm\n",
    "from tqdm.auto import tqdm as tqdm_pandas\n",
    "tqdm_pandas.pandas()\n",
    "\n",
    "AAA = ase.AseAtomsAdaptor\n",
    "\n",
    "# # CAVD imports, comment out when using 3.7\n",
    "# from numpy import nan as NaN\n",
    "# from monty.io import zopen\n",
    "# from cavd.channel import Channel\n",
    "# from cavd.netstorage import AtomNetwork, connection_values_list\n",
    "# from cavd.local_environment import CifParser_new, LocalEnvirCom\n",
    "# import re"
   ]
  },
  {
   "cell_type": "markdown",
   "metadata": {},
   "source": [
    "### 3a. Load the structures_df from the saved pickle\n",
    "\n",
    "The structures_df already contains the eight simplifications plus the original structure. Thus there are nine unique representations. "
   ]
  },
  {
   "cell_type": "code",
   "execution_count": 3,
   "metadata": {},
   "outputs": [],
   "source": [
    "save_path = os.path.join(os.getcwd(), 'structures_df_3p8_post_sanitize_w_simplifications.pkl')\n",
    "open_file = open(save_path, 'rb')\n",
    "structures_df = pickle.load(open_file)\n",
    "open_file.close()"
   ]
  },
  {
   "cell_type": "code",
   "execution_count": 3,
   "metadata": {},
   "outputs": [
    {
     "data": {
      "text/html": [
       "<div>\n",
       "<style scoped>\n",
       "    .dataframe tbody tr th:only-of-type {\n",
       "        vertical-align: middle;\n",
       "    }\n",
       "\n",
       "    .dataframe tbody tr th {\n",
       "        vertical-align: top;\n",
       "    }\n",
       "\n",
       "    .dataframe thead th {\n",
       "        text-align: right;\n",
       "    }\n",
       "</style>\n",
       "<table border=\"1\" class=\"dataframe\">\n",
       "  <thead>\n",
       "    <tr style=\"text-align: right;\">\n",
       "      <th></th>\n",
       "      <th>index</th>\n",
       "      <th>structure</th>\n",
       "      <th>ICSD_ID</th>\n",
       "      <th>MP_ID</th>\n",
       "      <th>pretty_formula</th>\n",
       "      <th>spacegroup</th>\n",
       "      <th>bandgap</th>\n",
       "      <th>e_hull</th>\n",
       "      <th>ase_structure</th>\n",
       "      <th>composition</th>\n",
       "      <th>replacement</th>\n",
       "      <th>structure_A</th>\n",
       "      <th>structure_AM</th>\n",
       "      <th>structure_CAN</th>\n",
       "      <th>structure_CAMN</th>\n",
       "      <th>structure_A40</th>\n",
       "      <th>structure_AM40</th>\n",
       "      <th>structure_CAN40</th>\n",
       "      <th>structure_CAMN40</th>\n",
       "    </tr>\n",
       "  </thead>\n",
       "  <tbody>\n",
       "    <tr>\n",
       "      <th>0</th>\n",
       "      <td>0</td>\n",
       "      <td>[[2.4232425 2.4232425 2.4232425] K0+, [7.26972...</td>\n",
       "      <td>0</td>\n",
       "      <td>mp-1184876</td>\n",
       "      <td>K3Li</td>\n",
       "      <td>Fm-3m</td>\n",
       "      <td>0.0</td>\n",
       "      <td>0.116417</td>\n",
       "      <td>(Atom('K', [2.4232425, 2.4232425, 2.4232425], ...</td>\n",
       "      <td>K3 Li1</td>\n",
       "      <td>None</td>\n",
       "      <td>[[2.4232425 2.4232425 2.4232425] S0+, [7.26972...</td>\n",
       "      <td>[[0. 0. 0.] Li0+]</td>\n",
       "      <td>[[2.4232425 2.4232425 2.4232425] Mg0+, [7.2697...</td>\n",
       "      <td>[[2.4232425 2.4232425 2.4232425] Mg0+, [7.2697...</td>\n",
       "      <td>[[1.95743382 1.95743382 1.95743382] S0+, [5.87...</td>\n",
       "      <td>[[0. 0. 0.] Li0+]</td>\n",
       "      <td>[[1.95743382 1.95743382 1.95743382] Mg0+, [5.8...</td>\n",
       "      <td>[[1.95743382 1.95743382 1.95743382] Mg0+, [5.8...</td>\n",
       "    </tr>\n",
       "    <tr>\n",
       "      <th>1</th>\n",
       "      <td>1</td>\n",
       "      <td>[[2.22044605e-16 2.06300000e+00 2.18689500e+00...</td>\n",
       "      <td>0</td>\n",
       "      <td>mp-975904</td>\n",
       "      <td>Li3Cd</td>\n",
       "      <td>I4/mmm</td>\n",
       "      <td>0.0</td>\n",
       "      <td>0.007391</td>\n",
       "      <td>(Atom('Li', [2.220446049250313e-16, 2.06299999...</td>\n",
       "      <td>Li3 Cd1</td>\n",
       "      <td>None</td>\n",
       "      <td>[[0. 0. 0.] S0+]</td>\n",
       "      <td>[[2.22044605e-16 2.06300000e+00 2.18689500e+00...</td>\n",
       "      <td>[[0. 0. 0.] Mg0+]</td>\n",
       "      <td>[[2.22044605e-16 2.06300000e+00 2.18689500e+00...</td>\n",
       "      <td>[[0. 0. 0.] S0+]</td>\n",
       "      <td>[[0.         1.67705421 1.77777094] Li0+, [1.6...</td>\n",
       "      <td>[[0. 0. 0.] Mg0+]</td>\n",
       "      <td>[[0.         1.67705421 1.77777094] Li0+, [1.6...</td>\n",
       "    </tr>\n",
       "    <tr>\n",
       "      <th>2</th>\n",
       "      <td>2</td>\n",
       "      <td>[[ 1.584828  -0.9150025  0.       ] Li0+, [ 0....</td>\n",
       "      <td>0</td>\n",
       "      <td>mp-1094588</td>\n",
       "      <td>LiMg5</td>\n",
       "      <td>P-6m2</td>\n",
       "      <td>0.0</td>\n",
       "      <td>0.046814</td>\n",
       "      <td>(Atom('Li', [1.584828, -0.9150024966679999, 0....</td>\n",
       "      <td>Li1 Mg5</td>\n",
       "      <td>None</td>\n",
       "      <td>[[ 0.          0.         12.82761011] S0+, [ ...</td>\n",
       "      <td>[[ 1.584828  -0.9150025  0.       ] Li0+]</td>\n",
       "      <td>[[ 0.          0.         12.82761011] Mg0+, [...</td>\n",
       "      <td>[[ 1.584828  -0.9150025  0.       ] Li0+, [ 0....</td>\n",
       "      <td>[[ 0.          0.         14.67765901] S0+, [ ...</td>\n",
       "      <td>[[ 1.81339819 -1.04696779  0.        ] Li0+]</td>\n",
       "      <td>[[ 0.          0.         14.67765901] Mg0+, [...</td>\n",
       "      <td>[[ 1.81339819 -1.04696779  0.        ] Li0+, [...</td>\n",
       "    </tr>\n",
       "    <tr>\n",
       "      <th>3</th>\n",
       "      <td>3</td>\n",
       "      <td>[[1.47170363 0.84968856 1.254696  ] Li0+, [5.0...</td>\n",
       "      <td>0</td>\n",
       "      <td>mp-1185197</td>\n",
       "      <td>Li3Ho</td>\n",
       "      <td>P6_3/mmc</td>\n",
       "      <td>0.0</td>\n",
       "      <td>0.212806</td>\n",
       "      <td>(Atom('Li', [1.471703629302, 0.849688560864, 1...</td>\n",
       "      <td>Li6 Ho2</td>\n",
       "      <td>None</td>\n",
       "      <td>[[3.258851   1.88150243 3.764088  ] S0+, [ 3.2...</td>\n",
       "      <td>[[1.47170363 0.84968856 1.254696  ] Li0+, [5.0...</td>\n",
       "      <td>[[3.258851   1.88150243 3.764088  ] Mg0+, [ 3....</td>\n",
       "      <td>[[1.47170363 0.84968856 1.254696  ] Li0+, [5.0...</td>\n",
       "      <td>[[2.46597371 1.42373356 2.84828672] S0+, [ 2.4...</td>\n",
       "      <td>[[1.11363866 0.64295964 0.94942891] Li0+, [3.8...</td>\n",
       "      <td>[[2.46597371 1.42373356 2.84828672] Mg0+, [ 2....</td>\n",
       "      <td>[[1.11363866 0.64295964 0.94942891] Li0+, [3.8...</td>\n",
       "    </tr>\n",
       "    <tr>\n",
       "      <th>4</th>\n",
       "      <td>4</td>\n",
       "      <td>[[0. 0. 0.] Li0+, [0.        2.0507685 2.05076...</td>\n",
       "      <td>0</td>\n",
       "      <td>mp-1185300</td>\n",
       "      <td>LiAg3</td>\n",
       "      <td>Pm-3m</td>\n",
       "      <td>0.0</td>\n",
       "      <td>0.005597</td>\n",
       "      <td>(Atom('Li', [0.0, 0.0, 0.0], index=0), Atom('A...</td>\n",
       "      <td>Li1 Ag3</td>\n",
       "      <td>None</td>\n",
       "      <td>[[0.        2.0507685 2.0507685] S0+, [2.05076...</td>\n",
       "      <td>[[0. 0. 0.] Li0+]</td>\n",
       "      <td>[[0.        2.0507685 2.0507685] Mg0+, [2.0507...</td>\n",
       "      <td>[[0. 0. 0.] Li0+, [0.        2.0507685 2.05076...</td>\n",
       "      <td>[[0.         2.46621207 2.46621207] S0+, [2.46...</td>\n",
       "      <td>[[0. 0. 0.] Li0+]</td>\n",
       "      <td>[[0.         2.46621207 2.46621207] Mg0+, [2.4...</td>\n",
       "      <td>[[0. 0. 0.] Li0+, [0.         2.46621207 2.466...</td>\n",
       "    </tr>\n",
       "  </tbody>\n",
       "</table>\n",
       "</div>"
      ],
      "text/plain": [
       "   index                                          structure  ICSD_ID  \\\n",
       "0      0  [[2.4232425 2.4232425 2.4232425] K0+, [7.26972...        0   \n",
       "1      1  [[2.22044605e-16 2.06300000e+00 2.18689500e+00...        0   \n",
       "2      2  [[ 1.584828  -0.9150025  0.       ] Li0+, [ 0....        0   \n",
       "3      3  [[1.47170363 0.84968856 1.254696  ] Li0+, [5.0...        0   \n",
       "4      4  [[0. 0. 0.] Li0+, [0.        2.0507685 2.05076...        0   \n",
       "\n",
       "        MP_ID pretty_formula spacegroup  bandgap    e_hull  \\\n",
       "0  mp-1184876           K3Li      Fm-3m      0.0  0.116417   \n",
       "1   mp-975904          Li3Cd     I4/mmm      0.0  0.007391   \n",
       "2  mp-1094588          LiMg5      P-6m2      0.0  0.046814   \n",
       "3  mp-1185197          Li3Ho   P6_3/mmc      0.0  0.212806   \n",
       "4  mp-1185300          LiAg3      Pm-3m      0.0  0.005597   \n",
       "\n",
       "                                       ase_structure composition replacement  \\\n",
       "0  (Atom('K', [2.4232425, 2.4232425, 2.4232425], ...      K3 Li1        None   \n",
       "1  (Atom('Li', [2.220446049250313e-16, 2.06299999...     Li3 Cd1        None   \n",
       "2  (Atom('Li', [1.584828, -0.9150024966679999, 0....     Li1 Mg5        None   \n",
       "3  (Atom('Li', [1.471703629302, 0.849688560864, 1...     Li6 Ho2        None   \n",
       "4  (Atom('Li', [0.0, 0.0, 0.0], index=0), Atom('A...     Li1 Ag3        None   \n",
       "\n",
       "                                         structure_A  \\\n",
       "0  [[2.4232425 2.4232425 2.4232425] S0+, [7.26972...   \n",
       "1                                   [[0. 0. 0.] S0+]   \n",
       "2  [[ 0.          0.         12.82761011] S0+, [ ...   \n",
       "3  [[3.258851   1.88150243 3.764088  ] S0+, [ 3.2...   \n",
       "4  [[0.        2.0507685 2.0507685] S0+, [2.05076...   \n",
       "\n",
       "                                        structure_AM  \\\n",
       "0                                  [[0. 0. 0.] Li0+]   \n",
       "1  [[2.22044605e-16 2.06300000e+00 2.18689500e+00...   \n",
       "2          [[ 1.584828  -0.9150025  0.       ] Li0+]   \n",
       "3  [[1.47170363 0.84968856 1.254696  ] Li0+, [5.0...   \n",
       "4                                  [[0. 0. 0.] Li0+]   \n",
       "\n",
       "                                       structure_CAN  \\\n",
       "0  [[2.4232425 2.4232425 2.4232425] Mg0+, [7.2697...   \n",
       "1                                  [[0. 0. 0.] Mg0+]   \n",
       "2  [[ 0.          0.         12.82761011] Mg0+, [...   \n",
       "3  [[3.258851   1.88150243 3.764088  ] Mg0+, [ 3....   \n",
       "4  [[0.        2.0507685 2.0507685] Mg0+, [2.0507...   \n",
       "\n",
       "                                      structure_CAMN  \\\n",
       "0  [[2.4232425 2.4232425 2.4232425] Mg0+, [7.2697...   \n",
       "1  [[2.22044605e-16 2.06300000e+00 2.18689500e+00...   \n",
       "2  [[ 1.584828  -0.9150025  0.       ] Li0+, [ 0....   \n",
       "3  [[1.47170363 0.84968856 1.254696  ] Li0+, [5.0...   \n",
       "4  [[0. 0. 0.] Li0+, [0.        2.0507685 2.05076...   \n",
       "\n",
       "                                       structure_A40  \\\n",
       "0  [[1.95743382 1.95743382 1.95743382] S0+, [5.87...   \n",
       "1                                   [[0. 0. 0.] S0+]   \n",
       "2  [[ 0.          0.         14.67765901] S0+, [ ...   \n",
       "3  [[2.46597371 1.42373356 2.84828672] S0+, [ 2.4...   \n",
       "4  [[0.         2.46621207 2.46621207] S0+, [2.46...   \n",
       "\n",
       "                                      structure_AM40  \\\n",
       "0                                  [[0. 0. 0.] Li0+]   \n",
       "1  [[0.         1.67705421 1.77777094] Li0+, [1.6...   \n",
       "2       [[ 1.81339819 -1.04696779  0.        ] Li0+]   \n",
       "3  [[1.11363866 0.64295964 0.94942891] Li0+, [3.8...   \n",
       "4                                  [[0. 0. 0.] Li0+]   \n",
       "\n",
       "                                     structure_CAN40  \\\n",
       "0  [[1.95743382 1.95743382 1.95743382] Mg0+, [5.8...   \n",
       "1                                  [[0. 0. 0.] Mg0+]   \n",
       "2  [[ 0.          0.         14.67765901] Mg0+, [...   \n",
       "3  [[2.46597371 1.42373356 2.84828672] Mg0+, [ 2....   \n",
       "4  [[0.         2.46621207 2.46621207] Mg0+, [2.4...   \n",
       "\n",
       "                                    structure_CAMN40  \n",
       "0  [[1.95743382 1.95743382 1.95743382] Mg0+, [5.8...  \n",
       "1  [[0.         1.67705421 1.77777094] Li0+, [1.6...  \n",
       "2  [[ 1.81339819 -1.04696779  0.        ] Li0+, [...  \n",
       "3  [[1.11363866 0.64295964 0.94942891] Li0+, [3.8...  \n",
       "4  [[0. 0. 0.] Li0+, [0.         2.46621207 2.466...  "
      ]
     },
     "execution_count": 3,
     "metadata": {},
     "output_type": "execute_result"
    }
   ],
   "source": [
    "structures_df.head()"
   ]
  },
  {
   "cell_type": "code",
   "execution_count": 25,
   "metadata": {},
   "outputs": [],
   "source": [
    "class Feature_Creator:\n",
    "    \"\"\"\n",
    "    A class to handle calculation of the various features. \n",
    "\n",
    "    ...\n",
    "\n",
    "    Attributes\n",
    "    ----------\n",
    "    structures_df : pd.DataFrame\n",
    "        The dataframe that all the structures and simplified representations are stored in\n",
    "    \n",
    "    mode_list : list\n",
    "        A list containing the 9 modes that the class can use. If a different mode is passed then an error is thrown. \n",
    "\n",
    "    mode : str\n",
    "        The mode string signifies what mode the class is operating in\n",
    "        \n",
    "    unique_atoms : list\n",
    "        The SOAP featurizer requires knowledge of all unique atoms in the structure. This list stores the unique atoms. \n",
    "        \n",
    "    n_jobs : int\n",
    "        The number of CPU cores that will be used for featurizers that support parallel processing\n",
    "\n",
    "    Methods\n",
    "    -------\n",
    "    set_mode(mode):\n",
    "        Set the mode that the class operates in. Each move corresponds to one of the nine structure representations. \n",
    "        \n",
    "    calculate_unique_atoms(mode):\n",
    "        Calculate the unqiue atoms in the structure. Used for the SOAP representation. \n",
    "        \n",
    "    run_atomic_packing_efficiency_featurizer(mode):\n",
    "        Calculate the atomic packing efficiency using matminer.featurizers.composition.AtomicPackingEfficiency()  \n",
    "        \n",
    "    run_band_center_featurizer(mode):\n",
    "        Calculate the band centers using matminer.featurizers.composition.BandCenter()    \n",
    "                \n",
    "    run_bond_fraction_featurizer(mode):\n",
    "        Calculate the bond fractions using matminer.featurizers.structure.BondFractions()  \n",
    "                \n",
    "    run_chemical_ordering_featurizer(mode):\n",
    "        Calculate the chemical ordering using matminer.featurizers.structure.ChemicalOrdering()    \n",
    "                \n",
    "    run_density_featurizer(mode):\n",
    "        Calculate features related to density using matminer.featurizers.structure.DensityFeatures((\"density\", \"vpa\", \"packing fraction\"))    \n",
    "                \n",
    "    end_featurizer_helper(structure, end_featurizer):\n",
    "        A helper for the run_electron_negativity_difference_featurizer     \n",
    "                \n",
    "    run_electron_negativity_difference_featurizer(mode):\n",
    "        Calculates the electron negativity difference for atoms in the composition using matminer.featurizers.composition.ElectronegativityDiff()   \n",
    "                \n",
    "    run_ewald_energy_featurizer(mode):\n",
    "        Calculates the Ewald energy using matminer.featurizers.structure.EwaldEnergy()    \n",
    "                \n",
    "    run_global_instability_index_featurizer(mode, rcut_list):\n",
    "        Calculates the global instability index using matminer.featurizers.structure.GlobalInstabilityIndex(r_cut=rcut)    \n",
    "                \n",
    "    run_jarvis_cfid_featurizer(mode):\n",
    "        A jarvis CFID calculation using matminer.featurizers.structure.JarvisCFID()    \n",
    "                \n",
    "    run_maximum_packing_efficiency_featurizer(mode):\n",
    "        Calculates the packing efficiency using matminer.featurizers.structure.MaximumPackingEfficiency()  \n",
    "                \n",
    "    run_meredig_featurizer(mode):\n",
    "        Calculates Meredig features using matminer.featurizers.composition.Meredig()    \n",
    "                \n",
    "    run_orbital_field_matrix_featurizer(mode):\n",
    "        Calculates the orbital field matrix from matminer.featurizers.structure.OxidationStates()    \n",
    "                \n",
    "    run_oxidation_states_featurizer(mode):\n",
    "        Grabs the oxidation states from the composition using matminer.featurizers.composition.OxidationStates()   \n",
    "                \n",
    "    run_rdf_featurizer(mode, cutoff_list, bin_size_list):\n",
    "        Calculates a radial distribution function matminer.featurizers.structure.RadialDistributionFunction(cutoff=cutoff, bin_size=bin_size)    \n",
    "\n",
    "    run_sine_coulomb_featurizer(mode):\n",
    "        Calculates the Sine Coulomb matrix using matminer.featurizers.structure.SineCoulombMatrix()    \n",
    "        \n",
    "    run_SOAP(mode, rcut_list, nmax_list, lmax_list, average):\n",
    "        Calculates a Smooth Overlap of Atomic Positions representaion using dscribe.descriptors.SOAP()    \n",
    "        \n",
    "    run_structural_complexity_featurizer(mode):\n",
    "        Calculates the structural complexity using matminer.featurizers.structure.StructuralComplexity()    \n",
    "        \n",
    "    run_structural_heterogeneity_featurizer(mode):\n",
    "        Calculates the structural heterogeneity using matminer.featurizers.structure.StructuralHeterogeneity()    \n",
    "        \n",
    "    run_valence_orbital_featurizer(mode):\n",
    "        Calculates valence obrbital information using matminer.featurizers.composition.ValenceOrbital()    \n",
    "            \n",
    "    run_XRD_featurizer(mode, pattern_length_list):\n",
    "        Calculates a powder X-ray diffraction pattern using matminer.featurizers.structure.XRDPowderPattern(pattern_length=pattern_length)\n",
    "        \n",
    "    run_yang_solid_solution_featurizer(mode):\n",
    "        Calculates the yang solid solution information from matminer.featurizers.composition.YangSolidSolution() \n",
    "    \"\"\"\n",
    "    \n",
    "    def __init__(self, structures_df):     \n",
    "        self.structures_df = structures_df\n",
    "        self.mode_list = ['structure', 'structure_A', 'structure_AM', 'structure_CAN', 'structure_CAMN', 'structure_A40', 'structure_AM40', 'structure_CAN40', 'structure_CAMN40']\n",
    "        self.mode = 'structure'\n",
    "        self.unique_atoms = []\n",
    "        self.n_jobs = 63\n",
    "    \n",
    "    def set_mode(self, mode):\n",
    "        \"\"\"\n",
    "        Function to set the operating mode for the class. This mode tells the class which represenation of the structure to use\n",
    "        (i.e., 'structure', 'structure_A', 'structure_AM', 'structure_CAN', 'structure_CAMN', 'structure_A40', \n",
    "        'structure_AM40', 'structure_CAN40', 'structure_CAMN40')\n",
    "\n",
    "        Parameters\n",
    "        ----------\n",
    "        mode : str\n",
    "            The class can operate in 9 modes. This str is used to set the mode attribute. \n",
    "            \n",
    "        Raises\n",
    "        ------\n",
    "        Exception\n",
    "            If the mode is not supported. \n",
    "        \"\"\"\n",
    "        if mode in self.mode_list:\n",
    "            self.mode = mode\n",
    "        else:\n",
    "            raise Exception('The mode \\'{}\\' is not supported.'.format(mode))\n",
    "    \n",
    "    def calculate_unique_atoms(self, mode):\n",
    "        \"\"\"\n",
    "        Function to identify the unique atoms that exist for a given mode. Then sets the \n",
    "        unique_atoms attribute so that it can be used by the SOAP featurizer. \n",
    "\n",
    "        Parameters\n",
    "        ----------\n",
    "        mode : str\n",
    "            The class can operate in 9 modes. This str is used to set the mode attribute. \n",
    "        \"\"\"\n",
    "        self.set_mode(mode)\n",
    "        self.unique_atoms = []\n",
    "        for structure in tqdm.tqdm(self.structures_df[mode]):\n",
    "            for num in structure.symbol_set:\n",
    "                if num not in self.unique_atoms:\n",
    "                    self.unique_atoms.append(num)\n",
    "        self.unique_atoms = np.sort(self.unique_atoms)\n",
    "\n",
    "    \"\"\" \n",
    "    Featurizer functions (and any helpers) are listed below this line in alphabetical order.\n",
    "    Because calculated feature representations can be quite large they are directly saved into the 'features' repository. \n",
    "    \"\"\"\n",
    "    def run_atomic_packing_efficiency_featurizer(self, mode):\n",
    "        \"\"\"\n",
    "        Function to run the atomic packing efficiency featurizer.\n",
    "        Saves the files with the prefix \"ape\" and a suffix indicating the mode.\n",
    "\n",
    "        Parameters\n",
    "        ----------\n",
    "        mode : str\n",
    "            The class can operate in 9 modes. This str is used to set the mode attribute. \n",
    "        \"\"\"\n",
    "        self.set_mode(mode)\n",
    "        ape_featurizer = mm_composition.AtomicPackingEfficiency()\n",
    "        ape_featurizer_result = np.array(self.structures_df[mode].progress_apply(lambda x: ape_featurizer.featurize(x.composition)).values.tolist())\n",
    "        np.save('features/ape_features_mode-{}'.format(self.mode), ape_featurizer_result)\n",
    "        \n",
    "    def run_band_center_featurizer(self, mode):\n",
    "        \"\"\"\n",
    "        Function to run the band center featurizer.\n",
    "        Saves the files with the prefix \"bc\" and a suffix indicating the mode.\n",
    "\n",
    "        Parameters\n",
    "        ----------\n",
    "        mode : str\n",
    "            The class can operate in 9 modes. This str is used to set the mode attribute. \n",
    "        \"\"\"\n",
    "        self.set_mode(mode)\n",
    "        bc_featurizer = mm_composition.BandCenter()\n",
    "        bc_featurizer_result = np.array(self.structures_df[mode].progress_apply(lambda x: bc_featurizer.featurize(x.composition)).values.tolist())\n",
    "        np.save('features/bc_features_mode-{}'.format(self.mode), bc_featurizer_result)\n",
    "\n",
    "    def run_bond_fraction_featurizer(self, mode):\n",
    "        \"\"\"\n",
    "        Function to run the bond fraction featurizer.\n",
    "        Saves the files with the prefix \"bf\" and a suffix indicating the mode.\n",
    "\n",
    "        Parameters\n",
    "        ----------\n",
    "        mode : str\n",
    "            The class can operate in 9 modes. This str is used to set the mode attribute. \n",
    "        \"\"\"\n",
    "        self.set_mode(mode)\n",
    "        bf_featurizer = mm_structure.BondFractions()\n",
    "        bf_featurizer.fit(self.structures_df[self.mode])\n",
    "        bf_featurizer.set_n_jobs = self.n_jobs\n",
    "        bf_featurizer_result = bf_featurizer.featurize_many(self.structures_df[self.mode], ignore_errors=True)\n",
    "        np.save('features/bf_features_mode-{}'.format(self.mode), bf_featurizer_result)\n",
    "      \n",
    "    def run_chemical_ordering_featurizer(self, mode):\n",
    "        \"\"\"\n",
    "        Function to run the chemical ordering featurizer.\n",
    "        Saves the files with the prefix \"co\" and a suffix indicating the mode.\n",
    "\n",
    "        Parameters\n",
    "        ----------\n",
    "        mode : str\n",
    "            The class can operate in 9 modes. This str is used to set the mode attribute. \n",
    "        \"\"\"\n",
    "        self.set_mode(mode)\n",
    "        co_featurizer = mm_structure.ChemicalOrdering()\n",
    "        co_featurizer.fit(self.structures_df[self.mode])\n",
    "        co_featurizer.set_n_jobs = self.n_jobs\n",
    "        co_featurizer_result = co_featurizer.featurize_many(self.structures_df[self.mode], ignore_errors=True)\n",
    "        np.save('features/co_features_mode-{}'.format(self.mode), co_featurizer_result)\n",
    "\n",
    "    def run_density_featurizer(self, mode):\n",
    "        \"\"\"\n",
    "        Function to run the density featurizer.\n",
    "        Saves the files with the prefix \"density\" and a suffix indicating the mode.\n",
    "\n",
    "        Parameters\n",
    "        ----------\n",
    "        mode : str\n",
    "            The class can operate in 9 modes. This str is used to set the mode attribute. \n",
    "        \"\"\"\n",
    "        self.set_mode(mode)\n",
    "        density_featurizer = mm_structure.DensityFeatures((\"density\", \"vpa\", \"packing fraction\"))\n",
    "        density_featurizer.fit(self.structures_df[self.mode])\n",
    "        density_featurizer.set_n_jobs = self.n_jobs\n",
    "        density_featurizer_result = density_featurizer.featurize_many(self.structures_df[self.mode], ignore_errors=True)\n",
    "        np.save('features/density_features_mode-{}'.format(self.mode), density_featurizer_result)\n",
    "\n",
    "    def end_featurizer_helper(self, structure, end_featurizer):\n",
    "        \"\"\"\n",
    "        A helper function for the run_electron_negativity_difference_featurizer() function.\n",
    "        The helper catches any value errors and returns a usable represntation. \n",
    "        This function is intended to be run using the pandas.DataFrame.apply() method\n",
    "\n",
    "        Parameters\n",
    "        ----------\n",
    "        structure : pymatgen.core.structure\n",
    "            A pymatgen structure\n",
    "            \n",
    "        end_featurizer : matminer.featurizers.composition.ElectronegativityDiff()\n",
    "            The featurizer from matminer. \n",
    "        \"\"\"\n",
    "        try: \n",
    "            return end_featurizer.featurize(structure.composition)\n",
    "        except ValueError:\n",
    "            return [0, 0, 0, 0, 0]\n",
    "        except:\n",
    "            return [Nan, Nan, Nan, Nan, Nan]\n",
    "        \n",
    "    def run_electron_negativity_difference_featurizer(self, mode):\n",
    "        \"\"\"\n",
    "        Function to run the electron negativity difference featurizer.\n",
    "        Saves the files with the prefix \"end\" and a suffix indicating the mode.\n",
    "\n",
    "        Parameters\n",
    "        ----------\n",
    "        mode : str\n",
    "            The class can operate in 9 modes. This str is used to set the mode attribute. \n",
    "        \"\"\"\n",
    "        self.set_mode(mode)\n",
    "        end_featurizer = mm_composition.ElectronegativityDiff()\n",
    "        end_featurizer_result = np.array(self.structures_df[self.mode].progress_apply(self.end_featurizer_helper, end_featurizer=end_featurizer).values.tolist())\n",
    "        np.save('features/end_features_mode-{}'.format(self.mode), end_featurizer_result)\n",
    "\n",
    "    def run_ewald_energy_featurizer(self, mode):\n",
    "        \"\"\"\n",
    "        Function to run the Ewald energy featurizer.\n",
    "        Saves the files with the prefix \"ee\" and a suffix indicating the mode.\n",
    "\n",
    "        Parameters\n",
    "        ----------\n",
    "        mode : str\n",
    "            The class can operate in 9 modes. This str is used to set the mode attribute. \n",
    "        \"\"\"\n",
    "        self.set_mode(mode)\n",
    "        ee_featurizer = mm_structure.EwaldEnergy()\n",
    "        ee_featurizer.fit(self.structures_df[self.mode])\n",
    "        ee_featurizer.set_n_jobs = self.n_jobs\n",
    "        ee_featurizer_result = ee_featurizer.featurize_many(self.structures_df[self.mode], ignore_errors=True)\n",
    "        np.save('features/ee_features_mode-{}'.format(self.mode), ee_featurizer_result)\n",
    "\n",
    "    def run_global_instability_index_featurizer(self, mode, rcut_list):\n",
    "        \"\"\"\n",
    "        Function to run the global instability index featurizer.\n",
    "        The function will generate a feature for each radial cutoff that is passed in the list: rcut_list\n",
    "        Saves the files with the prefix \"gii\" and a suffix indicating the mode. \n",
    "\n",
    "        Parameters\n",
    "        ----------\n",
    "        mode : str\n",
    "            The class can operate in 9 modes. This str is used to set the mode attribute. \n",
    "        \n",
    "        rcut_list : list\n",
    "            A list containing one or more different radial cutoff (in angstroms)\n",
    "        \"\"\"\n",
    "        self.set_mode(mode)\n",
    "        for rcut in rcut_list:\n",
    "            gii_featurizer = mm_structure.GlobalInstabilityIndex(r_cut=rcut)\n",
    "            gii_featurizer.fit(self.structures_df[self.mode])\n",
    "            gii_featurizer.set_n_jobs = self.n_jobs\n",
    "            gii_featurizer_result = gii_featurizer.featurize_many(self.structures_df[self.mode], ignore_errors=True)\n",
    "            np.save('features/gii_features_rcut-{}_mode-{}'.format(rcut, self.mode), gii_featurizer_result)\n",
    "\n",
    "    def run_jarvis_cfid_featurizer(self, mode):\n",
    "        \"\"\"\n",
    "        Function to run the Jarvis CFID featurizer.\n",
    "        Saves the files with the prefix \"jc\" and a suffix indicating the mode.\n",
    "\n",
    "        Parameters\n",
    "        ----------\n",
    "        mode : str\n",
    "            The class can operate in 9 modes. This str is used to set the mode attribute. \n",
    "        \"\"\"\n",
    "        self.set_mode(mode)\n",
    "        jcfid_featurizer = mm_structure.JarvisCFID()\n",
    "        jcfid_featurizer.fit(self.structures_df[self.mode])\n",
    "        jcfid_featurizer.set_n_jobs = self.n_jobs\n",
    "        jcfid_featurizer_result = jcfid_featurizer.featurize_many(self.structures_df[self.mode], ignore_errors=True)\n",
    "        np.save('features/jcfid_features_mode-{}'.format(self.mode), jcfid_featurizer_result)\n",
    "\n",
    "    def run_maximum_packing_efficiency_featurizer(self, mode):\n",
    "        \"\"\"\n",
    "        Function to run the maximum packing efficiency featurizer.\n",
    "        Saves the files with the prefix \"mpe\" and a suffix indicating the mode.\n",
    "\n",
    "        Parameters\n",
    "        ----------\n",
    "        mode : str\n",
    "            The class can operate in 9 modes. This str is used to set the mode attribute. \n",
    "        \"\"\"\n",
    "        self.set_mode(mode)\n",
    "        mpe_featurizer = mm_structure.MaximumPackingEfficiency()\n",
    "        mpe_featurizer.fit(self.structures_df[self.mode])\n",
    "        mpe_featurizer.set_n_jobs = self.n_jobs\n",
    "        mpe_featurizer_result = mpe_featurizer.featurize_many(self.structures_df[self.mode], ignore_errors=True)\n",
    "        np.save('features/mpe_features_mode-{}'.format(self.mode), mpe_featurizer_result)\n",
    "\n",
    "    def run_meredig_featurizer(self, mode):\n",
    "        \"\"\"\n",
    "        Function to run the MereDig featurizer.\n",
    "        Saves the files with the prefix \"md\" and a suffix indicating the mode.\n",
    "\n",
    "        Parameters\n",
    "        ----------\n",
    "        mode : str\n",
    "            The class can operate in 9 modes. This str is used to set the mode attribute. \n",
    "        \"\"\"\n",
    "        self.set_mode(mode)\n",
    "        md_featurizer = mm_composition.Meredig()\n",
    "        md_featurizer_result = np.array(self.structures_df[mode].progress_apply(lambda x: md_featurizer.featurize(x.composition)).values.tolist())\n",
    "        np.save('features/md_features_mode-{}'.format(self.mode), md_featurizer_result)\n",
    "        \n",
    "    def run_orbital_field_matrix_featurizer(self, mode):\n",
    "        \"\"\"\n",
    "        Function to run the orbital field matrix featurizer.\n",
    "        Saves the files with the prefix \"ofm\" and a suffix indicating the mode.\n",
    "\n",
    "        Parameters\n",
    "        ----------\n",
    "        mode : str\n",
    "            The class can operate in 9 modes. This str is used to set the mode attribute. \n",
    "        \"\"\"\n",
    "        self.set_mode(mode)\n",
    "        ofm_featurizer = mm_structure.OrbitalFieldMatrix(period_tag=True)\n",
    "        ofm_featurizer.fit(self.structures_df[self.mode])\n",
    "        ofm_featurizer.set_n_jobs = self.n_jobs\n",
    "        ofm_featurizer_result = ofm_featurizer.featurize_many(self.structures_df[self.mode], ignore_errors=True)\n",
    "        np.save('features/ofm_features_mode-{}'.format(self.mode), ofm_featurizer_result)\n",
    "        \n",
    "    def run_oxidation_states_featurizer(self, mode):\n",
    "        \"\"\"\n",
    "        Function to run the oxidation states featurizer.\n",
    "        Saves the files with the prefix \"os\" and a suffix indicating the mode.\n",
    "\n",
    "        Parameters\n",
    "        ----------\n",
    "        mode : str\n",
    "            The class can operate in 9 modes. This str is used to set the mode attribute. \n",
    "        \"\"\"\n",
    "        self.set_mode(mode)\n",
    "        os_featurizer = mm_composition.OxidationStates()\n",
    "        os_featurizer_result = np.array(self.structures_df[mode].progress_apply(lambda x: os_featurizer.featurize(x.composition)).values.tolist())\n",
    "        np.save('features/os_features_mode-{}'.format(self.mode), os_featurizer_result)\n",
    "        \n",
    "    def run_rdf_featurizer(self, mode, cutoff_list, bin_size_list):\n",
    "        \"\"\"\n",
    "        Function to run the radial distribution function featurizer.\n",
    "        This function will generate an rdf feature for all the combinations of radial cutoffs and bin sizes that are passed\n",
    "        into cutoff_list and bin_size_list.\n",
    "        Saves the files with the prefix \"rdf\" and a suffix indicating the mode.\n",
    "\n",
    "        Parameters\n",
    "        ----------\n",
    "        mode : str\n",
    "            The class can operate in 9 modes. This str is used to set the mode attribute. \n",
    "            \n",
    "        cutoff_list : list\n",
    "            A list containing all the desired radial cutoffs. \n",
    "        \n",
    "        bin_size_list : list\n",
    "            A list containing all the desired bin sizes. \n",
    "        \n",
    "        \"\"\"\n",
    "        self.set_mode(mode)\n",
    "        \n",
    "        # iteratre over the cutoff_list and the bin_size_list\n",
    "        for cutoff in cutoff_list:\n",
    "            for bin_size in bin_size_list:\n",
    "                rdf_featurizer = mm_structure.RadialDistributionFunction(cutoff=cutoff, bin_size=bin_size)\n",
    "                rdf_featurizer.fit(self.structures_df[self.mode])\n",
    "                rdf_featurizer.set_n_jobs = self.n_jobs\n",
    "                rdf_featurizer_result = rdf_featurizer.featurize_many(self.structures_df[self.mode], ignore_errors=True)\n",
    "                \n",
    "                # capture errors and fill with zeroes\n",
    "                error = 0\n",
    "                radial_recreate = []\n",
    "                for row in rdf_featurizer_result:\n",
    "                    try:\n",
    "                        radial_recreate.append(row[0]['distribution'].flatten())\n",
    "                    except:\n",
    "                        error+=1\n",
    "                        radial_recreate.append([0.]*(cutoff/bin_size))\n",
    "                print(\"There were {} errors when using mode: {} with cutoff={} and bin_size-{}. Filling those rows with zeroes.\".format(error, self.mode, cutoff, bin_size))\n",
    "                np.save('features/rdf_features_cutoff-{}_binsize-{}_mode-{}'.format(cutoff, bin_size, self.mode), radial_recreate)\n",
    "\n",
    "    def run_sine_coulomb_featurizer(self, mode):\n",
    "        \"\"\"\n",
    "        Function to run the sine coulomb featurizer.\n",
    "        Saves the files with the prefix \"scm\" and a suffix indicating the mode.\n",
    "\n",
    "        Parameters\n",
    "        ----------\n",
    "        mode : str\n",
    "            The class can operate in 9 modes. This str is used to set the mode attribute. \n",
    "        \"\"\"\n",
    "        self.set_mode(mode)\n",
    "        scm_featurizer = mm_structure.SineCoulombMatrix()\n",
    "        scm_featurizer.fit(self.structures_df[self.mode])\n",
    "        scm_featurizer.set_n_jobs = self.n_jobs\n",
    "        scm_featurizer_result = scm_featurizer.featurize_many(self.structures_df[self.mode], ignore_errors=True)\n",
    "        np.save('features/scm_features_mode-{}'.format(self.mode), scm_featurizer_result)\n",
    "                \n",
    "    def run_SOAP(self, mode, rcut_list, nmax_list, lmax_list, average):\n",
    "        \"\"\"\n",
    "        Function to run the smooth overlap of atomic position featurizer.\n",
    "        The function will automatically generate and save representations for all possible combinations \n",
    "        of the integers in rcut_list, nmax_list, and lmax_list. \n",
    "        Saves the files with the prefix \"SOAP\" and a suffix indicating the mode.\n",
    "\n",
    "        Parameters\n",
    "        ----------\n",
    "        mode : str\n",
    "            The class can operate in 9 modes. This str is used to set the mode attribute. \n",
    "            \n",
    "        rcut_list : list\n",
    "            A list containing all the desired radial cutoffs in angstroms. \n",
    "        \n",
    "        nmax_list : list\n",
    "            A list containing all the desired radial basis functions.\n",
    "        \n",
    "        lmax_list : list\n",
    "            A list containing all the desired values for maximum degree of spherical harmonics. \n",
    "        \n",
    "        average : str\n",
    "            The averaging strategy used. Either 'inner' or 'outer'.\n",
    "        \"\"\"\n",
    "\n",
    "        self.calculate_unique_atoms(mode)\n",
    "        \n",
    "        # iterate over all of the rcut, nmax and lmax values\n",
    "        for rcut in rcut_list:\n",
    "            for nmax in nmax_list:\n",
    "                for lmax in lmax_list:\n",
    "                    average_soap = SOAP(\n",
    "                        species=self.unique_atoms,\n",
    "                        rcut=rcut,\n",
    "                        nmax=nmax,\n",
    "                        lmax=lmax,\n",
    "                        periodic=True,\n",
    "                        average=average,\n",
    "                        sparse=True\n",
    "                    )\n",
    "                    ase_structures = self.structures_df[mode].progress_apply(AAA.get_atoms).to_numpy()\n",
    "                    average_soap_data = average_soap.create(ase_structures, n_jobs=31, verbose=False)\n",
    "                    pairings = np.concatenate([np.r_[average_soap.get_location((\"S\", x))] for x in self.unique_atoms])\n",
    "                    np.save('features/SOAP_features_partialS_{}_rcut-{}_nmax-{}_lmax-{}_mode-{}'.format(average, rcut, nmax, lmax, mode), average_soap_data[:,pairings])\n",
    "\n",
    "    def run_structural_complexity_featurizer(self, mode):\n",
    "        \"\"\"\n",
    "        Function to run the structural complexity featurizer.\n",
    "        Saves the files with the prefix \"sc\" and a suffix indicating the mode.\n",
    "\n",
    "        Parameters\n",
    "        ----------\n",
    "        mode : str\n",
    "            The class can operate in 9 modes. This str is used to set the mode attribute. \n",
    "        \"\"\"\n",
    "        self.set_mode(mode)\n",
    "        sc_featurizer = mm_structure.StructuralComplexity()\n",
    "        sc_featurizer.fit(self.structures_df[self.mode])\n",
    "        sc_featurizer.set_n_jobs = self.n_jobs\n",
    "        sc_featurizer_result = sc_featurizer.featurize_many(self.structures_df[self.mode], ignore_errors=True)\n",
    "        np.save('features/sc_features_mode-{}'.format(self.mode), sc_featurizer_result)\n",
    "                    \n",
    "    def run_structural_heterogeneity_featurizer(self, mode):\n",
    "        \"\"\"\n",
    "        Function to run the structural heterogeneity featurizer.\n",
    "        Saves the files with the prefix \"sh\" and a suffix indicating the mode.\n",
    "\n",
    "        Parameters\n",
    "        ----------\n",
    "        mode : str\n",
    "            The class can operate in 9 modes. This str is used to set the mode attribute. \n",
    "        \"\"\"\n",
    "        self.set_mode(mode)\n",
    "        sh_featurizer = mm_structure.StructuralHeterogeneity()\n",
    "        sh_featurizer.fit(self.structures_df[self.mode])\n",
    "        sh_featurizer.set_n_jobs = self.n_jobs\n",
    "        sh_featurizer_result = sh_featurizer.featurize_many(self.structures_df[self.mode], ignore_errors=True)\n",
    "        np.save('features/sh_features_mode-{}'.format(self.mode), sh_featurizer_result)\n",
    "\n",
    "    def run_valence_orbital_featurizer(self, mode):\n",
    "        \"\"\"\n",
    "        Function to run the valence orbital featurizer.\n",
    "        Saves the files with the prefix \"vo\" and a suffix indicating the mode.\n",
    "\n",
    "        Parameters\n",
    "        ----------\n",
    "        mode : str\n",
    "            The class can operate in 9 modes. This str is used to set the mode attribute. \n",
    "        \"\"\"\n",
    "        self.set_mode(mode)\n",
    "        vo_featurizer = mm_composition.ValenceOrbital()\n",
    "        vo_featurizer_result = np.array(self.structures_df[mode].progress_apply(lambda x: vo_featurizer.featurize(x.composition)).values.tolist())\n",
    "        np.save('features/vo_features_mode-{}'.format(self.mode), vo_featurizer_result)        \n",
    "\n",
    "    def run_XRD_featurizer(self, mode, pattern_length_list):\n",
    "        \"\"\"\n",
    "        Function to run the powder XRD featurizer.\n",
    "        The function will automatically generate and save representations for every pattern length\n",
    "        value that is contained in the list: pattern_length_list.\n",
    "        Saves the files with the prefix \"xrd\" and a suffix indicating the mode.\n",
    "\n",
    "        Parameters\n",
    "        ----------\n",
    "        mode : str\n",
    "            The class can operate in 9 modes. This str is used to set the mode attribute. \n",
    "            \n",
    "        pattern_length_list : list\n",
    "            A list containing all the desired values for the pattern length. \n",
    "        \"\"\"\n",
    "        self.set_mode(mode)\n",
    "        for pattern_length in pattern_length_list:\n",
    "            xrd_featurizer = mm_structure.XRDPowderPattern(pattern_length=pattern_length)\n",
    "            xrd_featurizer.fit(self.structures_df[self.mode])\n",
    "\n",
    "            xrd_featurizer.set_n_jobs = self.n_jobs\n",
    "            xrd_featurizer_result = xrd_featurizer.featurize_many(self.structures_df[self.mode], ignore_errors=True)\n",
    "            np.save('features/xrd_features_pattern_length-{}_mode-{}'.format(pattern_length, self.mode), xrd_featurizer_result)        \n",
    "\n",
    "    def run_yang_solid_solution_featurizer(self, mode):\n",
    "        \"\"\"\n",
    "        Function to run the yang solid solution featurizer.\n",
    "        Saves the files with the prefix \"yss\" and a suffix indicating the mode.\n",
    "\n",
    "        Parameters\n",
    "        ----------\n",
    "        mode : str\n",
    "            The class can operate in 9 modes. This str is used to set the mode attribute. \n",
    "        \"\"\"\n",
    "        self.set_mode(mode)\n",
    "        yss_featurizer = mm_composition.YangSolidSolution()\n",
    "        yss_featurizer_result = np.array(self.structures_df[mode].progress_apply(lambda x: yss_featurizer.featurize(x.composition)).values.tolist())\n",
    "        np.save('features/yss_features_mode-{}'.format(self.mode), yss_featurizer_result)"
   ]
  },
  {
   "cell_type": "markdown",
   "metadata": {},
   "source": [
    "## 3a. Initialize the Feature_Creator class"
   ]
  },
  {
   "cell_type": "code",
   "execution_count": 27,
   "metadata": {},
   "outputs": [],
   "source": [
    "# for full model\n",
    "fc = Feature_Creator(structures_df)\n",
    "\n",
    "# the full model takes a long time to run. Use this line for testing/debugging purposes\n",
    "# fc = Feature_Creator(structures_df[0:500])"
   ]
  },
  {
   "cell_type": "markdown",
   "metadata": {},
   "source": [
    "## 3b. Make sure the 9 modes are working correctly\n",
    "Check to see that the correct atoms are in each mode. "
   ]
  },
  {
   "cell_type": "code",
   "execution_count": 28,
   "metadata": {},
   "outputs": [
    {
     "data": {
      "application/vnd.jupyter.widget-view+json": {
       "model_id": "ca8901e0c3594408ba54ad02399e8232",
       "version_major": 2,
       "version_minor": 0
      },
      "text/plain": [
       "  0%|          | 0/25193 [00:00<?, ?it/s]"
      ]
     },
     "metadata": {},
     "output_type": "display_data"
    },
    {
     "name": "stdout",
     "output_type": "stream",
     "text": [
      "structure contains ['Ac' 'Ag' 'Al' 'As' 'Au' 'B' 'Ba' 'Be' 'Bi' 'Br' 'C' 'Ca' 'Cd' 'Ce' 'Cl'\n",
      " 'Co' 'Cr' 'Cs' 'Cu' 'Dy' 'Er' 'Eu' 'F' 'Fe' 'Ga' 'Gd' 'Ge' 'H' 'Hf' 'Hg'\n",
      " 'Ho' 'I' 'In' 'Ir' 'K' 'La' 'Li' 'Lu' 'Mg' 'Mn' 'Mo' 'N' 'Na' 'Nb' 'Nd'\n",
      " 'Ni' 'Np' 'O' 'Os' 'P' 'Pa' 'Pb' 'Pd' 'Pm' 'Pr' 'Pt' 'Pu' 'Rb' 'Re' 'Rh'\n",
      " 'Ru' 'S' 'Sb' 'Sc' 'Se' 'Si' 'Sm' 'Sn' 'Sr' 'Ta' 'Tb' 'Tc' 'Te' 'Th' 'Ti'\n",
      " 'Tl' 'Tm' 'U' 'V' 'W' 'Xe' 'Y' 'Yb' 'Zn' 'Zr']\n"
     ]
    },
    {
     "data": {
      "application/vnd.jupyter.widget-view+json": {
       "model_id": "ea85278c19804c9f9f935cec2b580f5a",
       "version_major": 2,
       "version_minor": 0
      },
      "text/plain": [
       "  0%|          | 0/25193 [00:00<?, ?it/s]"
      ]
     },
     "metadata": {},
     "output_type": "display_data"
    },
    {
     "name": "stdout",
     "output_type": "stream",
     "text": [
      "structure_A contains ['S']\n"
     ]
    },
    {
     "data": {
      "application/vnd.jupyter.widget-view+json": {
       "model_id": "192a307b937f48159d117e0f048117a7",
       "version_major": 2,
       "version_minor": 0
      },
      "text/plain": [
       "  0%|          | 0/25193 [00:00<?, ?it/s]"
      ]
     },
     "metadata": {},
     "output_type": "display_data"
    },
    {
     "name": "stdout",
     "output_type": "stream",
     "text": [
      "structure_AM contains ['Li' 'S']\n"
     ]
    },
    {
     "data": {
      "application/vnd.jupyter.widget-view+json": {
       "model_id": "724798e1bf1e49f5aadca98919045959",
       "version_major": 2,
       "version_minor": 0
      },
      "text/plain": [
       "  0%|          | 0/25193 [00:00<?, ?it/s]"
      ]
     },
     "metadata": {},
     "output_type": "display_data"
    },
    {
     "name": "stdout",
     "output_type": "stream",
     "text": [
      "structure_CAN contains ['Al' 'Mg' 'S']\n"
     ]
    },
    {
     "data": {
      "application/vnd.jupyter.widget-view+json": {
       "model_id": "2cb74ed813ce4906aa4ff48649838db9",
       "version_major": 2,
       "version_minor": 0
      },
      "text/plain": [
       "  0%|          | 0/25193 [00:00<?, ?it/s]"
      ]
     },
     "metadata": {},
     "output_type": "display_data"
    },
    {
     "name": "stdout",
     "output_type": "stream",
     "text": [
      "structure_CAMN contains ['Al' 'Li' 'Mg' 'S']\n"
     ]
    },
    {
     "data": {
      "application/vnd.jupyter.widget-view+json": {
       "model_id": "c1adf91af5a6471d8e28fd49f56f2beb",
       "version_major": 2,
       "version_minor": 0
      },
      "text/plain": [
       "  0%|          | 0/25193 [00:00<?, ?it/s]"
      ]
     },
     "metadata": {},
     "output_type": "display_data"
    },
    {
     "name": "stdout",
     "output_type": "stream",
     "text": [
      "structure_A40 contains ['S']\n"
     ]
    },
    {
     "data": {
      "application/vnd.jupyter.widget-view+json": {
       "model_id": "5126c6df820443248f165a05d52289dd",
       "version_major": 2,
       "version_minor": 0
      },
      "text/plain": [
       "  0%|          | 0/25193 [00:00<?, ?it/s]"
      ]
     },
     "metadata": {},
     "output_type": "display_data"
    },
    {
     "name": "stdout",
     "output_type": "stream",
     "text": [
      "structure_AM40 contains ['Li' 'S']\n"
     ]
    },
    {
     "data": {
      "application/vnd.jupyter.widget-view+json": {
       "model_id": "d24654668f8c42c2acd095a5fd5aafd8",
       "version_major": 2,
       "version_minor": 0
      },
      "text/plain": [
       "  0%|          | 0/25193 [00:00<?, ?it/s]"
      ]
     },
     "metadata": {},
     "output_type": "display_data"
    },
    {
     "name": "stdout",
     "output_type": "stream",
     "text": [
      "structure_CAN40 contains ['Al' 'Mg' 'S']\n"
     ]
    },
    {
     "data": {
      "application/vnd.jupyter.widget-view+json": {
       "model_id": "ff8b5eb3a42247b18af2a4958a0310aa",
       "version_major": 2,
       "version_minor": 0
      },
      "text/plain": [
       "  0%|          | 0/25193 [00:00<?, ?it/s]"
      ]
     },
     "metadata": {},
     "output_type": "display_data"
    },
    {
     "name": "stdout",
     "output_type": "stream",
     "text": [
      "structure_CAMN40 contains ['Al' 'Li' 'Mg' 'S']\n"
     ]
    }
   ],
   "source": [
    "for mode in fc.mode_list:\n",
    "    fc.calculate_unique_atoms(mode)\n",
    "    print(\"{} contains {}\".format(mode, fc.unique_atoms))"
   ]
  },
  {
   "cell_type": "markdown",
   "metadata": {
    "tags": []
   },
   "source": [
    "##  3c. Run featurizers as needed\n",
    "***\n",
    "All featurizers require the user to specify which 'mode' is used. The modes tell the class which column of the dataframe to apply the featurizer to. The valid modes are:\n",
    "\n",
    "* structure\n",
    "* structure_A\n",
    "* structure_AM\n",
    "* structure_CAN\n",
    "* structure_CAMN\n",
    "* structure_A40\n",
    "* structure_AM40\n",
    "* structure_CAN40\n",
    "* structure_CAMN40\n",
    "***\n",
    "A few of the featurizers require additional paramaters. The paramaters are discussed in more detail below.\n",
    "\n",
    "* __Global Instability Index__: rcut_list\n",
    "* __Radial Distribution Function__: cutoff_list\n",
    "* __Smooth Overlap of Atomic Positions (SOAP)__: rcut_list, nmax_list, lmax_list, average\n",
    "* __Xray Diffraction__: pattern_length_list"
   ]
  },
  {
   "cell_type": "markdown",
   "metadata": {},
   "source": [
    "### Featurizer: Atomic Packing Efficiency "
   ]
  },
  {
   "cell_type": "code",
   "execution_count": 29,
   "metadata": {},
   "outputs": [
    {
     "data": {
      "application/vnd.jupyter.widget-view+json": {
       "model_id": "082923c59b914daf896fec4e59a5ad25",
       "version_major": 2,
       "version_minor": 0
      },
      "text/plain": [
       "  0%|          | 0/25193 [00:00<?, ?it/s]"
      ]
     },
     "metadata": {},
     "output_type": "display_data"
    }
   ],
   "source": [
    "fc.run_atomic_packing_efficiency_featurizer('structure_CAMN')"
   ]
  },
  {
   "cell_type": "markdown",
   "metadata": {},
   "source": [
    "### Featurizer: Band Center"
   ]
  },
  {
   "cell_type": "code",
   "execution_count": 30,
   "metadata": {},
   "outputs": [
    {
     "data": {
      "application/vnd.jupyter.widget-view+json": {
       "model_id": "7c311187081a4aa794ff4753d349be51",
       "version_major": 2,
       "version_minor": 0
      },
      "text/plain": [
       "  0%|          | 0/25193 [00:00<?, ?it/s]"
      ]
     },
     "metadata": {},
     "output_type": "display_data"
    }
   ],
   "source": [
    "fc.run_band_center_featurizer('structure_CAMN')"
   ]
  },
  {
   "cell_type": "markdown",
   "metadata": {},
   "source": [
    "### Featurizer: Bond Fraction"
   ]
  },
  {
   "cell_type": "code",
   "execution_count": 10,
   "metadata": {},
   "outputs": [
    {
     "data": {
      "application/vnd.jupyter.widget-view+json": {
       "model_id": "7479aa6474f1495d82107fe72503bf01",
       "version_major": 2,
       "version_minor": 0
      },
      "text/plain": [
       "BondFractions:   0%|          | 0/25193 [00:00<?, ?it/s]"
      ]
     },
     "metadata": {},
     "output_type": "display_data"
    },
    {
     "name": "stderr",
     "output_type": "stream",
     "text": [
      "\n",
      "KeyboardInterrupt\n",
      "\n"
     ]
    }
   ],
   "source": [
    "fc.run_bond_fraction_featurizer('structure_CAMN')"
   ]
  },
  {
   "cell_type": "markdown",
   "metadata": {},
   "source": [
    "### Featurizer: Chemical Ordering"
   ]
  },
  {
   "cell_type": "code",
   "execution_count": 7,
   "metadata": {},
   "outputs": [
    {
     "data": {
      "application/vnd.jupyter.widget-view+json": {
       "model_id": "f9c38f162cbd4d308c27a2fb8fc42a4e",
       "version_major": 2,
       "version_minor": 0
      },
      "text/plain": [
       "ChemicalOrdering:   0%|          | 0/25193 [00:00<?, ?it/s]"
      ]
     },
     "metadata": {},
     "output_type": "display_data"
    },
    {
     "name": "stderr",
     "output_type": "stream",
     "text": [
      "/home/fall/anaconda3/envs/FALL2020/lib/python3.8/site-packages/pymatgen/analysis/local_env.py:788: VisibleDeprecationWarning: Creating an ndarray from ragged nested sequences (which is a list-or-tuple of lists-or-tuples-or ndarrays with different lengths or shapes) is deprecated. If you meant to do this, you must specify 'dtype=object' when creating the ndarray.\n",
      "  sites = np.array(sites)[uniq_inds]\n",
      "Process SpawnPoolWorker-9:\n",
      "Traceback (most recent call last):\n",
      "  File \"/home/fall/anaconda3/envs/FALL2020/lib/python3.8/multiprocessing/process.py\", line 315, in _bootstrap\n",
      "    self.run()\n",
      "  File \"/home/fall/anaconda3/envs/FALL2020/lib/python3.8/multiprocessing/process.py\", line 108, in run\n",
      "    self._target(*self._args, **self._kwargs)\n",
      "  File \"/home/fall/anaconda3/envs/FALL2020/lib/python3.8/multiprocessing/pool.py\", line 125, in worker\n",
      "    result = (True, func(*args, **kwds))\n",
      "  File \"/home/fall/anaconda3/envs/FALL2020/lib/python3.8/multiprocessing/pool.py\", line 48, in mapstar\n",
      "    return list(map(*args))\n",
      "  File \"/home/fall/anaconda3/envs/FALL2020/lib/python3.8/site-packages/matminer/featurizers/base.py\", line 508, in featurize_wrapper\n",
      "    reraise(type(e), type(e)(msg), sys.exc_info()[2])\n",
      "KeyboardInterrupt\n",
      "/home/fall/anaconda3/envs/FALL2020/lib/python3.8/site-packages/pymatgen/analysis/local_env.py:788: VisibleDeprecationWarning: Creating an ndarray from ragged nested sequences (which is a list-or-tuple of lists-or-tuples-or ndarrays with different lengths or shapes) is deprecated. If you meant to do this, you must specify 'dtype=object' when creating the ndarray.\n",
      "  sites = np.array(sites)[uniq_inds]\n",
      "Process SpawnPoolWorker-30:\n",
      "Traceback (most recent call last):\n",
      "  File \"/home/fall/anaconda3/envs/FALL2020/lib/python3.8/multiprocessing/process.py\", line 315, in _bootstrap\n",
      "    self.run()\n",
      "  File \"/home/fall/anaconda3/envs/FALL2020/lib/python3.8/multiprocessing/process.py\", line 108, in run\n",
      "    self._target(*self._args, **self._kwargs)\n",
      "  File \"/home/fall/anaconda3/envs/FALL2020/lib/python3.8/multiprocessing/pool.py\", line 125, in worker\n",
      "    result = (True, func(*args, **kwds))\n",
      "  File \"/home/fall/anaconda3/envs/FALL2020/lib/python3.8/multiprocessing/pool.py\", line 48, in mapstar\n",
      "    return list(map(*args))\n",
      "  File \"/home/fall/anaconda3/envs/FALL2020/lib/python3.8/site-packages/matminer/featurizers/base.py\", line 508, in featurize_wrapper\n",
      "    reraise(type(e), type(e)(msg), sys.exc_info()[2])\n",
      "KeyboardInterrupt\n",
      "/home/fall/anaconda3/envs/FALL2020/lib/python3.8/site-packages/pymatgen/analysis/local_env.py:788: VisibleDeprecationWarning: Creating an ndarray from ragged nested sequences (which is a list-or-tuple of lists-or-tuples-or ndarrays with different lengths or shapes) is deprecated. If you meant to do this, you must specify 'dtype=object' when creating the ndarray.\n",
      "  sites = np.array(sites)[uniq_inds]\n",
      "Process SpawnPoolWorker-60:\n",
      "Traceback (most recent call last):\n",
      "  File \"/home/fall/anaconda3/envs/FALL2020/lib/python3.8/site-packages/matminer/featurizers/base.py\", line 493, in featurize_wrapper\n",
      "    return self.featurize(*x)\n",
      "  File \"/home/fall/anaconda3/envs/FALL2020/lib/python3.8/site-packages/matminer/featurizers/structure.py\", line 2184, in featurize\n",
      "    all_nn = get_all_nearest_neighbors(voro, strc)\n",
      "  File \"/home/fall/anaconda3/envs/FALL2020/lib/python3.8/site-packages/matminer/utils/caching.py\", line 36, in get_all_nearest_neighbors\n",
      "    return _get_all_nearest_neighbors(method, structure)\n",
      "  File \"/home/fall/anaconda3/envs/FALL2020/lib/python3.8/site-packages/matminer/utils/caching.py\", line 49, in _get_all_nearest_neighbors\n",
      "    return method.get_all_nn_info(structure)\n",
      "  File \"/home/fall/anaconda3/envs/FALL2020/lib/python3.8/site-packages/pymatgen/analysis/local_env.py\", line 1001, in get_all_nn_info\n",
      "    all_voro_cells = self.get_all_voronoi_polyhedra(structure)\n",
      "  File \"/home/fall/anaconda3/envs/FALL2020/lib/python3.8/site-packages/pymatgen/analysis/local_env.py\", line 799, in get_all_voronoi_polyhedra\n",
      "    voro = Voronoi(qvoronoi_input)\n",
      "  File \"qhull.pyx\", line 2617, in scipy.spatial.qhull.Voronoi.__init__\n",
      "  File \"qhull.pyx\", line 1553, in scipy.spatial.qhull._QhullUser.__init__\n",
      "  File \"qhull.pyx\", line 2628, in scipy.spatial.qhull.Voronoi._update\n",
      "  File \"qhull.pyx\", line 1582, in scipy.spatial.qhull._QhullUser._update\n",
      "  File \"/home/fall/anaconda3/envs/FALL2020/lib/python3.8/site-packages/numpy/core/_methods.py\", line 42, in _amin\n",
      "    def _amin(a, axis=None, out=None, keepdims=False,\n",
      "KeyboardInterrupt\n",
      "\n",
      "During handling of the above exception, another exception occurred:\n",
      "\n",
      "Traceback (most recent call last):\n",
      "  File \"/home/fall/anaconda3/envs/FALL2020/lib/python3.8/multiprocessing/process.py\", line 315, in _bootstrap\n",
      "    self.run()\n",
      "  File \"/home/fall/anaconda3/envs/FALL2020/lib/python3.8/multiprocessing/process.py\", line 108, in run\n",
      "    self._target(*self._args, **self._kwargs)\n",
      "  File \"/home/fall/anaconda3/envs/FALL2020/lib/python3.8/multiprocessing/pool.py\", line 125, in worker\n",
      "    result = (True, func(*args, **kwds))\n",
      "  File \"/home/fall/anaconda3/envs/FALL2020/lib/python3.8/multiprocessing/pool.py\", line 48, in mapstar\n",
      "    return list(map(*args))\n",
      "  File \"/home/fall/anaconda3/envs/FALL2020/lib/python3.8/site-packages/matminer/featurizers/base.py\", line 493, in featurize_wrapper\n",
      "    return self.featurize(*x)\n",
      "KeyboardInterrupt\n",
      "/home/fall/anaconda3/envs/FALL2020/lib/python3.8/site-packages/pymatgen/analysis/local_env.py:788: VisibleDeprecationWarning: Creating an ndarray from ragged nested sequences (which is a list-or-tuple of lists-or-tuples-or ndarrays with different lengths or shapes) is deprecated. If you meant to do this, you must specify 'dtype=object' when creating the ndarray.\n",
      "  sites = np.array(sites)[uniq_inds]\n",
      "Process SpawnPoolWorker-56:\n",
      "Traceback (most recent call last):\n",
      "  File \"/home/fall/anaconda3/envs/FALL2020/lib/python3.8/multiprocessing/process.py\", line 315, in _bootstrap\n",
      "    self.run()\n",
      "  File \"/home/fall/anaconda3/envs/FALL2020/lib/python3.8/multiprocessing/process.py\", line 108, in run\n",
      "    self._target(*self._args, **self._kwargs)\n",
      "  File \"/home/fall/anaconda3/envs/FALL2020/lib/python3.8/multiprocessing/pool.py\", line 125, in worker\n",
      "    result = (True, func(*args, **kwds))\n",
      "  File \"/home/fall/anaconda3/envs/FALL2020/lib/python3.8/multiprocessing/pool.py\", line 48, in mapstar\n",
      "    return list(map(*args))\n",
      "  File \"/home/fall/anaconda3/envs/FALL2020/lib/python3.8/site-packages/matminer/featurizers/base.py\", line 508, in featurize_wrapper\n",
      "    reraise(type(e), type(e)(msg), sys.exc_info()[2])\n",
      "KeyboardInterrupt\n",
      "\n",
      "KeyboardInterrupt\n",
      "\n",
      "/home/fall/anaconda3/envs/FALL2020/lib/python3.8/site-packages/pymatgen/analysis/local_env.py:788: VisibleDeprecationWarning: Creating an ndarray from ragged nested sequences (which is a list-or-tuple of lists-or-tuples-or ndarrays with different lengths or shapes) is deprecated. If you meant to do this, you must specify 'dtype=object' when creating the ndarray.\n",
      "  sites = np.array(sites)[uniq_inds]\n",
      "Process SpawnPoolWorker-42:\n",
      "Traceback (most recent call last):\n",
      "  File \"/home/fall/anaconda3/envs/FALL2020/lib/python3.8/multiprocessing/process.py\", line 315, in _bootstrap\n",
      "    self.run()\n",
      "  File \"/home/fall/anaconda3/envs/FALL2020/lib/python3.8/multiprocessing/process.py\", line 108, in run\n",
      "    self._target(*self._args, **self._kwargs)\n",
      "  File \"/home/fall/anaconda3/envs/FALL2020/lib/python3.8/multiprocessing/pool.py\", line 114, in worker\n",
      "    task = get()\n",
      "  File \"/home/fall/anaconda3/envs/FALL2020/lib/python3.8/multiprocessing/queues.py\", line 355, in get\n",
      "    with self._rlock:\n",
      "  File \"/home/fall/anaconda3/envs/FALL2020/lib/python3.8/multiprocessing/synchronize.py\", line 95, in __enter__\n",
      "    return self._semlock.__enter__()\n",
      "KeyboardInterrupt\n",
      "/home/fall/anaconda3/envs/FALL2020/lib/python3.8/site-packages/pymatgen/analysis/local_env.py:788: VisibleDeprecationWarning: Creating an ndarray from ragged nested sequences (which is a list-or-tuple of lists-or-tuples-or ndarrays with different lengths or shapes) is deprecated. If you meant to do this, you must specify 'dtype=object' when creating the ndarray.\n",
      "  sites = np.array(sites)[uniq_inds]\n",
      "Process SpawnPoolWorker-26:\n",
      "Traceback (most recent call last):\n",
      "  File \"/home/fall/anaconda3/envs/FALL2020/lib/python3.8/site-packages/matminer/featurizers/base.py\", line 493, in featurize_wrapper\n",
      "    return self.featurize(*x)\n",
      "  File \"/home/fall/anaconda3/envs/FALL2020/lib/python3.8/site-packages/matminer/featurizers/structure.py\", line 2184, in featurize\n",
      "    all_nn = get_all_nearest_neighbors(voro, strc)\n",
      "  File \"/home/fall/anaconda3/envs/FALL2020/lib/python3.8/site-packages/matminer/utils/caching.py\", line 36, in get_all_nearest_neighbors\n",
      "    return _get_all_nearest_neighbors(method, structure)\n",
      "  File \"/home/fall/anaconda3/envs/FALL2020/lib/python3.8/site-packages/matminer/utils/caching.py\", line 49, in _get_all_nearest_neighbors\n",
      "    return method.get_all_nn_info(structure)\n",
      "  File \"/home/fall/anaconda3/envs/FALL2020/lib/python3.8/site-packages/pymatgen/analysis/local_env.py\", line 1001, in get_all_nn_info\n",
      "    all_voro_cells = self.get_all_voronoi_polyhedra(structure)\n",
      "  File \"/home/fall/anaconda3/envs/FALL2020/lib/python3.8/site-packages/pymatgen/analysis/local_env.py\", line 799, in get_all_voronoi_polyhedra\n",
      "    voro = Voronoi(qvoronoi_input)\n",
      "  File \"qhull.pyx\", line 2617, in scipy.spatial.qhull.Voronoi.__init__\n",
      "  File \"qhull.pyx\", line 1553, in scipy.spatial.qhull._QhullUser.__init__\n",
      "  File \"qhull.pyx\", line 2628, in scipy.spatial.qhull.Voronoi._update\n",
      "  File \"qhull.pyx\", line 1582, in scipy.spatial.qhull._QhullUser._update\n",
      "  File \"/home/fall/anaconda3/envs/FALL2020/lib/python3.8/site-packages/numpy/core/_methods.py\", line 42, in _amin\n",
      "    def _amin(a, axis=None, out=None, keepdims=False,\n",
      "KeyboardInterrupt\n",
      "\n",
      "During handling of the above exception, another exception occurred:\n",
      "\n",
      "Traceback (most recent call last):\n",
      "  File \"/home/fall/anaconda3/envs/FALL2020/lib/python3.8/multiprocessing/process.py\", line 315, in _bootstrap\n",
      "    self.run()\n",
      "  File \"/home/fall/anaconda3/envs/FALL2020/lib/python3.8/multiprocessing/process.py\", line 108, in run\n",
      "    self._target(*self._args, **self._kwargs)\n",
      "  File \"/home/fall/anaconda3/envs/FALL2020/lib/python3.8/multiprocessing/pool.py\", line 125, in worker\n",
      "    result = (True, func(*args, **kwds))\n",
      "  File \"/home/fall/anaconda3/envs/FALL2020/lib/python3.8/multiprocessing/pool.py\", line 48, in mapstar\n",
      "    return list(map(*args))\n",
      "  File \"/home/fall/anaconda3/envs/FALL2020/lib/python3.8/site-packages/matminer/featurizers/base.py\", line 493, in featurize_wrapper\n",
      "    return self.featurize(*x)\n",
      "KeyboardInterrupt\n"
     ]
    }
   ],
   "source": [
    "fc.run_chemical_ordering_featurizer('structure_CAMN')"
   ]
  },
  {
   "cell_type": "markdown",
   "metadata": {},
   "source": [
    "### Featurizer: Density"
   ]
  },
  {
   "cell_type": "code",
   "execution_count": 7,
   "metadata": {},
   "outputs": [
    {
     "data": {
      "application/vnd.jupyter.widget-view+json": {
       "model_id": "2ba372436aff4e689c2983359b5dabac",
       "version_major": 2,
       "version_minor": 0
      },
      "text/plain": [
       "DensityFeatures:   0%|          | 0/25193 [00:00<?, ?it/s]"
      ]
     },
     "metadata": {},
     "output_type": "display_data"
    }
   ],
   "source": [
    "fc.run_density_featurizer('structure_CAMN')"
   ]
  },
  {
   "cell_type": "markdown",
   "metadata": {},
   "source": [
    "### Featurizer: Electron Negativity Difference"
   ]
  },
  {
   "cell_type": "code",
   "execution_count": 27,
   "metadata": {},
   "outputs": [
    {
     "data": {
      "application/vnd.jupyter.widget-view+json": {
       "model_id": "e4a8c8c4190249339b06abcc28f68114",
       "version_major": 2,
       "version_minor": 0
      },
      "text/plain": [
       "  0%|          | 0/500 [00:00<?, ?it/s]"
      ]
     },
     "metadata": {},
     "output_type": "display_data"
    }
   ],
   "source": [
    "fc.run_electron_negativity_difference_featurizer('structure')"
   ]
  },
  {
   "cell_type": "markdown",
   "metadata": {},
   "source": [
    "### Featurizer: Ewald Energy"
   ]
  },
  {
   "cell_type": "code",
   "execution_count": 33,
   "metadata": {},
   "outputs": [
    {
     "data": {
      "application/vnd.jupyter.widget-view+json": {
       "model_id": "0a7cd9913aeb4cd3b872bf466aa1bba0",
       "version_major": 2,
       "version_minor": 0
      },
      "text/plain": [
       "EwaldEnergy:   0%|          | 0/500 [00:00<?, ?it/s]"
      ]
     },
     "metadata": {},
     "output_type": "display_data"
    }
   ],
   "source": [
    "fc.run_ewald_energy_featurizer('structure_CAMN')"
   ]
  },
  {
   "cell_type": "markdown",
   "metadata": {},
   "source": [
    "### Featurizer: Global Instability Index\n",
    "\n",
    "Pass in a list of rcut values. The function will iterate over the list generating a feature file for each entry. "
   ]
  },
  {
   "cell_type": "code",
   "execution_count": 35,
   "metadata": {},
   "outputs": [
    {
     "name": "stderr",
     "output_type": "stream",
     "text": [
      "/home/fall/anaconda3/envs/FALL2020/lib/python3.8/site-packages/matminer/utils/data.py:430: ParserWarning: Length of header or names does not match length of data. This leads to a loss of data with index_col=False.\n",
      "  self.params = pd.read_csv(filepath, sep='\\s+',\n",
      "/home/fall/anaconda3/envs/FALL2020/lib/python3.8/site-packages/matminer/utils/data.py:466: FutureWarning: The frame.append method is deprecated and will be removed from pandas in a future version. Use pandas.concat instead.\n",
      "  new_params = self.params.append(new_data, sort=True, ignore_index=True)\n"
     ]
    },
    {
     "data": {
      "application/vnd.jupyter.widget-view+json": {
       "model_id": "6aa7e6edb2e542afa7e077142739afa1",
       "version_major": 2,
       "version_minor": 0
      },
      "text/plain": [
       "GlobalInstabilityIndex:   0%|          | 0/500 [00:00<?, ?it/s]"
      ]
     },
     "metadata": {},
     "output_type": "display_data"
    },
    {
     "name": "stderr",
     "output_type": "stream",
     "text": [
      "/home/fall/anaconda3/envs/FALL2020/lib/python3.8/site-packages/matminer/featurizers/structure.py:3746: UserWarning: GII extremely large. Table parameters may not be suitable or structure may be unusual.\n",
      "  warnings.warn(\"GII extremely large. Table parameters may \"\n",
      "/home/fall/anaconda3/envs/FALL2020/lib/python3.8/site-packages/matminer/featurizers/structure.py:3746: UserWarning: GII extremely large. Table parameters may not be suitable or structure may be unusual.\n",
      "  warnings.warn(\"GII extremely large. Table parameters may \"\n"
     ]
    }
   ],
   "source": [
    "fc.run_global_instability_index_featurizer('structure', rcut_list=[20])"
   ]
  },
  {
   "cell_type": "markdown",
   "metadata": {},
   "source": [
    "### Featurizer: Jarvis CFID"
   ]
  },
  {
   "cell_type": "code",
   "execution_count": null,
   "metadata": {},
   "outputs": [],
   "source": [
    "fc.run_jarvis_cfid_featurizer('structure')"
   ]
  },
  {
   "cell_type": "markdown",
   "metadata": {},
   "source": [
    "### Featurizer: Maximum Packing Efficiency"
   ]
  },
  {
   "cell_type": "code",
   "execution_count": 13,
   "metadata": {},
   "outputs": [
    {
     "data": {
      "application/vnd.jupyter.widget-view+json": {
       "model_id": "9bc286f53f0a4d4ea74e55090e176f5e",
       "version_major": 2,
       "version_minor": 0
      },
      "text/plain": [
       "MaximumPackingEfficiency:   0%|          | 0/25193 [00:00<?, ?it/s]"
      ]
     },
     "metadata": {},
     "output_type": "display_data"
    },
    {
     "name": "stderr",
     "output_type": "stream",
     "text": [
      "\n",
      "KeyboardInterrupt\n",
      "\n",
      "Process SpawnPoolWorker-238:\n",
      "Traceback (most recent call last):\n",
      "  File \"/home/fall/anaconda3/envs/FALL2020/lib/python3.8/site-packages/matminer/featurizers/base.py\", line 493, in featurize_wrapper\n",
      "    return self.featurize(*x)\n",
      "  File \"/home/fall/anaconda3/envs/FALL2020/lib/python3.8/site-packages/matminer/featurizers/structure.py\", line 2102, in featurize\n",
      "    nns = [voro.get_voronoi_polyhedra(strc, i) for i in range(len(strc))]\n",
      "  File \"/home/fall/anaconda3/envs/FALL2020/lib/python3.8/site-packages/matminer/featurizers/structure.py\", line 2102, in <listcomp>\n",
      "    nns = [voro.get_voronoi_polyhedra(strc, i) for i in range(len(strc))]\n",
      "  File \"/home/fall/anaconda3/envs/FALL2020/lib/python3.8/site-packages/pymatgen/analysis/local_env.py\", line 721, in get_voronoi_polyhedra\n",
      "    cell_info = self._extract_cell_info(\n",
      "  File \"/home/fall/anaconda3/envs/FALL2020/lib/python3.8/site-packages/pymatgen/analysis/local_env.py\", line 871, in _extract_cell_info\n",
      "    for nn, vind in voro.ridge_dict.items():\n",
      "KeyboardInterrupt\n",
      "\n",
      "During handling of the above exception, another exception occurred:\n",
      "\n",
      "Traceback (most recent call last):\n",
      "  File \"/home/fall/anaconda3/envs/FALL2020/lib/python3.8/multiprocessing/process.py\", line 315, in _bootstrap\n",
      "    self.run()\n",
      "  File \"/home/fall/anaconda3/envs/FALL2020/lib/python3.8/multiprocessing/process.py\", line 108, in run\n",
      "    self._target(*self._args, **self._kwargs)\n",
      "  File \"/home/fall/anaconda3/envs/FALL2020/lib/python3.8/multiprocessing/pool.py\", line 125, in worker\n",
      "    result = (True, func(*args, **kwds))\n",
      "  File \"/home/fall/anaconda3/envs/FALL2020/lib/python3.8/multiprocessing/pool.py\", line 48, in mapstar\n",
      "    return list(map(*args))\n",
      "  File \"/home/fall/anaconda3/envs/FALL2020/lib/python3.8/site-packages/matminer/featurizers/base.py\", line 493, in featurize_wrapper\n",
      "    return self.featurize(*x)\n",
      "KeyboardInterrupt\n",
      "Process SpawnPoolWorker-229:\n",
      "Traceback (most recent call last):\n",
      "  File \"/home/fall/anaconda3/envs/FALL2020/lib/python3.8/multiprocessing/process.py\", line 315, in _bootstrap\n",
      "    self.run()\n",
      "  File \"/home/fall/anaconda3/envs/FALL2020/lib/python3.8/multiprocessing/process.py\", line 108, in run\n",
      "    self._target(*self._args, **self._kwargs)\n",
      "  File \"/home/fall/anaconda3/envs/FALL2020/lib/python3.8/multiprocessing/pool.py\", line 125, in worker\n",
      "    result = (True, func(*args, **kwds))\n",
      "  File \"/home/fall/anaconda3/envs/FALL2020/lib/python3.8/multiprocessing/pool.py\", line 48, in mapstar\n",
      "    return list(map(*args))\n",
      "  File \"/home/fall/anaconda3/envs/FALL2020/lib/python3.8/site-packages/matminer/featurizers/base.py\", line 508, in featurize_wrapper\n",
      "    reraise(type(e), type(e)(msg), sys.exc_info()[2])\n",
      "KeyboardInterrupt\n"
     ]
    }
   ],
   "source": [
    "fc.run_maximum_packing_efficiency_featurizer('structure_CAMN')"
   ]
  },
  {
   "cell_type": "markdown",
   "metadata": {},
   "source": [
    "### Featurizer: MereDig "
   ]
  },
  {
   "cell_type": "code",
   "execution_count": 12,
   "metadata": {},
   "outputs": [
    {
     "data": {
      "application/vnd.jupyter.widget-view+json": {
       "model_id": "265b5431f47e4a879830a9aff2704e3a",
       "version_major": 2,
       "version_minor": 0
      },
      "text/plain": [
       "  0%|          | 0/25193 [00:00<?, ?it/s]"
      ]
     },
     "metadata": {},
     "output_type": "display_data"
    }
   ],
   "source": [
    "fc.run_meredig_featurizer('structure_CAMN')"
   ]
  },
  {
   "cell_type": "markdown",
   "metadata": {},
   "source": [
    "### Featurizer: Orbital Field Matrix"
   ]
  },
  {
   "cell_type": "code",
   "execution_count": 10,
   "metadata": {},
   "outputs": [
    {
     "data": {
      "application/vnd.jupyter.widget-view+json": {
       "model_id": "20322d42937b49c7bcb248cc9aa9371e",
       "version_major": 2,
       "version_minor": 0
      },
      "text/plain": [
       "OrbitalFieldMatrix:   0%|          | 0/500 [00:00<?, ?it/s]"
      ]
     },
     "metadata": {},
     "output_type": "display_data"
    }
   ],
   "source": [
    "fc.run_orbital_field_matrix_featurizer('structure')"
   ]
  },
  {
   "cell_type": "markdown",
   "metadata": {},
   "source": [
    "### Featurizer: Oxidation States"
   ]
  },
  {
   "cell_type": "code",
   "execution_count": 31,
   "metadata": {},
   "outputs": [
    {
     "data": {
      "application/vnd.jupyter.widget-view+json": {
       "model_id": "2efbf75cb0dc4e25a52432296d9c5ff2",
       "version_major": 2,
       "version_minor": 0
      },
      "text/plain": [
       "  0%|          | 0/25193 [00:00<?, ?it/s]"
      ]
     },
     "metadata": {},
     "output_type": "display_data"
    }
   ],
   "source": [
    "fc.run_oxidation_states_featurizer('structure_CAMN')"
   ]
  },
  {
   "cell_type": "markdown",
   "metadata": {},
   "source": [
    "### Featurizer: Radial Distribution Function\n",
    "\n",
    "Pass in a list of cutoff values and a list of bin_size values. The function will iterate over the lists, generating a feature file for each combination. "
   ]
  },
  {
   "cell_type": "code",
   "execution_count": 10,
   "metadata": {},
   "outputs": [
    {
     "data": {
      "application/vnd.jupyter.widget-view+json": {
       "model_id": "45bb4e7bd1a44a9bbfeb1e48610eab6f",
       "version_major": 2,
       "version_minor": 0
      },
      "text/plain": [
       "RadialDistributionFunction:   0%|          | 0/25193 [00:00<?, ?it/s]"
      ]
     },
     "metadata": {},
     "output_type": "display_data"
    },
    {
     "name": "stdout",
     "output_type": "stream",
     "text": [
      "There were 0 errors when using mode: structure_CAMN with cutoff=10 and bin_size-0.1. Filling those rows with zeroes.\n"
     ]
    }
   ],
   "source": [
    "fc.run_rdf_featurizer('structure_CAMN', cutoff_list=[10], bin_size_list=[0.1])"
   ]
  },
  {
   "cell_type": "markdown",
   "metadata": {},
   "source": [
    "### Featurizer: Sine Coulomb Matrix"
   ]
  },
  {
   "cell_type": "code",
   "execution_count": 18,
   "metadata": {},
   "outputs": [
    {
     "data": {
      "application/vnd.jupyter.widget-view+json": {
       "model_id": "43d9ecab6cad460bb0ef288d903c28db",
       "version_major": 2,
       "version_minor": 0
      },
      "text/plain": [
       "SineCoulombMatrix:   0%|          | 0/500 [00:00<?, ?it/s]"
      ]
     },
     "metadata": {},
     "output_type": "display_data"
    },
    {
     "name": "stderr",
     "output_type": "stream",
     "text": [
      "/home/fall/anaconda3/envs/FALL2020/lib/python3.8/site-packages/matminer/featurizers/structure.py:742: ComplexWarning: Casting complex values to real discards the imaginary part\n",
      "  zeros[:len(eigs)] = eigs\n",
      "/home/fall/anaconda3/envs/FALL2020/lib/python3.8/site-packages/matminer/featurizers/structure.py:742: ComplexWarning: Casting complex values to real discards the imaginary part\n",
      "  zeros[:len(eigs)] = eigs\n",
      "/home/fall/anaconda3/envs/FALL2020/lib/python3.8/site-packages/matminer/featurizers/structure.py:742: ComplexWarning: Casting complex values to real discards the imaginary part\n",
      "  zeros[:len(eigs)] = eigs\n",
      "/home/fall/anaconda3/envs/FALL2020/lib/python3.8/site-packages/matminer/featurizers/structure.py:742: ComplexWarning: Casting complex values to real discards the imaginary part\n",
      "  zeros[:len(eigs)] = eigs\n",
      "/home/fall/anaconda3/envs/FALL2020/lib/python3.8/site-packages/matminer/featurizers/structure.py:742: ComplexWarning: Casting complex values to real discards the imaginary part\n",
      "  zeros[:len(eigs)] = eigs\n"
     ]
    }
   ],
   "source": [
    "fc.run_sine_coulomb_featurizer('structure')"
   ]
  },
  {
   "cell_type": "markdown",
   "metadata": {},
   "source": [
    "### Featurizer: Smooth Overlap of Atomic Positions (SOAP)\n",
    "\n",
    "Pass in the following paramaters:\n",
    "\n",
    "* __rcut_list__:  a list of rcut values for the dscribe SOAP class\n",
    "* __nmax_list__:  a list of nmax values for the dscribe SOAP class\n",
    "* __lmax_list__:  a list of lmax values fro the dscribe SOAP class\n",
    "* __average__: the averaging strategy for SOAP. Either 'outer' or 'inner'\n",
    "\n",
    "The function will create a feature file for every unique combination of the above paramaters. "
   ]
  },
  {
   "cell_type": "code",
   "execution_count": 9,
   "metadata": {},
   "outputs": [
    {
     "data": {
      "application/vnd.jupyter.widget-view+json": {
       "model_id": "bb28aaebb4744158b19847ff3e2e3fff",
       "version_major": 2,
       "version_minor": 0
      },
      "text/plain": [
       "  0%|          | 0/25193 [00:00<?, ?it/s]"
      ]
     },
     "metadata": {},
     "output_type": "display_data"
    },
    {
     "data": {
      "application/vnd.jupyter.widget-view+json": {
       "model_id": "b4cbbee86be64612a783a699ef509175",
       "version_major": 2,
       "version_minor": 0
      },
      "text/plain": [
       "  0%|          | 0/25193 [00:00<?, ?it/s]"
      ]
     },
     "metadata": {},
     "output_type": "display_data"
    }
   ],
   "source": [
    "fc.run_SOAP('structure_CAMN', rcut_list=[8], nmax_list=[10], lmax_list=[9], average='outer')"
   ]
  },
  {
   "cell_type": "markdown",
   "metadata": {},
   "source": [
    "### Featurizer: Structural Complexity"
   ]
  },
  {
   "cell_type": "code",
   "execution_count": 20,
   "metadata": {},
   "outputs": [
    {
     "data": {
      "application/vnd.jupyter.widget-view+json": {
       "model_id": "4023e3eae05c469781a26bdef83e93bc",
       "version_major": 2,
       "version_minor": 0
      },
      "text/plain": [
       "StructuralComplexity:   0%|          | 0/500 [00:00<?, ?it/s]"
      ]
     },
     "metadata": {},
     "output_type": "display_data"
    }
   ],
   "source": [
    "fc.run_structural_complexity_featurizer('structure')"
   ]
  },
  {
   "cell_type": "markdown",
   "metadata": {},
   "source": [
    "### Featurizer: Structural Heterogeneity"
   ]
  },
  {
   "cell_type": "code",
   "execution_count": null,
   "metadata": {},
   "outputs": [],
   "source": [
    "fc.run_structural_heterogeneity_featurizer('structure')"
   ]
  },
  {
   "cell_type": "markdown",
   "metadata": {},
   "source": [
    "### Featurizer: Valence Orbital"
   ]
  },
  {
   "cell_type": "code",
   "execution_count": 22,
   "metadata": {},
   "outputs": [
    {
     "data": {
      "application/vnd.jupyter.widget-view+json": {
       "model_id": "092e11a846904c29b27593ebd457c547",
       "version_major": 2,
       "version_minor": 0
      },
      "text/plain": [
       "  0%|          | 0/500 [00:00<?, ?it/s]"
      ]
     },
     "metadata": {},
     "output_type": "display_data"
    }
   ],
   "source": [
    "fc.run_valence_orbital_featurizer('structure')"
   ]
  },
  {
   "cell_type": "markdown",
   "metadata": {},
   "source": [
    "### Featurizer: X-ray Diffraction Pattern\n",
    "\n",
    "Pass in a list of pattern lengths. The function will iterate over the list, saving a feature representation for each pattern length. "
   ]
  },
  {
   "cell_type": "code",
   "execution_count": 8,
   "metadata": {},
   "outputs": [
    {
     "data": {
      "application/vnd.jupyter.widget-view+json": {
       "model_id": "6491b1b95b6b4a63823fb560aebf866b",
       "version_major": 2,
       "version_minor": 0
      },
      "text/plain": [
       "XRDPowderPattern:   0%|          | 0/25193 [00:00<?, ?it/s]"
      ]
     },
     "metadata": {},
     "output_type": "display_data"
    }
   ],
   "source": [
    "fc.run_XRD_featurizer('structure_CAMN', pattern_length_list=[451])"
   ]
  },
  {
   "cell_type": "markdown",
   "metadata": {},
   "source": [
    "### Featurizer: Yang Solid Solution"
   ]
  },
  {
   "cell_type": "code",
   "execution_count": 24,
   "metadata": {},
   "outputs": [
    {
     "data": {
      "application/vnd.jupyter.widget-view+json": {
       "model_id": "56d920af807c46618f07e9a9b72b8651",
       "version_major": 2,
       "version_minor": 0
      },
      "text/plain": [
       "  0%|          | 0/500 [00:00<?, ?it/s]"
      ]
     },
     "metadata": {},
     "output_type": "display_data"
    }
   ],
   "source": [
    "fc.run_yang_solid_solution_featurizer('structure')"
   ]
  },
  {
   "cell_type": "markdown",
   "metadata": {},
   "source": [
    "### Featurizer: CAVD - requires python 3.7 for cavd library"
   ]
  },
  {
   "cell_type": "code",
   "execution_count": null,
   "metadata": {},
   "outputs": [],
   "source": [
    "mode = 'structure'"
   ]
  },
  {
   "cell_type": "code",
   "execution_count": 5,
   "metadata": {},
   "outputs": [
    {
     "data": {
      "application/vnd.jupyter.widget-view+json": {
       "model_id": "808c8fde3c68451da0c00012c5b7be1a",
       "version_major": 2,
       "version_minor": 0
      },
      "text/plain": [
       "HBox(children=(HTML(value=''), FloatProgress(value=0.0, max=25198.0), HTML(value='')))"
      ]
     },
     "metadata": {},
     "output_type": "display_data"
    },
    {
     "name": "stdout",
     "output_type": "stream",
     "text": [
      "\n"
     ]
    }
   ],
   "source": [
    "for i in tqdm.tqdm(np.arange(0, len(structuresDF), 1)):\n",
    "    for site in structuresDF.loc[i, mode].sites:\n",
    "        try:\n",
    "            site._atom_site_label = site.species.alphabetical_formula\n",
    "            site.properties.update({'_atom_site_label': site.species.alphabetical_formula})\n",
    "        except Exception as e:\n",
    "            print(e)\n",
    "    \n",
    "    try: \n",
    "        w = CifWriter(structuresDF.loc[i, mode], symprec=True)\n",
    "        w.write_file('./Li Cifs CAVD/{}.cif'.format(str(i)))\n",
    "    except:\n",
    "        w = CifWriter(structuresDF.loc[i, mode])\n",
    "        w.write_file('./Li Cifs CAVD/{}.cif'.format(str(i)))\n",
    "        "
   ]
  },
  {
   "cell_type": "code",
   "execution_count": 6,
   "metadata": {},
   "outputs": [],
   "source": [
    "def cavd_calc(filename, migrant, ntol=0.02, lower=0.0, upper=10.0):\n",
    "    with zopen(filename, \"rt\") as f:\n",
    "        input_string = f.read()\n",
    "    parser = CifParser_new.from_string(input_string)\n",
    "    stru = parser.get_structures(primitive=False)[0]\n",
    "    \n",
    "    species = [str(sp).replace(\"Specie \",\"\") for sp in stru.species]\n",
    "    elements = [re.sub('[^a-zA-Z]','',sp) for sp in species]\n",
    "    if migrant not in elements:\n",
    "        raise ValueError(\"The input migrant ion not in the input structure! Please check it.\")\n",
    "    effec_radii,migrant_radius,migrant_alpha,nei_dises,coordination_list = LocalEnvirCom(stru,migrant)\n",
    "    \n",
    "    atmnet = AtomNetwork.read_from_RemoveMigrantCif(filename, migrant, effec_radii, True)\n",
    "    vornet, edge_centers, fcs, faces = atmnet.perform_voronoi_decomposition(True, ntol)\n",
    "\n",
    "    prefixname = filename.replace(\".cif\",\"\")\n",
    "    prefixname = filename.replace(\"./Li Cifs/\", \"\")\n",
    "    newpath = \"./cavdoutputs/\" + prefixname\n",
    "\n",
    "    # compute the R_T\n",
    "    conn_val = connection_values_list(newpath+\".resex\", vornet)\n",
    "    return conn_val"
   ]
  },
  {
   "cell_type": "code",
   "execution_count": null,
   "metadata": {},
   "outputs": [],
   "source": [
    "cavd_features = []\n",
    "non_working = []\n",
    "for i in tqdm.tqdm(np.arange(0, len(structures_df), 1)):\n",
    "    try:\n",
    "        cavd_features.append(sorted(cavd_calc(\"./Li Cifs CAVD/{}.cif\".format(str(i)), \"Li\")))\n",
    "    except:\n",
    "        cavd_features.append([NaN, NaN, NaN])\n",
    "        non_working.append(i)"
   ]
  },
  {
   "cell_type": "code",
   "execution_count": null,
   "metadata": {},
   "outputs": [],
   "source": [
    "np.save('features/cavd2_{}'.format(mode), cavd_features)"
   ]
  }
 ],
 "metadata": {
  "kernelspec": {
   "display_name": "Python 3 (ipykernel)",
   "language": "python",
   "name": "python3"
  },
  "language_info": {
   "codemirror_mode": {
    "name": "ipython",
    "version": 3
   },
   "file_extension": ".py",
   "mimetype": "text/x-python",
   "name": "python",
   "nbconvert_exporter": "python",
   "pygments_lexer": "ipython3",
   "version": "3.8.5"
  },
  "widgets": {
   "application/vnd.jupyter.widget-state+json": {
    "state": {},
    "version_major": 2,
    "version_minor": 0
   }
  }
 },
 "nbformat": 4,
 "nbformat_minor": 4
}
